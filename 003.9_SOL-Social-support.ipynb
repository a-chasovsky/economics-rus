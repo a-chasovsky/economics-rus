{
 "cells": [
  {
   "cell_type": "code",
   "execution_count": 1,
   "id": "af8b5983-1b4c-4550-9d1b-a4f4b3641416",
   "metadata": {},
   "outputs": [],
   "source": [
    "# run stopwatch\n",
    "from _classes import Stopwatch\n",
    "stopwatch = Stopwatch()\n",
    "start = stopwatch.start()"
   ]
  },
  {
   "cell_type": "markdown",
   "id": "07245510-5cfd-4d43-9cd6-2f05a03079d9",
   "metadata": {
    "jp-MarkdownHeadingCollapsed": true
   },
   "source": [
    "### Load Saved Section if exists"
   ]
  },
  {
   "cell_type": "raw",
   "id": "b4551d58-a98a-4bea-9998-a0472c618067",
   "metadata": {},
   "source": [
    "if os.path.exists(f'sessions/{dir}'):\n",
    "    load_session(dir)\n",
    "else:\n",
    "    print(f\"No such session: 'sessions/{dir}'\")"
   ]
  },
  {
   "cell_type": "markdown",
   "id": "853643a4-78f2-4a38-b580-eee43829f3ae",
   "metadata": {},
   "source": [
    "### Load libraries, functions, palette, theme"
   ]
  },
  {
   "cell_type": "code",
   "execution_count": 2,
   "id": "ef89b002-5327-4ea4-997e-6a5454d283bb",
   "metadata": {},
   "outputs": [],
   "source": [
    "%run _load.ipynb"
   ]
  },
  {
   "cell_type": "code",
   "execution_count": 3,
   "id": "7d4b0445-2d9b-4d52-87fa-ae31842357b1",
   "metadata": {},
   "outputs": [],
   "source": [
    "economics_data = loadit(\n",
    "    'economics_data', 'data/00-Datasets/'\n",
    ")"
   ]
  },
  {
   "cell_type": "code",
   "execution_count": 4,
   "id": "da6383b1-fc5a-4bfe-8d19-0952debff897",
   "metadata": {},
   "outputs": [],
   "source": [
    "dir = '003.9_SOL-Social-support'"
   ]
  },
  {
   "cell_type": "code",
   "execution_count": 5,
   "id": "2baa69de-2209-4397-bb38-fe60cea3f5ae",
   "metadata": {},
   "outputs": [],
   "source": [
    "save_df = 'data/00-Datasets/'"
   ]
  },
  {
   "cell_type": "code",
   "execution_count": 6,
   "id": "a9e45ff6-21fe-4900-ad93-5fb019e3f25a",
   "metadata": {},
   "outputs": [],
   "source": [
    "save_excel = 'data/00-Excel-data/'"
   ]
  },
  {
   "cell_type": "markdown",
   "id": "6f5a876c-86ac-4459-bb7d-59795f6aa71e",
   "metadata": {},
   "source": [
    "# <font color='#2C8B6D'>I. Население</font>"
   ]
  },
  {
   "cell_type": "markdown",
   "id": "8c9fd08c-f782-4803-86d8-6f93a8c0bf88",
   "metadata": {},
   "source": [
    "# Section III. Уровень жизни"
   ]
  },
  {
   "cell_type": "markdown",
   "id": "be265c81-b30e-4bf0-a6b3-f4c8769d6954",
   "metadata": {},
   "source": [
    "## 3. Доходы, расходы и сбережения населения"
   ]
  },
  {
   "cell_type": "markdown",
   "id": "9693331c-3696-4550-87bf-4e4a32f6a587",
   "metadata": {},
   "source": [
    "### 3.9. Объем средств, направленных субъектами Российской Федерации на оказание мер социальной поддержки населения (с учетом средств федерального бюджета) в натуральной форме по субъектам РФ"
   ]
  },
  {
   "cell_type": "markdown",
   "id": "20513fb4-73e1-4be7-8af6-86852d9ef47e",
   "metadata": {},
   "source": [
    "*Источник: https://rosstat.gov.ru/folder/13397*  \n",
    "*Единицы измерения: млрд. руб.*"
   ]
  },
  {
   "cell_type": "markdown",
   "id": "9eb8da06-b5c0-4470-80d2-ca7607352a4d",
   "metadata": {},
   "source": [
    "#### <font color='#007887'>Social support</font>"
   ]
  },
  {
   "cell_type": "markdown",
   "id": "e8fd96eb-0900-4902-9d03-8703ce6a9091",
   "metadata": {},
   "source": [
    "##### Data"
   ]
  },
  {
   "cell_type": "code",
   "execution_count": 7,
   "id": "29ee3a01-1a7f-4a1a-974e-23b3d9e537bd",
   "metadata": {},
   "outputs": [],
   "source": [
    "social_support_link = \\\n",
    "    ('data/02-Population/02-Standard-of-living/01-Income/'\n",
    "     'urov_nat_sub2019-2022g.xlsx')"
   ]
  },
  {
   "cell_type": "code",
   "execution_count": 8,
   "id": "e299a795-e602-43f0-8530-ec27e89c374d",
   "metadata": {},
   "outputs": [],
   "source": [
    "social_support_raw = pd.read_excel(social_support_link)"
   ]
  },
  {
   "cell_type": "code",
   "execution_count": 9,
   "id": "07c072d3-5c49-44bb-9dd3-125372165d63",
   "metadata": {},
   "outputs": [
    {
     "data": {
      "text/html": [
       "<div>\n",
       "<style scoped>\n",
       "    .dataframe tbody tr th:only-of-type {\n",
       "        vertical-align: middle;\n",
       "    }\n",
       "\n",
       "    .dataframe tbody tr th {\n",
       "        vertical-align: top;\n",
       "    }\n",
       "\n",
       "    .dataframe thead th {\n",
       "        text-align: right;\n",
       "    }\n",
       "</style>\n",
       "<table border=\"1\" class=\"dataframe\">\n",
       "  <thead>\n",
       "    <tr style=\"text-align: right;\">\n",
       "      <th></th>\n",
       "      <th>Объем средств, направленных субъектами Российской Федерации на оказание мер социальной поддержки населения (с учетом средств федерального бюджета) в натуральной форме</th>\n",
       "      <th>Unnamed: 1</th>\n",
       "      <th>Unnamed: 2</th>\n",
       "      <th>Unnamed: 3</th>\n",
       "      <th>Unnamed: 4</th>\n",
       "    </tr>\n",
       "  </thead>\n",
       "  <tbody>\n",
       "    <tr>\n",
       "      <th>0</th>\n",
       "      <td>(по данным Федерального казначейства Российско...</td>\n",
       "      <td>NaN</td>\n",
       "      <td>NaN</td>\n",
       "      <td>NaN</td>\n",
       "      <td>NaN</td>\n",
       "    </tr>\n",
       "    <tr>\n",
       "      <th>1</th>\n",
       "      <td>NaN</td>\n",
       "      <td>2019 год</td>\n",
       "      <td>2020 год</td>\n",
       "      <td>2021 год</td>\n",
       "      <td>2022 год</td>\n",
       "    </tr>\n",
       "    <tr>\n",
       "      <th>2</th>\n",
       "      <td>Российская Федеpация</td>\n",
       "      <td>484933722.57066</td>\n",
       "      <td>534830382.30358</td>\n",
       "      <td>569237617.63476</td>\n",
       "      <td>675 859 0171)</td>\n",
       "    </tr>\n",
       "    <tr>\n",
       "      <th>3</th>\n",
       "      <td>Центральный федеральный округ</td>\n",
       "      <td>261567327.95196</td>\n",
       "      <td>301545298.12491</td>\n",
       "      <td>308136691.46111</td>\n",
       "      <td>362473115.3683</td>\n",
       "    </tr>\n",
       "    <tr>\n",
       "      <th>4</th>\n",
       "      <td>Белгородская область</td>\n",
       "      <td>1579609.62838</td>\n",
       "      <td>1569656.18396</td>\n",
       "      <td>1557547.51247</td>\n",
       "      <td>1532479.42704</td>\n",
       "    </tr>\n",
       "    <tr>\n",
       "      <th>5</th>\n",
       "      <td>Брянская область</td>\n",
       "      <td>1594575.40631</td>\n",
       "      <td>2428140.10569</td>\n",
       "      <td>2847782.67029</td>\n",
       "      <td>3611890.25579</td>\n",
       "    </tr>\n",
       "    <tr>\n",
       "      <th>6</th>\n",
       "      <td>Владимирская область</td>\n",
       "      <td>3081179.69186</td>\n",
       "      <td>2929132.87272</td>\n",
       "      <td>3388553.39645</td>\n",
       "      <td>3955571.01388</td>\n",
       "    </tr>\n",
       "    <tr>\n",
       "      <th>7</th>\n",
       "      <td>Воронежская область</td>\n",
       "      <td>2977370.31677</td>\n",
       "      <td>2406550.34433</td>\n",
       "      <td>2647537.04518</td>\n",
       "      <td>2150396.77944</td>\n",
       "    </tr>\n",
       "    <tr>\n",
       "      <th>8</th>\n",
       "      <td>Ивановская область</td>\n",
       "      <td>1063302.38761</td>\n",
       "      <td>898719.20956</td>\n",
       "      <td>899695.94342</td>\n",
       "      <td>1166324.61132</td>\n",
       "    </tr>\n",
       "    <tr>\n",
       "      <th>9</th>\n",
       "      <td>Калужская область</td>\n",
       "      <td>910304.10671</td>\n",
       "      <td>757470.16571</td>\n",
       "      <td>752798.6133</td>\n",
       "      <td>764262.45839</td>\n",
       "    </tr>\n",
       "  </tbody>\n",
       "</table>\n",
       "</div>"
      ],
      "text/plain": [
       "  Объем средств, направленных субъектами Российской Федерации на оказание мер социальной поддержки населения (с учетом средств федерального бюджета) в натуральной форме  \\\n",
       "0  (по данным Федерального казначейства Российско...                                                                                                                       \n",
       "1                                                NaN                                                                                                                       \n",
       "2                               Российская Федеpация                                                                                                                       \n",
       "3                      Центральный федеральный округ                                                                                                                       \n",
       "4                               Белгородская область                                                                                                                       \n",
       "5                                   Брянская область                                                                                                                       \n",
       "6                               Владимирская область                                                                                                                       \n",
       "7                                Воронежская область                                                                                                                       \n",
       "8                                 Ивановская область                                                                                                                       \n",
       "9                                  Калужская область                                                                                                                       \n",
       "\n",
       "        Unnamed: 1       Unnamed: 2       Unnamed: 3      Unnamed: 4  \n",
       "0              NaN              NaN              NaN             NaN  \n",
       "1         2019 год         2020 год         2021 год        2022 год  \n",
       "2  484933722.57066  534830382.30358  569237617.63476   675 859 0171)  \n",
       "3  261567327.95196  301545298.12491  308136691.46111  362473115.3683  \n",
       "4    1579609.62838    1569656.18396    1557547.51247   1532479.42704  \n",
       "5    1594575.40631    2428140.10569    2847782.67029   3611890.25579  \n",
       "6    3081179.69186    2929132.87272    3388553.39645   3955571.01388  \n",
       "7    2977370.31677    2406550.34433    2647537.04518   2150396.77944  \n",
       "8    1063302.38761     898719.20956     899695.94342   1166324.61132  \n",
       "9     910304.10671     757470.16571      752798.6133    764262.45839  "
      ]
     },
     "execution_count": 9,
     "metadata": {},
     "output_type": "execute_result"
    }
   ],
   "source": [
    "social_support_raw.head(10)"
   ]
  },
  {
   "cell_type": "code",
   "execution_count": 10,
   "id": "2d7037a8-69a8-4d08-9fbd-b54a7a295e12",
   "metadata": {},
   "outputs": [
    {
     "data": {
      "text/html": [
       "<div>\n",
       "<style scoped>\n",
       "    .dataframe tbody tr th:only-of-type {\n",
       "        vertical-align: middle;\n",
       "    }\n",
       "\n",
       "    .dataframe tbody tr th {\n",
       "        vertical-align: top;\n",
       "    }\n",
       "\n",
       "    .dataframe thead th {\n",
       "        text-align: right;\n",
       "    }\n",
       "</style>\n",
       "<table border=\"1\" class=\"dataframe\">\n",
       "  <thead>\n",
       "    <tr style=\"text-align: right;\">\n",
       "      <th></th>\n",
       "      <th>Объем средств, направленных субъектами Российской Федерации на оказание мер социальной поддержки населения (с учетом средств федерального бюджета) в натуральной форме</th>\n",
       "      <th>Unnamed: 1</th>\n",
       "      <th>Unnamed: 2</th>\n",
       "      <th>Unnamed: 3</th>\n",
       "      <th>Unnamed: 4</th>\n",
       "    </tr>\n",
       "  </thead>\n",
       "  <tbody>\n",
       "    <tr>\n",
       "      <th>90</th>\n",
       "      <td>Камчатский край</td>\n",
       "      <td>1509058.23604</td>\n",
       "      <td>1513816.00906</td>\n",
       "      <td>1591283.20866</td>\n",
       "      <td>2019280.77491</td>\n",
       "    </tr>\n",
       "    <tr>\n",
       "      <th>91</th>\n",
       "      <td>Приморский край</td>\n",
       "      <td>4171973.17869</td>\n",
       "      <td>4822567.39402</td>\n",
       "      <td>5378480.72157</td>\n",
       "      <td>6248851.09373</td>\n",
       "    </tr>\n",
       "    <tr>\n",
       "      <th>92</th>\n",
       "      <td>Хабаровский край</td>\n",
       "      <td>1161898.61996</td>\n",
       "      <td>2481196.81717</td>\n",
       "      <td>2471818.70781</td>\n",
       "      <td>2745845.72069</td>\n",
       "    </tr>\n",
       "    <tr>\n",
       "      <th>93</th>\n",
       "      <td>Амурская область</td>\n",
       "      <td>1689487.06201</td>\n",
       "      <td>1963174.63883</td>\n",
       "      <td>3235114.07047</td>\n",
       "      <td>4033872.00254</td>\n",
       "    </tr>\n",
       "    <tr>\n",
       "      <th>94</th>\n",
       "      <td>Магаданская область</td>\n",
       "      <td>574540.41268</td>\n",
       "      <td>424790.05946</td>\n",
       "      <td>723684.69128</td>\n",
       "      <td>860696.49828</td>\n",
       "    </tr>\n",
       "    <tr>\n",
       "      <th>95</th>\n",
       "      <td>Сахалинская область</td>\n",
       "      <td>3353242.54578</td>\n",
       "      <td>3191128.38215</td>\n",
       "      <td>3312425.80914</td>\n",
       "      <td>3621262.55375</td>\n",
       "    </tr>\n",
       "    <tr>\n",
       "      <th>96</th>\n",
       "      <td>Еврейская автономная область</td>\n",
       "      <td>576255.22239</td>\n",
       "      <td>684684.0867</td>\n",
       "      <td>427485.0286</td>\n",
       "      <td>440813.82935</td>\n",
       "    </tr>\n",
       "    <tr>\n",
       "      <th>97</th>\n",
       "      <td>Чукотский автономный округ</td>\n",
       "      <td>124614.2703</td>\n",
       "      <td>170721.82256</td>\n",
       "      <td>189428.58561</td>\n",
       "      <td>206786.56234</td>\n",
       "    </tr>\n",
       "    <tr>\n",
       "      <th>98</th>\n",
       "      <td>NaN</td>\n",
       "      <td>NaN</td>\n",
       "      <td>NaN</td>\n",
       "      <td>NaN</td>\n",
       "      <td>NaN</td>\n",
       "    </tr>\n",
       "    <tr>\n",
       "      <th>99</th>\n",
       "      <td>1)Официальная статистическая информация публик...</td>\n",
       "      <td>NaN</td>\n",
       "      <td>NaN</td>\n",
       "      <td>NaN</td>\n",
       "      <td>NaN</td>\n",
       "    </tr>\n",
       "  </tbody>\n",
       "</table>\n",
       "</div>"
      ],
      "text/plain": [
       "   Объем средств, направленных субъектами Российской Федерации на оказание мер социальной поддержки населения (с учетом средств федерального бюджета) в натуральной форме  \\\n",
       "90                                    Камчатский край                                                                                                                       \n",
       "91                                    Приморский край                                                                                                                       \n",
       "92                                   Хабаровский край                                                                                                                       \n",
       "93                                   Амурская область                                                                                                                       \n",
       "94                                Магаданская область                                                                                                                       \n",
       "95                                Сахалинская область                                                                                                                       \n",
       "96                       Еврейская автономная область                                                                                                                       \n",
       "97                         Чукотский автономный округ                                                                                                                       \n",
       "98                                                NaN                                                                                                                       \n",
       "99  1)Официальная статистическая информация публик...                                                                                                                       \n",
       "\n",
       "       Unnamed: 1     Unnamed: 2     Unnamed: 3     Unnamed: 4  \n",
       "90  1509058.23604  1513816.00906  1591283.20866  2019280.77491  \n",
       "91  4171973.17869  4822567.39402  5378480.72157  6248851.09373  \n",
       "92  1161898.61996  2481196.81717  2471818.70781  2745845.72069  \n",
       "93  1689487.06201  1963174.63883  3235114.07047  4033872.00254  \n",
       "94   574540.41268   424790.05946   723684.69128   860696.49828  \n",
       "95  3353242.54578  3191128.38215  3312425.80914  3621262.55375  \n",
       "96   576255.22239    684684.0867    427485.0286   440813.82935  \n",
       "97    124614.2703   170721.82256   189428.58561   206786.56234  \n",
       "98            NaN            NaN            NaN            NaN  \n",
       "99            NaN            NaN            NaN            NaN  "
      ]
     },
     "execution_count": 10,
     "metadata": {},
     "output_type": "execute_result"
    }
   ],
   "source": [
    "social_support_raw.tail(10)"
   ]
  },
  {
   "cell_type": "code",
   "execution_count": 11,
   "id": "0f33220f-7651-41c4-a49f-f2fa4c51d279",
   "metadata": {},
   "outputs": [],
   "source": [
    "social_support = social_support_raw.copy()"
   ]
  },
  {
   "cell_type": "code",
   "execution_count": 12,
   "id": "9c3b027c-9cd0-4703-929a-761e85df2c70",
   "metadata": {},
   "outputs": [],
   "source": [
    "# cut rows\n",
    "social_support = transform_cut_rows(social_support, 1, 2)"
   ]
  },
  {
   "cell_type": "code",
   "execution_count": 13,
   "id": "24aca55a-756c-482f-a734-2a262cf47a2a",
   "metadata": {},
   "outputs": [],
   "source": [
    "social_support.loc[1] = social_support.loc[1].apply(\n",
    "    lambda x: transform_replace(x, ' год', '')).copy()\n",
    "social_support.loc[2] = social_support.loc[2].apply(\n",
    "    lambda x: transform_replace(x, ' ', '')).copy()"
   ]
  },
  {
   "cell_type": "code",
   "execution_count": 14,
   "id": "a9f6154f-ea63-4bd0-87b0-8071d22b7b30",
   "metadata": {},
   "outputs": [],
   "source": [
    "# make header from two rows\n",
    "social_support = transform_make_header_from_rows(social_support, rows_index=[1])"
   ]
  },
  {
   "cell_type": "code",
   "execution_count": 15,
   "id": "1a3630f0-064e-47cb-a2f9-5675fd05b488",
   "metadata": {},
   "outputs": [],
   "source": [
    "social_support.index = social_support.iloc[:, 0]\n",
    "social_support.index.name = None\n",
    "social_support = social_support.drop(social_support.iloc[0].name, axis=0)\n",
    "social_support = social_support.drop(social_support.iloc[:, 0].name, axis=1)"
   ]
  },
  {
   "cell_type": "code",
   "execution_count": 16,
   "id": "d41d0402-3da7-4fda-a93e-daa0ca9889ac",
   "metadata": {},
   "outputs": [],
   "source": [
    "index = social_support.index.tolist()\n",
    "index = [i.rstrip() for i in index]\n",
    "index = [i.lstrip() for i in index]\n",
    "social_support.index = index"
   ]
  },
  {
   "cell_type": "code",
   "execution_count": 17,
   "id": "9e9822dd-e167-4f9d-837a-2fc586b55428",
   "metadata": {},
   "outputs": [],
   "source": [
    "for column in social_support.columns:\n",
    "    social_support[column] = social_support[column].apply(lambda x: str(x).replace('1)', ''))"
   ]
  },
  {
   "cell_type": "code",
   "execution_count": 18,
   "id": "881c9a5c-8f5c-4352-accc-907211332a2a",
   "metadata": {},
   "outputs": [],
   "source": [
    "social_support = social_support.applymap(transform_to_float)\n",
    "social_support = social_support.applymap(transform_round)"
   ]
  },
  {
   "cell_type": "code",
   "execution_count": 19,
   "id": "1bc72a07-dd9a-4418-8584-2ca1bec8f1cd",
   "metadata": {},
   "outputs": [
    {
     "data": {
      "text/html": [
       "<div>\n",
       "<style scoped>\n",
       "    .dataframe tbody tr th:only-of-type {\n",
       "        vertical-align: middle;\n",
       "    }\n",
       "\n",
       "    .dataframe tbody tr th {\n",
       "        vertical-align: top;\n",
       "    }\n",
       "\n",
       "    .dataframe thead tr th {\n",
       "        text-align: left;\n",
       "    }\n",
       "</style>\n",
       "<table border=\"1\" class=\"dataframe\">\n",
       "  <thead>\n",
       "    <tr>\n",
       "      <th></th>\n",
       "      <th>2019</th>\n",
       "      <th>2020</th>\n",
       "      <th>2021</th>\n",
       "      <th>2022</th>\n",
       "    </tr>\n",
       "  </thead>\n",
       "  <tbody>\n",
       "    <tr>\n",
       "      <th>Центральный федеральный округ</th>\n",
       "      <td>261567328.0</td>\n",
       "      <td>301545298.1</td>\n",
       "      <td>308136691.5</td>\n",
       "      <td>362473115.4</td>\n",
       "    </tr>\n",
       "    <tr>\n",
       "      <th>Белгородская область</th>\n",
       "      <td>1579609.6</td>\n",
       "      <td>1569656.2</td>\n",
       "      <td>1557547.5</td>\n",
       "      <td>1532479.4</td>\n",
       "    </tr>\n",
       "    <tr>\n",
       "      <th>Брянская область</th>\n",
       "      <td>1594575.4</td>\n",
       "      <td>2428140.1</td>\n",
       "      <td>2847782.7</td>\n",
       "      <td>3611890.3</td>\n",
       "    </tr>\n",
       "    <tr>\n",
       "      <th>Владимирская область</th>\n",
       "      <td>3081179.7</td>\n",
       "      <td>2929132.9</td>\n",
       "      <td>3388553.4</td>\n",
       "      <td>3955571.0</td>\n",
       "    </tr>\n",
       "    <tr>\n",
       "      <th>Воронежская область</th>\n",
       "      <td>2977370.3</td>\n",
       "      <td>2406550.3</td>\n",
       "      <td>2647537.0</td>\n",
       "      <td>2150396.8</td>\n",
       "    </tr>\n",
       "    <tr>\n",
       "      <th>...</th>\n",
       "      <td>...</td>\n",
       "      <td>...</td>\n",
       "      <td>...</td>\n",
       "      <td>...</td>\n",
       "    </tr>\n",
       "    <tr>\n",
       "      <th>Амурская область</th>\n",
       "      <td>1689487.1</td>\n",
       "      <td>1963174.6</td>\n",
       "      <td>3235114.1</td>\n",
       "      <td>4033872.0</td>\n",
       "    </tr>\n",
       "    <tr>\n",
       "      <th>Магаданская область</th>\n",
       "      <td>574540.4</td>\n",
       "      <td>424790.1</td>\n",
       "      <td>723684.7</td>\n",
       "      <td>860696.5</td>\n",
       "    </tr>\n",
       "    <tr>\n",
       "      <th>Сахалинская область</th>\n",
       "      <td>3353242.5</td>\n",
       "      <td>3191128.4</td>\n",
       "      <td>3312425.8</td>\n",
       "      <td>3621262.6</td>\n",
       "    </tr>\n",
       "    <tr>\n",
       "      <th>Еврейская автономная область</th>\n",
       "      <td>576255.2</td>\n",
       "      <td>684684.1</td>\n",
       "      <td>427485.0</td>\n",
       "      <td>440813.8</td>\n",
       "    </tr>\n",
       "    <tr>\n",
       "      <th>Чукотский автономный округ</th>\n",
       "      <td>124614.3</td>\n",
       "      <td>170721.8</td>\n",
       "      <td>189428.6</td>\n",
       "      <td>206786.6</td>\n",
       "    </tr>\n",
       "  </tbody>\n",
       "</table>\n",
       "<p>95 rows × 4 columns</p>\n",
       "</div>"
      ],
      "text/plain": [
       "                                      2019         2020         2021  \\\n",
       "Центральный федеральный округ  261567328.0  301545298.1  308136691.5   \n",
       "Белгородская область             1579609.6    1569656.2    1557547.5   \n",
       "Брянская область                 1594575.4    2428140.1    2847782.7   \n",
       "Владимирская область             3081179.7    2929132.9    3388553.4   \n",
       "Воронежская область              2977370.3    2406550.3    2647537.0   \n",
       "...                                    ...          ...          ...   \n",
       "Амурская область                 1689487.1    1963174.6    3235114.1   \n",
       "Магаданская область               574540.4     424790.1     723684.7   \n",
       "Сахалинская область              3353242.5    3191128.4    3312425.8   \n",
       "Еврейская автономная область      576255.2     684684.1     427485.0   \n",
       "Чукотский автономный округ        124614.3     170721.8     189428.6   \n",
       "\n",
       "                                      2022  \n",
       "Центральный федеральный округ  362473115.4  \n",
       "Белгородская область             1532479.4  \n",
       "Брянская область                 3611890.3  \n",
       "Владимирская область             3955571.0  \n",
       "Воронежская область              2150396.8  \n",
       "...                                    ...  \n",
       "Амурская область                 4033872.0  \n",
       "Магаданская область               860696.5  \n",
       "Сахалинская область              3621262.6  \n",
       "Еврейская автономная область      440813.8  \n",
       "Чукотский автономный округ        206786.6  \n",
       "\n",
       "[95 rows x 4 columns]"
      ]
     },
     "execution_count": 19,
     "metadata": {},
     "output_type": "execute_result"
    }
   ],
   "source": [
    "social_support"
   ]
  },
  {
   "cell_type": "markdown",
   "id": "76327d79-313e-441b-b0d2-0969b201bf5e",
   "metadata": {},
   "source": [
    "##### <font color='#AF4035'> Export Dataset to Excel"
   ]
  },
  {
   "cell_type": "code",
   "execution_count": 20,
   "id": "ad0d07af-1c77-4373-93a6-5d5ebfa99263",
   "metadata": {},
   "outputs": [
    {
     "name": "stdout",
     "output_type": "stream",
     "text": [
      "'Социальная поддержка' sheet created if file '01020104-SOL-Social-support.xlsx'\n"
     ]
    }
   ],
   "source": [
    "saveit_excel(\n",
    "    data=social_support,\n",
    "    filename=dir,\n",
    "    path=save_excel,\n",
    "    sheet='Социальная поддержка'\n",
    ")"
   ]
  },
  {
   "cell_type": "markdown",
   "id": "b02f1ce1-e24b-4aa8-8105-cf13bb5e9eba",
   "metadata": {},
   "source": [
    "### Save Dataset"
   ]
  },
  {
   "cell_type": "code",
   "execution_count": 21,
   "id": "a7b92546-27d5-4b42-aa66-749e9f2280bf",
   "metadata": {},
   "outputs": [],
   "source": [
    "economics_data['3.9'] = social_support"
   ]
  },
  {
   "cell_type": "code",
   "execution_count": 22,
   "id": "07b2d675-cbb5-4561-b5b0-f274ffff58f5",
   "metadata": {},
   "outputs": [
    {
     "name": "stdout",
     "output_type": "stream",
     "text": [
      "File 'economics_data' saved in directory 'data/00-Datasets/'\n"
     ]
    }
   ],
   "source": [
    "saveit(\n",
    "    file=economics_data,\n",
    "    name='economics_data',\n",
    "    dir=save_df\n",
    ")"
   ]
  },
  {
   "cell_type": "markdown",
   "id": "fa041acc-5e14-4d61-9520-5f9d25023e1f",
   "metadata": {},
   "source": [
    "### Save Session"
   ]
  },
  {
   "cell_type": "code",
   "execution_count": 23,
   "id": "1d597229-9d48-49c4-be34-b8cae2ac69b3",
   "metadata": {},
   "outputs": [],
   "source": [
    "save_session(dir)"
   ]
  },
  {
   "cell_type": "markdown",
   "id": "f1c3bc65-251a-40a3-9a17-1ff79fd6f93a",
   "metadata": {},
   "source": [
    "### Execution time"
   ]
  },
  {
   "cell_type": "code",
   "execution_count": 24,
   "id": "073c7a54-d111-4758-84a6-ba46b66484b6",
   "metadata": {},
   "outputs": [
    {
     "name": "stdout",
     "output_type": "stream",
     "text": [
      "Execution time: 0:00:12\n"
     ]
    }
   ],
   "source": [
    "print(f'Execution time: {stopwatch.stop(start)}')"
   ]
  }
 ],
 "metadata": {
  "kernelspec": {
   "display_name": "venv_pers_economics_rus",
   "language": "python",
   "name": "venv_pers_economics_rus"
  },
  "language_info": {
   "codemirror_mode": {
    "name": "ipython",
    "version": 3
   },
   "file_extension": ".py",
   "mimetype": "text/x-python",
   "name": "python",
   "nbconvert_exporter": "python",
   "pygments_lexer": "ipython3",
   "version": "3.12.1"
  }
 },
 "nbformat": 4,
 "nbformat_minor": 5
}
