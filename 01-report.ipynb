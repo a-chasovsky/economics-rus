{
 "cells": [
  {
   "cell_type": "markdown",
   "id": "e90d8652-266e-4de5-9330-13356b4e55c4",
   "metadata": {},
   "source": [
    "### Load libraries, functions, palette, theme, etc."
   ]
  },
  {
   "cell_type": "code",
   "execution_count": 1,
   "id": "fc5ad26b-4afb-429f-8659-8860ce6fdb9b",
   "metadata": {},
   "outputs": [],
   "source": [
    "# load functions\n",
    "from _functions import *"
   ]
  },
  {
   "cell_type": "code",
   "execution_count": 225,
   "id": "a5fb8c27-12e5-41e6-959b-36070f794d4e",
   "metadata": {},
   "outputs": [],
   "source": [
    "# load libraries and palette\n",
    "%run _libraries.ipynb"
   ]
  },
  {
   "cell_type": "code",
   "execution_count": 3,
   "id": "0365a07d-0dc7-4283-8732-d43d075bcfd8",
   "metadata": {},
   "outputs": [],
   "source": [
    "# load regions data\n",
    "path_main = path_current_get()\n",
    "path_regions_data = path_main + '/files/03-Regions-data'\n",
    "\n",
    "path_change(path_regions_data)\n",
    "%run _regions_data.ipynb\n",
    "path_change(path_main)"
   ]
  },
  {
   "cell_type": "code",
   "execution_count": 4,
   "id": "543b5662-a16a-40b3-923a-82de9030385e",
   "metadata": {},
   "outputs": [],
   "source": [
    "# start stopwatch\n",
    "start = stopwatch_start()"
   ]
  },
  {
   "cell_type": "markdown",
   "id": "751f6da4-09c4-4177-9cda-238d14baae09",
   "metadata": {},
   "source": [
    "### Variables"
   ]
  },
  {
   "cell_type": "code",
   "execution_count": 5,
   "id": "f9f57115-08bf-4ae4-bf95-e029ed282658",
   "metadata": {},
   "outputs": [],
   "source": [
    "path_load_files = 'files/01-Datasets/'"
   ]
  },
  {
   "cell_type": "code",
   "execution_count": 6,
   "id": "88f78c3d-cce0-46cb-9960-78cdefb6b0ab",
   "metadata": {},
   "outputs": [],
   "source": [
    "path_save_img = 'docs/img/'"
   ]
  },
  {
   "cell_type": "code",
   "execution_count": 7,
   "id": "29b888f9-7b3e-4155-9555-6b65e8082b23",
   "metadata": {},
   "outputs": [],
   "source": [
    "path_notebooks = 'notebooks'"
   ]
  },
  {
   "cell_type": "code",
   "execution_count": 8,
   "id": "7c4e2c2e-800f-44c8-b6c7-54afa487d6c0",
   "metadata": {},
   "outputs": [],
   "source": [
    "time_range = [dt.date(2021, 1, 1), dt.date(2024, 4, 1)]"
   ]
  },
  {
   "cell_type": "markdown",
   "id": "e7fc7d20-7b22-4108-a967-b72e678b5e30",
   "metadata": {},
   "source": [
    "### Load Data"
   ]
  },
  {
   "cell_type": "code",
   "execution_count": 9,
   "id": "3400b855-c10d-484f-8678-2c76e0e69f7f",
   "metadata": {},
   "outputs": [],
   "source": [
    "economics_data = loadit('economics_data', dir=path_load_files)"
   ]
  },
  {
   "cell_type": "markdown",
   "id": "34d68203-46c5-44a8-bfa8-a70e464d6601",
   "metadata": {},
   "source": [
    "## Потребительские цены"
   ]
  },
  {
   "cell_type": "markdown",
   "id": "f5d2beee-7da8-42ff-b8f6-831db21ceeeb",
   "metadata": {},
   "source": [
    "### Обновить данные"
   ]
  },
  {
   "cell_type": "raw",
   "id": "90c533cc-b562-4306-8aaf-e616ad8d09c0",
   "metadata": {},
   "source": [
    "# run files with data export\n",
    "\n",
    "start_data_update = stopwatch_start()\n",
    "\n",
    "current_path = os.getcwd()\n",
    "os.chdir(path_notebooks)\n",
    "\n",
    "%run 009.1-009.3_PI-Consumers-Prices.ipynb\n",
    "%run 010.1-010.4_PI-Agriculture-Prices.ipynb\n",
    "\n",
    "os.chdir(current_path)\n",
    "\n",
    "stopwatch_stop(start_data_update)"
   ]
  },
  {
   "cell_type": "markdown",
   "id": "fd621caa-616f-4311-9048-d9326b56c49d",
   "metadata": {},
   "source": [
    "### Сравнение цен производителей и потребительских цен на некоторые виды товаров 2021-2023"
   ]
  },
  {
   "cell_type": "code",
   "execution_count": 10,
   "id": "ab0c16ba-40b5-44d3-832e-cbb3086972ff",
   "metadata": {},
   "outputs": [],
   "source": [
    "prices_food_types = [\n",
    "    'горох сушеный', 'гречиха', 'зерновые и зернобобовые культуры',\n",
    "    'капуста всех сортов', 'картофель', 'крупный рогатый скот', 'кукуруза',\n",
    "    'культуры зерновые', 'лук репчатый', 'молоко сырое крупного рогатого скота',\n",
    "    'морковь столовая', 'овес', 'овощи', 'огурцы', 'птица сельскохозяйственная живая',\n",
    "    'пшеница', 'пшеница твердая', 'рис нешелушеный', 'рожь', 'свекла столовая',\n",
    "    'свиньи', 'семена подсолнечника', 'томаты (помидоры)', 'яйца куриные в скорлупе свежие'\n",
    "]"
   ]
  },
  {
   "cell_type": "code",
   "execution_count": 11,
   "id": "f1230bb0-df31-4558-ba9f-36e27d9364ff",
   "metadata": {},
   "outputs": [],
   "source": [
    "prices_food_2021 = economics_data['10.2'].copy()\n",
    "prices_food_2022 = economics_data['10.3'].copy()\n",
    "prices_food_2023 = economics_data['10.4'].copy()\n",
    "prices_food_2024 = economics_data['13.01'].copy()"
   ]
  },
  {
   "cell_type": "code",
   "execution_count": 12,
   "id": "b7362e94-6fba-40c7-b40a-6447538585b0",
   "metadata": {},
   "outputs": [],
   "source": [
    "prices_food_2021_consumers = economics_data['9.1'].copy()\n",
    "prices_food_2022_consumers = economics_data['9.2'].copy()\n",
    "prices_food_2023_consumers = economics_data['9.3'].copy()\n",
    "prices_food_2024_consumers = economics_data['13.02'].copy()"
   ]
  },
  {
   "cell_type": "markdown",
   "id": "26b1600f-bee6-4bce-8114-e0ed5610ad7b",
   "metadata": {},
   "source": [
    "#### Пшеница и хлеб"
   ]
  },
  {
   "cell_type": "code",
   "execution_count": 13,
   "id": "270ba07c-9795-45cb-ac30-27c15940334a",
   "metadata": {},
   "outputs": [],
   "source": [
    "wheat_2021 = prices_food_2021['пшеница'].copy()\n",
    "wheat_2022 = prices_food_2022['пшеница'].copy()\n",
    "wheat_2023 = prices_food_2023['пшеница'].copy()\n",
    "wheat_2024 = prices_food_2024['пшеница'].copy()"
   ]
  },
  {
   "cell_type": "code",
   "execution_count": 14,
   "id": "8296aa1f-c716-4d44-9ac3-dd6089ceb2a4",
   "metadata": {},
   "outputs": [],
   "source": [
    "wheat = pd.concat([\n",
    "    wheat_2021, wheat_2022, wheat_2023, wheat_2024], axis=0)"
   ]
  },
  {
   "cell_type": "code",
   "execution_count": 15,
   "id": "d264847c-f8eb-48de-a338-ab65888d3cf8",
   "metadata": {},
   "outputs": [],
   "source": [
    "# from tonns to kilogramms\n",
    "wheat = 0.001 * wheat"
   ]
  },
  {
   "cell_type": "code",
   "execution_count": 16,
   "id": "5382b75b-9701-4e9a-a98b-3f0ed84f53eb",
   "metadata": {},
   "outputs": [],
   "source": [
    "# transform indexes to datetime\n",
    "wheat.index = [to_date(x) for x in wheat.index]"
   ]
  },
  {
   "cell_type": "code",
   "execution_count": 17,
   "id": "d02d2934-224b-41f1-afd0-8939a7685fda",
   "metadata": {},
   "outputs": [
    {
     "data": {
      "text/plain": [
       "2023-11-01    10.3990\n",
       "2023-12-01    10.2950\n",
       "2024-01-01    10.3767\n",
       "2024-02-01    10.4707\n",
       "2024-03-01    10.3388\n",
       "Name: пшеница, dtype: float64"
      ]
     },
     "execution_count": 17,
     "metadata": {},
     "output_type": "execute_result"
    }
   ],
   "source": [
    "wheat.tail()"
   ]
  },
  {
   "cell_type": "code",
   "execution_count": 18,
   "id": "28fadd40-19ca-4aca-9226-978967e827a8",
   "metadata": {},
   "outputs": [],
   "source": [
    "wheat_durum_2021 = prices_food_2021['пшеница твердая'].copy()\n",
    "wheat_durum_2022 = prices_food_2022['пшеница твердая'].copy()\n",
    "wheat_durum_2023 = prices_food_2023['пшеница твердая'].copy()"
   ]
  },
  {
   "cell_type": "code",
   "execution_count": 19,
   "id": "a57a0428-9643-452e-a881-580bc8158a6e",
   "metadata": {},
   "outputs": [],
   "source": [
    "wheat_durum = pd.concat([\n",
    "    wheat_durum_2021, wheat_durum_2022, wheat_durum_2023], axis=0)"
   ]
  },
  {
   "cell_type": "code",
   "execution_count": 20,
   "id": "333c1df8-588b-469d-a5c0-443de0c1b093",
   "metadata": {},
   "outputs": [],
   "source": [
    "# from tonns to kilogramms\n",
    "wheat_durum = 0.001 * wheat_durum"
   ]
  },
  {
   "cell_type": "code",
   "execution_count": 21,
   "id": "6f3cc050-1ce4-481d-a295-acbfd0e88697",
   "metadata": {},
   "outputs": [],
   "source": [
    "# transform indexes to datetime\n",
    "wheat_durum.index = [to_date(x) for x in wheat_durum.index]"
   ]
  },
  {
   "cell_type": "code",
   "execution_count": 22,
   "id": "7632f248-a799-44ad-b3e2-5721a505a317",
   "metadata": {},
   "outputs": [
    {
     "data": {
      "text/plain": [
       "2023-08-01    15.217\n",
       "2023-09-01    17.786\n",
       "2023-10-01    17.366\n",
       "2023-11-01    19.267\n",
       "2023-12-01    21.866\n",
       "Name: пшеница твердая, dtype: float64"
      ]
     },
     "execution_count": 22,
     "metadata": {},
     "output_type": "execute_result"
    }
   ],
   "source": [
    "wheat_durum.tail()"
   ]
  },
  {
   "cell_type": "code",
   "execution_count": 23,
   "id": "2bc60a82-0d2b-43f3-87a1-cffebabcf997",
   "metadata": {},
   "outputs": [],
   "source": [
    "wheat_other_2021 = prices_food_2021['пшеница, кроме твердой пшеницы'].copy()\n",
    "wheat_other_2022 = prices_food_2022['пшеница, кроме твердой пшеницы'].copy()\n",
    "wheat_other_2023 = prices_food_2023['пшеница, кроме твердой пшеницы'].copy()"
   ]
  },
  {
   "cell_type": "code",
   "execution_count": 24,
   "id": "18b165de-ae94-44b8-9aee-7a48abeb127f",
   "metadata": {},
   "outputs": [],
   "source": [
    "wheat_other = pd.concat([\n",
    "    wheat_2021, wheat_2022, wheat_2023], axis=0)"
   ]
  },
  {
   "cell_type": "code",
   "execution_count": 25,
   "id": "acc7b189-57f8-4fd3-88c9-8483385a6698",
   "metadata": {},
   "outputs": [],
   "source": [
    "# from tonns to kilogramms\n",
    "wheat_other = 0.001 * wheat_other"
   ]
  },
  {
   "cell_type": "code",
   "execution_count": 26,
   "id": "29ad37b4-5ae2-4626-894c-0d91d9467fd6",
   "metadata": {},
   "outputs": [],
   "source": [
    "# transform indexes to datetime\n",
    "wheat_other.index = [to_date(x) for x in wheat_other.index]"
   ]
  },
  {
   "cell_type": "code",
   "execution_count": 27,
   "id": "0d436dbe-0b2f-4b83-9382-8c09a92f2ff3",
   "metadata": {},
   "outputs": [
    {
     "data": {
      "text/plain": [
       "2023-08-01    11.411\n",
       "2023-09-01    11.063\n",
       "2023-10-01    10.885\n",
       "2023-11-01    10.399\n",
       "2023-12-01    10.295\n",
       "Name: пшеница, dtype: float64"
      ]
     },
     "execution_count": 27,
     "metadata": {},
     "output_type": "execute_result"
    }
   ],
   "source": [
    "wheat_other.tail()"
   ]
  },
  {
   "cell_type": "markdown",
   "id": "8946d4df-7533-43eb-9a7b-a206303f2da0",
   "metadata": {},
   "source": [
    "В 2022 году изменена номенклатура для хлеба.  \n",
    "\n",
    "В 2021:\n",
    "- хлеб и булочные изделия из пшеничной муки 1 и 2 сортов, кг\n",
    "- хлеб и булочные изделия из пшеничной муки высшего сорта, кг\n",
    "\n",
    "\n",
    "В 2022:\n",
    "- хлеб и булочные изделия из пшеничной муки различных сортов, кг\n",
    "\n",
    "В конечном итоге, цена для 2021 года считается как средняя от  'хлеб и булочные изделия из пшеничной муки 1 и 2 сортов, кг' \n",
    "и 'хлеб и булочные изделия из пшеничной муки высшего сорта, кг'. На графике цена за 2021 год обозначены светлым тоном."
   ]
  },
  {
   "cell_type": "code",
   "execution_count": 28,
   "id": "28a1a39b-39da-476b-b8c2-5672a003f9e5",
   "metadata": {},
   "outputs": [],
   "source": [
    "bread_2021 = pd.concat(\n",
    "    [prices_food_2021_consumers['хлеб и булочные изделия из пшеничной муки 1 и 2 сортов, кг'],\n",
    "    prices_food_2021_consumers['хлеб и булочные изделия из пшеничной муки высшего сорта, кг']],\n",
    "    axis=1\n",
    ")\n",
    "bread_2021 = bread_2021.mean(axis=1)"
   ]
  },
  {
   "cell_type": "code",
   "execution_count": 29,
   "id": "5709bfa4-ac58-4f8c-aee7-d2e1da6089fb",
   "metadata": {},
   "outputs": [
    {
     "data": {
      "text/plain": [
       "August 2021        73.14\n",
       "September 2021     73.55\n",
       "October 2021      74.695\n",
       "November 2021      76.23\n",
       "December 2021      77.24\n",
       "dtype: object"
      ]
     },
     "execution_count": 29,
     "metadata": {},
     "output_type": "execute_result"
    }
   ],
   "source": [
    "bread_2021.tail()"
   ]
  },
  {
   "cell_type": "code",
   "execution_count": 30,
   "id": "200915f3-1fe1-4576-bc9a-9ea4f4948a65",
   "metadata": {},
   "outputs": [],
   "source": [
    "bread_2022 = prices_food_2022_consumers['хлеб и булочные изделия из пшеничной муки различных сортов, кг'].copy()\n",
    "bread_2023 = prices_food_2023_consumers['хлеб и булочные изделия из пшеничной муки различных сортов, кг'].copy()\n",
    "bread_2024 = prices_food_2024_consumers['хлеб и булочные изделия из пшеничной муки различных сортов, кг'].copy()"
   ]
  },
  {
   "cell_type": "code",
   "execution_count": 31,
   "id": "21343393-9376-471f-b819-78ce0518e30e",
   "metadata": {},
   "outputs": [
    {
     "data": {
      "text/plain": [
       "August 2022       84.83\n",
       "September 2022    85.07\n",
       "October 2022      85.08\n",
       "November 2022     85.05\n",
       "December 2022     85.21\n",
       "Name: хлеб и булочные изделия из пшеничной муки различных сортов, кг, dtype: float64"
      ]
     },
     "execution_count": 31,
     "metadata": {},
     "output_type": "execute_result"
    }
   ],
   "source": [
    "bread_2022.tail()"
   ]
  },
  {
   "cell_type": "code",
   "execution_count": 32,
   "id": "e0391c92-380a-4ba3-ae5c-7956a1423bd1",
   "metadata": {},
   "outputs": [
    {
     "data": {
      "text/plain": [
       "August 2023       86.31\n",
       "September 2023    87.22\n",
       "October 2023      88.65\n",
       "November 2023     90.09\n",
       "December 2023     90.76\n",
       "Name: хлеб и булочные изделия из пшеничной муки различных сортов, кг, dtype: float64"
      ]
     },
     "execution_count": 32,
     "metadata": {},
     "output_type": "execute_result"
    }
   ],
   "source": [
    "bread_2023.tail()"
   ]
  },
  {
   "cell_type": "code",
   "execution_count": 33,
   "id": "2decd2e9-5b5d-4c13-a0c0-4ee5ac72e241",
   "metadata": {},
   "outputs": [
    {
     "data": {
      "text/plain": [
       "January 2024     92.03\n",
       "February 2024    92.41\n",
       "March 2024       92.63\n",
       "April 2024       93.77\n",
       "Name: хлеб и булочные изделия из пшеничной муки различных сортов, кг, dtype: float64"
      ]
     },
     "execution_count": 33,
     "metadata": {},
     "output_type": "execute_result"
    }
   ],
   "source": [
    "bread_2024.tail()"
   ]
  },
  {
   "cell_type": "code",
   "execution_count": 34,
   "id": "57c5e2c6-4058-4a6e-b254-9c51cb145336",
   "metadata": {},
   "outputs": [],
   "source": [
    "bread = pd.concat([\n",
    "    bread_2021, bread_2022, bread_2023, bread_2024], axis=0)"
   ]
  },
  {
   "cell_type": "code",
   "execution_count": 35,
   "id": "090a68b0-7850-4caf-9871-9b65870c4610",
   "metadata": {},
   "outputs": [],
   "source": [
    "# transform indexes to datetime\n",
    "bread.index = [to_date(x) for x in bread.index]"
   ]
  },
  {
   "cell_type": "code",
   "execution_count": 36,
   "id": "fdb88ed4-16fb-4e82-97d0-2e939618c281",
   "metadata": {},
   "outputs": [
    {
     "data": {
      "text/plain": [
       "2023-12-01    90.76\n",
       "2024-01-01    92.03\n",
       "2024-02-01    92.41\n",
       "2024-03-01    92.63\n",
       "2024-04-01    93.77\n",
       "dtype: object"
      ]
     },
     "execution_count": 36,
     "metadata": {},
     "output_type": "execute_result"
    }
   ],
   "source": [
    "bread.tail()"
   ]
  },
  {
   "cell_type": "code",
   "execution_count": 229,
   "id": "4c6ad8da-bacb-4cc0-ab88-3606ce352c5e",
   "metadata": {},
   "outputs": [
    {
     "data": {
      "image/png": "[encoded data removed]",
      "text/plain": [
       "<Figure size 900x250 with 1 Axes>"
      ]
     },
     "metadata": {},
     "output_type": "display_data"
    },
    {
     "name": "stdout",
     "output_type": "stream",
     "text": [
      "Images 'price-bread.png' and 'price-bread.svg' successfully saved into 'docs/img/' directory\n"
     ]
    }
   ],
   "source": [
    "fig = plt.figure()\n",
    "\n",
    "plt.plot(\n",
    "    smoothed(normalized_by_first(bread), datetime_index=True),\n",
    "    color=alpha_color(palette[6], 1),\n",
    "    label='Цена хлеба')\n",
    "plt.plot(\n",
    "    smoothed(normalized_by_first(wheat), datetime_index=True),\n",
    "    ls='--', color=palette[0], label='Цена пшеницы')\n",
    "plot_hline(1)\n",
    "\n",
    "ax = ax_current()\n",
    "ax_ = axis_secondary(pad=25, label_color='#808080')\n",
    "\n",
    "ax.set_xlim(time_range)\n",
    "ax.legend(**legend_inline(), handlelength=1.35)\n",
    "ax.xaxis.set_major_formatter(mpl.dates.DateFormatter(fmt='%b'))\n",
    "ax.xaxis.set_major_locator(mpl.dates.MonthLocator([1, 4, 7, 10]))\n",
    "ax_.xaxis.set_major_formatter(mpl.dates.DateFormatter(fmt='%Y'))\n",
    "ax_.xaxis.set_major_locator(mpl.dates.MonthLocator(1))\n",
    "axis_rstyle(\n",
    "    spines_color='#CCCCCC',\n",
    "    ticks_color='#CCCCCC',\n",
    "    ticklabels_color='#808080',\n",
    "    offset_bottom=5, offset_left=5, grid=True)\n",
    "axis_translate_months()\n",
    "# axis_dates_capitalize()\n",
    "plt.show()\n",
    "\n",
    "savefig('price-bread', dir=path_save_img, figure=fig, dpi=100)"
   ]
  },
  {
   "cell_type": "code",
   "execution_count": 38,
   "id": "2bc294ec-a072-4c74-8bd9-299f6e5e5d5e",
   "metadata": {},
   "outputs": [],
   "source": [
    "set_location()"
   ]
  },
  {
   "cell_type": "markdown",
   "id": "5e455de3-deb2-4508-ab64-206fbf9b666d",
   "metadata": {},
   "source": [
    "#### Структура цены хлеба"
   ]
  },
  {
   "cell_type": "code",
   "execution_count": 39,
   "id": "a7506ba9-0546-4df3-9b75-4f1346085d10",
   "metadata": {},
   "outputs": [],
   "source": [
    "bread_structure = {\n",
    "    'сырье': 24.97,\n",
    "    'расходы на производство': 27.34,\n",
    "    'коммерческие расходы': 7.60,\n",
    "    'прибыль предприятий, осуществляющих производство': 11.88,\n",
    "    'НДС предприятий, осуществляющих производство': 7.19,\n",
    "    'другие виды налогов': 0.03,\n",
    "    'плата за доставку продукции (товара) покупателям': 0.76,\n",
    "    'надбавка розничной торговли': 13.57,\n",
    "    'НДС организациий розничной торговли': 6.66\n",
    "}"
   ]
  },
  {
   "cell_type": "code",
   "execution_count": 40,
   "id": "0390b0d7-c3d1-406c-8d91-1f43b89e8321",
   "metadata": {},
   "outputs": [
    {
     "data": {
      "text/plain": [
       "100.0"
      ]
     },
     "execution_count": 40,
     "metadata": {},
     "output_type": "execute_result"
    }
   ],
   "source": [
    "sum(list(bread_structure.values()))"
   ]
  },
  {
   "cell_type": "code",
   "execution_count": 41,
   "id": "7af8a113-2a14-4de4-97ab-ae6ead2f4658",
   "metadata": {},
   "outputs": [],
   "source": [
    "bread_structure_df = pd.DataFrame([bread_structure])"
   ]
  },
  {
   "cell_type": "code",
   "execution_count": 42,
   "id": "7361ed4b-9edf-4a33-887e-6df3420b8472",
   "metadata": {},
   "outputs": [
    {
     "data": {
      "text/html": [
       "<div>\n",
       "<style scoped>\n",
       "    .dataframe tbody tr th:only-of-type {\n",
       "        vertical-align: middle;\n",
       "    }\n",
       "\n",
       "    .dataframe tbody tr th {\n",
       "        vertical-align: top;\n",
       "    }\n",
       "\n",
       "    .dataframe thead th {\n",
       "        text-align: right;\n",
       "    }\n",
       "</style>\n",
       "<table border=\"1\" class=\"dataframe\">\n",
       "  <thead>\n",
       "    <tr style=\"text-align: right;\">\n",
       "      <th></th>\n",
       "      <th>сырье</th>\n",
       "      <th>расходы на производство</th>\n",
       "      <th>коммерческие расходы</th>\n",
       "      <th>прибыль предприятий, осуществляющих производство</th>\n",
       "      <th>НДС предприятий, осуществляющих производство</th>\n",
       "      <th>другие виды налогов</th>\n",
       "      <th>плата за доставку продукции (товара) покупателям</th>\n",
       "      <th>надбавка розничной торговли</th>\n",
       "      <th>НДС организациий розничной торговли</th>\n",
       "    </tr>\n",
       "  </thead>\n",
       "  <tbody>\n",
       "    <tr>\n",
       "      <th>0</th>\n",
       "      <td>24.97</td>\n",
       "      <td>27.34</td>\n",
       "      <td>7.6</td>\n",
       "      <td>11.88</td>\n",
       "      <td>7.19</td>\n",
       "      <td>0.03</td>\n",
       "      <td>0.76</td>\n",
       "      <td>13.57</td>\n",
       "      <td>6.66</td>\n",
       "    </tr>\n",
       "  </tbody>\n",
       "</table>\n",
       "</div>"
      ],
      "text/plain": [
       "   сырье  расходы на производство  коммерческие расходы  \\\n",
       "0  24.97                    27.34                   7.6   \n",
       "\n",
       "   прибыль предприятий, осуществляющих производство  \\\n",
       "0                                             11.88   \n",
       "\n",
       "   НДС предприятий, осуществляющих производство  другие виды налогов  \\\n",
       "0                                          7.19                 0.03   \n",
       "\n",
       "   плата за доставку продукции (товара) покупателям  \\\n",
       "0                                              0.76   \n",
       "\n",
       "   надбавка розничной торговли  НДС организациий розничной торговли  \n",
       "0                        13.57                                 6.66  "
      ]
     },
     "execution_count": 42,
     "metadata": {},
     "output_type": "execute_result"
    }
   ],
   "source": [
    "bread_structure_df"
   ]
  },
  {
   "cell_type": "code",
   "execution_count": 43,
   "id": "d772ff52-d66c-4f64-8155-4e46679d3088",
   "metadata": {},
   "outputs": [
    {
     "data": {
      "image/png": "[encoded data removed]",
      "text/plain": [
       "<Figure size 900x50 with 1 Axes>"
      ]
     },
     "metadata": {},
     "output_type": "display_data"
    },
    {
     "name": "stdout",
     "output_type": "stream",
     "text": [
      "Images 'price-bread-structure.png' and 'price-bread-structure.svg' successfully saved into 'docs/img/' directory\n"
     ]
    }
   ],
   "source": [
    "columns_list = bread_structure_df.columns.tolist()\n",
    "xticks = list(bread_structure.values())\n",
    "xticks_cum = list(np.cumsum(xticks) - xticks)\n",
    "xticks_cum.append(100)\n",
    "xticks_labels = [str(int(round(x, 0))) + ' %' for x in xticks_cum]\n",
    "xticks_labels[6:8] = ' ' * 2\n",
    "xticks_labels[0] = '0'\n",
    "\n",
    "fig = plt.figure(figsize=(9, 0.5))\n",
    "\n",
    "zip_ = (columns_list, range(len(columns_list)))\n",
    "for column, color in zip(*zip_):\n",
    "    iloc_column = columns_list.index(column)\n",
    "    previous_values_sum = bread_structure_df.iloc[:, :iloc_column].sum(axis=1)\n",
    "    current_value = bread_structure_df[column].item()\n",
    "    plt.barh(\n",
    "        y=0.5, width=current_value, left=previous_values_sum,\n",
    "        height=0.75, color=palette[color],\n",
    "        label=column)\n",
    "\n",
    "plt.xticks(xticks_cum, labels=xticks_labels, weight='medium', color=palette[-5])\n",
    "plt.legend(\n",
    "    loc='upper left', bbox_to_anchor=(0, -0.5),\n",
    "    frameon=False, ncols=2, prop={'weight': 'normal', 'style': 'italic'})\n",
    "plt.ylim(0, 1)\n",
    "plt.yticks([])\n",
    "plt.gca().xaxis.tick_top()\n",
    "plt.gca().spines[['bottom']].set_visible(False)\n",
    "plt.title('Структура цены хлеба (%)', pad=25, color='#404040')\n",
    "plt.show()\n",
    "\n",
    "savefig('price-bread-structure', dir=path_save_img, figure=fig, dpi=100)"
   ]
  },
  {
   "cell_type": "raw",
   "id": "e33fcc24-c645-43c7-bb4c-526fe956e376",
   "metadata": {},
   "source": [
    "set_location()"
   ]
  },
  {
   "cell_type": "code",
   "execution_count": 44,
   "id": "da1d2ab9-5b8c-4731-8199-7327f0864b05",
   "metadata": {},
   "outputs": [
    {
     "data": {
      "image/png": "[encoded data removed]",
      "text/plain": [
       "<Figure size 900x50 with 1 Axes>"
      ]
     },
     "metadata": {},
     "output_type": "display_data"
    },
    {
     "name": "stdout",
     "output_type": "stream",
     "text": [
      "Images 'price-bread-structure-tax.png' and 'price-bread-structure-tax.svg' successfully saved into 'docs/img/' directory\n"
     ]
    }
   ],
   "source": [
    "columns_list = bread_structure_df.columns.tolist()\n",
    "xticks = list(bread_structure.values())\n",
    "xticks_cum = list(np.cumsum(xticks) - xticks)\n",
    "xticks_cum.append(100)\n",
    "xticks_labels = [str(int(round(x, 0))) + ' %' for x in xticks_cum]\n",
    "xticks_labels[6:8] = ' ' * 2\n",
    "xticks_labels[0] = '0'\n",
    "\n",
    "fig = plt.figure(figsize=(9, 0.5))\n",
    "\n",
    "zip_ = (columns_list, range(len(columns_list)))\n",
    "for column, color in zip(*zip_):\n",
    "    if column in [\n",
    "        'НДС предприятий, осуществляющих производство', \n",
    "        'НДС организациий розничной торговли']:\n",
    "        color = 1\n",
    "        alpha = 1\n",
    "        label = column\n",
    "    else:\n",
    "        color = 0\n",
    "        alpha = 0.75\n",
    "        label = None\n",
    "        \n",
    "    iloc_column = columns_list.index(column)\n",
    "    previous_values_sum = bread_structure_df.iloc[:, :iloc_column].sum(axis=1)\n",
    "    current_value = bread_structure_df[column].item()\n",
    "    plt.barh(\n",
    "        y=0.5, width=current_value, left=previous_values_sum,\n",
    "        height=0.75, color=palette[color], alpha=alpha,\n",
    "        label=label)\n",
    "    \n",
    "plt.xticks(xticks_cum, labels=xticks_labels, weight='medium', color=palette[-5])\n",
    "plt.legend(\n",
    "    loc='upper left', bbox_to_anchor=(0, -0.5),\n",
    "    frameon=False, ncols=3, prop={'weight': 'normal', 'style': 'italic'})\n",
    "plt.ylim(0, 1)\n",
    "plt.yticks([])\n",
    "plt.gca().xaxis.tick_top()\n",
    "plt.gca().spines[['bottom']].set_visible(False)\n",
    "plt.title('Доля налогов в цене хлеба (%)', pad=25, color='#404040')\n",
    "plt.show()\n",
    "\n",
    "savefig('price-bread-structure-tax', dir=path_save_img, figure=fig, dpi=100)"
   ]
  },
  {
   "cell_type": "raw",
   "id": "fa4d201e-639b-4e1b-a9fa-71d8e66a06c8",
   "metadata": {},
   "source": [
    "set_location()"
   ]
  },
  {
   "cell_type": "markdown",
   "id": "a88d8b67-b14a-463b-816a-1dcee991bac5",
   "metadata": {},
   "source": [
    "#### Мясо"
   ]
  },
  {
   "cell_type": "markdown",
   "id": "d92cc55e-b124-4ff9-9d07-37ca8cd04a20",
   "metadata": {},
   "source": [
    "##### Говядина"
   ]
  },
  {
   "cell_type": "code",
   "execution_count": 45,
   "id": "94b5c82c-3f01-4654-8a8b-9c6aa93c9e02",
   "metadata": {},
   "outputs": [],
   "source": [
    "animals_2021 = prices_food_2021['крупный рогатый скот'].copy()\n",
    "animals_2022 = prices_food_2022['крупный рогатый скот'].copy()\n",
    "animals_2023 = prices_food_2023['крупный рогатый скот'].copy()\n",
    "animals_2024 = prices_food_2024['крупный рогатый скот'].copy()"
   ]
  },
  {
   "cell_type": "code",
   "execution_count": 46,
   "id": "12e4e68d-b7e4-4504-a724-ca686c785eed",
   "metadata": {},
   "outputs": [],
   "source": [
    "animals =  pd.concat([\n",
    "    animals_2021, animals_2022, animals_2023, animals_2024\n",
    "], axis=0)"
   ]
  },
  {
   "cell_type": "code",
   "execution_count": 47,
   "id": "919b7564-4fb1-4a9f-9f65-509d2340f9eb",
   "metadata": {},
   "outputs": [],
   "source": [
    "animals.index =  [to_date(x) for x in animals.index]"
   ]
  },
  {
   "cell_type": "code",
   "execution_count": 48,
   "id": "e3f8cad1-b698-466e-99ab-a4987f0d511c",
   "metadata": {},
   "outputs": [],
   "source": [
    "animals = 0.001 * animals"
   ]
  },
  {
   "cell_type": "code",
   "execution_count": 49,
   "id": "0b558420-9cca-4d56-af3a-bfe8fe252751",
   "metadata": {},
   "outputs": [
    {
     "data": {
      "text/plain": [
       "2023-11-01    151.2990\n",
       "2023-12-01    154.4170\n",
       "2024-01-01    151.6512\n",
       "2024-02-01    148.8103\n",
       "2024-03-01    160.5265\n",
       "Name: крупный рогатый скот, dtype: float64"
      ]
     },
     "execution_count": 49,
     "metadata": {},
     "output_type": "execute_result"
    }
   ],
   "source": [
    "animals.tail()"
   ]
  },
  {
   "cell_type": "code",
   "execution_count": 50,
   "id": "6af3944f-fab2-4129-ba48-8e3ff6e43b7c",
   "metadata": {},
   "outputs": [],
   "source": [
    "beef_2021 = prices_food_2021_consumers['говядина (кроме бескостного мяса), кг'].copy()\n",
    "beef_2022 = prices_food_2022_consumers['говядина (кроме бескостного мяса), кг'].copy()\n",
    "beef_2023 = prices_food_2023_consumers['говядина (кроме бескостного мяса), кг'].copy()\n",
    "beef_2024 = prices_food_2024_consumers['говядина (кроме бескостного мяса), кг'].copy()"
   ]
  },
  {
   "cell_type": "code",
   "execution_count": 51,
   "id": "3beae0a9-a1c9-42a9-a4e4-052f6b1ca69c",
   "metadata": {},
   "outputs": [],
   "source": [
    "beef = pd.concat([\n",
    "    beef_2021, beef_2022, beef_2023, beef_2024\n",
    "], axis=0)"
   ]
  },
  {
   "cell_type": "code",
   "execution_count": 52,
   "id": "44b0bce9-1db1-4baa-b643-8aa3c6054d03",
   "metadata": {},
   "outputs": [],
   "source": [
    "beef.index =  [to_date(x) for x in beef.index]"
   ]
  },
  {
   "cell_type": "code",
   "execution_count": 53,
   "id": "49c14e7a-4ed2-450a-af11-f63aa37de7a4",
   "metadata": {},
   "outputs": [
    {
     "data": {
      "text/plain": [
       "2023-12-01    519.83\n",
       "2024-01-01    527.89\n",
       "2024-02-01    535.26\n",
       "2024-03-01    543.55\n",
       "2024-04-01    550.04\n",
       "Name: говядина (кроме бескостного мяса), кг, dtype: object"
      ]
     },
     "execution_count": 53,
     "metadata": {},
     "output_type": "execute_result"
    }
   ],
   "source": [
    "beef.tail()"
   ]
  },
  {
   "cell_type": "code",
   "execution_count": 54,
   "id": "93a6a32b-8853-49a8-8ccf-69563b48dc9b",
   "metadata": {},
   "outputs": [],
   "source": [
    "beef_clean_2021 = prices_food_2021_consumers['говядина бескостная, кг'].copy()\n",
    "beef_clean_2022 = prices_food_2022_consumers['говядина бескостная, кг'].copy()\n",
    "beef_clean_2023 = prices_food_2023_consumers['говядина бескостная, кг'].copy()\n",
    "beef_clean_2024 = prices_food_2024_consumers['говядина бескостная, кг'].copy()"
   ]
  },
  {
   "cell_type": "code",
   "execution_count": 55,
   "id": "56d0b235-0fd8-4506-8e62-07d376ae3ca4",
   "metadata": {},
   "outputs": [],
   "source": [
    "beef_clean = pd.concat([\n",
    "    beef_clean_2021, beef_clean_2022, beef_clean_2023, beef_clean_2024\n",
    "], axis=0)"
   ]
  },
  {
   "cell_type": "code",
   "execution_count": 56,
   "id": "6532b8e9-0649-4ed7-ab60-f28537c36d20",
   "metadata": {},
   "outputs": [],
   "source": [
    "beef_clean.index =  [to_date(x) for x in beef_clean.index]"
   ]
  },
  {
   "cell_type": "code",
   "execution_count": 57,
   "id": "2136982a-09e0-42e2-a53b-865a4fb9e5f7",
   "metadata": {},
   "outputs": [
    {
     "data": {
      "text/plain": [
       "2023-12-01    709.79\n",
       "2024-01-01    725.34\n",
       "2024-02-01    734.32\n",
       "2024-03-01    745.03\n",
       "2024-04-01    754.96\n",
       "Name: говядина бескостная, кг, dtype: object"
      ]
     },
     "execution_count": 57,
     "metadata": {},
     "output_type": "execute_result"
    }
   ],
   "source": [
    "beef_clean.tail()"
   ]
  },
  {
   "cell_type": "code",
   "execution_count": 230,
   "id": "1caf1d70-e9f2-4820-b743-087e83236785",
   "metadata": {},
   "outputs": [
    {
     "data": {
      "image/png": "[encoded data removed]",
      "text/plain": [
       "<Figure size 900x250 with 1 Axes>"
      ]
     },
     "metadata": {},
     "output_type": "display_data"
    },
    {
     "name": "stdout",
     "output_type": "stream",
     "text": [
      "Images 'price-beef.png' and 'price-beef.svg' successfully saved into 'docs/img/' directory\n"
     ]
    }
   ],
   "source": [
    "fig = plt.figure()\n",
    "\n",
    "plt.plot(\n",
    "    smoothed(normalized_by_first(beef), datetime_index=True),\n",
    "    color=palette[1], label='Цена говядины')\n",
    "plt.plot(\n",
    "    smoothed(normalized_by_first(animals), datetime_index=True),\n",
    "    ls='--', color=palette[0], label='Цена КРС у производителей')\n",
    "plot_hline(1)\n",
    "\n",
    "ax = ax_current()\n",
    "ax_ = axis_secondary(pad=25, label_color='#808080')\n",
    "\n",
    "ax.set_xlim(time_range)\n",
    "ax.legend(**legend_inline(), handlelength=1.35)\n",
    "ax.xaxis.set_major_formatter(mpl.dates.DateFormatter(fmt='%b'))\n",
    "ax.xaxis.set_major_locator(mpl.dates.MonthLocator([1, 4, 7, 10]))\n",
    "ax_.xaxis.set_major_formatter(mpl.dates.DateFormatter(fmt='%Y'))\n",
    "ax_.xaxis.set_major_locator(mpl.dates.MonthLocator(1))\n",
    "axis_rstyle(offset_bottom=5, offset_left=5, grid=True)\n",
    "axis_translate_months()\n",
    "plt.show()\n",
    "\n",
    "savefig('price-beef', dir=path_save_img, figure=fig, dpi=100)"
   ]
  },
  {
   "cell_type": "code",
   "execution_count": 59,
   "id": "618c9570-03f1-486a-81cc-921549e80b49",
   "metadata": {},
   "outputs": [],
   "source": [
    "set_location()"
   ]
  },
  {
   "cell_type": "markdown",
   "id": "7904ef1d-924c-44fa-a6f9-7e19a8c255ef",
   "metadata": {},
   "source": [
    "##### Свинина"
   ]
  },
  {
   "cell_type": "code",
   "execution_count": 60,
   "id": "936c2158-0507-4d6a-b7ac-e6fabc6d7969",
   "metadata": {},
   "outputs": [],
   "source": [
    "pig_raw_2021 = prices_food_2021['свиньи'].copy()\n",
    "pig_raw_2022 = prices_food_2022['свиньи'].copy()\n",
    "pig_raw_2023 = prices_food_2023['свиньи'].copy()\n",
    "pig_raw_2024 = prices_food_2024['свиньи'].copy()"
   ]
  },
  {
   "cell_type": "code",
   "execution_count": 61,
   "id": "c477332b-3868-4830-901a-e4c20071d992",
   "metadata": {},
   "outputs": [],
   "source": [
    "pig_raw =  pd.concat([\n",
    "    pig_raw_2021, pig_raw_2022, pig_raw_2023, pig_raw_2024\n",
    "], axis=0)"
   ]
  },
  {
   "cell_type": "code",
   "execution_count": 62,
   "id": "6620e150-2535-494a-9965-d511c0cea73b",
   "metadata": {},
   "outputs": [],
   "source": [
    "pig_raw.index =  [to_date(x) for x in pig_raw.index]"
   ]
  },
  {
   "cell_type": "code",
   "execution_count": 63,
   "id": "bd029ea7-53d8-4107-9e8e-a51ae77a870e",
   "metadata": {},
   "outputs": [],
   "source": [
    "pig_raw = 0.001 * pig_raw"
   ]
  },
  {
   "cell_type": "code",
   "execution_count": 64,
   "id": "46c4a981-2de0-4dc4-ad7f-48313c1330d2",
   "metadata": {},
   "outputs": [
    {
     "data": {
      "text/plain": [
       "2023-11-01    127.3500\n",
       "2023-12-01    121.4530\n",
       "2024-01-01    113.1215\n",
       "2024-02-01    115.8620\n",
       "2024-03-01    119.7473\n",
       "Name: свиньи, dtype: float64"
      ]
     },
     "execution_count": 64,
     "metadata": {},
     "output_type": "execute_result"
    }
   ],
   "source": [
    "pig_raw.tail()"
   ]
  },
  {
   "cell_type": "code",
   "execution_count": 65,
   "id": "7b3c768e-db32-4ef7-82b0-bdb7cb5424dc",
   "metadata": {},
   "outputs": [],
   "source": [
    "pig_clean_2021 = prices_food_2021_consumers['свинина бескостная, кг'].copy()\n",
    "pig_clean_2022 = prices_food_2022_consumers['свинина бескостная, кг'].copy()\n",
    "pig_clean_2023 = prices_food_2023_consumers['свинина бескостная, кг'].copy()\n",
    "pig_clean_2024 = prices_food_2024_consumers['свинина бескостная, кг'].copy()"
   ]
  },
  {
   "cell_type": "code",
   "execution_count": 66,
   "id": "a0966b96-662a-44c2-b450-cf575aa9fa97",
   "metadata": {},
   "outputs": [],
   "source": [
    "pig_clean = pd.concat([\n",
    "    pig_clean_2021, pig_clean_2022, pig_clean_2023, pig_clean_2024\n",
    "], axis=0)"
   ]
  },
  {
   "cell_type": "code",
   "execution_count": 67,
   "id": "746c1709-8bdf-4081-bc67-6e710d7af4ac",
   "metadata": {},
   "outputs": [],
   "source": [
    "pig_clean.index =  [to_date(x) for x in pig_clean.index]"
   ]
  },
  {
   "cell_type": "code",
   "execution_count": 68,
   "id": "52087e9d-04dc-4435-9a59-d74337112033",
   "metadata": {},
   "outputs": [
    {
     "data": {
      "text/plain": [
       "2023-12-01    454.16\n",
       "2024-01-01    452.61\n",
       "2024-02-01    451.58\n",
       "2024-03-01    451.95\n",
       "2024-04-01    452.27\n",
       "Name: свинина бескостная, кг, dtype: object"
      ]
     },
     "execution_count": 68,
     "metadata": {},
     "output_type": "execute_result"
    }
   ],
   "source": [
    "pig_clean.tail()"
   ]
  },
  {
   "cell_type": "code",
   "execution_count": 69,
   "id": "96dbf12f-d17b-45f4-a110-6e1140cdeff0",
   "metadata": {},
   "outputs": [],
   "source": [
    "pig_2021 = prices_food_2021_consumers['свинина (кроме бескостного мяса), кг'].copy()\n",
    "pig_2022 = prices_food_2022_consumers['свинина (кроме бескостного мяса), кг'].copy()\n",
    "pig_2023 = prices_food_2023_consumers['свинина (кроме бескостного мяса), кг'].copy()\n",
    "pig_2024 = prices_food_2024_consumers['свинина (кроме бескостного мяса), кг'].copy()"
   ]
  },
  {
   "cell_type": "code",
   "execution_count": 70,
   "id": "307a7f4c-042d-4376-bb3b-7ffdbb53cdc1",
   "metadata": {},
   "outputs": [],
   "source": [
    "pig = pd.concat([\n",
    "    pig_2021, pig_2022, pig_2023, pig_2024\n",
    "], axis=0)"
   ]
  },
  {
   "cell_type": "code",
   "execution_count": 71,
   "id": "03b693c8-b916-4c74-b14c-1b03d8626050",
   "metadata": {},
   "outputs": [],
   "source": [
    "pig.index = [to_date(x) for x in pig.index]"
   ]
  },
  {
   "cell_type": "code",
   "execution_count": 72,
   "id": "4ad415f0-a78b-48ef-87d7-04063ede643a",
   "metadata": {},
   "outputs": [
    {
     "data": {
      "text/plain": [
       "2023-12-01    344.82\n",
       "2024-01-01    342.72\n",
       "2024-02-01    343.49\n",
       "2024-03-01    342.46\n",
       "2024-04-01    340.78\n",
       "Name: свинина (кроме бескостного мяса), кг, dtype: object"
      ]
     },
     "execution_count": 72,
     "metadata": {},
     "output_type": "execute_result"
    }
   ],
   "source": [
    "pig.tail()"
   ]
  },
  {
   "cell_type": "code",
   "execution_count": 228,
   "id": "1c732988-05b3-48fa-aa10-caf9aed4b1a4",
   "metadata": {},
   "outputs": [
    {
     "data": {
      "image/png": "[encoded data removed]",
      "text/plain": [
       "<Figure size 900x250 with 1 Axes>"
      ]
     },
     "metadata": {},
     "output_type": "display_data"
    },
    {
     "name": "stdout",
     "output_type": "stream",
     "text": [
      "Images 'price-pig.png' and 'price-pig.svg' successfully saved into 'docs/img/' directory\n"
     ]
    }
   ],
   "source": [
    "fig = plt.figure()\n",
    "\n",
    "plt.plot(\n",
    "    smoothed(normalized_by_first(pig), datetime_index=True),\n",
    "    color=saturate_color(palette[8], 1.5), label='Цена свинины')\n",
    "plt.plot(\n",
    "    smoothed(normalized_by_first(pig_raw), datetime_index=True),\n",
    "    ls='--', color=palette[0], label='Цена свиней у производителей')\n",
    "plot_hline(1)\n",
    "\n",
    "ax = ax_current()\n",
    "ax_ = axis_secondary(pad=25, label_color='#808080')\n",
    "\n",
    "ax.set_xlim(time_range)\n",
    "ax.legend(**legend_inline(), handlelength=1.35)\n",
    "ax.xaxis.set_major_formatter(mpl.dates.DateFormatter(fmt='%b'))\n",
    "ax.xaxis.set_major_locator(mpl.dates.MonthLocator([1, 4, 7, 10]))\n",
    "ax_.xaxis.set_major_formatter(mpl.dates.DateFormatter(fmt='%Y'))\n",
    "ax_.xaxis.set_major_locator(mpl.dates.MonthLocator(1))\n",
    "axis_rstyle(\n",
    "    offset_bottom=5, offset_left=5,\n",
    "    yticks=[1, 1.31, 0.05], ylim=[0.99, 1.32], grid=True)\n",
    "axis_translate_months()\n",
    "plt.show()\n",
    "\n",
    "savefig('price-pig', dir=path_save_img, figure=fig, dpi=100)"
   ]
  },
  {
   "cell_type": "code",
   "execution_count": 74,
   "id": "cac1cff5-cdbd-4917-b737-a03a3a52dddc",
   "metadata": {},
   "outputs": [],
   "source": [
    "set_location()"
   ]
  },
  {
   "cell_type": "markdown",
   "id": "4f628e90-a21f-4231-aaf0-2c66e7660e8f",
   "metadata": {},
   "source": [
    "##### Курица"
   ]
  },
  {
   "cell_type": "code",
   "execution_count": 75,
   "id": "ea0dcd9c-128a-4ceb-8620-789e7cc5d659",
   "metadata": {},
   "outputs": [],
   "source": [
    "poultry_2021_raw = prices_food_2021['птица сельскохозяйственная живая'].copy()\n",
    "poultry_2022_raw = prices_food_2022['птица сельскохозяйственная живая'].copy()\n",
    "poultry_2023_raw = prices_food_2023['птица сельскохозяйственная живая'].copy()\n",
    "poultry_2024_raw = prices_food_2024['птица сельскохозяйственная живая'].copy()"
   ]
  },
  {
   "cell_type": "code",
   "execution_count": 76,
   "id": "e67749f2-001f-4bb3-8d1c-fcb6d4364cde",
   "metadata": {},
   "outputs": [],
   "source": [
    "poultry_raw =  pd.concat([\n",
    "    poultry_2021_raw, poultry_2022_raw, poultry_2023_raw, poultry_2024_raw\n",
    "], axis=0)"
   ]
  },
  {
   "cell_type": "code",
   "execution_count": 77,
   "id": "852b481c-405c-4738-9627-ffea95879ccc",
   "metadata": {},
   "outputs": [],
   "source": [
    "poultry_raw.index =  [to_date(x) for x in poultry_raw.index]"
   ]
  },
  {
   "cell_type": "code",
   "execution_count": 78,
   "id": "00f2d869-70bd-4b9a-85b3-4b30025816eb",
   "metadata": {},
   "outputs": [],
   "source": [
    "poultry_raw = 0.001 * poultry_raw"
   ]
  },
  {
   "cell_type": "code",
   "execution_count": 79,
   "id": "c73f35d7-503f-4959-b048-2e61755f2039",
   "metadata": {},
   "outputs": [
    {
     "data": {
      "text/plain": [
       "2023-11-01    131.2530\n",
       "2023-12-01    130.3250\n",
       "2024-01-01    122.2456\n",
       "2024-02-01    117.1568\n",
       "2024-03-01    113.3258\n",
       "Name: птица сельскохозяйственная живая, dtype: float64"
      ]
     },
     "execution_count": 79,
     "metadata": {},
     "output_type": "execute_result"
    }
   ],
   "source": [
    "poultry_raw.tail()"
   ]
  },
  {
   "cell_type": "code",
   "execution_count": 80,
   "id": "1dc148ba-88e0-4788-89ef-f8ffd4bdb99c",
   "metadata": {},
   "outputs": [],
   "source": [
    "poultry_2021 = prices_food_2021_consumers['куры охлажденные и мороженые, кг'].copy()\n",
    "poultry_2022 = prices_food_2022_consumers['куры охлажденные и мороженые, кг'].copy()\n",
    "poultry_2023 = prices_food_2023_consumers['куры охлажденные и мороженые, кг'].copy()\n",
    "poultry_2024 = prices_food_2024_consumers['куры охлажденные и мороженые, кг'].copy()"
   ]
  },
  {
   "cell_type": "code",
   "execution_count": 81,
   "id": "fba0d88d-b92e-4105-9bb7-fae11416e1cc",
   "metadata": {},
   "outputs": [],
   "source": [
    "poultry =  pd.concat([\n",
    "    poultry_2021, poultry_2022, poultry_2023, poultry_2024\n",
    "], axis=0)"
   ]
  },
  {
   "cell_type": "code",
   "execution_count": 82,
   "id": "29348f91-a777-4494-ae11-c6838bd90ffb",
   "metadata": {},
   "outputs": [],
   "source": [
    "poultry.index = [to_date(x) for x in poultry.index]"
   ]
  },
  {
   "cell_type": "code",
   "execution_count": 83,
   "id": "c8e2ad7c-4fbf-4656-b11d-ee4fa027aebe",
   "metadata": {},
   "outputs": [
    {
     "data": {
      "text/plain": [
       "2023-12-01    227.58\n",
       "2024-01-01    221.78\n",
       "2024-02-01    219.11\n",
       "2024-03-01    218.75\n",
       "2024-04-01    217.94\n",
       "Name: куры охлажденные и мороженые, кг, dtype: object"
      ]
     },
     "execution_count": 83,
     "metadata": {},
     "output_type": "execute_result"
    }
   ],
   "source": [
    "poultry.tail()"
   ]
  },
  {
   "cell_type": "code",
   "execution_count": 231,
   "id": "8fc6b9c4-be69-4926-a99e-999cb29990d8",
   "metadata": {},
   "outputs": [
    {
     "data": {
      "image/png": "[encoded data removed]",
      "text/plain": [
       "<Figure size 900x250 with 1 Axes>"
      ]
     },
     "metadata": {},
     "output_type": "display_data"
    },
    {
     "name": "stdout",
     "output_type": "stream",
     "text": [
      "Images 'price-poultry.png' and 'price-poultry.svg' successfully saved into 'docs/img/' directory\n"
     ]
    }
   ],
   "source": [
    "fig = plt.figure()\n",
    "\n",
    "plt.plot(\n",
    "    smoothed(normalized_by_first(poultry), datetime_index=True),\n",
    "    color=alpha_color(palette[7], 0.95),\n",
    "    label='Цена курицы'\n",
    ")\n",
    "plt.plot(\n",
    "    smoothed(normalized_by_first(poultry_raw), datetime_index=True), ls='--',\n",
    "    label='Цена птицы сельскохозяйственной у производителей')\n",
    "plot_hline(1)\n",
    "\n",
    "ax = ax_current()\n",
    "ax_ = axis_secondary(pad=25, label_color='#808080')\n",
    "\n",
    "ax.set_xlim(time_range)\n",
    "ax.legend(**legend_inline(), handlelength=1.35)\n",
    "ax.xaxis.set_major_formatter(mpl.dates.DateFormatter(fmt='%b'))\n",
    "ax.xaxis.set_major_locator(mpl.dates.MonthLocator([1, 4, 7, 10]))\n",
    "ax_.xaxis.set_major_formatter(mpl.dates.DateFormatter(fmt='%Y'))\n",
    "ax_.xaxis.set_major_locator(mpl.dates.MonthLocator(1))\n",
    "axis_rstyle(\n",
    "    offset_bottom=5, offset_left=5,\n",
    "    ylim=[0.99, 1.8], yticks=[1, 1.8, 0.2], grid=True)\n",
    "axis_translate_months()\n",
    "plt.show()\n",
    "\n",
    "savefig('price-poultry', dir=path_save_img, figure=fig, dpi=100)"
   ]
  },
  {
   "cell_type": "code",
   "execution_count": 85,
   "id": "68e84bd5-1087-47b0-897f-8e9ca7bbd906",
   "metadata": {},
   "outputs": [],
   "source": [
    "set_location()"
   ]
  },
  {
   "cell_type": "markdown",
   "id": "a94488ec-f2f4-472b-aa97-9ec036e15068",
   "metadata": {},
   "source": [
    "#### Молочные продукты"
   ]
  },
  {
   "cell_type": "markdown",
   "id": "df41e576-f635-48df-bad5-a27fc46a3801",
   "metadata": {},
   "source": [
    "##### Молоко"
   ]
  },
  {
   "cell_type": "code",
   "execution_count": 86,
   "id": "2934cf6c-2ebd-4b5f-a9fb-53c00612f115",
   "metadata": {},
   "outputs": [],
   "source": [
    "milk_2021_raw = prices_food_2021['молоко сырое крупного рогатого скота'].copy()\n",
    "milk_2022_raw = prices_food_2022['молоко сырое крупного рогатого скота'].copy()\n",
    "milk_2023_raw = prices_food_2023['молоко сырое крупного рогатого скота'].copy()\n",
    "milk_2024_raw = prices_food_2024['молоко сырое крупного рогатого скота'].copy()"
   ]
  },
  {
   "cell_type": "code",
   "execution_count": 87,
   "id": "1a8c0f4c-aa39-4d5e-aa6c-a9bad2858615",
   "metadata": {},
   "outputs": [],
   "source": [
    "milk_raw =  pd.concat([\n",
    "    milk_2021_raw, milk_2022_raw, milk_2023_raw, milk_2024_raw\n",
    "], axis=0)"
   ]
  },
  {
   "cell_type": "code",
   "execution_count": 88,
   "id": "40ffa1c3-bb2b-42e7-9f94-74238b83f376",
   "metadata": {},
   "outputs": [],
   "source": [
    "milk_raw.index =  [to_date(x) for x in milk_raw.index]"
   ]
  },
  {
   "cell_type": "code",
   "execution_count": 89,
   "id": "dcf673e1-c339-48f3-b64a-15f80fbd03c3",
   "metadata": {},
   "outputs": [],
   "source": [
    "milk_raw = 0.001 * milk_raw"
   ]
  },
  {
   "cell_type": "code",
   "execution_count": 90,
   "id": "7287bb31-4c1c-4b1c-9a56-e7fcdf899b8b",
   "metadata": {},
   "outputs": [
    {
     "data": {
      "text/plain": [
       "2023-11-01    32.0190\n",
       "2023-12-01    32.7300\n",
       "2024-01-01    33.7886\n",
       "2024-02-01    34.2980\n",
       "2024-03-01    34.5099\n",
       "Name: молоко сырое крупного рогатого скота, dtype: float64"
      ]
     },
     "execution_count": 90,
     "metadata": {},
     "output_type": "execute_result"
    }
   ],
   "source": [
    "milk_raw.tail()"
   ]
  },
  {
   "cell_type": "code",
   "execution_count": 91,
   "id": "003e4013-72af-4e0a-b8e4-a1bf3afa2e44",
   "metadata": {},
   "outputs": [],
   "source": [
    "milk_2021 = \\\n",
    "    prices_food_2021_consumers['молоко питьевое цельное пастеризованное 2,5-3,2% жирности, л'].copy()\n",
    "milk_2022 = \\\n",
    "    prices_food_2022_consumers['молоко питьевое цельное пастеризованное 2,5-3,2% жирности, л'].copy()\n",
    "milk_2023 = \\\n",
    "    prices_food_2023_consumers['молоко питьевое цельное пастеризованное 2,5-3,2% жирности, л'].copy()\n",
    "milk_2024 = \\\n",
    "    prices_food_2024_consumers['молоко питьевое цельное пастеризованное 2,5-3,2% жирности, л'].copy()"
   ]
  },
  {
   "cell_type": "code",
   "execution_count": 92,
   "id": "358147d4-a6df-4ba4-b48b-b7f2d3449d05",
   "metadata": {},
   "outputs": [],
   "source": [
    "milk = pd.concat([\n",
    "    milk_2021, milk_2022, milk_2023, milk_2024\n",
    "], axis=0)"
   ]
  },
  {
   "cell_type": "code",
   "execution_count": 93,
   "id": "414e0655-a9db-41d5-8424-2681560bbc95",
   "metadata": {},
   "outputs": [],
   "source": [
    "milk.index = [to_date(x) for x in milk.index]"
   ]
  },
  {
   "cell_type": "code",
   "execution_count": 94,
   "id": "37889609-e1ac-4d6e-8464-c74d8e5a2a30",
   "metadata": {},
   "outputs": [
    {
     "data": {
      "text/plain": [
       "2023-12-01    75.26\n",
       "2024-01-01    76.08\n",
       "2024-02-01    76.69\n",
       "2024-03-01     77.3\n",
       "2024-04-01    78.01\n",
       "Name: молоко питьевое цельное пастеризованное 2,5-3,2% жирности, л, dtype: object"
      ]
     },
     "execution_count": 94,
     "metadata": {},
     "output_type": "execute_result"
    }
   ],
   "source": [
    "milk.tail()"
   ]
  },
  {
   "cell_type": "markdown",
   "id": "2ca6cccc-ba21-4168-ad96-93bc571a3a0d",
   "metadata": {},
   "source": [
    "##### Сыр"
   ]
  },
  {
   "cell_type": "code",
   "execution_count": 95,
   "id": "1fb8ded3-6456-4467-bf04-b96cc813c501",
   "metadata": {},
   "outputs": [],
   "source": [
    "cheese_2021 = prices_food_2021_consumers['сыры сычужные твердые и мягкие, кг'].copy()\n",
    "cheese_2022 = prices_food_2022_consumers['сыры сычужные твердые и мягкие, кг'].copy()\n",
    "cheese_2023 = prices_food_2023_consumers['сыры твердые, полутвердые и мягкие, кг'].copy()\n",
    "cheese_2024 = prices_food_2024_consumers['сыры твердые, полутвердые и мягкие, кг'].copy()"
   ]
  },
  {
   "cell_type": "code",
   "execution_count": 96,
   "id": "dec712bd-40df-4a96-9ada-9ed7f3e5b8be",
   "metadata": {},
   "outputs": [],
   "source": [
    "cheese =  pd.concat([\n",
    "    cheese_2021, cheese_2022, cheese_2023, cheese_2024\n",
    "], axis=0)"
   ]
  },
  {
   "cell_type": "code",
   "execution_count": 97,
   "id": "3c626b9d-cc1c-4957-a068-918b340941ff",
   "metadata": {},
   "outputs": [],
   "source": [
    "cheese.index =  [to_date(x) for x in cheese.index]"
   ]
  },
  {
   "cell_type": "code",
   "execution_count": 98,
   "id": "848e01fb-540a-4e25-9454-4dbd2c5f1d9b",
   "metadata": {},
   "outputs": [
    {
     "data": {
      "text/plain": [
       "2023-12-01    780.06\n",
       "2024-01-01    781.47\n",
       "2024-02-01    782.77\n",
       "2024-03-01    791.24\n",
       "2024-04-01    796.24\n",
       "dtype: object"
      ]
     },
     "execution_count": 98,
     "metadata": {},
     "output_type": "execute_result"
    }
   ],
   "source": [
    "cheese.tail()"
   ]
  },
  {
   "cell_type": "markdown",
   "id": "163aa07c-41b2-4111-9252-ad4cce55e7a3",
   "metadata": {},
   "source": [
    "##### Сметана"
   ]
  },
  {
   "cell_type": "code",
   "execution_count": 99,
   "id": "555de18f-0602-4d1d-91c6-53d694ea106d",
   "metadata": {},
   "outputs": [],
   "source": [
    "sour_cream_2021 = prices_food_2021_consumers['сметана, кг'].copy()\n",
    "sour_cream_2022 = prices_food_2022_consumers['сметана, кг'].copy()\n",
    "sour_cream_2023 = prices_food_2023_consumers['сметана, кг'].copy()\n",
    "sour_cream_2024 = prices_food_2024_consumers['сметана, кг'].copy()"
   ]
  },
  {
   "cell_type": "code",
   "execution_count": 100,
   "id": "5c33a36f-240f-4352-8439-66d8b1eabe8f",
   "metadata": {},
   "outputs": [],
   "source": [
    "sour_cream =  pd.concat([\n",
    "    sour_cream_2021, sour_cream_2022, sour_cream_2023, sour_cream_2024\n",
    "], axis=0)"
   ]
  },
  {
   "cell_type": "code",
   "execution_count": 101,
   "id": "43a89767-365d-4075-998a-4226054b7fc5",
   "metadata": {},
   "outputs": [],
   "source": [
    "sour_cream.index = [to_date(x) for x in sour_cream.index]"
   ]
  },
  {
   "cell_type": "code",
   "execution_count": 102,
   "id": "3b1fc479-962f-4bce-81d6-2d7f126bd41e",
   "metadata": {},
   "outputs": [
    {
     "data": {
      "text/plain": [
       "2023-12-01    282.49\n",
       "2024-01-01    285.58\n",
       "2024-02-01    287.97\n",
       "2024-03-01    288.82\n",
       "2024-04-01     292.2\n",
       "Name: сметана, кг, dtype: object"
      ]
     },
     "execution_count": 102,
     "metadata": {},
     "output_type": "execute_result"
    }
   ],
   "source": [
    "sour_cream.tail()"
   ]
  },
  {
   "cell_type": "markdown",
   "id": "37e0fad8-be64-4e00-abc1-8df632c5bcd2",
   "metadata": {},
   "source": [
    "##### Йогурт"
   ]
  },
  {
   "cell_type": "code",
   "execution_count": 103,
   "id": "5c94b18e-b004-4c11-a963-9e1b77092686",
   "metadata": {},
   "outputs": [],
   "source": [
    "jogurt_2021 = prices_food_2021_consumers['йогурт, 125 г'].copy()\n",
    "jogurt_2022 = prices_food_2022_consumers['йогурт, кг'].copy()\n",
    "jogurt_2023 = prices_food_2023_consumers['йогурт, кг'].copy()\n",
    "jogurt_2024 = prices_food_2024_consumers['йогурт, кг'].copy()"
   ]
  },
  {
   "cell_type": "code",
   "execution_count": 104,
   "id": "b9918b93-5e29-4fa0-aa4d-0b8a03f23436",
   "metadata": {},
   "outputs": [],
   "source": [
    "# transform 0.125 kg of 2021 prices to 1 kg as in 2022 and 2023 price\n",
    "jogurt_2021 = jogurt_2021 / 0.125"
   ]
  },
  {
   "cell_type": "code",
   "execution_count": 105,
   "id": "98dc65f4-37f0-4be9-b7e7-b6a89014ea6b",
   "metadata": {},
   "outputs": [],
   "source": [
    "jogurt =  pd.concat([\n",
    "    jogurt_2021, jogurt_2022, jogurt_2023, jogurt_2024\n",
    "], axis=0)"
   ]
  },
  {
   "cell_type": "code",
   "execution_count": 106,
   "id": "dab008f1-dee7-4370-a25c-5891be58eb3c",
   "metadata": {},
   "outputs": [],
   "source": [
    "jogurt.index = [to_date(x) for x in jogurt.index]"
   ]
  },
  {
   "cell_type": "code",
   "execution_count": 107,
   "id": "959f4d5c-e413-455f-99e2-c31cf4cdd7cc",
   "metadata": {},
   "outputs": [
    {
     "data": {
      "text/plain": [
       "2023-12-01    279.45\n",
       "2024-01-01    280.62\n",
       "2024-02-01    283.18\n",
       "2024-03-01    288.06\n",
       "2024-04-01    289.93\n",
       "dtype: object"
      ]
     },
     "execution_count": 107,
     "metadata": {},
     "output_type": "execute_result"
    }
   ],
   "source": [
    "jogurt.tail()"
   ]
  },
  {
   "cell_type": "markdown",
   "id": "989a52e3-80d3-459d-b5ce-dc540bb4b4c1",
   "metadata": {},
   "source": [
    "##### Масло сливочное"
   ]
  },
  {
   "cell_type": "code",
   "execution_count": 108,
   "id": "e37d268f-41bd-424c-8706-58bb061578d0",
   "metadata": {},
   "outputs": [],
   "source": [
    "butter_2021 = prices_food_2021_consumers['масло сливочное, кг'].copy()\n",
    "butter_2022 = prices_food_2022_consumers['масло сливочное, кг'].copy()\n",
    "butter_2023 = prices_food_2023_consumers['масло сливочное, кг'].copy()\n",
    "butter_2024 = prices_food_2024_consumers['масло сливочное, кг'].copy()"
   ]
  },
  {
   "cell_type": "code",
   "execution_count": 109,
   "id": "f123282a-db4e-4def-9a4e-4b92764b0577",
   "metadata": {},
   "outputs": [],
   "source": [
    "butter =  pd.concat([\n",
    "    butter_2021, butter_2022, butter_2023, butter_2024\n",
    "], axis=0)"
   ]
  },
  {
   "cell_type": "code",
   "execution_count": 110,
   "id": "15bf15c8-67a5-4071-9afe-333104e2b3fd",
   "metadata": {},
   "outputs": [],
   "source": [
    "butter.index = [to_date(x) for x in butter.index]"
   ]
  },
  {
   "cell_type": "code",
   "execution_count": 111,
   "id": "d3e964c2-5bb8-46dc-aec9-2b26b1e7a7a8",
   "metadata": {},
   "outputs": [
    {
     "data": {
      "text/plain": [
       "2023-12-01    862.87\n",
       "2024-01-01    876.33\n",
       "2024-02-01    886.56\n",
       "2024-03-01    894.21\n",
       "2024-04-01    906.93\n",
       "Name: масло сливочное, кг, dtype: object"
      ]
     },
     "execution_count": 111,
     "metadata": {},
     "output_type": "execute_result"
    }
   ],
   "source": [
    "butter.tail()"
   ]
  },
  {
   "cell_type": "markdown",
   "id": "095419d1-f3a7-4c50-88bc-ad610887fa87",
   "metadata": {},
   "source": [
    "##### Творог\n",
    "\n",
    "В 2022 году изменилась номенклатура: 'творог жирный' и 'творог нежирный' заменем одним показателем - 'творог'.  \n",
    "Данные для 2021 года считаются как среднее от 'творог жирный' и 'творог нежирный'."
   ]
  },
  {
   "cell_type": "code",
   "execution_count": 112,
   "id": "7c05119d-1ca8-4c98-aada-0cf8a85adcc9",
   "metadata": {},
   "outputs": [],
   "source": [
    "# mean of pd.Series using Numpy\n",
    "cottage_cheese_2021 = pd.concat(\n",
    "    [prices_food_2021_consumers['творог нежирный, кг'],\n",
    "     prices_food_2021_consumers['творог жирный, кг']],\n",
    "    axis=1).agg('mean', 1)\n",
    "\n",
    "cottage_cheese_2022 = prices_food_2022_consumers['творог, кг'].copy()\n",
    "cottage_cheese_2023 = prices_food_2023_consumers['творог, кг'].copy()\n",
    "cottage_cheese_2024 = prices_food_2024_consumers['творог, кг'].copy()"
   ]
  },
  {
   "cell_type": "code",
   "execution_count": 113,
   "id": "1e52704d-3ca8-4d19-9029-b0ce6c883664",
   "metadata": {},
   "outputs": [],
   "source": [
    "cottage_cheese =  pd.concat([\n",
    "    cottage_cheese_2021, cottage_cheese_2022, cottage_cheese_2023, cottage_cheese_2024\n",
    "], axis=0)"
   ]
  },
  {
   "cell_type": "code",
   "execution_count": 114,
   "id": "877cc8a3-6fe4-4dd9-afee-0efcd356c449",
   "metadata": {},
   "outputs": [],
   "source": [
    "cottage_cheese.index = [to_date(x) for x in cottage_cheese.index]"
   ]
  },
  {
   "cell_type": "code",
   "execution_count": 115,
   "id": "a28fd1df-0836-4982-9006-6c812a5e1148",
   "metadata": {},
   "outputs": [
    {
     "data": {
      "text/plain": [
       "2023-12-01    411.09\n",
       "2024-01-01    413.44\n",
       "2024-02-01    414.34\n",
       "2024-03-01    416.88\n",
       "2024-04-01    419.18\n",
       "dtype: object"
      ]
     },
     "execution_count": 115,
     "metadata": {},
     "output_type": "execute_result"
    }
   ],
   "source": [
    "cottage_cheese.tail()"
   ]
  },
  {
   "cell_type": "code",
   "execution_count": 237,
   "id": "5b0eae41-f480-425d-9fa0-2ed674b13c67",
   "metadata": {},
   "outputs": [
    {
     "data": {
      "image/png": "[encoded data removed]",
      "text/plain": [
       "<Figure size 900x300 with 1 Axes>"
      ]
     },
     "metadata": {},
     "output_type": "display_data"
    },
    {
     "name": "stdout",
     "output_type": "stream",
     "text": [
      "Images 'price-milk-products.png' and 'price-milk-products.svg' successfully saved into 'docs/img/' directory\n"
     ]
    }
   ],
   "source": [
    "plots_lw = 1.25\n",
    "fig = plt.figure(figsize=(9, 3))\n",
    "\n",
    "plt.plot(\n",
    "    smoothed(normalized_by_first(milk_raw), datetime_index=True), lw=1.5, ls='--',\n",
    "    color=palette[0], label='Сырое молоко')\n",
    "plt.plot(\n",
    "    smoothed(normalized_by_first(milk), datetime_index=True),\n",
    "    lw=plots_lw, alpha=0.95, label='Пастеризованное молоко')\n",
    "plt.plot(\n",
    "    smoothed(normalized_by_first(butter), datetime_index=True),\n",
    "    lw=plots_lw, alpha=0.95, label='Масло сливочное')\n",
    "plt.plot(\n",
    "    smoothed(normalized_by_first(cheese), datetime_index=True),\n",
    "    lw=plots_lw, alpha=1, label='Сыр')\n",
    "plt.plot(\n",
    "    smoothed(normalized_by_first(sour_cream), datetime_index=True), \n",
    "    lw=plots_lw, label='Сметана')\n",
    "plt.plot(\n",
    "    smoothed(normalized_by_first(jogurt), datetime_index=True),\n",
    "    lw=plots_lw, alpha=0.95, label='Йогрут')\n",
    "plt.plot(\n",
    "    smoothed(normalized_by_first(cottage_cheese), datetime_index=True),\n",
    "    lw=plots_lw, label='Творог', color=palette[7])\n",
    "plot_hline(1)\n",
    "\n",
    "ax = ax_current()\n",
    "ax_ = axis_secondary(pad=25, label_color='#808080')\n",
    "\n",
    "ax.set_xlim(time_range)\n",
    "ax.legend(**legend_inline(4), handlelength=1.35)\n",
    "ax.xaxis.set_major_formatter(mpl.dates.DateFormatter(fmt='%b'))\n",
    "ax.xaxis.set_major_locator(mpl.dates.MonthLocator([1, 4, 7, 10]))\n",
    "ax_.xaxis.set_major_formatter(mpl.dates.DateFormatter(fmt='%Y'))\n",
    "ax_.xaxis.set_major_locator(mpl.dates.MonthLocator(1))\n",
    "axis_rstyle(offset_bottom=5, offset_left=5, yticks=[0.9, 1.4, 0.1], grid=True)\n",
    "axis_translate_months()\n",
    "plt.show()\n",
    "\n",
    "savefig('price-milk-products', dir=path_save_img, figure=fig, dpi=100)"
   ]
  },
  {
   "cell_type": "code",
   "execution_count": 117,
   "id": "a8573227-bcd5-44c0-be4c-1c5b65922029",
   "metadata": {},
   "outputs": [],
   "source": [
    "set_location()"
   ]
  },
  {
   "cell_type": "markdown",
   "id": "a8d56424-8834-4982-bc96-e1de6317c3b4",
   "metadata": {},
   "source": [
    "#### Овощи"
   ]
  },
  {
   "cell_type": "code",
   "execution_count": 118,
   "id": "0115ae5d-1a07-41ef-a462-5ad9032dbadd",
   "metadata": {},
   "outputs": [],
   "source": [
    "vegetables_2021_raw = prices_food_2021['овощи'].copy()\n",
    "vegetables_2022_raw = prices_food_2022['овощи'].copy()\n",
    "vegetables_2023_raw = prices_food_2023['овощи'].copy()\n",
    "vegetables_2024_raw = prices_food_2024['овощи'].copy()"
   ]
  },
  {
   "cell_type": "code",
   "execution_count": 119,
   "id": "6c62239b-5faa-400f-9eb5-97fdd6247942",
   "metadata": {},
   "outputs": [],
   "source": [
    "vegetables_raw =  pd.concat([\n",
    "    vegetables_2021_raw, vegetables_2022_raw, vegetables_2023_raw, vegetables_2024_raw\n",
    "], axis=0)"
   ]
  },
  {
   "cell_type": "code",
   "execution_count": 120,
   "id": "a1083eee-785b-4b09-853e-421eb972c0cd",
   "metadata": {},
   "outputs": [],
   "source": [
    "vegetables_raw.index =  [to_date(x) for x in vegetables_raw.index]"
   ]
  },
  {
   "cell_type": "code",
   "execution_count": 121,
   "id": "20b62249-a929-400e-b9ef-8c432bec5445",
   "metadata": {},
   "outputs": [],
   "source": [
    "vegetables_raw = 0.001 * vegetables_raw"
   ]
  },
  {
   "cell_type": "code",
   "execution_count": 122,
   "id": "5d36baa3-9f3c-4ec5-8cdc-00d7f6422b51",
   "metadata": {},
   "outputs": [
    {
     "data": {
      "text/plain": [
       "2023-11-01     79.2880\n",
       "2023-12-01    110.1000\n",
       "2024-01-01    127.8889\n",
       "2024-02-01    136.4069\n",
       "2024-03-01    126.6923\n",
       "Name: овощи, dtype: float64"
      ]
     },
     "execution_count": 122,
     "metadata": {},
     "output_type": "execute_result"
    }
   ],
   "source": [
    "vegetables_raw.tail()"
   ]
  },
  {
   "cell_type": "code",
   "execution_count": 123,
   "id": "e2bc17e0-e7c6-4a7d-9e50-c6083bb7921e",
   "metadata": {},
   "outputs": [],
   "source": [
    "potato_2021_raw = prices_food_2021['картофель'].copy()\n",
    "potato_2022_raw = prices_food_2022['картофель'].copy()\n",
    "potato_2023_raw = prices_food_2023['картофель'].copy()\n",
    "potato_2024_raw = prices_food_2024['картофель'].copy()"
   ]
  },
  {
   "cell_type": "code",
   "execution_count": 124,
   "id": "1a429c04-48b8-46ae-bd21-68c65345d2d4",
   "metadata": {},
   "outputs": [],
   "source": [
    "potato_raw =  pd.concat([\n",
    "    potato_2021_raw, potato_2022_raw, potato_2023_raw, potato_2024_raw\n",
    "], axis=0)"
   ]
  },
  {
   "cell_type": "code",
   "execution_count": 125,
   "id": "d5229ea9-aca6-4ece-b790-67588256954e",
   "metadata": {},
   "outputs": [],
   "source": [
    "potato_raw.index =  [to_date(x) for x in potato_raw.index]"
   ]
  },
  {
   "cell_type": "code",
   "execution_count": 126,
   "id": "0c77ebcb-73a0-4903-9f23-0188d4d944e0",
   "metadata": {},
   "outputs": [],
   "source": [
    "potato_raw = 0.001 * potato_raw"
   ]
  },
  {
   "cell_type": "code",
   "execution_count": 127,
   "id": "711392bf-ffd4-4873-a856-df1c7d64ee54",
   "metadata": {},
   "outputs": [
    {
     "data": {
      "text/plain": [
       "2023-11-01    11.8860\n",
       "2023-12-01    11.6030\n",
       "2024-01-01    13.0447\n",
       "2024-02-01    13.7784\n",
       "2024-03-01    13.0541\n",
       "Name: картофель, dtype: float64"
      ]
     },
     "execution_count": 127,
     "metadata": {},
     "output_type": "execute_result"
    }
   ],
   "source": [
    "potato_raw.tail()"
   ]
  },
  {
   "cell_type": "code",
   "execution_count": 128,
   "id": "a27acdf0-ca7e-4b2e-bd72-076e4df55981",
   "metadata": {},
   "outputs": [],
   "source": [
    "potato_2021 = prices_food_2021_consumers['картофель, кг'].copy()\n",
    "potato_2022 = prices_food_2022_consumers['картофель, кг'].copy()\n",
    "potato_2023 = prices_food_2023_consumers['картофель, кг'].copy()\n",
    "potato_2024 = prices_food_2024_consumers['картофель, кг'].copy()"
   ]
  },
  {
   "cell_type": "code",
   "execution_count": 129,
   "id": "eebe2fdb-faf9-49fa-bad9-5b925b6285a5",
   "metadata": {},
   "outputs": [],
   "source": [
    "potato =  pd.concat([\n",
    "    potato_2021, potato_2022, potato_2023, potato_2024\n",
    "], axis=0)"
   ]
  },
  {
   "cell_type": "code",
   "execution_count": 130,
   "id": "82aa5f78-ffb7-4fb6-91ef-102b8692928f",
   "metadata": {},
   "outputs": [],
   "source": [
    "potato.index =  [to_date(x) for x in potato.index]"
   ]
  },
  {
   "cell_type": "code",
   "execution_count": 131,
   "id": "86deb8e7-d616-41c3-bf2d-6a4df70ade22",
   "metadata": {},
   "outputs": [
    {
     "data": {
      "text/plain": [
       "2023-12-01    28.04\n",
       "2024-01-01    29.93\n",
       "2024-02-01    30.38\n",
       "2024-03-01    30.23\n",
       "2024-04-01    30.98\n",
       "Name: картофель, кг, dtype: object"
      ]
     },
     "execution_count": 131,
     "metadata": {},
     "output_type": "execute_result"
    }
   ],
   "source": [
    "potato.tail()"
   ]
  },
  {
   "cell_type": "code",
   "execution_count": 132,
   "id": "63f66d6c-770f-4d2f-ae57-e5ba576c9836",
   "metadata": {},
   "outputs": [],
   "source": [
    "cucumber_2021 = prices_food_2021_consumers['огурцы свежие, кг'].copy()\n",
    "cucumber_2022 = prices_food_2022_consumers['огурцы свежие, кг'].copy()\n",
    "cucumber_2023 = prices_food_2023_consumers['огурцы свежие, кг'].copy()\n",
    "cucumber_2024 = prices_food_2024_consumers['огурцы свежие, кг'].copy()"
   ]
  },
  {
   "cell_type": "code",
   "execution_count": 133,
   "id": "e52c5552-d979-4a15-82e3-16d852a114cf",
   "metadata": {},
   "outputs": [],
   "source": [
    "cucumber =  pd.concat([\n",
    "    cucumber_2021, cucumber_2022, cucumber_2023, cucumber_2024\n",
    "], axis=0)"
   ]
  },
  {
   "cell_type": "code",
   "execution_count": 134,
   "id": "379d3af4-65a1-48df-82cf-c409d0cd9b08",
   "metadata": {},
   "outputs": [],
   "source": [
    "cucumber.index =  [to_date(x) for x in cucumber.index]"
   ]
  },
  {
   "cell_type": "code",
   "execution_count": 135,
   "id": "b95fa832-1c8e-40d7-97aa-addbdbdfb0d4",
   "metadata": {},
   "outputs": [
    {
     "data": {
      "text/plain": [
       "2023-12-01    209.36\n",
       "2024-01-01    253.33\n",
       "2024-02-01    275.78\n",
       "2024-03-01    215.16\n",
       "2024-04-01    186.86\n",
       "Name: огурцы свежие, кг, dtype: object"
      ]
     },
     "execution_count": 135,
     "metadata": {},
     "output_type": "execute_result"
    }
   ],
   "source": [
    "cucumber.tail()"
   ]
  },
  {
   "cell_type": "code",
   "execution_count": 136,
   "id": "88f20b2d-431c-4965-b900-54dee969dcf1",
   "metadata": {},
   "outputs": [],
   "source": [
    "tomato_2021 = prices_food_2021_consumers['помидоры свежие, кг'].copy()\n",
    "tomato_2022 = prices_food_2022_consumers['помидоры свежие, кг'].copy()\n",
    "tomato_2023 = prices_food_2023_consumers['помидоры свежие, кг'].copy()\n",
    "tomato_2024 = prices_food_2024_consumers['помидоры свежие, кг'].copy()"
   ]
  },
  {
   "cell_type": "code",
   "execution_count": 137,
   "id": "ef73f387-871f-4495-9060-2db107c0c340",
   "metadata": {},
   "outputs": [],
   "source": [
    "tomato =  pd.concat([\n",
    "    tomato_2021, tomato_2022, tomato_2023, tomato_2024\n",
    "], axis=0)"
   ]
  },
  {
   "cell_type": "code",
   "execution_count": 138,
   "id": "9eb6a6c0-a0fc-48e9-9dbf-fdc98811ec86",
   "metadata": {},
   "outputs": [],
   "source": [
    "tomato.index =  [to_date(x) for x in tomato.index]"
   ]
  },
  {
   "cell_type": "code",
   "execution_count": 139,
   "id": "5a3b4993-faee-4410-a300-a5ecb5dfb5a0",
   "metadata": {},
   "outputs": [
    {
     "data": {
      "text/plain": [
       "2023-12-01    222.09\n",
       "2024-01-01    246.99\n",
       "2024-02-01    259.41\n",
       "2024-03-01    270.79\n",
       "2024-04-01    268.17\n",
       "Name: помидоры свежие, кг, dtype: object"
      ]
     },
     "execution_count": 139,
     "metadata": {},
     "output_type": "execute_result"
    }
   ],
   "source": [
    "tomato.tail()"
   ]
  },
  {
   "cell_type": "code",
   "execution_count": 140,
   "id": "ca659ec7-58ab-4d21-9aad-1f4b79db1438",
   "metadata": {},
   "outputs": [],
   "source": [
    "onion_2021 = prices_food_2021_consumers['лук репчатый, кг'].copy()\n",
    "onion_2022 = prices_food_2022_consumers['лук репчатый, кг'].copy()\n",
    "onion_2023 = prices_food_2023_consumers['лук репчатый, кг'].copy()\n",
    "onion_2024 = prices_food_2024_consumers['лук репчатый, кг'].copy()"
   ]
  },
  {
   "cell_type": "code",
   "execution_count": 141,
   "id": "c4684677-9abd-4d0a-922c-e7c7b1baf606",
   "metadata": {},
   "outputs": [],
   "source": [
    "onion =  pd.concat([\n",
    "    onion_2021, onion_2022, onion_2023, onion_2024\n",
    "], axis=0)"
   ]
  },
  {
   "cell_type": "code",
   "execution_count": 142,
   "id": "abc2f517-5dc3-45ac-874c-846cc0cd1241",
   "metadata": {},
   "outputs": [],
   "source": [
    "onion.index =  [to_date(x) for x in onion.index]"
   ]
  },
  {
   "cell_type": "code",
   "execution_count": 143,
   "id": "43e314e4-57a9-402c-9886-f0e90a07508a",
   "metadata": {},
   "outputs": [
    {
     "data": {
      "text/plain": [
       "2023-12-01    34.44\n",
       "2024-01-01    37.13\n",
       "2024-02-01     38.6\n",
       "2024-03-01    38.95\n",
       "2024-04-01    37.82\n",
       "Name: лук репчатый, кг, dtype: object"
      ]
     },
     "execution_count": 143,
     "metadata": {},
     "output_type": "execute_result"
    }
   ],
   "source": [
    "onion.tail()"
   ]
  },
  {
   "cell_type": "code",
   "execution_count": 144,
   "id": "e711ff7b-e555-43c9-9286-e99416a2bebb",
   "metadata": {},
   "outputs": [],
   "source": [
    "carrot_2021 = prices_food_2021_consumers['морковь, кг'].copy()\n",
    "carrot_2022 = prices_food_2022_consumers['морковь, кг'].copy()\n",
    "carrot_2023 = prices_food_2023_consumers['морковь, кг'].copy()\n",
    "carrot_2024 = prices_food_2024_consumers['морковь, кг'].copy()"
   ]
  },
  {
   "cell_type": "code",
   "execution_count": 145,
   "id": "0b9f1e96-8752-434c-a3e4-07d7be87dc23",
   "metadata": {},
   "outputs": [],
   "source": [
    "carrot =  pd.concat([\n",
    "    carrot_2021, carrot_2022, carrot_2023, carrot_2024\n",
    "], axis=0)"
   ]
  },
  {
   "cell_type": "code",
   "execution_count": 146,
   "id": "b6b99377-1189-4787-970f-d302442449f6",
   "metadata": {},
   "outputs": [],
   "source": [
    "carrot.index =  [to_date(x) for x in carrot.index]"
   ]
  },
  {
   "cell_type": "code",
   "execution_count": 147,
   "id": "aa7c631b-572a-4cba-9819-aa95e3411e74",
   "metadata": {},
   "outputs": [
    {
     "data": {
      "text/plain": [
       "2023-12-01    42.31\n",
       "2024-01-01    46.13\n",
       "2024-02-01    48.43\n",
       "2024-03-01    50.45\n",
       "2024-04-01    54.11\n",
       "Name: морковь, кг, dtype: object"
      ]
     },
     "execution_count": 147,
     "metadata": {},
     "output_type": "execute_result"
    }
   ],
   "source": [
    "carrot.tail()"
   ]
  },
  {
   "cell_type": "code",
   "execution_count": 236,
   "id": "c32e4c39-e823-495d-bf81-e89e4c10567f",
   "metadata": {},
   "outputs": [
    {
     "data": {
      "image/png": "[encoded data removed]",
      "text/plain": [
       "<Figure size 900x300 with 1 Axes>"
      ]
     },
     "metadata": {},
     "output_type": "display_data"
    },
    {
     "name": "stdout",
     "output_type": "stream",
     "text": [
      "Images 'price-vegetables.png' and 'price-vegetables.svg' successfully saved into 'docs/img/' directory\n"
     ]
    }
   ],
   "source": [
    "plots_lw = 1.25\n",
    "fig = plt.figure(figsize=(9, 3))\n",
    "\n",
    "plt.plot(\n",
    "    smoothed(normalized_by_first(vegetables_raw), datetime_index=True), lw=1.5, ls='--',\n",
    "    color=palette[0], label='Овощи (средняя цена у производителей)')\n",
    "plt.plot(\n",
    "    smoothed(normalized_by_first(potato), datetime_index=True),\n",
    "    lw=plots_lw, color=alpha_color(palette[5], 0.95), label='Картофель')\n",
    "plt.plot(\n",
    "    smoothed(normalized_by_first(cucumber), datetime_index=True),\n",
    "    lw=plots_lw, color=alpha_color(palette[3], 1), label='Огурцы')\n",
    "plt.plot(\n",
    "    smoothed(normalized_by_first(tomato), datetime_index=True),\n",
    "    lw=plots_lw, color=alpha_color(palette[1], 0.95), label='Помидоры')\n",
    "plt.plot(\n",
    "    smoothed(normalized_by_first(onion), datetime_index=True),\n",
    "    lw=plots_lw, color=alpha_color(palette[2], 0.95), label='Лук')\n",
    "plt.plot(\n",
    "    smoothed(normalized_by_first(carrot), datetime_index=True),\n",
    "    lw=plots_lw, color=alpha_color(palette[9], 0.95), label='Морковь')\n",
    "plot_hline(1)\n",
    "\n",
    "ax = ax_current()\n",
    "ax_ = axis_secondary(pad=25, label_color='#808080')\n",
    "\n",
    "ax.set_xlim(time_range)\n",
    "ax.legend(**legend_inline(4), handlelength=1.35)\n",
    "ax.xaxis.set_major_formatter(mpl.dates.DateFormatter(fmt='%b'))\n",
    "ax.xaxis.set_major_locator(mpl.dates.MonthLocator([1, 4, 7, 10]))\n",
    "ax_.xaxis.set_major_formatter(mpl.dates.DateFormatter(fmt='%Y'))\n",
    "ax_.xaxis.set_major_locator(mpl.dates.MonthLocator(1))\n",
    "axis_rstyle(offset_bottom=5, offset_left=5, ylim=[0, 3], yticks=[0, 3], grid=True)\n",
    "axis_translate_months()\n",
    "plt.show()\n",
    "\n",
    "savefig('price-vegetables', dir=path_save_img, figure=fig, dpi=100)"
   ]
  },
  {
   "cell_type": "code",
   "execution_count": 149,
   "id": "c926e09d-77e3-4590-9116-2847d5f33a50",
   "metadata": {},
   "outputs": [],
   "source": [
    "set_location()"
   ]
  },
  {
   "cell_type": "markdown",
   "id": "dc5f1692-a35b-4777-a64c-72ee9f06359c",
   "metadata": {},
   "source": [
    "#### Яйца куриные"
   ]
  },
  {
   "cell_type": "code",
   "execution_count": 150,
   "id": "5d9fa460-8cb7-466b-96fe-f6b299dc3e4f",
   "metadata": {},
   "outputs": [],
   "source": [
    "eggs_2021_raw = prices_food_2021['яйца куриные в скорлупе свежие'].copy()\n",
    "eggs_2022_raw = prices_food_2022['яйца куриные в скорлупе свежие'].copy()\n",
    "eggs_2023_raw = prices_food_2023['яйца куриные в скорлупе свежие'].copy()\n",
    "eggs_2024_raw = prices_food_2024['яйца куриные в скорлупе свежие'].copy()"
   ]
  },
  {
   "cell_type": "code",
   "execution_count": 151,
   "id": "923d81f2-fbf7-4919-8fe1-97a9e4f504a0",
   "metadata": {},
   "outputs": [],
   "source": [
    "eggs_raw =  pd.concat([\n",
    "    eggs_2021_raw, eggs_2022_raw, eggs_2023_raw, eggs_2024_raw\n",
    "], axis=0)"
   ]
  },
  {
   "cell_type": "code",
   "execution_count": 152,
   "id": "e12fa2c8-6d4d-4f06-9d6b-9c13549def58",
   "metadata": {},
   "outputs": [],
   "source": [
    "eggs_raw.index =  [to_date(x) for x in eggs_raw.index]"
   ]
  },
  {
   "cell_type": "code",
   "execution_count": 153,
   "id": "6cd8524c-121c-4de7-a8e8-e7295311d40c",
   "metadata": {},
   "outputs": [],
   "source": [
    "# eggs price from 1000 eggs to 10 eggs\n",
    "eggs_raw = 0.01 * eggs_raw"
   ]
  },
  {
   "cell_type": "code",
   "execution_count": 154,
   "id": "7ea52cb3-0b8c-4d7d-918d-ceaf2a38e4f8",
   "metadata": {},
   "outputs": [
    {
     "data": {
      "text/plain": [
       "2021-01-01    57.45\n",
       "2021-02-01    57.49\n",
       "2021-03-01    60.99\n",
       "2021-04-01    67.53\n",
       "2021-05-01    61.62\n",
       "Name: яйца куриные в скорлупе свежие, dtype: float64"
      ]
     },
     "execution_count": 154,
     "metadata": {},
     "output_type": "execute_result"
    }
   ],
   "source": [
    "eggs_raw.head()"
   ]
  },
  {
   "cell_type": "code",
   "execution_count": 155,
   "id": "51e018d8-7ac8-4a03-aa6d-1f8e67ccfc82",
   "metadata": {},
   "outputs": [],
   "source": [
    "eggs_2021 = prices_food_2021_consumers['яйца куриные, 10 шт.'].copy()\n",
    "eggs_2022 = prices_food_2022_consumers['яйца куриные, 10 шт.'].copy()\n",
    "eggs_2023 = prices_food_2023_consumers['яйца куриные, 10 шт.'].copy()\n",
    "eggs_2024 = prices_food_2024_consumers['яйца куриные, 10 шт.'].copy()"
   ]
  },
  {
   "cell_type": "code",
   "execution_count": 156,
   "id": "af8b26d5-04e2-47be-97a1-73c2a86df58d",
   "metadata": {},
   "outputs": [],
   "source": [
    "eggs =  pd.concat([\n",
    "    eggs_2021, eggs_2022, eggs_2023, eggs_2024\n",
    "], axis=0)"
   ]
  },
  {
   "cell_type": "code",
   "execution_count": 157,
   "id": "7dcbfb55-e3ea-4117-8379-787617796d67",
   "metadata": {},
   "outputs": [],
   "source": [
    "eggs.index =  [to_date(x) for x in eggs.index]"
   ]
  },
  {
   "cell_type": "code",
   "execution_count": 158,
   "id": "ed0dbb92-b93d-474d-a755-1a36820e9700",
   "metadata": {},
   "outputs": [
    {
     "data": {
      "text/plain": [
       "2023-12-01    132.45\n",
       "2024-01-01    130.06\n",
       "2024-02-01    129.17\n",
       "2024-03-01     125.8\n",
       "2024-04-01    124.45\n",
       "Name: яйца куриные, 10 шт., dtype: object"
      ]
     },
     "execution_count": 158,
     "metadata": {},
     "output_type": "execute_result"
    }
   ],
   "source": [
    "eggs.tail()"
   ]
  },
  {
   "cell_type": "code",
   "execution_count": 238,
   "id": "b3692fc7-7863-46a6-b925-b3788ed597fd",
   "metadata": {},
   "outputs": [
    {
     "data": {
      "image/png": "[encoded data removed]",
      "text/plain": [
       "<Figure size 900x250 with 1 Axes>"
      ]
     },
     "metadata": {},
     "output_type": "display_data"
    },
    {
     "name": "stdout",
     "output_type": "stream",
     "text": [
      "Images 'price-eggs.png' and 'price-eggs.svg' successfully saved into 'docs/img/' directory\n"
     ]
    }
   ],
   "source": [
    "fig = plt.figure()\n",
    "\n",
    "plt.plot(\n",
    "    smoothed(normalized_by_first(eggs), datetime_index=True),\n",
    "    color=palette[0],\n",
    "    label='Цены для потребителей')\n",
    "plt.plot(\n",
    "    smoothed(normalized_by_first(eggs_raw), datetime_index=True), ls='--',\n",
    "    label='Цены производителей')\n",
    "plot_hline(1)\n",
    "\n",
    "ax = ax_current()\n",
    "ax_ = axis_secondary(pad=25, label_color='#808080')\n",
    "\n",
    "ax.set_xlim(time_range)\n",
    "ax.legend(**legend_inline(), handlelength=1.35)\n",
    "ax.xaxis.set_major_formatter(mpl.dates.DateFormatter(fmt='%b'))\n",
    "ax.xaxis.set_major_locator(mpl.dates.MonthLocator([1, 4, 7, 10]))\n",
    "ax_.xaxis.set_major_formatter(mpl.dates.DateFormatter(fmt='%Y'))\n",
    "ax_.xaxis.set_major_locator(mpl.dates.MonthLocator(1))\n",
    "axis_rstyle(offset_bottom=5, offset_left=5, grid=True)\n",
    "axis_translate_months()\n",
    "plt.show()\n",
    "\n",
    "savefig('price-eggs', dir=path_save_img, figure=fig, dpi=100)"
   ]
  },
  {
   "cell_type": "code",
   "execution_count": 160,
   "id": "7aaebd52-2cc3-45d5-93d9-f8b6d936788b",
   "metadata": {},
   "outputs": [],
   "source": [
    "set_location()"
   ]
  },
  {
   "cell_type": "markdown",
   "id": "08e89c7f-79f9-48be-9c11-0760c3b54155",
   "metadata": {},
   "source": [
    "## Доходы и расходы домохозяйств"
   ]
  },
  {
   "cell_type": "markdown",
   "id": "ca650afe-e703-48d0-a6fc-2ba3f3d69116",
   "metadata": {},
   "source": [
    "### Динамика доходов домохозяйств в городской и сельской местности"
   ]
  },
  {
   "cell_type": "code",
   "execution_count": 161,
   "id": "98b28219-e3bb-4b88-8643-53fcdd4165b7",
   "metadata": {},
   "outputs": [],
   "source": [
    "income = economics_data['7.1'].copy()"
   ]
  },
  {
   "cell_type": "code",
   "execution_count": 162,
   "id": "7003b741-7093-420b-982e-4b7267aba247",
   "metadata": {},
   "outputs": [],
   "source": [
    "income_plot_data = income[income['Тип'] == 'Всего'].T[1:].iloc[:, -2:].copy()"
   ]
  },
  {
   "cell_type": "code",
   "execution_count": 163,
   "id": "8a6818c2-96ed-4fa9-8706-e2c4b7111cd6",
   "metadata": {},
   "outputs": [],
   "source": [
    "income_plot_data['delta'] = \\\n",
    "    income_plot_data.iloc[:, 0] - income_plot_data.iloc[:, 1]"
   ]
  },
  {
   "cell_type": "code",
   "execution_count": 164,
   "id": "579ee56e-2ba9-4c9b-b170-4c5ed484a3c3",
   "metadata": {},
   "outputs": [],
   "source": [
    "income_plot_data['delta_town'] = \\\n",
    "    (income_plot_data['Домашние хозяйства, проживающиев городской местности']\n",
    "     .pct_change()\n",
    "     .mul(100))\n",
    "\n",
    "income_plot_data['delta_country'] = \\\n",
    "    (income_plot_data['Домашние хозяйства, проживающиев сельской местности']\n",
    "     .pct_change()\n",
    "     .mul(100))"
   ]
  },
  {
   "cell_type": "code",
   "execution_count": 165,
   "id": "1ace2704-097f-46e0-a6e4-245949c12320",
   "metadata": {},
   "outputs": [],
   "source": [
    "income_plot_data['delta_pct'] = \\\n",
    "    income_plot_data['delta_town'] - income_plot_data['delta_country']"
   ]
  },
  {
   "cell_type": "code",
   "execution_count": 166,
   "id": "8dcb662c-22ab-4930-847d-659f38752829",
   "metadata": {},
   "outputs": [],
   "source": [
    "income_plot_data['country/town'] = \\\n",
    "    (income_plot_data['Домашние хозяйства, проживающиев сельской местности']\n",
    "     / income_plot_data['Домашние хозяйства, проживающиев городской местности'])"
   ]
  },
  {
   "cell_type": "code",
   "execution_count": 167,
   "id": "2a49ed3c-4dd3-403c-acc2-2a03a866acb9",
   "metadata": {},
   "outputs": [],
   "source": [
    "income_plot_data.index = income_plot_data.index.astype(int)"
   ]
  },
  {
   "cell_type": "code",
   "execution_count": 168,
   "id": "95d1ec02-99f8-4274-91d7-fbac61d6c408",
   "metadata": {},
   "outputs": [
    {
     "data": {
      "text/html": [
       "<div>\n",
       "<style scoped>\n",
       "    .dataframe tbody tr th:only-of-type {\n",
       "        vertical-align: middle;\n",
       "    }\n",
       "\n",
       "    .dataframe tbody tr th {\n",
       "        vertical-align: top;\n",
       "    }\n",
       "\n",
       "    .dataframe thead th {\n",
       "        text-align: right;\n",
       "    }\n",
       "</style>\n",
       "<table border=\"1\" class=\"dataframe\">\n",
       "  <thead>\n",
       "    <tr style=\"text-align: right;\">\n",
       "      <th></th>\n",
       "      <th>Домашние хозяйства, проживающиев городской местности</th>\n",
       "      <th>Домашние хозяйства, проживающиев сельской местности</th>\n",
       "      <th>delta</th>\n",
       "      <th>delta_town</th>\n",
       "      <th>delta_country</th>\n",
       "      <th>delta_pct</th>\n",
       "      <th>country/town</th>\n",
       "    </tr>\n",
       "  </thead>\n",
       "  <tbody>\n",
       "    <tr>\n",
       "      <th>2003</th>\n",
       "      <td>4009.0</td>\n",
       "      <td>2423.2</td>\n",
       "      <td>1585.8</td>\n",
       "      <td>NaN</td>\n",
       "      <td>NaN</td>\n",
       "      <td>NaN</td>\n",
       "      <td>0.60444</td>\n",
       "    </tr>\n",
       "    <tr>\n",
       "      <th>2004</th>\n",
       "      <td>5016.0</td>\n",
       "      <td>2851.3</td>\n",
       "      <td>2164.7</td>\n",
       "      <td>25.118483</td>\n",
       "      <td>17.666722</td>\n",
       "      <td>7.451762</td>\n",
       "      <td>0.568441</td>\n",
       "    </tr>\n",
       "    <tr>\n",
       "      <th>2005</th>\n",
       "      <td>6529.5</td>\n",
       "      <td>3604.7</td>\n",
       "      <td>2924.8</td>\n",
       "      <td>30.173445</td>\n",
       "      <td>26.423035</td>\n",
       "      <td>3.750410</td>\n",
       "      <td>0.552064</td>\n",
       "    </tr>\n",
       "    <tr>\n",
       "      <th>2006</th>\n",
       "      <td>7984.9</td>\n",
       "      <td>4495.4</td>\n",
       "      <td>3489.5</td>\n",
       "      <td>22.289609</td>\n",
       "      <td>24.709407</td>\n",
       "      <td>-2.419798</td>\n",
       "      <td>0.562988</td>\n",
       "    </tr>\n",
       "    <tr>\n",
       "      <th>2007</th>\n",
       "      <td>10354.6</td>\n",
       "      <td>5871.1</td>\n",
       "      <td>4483.5</td>\n",
       "      <td>29.677266</td>\n",
       "      <td>30.602394</td>\n",
       "      <td>-0.925128</td>\n",
       "      <td>0.567004</td>\n",
       "    </tr>\n",
       "    <tr>\n",
       "      <th>2008</th>\n",
       "      <td>13465.9</td>\n",
       "      <td>7786.5</td>\n",
       "      <td>5679.4</td>\n",
       "      <td>30.047515</td>\n",
       "      <td>32.624210</td>\n",
       "      <td>-2.576695</td>\n",
       "      <td>0.578238</td>\n",
       "    </tr>\n",
       "    <tr>\n",
       "      <th>2009</th>\n",
       "      <td>13869.4</td>\n",
       "      <td>8416.9</td>\n",
       "      <td>5452.5</td>\n",
       "      <td>2.996458</td>\n",
       "      <td>8.096064</td>\n",
       "      <td>-5.099606</td>\n",
       "      <td>0.606868</td>\n",
       "    </tr>\n",
       "    <tr>\n",
       "      <th>2010</th>\n",
       "      <td>16265.0</td>\n",
       "      <td>10128.7</td>\n",
       "      <td>6136.3</td>\n",
       "      <td>17.272557</td>\n",
       "      <td>20.337654</td>\n",
       "      <td>-3.065097</td>\n",
       "      <td>0.62273</td>\n",
       "    </tr>\n",
       "    <tr>\n",
       "      <th>2011</th>\n",
       "      <td>18291.1</td>\n",
       "      <td>11745.8</td>\n",
       "      <td>6545.3</td>\n",
       "      <td>12.456809</td>\n",
       "      <td>15.965524</td>\n",
       "      <td>-3.508715</td>\n",
       "      <td>0.642159</td>\n",
       "    </tr>\n",
       "    <tr>\n",
       "      <th>2012</th>\n",
       "      <td>20405.0</td>\n",
       "      <td>13320.3</td>\n",
       "      <td>7084.7</td>\n",
       "      <td>11.556987</td>\n",
       "      <td>13.404791</td>\n",
       "      <td>-1.847805</td>\n",
       "      <td>0.652796</td>\n",
       "    </tr>\n",
       "    <tr>\n",
       "      <th>2013</th>\n",
       "      <td>23645.0</td>\n",
       "      <td>14191.7</td>\n",
       "      <td>9453.3</td>\n",
       "      <td>15.878461</td>\n",
       "      <td>6.541895</td>\n",
       "      <td>9.336566</td>\n",
       "      <td>0.600199</td>\n",
       "    </tr>\n",
       "    <tr>\n",
       "      <th>2014</th>\n",
       "      <td>25347.5</td>\n",
       "      <td>15802.3</td>\n",
       "      <td>9545.2</td>\n",
       "      <td>7.200254</td>\n",
       "      <td>11.348887</td>\n",
       "      <td>-4.148633</td>\n",
       "      <td>0.623426</td>\n",
       "    </tr>\n",
       "    <tr>\n",
       "      <th>2015</th>\n",
       "      <td>25466.4</td>\n",
       "      <td>16639.7</td>\n",
       "      <td>8826.7</td>\n",
       "      <td>0.469080</td>\n",
       "      <td>5.299229</td>\n",
       "      <td>-4.830149</td>\n",
       "      <td>0.653398</td>\n",
       "    </tr>\n",
       "    <tr>\n",
       "      <th>2016</th>\n",
       "      <td>26719.7</td>\n",
       "      <td>16971.0</td>\n",
       "      <td>9748.7</td>\n",
       "      <td>4.921387</td>\n",
       "      <td>1.991021</td>\n",
       "      <td>2.930365</td>\n",
       "      <td>0.635149</td>\n",
       "    </tr>\n",
       "    <tr>\n",
       "      <th>2017</th>\n",
       "      <td>27206.8</td>\n",
       "      <td>18309.1</td>\n",
       "      <td>8897.7</td>\n",
       "      <td>1.823000</td>\n",
       "      <td>7.884627</td>\n",
       "      <td>-6.061627</td>\n",
       "      <td>0.67296</td>\n",
       "    </tr>\n",
       "    <tr>\n",
       "      <th>2018</th>\n",
       "      <td>29556.9</td>\n",
       "      <td>19188.5</td>\n",
       "      <td>10368.4</td>\n",
       "      <td>8.637914</td>\n",
       "      <td>4.803076</td>\n",
       "      <td>3.834838</td>\n",
       "      <td>0.649205</td>\n",
       "    </tr>\n",
       "    <tr>\n",
       "      <th>2019</th>\n",
       "      <td>31931.9</td>\n",
       "      <td>20360.8</td>\n",
       "      <td>11571.1</td>\n",
       "      <td>8.035349</td>\n",
       "      <td>6.109388</td>\n",
       "      <td>1.925960</td>\n",
       "      <td>0.637632</td>\n",
       "    </tr>\n",
       "    <tr>\n",
       "      <th>2020</th>\n",
       "      <td>31818.4</td>\n",
       "      <td>21432.4</td>\n",
       "      <td>10386.0</td>\n",
       "      <td>-0.355444</td>\n",
       "      <td>5.263054</td>\n",
       "      <td>-5.618498</td>\n",
       "      <td>0.673585</td>\n",
       "    </tr>\n",
       "    <tr>\n",
       "      <th>2021</th>\n",
       "      <td>34663.1</td>\n",
       "      <td>23232.2</td>\n",
       "      <td>11430.9</td>\n",
       "      <td>8.940424</td>\n",
       "      <td>8.397566</td>\n",
       "      <td>0.542858</td>\n",
       "      <td>0.670229</td>\n",
       "    </tr>\n",
       "    <tr>\n",
       "      <th>2022</th>\n",
       "      <td>38211.3</td>\n",
       "      <td>25650.2</td>\n",
       "      <td>12561.1</td>\n",
       "      <td>10.236245</td>\n",
       "      <td>10.407968</td>\n",
       "      <td>-0.171723</td>\n",
       "      <td>0.671273</td>\n",
       "    </tr>\n",
       "  </tbody>\n",
       "</table>\n",
       "</div>"
      ],
      "text/plain": [
       "     Домашние хозяйства, проживающиев городской местности  \\\n",
       "2003                                             4009.0     \n",
       "2004                                             5016.0     \n",
       "2005                                             6529.5     \n",
       "2006                                             7984.9     \n",
       "2007                                            10354.6     \n",
       "2008                                            13465.9     \n",
       "2009                                            13869.4     \n",
       "2010                                            16265.0     \n",
       "2011                                            18291.1     \n",
       "2012                                            20405.0     \n",
       "2013                                            23645.0     \n",
       "2014                                            25347.5     \n",
       "2015                                            25466.4     \n",
       "2016                                            26719.7     \n",
       "2017                                            27206.8     \n",
       "2018                                            29556.9     \n",
       "2019                                            31931.9     \n",
       "2020                                            31818.4     \n",
       "2021                                            34663.1     \n",
       "2022                                            38211.3     \n",
       "\n",
       "     Домашние хозяйства, проживающиев сельской местности    delta  delta_town  \\\n",
       "2003                                             2423.2    1585.8         NaN   \n",
       "2004                                             2851.3    2164.7   25.118483   \n",
       "2005                                             3604.7    2924.8   30.173445   \n",
       "2006                                             4495.4    3489.5   22.289609   \n",
       "2007                                             5871.1    4483.5   29.677266   \n",
       "2008                                             7786.5    5679.4   30.047515   \n",
       "2009                                             8416.9    5452.5    2.996458   \n",
       "2010                                            10128.7    6136.3   17.272557   \n",
       "2011                                            11745.8    6545.3   12.456809   \n",
       "2012                                            13320.3    7084.7   11.556987   \n",
       "2013                                            14191.7    9453.3   15.878461   \n",
       "2014                                            15802.3    9545.2    7.200254   \n",
       "2015                                            16639.7    8826.7    0.469080   \n",
       "2016                                            16971.0    9748.7    4.921387   \n",
       "2017                                            18309.1    8897.7    1.823000   \n",
       "2018                                            19188.5   10368.4    8.637914   \n",
       "2019                                            20360.8   11571.1    8.035349   \n",
       "2020                                            21432.4   10386.0   -0.355444   \n",
       "2021                                            23232.2   11430.9    8.940424   \n",
       "2022                                            25650.2   12561.1   10.236245   \n",
       "\n",
       "      delta_country  delta_pct country/town  \n",
       "2003            NaN        NaN      0.60444  \n",
       "2004      17.666722   7.451762     0.568441  \n",
       "2005      26.423035   3.750410     0.552064  \n",
       "2006      24.709407  -2.419798     0.562988  \n",
       "2007      30.602394  -0.925128     0.567004  \n",
       "2008      32.624210  -2.576695     0.578238  \n",
       "2009       8.096064  -5.099606     0.606868  \n",
       "2010      20.337654  -3.065097      0.62273  \n",
       "2011      15.965524  -3.508715     0.642159  \n",
       "2012      13.404791  -1.847805     0.652796  \n",
       "2013       6.541895   9.336566     0.600199  \n",
       "2014      11.348887  -4.148633     0.623426  \n",
       "2015       5.299229  -4.830149     0.653398  \n",
       "2016       1.991021   2.930365     0.635149  \n",
       "2017       7.884627  -6.061627      0.67296  \n",
       "2018       4.803076   3.834838     0.649205  \n",
       "2019       6.109388   1.925960     0.637632  \n",
       "2020       5.263054  -5.618498     0.673585  \n",
       "2021       8.397566   0.542858     0.670229  \n",
       "2022      10.407968  -0.171723     0.671273  "
      ]
     },
     "execution_count": 168,
     "metadata": {},
     "output_type": "execute_result"
    }
   ],
   "source": [
    "income_plot_data"
   ]
  },
  {
   "cell_type": "code",
   "execution_count": 169,
   "id": "320d7e9e-cb66-46c6-a108-5d3918ed3cfb",
   "metadata": {},
   "outputs": [],
   "source": [
    "# protest\n",
    "plot_text1 =  '''\n",
    "    Протестные акции\n",
    "    (декабрь 2011)\n",
    "'''\n",
    "# elections\n",
    "plot_text2 = '''\n",
    "    Выборы президента РФ\n",
    "    (март 2012)\n",
    "'''\n",
    "plot_titles = [\n",
    "    'Абсолютная разница в доходах городской и сельской местностей',\n",
    "    'Отношение доходов в сельской местности к доходам в городской местности',\n",
    "    'Разница в темпах роста городских и сельских доходов',\n",
    "    'Разница в темпах роста городских и сельских доходов (тренд)'\n",
    "]"
   ]
  },
  {
   "cell_type": "code",
   "execution_count": 170,
   "id": "d30aa12e-190a-4ed5-9663-0e9f2cde54fc",
   "metadata": {},
   "outputs": [
    {
     "data": {
      "image/png": "[encoded data removed]",
      "text/plain": [
       "<Figure size 900x450 with 2 Axes>"
      ]
     },
     "metadata": {},
     "output_type": "display_data"
    },
    {
     "name": "stdout",
     "output_type": "stream",
     "text": [
      "Images 'income-(cities)-1.png' and 'income-(cities)-1.svg' successfully saved into 'docs/img/' directory\n"
     ]
    }
   ],
   "source": [
    "fig, ax = plt.subplots(2, 1, figsize=(9, 4.5))\n",
    "\n",
    "ax[0].bar(\n",
    "    height=income_plot_data['delta'][:10],\n",
    "    x=income_plot_data.index[:10], width=0.5, color=palette[-4])\n",
    "ax[0].bar(\n",
    "    height=income_plot_data['delta'][10:],\n",
    "    x=income_plot_data.index[10:], width=0.5, color=palette[0])\n",
    "ax[0].set_xticks(ticks=income_plot_data.index)\n",
    "ax[0].set_title(plot_titles[0])\n",
    "ax[0].set_ylim(top=12000)\n",
    "axis_rstyle(offset_left=3.5, ax=ax[0])\n",
    "ax[0].tick_params(axis='x', bottom=False)\n",
    "# adjust the length of spines\n",
    "axis_adjust_barplot(line_hidden=True, pad=0, weight='normal', labelsize=8, ax=ax[0])\n",
    "\n",
    "ax[1].bar(\n",
    "    height=income_plot_data['country/town'],\n",
    "    x=income_plot_data.index, width=0.5, color=palette[2])\n",
    "ax[1].set_xticks(ticks=income_plot_data.index)\n",
    "ax[1].set_title(plot_titles[1])\n",
    "ax[1].set_ylim(0.5, 0.7)\n",
    "axis_rstyle(offset_left=3.5, ax=ax[1])\n",
    "ax[1].tick_params(axis='x', bottom=False)\n",
    "# adjust the length of spines\n",
    "axis_adjust_barplot(line_hidden=True, pad=0, weight='normal', labelsize=8, ax=ax[1])\n",
    "\n",
    "plt.subplots_adjust(hspace=0.6)\n",
    "plt.show()\n",
    "\n",
    "savefig('income-(cities)-1', dir=path_save_img, figure=fig, dpi=100)"
   ]
  },
  {
   "cell_type": "code",
   "execution_count": 171,
   "id": "8783ec56-6d40-4514-b33b-84f377c5d79e",
   "metadata": {},
   "outputs": [
    {
     "data": {
      "image/png": "[encoded data removed]",
      "text/plain": [
       "<Figure size 900x475 with 2 Axes>"
      ]
     },
     "metadata": {},
     "output_type": "display_data"
    },
    {
     "name": "stdout",
     "output_type": "stream",
     "text": [
      "Images 'income-(cities)-2.png' and 'income-(cities)-2.svg' successfully saved into 'docs/img/' directory\n"
     ]
    }
   ],
   "source": [
    "fig = plt.figure(figsize=(9, 4.75))\n",
    "spec = fig.add_gridspec(2, 1, height_ratios=[1, 1.25])\n",
    "\n",
    "# ax0\n",
    "ax = fig.add_subplot(spec[0, :])\n",
    "ax.bar(\n",
    "    height=income_plot_data['delta_pct'],\n",
    "    x=income_plot_data.index, width=0.15,\n",
    "    ec='none', color=palette[1], zorder=10\n",
    ")\n",
    "ax.axhline(\n",
    "    0, 0.025, 0.975, lw=1, ls='--', color=palette[-2], alpha=0.5, zorder=1\n",
    ")\n",
    "ax.set_xticks(ticks=income_plot_data.index)\n",
    "ax.set_title(plot_titles[2])\n",
    "ax.grid(False)\n",
    "# axis_rstyle(xticks=[2004, 2022, 1], yticks=[-15, 15], margin=True)\n",
    "axis_rstyle(\n",
    "    offset_left=0, offset_bottom=5,\n",
    "    yticks=[-15, 15], xticks=[2004, 2022])\n",
    "\n",
    "# ax1\n",
    "ax = fig.add_subplot(spec[1, :])\n",
    "ax.scatter(\n",
    "    income_plot_data.index[:10], income_plot_data['delta_pct'][:10],\n",
    "    s=5, color=palette[13], zorder=10\n",
    ")\n",
    "ax.scatter(\n",
    "    income_plot_data.index[10:], income_plot_data['delta_pct'][10:],\n",
    "    s=5, color=palette[10], zorder=10\n",
    ")\n",
    "ax.legend(\n",
    "    labels=['До 2013', 'После 2013'], **legend_inline())\n",
    "ax.plot(\n",
    "    smoothed(income_plot_data['delta_pct'][1:], return_type='df'),\n",
    "    lw=1, alpha=0.5, zorder=1\n",
    ")\n",
    "ax.axhline(0, 0.025, 0.975, lw=1, ls='--', color=palette[-2], alpha=0.75)\n",
    "ax.set_ylim(top=17)\n",
    "ax.set_xticks(ticks=income_plot_data.index)\n",
    "ax.set_title(plot_titles[3], **title_inline)\n",
    "ax.grid(False)\n",
    "\n",
    "plot_timemarker(\n",
    "    text=plot_text1, x=2010.6, y_text=10, y_line=0.8, delta=0.4,\n",
    "    weight='bold', style='italic', ha='right', ax=ax)\n",
    "plot_timemarker(\n",
    "    text=plot_text2, x=2011.25, y_text=15, y_line=0.93, delta=0.05,\n",
    "    weight='bold', style='italic', ax=ax)\n",
    "axis_rstyle(\n",
    "    offset_left=2, offset_bottom=5,\n",
    "    yticks=[-15, 15], xticks=[2004, 2022])\n",
    "\n",
    "plt.subplots_adjust(hspace=0.9)\n",
    "plt.show()\n",
    "\n",
    "savefig('income-(cities)-2', dir=path_save_img, figure=fig, dpi=100)"
   ]
  },
  {
   "cell_type": "markdown",
   "id": "978e2bbc-bb7d-4ace-951a-503ac72ea9c2",
   "metadata": {},
   "source": [
    "### Структура расходов домохозяйств в городской местности"
   ]
  },
  {
   "cell_type": "code",
   "execution_count": 172,
   "id": "77ca9e29-f75e-4099-a239-6650d0e1638d",
   "metadata": {},
   "outputs": [],
   "source": [
    "spends = economics_data['7.2']"
   ]
  },
  {
   "cell_type": "code",
   "execution_count": 173,
   "id": "64334469-745e-452f-b59d-c492cbc4e34c",
   "metadata": {},
   "outputs": [
    {
     "data": {
      "text/html": [
       "<div>\n",
       "<style scoped>\n",
       "    .dataframe tbody tr th:only-of-type {\n",
       "        vertical-align: middle;\n",
       "    }\n",
       "\n",
       "    .dataframe tbody tr th {\n",
       "        vertical-align: top;\n",
       "    }\n",
       "\n",
       "    .dataframe thead th {\n",
       "        text-align: right;\n",
       "    }\n",
       "</style>\n",
       "<table border=\"1\" class=\"dataframe\">\n",
       "  <thead>\n",
       "    <tr style=\"text-align: right;\">\n",
       "      <th></th>\n",
       "      <th>Тип</th>\n",
       "      <th>2003</th>\n",
       "      <th>2004</th>\n",
       "      <th>2005</th>\n",
       "      <th>2006</th>\n",
       "      <th>2007</th>\n",
       "      <th>2008</th>\n",
       "      <th>2009</th>\n",
       "      <th>2010</th>\n",
       "      <th>2011</th>\n",
       "      <th>...</th>\n",
       "      <th>2013</th>\n",
       "      <th>2014</th>\n",
       "      <th>2015</th>\n",
       "      <th>2016</th>\n",
       "      <th>2017</th>\n",
       "      <th>2018</th>\n",
       "      <th>2019</th>\n",
       "      <th>2020</th>\n",
       "      <th>2021</th>\n",
       "      <th>2022</th>\n",
       "    </tr>\n",
       "  </thead>\n",
       "  <tbody>\n",
       "    <tr>\n",
       "      <th>Все домашние хозяйства</th>\n",
       "      <td>Всего</td>\n",
       "      <td>2989.3</td>\n",
       "      <td>3582.9</td>\n",
       "      <td>4490.0</td>\n",
       "      <td>5353.1</td>\n",
       "      <td>6842.6</td>\n",
       "      <td>8561.8</td>\n",
       "      <td>9054.0</td>\n",
       "      <td>10513.4</td>\n",
       "      <td>11715.1</td>\n",
       "      <td>...</td>\n",
       "      <td>14153.8</td>\n",
       "      <td>15094.3</td>\n",
       "      <td>15295.4</td>\n",
       "      <td>16632.5</td>\n",
       "      <td>17319.9</td>\n",
       "      <td>18031.4</td>\n",
       "      <td>19727.7</td>\n",
       "      <td>19180.8</td>\n",
       "      <td>21154.3</td>\n",
       "      <td>23787.9</td>\n",
       "    </tr>\n",
       "    <tr>\n",
       "      <th>Все домашние хозяйства</th>\n",
       "      <td>Расходы на питание</td>\n",
       "      <td>1337.7</td>\n",
       "      <td>1537.6</td>\n",
       "      <td>1765.0</td>\n",
       "      <td>1984.1</td>\n",
       "      <td>2321.1</td>\n",
       "      <td>2947.1</td>\n",
       "      <td>3276.1</td>\n",
       "      <td>3714.6</td>\n",
       "      <td>4078.1</td>\n",
       "      <td>...</td>\n",
       "      <td>4694.9</td>\n",
       "      <td>5111.0</td>\n",
       "      <td>5707.8</td>\n",
       "      <td>6220.7</td>\n",
       "      <td>6250.0</td>\n",
       "      <td>6352.4</td>\n",
       "      <td>6818.3</td>\n",
       "      <td>7101.9</td>\n",
       "      <td>7675.2</td>\n",
       "      <td>8852.7</td>\n",
       "    </tr>\n",
       "    <tr>\n",
       "      <th>Все домашние хозяйства</th>\n",
       "      <td>Расходы на непродовольственные товары</td>\n",
       "      <td>1029.2</td>\n",
       "      <td>1245.9</td>\n",
       "      <td>1639.0</td>\n",
       "      <td>1976.7</td>\n",
       "      <td>2735.0</td>\n",
       "      <td>3368.2</td>\n",
       "      <td>3287.3</td>\n",
       "      <td>3906.5</td>\n",
       "      <td>4444.2</td>\n",
       "      <td>...</td>\n",
       "      <td>5600.3</td>\n",
       "      <td>5860.0</td>\n",
       "      <td>5365.5</td>\n",
       "      <td>5696.8</td>\n",
       "      <td>6230.6</td>\n",
       "      <td>6484.0</td>\n",
       "      <td>7054.8</td>\n",
       "      <td>6901.0</td>\n",
       "      <td>7418.0</td>\n",
       "      <td>8232.7</td>\n",
       "    </tr>\n",
       "    <tr>\n",
       "      <th>Все домашние хозяйства</th>\n",
       "      <td>Расходы на алкогольные напитки</td>\n",
       "      <td>60.5</td>\n",
       "      <td>70.1</td>\n",
       "      <td>81.7</td>\n",
       "      <td>98.2</td>\n",
       "      <td>114.3</td>\n",
       "      <td>133.8</td>\n",
       "      <td>146.3</td>\n",
       "      <td>172.1</td>\n",
       "      <td>193.6</td>\n",
       "      <td>...</td>\n",
       "      <td>233.2</td>\n",
       "      <td>257.8</td>\n",
       "      <td>263.4</td>\n",
       "      <td>284.4</td>\n",
       "      <td>279.6</td>\n",
       "      <td>284.8</td>\n",
       "      <td>313.0</td>\n",
       "      <td>337.7</td>\n",
       "      <td>320.7</td>\n",
       "      <td>379.0</td>\n",
       "    </tr>\n",
       "    <tr>\n",
       "      <th>Все домашние хозяйства</th>\n",
       "      <td>Расходы на оплату услуг</td>\n",
       "      <td>545.1</td>\n",
       "      <td>711.6</td>\n",
       "      <td>994.6</td>\n",
       "      <td>1283.2</td>\n",
       "      <td>1660.5</td>\n",
       "      <td>2098.1</td>\n",
       "      <td>2329.2</td>\n",
       "      <td>2705.1</td>\n",
       "      <td>2984.5</td>\n",
       "      <td>...</td>\n",
       "      <td>3606.2</td>\n",
       "      <td>3849.0</td>\n",
       "      <td>3885.3</td>\n",
       "      <td>4388.7</td>\n",
       "      <td>4520.5</td>\n",
       "      <td>4871.6</td>\n",
       "      <td>5490.6</td>\n",
       "      <td>4785.4</td>\n",
       "      <td>5686.4</td>\n",
       "      <td>6265.3</td>\n",
       "    </tr>\n",
       "  </tbody>\n",
       "</table>\n",
       "<p>5 rows × 21 columns</p>\n",
       "</div>"
      ],
      "text/plain": [
       "                                                          Тип    2003    2004  \\\n",
       "Все домашние хозяйства                                  Всего  2989.3  3582.9   \n",
       "Все домашние хозяйства                     Расходы на питание  1337.7  1537.6   \n",
       "Все домашние хозяйства  Расходы на непродовольственные товары  1029.2  1245.9   \n",
       "Все домашние хозяйства         Расходы на алкогольные напитки    60.5    70.1   \n",
       "Все домашние хозяйства                Расходы на оплату услуг   545.1   711.6   \n",
       "\n",
       "                          2005    2006    2007    2008    2009     2010  \\\n",
       "Все домашние хозяйства  4490.0  5353.1  6842.6  8561.8  9054.0  10513.4   \n",
       "Все домашние хозяйства  1765.0  1984.1  2321.1  2947.1  3276.1   3714.6   \n",
       "Все домашние хозяйства  1639.0  1976.7  2735.0  3368.2  3287.3   3906.5   \n",
       "Все домашние хозяйства    81.7    98.2   114.3   133.8   146.3    172.1   \n",
       "Все домашние хозяйства   994.6  1283.2  1660.5  2098.1  2329.2   2705.1   \n",
       "\n",
       "                           2011  ...     2013     2014     2015     2016  \\\n",
       "Все домашние хозяйства  11715.1  ...  14153.8  15094.3  15295.4  16632.5   \n",
       "Все домашние хозяйства   4078.1  ...   4694.9   5111.0   5707.8   6220.7   \n",
       "Все домашние хозяйства   4444.2  ...   5600.3   5860.0   5365.5   5696.8   \n",
       "Все домашние хозяйства    193.6  ...    233.2    257.8    263.4    284.4   \n",
       "Все домашние хозяйства   2984.5  ...   3606.2   3849.0   3885.3   4388.7   \n",
       "\n",
       "                           2017     2018     2019     2020     2021     2022  \n",
       "Все домашние хозяйства  17319.9  18031.4  19727.7  19180.8  21154.3  23787.9  \n",
       "Все домашние хозяйства   6250.0   6352.4   6818.3   7101.9   7675.2   8852.7  \n",
       "Все домашние хозяйства   6230.6   6484.0   7054.8   6901.0   7418.0   8232.7  \n",
       "Все домашние хозяйства    279.6    284.8    313.0    337.7    320.7    379.0  \n",
       "Все домашние хозяйства   4520.5   4871.6   5490.6   4785.4   5686.4   6265.3  \n",
       "\n",
       "[5 rows x 21 columns]"
      ]
     },
     "execution_count": 173,
     "metadata": {},
     "output_type": "execute_result"
    }
   ],
   "source": [
    "spends.head()"
   ]
  },
  {
   "cell_type": "markdown",
   "id": "2feaddbf-c84d-4f2e-8a79-cc3196be8bf4",
   "metadata": {},
   "source": [
    "##### Preparing data"
   ]
  },
  {
   "cell_type": "code",
   "execution_count": 174,
   "id": "39b75499-dee2-4cc4-9f38-829af80422b1",
   "metadata": {},
   "outputs": [],
   "source": [
    "spends_plot_town = \\\n",
    "    spends.loc['Домашние хозяйства, проживающиев городской местности'].T.copy()"
   ]
  },
  {
   "cell_type": "code",
   "execution_count": 175,
   "id": "d2f563ee-ea33-4479-adf6-e886e35195c6",
   "metadata": {},
   "outputs": [],
   "source": [
    "spends_plot_town.columns = spends_plot_town.iloc[0, :]"
   ]
  },
  {
   "cell_type": "code",
   "execution_count": 176,
   "id": "c651e3db-b189-49ca-a6b6-6807e4ccaef0",
   "metadata": {},
   "outputs": [],
   "source": [
    "spends_plot_town = spends_plot_town.drop(spends_plot_town.iloc[0].name, axis=0)"
   ]
  },
  {
   "cell_type": "code",
   "execution_count": 177,
   "id": "06a75693-0a0c-4949-8d90-78ed47c18561",
   "metadata": {},
   "outputs": [
    {
     "data": {
      "text/html": [
       "<div>\n",
       "<style scoped>\n",
       "    .dataframe tbody tr th:only-of-type {\n",
       "        vertical-align: middle;\n",
       "    }\n",
       "\n",
       "    .dataframe tbody tr th {\n",
       "        vertical-align: top;\n",
       "    }\n",
       "\n",
       "    .dataframe thead th {\n",
       "        text-align: right;\n",
       "    }\n",
       "</style>\n",
       "<table border=\"1\" class=\"dataframe\">\n",
       "  <thead>\n",
       "    <tr style=\"text-align: right;\">\n",
       "      <th>Тип</th>\n",
       "      <th>Всего</th>\n",
       "      <th>Расходы на питание</th>\n",
       "      <th>Расходы на непродовольственные товары</th>\n",
       "      <th>Расходы на алкогольные напитки</th>\n",
       "      <th>Расходы на оплату услуг</th>\n",
       "      <th>Стоимость услуг, оказанных работодателем бесплатно или по льготным ценам</th>\n",
       "    </tr>\n",
       "  </thead>\n",
       "  <tbody>\n",
       "    <tr>\n",
       "      <th>2003</th>\n",
       "      <td>3331.5</td>\n",
       "      <td>1406.5</td>\n",
       "      <td>1178.7</td>\n",
       "      <td>67.0</td>\n",
       "      <td>659.1</td>\n",
       "      <td>20.2</td>\n",
       "    </tr>\n",
       "    <tr>\n",
       "      <th>2004</th>\n",
       "      <td>4022.0</td>\n",
       "      <td>1631.0</td>\n",
       "      <td>1430.8</td>\n",
       "      <td>79.1</td>\n",
       "      <td>859.8</td>\n",
       "      <td>21.3</td>\n",
       "    </tr>\n",
       "    <tr>\n",
       "      <th>2005</th>\n",
       "      <td>5061.7</td>\n",
       "      <td>1866.0</td>\n",
       "      <td>1885.0</td>\n",
       "      <td>91.7</td>\n",
       "      <td>1206.5</td>\n",
       "      <td>12.5</td>\n",
       "    </tr>\n",
       "    <tr>\n",
       "      <th>2006</th>\n",
       "      <td>6021.6</td>\n",
       "      <td>2095.3</td>\n",
       "      <td>2248.3</td>\n",
       "      <td>110.8</td>\n",
       "      <td>1553.1</td>\n",
       "      <td>14.1</td>\n",
       "    </tr>\n",
       "    <tr>\n",
       "      <th>2007</th>\n",
       "      <td>7728.3</td>\n",
       "      <td>2447.3</td>\n",
       "      <td>3122.5</td>\n",
       "      <td>127.4</td>\n",
       "      <td>2016.6</td>\n",
       "      <td>14.5</td>\n",
       "    </tr>\n",
       "  </tbody>\n",
       "</table>\n",
       "</div>"
      ],
      "text/plain": [
       "Тип    Всего Расходы на питание Расходы на непродовольственные товары  \\\n",
       "2003  3331.5             1406.5                                1178.7   \n",
       "2004  4022.0             1631.0                                1430.8   \n",
       "2005  5061.7             1866.0                                1885.0   \n",
       "2006  6021.6             2095.3                                2248.3   \n",
       "2007  7728.3             2447.3                                3122.5   \n",
       "\n",
       "Тип  Расходы на алкогольные напитки Расходы на оплату услуг  \\\n",
       "2003                           67.0                   659.1   \n",
       "2004                           79.1                   859.8   \n",
       "2005                           91.7                  1206.5   \n",
       "2006                          110.8                  1553.1   \n",
       "2007                          127.4                  2016.6   \n",
       "\n",
       "Тип  Стоимость услуг, оказанных работодателем бесплатно или по льготным ценам  \n",
       "2003                                               20.2                        \n",
       "2004                                               21.3                        \n",
       "2005                                               12.5                        \n",
       "2006                                               14.1                        \n",
       "2007                                               14.5                        "
      ]
     },
     "execution_count": 177,
     "metadata": {},
     "output_type": "execute_result"
    }
   ],
   "source": [
    "spends_plot_town.head()"
   ]
  },
  {
   "cell_type": "code",
   "execution_count": 178,
   "id": "cf09990d-1b4b-44b8-8ef0-286edaed891d",
   "metadata": {},
   "outputs": [],
   "source": [
    "# specific spends as fraction of total spends\n",
    "spends_plot_town['food_frac'] = \\\n",
    "    ((spends_plot_town['Расходы на питание']\n",
    "      / spends_plot_town['Всего']).mul(100))\n",
    "\n",
    "spends_plot_town['goods_frac'] = \\\n",
    "    ((spends_plot_town['Расходы на непродовольственные товары']\n",
    "      / spends_plot_town['Всего']).mul(100))\n",
    "\n",
    "spends_plot_town['services_frac'] = \\\n",
    "    ((spends_plot_town['Расходы на оплату услуг']\n",
    "      / spends_plot_town['Всего']).mul(100))\n",
    "\n",
    "spends_plot_town['alchohol_frac'] = \\\n",
    "    ((spends_plot_town['Расходы на алкогольные напитки']\n",
    "      / spends_plot_town['Всего']).mul(100))"
   ]
  },
  {
   "cell_type": "code",
   "execution_count": 179,
   "id": "fe4a679f-93a0-429f-b14e-43c3864f8580",
   "metadata": {},
   "outputs": [],
   "source": [
    "# goods and services as fraction of food\n",
    "spends_plot_town['goods_food'] = \\\n",
    "    ((spends_plot_town['Расходы на непродовольственные товары']\n",
    "      / spends_plot_town['Расходы на питание']).mul(100))\n",
    "\n",
    "spends_plot_town['services_food'] = \\\n",
    "    ((spends_plot_town['Расходы на оплату услуг']\n",
    "      / spends_plot_town['Расходы на питание']).mul(100))"
   ]
  },
  {
   "cell_type": "code",
   "execution_count": 180,
   "id": "f24290ff-22a3-4202-b10f-d82a2734cb04",
   "metadata": {},
   "outputs": [],
   "source": [
    "spends_plot_town = spends_plot_town.astype(float)"
   ]
  },
  {
   "cell_type": "code",
   "execution_count": 181,
   "id": "c8a43ba6-f8a6-4821-a00a-632087824e6e",
   "metadata": {},
   "outputs": [],
   "source": [
    "# growths of fractions\n",
    "spends_plot_town['food_growth'] = spends_plot_town['food_frac'].pct_change()\n",
    "spends_plot_town['goods_growth'] = spends_plot_town['goods_frac'].pct_change()\n",
    "spends_plot_town['services_growth'] = spends_plot_town['services_frac'].pct_change()\n",
    "spends_plot_town['alchohol_growth'] = spends_plot_town['alchohol_frac'].pct_change()"
   ]
  },
  {
   "cell_type": "code",
   "execution_count": 239,
   "id": "b9931cf1-f2af-4439-9747-ad84515f16a2",
   "metadata": {},
   "outputs": [
    {
     "data": {
      "image/png": "[encoded data removed]",
      "text/plain": [
       "<Figure size 900x300 with 1 Axes>"
      ]
     },
     "metadata": {},
     "output_type": "display_data"
    },
    {
     "name": "stdout",
     "output_type": "stream",
     "text": [
      "Images 'spend-structure-(cities).png' and 'spend-structure-(cities).svg' successfully saved into 'docs/img/' directory\n"
     ]
    }
   ],
   "source": [
    "fig, ax = plt.subplots(figsize=(9, 3))\n",
    "\n",
    "plt.plot(\n",
    "    smoothed(\n",
    "        spends_plot_town['food_frac']),\n",
    "    color=alpha_color(palette[0], 0.9))\n",
    "plt.plot(\n",
    "    smoothed(\n",
    "        spends_plot_town['goods_frac']),\n",
    "    color=alpha_color(palette[3], 0.9))\n",
    "plt.plot(\n",
    "    smoothed(\n",
    "        spends_plot_town['services_frac']),\n",
    "    color=alpha_color(palette[2], 0.9))\n",
    "\n",
    "# plt.title(\n",
    "#     'Изменение структуры расходов домохозяйств в городской местности (%)',\n",
    "#     **title_inline)\n",
    "plt.legend(\n",
    "    labels=['Продукты питания', 'Непродовольственные товары', 'Услуги'],\n",
    "    **legend_inline(bbox_to_anchor=(0, 1.05)), handlelength=1.35)\n",
    "\n",
    "# plt.axhline(30, lw=0.75, ls='--', color=palette[-2])\n",
    "plot_hline(30)\n",
    "\n",
    "# Crisis 2008 - August 2007\n",
    "plot_timemarker(\n",
    "    text='Мировой финансовый кризис', x=2006.92,\n",
    "    y_text=43, y_line=0.93,  size=8, delta=0.2,\n",
    "    weight='bold', style='italic')\n",
    "\n",
    "# ?\n",
    "plot_timemarker(\n",
    "    text='?', x=2010.25,\n",
    "    y_text=21.55, y_line=0.085,  size=9, delta=0.2,\n",
    "    weight='bold', style='normal')\n",
    "\n",
    "# Crimea - March 2014\n",
    "plot_timemarker(\n",
    "    text='Крымская кампания', x=2013.25,\n",
    "    y_text=42, y_line=0.89,  size=8, delta=0.2,\n",
    "    weight='bold', style='italic')\n",
    "\n",
    "# COVID - January 2019\n",
    "plot_timemarker(\n",
    "    text='COVID-19', x=2019.08,\n",
    "    y_text=39, y_line=0.77,  size=8, delta=0.2,\n",
    "    weight='bold', style='italic')\n",
    "\n",
    "plt.ylim(top=45)\n",
    "plt.xticks(\n",
    "    ticks=spends_plot_town.index.tolist(),\n",
    "    labels=spends_plot_town.index.tolist()\n",
    ")\n",
    "plt.ylim(19, 45)\n",
    "axis_rstyle(offset_bottom=2, offset_left=2, yticks=[20, 45, 5], grid=True)\n",
    "\n",
    "plt.show()\n",
    "\n",
    "savefig('spend-structure-(cities)', dir=path_save_img, figure=fig, dpi=100)"
   ]
  },
  {
   "cell_type": "markdown",
   "id": "f6651e25-410c-483e-ac7e-ebbfb8d88c57",
   "metadata": {},
   "source": [
    "## Государство"
   ]
  },
  {
   "cell_type": "markdown",
   "id": "5bed14d4-e77d-49bc-b7d0-bfcacd2c74e4",
   "metadata": {},
   "source": [
    "#### Численность работников государственных органов и органов местного самоуправления на 1000 человек занятых в экономике"
   ]
  },
  {
   "cell_type": "code",
   "execution_count": 183,
   "id": "19bc7f17-e85c-4e61-8370-d03251a4e8ef",
   "metadata": {},
   "outputs": [],
   "source": [
    "officials_number_1000_busy = economics_data['12.01'].copy()"
   ]
  },
  {
   "cell_type": "code",
   "execution_count": 184,
   "id": "4098f0f6-2e6b-49e2-9d78-5a2bd596c180",
   "metadata": {},
   "outputs": [
    {
     "data": {
      "text/html": [
       "<div>\n",
       "<style scoped>\n",
       "    .dataframe tbody tr th:only-of-type {\n",
       "        vertical-align: middle;\n",
       "    }\n",
       "\n",
       "    .dataframe tbody tr th {\n",
       "        vertical-align: top;\n",
       "    }\n",
       "\n",
       "    .dataframe thead th {\n",
       "        text-align: right;\n",
       "    }\n",
       "</style>\n",
       "<table border=\"1\" class=\"dataframe\">\n",
       "  <thead>\n",
       "    <tr style=\"text-align: right;\">\n",
       "      <th></th>\n",
       "      <th>2000</th>\n",
       "      <th>2001</th>\n",
       "      <th>2002</th>\n",
       "      <th>2003</th>\n",
       "      <th>2004</th>\n",
       "      <th>2005</th>\n",
       "      <th>2006</th>\n",
       "      <th>2007</th>\n",
       "      <th>2008</th>\n",
       "      <th>2009</th>\n",
       "      <th>...</th>\n",
       "      <th>2013</th>\n",
       "      <th>2014</th>\n",
       "      <th>2015</th>\n",
       "      <th>2016</th>\n",
       "      <th>2017</th>\n",
       "      <th>2018</th>\n",
       "      <th>2019</th>\n",
       "      <th>2020</th>\n",
       "      <th>2021</th>\n",
       "      <th>2022</th>\n",
       "    </tr>\n",
       "  </thead>\n",
       "  <tbody>\n",
       "    <tr>\n",
       "      <th>Российская Федерация</th>\n",
       "      <td>18.0</td>\n",
       "      <td>17.6</td>\n",
       "      <td>19.1</td>\n",
       "      <td>19.7</td>\n",
       "      <td>19.9</td>\n",
       "      <td>21.9</td>\n",
       "      <td>23.5</td>\n",
       "      <td>23.9</td>\n",
       "      <td>24.4</td>\n",
       "      <td>24.9</td>\n",
       "      <td>...</td>\n",
       "      <td>22.8</td>\n",
       "      <td>32.6</td>\n",
       "      <td>30.1</td>\n",
       "      <td>29.8</td>\n",
       "      <td>30.2</td>\n",
       "      <td>30.1</td>\n",
       "      <td>30.4</td>\n",
       "      <td>33.5</td>\n",
       "      <td>32.1</td>\n",
       "      <td>31.5</td>\n",
       "    </tr>\n",
       "    <tr>\n",
       "      <th>Центральный федеральный округ</th>\n",
       "      <td>15.1</td>\n",
       "      <td>14.7</td>\n",
       "      <td>16.2</td>\n",
       "      <td>16.8</td>\n",
       "      <td>16.9</td>\n",
       "      <td>18.9</td>\n",
       "      <td>20.1</td>\n",
       "      <td>20.5</td>\n",
       "      <td>20.7</td>\n",
       "      <td>21.1</td>\n",
       "      <td>...</td>\n",
       "      <td>18.8</td>\n",
       "      <td>27.7</td>\n",
       "      <td>23.8</td>\n",
       "      <td>23.3</td>\n",
       "      <td>23.3</td>\n",
       "      <td>23.3</td>\n",
       "      <td>23.6</td>\n",
       "      <td>25.6</td>\n",
       "      <td>24.9</td>\n",
       "      <td>24.4</td>\n",
       "    </tr>\n",
       "    <tr>\n",
       "      <th>Белгородская область</th>\n",
       "      <td>19.2</td>\n",
       "      <td>19.1</td>\n",
       "      <td>21.9</td>\n",
       "      <td>23.1</td>\n",
       "      <td>23.5</td>\n",
       "      <td>25.7</td>\n",
       "      <td>27.3</td>\n",
       "      <td>27.7</td>\n",
       "      <td>28.6</td>\n",
       "      <td>28.4</td>\n",
       "      <td>...</td>\n",
       "      <td>26.9</td>\n",
       "      <td>33.8</td>\n",
       "      <td>30.6</td>\n",
       "      <td>29.6</td>\n",
       "      <td>29.3</td>\n",
       "      <td>29.3</td>\n",
       "      <td>29.2</td>\n",
       "      <td>32.2</td>\n",
       "      <td>30.5</td>\n",
       "      <td>29.9</td>\n",
       "    </tr>\n",
       "    <tr>\n",
       "      <th>Брянская область</th>\n",
       "      <td>21.0</td>\n",
       "      <td>20.3</td>\n",
       "      <td>23.5</td>\n",
       "      <td>24.6</td>\n",
       "      <td>25.1</td>\n",
       "      <td>26.9</td>\n",
       "      <td>27.3</td>\n",
       "      <td>27.8</td>\n",
       "      <td>28.1</td>\n",
       "      <td>28.5</td>\n",
       "      <td>...</td>\n",
       "      <td>28.1</td>\n",
       "      <td>39.9</td>\n",
       "      <td>37.5</td>\n",
       "      <td>36.8</td>\n",
       "      <td>38.3</td>\n",
       "      <td>38.8</td>\n",
       "      <td>43.2</td>\n",
       "      <td>45.3</td>\n",
       "      <td>42.6</td>\n",
       "      <td>41.9</td>\n",
       "    </tr>\n",
       "    <tr>\n",
       "      <th>Владимирская область</th>\n",
       "      <td>17.5</td>\n",
       "      <td>16.4</td>\n",
       "      <td>17.7</td>\n",
       "      <td>18.1</td>\n",
       "      <td>18.6</td>\n",
       "      <td>20.4</td>\n",
       "      <td>21.5</td>\n",
       "      <td>22.1</td>\n",
       "      <td>23.3</td>\n",
       "      <td>22.1</td>\n",
       "      <td>...</td>\n",
       "      <td>17.5</td>\n",
       "      <td>26.5</td>\n",
       "      <td>26.8</td>\n",
       "      <td>27.3</td>\n",
       "      <td>27.9</td>\n",
       "      <td>28.0</td>\n",
       "      <td>27.3</td>\n",
       "      <td>32.0</td>\n",
       "      <td>31.5</td>\n",
       "      <td>29.6</td>\n",
       "    </tr>\n",
       "    <tr>\n",
       "      <th>...</th>\n",
       "      <td>...</td>\n",
       "      <td>...</td>\n",
       "      <td>...</td>\n",
       "      <td>...</td>\n",
       "      <td>...</td>\n",
       "      <td>...</td>\n",
       "      <td>...</td>\n",
       "      <td>...</td>\n",
       "      <td>...</td>\n",
       "      <td>...</td>\n",
       "      <td>...</td>\n",
       "      <td>...</td>\n",
       "      <td>...</td>\n",
       "      <td>...</td>\n",
       "      <td>...</td>\n",
       "      <td>...</td>\n",
       "      <td>...</td>\n",
       "      <td>...</td>\n",
       "      <td>...</td>\n",
       "      <td>...</td>\n",
       "      <td>...</td>\n",
       "    </tr>\n",
       "    <tr>\n",
       "      <th>Амурская область</th>\n",
       "      <td>21.4</td>\n",
       "      <td>21.8</td>\n",
       "      <td>23.7</td>\n",
       "      <td>25.5</td>\n",
       "      <td>26.4</td>\n",
       "      <td>28.6</td>\n",
       "      <td>31.4</td>\n",
       "      <td>31.3</td>\n",
       "      <td>31.8</td>\n",
       "      <td>30.2</td>\n",
       "      <td>...</td>\n",
       "      <td>29.2</td>\n",
       "      <td>40.5</td>\n",
       "      <td>42.4</td>\n",
       "      <td>42.2</td>\n",
       "      <td>43.0</td>\n",
       "      <td>45.0</td>\n",
       "      <td>42.4</td>\n",
       "      <td>45.7</td>\n",
       "      <td>45.0</td>\n",
       "      <td>42.4</td>\n",
       "    </tr>\n",
       "    <tr>\n",
       "      <th>Магаданская область</th>\n",
       "      <td>37.4</td>\n",
       "      <td>36.7</td>\n",
       "      <td>41.2</td>\n",
       "      <td>43.6</td>\n",
       "      <td>44.7</td>\n",
       "      <td>53.4</td>\n",
       "      <td>57.9</td>\n",
       "      <td>60.5</td>\n",
       "      <td>62.5</td>\n",
       "      <td>65.3</td>\n",
       "      <td>...</td>\n",
       "      <td>63.8</td>\n",
       "      <td>84.3</td>\n",
       "      <td>78.2</td>\n",
       "      <td>74.9</td>\n",
       "      <td>76.6</td>\n",
       "      <td>75.9</td>\n",
       "      <td>72.2</td>\n",
       "      <td>80.6</td>\n",
       "      <td>74.0</td>\n",
       "      <td>77.9</td>\n",
       "    </tr>\n",
       "    <tr>\n",
       "      <th>Сахалинская область</th>\n",
       "      <td>28.6</td>\n",
       "      <td>28.0</td>\n",
       "      <td>30.6</td>\n",
       "      <td>31.0</td>\n",
       "      <td>31.8</td>\n",
       "      <td>35.8</td>\n",
       "      <td>35.5</td>\n",
       "      <td>37.5</td>\n",
       "      <td>37.8</td>\n",
       "      <td>39.1</td>\n",
       "      <td>...</td>\n",
       "      <td>32.1</td>\n",
       "      <td>37.0</td>\n",
       "      <td>42.9</td>\n",
       "      <td>42.6</td>\n",
       "      <td>42.5</td>\n",
       "      <td>42.4</td>\n",
       "      <td>42.9</td>\n",
       "      <td>45.9</td>\n",
       "      <td>46.9</td>\n",
       "      <td>46.5</td>\n",
       "    </tr>\n",
       "    <tr>\n",
       "      <th>Еврейская автономная область</th>\n",
       "      <td>37.9</td>\n",
       "      <td>38.7</td>\n",
       "      <td>39.7</td>\n",
       "      <td>40.8</td>\n",
       "      <td>40.4</td>\n",
       "      <td>45.0</td>\n",
       "      <td>47.2</td>\n",
       "      <td>49.1</td>\n",
       "      <td>50.3</td>\n",
       "      <td>47.5</td>\n",
       "      <td>...</td>\n",
       "      <td>48.9</td>\n",
       "      <td>67.9</td>\n",
       "      <td>70.0</td>\n",
       "      <td>66.9</td>\n",
       "      <td>74.5</td>\n",
       "      <td>75.5</td>\n",
       "      <td>74.6</td>\n",
       "      <td>93.1</td>\n",
       "      <td>93.7</td>\n",
       "      <td>79.9</td>\n",
       "    </tr>\n",
       "    <tr>\n",
       "      <th>Чукотский автономный округ</th>\n",
       "      <td>59.4</td>\n",
       "      <td>59.3</td>\n",
       "      <td>66.9</td>\n",
       "      <td>65.3</td>\n",
       "      <td>63.8</td>\n",
       "      <td>66.3</td>\n",
       "      <td>69.8</td>\n",
       "      <td>69.9</td>\n",
       "      <td>70.5</td>\n",
       "      <td>76.9</td>\n",
       "      <td>...</td>\n",
       "      <td>78.6</td>\n",
       "      <td>100.6</td>\n",
       "      <td>91.1</td>\n",
       "      <td>93.2</td>\n",
       "      <td>92.7</td>\n",
       "      <td>91.0</td>\n",
       "      <td>82.5</td>\n",
       "      <td>86.9</td>\n",
       "      <td>84.1</td>\n",
       "      <td>88.7</td>\n",
       "    </tr>\n",
       "  </tbody>\n",
       "</table>\n",
       "<p>96 rows × 23 columns</p>\n",
       "</div>"
      ],
      "text/plain": [
       "                               2000  2001  2002  2003  2004  2005  2006  2007  \\\n",
       "Российская Федерация           18.0  17.6  19.1  19.7  19.9  21.9  23.5  23.9   \n",
       "Центральный федеральный округ  15.1  14.7  16.2  16.8  16.9  18.9  20.1  20.5   \n",
       "Белгородская область           19.2  19.1  21.9  23.1  23.5  25.7  27.3  27.7   \n",
       "Брянская область               21.0  20.3  23.5  24.6  25.1  26.9  27.3  27.8   \n",
       "Владимирская область           17.5  16.4  17.7  18.1  18.6  20.4  21.5  22.1   \n",
       "...                             ...   ...   ...   ...   ...   ...   ...   ...   \n",
       "Амурская область               21.4  21.8  23.7  25.5  26.4  28.6  31.4  31.3   \n",
       "Магаданская область            37.4  36.7  41.2  43.6  44.7  53.4  57.9  60.5   \n",
       "Сахалинская область            28.6  28.0  30.6  31.0  31.8  35.8  35.5  37.5   \n",
       "Еврейская автономная область   37.9  38.7  39.7  40.8  40.4  45.0  47.2  49.1   \n",
       "Чукотский автономный округ     59.4  59.3  66.9  65.3  63.8  66.3  69.8  69.9   \n",
       "\n",
       "                               2008  2009  ...  2013   2014  2015  2016  2017  \\\n",
       "Российская Федерация           24.4  24.9  ...  22.8   32.6  30.1  29.8  30.2   \n",
       "Центральный федеральный округ  20.7  21.1  ...  18.8   27.7  23.8  23.3  23.3   \n",
       "Белгородская область           28.6  28.4  ...  26.9   33.8  30.6  29.6  29.3   \n",
       "Брянская область               28.1  28.5  ...  28.1   39.9  37.5  36.8  38.3   \n",
       "Владимирская область           23.3  22.1  ...  17.5   26.5  26.8  27.3  27.9   \n",
       "...                             ...   ...  ...   ...    ...   ...   ...   ...   \n",
       "Амурская область               31.8  30.2  ...  29.2   40.5  42.4  42.2  43.0   \n",
       "Магаданская область            62.5  65.3  ...  63.8   84.3  78.2  74.9  76.6   \n",
       "Сахалинская область            37.8  39.1  ...  32.1   37.0  42.9  42.6  42.5   \n",
       "Еврейская автономная область   50.3  47.5  ...  48.9   67.9  70.0  66.9  74.5   \n",
       "Чукотский автономный округ     70.5  76.9  ...  78.6  100.6  91.1  93.2  92.7   \n",
       "\n",
       "                               2018  2019  2020  2021  2022  \n",
       "Российская Федерация           30.1  30.4  33.5  32.1  31.5  \n",
       "Центральный федеральный округ  23.3  23.6  25.6  24.9  24.4  \n",
       "Белгородская область           29.3  29.2  32.2  30.5  29.9  \n",
       "Брянская область               38.8  43.2  45.3  42.6  41.9  \n",
       "Владимирская область           28.0  27.3  32.0  31.5  29.6  \n",
       "...                             ...   ...   ...   ...   ...  \n",
       "Амурская область               45.0  42.4  45.7  45.0  42.4  \n",
       "Магаданская область            75.9  72.2  80.6  74.0  77.9  \n",
       "Сахалинская область            42.4  42.9  45.9  46.9  46.5  \n",
       "Еврейская автономная область   75.5  74.6  93.1  93.7  79.9  \n",
       "Чукотский автономный округ     91.0  82.5  86.9  84.1  88.7  \n",
       "\n",
       "[96 rows x 23 columns]"
      ]
     },
     "execution_count": 184,
     "metadata": {},
     "output_type": "execute_result"
    }
   ],
   "source": [
    "officials_number_1000_busy"
   ]
  },
  {
   "cell_type": "code",
   "execution_count": 185,
   "id": "a70cc1ba-62c3-46b4-add5-94e549a76cf9",
   "metadata": {},
   "outputs": [],
   "source": [
    "officials_number_1000_busy_rf = officials_number_1000_busy.iloc[0, :].copy()"
   ]
  },
  {
   "cell_type": "code",
   "execution_count": 186,
   "id": "37e36220-282b-4659-ab5d-f47e01175882",
   "metadata": {},
   "outputs": [],
   "source": [
    "officials_number_1000_busy_rf_smoothed = \\\n",
    "    smoothed(officials_number_1000_busy_rf, return_type='df')"
   ]
  },
  {
   "cell_type": "code",
   "execution_count": 187,
   "id": "f67d4b42-3784-419f-bca4-9510560171e0",
   "metadata": {},
   "outputs": [
    {
     "data": {
      "text/html": [
       "<div>\n",
       "<style scoped>\n",
       "    .dataframe tbody tr th:only-of-type {\n",
       "        vertical-align: middle;\n",
       "    }\n",
       "\n",
       "    .dataframe tbody tr th {\n",
       "        vertical-align: top;\n",
       "    }\n",
       "\n",
       "    .dataframe thead th {\n",
       "        text-align: right;\n",
       "    }\n",
       "</style>\n",
       "<table border=\"1\" class=\"dataframe\">\n",
       "  <thead>\n",
       "    <tr style=\"text-align: right;\">\n",
       "      <th></th>\n",
       "      <th>Российская Федерация</th>\n",
       "    </tr>\n",
       "  </thead>\n",
       "  <tbody>\n",
       "    <tr>\n",
       "      <th>2000.000000</th>\n",
       "      <td>18.000000</td>\n",
       "    </tr>\n",
       "    <tr>\n",
       "      <th>2000.073579</th>\n",
       "      <td>17.829790</td>\n",
       "    </tr>\n",
       "    <tr>\n",
       "      <th>2000.147157</th>\n",
       "      <td>17.687288</td>\n",
       "    </tr>\n",
       "    <tr>\n",
       "      <th>2000.220736</th>\n",
       "      <td>17.571110</td>\n",
       "    </tr>\n",
       "    <tr>\n",
       "      <th>2000.294314</th>\n",
       "      <td>17.479873</td>\n",
       "    </tr>\n",
       "  </tbody>\n",
       "</table>\n",
       "</div>"
      ],
      "text/plain": [
       "             Российская Федерация\n",
       "2000.000000             18.000000\n",
       "2000.073579             17.829790\n",
       "2000.147157             17.687288\n",
       "2000.220736             17.571110\n",
       "2000.294314             17.479873"
      ]
     },
     "execution_count": 187,
     "metadata": {},
     "output_type": "execute_result"
    }
   ],
   "source": [
    "officials_number_1000_busy_rf_smoothed.head()"
   ]
  },
  {
   "cell_type": "code",
   "execution_count": 188,
   "id": "4cb60a1b-c34d-4b28-a634-afcf8956fe9e",
   "metadata": {},
   "outputs": [
    {
     "data": {
      "image/png": "[encoded data removed]",
      "text/plain": [
       "<Figure size 900x250 with 1 Axes>"
      ]
     },
     "metadata": {},
     "output_type": "display_data"
    },
    {
     "name": "stdout",
     "output_type": "stream",
     "text": [
      "Images 'officials-1000-workers.png' and 'officials-1000-workers.svg' successfully saved into 'docs/img/' directory\n"
     ]
    }
   ],
   "source": [
    "fig, ax = plt.subplots(figsize=(9, 2.5))\n",
    "plt.plot(officials_number_1000_busy_rf_smoothed, alpha=0.75)\n",
    "\n",
    "plot_fill_between(\n",
    "    x=officials_number_1000_busy_rf_smoothed.loc[2000:2008].index,\n",
    "    y1=15, y2=officials_number_1000_busy_rf_smoothed.loc[2000:2008, 'Российская Федерация'],\n",
    "    color=palette[2], alpha=0.2, ax=ax,\n",
    "    label='Первые два срока В. Путина')\n",
    "plot_fill_between(\n",
    "    x=officials_number_1000_busy_rf_smoothed.loc[2008:2012].index,\n",
    "    y1=15, y2=officials_number_1000_busy_rf_smoothed.loc[2008:2012, 'Российская Федерация'],\n",
    "    color=palette[3], alpha=0.2, ax=ax,\n",
    "    label='Президентство Д. Медведева')\n",
    "plot_fill_between(\n",
    "    x=officials_number_1000_busy_rf_smoothed.loc[2012:].index,\n",
    "    y1=15, y2=officials_number_1000_busy_rf_smoothed.loc[2012:, 'Российская Федерация'],\n",
    "    color=palette[1], alpha=0.2, ax=ax,\n",
    "    label='Последующие сроки В. Путина')\n",
    "\n",
    "plt.legend(**legend_inline(), fontsize=8)\n",
    "axis_rstyle(\n",
    "    offset_left=1,\n",
    "    offset_bottom=1,\n",
    "    xticks=[2000, 2022, 2],\n",
    "    yticks=[15, 35, 5]\n",
    ")\n",
    "plt.show()\n",
    "\n",
    "savefig('officials-1000-workers', dir=path_save_img, figure=fig, dpi=100)"
   ]
  },
  {
   "cell_type": "markdown",
   "id": "10479814-90d3-4f3c-b315-5ebbd6429695",
   "metadata": {},
   "source": [
    "# Финансовая стабилизация"
   ]
  },
  {
   "cell_type": "code",
   "execution_count": 189,
   "id": "6975ad39-a73e-4773-a556-04dac804a35d",
   "metadata": {},
   "outputs": [],
   "source": [
    "pci = economics_data['9.5'].copy()"
   ]
  },
  {
   "cell_type": "code",
   "execution_count": 190,
   "id": "e7955f5e-cdd3-4583-924d-b62713239756",
   "metadata": {},
   "outputs": [
    {
     "data": {
      "text/html": [
       "<div>\n",
       "<style scoped>\n",
       "    .dataframe tbody tr th:only-of-type {\n",
       "        vertical-align: middle;\n",
       "    }\n",
       "\n",
       "    .dataframe tbody tr th {\n",
       "        vertical-align: top;\n",
       "    }\n",
       "\n",
       "    .dataframe thead th {\n",
       "        text-align: right;\n",
       "    }\n",
       "</style>\n",
       "<table border=\"1\" class=\"dataframe\">\n",
       "  <thead>\n",
       "    <tr style=\"text-align: right;\">\n",
       "      <th></th>\n",
       "      <th>1991</th>\n",
       "      <th>1992</th>\n",
       "      <th>1993</th>\n",
       "      <th>1994</th>\n",
       "      <th>1995</th>\n",
       "      <th>1996</th>\n",
       "      <th>1997</th>\n",
       "      <th>1998</th>\n",
       "      <th>1999</th>\n",
       "      <th>2000</th>\n",
       "      <th>...</th>\n",
       "      <th>2014</th>\n",
       "      <th>2015</th>\n",
       "      <th>2016</th>\n",
       "      <th>2017</th>\n",
       "      <th>2018</th>\n",
       "      <th>2019</th>\n",
       "      <th>2020</th>\n",
       "      <th>2021</th>\n",
       "      <th>2022</th>\n",
       "      <th>2023</th>\n",
       "    </tr>\n",
       "  </thead>\n",
       "  <tbody>\n",
       "    <tr>\n",
       "      <th>Year</th>\n",
       "      <td>260.4</td>\n",
       "      <td>2608.8</td>\n",
       "      <td>939.9</td>\n",
       "      <td>315.1</td>\n",
       "      <td>231.3</td>\n",
       "      <td>121.8</td>\n",
       "      <td>111.0</td>\n",
       "      <td>184.4</td>\n",
       "      <td>136.5</td>\n",
       "      <td>120.2</td>\n",
       "      <td>...</td>\n",
       "      <td>111.4</td>\n",
       "      <td>112.9</td>\n",
       "      <td>105.4</td>\n",
       "      <td>102.5</td>\n",
       "      <td>104.3</td>\n",
       "      <td>103.0</td>\n",
       "      <td>104.9</td>\n",
       "      <td>108.4</td>\n",
       "      <td>111.9</td>\n",
       "      <td>107.4</td>\n",
       "    </tr>\n",
       "    <tr>\n",
       "      <th>January</th>\n",
       "      <td>106.2</td>\n",
       "      <td>345.3</td>\n",
       "      <td>125.8</td>\n",
       "      <td>117.9</td>\n",
       "      <td>117.8</td>\n",
       "      <td>104.1</td>\n",
       "      <td>102.3</td>\n",
       "      <td>101.5</td>\n",
       "      <td>108.4</td>\n",
       "      <td>102.3</td>\n",
       "      <td>...</td>\n",
       "      <td>100.6</td>\n",
       "      <td>103.8</td>\n",
       "      <td>101.0</td>\n",
       "      <td>100.6</td>\n",
       "      <td>100.3</td>\n",
       "      <td>101.0</td>\n",
       "      <td>100.4</td>\n",
       "      <td>100.7</td>\n",
       "      <td>101.0</td>\n",
       "      <td>100.8</td>\n",
       "    </tr>\n",
       "    <tr>\n",
       "      <th>February</th>\n",
       "      <td>104.8</td>\n",
       "      <td>138.0</td>\n",
       "      <td>124.7</td>\n",
       "      <td>110.8</td>\n",
       "      <td>111.0</td>\n",
       "      <td>102.8</td>\n",
       "      <td>101.5</td>\n",
       "      <td>100.9</td>\n",
       "      <td>104.1</td>\n",
       "      <td>101.0</td>\n",
       "      <td>...</td>\n",
       "      <td>100.7</td>\n",
       "      <td>102.2</td>\n",
       "      <td>100.6</td>\n",
       "      <td>100.2</td>\n",
       "      <td>100.2</td>\n",
       "      <td>100.4</td>\n",
       "      <td>100.3</td>\n",
       "      <td>100.8</td>\n",
       "      <td>101.2</td>\n",
       "      <td>100.5</td>\n",
       "    </tr>\n",
       "    <tr>\n",
       "      <th>March</th>\n",
       "      <td>106.3</td>\n",
       "      <td>129.9</td>\n",
       "      <td>120.1</td>\n",
       "      <td>107.4</td>\n",
       "      <td>108.9</td>\n",
       "      <td>102.8</td>\n",
       "      <td>101.4</td>\n",
       "      <td>100.6</td>\n",
       "      <td>102.8</td>\n",
       "      <td>100.6</td>\n",
       "      <td>...</td>\n",
       "      <td>101.0</td>\n",
       "      <td>101.2</td>\n",
       "      <td>100.5</td>\n",
       "      <td>100.1</td>\n",
       "      <td>100.3</td>\n",
       "      <td>100.3</td>\n",
       "      <td>100.6</td>\n",
       "      <td>100.7</td>\n",
       "      <td>107.6</td>\n",
       "      <td>100.4</td>\n",
       "    </tr>\n",
       "    <tr>\n",
       "      <th>April</th>\n",
       "      <td>163.5</td>\n",
       "      <td>121.7</td>\n",
       "      <td>118.7</td>\n",
       "      <td>108.5</td>\n",
       "      <td>108.5</td>\n",
       "      <td>102.2</td>\n",
       "      <td>101.0</td>\n",
       "      <td>100.4</td>\n",
       "      <td>103.0</td>\n",
       "      <td>100.9</td>\n",
       "      <td>...</td>\n",
       "      <td>100.9</td>\n",
       "      <td>100.5</td>\n",
       "      <td>100.4</td>\n",
       "      <td>100.3</td>\n",
       "      <td>100.4</td>\n",
       "      <td>100.3</td>\n",
       "      <td>100.8</td>\n",
       "      <td>100.6</td>\n",
       "      <td>101.6</td>\n",
       "      <td>100.4</td>\n",
       "    </tr>\n",
       "    <tr>\n",
       "      <th>May</th>\n",
       "      <td>103.0</td>\n",
       "      <td>111.9</td>\n",
       "      <td>118.1</td>\n",
       "      <td>106.9</td>\n",
       "      <td>107.9</td>\n",
       "      <td>101.6</td>\n",
       "      <td>100.9</td>\n",
       "      <td>100.5</td>\n",
       "      <td>102.2</td>\n",
       "      <td>101.8</td>\n",
       "      <td>...</td>\n",
       "      <td>100.9</td>\n",
       "      <td>100.4</td>\n",
       "      <td>100.4</td>\n",
       "      <td>100.4</td>\n",
       "      <td>100.4</td>\n",
       "      <td>100.3</td>\n",
       "      <td>100.3</td>\n",
       "      <td>100.7</td>\n",
       "      <td>100.1</td>\n",
       "      <td>100.3</td>\n",
       "    </tr>\n",
       "    <tr>\n",
       "      <th>June</th>\n",
       "      <td>101.2</td>\n",
       "      <td>119.1</td>\n",
       "      <td>119.9</td>\n",
       "      <td>106.0</td>\n",
       "      <td>106.7</td>\n",
       "      <td>101.2</td>\n",
       "      <td>101.1</td>\n",
       "      <td>100.1</td>\n",
       "      <td>101.9</td>\n",
       "      <td>102.6</td>\n",
       "      <td>...</td>\n",
       "      <td>100.6</td>\n",
       "      <td>100.2</td>\n",
       "      <td>100.4</td>\n",
       "      <td>100.6</td>\n",
       "      <td>100.5</td>\n",
       "      <td>100.0</td>\n",
       "      <td>100.2</td>\n",
       "      <td>100.7</td>\n",
       "      <td>99.6</td>\n",
       "      <td>100.4</td>\n",
       "    </tr>\n",
       "    <tr>\n",
       "      <th>July</th>\n",
       "      <td>100.6</td>\n",
       "      <td>110.6</td>\n",
       "      <td>122.4</td>\n",
       "      <td>105.3</td>\n",
       "      <td>105.4</td>\n",
       "      <td>100.7</td>\n",
       "      <td>100.9</td>\n",
       "      <td>100.2</td>\n",
       "      <td>102.8</td>\n",
       "      <td>101.8</td>\n",
       "      <td>...</td>\n",
       "      <td>100.5</td>\n",
       "      <td>100.8</td>\n",
       "      <td>100.5</td>\n",
       "      <td>100.1</td>\n",
       "      <td>100.3</td>\n",
       "      <td>100.2</td>\n",
       "      <td>100.4</td>\n",
       "      <td>100.3</td>\n",
       "      <td>99.6</td>\n",
       "      <td>100.6</td>\n",
       "    </tr>\n",
       "    <tr>\n",
       "      <th>August</th>\n",
       "      <td>100.5</td>\n",
       "      <td>108.6</td>\n",
       "      <td>126.0</td>\n",
       "      <td>104.6</td>\n",
       "      <td>104.6</td>\n",
       "      <td>99.8</td>\n",
       "      <td>99.9</td>\n",
       "      <td>103.7</td>\n",
       "      <td>101.2</td>\n",
       "      <td>101.0</td>\n",
       "      <td>...</td>\n",
       "      <td>100.2</td>\n",
       "      <td>100.4</td>\n",
       "      <td>100.0</td>\n",
       "      <td>99.5</td>\n",
       "      <td>100.0</td>\n",
       "      <td>99.8</td>\n",
       "      <td>100.0</td>\n",
       "      <td>100.2</td>\n",
       "      <td>99.5</td>\n",
       "      <td>100.3</td>\n",
       "    </tr>\n",
       "    <tr>\n",
       "      <th>September</th>\n",
       "      <td>101.1</td>\n",
       "      <td>111.5</td>\n",
       "      <td>123.0</td>\n",
       "      <td>108.0</td>\n",
       "      <td>104.5</td>\n",
       "      <td>100.3</td>\n",
       "      <td>99.7</td>\n",
       "      <td>138.4</td>\n",
       "      <td>101.5</td>\n",
       "      <td>101.3</td>\n",
       "      <td>...</td>\n",
       "      <td>100.6</td>\n",
       "      <td>100.6</td>\n",
       "      <td>100.2</td>\n",
       "      <td>99.8</td>\n",
       "      <td>100.2</td>\n",
       "      <td>99.8</td>\n",
       "      <td>99.9</td>\n",
       "      <td>100.6</td>\n",
       "      <td>100.0</td>\n",
       "      <td>100.9</td>\n",
       "    </tr>\n",
       "    <tr>\n",
       "      <th>October</th>\n",
       "      <td>103.5</td>\n",
       "      <td>122.9</td>\n",
       "      <td>119.5</td>\n",
       "      <td>115.0</td>\n",
       "      <td>104.7</td>\n",
       "      <td>101.2</td>\n",
       "      <td>100.2</td>\n",
       "      <td>104.5</td>\n",
       "      <td>101.4</td>\n",
       "      <td>102.1</td>\n",
       "      <td>...</td>\n",
       "      <td>100.8</td>\n",
       "      <td>100.7</td>\n",
       "      <td>100.4</td>\n",
       "      <td>100.2</td>\n",
       "      <td>100.4</td>\n",
       "      <td>100.1</td>\n",
       "      <td>100.4</td>\n",
       "      <td>101.1</td>\n",
       "      <td>100.2</td>\n",
       "      <td>100.8</td>\n",
       "    </tr>\n",
       "    <tr>\n",
       "      <th>November</th>\n",
       "      <td>108.9</td>\n",
       "      <td>126.1</td>\n",
       "      <td>116.4</td>\n",
       "      <td>114.6</td>\n",
       "      <td>104.6</td>\n",
       "      <td>101.9</td>\n",
       "      <td>100.6</td>\n",
       "      <td>105.7</td>\n",
       "      <td>101.2</td>\n",
       "      <td>101.5</td>\n",
       "      <td>...</td>\n",
       "      <td>101.3</td>\n",
       "      <td>100.8</td>\n",
       "      <td>100.4</td>\n",
       "      <td>100.2</td>\n",
       "      <td>100.5</td>\n",
       "      <td>100.3</td>\n",
       "      <td>100.7</td>\n",
       "      <td>101.0</td>\n",
       "      <td>100.4</td>\n",
       "      <td>101.1</td>\n",
       "    </tr>\n",
       "    <tr>\n",
       "      <th>December</th>\n",
       "      <td>112.1</td>\n",
       "      <td>125.2</td>\n",
       "      <td>112.5</td>\n",
       "      <td>116.4</td>\n",
       "      <td>103.2</td>\n",
       "      <td>101.4</td>\n",
       "      <td>101.0</td>\n",
       "      <td>111.6</td>\n",
       "      <td>101.3</td>\n",
       "      <td>101.6</td>\n",
       "      <td>...</td>\n",
       "      <td>102.6</td>\n",
       "      <td>100.8</td>\n",
       "      <td>100.4</td>\n",
       "      <td>100.4</td>\n",
       "      <td>100.8</td>\n",
       "      <td>100.4</td>\n",
       "      <td>100.8</td>\n",
       "      <td>100.8</td>\n",
       "      <td>100.8</td>\n",
       "      <td>100.7</td>\n",
       "    </tr>\n",
       "  </tbody>\n",
       "</table>\n",
       "<p>13 rows × 33 columns</p>\n",
       "</div>"
      ],
      "text/plain": [
       "            1991    1992   1993   1994   1995   1996   1997   1998   1999  \\\n",
       "Year       260.4  2608.8  939.9  315.1  231.3  121.8  111.0  184.4  136.5   \n",
       "January    106.2   345.3  125.8  117.9  117.8  104.1  102.3  101.5  108.4   \n",
       "February   104.8   138.0  124.7  110.8  111.0  102.8  101.5  100.9  104.1   \n",
       "March      106.3   129.9  120.1  107.4  108.9  102.8  101.4  100.6  102.8   \n",
       "April      163.5   121.7  118.7  108.5  108.5  102.2  101.0  100.4  103.0   \n",
       "May        103.0   111.9  118.1  106.9  107.9  101.6  100.9  100.5  102.2   \n",
       "June       101.2   119.1  119.9  106.0  106.7  101.2  101.1  100.1  101.9   \n",
       "July       100.6   110.6  122.4  105.3  105.4  100.7  100.9  100.2  102.8   \n",
       "August     100.5   108.6  126.0  104.6  104.6   99.8   99.9  103.7  101.2   \n",
       "September  101.1   111.5  123.0  108.0  104.5  100.3   99.7  138.4  101.5   \n",
       "October    103.5   122.9  119.5  115.0  104.7  101.2  100.2  104.5  101.4   \n",
       "November   108.9   126.1  116.4  114.6  104.6  101.9  100.6  105.7  101.2   \n",
       "December   112.1   125.2  112.5  116.4  103.2  101.4  101.0  111.6  101.3   \n",
       "\n",
       "            2000  ...   2014   2015   2016   2017   2018   2019   2020   2021  \\\n",
       "Year       120.2  ...  111.4  112.9  105.4  102.5  104.3  103.0  104.9  108.4   \n",
       "January    102.3  ...  100.6  103.8  101.0  100.6  100.3  101.0  100.4  100.7   \n",
       "February   101.0  ...  100.7  102.2  100.6  100.2  100.2  100.4  100.3  100.8   \n",
       "March      100.6  ...  101.0  101.2  100.5  100.1  100.3  100.3  100.6  100.7   \n",
       "April      100.9  ...  100.9  100.5  100.4  100.3  100.4  100.3  100.8  100.6   \n",
       "May        101.8  ...  100.9  100.4  100.4  100.4  100.4  100.3  100.3  100.7   \n",
       "June       102.6  ...  100.6  100.2  100.4  100.6  100.5  100.0  100.2  100.7   \n",
       "July       101.8  ...  100.5  100.8  100.5  100.1  100.3  100.2  100.4  100.3   \n",
       "August     101.0  ...  100.2  100.4  100.0   99.5  100.0   99.8  100.0  100.2   \n",
       "September  101.3  ...  100.6  100.6  100.2   99.8  100.2   99.8   99.9  100.6   \n",
       "October    102.1  ...  100.8  100.7  100.4  100.2  100.4  100.1  100.4  101.1   \n",
       "November   101.5  ...  101.3  100.8  100.4  100.2  100.5  100.3  100.7  101.0   \n",
       "December   101.6  ...  102.6  100.8  100.4  100.4  100.8  100.4  100.8  100.8   \n",
       "\n",
       "            2022   2023  \n",
       "Year       111.9  107.4  \n",
       "January    101.0  100.8  \n",
       "February   101.2  100.5  \n",
       "March      107.6  100.4  \n",
       "April      101.6  100.4  \n",
       "May        100.1  100.3  \n",
       "June        99.6  100.4  \n",
       "July        99.6  100.6  \n",
       "August      99.5  100.3  \n",
       "September  100.0  100.9  \n",
       "October    100.2  100.8  \n",
       "November   100.4  101.1  \n",
       "December   100.8  100.7  \n",
       "\n",
       "[13 rows x 33 columns]"
      ]
     },
     "execution_count": 190,
     "metadata": {},
     "output_type": "execute_result"
    }
   ],
   "source": [
    "pci"
   ]
  },
  {
   "cell_type": "code",
   "execution_count": 191,
   "id": "3f5afad6-bf5c-4668-ad7a-138835c10342",
   "metadata": {},
   "outputs": [],
   "source": [
    "plot_data = pci[1992][1:]"
   ]
  },
  {
   "cell_type": "code",
   "execution_count": 192,
   "id": "1119e3a5-1a53-42c3-8925-58ec29811018",
   "metadata": {},
   "outputs": [],
   "source": [
    "plot_data.index = plot_data.index + ' 1992'"
   ]
  },
  {
   "cell_type": "code",
   "execution_count": 193,
   "id": "3eb27862-d83d-4631-9f93-d28378178c8d",
   "metadata": {},
   "outputs": [],
   "source": [
    "for i in range(1993, 2000):\n",
    "    plot_data_ = pci[i][1:]\n",
    "    plot_data_.index = plot_data_.index + ' ' + str(i)\n",
    "    plot_data = pd.concat([plot_data, plot_data_], axis=0)"
   ]
  },
  {
   "cell_type": "code",
   "execution_count": 194,
   "id": "1b614085-800e-458f-b6f8-72eaa52ce041",
   "metadata": {},
   "outputs": [],
   "source": [
    "plot_data.name = 'ИПЦ'"
   ]
  },
  {
   "cell_type": "code",
   "execution_count": 195,
   "id": "82b655b8-49ee-4ce4-bc04-25819b3c9025",
   "metadata": {},
   "outputs": [],
   "source": [
    "plot_data.index = [to_date(x, kind='%B %Y') for x in plot_data.index]"
   ]
  },
  {
   "cell_type": "code",
   "execution_count": 196,
   "id": "86b80eb1-f4da-48ba-b0d5-00b0d37462cf",
   "metadata": {},
   "outputs": [],
   "source": [
    "plot_data_smoothed = smoothed(plot_data, n=1200, datetime_index=True)"
   ]
  },
  {
   "cell_type": "code",
   "execution_count": 197,
   "id": "6e60615e-2fde-4ff9-b5ef-88f134e101c9",
   "metadata": {},
   "outputs": [
    {
     "data": {
      "text/html": [
       "<div>\n",
       "<style scoped>\n",
       "    .dataframe tbody tr th:only-of-type {\n",
       "        vertical-align: middle;\n",
       "    }\n",
       "\n",
       "    .dataframe tbody tr th {\n",
       "        vertical-align: top;\n",
       "    }\n",
       "\n",
       "    .dataframe thead th {\n",
       "        text-align: right;\n",
       "    }\n",
       "</style>\n",
       "<table border=\"1\" class=\"dataframe\">\n",
       "  <thead>\n",
       "    <tr style=\"text-align: right;\">\n",
       "      <th></th>\n",
       "      <th>ИПЦ</th>\n",
       "    </tr>\n",
       "  </thead>\n",
       "  <tbody>\n",
       "    <tr>\n",
       "      <th>1992-01-01 00:00:00.000000000</th>\n",
       "      <td>345.300000</td>\n",
       "    </tr>\n",
       "    <tr>\n",
       "      <th>1992-01-03 09:52:05.604670558</th>\n",
       "      <td>315.780544</td>\n",
       "    </tr>\n",
       "    <tr>\n",
       "      <th>1992-01-05 19:44:11.209341117</th>\n",
       "      <td>288.954132</td>\n",
       "    </tr>\n",
       "    <tr>\n",
       "      <th>1992-01-08 05:36:16.814011676</th>\n",
       "      <td>264.696635</td>\n",
       "    </tr>\n",
       "    <tr>\n",
       "      <th>1992-01-10 15:28:22.418682235</th>\n",
       "      <td>242.883924</td>\n",
       "    </tr>\n",
       "    <tr>\n",
       "      <th>...</th>\n",
       "      <td>...</td>\n",
       "    </tr>\n",
       "    <tr>\n",
       "      <th>1999-11-21 08:31:37.581317792</th>\n",
       "      <td>101.231942</td>\n",
       "    </tr>\n",
       "    <tr>\n",
       "      <th>1999-11-23 18:23:43.185988352</th>\n",
       "      <td>101.245640</td>\n",
       "    </tr>\n",
       "    <tr>\n",
       "      <th>1999-11-26 04:15:48.790658912</th>\n",
       "      <td>101.261527</td>\n",
       "    </tr>\n",
       "    <tr>\n",
       "      <th>1999-11-28 14:07:54.395329472</th>\n",
       "      <td>101.279637</td>\n",
       "    </tr>\n",
       "    <tr>\n",
       "      <th>1999-12-01 00:00:00.000000000</th>\n",
       "      <td>101.300000</td>\n",
       "    </tr>\n",
       "  </tbody>\n",
       "</table>\n",
       "<p>1200 rows × 1 columns</p>\n",
       "</div>"
      ],
      "text/plain": [
       "                                      ИПЦ\n",
       "1992-01-01 00:00:00.000000000  345.300000\n",
       "1992-01-03 09:52:05.604670558  315.780544\n",
       "1992-01-05 19:44:11.209341117  288.954132\n",
       "1992-01-08 05:36:16.814011676  264.696635\n",
       "1992-01-10 15:28:22.418682235  242.883924\n",
       "...                                   ...\n",
       "1999-11-21 08:31:37.581317792  101.231942\n",
       "1999-11-23 18:23:43.185988352  101.245640\n",
       "1999-11-26 04:15:48.790658912  101.261527\n",
       "1999-11-28 14:07:54.395329472  101.279637\n",
       "1999-12-01 00:00:00.000000000  101.300000\n",
       "\n",
       "[1200 rows x 1 columns]"
      ]
     },
     "execution_count": 197,
     "metadata": {},
     "output_type": "execute_result"
    }
   ],
   "source": [
    "plot_data_smoothed"
   ]
  },
  {
   "cell_type": "code",
   "execution_count": 198,
   "id": "26aa16a7-49db-403d-a8eb-20f7c92faff5",
   "metadata": {},
   "outputs": [],
   "source": [
    "# Geraschenko - 17 July 1992\n",
    "plot_text_ger = '''\n",
    "Назначение\n",
    "В.Геращенко на пост\n",
    "председателя ЦБ\n",
    "'''\n",
    "# monetary reform 26 July - Decembder 1993\n",
    "plot_text_reform = '''\n",
    "Начало\n",
    "денежной реформы\n",
    "'''\n",
    "# 'black tuesday' - 11 October 1994\n",
    "plot_text_tuesday = '''\n",
    "Черный вторник,\n",
    "отставка В.Геращенко\n",
    "'''\n",
    "# President elections\n",
    "plot_text_elec = '''\n",
    "Выборы президента РФ\n",
    "'''\n",
    "# PCO January 1992\n",
    "text_commentary = '''\n",
    "*ИПЦ в Январе 1992 г.\n",
    "составил 345.3%.\n",
    "'''"
   ]
  },
  {
   "cell_type": "code",
   "execution_count": 199,
   "id": "f256f0da-9ee3-48b3-bc17-95548594582e",
   "metadata": {},
   "outputs": [],
   "source": [
    "# Yeltsin - Supreme Soviet controversy active phase - March 20 1992 - 4 October 1993\n",
    "start_controversy = dt.datetime.strptime('20-03-1992', '%d-%m-%Y')\n",
    "end_controversy = dt.datetime.strptime('04-10-1993', '%d-%m-%Y')\n",
    "plot_controversy = \\\n",
    "    plot_data_smoothed.loc[start_controversy:end_controversy].copy()"
   ]
  },
  {
   "cell_type": "code",
   "execution_count": 200,
   "id": "69f1d074-5e26-470e-a13d-a1e5b197f69c",
   "metadata": {},
   "outputs": [],
   "source": [
    "# Gaidar stabilization - 2 January 1992 - 17 July 1992\n",
    "start_stab1 = dt.datetime.strptime('02-12-1991', '%d-%m-%Y')\n",
    "end_stab1 = dt.datetime.strptime('17-07-1992', '%d-%m-%Y')\n",
    "plot_stab1 = plot_data_smoothed.loc[start_stab1:end_stab1].copy()"
   ]
  },
  {
   "cell_type": "code",
   "execution_count": 201,
   "id": "31efc4df-07f4-487b-a3b7-11d58a4ed312",
   "metadata": {},
   "outputs": [],
   "source": [
    "# Gaidar-Fedorov stabilization - 1 September 1993 - 1 January 1994\n",
    "start_stab2 = dt.datetime.strptime('01-08-1993', '%d-%m-%Y')\n",
    "end_stab2 = dt.datetime.strptime('01-12-1993', '%d-%m-%Y')\n",
    "plot_stab2 = plot_data_smoothed.loc[start_stab2:end_stab2].copy()"
   ]
  },
  {
   "cell_type": "code",
   "execution_count": 202,
   "id": "60a978a9-2aab-47a4-b078-974023a6607c",
   "metadata": {},
   "outputs": [],
   "source": [
    "# Chubais stabilization - 1 January 1995 - 16 January 1996\n",
    "start_stab3 = dt.datetime.strptime('01-12-1994', '%d-%m-%Y')\n",
    "end_stab3 =  dt.datetime.strptime('16-12-1995', '%d-%m-%Y')\n",
    "plot_stab3 = plot_data_smoothed.loc[start_stab3:end_stab3].copy()"
   ]
  },
  {
   "cell_type": "markdown",
   "id": "ab90f2eb-4dab-4a05-9e45-c5fcaa9202cf",
   "metadata": {},
   "source": [
    "### Plots"
   ]
  },
  {
   "cell_type": "code",
   "execution_count": 241,
   "id": "b914e5ea-f3ab-47cd-afbd-5b4ed1af1c35",
   "metadata": {},
   "outputs": [
    {
     "data": {
      "image/png": "[encoded data removed]",
      "text/plain": [
       "<Figure size 950x700 with 2 Axes>"
      ]
     },
     "metadata": {},
     "output_type": "display_data"
    },
    {
     "name": "stdout",
     "output_type": "stream",
     "text": [
      "Images 'financial-stabilization-1990s.png' and 'financial-stabilization-1990s.svg' successfully saved into 'docs/img/' directory\n"
     ]
    }
   ],
   "source": [
    "fig, ax = plt.subplots(nrows=2, figsize=(9.5, 7))\n",
    "\n",
    "# title\n",
    "# ax[0].set_title(\n",
    "#     'Ключевые события и этапы финансовой стабилизации 1990-х годов',\n",
    "#     **title_inline)\n",
    "\n",
    "# AXIS 0\n",
    "# PCI curve\n",
    "ax[0].plot(\n",
    "    plot_data_smoothed, color=palette[0], alpha=0.85,\n",
    "    label='Индекс потребительских цен*')\n",
    "# Geraschenko to CB - 17 July 1992 (17 of 31 == 0.57 of 1.00)\n",
    "plot_timemarker(\n",
    "    text=plot_text_ger, x=dt.datetime.strptime('17-07-1992', '%d-%m-%Y'), \n",
    "    weight='medium', y_text=141.6, y_line=0.85, delta=dt.timedelta(days=30),\n",
    "    color_scatter=palette[1], style='italic', ax=ax[0])\n",
    "# monetary reform 26 July - Decembder 1993 (26 of 31 == 0.87 of 1.00)\n",
    "plot_timemarker(\n",
    "    text=plot_text_reform, x=dt.datetime.strptime('26-07-1993', '%d-%m-%Y'),\n",
    "    weight='medium', y_text=132, y_line=0.7, delta=dt.timedelta(days=30),\n",
    "    color_scatter=palette[1], style='italic', ax=ax[0])\n",
    "# 'black tuesday' - 11 October 1994 (11 of 31 == 0.37 of 1.00)\n",
    "plot_timemarker(\n",
    "    text=plot_text_tuesday, x=dt.datetime.strptime('11-10-1994', '%d-%m-%Y'),\n",
    "    weight='medium', y_text=125, y_line=0.58, delta=dt.timedelta(days=30),\n",
    "    color_scatter=palette[1], style='italic', ax=ax[0])\n",
    "# President elections 03 July 1996\n",
    "plot_timemarker(\n",
    "    text=plot_text_elec, x=dt.datetime.strptime('03-07-1996', '%d-%m-%Y'),\n",
    "    weight='medium', y_text=110, y_line=0.35, delta=dt.timedelta(days=30),\n",
    "    color_scatter=palette[1], style='italic', ax=ax[0])\n",
    "# Yeltsin - Supreme Soviet controversy active phase\n",
    "ax[0].fill_between(\n",
    "    x=plot_controversy.index,\n",
    "    y1=85, y2=plot_controversy['ИПЦ'],\n",
    "    color=palette[1], alpha=0.15, ec='none',\n",
    "    label='Активная фаза противостояния Б.Ельцина и Верховного совета РФ')\n",
    "# legend\n",
    "ax[0].legend(\n",
    "    **legend_inline(2),\n",
    "    **legend_create_handles(\n",
    "        2, ['l', 'r'],\n",
    "        labels=[\n",
    "            'Индекс потребительских цен*',\n",
    "            'Активная фаза противостояния Б.Ельцина и Верховного совета РФ'],\n",
    "        colors=[palette[0], palette[1]],\n",
    "        alphas=[0.85, 0.15]),\n",
    "    fontsize=9)\n",
    "# ylim\n",
    "ax[0].set_xlim(left=dt.datetime.strptime('01-12-1991', '%d-%m-%Y'))\n",
    "ax[0].set_ylim(90, 150)\n",
    "ax[0].grid(False)\n",
    "# custmize xaxis r-style\n",
    "ax[0].set_xlim(ax[0].get_xticks()[1], ax[0].get_xticks()[-1])\n",
    "axis_rstyle(\n",
    "    offset_bottom=5, offset_left=5,\n",
    "    ax=ax[0])\n",
    "ax[0].xaxis.set_major_locator(mpl.dates.MonthLocator([1, 4, 7, 10]))\n",
    "ax[0].xaxis.set_major_formatter(mpl.dates.DateFormatter('%b'))\n",
    "axis_add_date_xaxis(offset=21, ax=ax[0], labelcolor='#808080')\n",
    "# axis_dates_capitalize(ax=ax[0])\n",
    "axis_translate_months(ax=ax[0])\n",
    "# commentary\n",
    "ax[0].text(\n",
    "    x=1, y=0.80, s=text_commentary, style='italic', ha='right',\n",
    "    fontsize=8, transform=ax[0].transAxes)\n",
    "ax[0].tick_params(axis='both', direction='out')\n",
    "ax[0].tick_params(\n",
    "    which='minor', direction='out',\n",
    "    color='#CCCCCC', labelcolor='#808080')\n",
    "ax[0].tick_params(\n",
    "    which='major', direction='out',\n",
    "    color='#CCCCCC', labelcolor='#808080')\n",
    "\n",
    "# AXIS 1\n",
    "# PCI curve\n",
    "ax[1].plot(\n",
    "    plot_data_smoothed, color=palette[0], alpha=0.9)\n",
    "# Gaidar stabilization\n",
    "ax[1].fill_between(\n",
    "    x=plot_stab1.index,\n",
    "    y1=85, y2=plot_stab1['ИПЦ'],\n",
    "    color=palette[2], alpha=0.4, ec='none',\n",
    "    label='Стабилизация Е.Гайдара')\n",
    "# Fedorov stabilization\n",
    "ax[1].fill_between(\n",
    "    x=plot_stab2.index,\n",
    "    y1=85, y2=plot_stab2['ИПЦ'],\n",
    "    color=palette[3], alpha=0.3, ec='none',\n",
    "    label='Стабилизация Е. Гайдара / Б.Федорова')\n",
    "# Chubais stabilization\n",
    "ax[1].fill_between(\n",
    "    x=plot_stab3.index,\n",
    "    y1=85, y2=plot_stab3['ИПЦ'],\n",
    "    color=palette[7], alpha=0.3, ec='none',\n",
    "    label='Стабилизация А.Чубайса')\n",
    "\n",
    "# legend\n",
    "ax[1].legend(\n",
    "    **legend_inline(3),\n",
    "    **legend_create_handles(\n",
    "        3, 'r',\n",
    "        labels=[\n",
    "            'Стабилизация Е.Гайдара',\n",
    "            'Стабилизация Е.Гайдара / Б.Федорова',\n",
    "            'Стабилизация А.Чубайса'],\n",
    "        colors=[palette[2], palette[3], palette[7]],\n",
    "        alphas=[0.4, 0.3, 0.3]),\n",
    "    fontsize=9)\n",
    "# ylim\n",
    "ax[1].set_xlim(left=dt.datetime.strptime('01-12-1991', '%d-%m-%Y'))\n",
    "ax[1].set_ylim(90, 150)\n",
    "ax[1].grid(False)\n",
    "# custmize xaxis r-style\n",
    "ax[1].set_xlim(ax[1].get_xticks()[1], ax[1].get_xticks()[-1])\n",
    "axis_rstyle(\n",
    "    offset_bottom=5, offset_left=5,\n",
    "    ax=ax[1])\n",
    "ax[1].xaxis.set_major_locator(mpl.dates.MonthLocator([1, 4, 7, 10]))\n",
    "ax[1].xaxis.set_major_formatter(mpl.dates.DateFormatter('%b'))\n",
    "axis_add_date_xaxis(offset=21, ax=ax[1], labelcolor='#808080')\n",
    "# axis_dates_capitalize(ax=ax[1])\n",
    "axis_translate_months(ax=ax[1])\n",
    "# date format\n",
    "ax[1].tick_params(axis='both', direction='out')\n",
    "ax[1].tick_params(\n",
    "    which='minor', direction='out',\n",
    "    color='#CCCCCC', labelcolor='#808080')\n",
    "ax[1].tick_params(\n",
    "    which='major', direction='out',\n",
    "    color='#CCCCCC', labelcolor='#808080')\n",
    "\n",
    "plt.subplots_adjust(hspace=0.4)\n",
    "plt.show()\n",
    "\n",
    "savefig('financial-stabilization-1990s', dir=path_save_img, figure=fig, dpi=100)"
   ]
  },
  {
   "cell_type": "code",
   "execution_count": 204,
   "id": "babb8e2c-8770-46ea-bd49-74f0cecc53f5",
   "metadata": {},
   "outputs": [],
   "source": [
    "set_location()"
   ]
  },
  {
   "cell_type": "code",
   "execution_count": null,
   "id": "a4d0b365-4cfe-4ffb-a06e-e118e929feeb",
   "metadata": {},
   "outputs": [],
   "source": []
  },
  {
   "cell_type": "code",
   "execution_count": null,
   "id": "fe61a411-e9ff-4b4b-a42c-be18591dd0e5",
   "metadata": {},
   "outputs": [],
   "source": []
  },
  {
   "cell_type": "code",
   "execution_count": null,
   "id": "871efbcf-0e46-4af1-8d46-1537601675e2",
   "metadata": {},
   "outputs": [],
   "source": []
  },
  {
   "cell_type": "code",
   "execution_count": null,
   "id": "ee91e687-1bed-4aa8-a286-1cdba4de77f9",
   "metadata": {},
   "outputs": [],
   "source": []
  },
  {
   "cell_type": "markdown",
   "id": "ff5a495e-71c8-463e-a01c-bda306943d34",
   "metadata": {},
   "source": [
    "### Execution time"
   ]
  },
  {
   "cell_type": "code",
   "execution_count": 205,
   "id": "f9aa45c6-e653-4b65-9349-af30e6963a2c",
   "metadata": {},
   "outputs": [
    {
     "name": "stdout",
     "output_type": "stream",
     "text": [
      "Execution time: 0:00:41\n"
     ]
    }
   ],
   "source": [
    "stopwatch_stop(start)"
   ]
  }
 ],
 "metadata": {
  "kernelspec": {
   "display_name": "economy-rus",
   "language": "python",
   "name": "economy-rus"
  },
  "language_info": {
   "codemirror_mode": {
    "name": "ipython",
    "version": 3
   },
   "file_extension": ".py",
   "mimetype": "text/x-python",
   "name": "python",
   "nbconvert_exporter": "python",
   "pygments_lexer": "ipython3",
   "version": "3.12.3"
  }
 },
 "nbformat": 4,
 "nbformat_minor": 5
}
