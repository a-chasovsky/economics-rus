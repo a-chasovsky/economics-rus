{
 "cells": [
  {
   "cell_type": "code",
   "execution_count": null,
   "id": "51b18301-8e9b-4c54-ae2e-aa256fc56296",
   "metadata": {},
   "outputs": [],
   "source": [
    "# run stopwatch\n",
    "from _classes import Stopwatch\n",
    "stopwatch = Stopwatch()\n",
    "start = stopwatch.start()"
   ]
  },
  {
   "cell_type": "markdown",
   "id": "eb021bf4-988c-4bea-b6c5-dcc81783b94c",
   "metadata": {
    "jp-MarkdownHeadingCollapsed": true
   },
   "source": [
    "### Load Saved Section if exists"
   ]
  },
  {
   "cell_type": "raw",
   "id": "d5226013-58d3-45b6-9c15-271b9d64d151",
   "metadata": {},
   "source": [
    "if os.path.exists(f'sessions/{dir}'):\n",
    "    load_session(dir)\n",
    "else:\n",
    "    print(f\"No such session: 'sessions/{dir}'\")"
   ]
  },
  {
   "cell_type": "markdown",
   "id": "2a56a91d-d1ca-45ed-bcc8-905f5093c8dc",
   "metadata": {},
   "source": [
    "### Load libraries, functions, palette, theme"
   ]
  },
  {
   "cell_type": "code",
   "execution_count": null,
   "id": "5c96e7fa-e647-46f9-b996-83bf35aa5c97",
   "metadata": {},
   "outputs": [],
   "source": [
    "%run _load.ipynb"
   ]
  },
  {
   "cell_type": "code",
   "execution_count": null,
   "id": "7b1afbca-6c6b-4a50-b380-be63c2b515bc",
   "metadata": {},
   "outputs": [],
   "source": [
    "dir = '002.1-002.5_DMG'"
   ]
  },
  {
   "cell_type": "code",
   "execution_count": null,
   "id": "fa95c482-9969-4205-8b35-2908f0691cc1",
   "metadata": {},
   "outputs": [],
   "source": [
    "save_df = 'data/00-Datasets/'"
   ]
  },
  {
   "cell_type": "code",
   "execution_count": null,
   "id": "b4479881-32dc-45b9-bc30-31b0681d3e38",
   "metadata": {},
   "outputs": [],
   "source": [
    "save_excel = 'data/00-Excel-data/'"
   ]
  },
  {
   "cell_type": "markdown",
   "id": "9765ade8-97d9-4f5e-97fd-b032bbf010a5",
   "metadata": {},
   "source": [
    "# <font color='#2C8B6D'>I. Население</font>"
   ]
  },
  {
   "cell_type": "markdown",
   "id": "9653bdde-f574-4694-82fd-06b18595fef9",
   "metadata": {},
   "source": [
    "# Section II. Демография"
   ]
  },
  {
   "cell_type": "markdown",
   "id": "ce80bec2-f52e-4dda-924d-2a8ab4c82c0a",
   "metadata": {},
   "source": [
    "### Численность населения"
   ]
  },
  {
   "cell_type": "markdown",
   "id": "00f9f766-929c-438e-9a9c-f25b0cb9de0a",
   "metadata": {},
   "source": [
    "*Источник: https://rosstat.gov.ru/folder/12781*"
   ]
  },
  {
   "cell_type": "markdown",
   "id": "0ec97109-dc78-4479-95fa-057f07dca4b2",
   "metadata": {},
   "source": [
    "#### 2.1. Общий прирост населения"
   ]
  },
  {
   "cell_type": "markdown",
   "id": "8d2b604b-6693-4c63-9b2f-62114cf85ae6",
   "metadata": {},
   "source": [
    "*Источник: https://showdata.gks.ru/report/278934/*"
   ]
  },
  {
   "cell_type": "code",
   "execution_count": null,
   "id": "408cd46c-ac40-448a-871b-a03024ec8c9d",
   "metadata": {},
   "outputs": [],
   "source": [
    "pop_growth_link = \\\n",
    "    'data/02-Population/01-Demography/01-Count/' \\\n",
    "    '23110000100100200001_Общий_прирост_постоянного_населения.xlsx'"
   ]
  },
  {
   "cell_type": "code",
   "execution_count": null,
   "id": "a94485f7-434e-4d4e-8c87-c3fce203e9ac",
   "metadata": {},
   "outputs": [],
   "source": [
    "pop_growth_raw = pd.read_excel(pop_growth_link)"
   ]
  },
  {
   "cell_type": "code",
   "execution_count": null,
   "id": "e58b63ea-0569-4169-b3a8-8a6defa6ad0f",
   "metadata": {},
   "outputs": [],
   "source": [
    "pop_growth_raw"
   ]
  },
  {
   "cell_type": "code",
   "execution_count": null,
   "id": "d1d6234f-85f1-46f3-a070-9ca47afed1af",
   "metadata": {},
   "outputs": [],
   "source": [
    "pop_growth = pop_growth_raw[:-1].copy()"
   ]
  },
  {
   "cell_type": "code",
   "execution_count": null,
   "id": "93adf220-da01-457d-af1d-81de211ca95e",
   "metadata": {},
   "outputs": [],
   "source": [
    "pop_growth = pop_growth.drop(1, axis=0)"
   ]
  },
  {
   "cell_type": "code",
   "execution_count": null,
   "id": "49678135-7df5-4f01-977a-f01bd6f810d6",
   "metadata": {},
   "outputs": [],
   "source": [
    "pop_growth = pop_growth.drop('Unnamed: 1', axis=1)"
   ]
  },
  {
   "cell_type": "code",
   "execution_count": null,
   "id": "be582c99-c408-4de9-b14c-770551da8061",
   "metadata": {},
   "outputs": [],
   "source": [
    "pop_growth.iloc[0] = [str(i)[:4] for i in pop_growth.iloc[0]]"
   ]
  },
  {
   "cell_type": "code",
   "execution_count": null,
   "id": "751545ff-1a92-4623-ac3a-f3eb2d0aa9a6",
   "metadata": {},
   "outputs": [],
   "source": [
    "pop_growth.iloc[0, 0] = 'Регион'"
   ]
  },
  {
   "cell_type": "code",
   "execution_count": null,
   "id": "beef8dbb-d7e9-41d2-9e9d-bf34e0332dc8",
   "metadata": {},
   "outputs": [],
   "source": [
    "pop_growth.columns = pop_growth.iloc[0, :]"
   ]
  },
  {
   "cell_type": "code",
   "execution_count": null,
   "id": "7721fb3e-6f9c-489f-a3bf-b4d702afbbdf",
   "metadata": {},
   "outputs": [],
   "source": [
    "pop_growth.columns = [to_int(i) for i in pop_growth.columns]"
   ]
  },
  {
   "cell_type": "code",
   "execution_count": null,
   "id": "91e3af5d-d92b-4f3c-ab03-9922e7113ace",
   "metadata": {},
   "outputs": [],
   "source": [
    "pop_growth = pop_growth.drop(0, axis=0)"
   ]
  },
  {
   "cell_type": "code",
   "execution_count": null,
   "id": "ffad64ac-9ce5-4d2a-99f4-0b1ba2ed42ab",
   "metadata": {},
   "outputs": [],
   "source": [
    "pop_growth['Регион'] = [i.strip() for i in pop_growth['Регион']]"
   ]
  },
  {
   "cell_type": "code",
   "execution_count": null,
   "id": "dadd6c77-9021-41c2-8b3c-a7e108c702f5",
   "metadata": {},
   "outputs": [],
   "source": [
    "pop_growth = pop_growth[~pop_growth['Регион'].isin(federal_districts_names_list)].copy()"
   ]
  },
  {
   "cell_type": "code",
   "execution_count": null,
   "id": "49b305ca-8ea3-44dd-a642-a0d6e3f5c2ee",
   "metadata": {},
   "outputs": [],
   "source": [
    "pop_growth = pop_growth[~pop_growth['Регион'].isin(regions_drop_list)]"
   ]
  },
  {
   "cell_type": "code",
   "execution_count": null,
   "id": "2f7abcae-b2b9-41c6-8cea-8c6fc3931da2",
   "metadata": {},
   "outputs": [],
   "source": [
    "pop_growth['Регион'] = pop_growth['Регион'].replace(regions_replace_dict)"
   ]
  },
  {
   "cell_type": "code",
   "execution_count": null,
   "id": "15dc74ff-417b-4c1f-a1ab-dc459cc4be66",
   "metadata": {},
   "outputs": [],
   "source": [
    "# change specific value==0 to value == np.NaN\n",
    "pop_growth.loc[pop_growth['Регион'].isin(['Республика Крым', 'Севастополь']), 2014] = np.NaN"
   ]
  },
  {
   "cell_type": "code",
   "execution_count": null,
   "id": "c65f3ed5-d7ab-486a-b305-854151f62b69",
   "metadata": {},
   "outputs": [],
   "source": [
    "pop_growth = pop_growth.set_index('Регион', drop=True)"
   ]
  },
  {
   "cell_type": "code",
   "execution_count": null,
   "id": "81ec3a0d-7ad1-4316-98e0-bc0930685793",
   "metadata": {},
   "outputs": [],
   "source": [
    "pop_growth.index.name = None"
   ]
  },
  {
   "cell_type": "code",
   "execution_count": null,
   "id": "adbfcc94-b72c-4e61-b204-e78152bb1dff",
   "metadata": {},
   "outputs": [],
   "source": [
    "isna(pop_growth)"
   ]
  },
  {
   "cell_type": "code",
   "execution_count": null,
   "id": "c608de18-25c6-4926-982f-7fe07bd1136c",
   "metadata": {},
   "outputs": [],
   "source": [
    "pop_growth.head()"
   ]
  },
  {
   "cell_type": "markdown",
   "id": "085eb20e-ecf5-457b-9384-30ea6b6a8c99",
   "metadata": {},
   "source": [
    "##### <font color='#AF4035'> Export Dataset to Excel"
   ]
  },
  {
   "cell_type": "code",
   "execution_count": null,
   "id": "421bd231-b77f-44cc-b78c-0494dc19517c",
   "metadata": {},
   "outputs": [],
   "source": [
    "saveit_excel(\n",
    "    data=pop_growth,\n",
    "    filename=dir,\n",
    "    path=save_excel,\n",
    "    sheet='Общий прирост населения'\n",
    ")"
   ]
  },
  {
   "cell_type": "markdown",
   "id": "886e2c02-4c57-47ad-92a8-3d57f5307651",
   "metadata": {},
   "source": [
    "#### 2.2. Доля городского населения"
   ]
  },
  {
   "cell_type": "markdown",
   "id": "c29d9f57-cd9a-4bad-a810-4910ae82ff80",
   "metadata": {},
   "source": [
    "*Источник: https://showdata.gks.ru/report/278932/*\n",
    "\n",
    "Данные на январь каждого месяца"
   ]
  },
  {
   "cell_type": "code",
   "execution_count": null,
   "id": "6c026c0d-d08b-4cd7-8878-1473b3196501",
   "metadata": {},
   "outputs": [],
   "source": [
    "pop_town_link = \\\n",
    "    'data/02-Population/01-Demography/01-Count/' \\\n",
    "    '23120000300010200001_Доля_городского_населения_в_общей_численности_населения_на_1_января.xlsx'"
   ]
  },
  {
   "cell_type": "code",
   "execution_count": null,
   "id": "34e54e8a-c456-46f0-9bc0-67666e99c72c",
   "metadata": {},
   "outputs": [],
   "source": [
    "pop_town_raw = pd.read_excel(pop_town_link)"
   ]
  },
  {
   "cell_type": "code",
   "execution_count": null,
   "id": "3b683982-3fda-40d0-bffe-8f55dc7d2d2b",
   "metadata": {},
   "outputs": [],
   "source": [
    "pop_town_raw"
   ]
  },
  {
   "cell_type": "code",
   "execution_count": null,
   "id": "1a71b696-aa63-46a3-83c8-10ac49322e4c",
   "metadata": {},
   "outputs": [],
   "source": [
    "pop_town = pop_town_raw[:-1].copy()"
   ]
  },
  {
   "cell_type": "code",
   "execution_count": null,
   "id": "34148e1c-f7fd-41dc-87e6-5ba48bd123d3",
   "metadata": {},
   "outputs": [],
   "source": [
    "pop_town = pop_town.drop('Unnamed: 1', axis=1)"
   ]
  },
  {
   "cell_type": "code",
   "execution_count": null,
   "id": "de39b81f-4b1b-47e3-8748-f5e2aecb0488",
   "metadata": {},
   "outputs": [],
   "source": [
    "pop_town.iloc[0] = [str(i)[-7:-3] for i in pop_town.iloc[0]]"
   ]
  },
  {
   "cell_type": "code",
   "execution_count": null,
   "id": "94d8b943-bd18-4fe5-ad4c-40ec4a1f1a32",
   "metadata": {},
   "outputs": [],
   "source": [
    "pop_town.iloc[0, 0] = 'Регион'"
   ]
  },
  {
   "cell_type": "code",
   "execution_count": null,
   "id": "059750ae-1315-468f-811e-f27e3c651157",
   "metadata": {},
   "outputs": [],
   "source": [
    "pop_town.columns = pop_town.iloc[0, :]"
   ]
  },
  {
   "cell_type": "code",
   "execution_count": null,
   "id": "42cdb49d-877e-408b-90b3-3639c25067e5",
   "metadata": {},
   "outputs": [],
   "source": [
    "pop_town.columns = [to_int(i) for i in pop_town.columns]"
   ]
  },
  {
   "cell_type": "code",
   "execution_count": null,
   "id": "0d926f2c-d591-4c07-9f52-fd189d749080",
   "metadata": {},
   "outputs": [],
   "source": [
    "pop_town = pop_town.drop(0, axis=0)"
   ]
  },
  {
   "cell_type": "code",
   "execution_count": null,
   "id": "3c4267a5-a9b5-4baf-a3c8-140bc938631e",
   "metadata": {},
   "outputs": [],
   "source": [
    "pop_town['Регион'] = [i.strip() for i in pop_town['Регион']]"
   ]
  },
  {
   "cell_type": "code",
   "execution_count": null,
   "id": "fb4a78bd-6e35-4764-8f5d-4646d69542d6",
   "metadata": {},
   "outputs": [],
   "source": [
    "pop_town = pop_town[~pop_town['Регион'].isin(federal_districts_names_list)].copy()"
   ]
  },
  {
   "cell_type": "code",
   "execution_count": null,
   "id": "ddbb5f01-fa7f-4173-8fbc-2df3caf7a547",
   "metadata": {},
   "outputs": [],
   "source": [
    "pop_town = pop_town[~pop_town['Регион'].isin(regions_drop_list)]"
   ]
  },
  {
   "cell_type": "code",
   "execution_count": null,
   "id": "f79f0c52-26b3-4665-ba6d-33a17362937b",
   "metadata": {},
   "outputs": [],
   "source": [
    "pop_town['Регион'] = pop_town['Регион'].replace(regions_replace_dict)"
   ]
  },
  {
   "cell_type": "code",
   "execution_count": null,
   "id": "0c2038b2-b280-4423-be90-47e8fd012902",
   "metadata": {},
   "outputs": [],
   "source": [
    "pop_town = pop_town.set_index('Регион', drop=True)"
   ]
  },
  {
   "cell_type": "code",
   "execution_count": null,
   "id": "3cd6a171-d273-461c-b406-197aa2ad9c15",
   "metadata": {},
   "outputs": [],
   "source": [
    "pop_town.index.name = None"
   ]
  },
  {
   "cell_type": "code",
   "execution_count": null,
   "id": "079266a9-8e3f-4e15-a737-a83e2abe07a1",
   "metadata": {},
   "outputs": [],
   "source": [
    "pop_town = pop_town.astype(float)"
   ]
  },
  {
   "cell_type": "code",
   "execution_count": null,
   "id": "cc5e98cc-2799-438d-9b2c-6046c493ff9d",
   "metadata": {},
   "outputs": [],
   "source": [
    "isna(pop_town)"
   ]
  },
  {
   "cell_type": "code",
   "execution_count": null,
   "id": "88a22a8b-9e60-42ea-86f4-c16710d8a073",
   "metadata": {},
   "outputs": [],
   "source": [
    "pop_town.head()"
   ]
  },
  {
   "cell_type": "markdown",
   "id": "126162c3-9411-4e78-8651-3aa7576d04bd",
   "metadata": {},
   "source": [
    "##### <font color='#AF4035'> Export Dataset to Excel"
   ]
  },
  {
   "cell_type": "code",
   "execution_count": null,
   "id": "98f761bc-6372-4de6-b2d8-0d5b59647015",
   "metadata": {},
   "outputs": [],
   "source": [
    "saveit_excel(\n",
    "    data=pop_town,\n",
    "    filename=dir,\n",
    "    path=save_excel,\n",
    "    sheet='Доля городского населения'\n",
    ")"
   ]
  },
  {
   "cell_type": "markdown",
   "id": "2c8d786e-fafe-41af-897f-b68f43bb139c",
   "metadata": {},
   "source": [
    "#### 2.3. Численность постоянного населения в среднем за год"
   ]
  },
  {
   "cell_type": "markdown",
   "id": "f001d2e9-9ca8-45d5-a170-3d9ec94762b7",
   "metadata": {},
   "source": [
    "*Источник: https://showdata.gks.ru/report/278930/*"
   ]
  },
  {
   "cell_type": "code",
   "execution_count": null,
   "id": "f4c323ef-a8da-44c2-ba0d-4c962b8a35ad",
   "metadata": {},
   "outputs": [],
   "source": [
    "pop_mean_year_link = \\\n",
    "    'data/02-Population/01-Demography/01-Count/' \\\n",
    "    '23110000100040200001_Численность_постоянного_населения_в_среднем_за_год.xlsx'"
   ]
  },
  {
   "cell_type": "code",
   "execution_count": null,
   "id": "41836055-1600-4289-b6e1-55e9f582eba7",
   "metadata": {},
   "outputs": [],
   "source": [
    "pop_mean_year_raw = pd.read_excel(pop_mean_year_link)"
   ]
  },
  {
   "cell_type": "code",
   "execution_count": null,
   "id": "22134068-c68b-4c53-8ad3-127e73df364b",
   "metadata": {},
   "outputs": [],
   "source": [
    "pop_mean_year_raw"
   ]
  },
  {
   "cell_type": "code",
   "execution_count": null,
   "id": "ce98177f-2923-4307-98ba-5cb260344096",
   "metadata": {},
   "outputs": [],
   "source": [
    "pop_mean_year = transform_data_demography(\n",
    "    pop_mean_year_raw, federal_districts_names_list, regions_names_list,\n",
    "    regions_replace_dict, regions_drop_list,\n",
    "    drop_end_rows=13, drop_locs=1)"
   ]
  },
  {
   "cell_type": "code",
   "execution_count": null,
   "id": "7d62e1c0-3d94-455c-a2bd-69cf511073a8",
   "metadata": {},
   "outputs": [],
   "source": [
    "isna(pop_mean_year)"
   ]
  },
  {
   "cell_type": "code",
   "execution_count": null,
   "id": "40ec24c0-d674-4438-bc0a-72eca88030e1",
   "metadata": {},
   "outputs": [],
   "source": [
    "pop_mean_year.head()"
   ]
  },
  {
   "cell_type": "markdown",
   "id": "3a6b6d57-5b38-46c3-80c7-fa5f9802a3c4",
   "metadata": {},
   "source": [
    "##### <font color='#AF4035'> Export Dataset to Excel"
   ]
  },
  {
   "cell_type": "code",
   "execution_count": null,
   "id": "e15ece1d-d800-4d4b-9a76-29c770eb2db5",
   "metadata": {},
   "outputs": [],
   "source": [
    "saveit_excel(\n",
    "    data=pop_mean_year,\n",
    "    filename=dir,\n",
    "    path=save_excel,\n",
    "    sheet='Численность за год'\n",
    ")"
   ]
  },
  {
   "cell_type": "markdown",
   "id": "ba126e55-c8f9-4572-92f3-a736fdccb3a0",
   "metadata": {},
   "source": [
    "### Миграция"
   ]
  },
  {
   "cell_type": "markdown",
   "id": "30fc5fff-7739-417d-a430-d98da32453a1",
   "metadata": {},
   "source": [
    "*Источник: https://rosstat.gov.ru/folder/12781*"
   ]
  },
  {
   "cell_type": "markdown",
   "id": "51cf2cdb-52e5-4402-8dba-85caa264f8b0",
   "metadata": {},
   "source": [
    "#### 2.4. Миграционный прирост населения"
   ]
  },
  {
   "cell_type": "markdown",
   "id": "408e0993-875a-4209-8aaa-fae7b1befc18",
   "metadata": {},
   "source": [
    "*Источник: https://showdata.gks.ru/report/278004/*"
   ]
  },
  {
   "cell_type": "code",
   "execution_count": null,
   "id": "0ad3af3c-ea89-424b-9921-66c8bca01a8f",
   "metadata": {},
   "outputs": [],
   "source": [
    "migration_link1 = \\\n",
    "    'data/02-Population/01-Demography/02-Migration/' \\\n",
    "    '23320000100030200001_Миграционный_прирост_населения_по_полу,_возрасту_и_потокам_передвижения.xlsx'"
   ]
  },
  {
   "cell_type": "code",
   "execution_count": null,
   "id": "cac9e844-c554-46d8-a8c5-b2bdfe48437e",
   "metadata": {},
   "outputs": [],
   "source": [
    "migration_link2 = \\\n",
    "    'data/02-Population/01-Demography/02-Migration/' \\\n",
    "    '23320000100030200007_Миграционный_прирост_(убыль)_населения,_абсолютные_данные.xlsx'"
   ]
  },
  {
   "cell_type": "code",
   "execution_count": null,
   "id": "fd3f85cf-581b-4a56-a9a4-7f0b7f3d0beb",
   "metadata": {},
   "outputs": [],
   "source": [
    "migration_raw1 = pd.read_excel(migration_link1)"
   ]
  },
  {
   "cell_type": "code",
   "execution_count": null,
   "id": "5c3bb389-46f3-4b1b-8dff-f92923a6fee9",
   "metadata": {},
   "outputs": [],
   "source": [
    "migration_raw1"
   ]
  },
  {
   "cell_type": "code",
   "execution_count": null,
   "id": "d19f6439-36fb-494f-aa45-40a399b319b7",
   "metadata": {},
   "outputs": [],
   "source": [
    "migration1 = transform_data_demography(\n",
    "    migration_raw1, federal_districts_names_list, regions_names_list,\n",
    "    regions_replace_dict, regions_drop_list,\n",
    "    drop_end_rows=2, drop_locs=[1,2,3,4])"
   ]
  },
  {
   "cell_type": "code",
   "execution_count": null,
   "id": "b33519f6-103c-49f6-beac-b4fd739ad6f7",
   "metadata": {},
   "outputs": [],
   "source": [
    "migration1 = migration1[migration1.index.isin(regions_names_list)].copy()"
   ]
  },
  {
   "cell_type": "code",
   "execution_count": null,
   "id": "a454a7ce-600b-4f4b-b4ac-662af600bb76",
   "metadata": {},
   "outputs": [],
   "source": [
    "set(regions_names_list) - set(migration1.index.tolist())"
   ]
  },
  {
   "cell_type": "code",
   "execution_count": null,
   "id": "f9e8f831-8685-426e-9848-28c991467187",
   "metadata": {},
   "outputs": [],
   "source": [
    "migration1"
   ]
  },
  {
   "cell_type": "code",
   "execution_count": null,
   "id": "6cb010f2-01eb-49e3-b99e-59b0284c6337",
   "metadata": {},
   "outputs": [],
   "source": [
    "migration_raw2 = pd.read_excel(migration_link2)"
   ]
  },
  {
   "cell_type": "code",
   "execution_count": null,
   "id": "96f30ff3-e8b3-478b-9609-95bb12bfa518",
   "metadata": {},
   "outputs": [],
   "source": [
    "migration_raw2.tail(10)"
   ]
  },
  {
   "cell_type": "code",
   "execution_count": null,
   "id": "c524927d-950c-46d0-ab4e-1a286662eb18",
   "metadata": {},
   "outputs": [],
   "source": [
    "migration2 = transform_data_demography(\n",
    "    migration_raw2, federal_districts_names_list, regions_names_list,\n",
    "    regions_replace_dict, regions_drop_list,\n",
    "    drop_end_rows=1, drop_locs=[1,3])"
   ]
  },
  {
   "cell_type": "code",
   "execution_count": null,
   "id": "17478770-94e6-42d8-8339-b25c83a3fe3b",
   "metadata": {},
   "outputs": [],
   "source": [
    "migration2 = migration2.iloc[:, :-1].copy()"
   ]
  },
  {
   "cell_type": "code",
   "execution_count": null,
   "id": "665205d2-d085-43d9-94ae-c935cd7e7c06",
   "metadata": {},
   "outputs": [],
   "source": [
    "migration2"
   ]
  },
  {
   "cell_type": "code",
   "execution_count": null,
   "id": "ded20a6f-b598-4a31-873b-aaab9821be3e",
   "metadata": {},
   "outputs": [],
   "source": [
    "migration = pd.concat([migration2, migration1], axis=1)"
   ]
  },
  {
   "cell_type": "code",
   "execution_count": null,
   "id": "c8c83170-9d89-43cd-b640-01b776c82f50",
   "metadata": {},
   "outputs": [],
   "source": [
    "migration.loc['Чеченская Республика', 1997:2000] = np.NaN"
   ]
  },
  {
   "cell_type": "code",
   "execution_count": null,
   "id": "d2506293-ce98-4765-80ca-69237fc98e9b",
   "metadata": {},
   "outputs": [],
   "source": [
    "isna(migration)"
   ]
  },
  {
   "cell_type": "code",
   "execution_count": null,
   "id": "0e59a0ff-e322-40bc-89d8-de6debab9c69",
   "metadata": {},
   "outputs": [],
   "source": [
    "migration.head()"
   ]
  },
  {
   "cell_type": "markdown",
   "id": "9fec6753-fd97-4740-a882-e2a0157738bf",
   "metadata": {},
   "source": [
    "##### <font color='#AF4035'> Export Dataset to Excel"
   ]
  },
  {
   "cell_type": "code",
   "execution_count": null,
   "id": "d2ffe51d-0b41-4b17-8838-83777b30b590",
   "metadata": {},
   "outputs": [],
   "source": [
    "saveit_excel(\n",
    "    data=migration,\n",
    "    filename=dir,\n",
    "    path=save_excel,\n",
    "    sheet='Миграционный прирост населения'\n",
    ")"
   ]
  },
  {
   "cell_type": "markdown",
   "id": "884e88aa-c6de-437d-85f8-dc014fda6390",
   "metadata": {},
   "source": [
    "#### 2.5. Коэффициент межрегиональной (внутренней) миграции на 10000 населения"
   ]
  },
  {
   "cell_type": "markdown",
   "id": "989529a3-5c28-4ca4-8ea1-8c742638fe73",
   "metadata": {},
   "source": [
    "*Источник: https://showdata.gks.ru/report/274822/*\n",
    "\n",
    "*Методика: ( (прибывшие - выбывшие)/среднее за год ) * 10000*"
   ]
  },
  {
   "cell_type": "code",
   "execution_count": null,
   "id": "5f3d0733-f0fa-44dc-b208-6cad63ad3d87",
   "metadata": {},
   "outputs": [],
   "source": [
    "migration_coeff_link = \\\n",
    "    'data/02-Population/01-Demography/02-Migration/' \\\n",
    "    '23110000300020200003_Коэффициент_межрегиональной_(внутренней)_миграции_на_10000_населения.xlsx'"
   ]
  },
  {
   "cell_type": "code",
   "execution_count": null,
   "id": "a983a5df-d20a-4bdf-8a4d-d7fe2b15b765",
   "metadata": {},
   "outputs": [],
   "source": [
    "migration_coeff_raw = pd.read_excel(migration_coeff_link)"
   ]
  },
  {
   "cell_type": "code",
   "execution_count": null,
   "id": "eb2819e9-d3b5-421d-910a-6e9d8c44e651",
   "metadata": {},
   "outputs": [],
   "source": [
    "migration_coeff_raw"
   ]
  },
  {
   "cell_type": "code",
   "execution_count": null,
   "id": "f0e000dd-82e9-43b6-9589-4ecde2a85c69",
   "metadata": {},
   "outputs": [],
   "source": [
    "migration_coeff = transform_data_demography(\n",
    "    migration_coeff_raw, federal_districts_names_list, regions_names_list,\n",
    "    regions_replace_dict, regions_drop_list,\n",
    "    drop_end_rows=1, drop_locs=None)"
   ]
  },
  {
   "cell_type": "code",
   "execution_count": null,
   "id": "eda5aa64-d0c1-46c2-8022-2eb7874bb9af",
   "metadata": {},
   "outputs": [],
   "source": [
    "migration_coeff = migration_coeff.astype(float)"
   ]
  },
  {
   "cell_type": "code",
   "execution_count": null,
   "id": "d64302f9-da2a-4140-812d-cd9d8c6db58f",
   "metadata": {},
   "outputs": [],
   "source": [
    "isna(migration_coeff)"
   ]
  },
  {
   "cell_type": "code",
   "execution_count": null,
   "id": "5ae049e6-4857-4dfd-b5e5-25a4d37406ad",
   "metadata": {},
   "outputs": [],
   "source": [
    "migration_coeff"
   ]
  },
  {
   "cell_type": "markdown",
   "id": "d3f29699-1fbf-4ef5-b8a3-c5459aae7aeb",
   "metadata": {},
   "source": [
    "##### <font color='#AF4035'> Export Dataset to Excel"
   ]
  },
  {
   "cell_type": "code",
   "execution_count": null,
   "id": "9dfd7b79-3f43-4726-becc-4adc1eac96cf",
   "metadata": {},
   "outputs": [],
   "source": [
    "saveit_excel(\n",
    "    data=migration_coeff,\n",
    "    filename=dir,\n",
    "    path=save_excel,\n",
    "    sheet='Коэффициент внутренней миграции'\n",
    ")"
   ]
  },
  {
   "cell_type": "markdown",
   "id": "620a0259-8af4-4119-b986-cf064b388a55",
   "metadata": {},
   "source": [
    "### Save Datasets"
   ]
  },
  {
   "cell_type": "code",
   "execution_count": null,
   "id": "5c8c495f-2bc9-44c5-9a1f-9f241ac878ed",
   "metadata": {},
   "outputs": [],
   "source": [
    "economics_data = {}"
   ]
  },
  {
   "cell_type": "code",
   "execution_count": null,
   "id": "9f88dd4c-7a61-4802-a8c6-8adddf4242f2",
   "metadata": {},
   "outputs": [],
   "source": [
    "economics_data['2.1'] = pop_growth"
   ]
  },
  {
   "cell_type": "code",
   "execution_count": null,
   "id": "80f57b67-f8ae-4cd5-b276-ec3d85fae6f3",
   "metadata": {},
   "outputs": [],
   "source": [
    "economics_data['2.2'] = pop_town"
   ]
  },
  {
   "cell_type": "code",
   "execution_count": null,
   "id": "2e7563c4-9e11-4432-8da7-3fab43918cf4",
   "metadata": {},
   "outputs": [],
   "source": [
    "economics_data['2.3'] = pop_mean_year"
   ]
  },
  {
   "cell_type": "code",
   "execution_count": null,
   "id": "8d8fc578-156c-4ac3-a1fd-2a847f318f15",
   "metadata": {},
   "outputs": [],
   "source": [
    "economics_data['2.4'] = migration"
   ]
  },
  {
   "cell_type": "code",
   "execution_count": null,
   "id": "0176667d-8a10-4193-b19d-3327f18e024b",
   "metadata": {},
   "outputs": [],
   "source": [
    "economics_data['2.5'] = migration_coeff"
   ]
  },
  {
   "cell_type": "code",
   "execution_count": null,
   "id": "e20bd476-d681-472d-9b79-671c9858b5de",
   "metadata": {},
   "outputs": [],
   "source": [
    "saveit(\n",
    "    file=economics_data,\n",
    "    name='economics_data',\n",
    "    dir=save_df\n",
    ")"
   ]
  },
  {
   "cell_type": "markdown",
   "id": "25402648-4837-4c9d-b5e6-0c6cea916bb5",
   "metadata": {},
   "source": [
    "### Save Session"
   ]
  },
  {
   "cell_type": "code",
   "execution_count": null,
   "id": "93230bdc-2e31-4326-99b4-f925154f9c83",
   "metadata": {},
   "outputs": [],
   "source": [
    "save_session(dir)"
   ]
  },
  {
   "cell_type": "markdown",
   "id": "f67c6859-e59a-4fdc-9ffe-8f67110ad45b",
   "metadata": {},
   "source": [
    "### Execution time"
   ]
  },
  {
   "cell_type": "code",
   "execution_count": null,
   "id": "2a000212-0e13-4bf5-a84a-1547884049d2",
   "metadata": {},
   "outputs": [],
   "source": [
    "print(f'Execution time: {stopwatch.stop(start)}')"
   ]
  }
 ],
 "metadata": {
  "kernelspec": {
   "display_name": "venv_pers_economics_rus",
   "language": "python",
   "name": "venv_pers_economics_rus"
  },
  "language_info": {
   "codemirror_mode": {
    "name": "ipython",
    "version": 3
   },
   "file_extension": ".py",
   "mimetype": "text/x-python",
   "name": "python",
   "nbconvert_exporter": "python",
   "pygments_lexer": "ipython3",
   "version": "3.12.1"
  }
 },
 "nbformat": 4,
 "nbformat_minor": 5
}
