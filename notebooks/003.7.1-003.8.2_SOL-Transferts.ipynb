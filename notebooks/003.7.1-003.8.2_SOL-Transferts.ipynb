{
 "cells": [
  {
   "cell_type": "code",
   "execution_count": 1,
   "id": "22e71dd9-bf0e-4e7d-a5c6-75f238af3fac",
   "metadata": {},
   "outputs": [],
   "source": [
    "# run stopwatch\n",
    "from _classes import Stopwatch\n",
    "stopwatch = Stopwatch()\n",
    "start = stopwatch.start()"
   ]
  },
  {
   "cell_type": "markdown",
   "id": "b50226b5-0a86-4124-90dc-64124bee6beb",
   "metadata": {
    "jp-MarkdownHeadingCollapsed": true
   },
   "source": [
    "### Load Saved Section if exists"
   ]
  },
  {
   "cell_type": "raw",
   "id": "2f085fb2-5017-451f-a907-aebb908d6e6a",
   "metadata": {},
   "source": [
    "if os.path.exists(f'sessions/{dir}'):\n",
    "    load_session(dir)\n",
    "else:\n",
    "    print(f\"No such session: 'sessions/{dir}'\")"
   ]
  },
  {
   "cell_type": "markdown",
   "id": "024bd08b-45e3-4cd6-a597-9088e92df897",
   "metadata": {},
   "source": [
    "### Load libraries, functions, palette, theme"
   ]
  },
  {
   "cell_type": "code",
   "execution_count": 2,
   "id": "b1869ab5-3add-4bce-bbac-f18a02986a91",
   "metadata": {},
   "outputs": [],
   "source": [
    "%run _load.ipynb"
   ]
  },
  {
   "cell_type": "code",
   "execution_count": 3,
   "id": "93cc2606-4f9d-4a00-88ce-3503d5e0ce11",
   "metadata": {},
   "outputs": [],
   "source": [
    "economics_data = loadit(\n",
    "    'economics_data', 'data/00-Datasets/'\n",
    ")"
   ]
  },
  {
   "cell_type": "code",
   "execution_count": 4,
   "id": "4a4e0910-ad11-4bca-b1a2-1330742838f3",
   "metadata": {},
   "outputs": [],
   "source": [
    "dir = '003.7.1-003.8.2_SOL-Transferts'"
   ]
  },
  {
   "cell_type": "code",
   "execution_count": 5,
   "id": "2baa69de-2209-4397-bb38-fe60cea3f5ae",
   "metadata": {},
   "outputs": [],
   "source": [
    "save_df = 'data/00-Datasets/'"
   ]
  },
  {
   "cell_type": "code",
   "execution_count": 6,
   "id": "a9e45ff6-21fe-4900-ad93-5fb019e3f25a",
   "metadata": {},
   "outputs": [],
   "source": [
    "save_excel = 'data/00-Excel-data/'"
   ]
  },
  {
   "cell_type": "markdown",
   "id": "cf67571f-d75e-4104-837e-f4996637d35e",
   "metadata": {},
   "source": [
    "# <font color='#2C8B6D'>I. Население</font>"
   ]
  },
  {
   "cell_type": "markdown",
   "id": "594e8378-c256-4689-b50c-90a431a0b2af",
   "metadata": {},
   "source": [
    "# Section III. Уровень жизни"
   ]
  },
  {
   "cell_type": "markdown",
   "id": "ddb69e9f-fa09-41e6-8dce-aeb808e1a222",
   "metadata": {},
   "source": [
    "## 3. Доходы, расходы и сбережения населения"
   ]
  },
  {
   "cell_type": "markdown",
   "id": "f773a75c-64f8-4934-bca5-5f53a033ed95",
   "metadata": {},
   "source": [
    "### 3.7. Объем социальных выплат населению и налогооблагаемых денежных доходов населения в разрезе муниципальных образований. Динамические ряды"
   ]
  },
  {
   "cell_type": "markdown",
   "id": "837ec478-35ae-4bba-b826-83a18f554a8a",
   "metadata": {},
   "source": [
    "*Источник: https://rosstat.gov.ru/folder/13397*  \n",
    "*Единицы измерения: млрд. руб.*"
   ]
  },
  {
   "cell_type": "markdown",
   "id": "23b6f185-12da-4b86-8615-7f578dd83296",
   "metadata": {},
   "source": [
    "#### <font color='#2A5899'>Transferts</font>"
   ]
  },
  {
   "cell_type": "code",
   "execution_count": 7,
   "id": "1e87aabd-667b-46e5-bd2b-8765d7f17d28",
   "metadata": {},
   "outputs": [],
   "source": [
    "datasets_list = []"
   ]
  },
  {
   "cell_type": "markdown",
   "id": "c74e4a86-bf3b-4767-a839-11a02c1a42d8",
   "metadata": {},
   "source": [
    "#### <font color='#AF4035'>2010 год</font>"
   ]
  },
  {
   "cell_type": "markdown",
   "id": "599f9174-de19-4b9c-b22a-86463efdab8e",
   "metadata": {},
   "source": [
    "##### Regions OKTMO codes"
   ]
  },
  {
   "cell_type": "markdown",
   "id": "4194e40c-a990-4709-9789-ed98b2f9bbcd",
   "metadata": {},
   "source": [
    "##### Исправления:\n",
    "- г. Липецк - неверный ОКТМО"
   ]
  },
  {
   "cell_type": "code",
   "execution_count": 8,
   "id": "4e231cbe-51c2-4e7f-94c5-bdea6e7174b2",
   "metadata": {},
   "outputs": [],
   "source": [
    "# read file from another directory\n",
    "path_2010 = \\\n",
    "    ('data/00-Region-codes/')\n",
    "os.chdir(path_2010)\n",
    "%run 2010.ipynb\n",
    "# and go back to current directory\n",
    "os.chdir(current_path)"
   ]
  },
  {
   "cell_type": "markdown",
   "id": "659acd34-ef29-4331-ad79-1fd4829fb6c1",
   "metadata": {},
   "source": [
    "##### Data"
   ]
  },
  {
   "cell_type": "code",
   "execution_count": 9,
   "id": "32fee2e3-274c-40ed-b1cf-794f79436a4c",
   "metadata": {},
   "outputs": [],
   "source": [
    "income_transferts_2010_link = \\\n",
    "    ('data/02-Population/02-Standard-of-living/01-Income/'\n",
    "     'urov-14a2010.xls')"
   ]
  },
  {
   "cell_type": "code",
   "execution_count": 10,
   "id": "fee9eb6c-11a5-4ca2-8f89-7e31d722e2c8",
   "metadata": {},
   "outputs": [],
   "source": [
    "income_transferts_2010_raw = pd.read_excel(income_transferts_2010_link)"
   ]
  },
  {
   "cell_type": "code",
   "execution_count": 11,
   "id": "92c29044-2893-4c3c-871f-6f056115f747",
   "metadata": {},
   "outputs": [
    {
     "data": {
      "text/html": [
       "<div>\n",
       "<style scoped>\n",
       "    .dataframe tbody tr th:only-of-type {\n",
       "        vertical-align: middle;\n",
       "    }\n",
       "\n",
       "    .dataframe tbody tr th {\n",
       "        vertical-align: top;\n",
       "    }\n",
       "\n",
       "    .dataframe thead th {\n",
       "        text-align: right;\n",
       "    }\n",
       "</style>\n",
       "<table border=\"1\" class=\"dataframe\">\n",
       "  <thead>\n",
       "    <tr style=\"text-align: right;\">\n",
       "      <th></th>\n",
       "      <th>Unnamed: 0</th>\n",
       "      <th>Размещено - 16.09.2013г.</th>\n",
       "      <th>Unnamed: 2</th>\n",
       "      <th>Unnamed: 3</th>\n",
       "      <th>Unnamed: 4</th>\n",
       "      <th>Unnamed: 5</th>\n",
       "    </tr>\n",
       "  </thead>\n",
       "  <tbody>\n",
       "    <tr>\n",
       "      <th>0</th>\n",
       "      <td>NaN</td>\n",
       "      <td>NaN</td>\n",
       "      <td>NaN</td>\n",
       "      <td>NaN</td>\n",
       "      <td>NaN</td>\n",
       "      <td>NaN</td>\n",
       "    </tr>\n",
       "    <tr>\n",
       "      <th>1</th>\n",
       "      <td>Объем социальных выплат населению и налогообла...</td>\n",
       "      <td>NaN</td>\n",
       "      <td>NaN</td>\n",
       "      <td>NaN</td>\n",
       "      <td>NaN</td>\n",
       "      <td>NaN</td>\n",
       "    </tr>\n",
       "    <tr>\n",
       "      <th>2</th>\n",
       "      <td>NaN</td>\n",
       "      <td>NaN</td>\n",
       "      <td>NaN</td>\n",
       "      <td>NaN</td>\n",
       "      <td>NaN</td>\n",
       "      <td>тыс.руб.</td>\n",
       "    </tr>\n",
       "    <tr>\n",
       "      <th>3</th>\n",
       "      <td>№</td>\n",
       "      <td>Субъект РФ</td>\n",
       "      <td>Код ОКТМО</td>\n",
       "      <td>Объем социальных выплат и налогооблагаемых ден...</td>\n",
       "      <td>В том числе</td>\n",
       "      <td>NaN</td>\n",
       "    </tr>\n",
       "    <tr>\n",
       "      <th>4</th>\n",
       "      <td>NaN</td>\n",
       "      <td>NaN</td>\n",
       "      <td>NaN</td>\n",
       "      <td>NaN</td>\n",
       "      <td>Налогооблагаемые денежные доходы физических л...</td>\n",
       "      <td>Социальные выплаты</td>\n",
       "    </tr>\n",
       "    <tr>\n",
       "      <th>5</th>\n",
       "      <td>NaN</td>\n",
       "      <td>NaN</td>\n",
       "      <td>NaN</td>\n",
       "      <td>NaN</td>\n",
       "      <td>NaN</td>\n",
       "      <td>NaN</td>\n",
       "    </tr>\n",
       "    <tr>\n",
       "      <th>6</th>\n",
       "      <td>NaN</td>\n",
       "      <td>Краснодарский край  - всего</td>\n",
       "      <td>3</td>\n",
       "      <td>705518362</td>\n",
       "      <td>556773010</td>\n",
       "      <td>148745352</td>\n",
       "    </tr>\n",
       "    <tr>\n",
       "      <th>7</th>\n",
       "      <td>NaN</td>\n",
       "      <td>Муниципальные районы</td>\n",
       "      <td>3600000</td>\n",
       "      <td>289603286</td>\n",
       "      <td>198137507</td>\n",
       "      <td>91465779</td>\n",
       "    </tr>\n",
       "    <tr>\n",
       "      <th>8</th>\n",
       "      <td>1</td>\n",
       "      <td>Абинский</td>\n",
       "      <td>3601000</td>\n",
       "      <td>8291272</td>\n",
       "      <td>5429724</td>\n",
       "      <td>2861548</td>\n",
       "    </tr>\n",
       "    <tr>\n",
       "      <th>9</th>\n",
       "      <td>2</td>\n",
       "      <td>Апшеронский</td>\n",
       "      <td>3605000</td>\n",
       "      <td>6661006</td>\n",
       "      <td>3784066</td>\n",
       "      <td>2876940</td>\n",
       "    </tr>\n",
       "  </tbody>\n",
       "</table>\n",
       "</div>"
      ],
      "text/plain": [
       "                                          Unnamed: 0  \\\n",
       "0                                                NaN   \n",
       "1  Объем социальных выплат населению и налогообла...   \n",
       "2                                                NaN   \n",
       "3                                                  №   \n",
       "4                                                NaN   \n",
       "5                                                NaN   \n",
       "6                                                NaN   \n",
       "7                                                NaN   \n",
       "8                                                  1   \n",
       "9                                                  2   \n",
       "\n",
       "      Размещено - 16.09.2013г. Unnamed: 2  \\\n",
       "0                          NaN        NaN   \n",
       "1                          NaN        NaN   \n",
       "2                          NaN        NaN   \n",
       "3                   Субъект РФ  Код ОКТМО   \n",
       "4                          NaN        NaN   \n",
       "5                          NaN        NaN   \n",
       "6  Краснодарский край  - всего          3   \n",
       "7        Муниципальные районы     3600000   \n",
       "8                     Абинский    3601000   \n",
       "9                  Апшеронский    3605000   \n",
       "\n",
       "                                          Unnamed: 3  \\\n",
       "0                                                NaN   \n",
       "1                                                NaN   \n",
       "2                                                NaN   \n",
       "3  Объем социальных выплат и налогооблагаемых ден...   \n",
       "4                                                NaN   \n",
       "5                                                NaN   \n",
       "6                                          705518362   \n",
       "7                                          289603286   \n",
       "8                                            8291272   \n",
       "9                                            6661006   \n",
       "\n",
       "                                          Unnamed: 4          Unnamed: 5  \n",
       "0                                                NaN                 NaN  \n",
       "1                                                NaN                 NaN  \n",
       "2                                                NaN            тыс.руб.  \n",
       "3                                        В том числе                 NaN  \n",
       "4   Налогооблагаемые денежные доходы физических л...  Социальные выплаты  \n",
       "5                                                NaN                 NaN  \n",
       "6                                          556773010           148745352  \n",
       "7                                          198137507            91465779  \n",
       "8                                            5429724             2861548  \n",
       "9                                            3784066             2876940  "
      ]
     },
     "execution_count": 11,
     "metadata": {},
     "output_type": "execute_result"
    }
   ],
   "source": [
    "income_transferts_2010_raw.head(10)"
   ]
  },
  {
   "cell_type": "code",
   "execution_count": 12,
   "id": "cc4ab32e-8f60-431c-8167-38497cdb4b25",
   "metadata": {},
   "outputs": [
    {
     "data": {
      "text/html": [
       "<div>\n",
       "<style scoped>\n",
       "    .dataframe tbody tr th:only-of-type {\n",
       "        vertical-align: middle;\n",
       "    }\n",
       "\n",
       "    .dataframe tbody tr th {\n",
       "        vertical-align: top;\n",
       "    }\n",
       "\n",
       "    .dataframe thead th {\n",
       "        text-align: right;\n",
       "    }\n",
       "</style>\n",
       "<table border=\"1\" class=\"dataframe\">\n",
       "  <thead>\n",
       "    <tr style=\"text-align: right;\">\n",
       "      <th></th>\n",
       "      <th>Unnamed: 0</th>\n",
       "      <th>Размещено - 16.09.2013г.</th>\n",
       "      <th>Unnamed: 2</th>\n",
       "      <th>Unnamed: 3</th>\n",
       "      <th>Unnamed: 4</th>\n",
       "      <th>Unnamed: 5</th>\n",
       "    </tr>\n",
       "  </thead>\n",
       "  <tbody>\n",
       "    <tr>\n",
       "      <th>2246</th>\n",
       "      <td>2</td>\n",
       "      <td>Ленинский</td>\n",
       "      <td>99610000</td>\n",
       "      <td>1669910</td>\n",
       "      <td>1208438</td>\n",
       "      <td>461472</td>\n",
       "    </tr>\n",
       "    <tr>\n",
       "      <th>2247</th>\n",
       "      <td>3</td>\n",
       "      <td>\"Облученский</td>\n",
       "      <td>99620000</td>\n",
       "      <td>3583876</td>\n",
       "      <td>2695398</td>\n",
       "      <td>888478</td>\n",
       "    </tr>\n",
       "    <tr>\n",
       "      <th>2248</th>\n",
       "      <td>4</td>\n",
       "      <td>Октябрьский</td>\n",
       "      <td>99625000</td>\n",
       "      <td>815828</td>\n",
       "      <td>505277</td>\n",
       "      <td>310551</td>\n",
       "    </tr>\n",
       "    <tr>\n",
       "      <th>2249</th>\n",
       "      <td>5</td>\n",
       "      <td>Смидовичский</td>\n",
       "      <td>99630000</td>\n",
       "      <td>2237497</td>\n",
       "      <td>1471060</td>\n",
       "      <td>766437</td>\n",
       "    </tr>\n",
       "    <tr>\n",
       "      <th>2250</th>\n",
       "      <td>NaN</td>\n",
       "      <td>Городские округа</td>\n",
       "      <td>99700000</td>\n",
       "      <td>13128970</td>\n",
       "      <td>10662169</td>\n",
       "      <td>2466801</td>\n",
       "    </tr>\n",
       "    <tr>\n",
       "      <th>2251</th>\n",
       "      <td>1</td>\n",
       "      <td>Местная администрация (исполнительно-распоряди...</td>\n",
       "      <td>99701000</td>\n",
       "      <td>13128970</td>\n",
       "      <td>10662169</td>\n",
       "      <td>2466801</td>\n",
       "    </tr>\n",
       "    <tr>\n",
       "      <th>2252</th>\n",
       "      <td>NaN</td>\n",
       "      <td>NaN</td>\n",
       "      <td>NaN</td>\n",
       "      <td>NaN</td>\n",
       "      <td>NaN</td>\n",
       "      <td>NaN</td>\n",
       "    </tr>\n",
       "    <tr>\n",
       "      <th>2253</th>\n",
       "      <td>Примечание:</td>\n",
       "      <td>NaN</td>\n",
       "      <td>NaN</td>\n",
       "      <td>NaN</td>\n",
       "      <td>NaN</td>\n",
       "      <td>NaN</td>\n",
       "    </tr>\n",
       "    <tr>\n",
       "      <th>2254</th>\n",
       "      <td>NaN</td>\n",
       "      <td>NaN</td>\n",
       "      <td>NaN</td>\n",
       "      <td>NaN</td>\n",
       "      <td>NaN</td>\n",
       "      <td>NaN</td>\n",
       "    </tr>\n",
       "    <tr>\n",
       "      <th>2255</th>\n",
       "      <td>Отсутствие информации по другим субъектам Росс...</td>\n",
       "      <td>NaN</td>\n",
       "      <td>NaN</td>\n",
       "      <td>NaN</td>\n",
       "      <td>NaN</td>\n",
       "      <td>NaN</td>\n",
       "    </tr>\n",
       "  </tbody>\n",
       "</table>\n",
       "</div>"
      ],
      "text/plain": [
       "                                             Unnamed: 0  \\\n",
       "2246                                                  2   \n",
       "2247                                                  3   \n",
       "2248                                                  4   \n",
       "2249                                                  5   \n",
       "2250                                                NaN   \n",
       "2251                                                  1   \n",
       "2252                                                NaN   \n",
       "2253                                       Примечание:    \n",
       "2254                                                NaN   \n",
       "2255  Отсутствие информации по другим субъектам Росс...   \n",
       "\n",
       "                               Размещено - 16.09.2013г. Unnamed: 2 Unnamed: 3  \\\n",
       "2246                                          Ленинский   99610000    1669910   \n",
       "2247                                      \"Облученский    99620000    3583876   \n",
       "2248                                        Октябрьский   99625000     815828   \n",
       "2249                                       Смидовичский   99630000    2237497   \n",
       "2250                                  Городские округа    99700000   13128970   \n",
       "2251  Местная администрация (исполнительно-распоряди...   99701000   13128970   \n",
       "2252                                                NaN        NaN        NaN   \n",
       "2253                                                NaN        NaN        NaN   \n",
       "2254                                                NaN        NaN        NaN   \n",
       "2255                                                NaN        NaN        NaN   \n",
       "\n",
       "     Unnamed: 4 Unnamed: 5  \n",
       "2246    1208438     461472  \n",
       "2247    2695398     888478  \n",
       "2248     505277     310551  \n",
       "2249    1471060     766437  \n",
       "2250   10662169    2466801  \n",
       "2251   10662169    2466801  \n",
       "2252        NaN        NaN  \n",
       "2253        NaN        NaN  \n",
       "2254        NaN        NaN  \n",
       "2255        NaN        NaN  "
      ]
     },
     "execution_count": 12,
     "metadata": {},
     "output_type": "execute_result"
    }
   ],
   "source": [
    "income_transferts_2010_raw.tail(10)"
   ]
  },
  {
   "cell_type": "code",
   "execution_count": 13,
   "id": "54230744-728d-429e-9e1b-9f37badb03fb",
   "metadata": {},
   "outputs": [],
   "source": [
    "income_transferts_2010 = income_transferts_2010_raw.copy()"
   ]
  },
  {
   "cell_type": "markdown",
   "id": "db88edf6-0f60-4a28-9db1-c00f64e6b7d7",
   "metadata": {},
   "source": [
    "##### Rename columns and drop useless"
   ]
  },
  {
   "cell_type": "code",
   "execution_count": 14,
   "id": "7a4a6643-f10d-4e56-8ddd-bdbda0c34166",
   "metadata": {},
   "outputs": [],
   "source": [
    "income_transferts_2010_columns = [\n",
    "    '-', 'index1', 'ОКТМО', 'Суммарные выплаты', 'Доходы', 'Социальные выплаты'\n",
    "]"
   ]
  },
  {
   "cell_type": "code",
   "execution_count": 15,
   "id": "9132520b-bc9e-4b6b-99de-a9089d2d93d3",
   "metadata": {},
   "outputs": [],
   "source": [
    "income_transferts_2010.columns = income_transferts_2010_columns"
   ]
  },
  {
   "cell_type": "code",
   "execution_count": 16,
   "id": "e389ae4a-03a1-4102-abab-d1e16949ec22",
   "metadata": {},
   "outputs": [],
   "source": [
    "# drop useless columns with name '-'\n",
    "income_transferts_2010 = income_transferts_2010.drop('-', axis=1)"
   ]
  },
  {
   "cell_type": "markdown",
   "id": "e3ae1831-d45d-4764-8e6d-bef6c154fbda",
   "metadata": {},
   "source": [
    "##### Cut rows and drop NaNs"
   ]
  },
  {
   "cell_type": "code",
   "execution_count": 17,
   "id": "7765e8c7-2c35-4773-a7b9-63d767a4de9e",
   "metadata": {},
   "outputs": [],
   "source": [
    "# cut rows\n",
    "income_transferts_2010 = transform_cut_rows(income_transferts_2010, 6, 4)"
   ]
  },
  {
   "cell_type": "code",
   "execution_count": 18,
   "id": "78f8d5bc-b601-473d-bcd0-1a71747995d0",
   "metadata": {},
   "outputs": [],
   "source": [
    "# drop rows with NaNs in 'index0' column\n",
    "income_transferts_2010 = \\\n",
    "    income_transferts_2010[income_transferts_2010['index1'].notna()]"
   ]
  },
  {
   "cell_type": "markdown",
   "id": "6f02c3f2-6aa5-41e6-b62e-88471bd77c0f",
   "metadata": {},
   "source": [
    "##### Normalize OKTMO"
   ]
  },
  {
   "cell_type": "code",
   "execution_count": 19,
   "id": "8ef81f22-b4e2-42db-bc39-b9c4d1b66f13",
   "metadata": {},
   "outputs": [],
   "source": [
    "# make OKTMO column values str\n",
    "income_transferts_2010['ОКТМО'] = income_transferts_2010['ОКТМО'].astype(str)"
   ]
  },
  {
   "cell_type": "code",
   "execution_count": 20,
   "id": "b07e9980-eeef-419e-9d5c-8be4173db50a",
   "metadata": {},
   "outputs": [],
   "source": [
    "# normalize oktmo - remove spaces and other dirt\n",
    "income_transferts_2010['ОКТМО'] = \\\n",
    "    income_transferts_2010['ОКТМО'].apply(lambda x: normalize_oktmo(x))"
   ]
  },
  {
   "cell_type": "markdown",
   "id": "4b8bee3e-4789-449d-acd4-a06d44464c28",
   "metadata": {},
   "source": [
    "##### Level0 for Multiindex"
   ]
  },
  {
   "cell_type": "code",
   "execution_count": 21,
   "id": "b39046cb-2357-4e05-a9e3-f66611fab4c2",
   "metadata": {},
   "outputs": [],
   "source": [
    "# create index level0 column\n",
    "income_transferts_2010['index0'] = np.NaN"
   ]
  },
  {
   "cell_type": "code",
   "execution_count": 22,
   "id": "f7b960fa-8339-4423-ba41-1c9b8515567b",
   "metadata": {},
   "outputs": [],
   "source": [
    "# fill in by region with OKTMO in OKTMO column\n",
    "income_transferts_2010 = (income_transferts_2010\n",
    "                          .assign(index0=income_transferts_2010['ОКТМО']\n",
    "                                  .map(region_oktmo_norm_dict_sorted)\n",
    "                                  .fillna(income_transferts_2010['index0'])))"
   ]
  },
  {
   "cell_type": "code",
   "execution_count": 23,
   "id": "5e1d572d-00af-4cc6-bf54-21646d38055e",
   "metadata": {},
   "outputs": [],
   "source": [
    "# 1) 'Архангельская область' and \n",
    "# 'Ненецкий автономный округ (Архангельская область)' have the same OKTMO == 11\n",
    "# 2) 'Ненецкий автономный округ (Архангельская область)' index allways greater than index of \n",
    "# 'Архангельская область'\n",
    "# knowing this, we replace duplicate 'Архангельская область' by 'Ненецкий автономный округ (Архангельская область)'\n",
    "income_transferts_2010 = normalize_nenec(income_transferts_2010, 'index0')"
   ]
  },
  {
   "cell_type": "code",
   "execution_count": 24,
   "id": "65e7408c-d493-4759-9b81-897131776d9b",
   "metadata": {},
   "outputs": [],
   "source": [
    "# the same correction for 'Тюменская область'\n",
    "income_transferts_2010 = normalize_khantymanci(income_transferts_2010, 'index0')"
   ]
  },
  {
   "cell_type": "code",
   "execution_count": 25,
   "id": "7c40370e-5e2f-44d2-9570-fdade473504e",
   "metadata": {},
   "outputs": [],
   "source": [
    "# fill '-' values in index0 column\n",
    "income_transferts_2010 = transform_fill_values_by_previous(\n",
    "    income_transferts_2010, kind='column', column_name='index0')"
   ]
  },
  {
   "cell_type": "markdown",
   "id": "e77c5f70-5bba-47eb-8872-8dc354155dd7",
   "metadata": {},
   "source": [
    "##### Level1 for Multiindex"
   ]
  },
  {
   "cell_type": "code",
   "execution_count": 26,
   "id": "940dcab2-d82a-4656-b743-60aac61f32a1",
   "metadata": {},
   "outputs": [],
   "source": [
    "# change region name in 'index1' column to 'Всего'\n",
    "income_transferts_2010['index1'] = income_transferts_2010.apply(\n",
    "    lambda x: transferts_various(x['ОКТМО'], x['index1']), axis=1)"
   ]
  },
  {
   "cell_type": "code",
   "execution_count": 27,
   "id": "ecaca50d-44a6-4ad7-b5f2-a1613e8511f6",
   "metadata": {},
   "outputs": [],
   "source": [
    "# normalize 'Муниципальные районы' and 'Гордские округа' - remove spaces and other dirt\n",
    "income_transferts_2010['index1'] = \\\n",
    "    income_transferts_2010['index1'].apply(lambda x: normalize_municipal_town(x))"
   ]
  },
  {
   "cell_type": "markdown",
   "id": "61b5dd0a-e9c0-4572-a0f7-0ea46709b23c",
   "metadata": {},
   "source": [
    "##### Count Regions"
   ]
  },
  {
   "cell_type": "code",
   "execution_count": 28,
   "id": "f312349e-2404-4961-90cf-863b905b96f1",
   "metadata": {},
   "outputs": [
    {
     "data": {
      "text/plain": [
       "66"
      ]
     },
     "execution_count": 28,
     "metadata": {},
     "output_type": "execute_result"
    }
   ],
   "source": [
    "# count regions\n",
    "regions_count2010 = len(set(income_transferts_2010['index0'].values))\n",
    "regions_count2010"
   ]
  },
  {
   "cell_type": "code",
   "execution_count": 29,
   "id": "91f8b2e0-5a94-45a1-97de-31358983024d",
   "metadata": {},
   "outputs": [],
   "source": [
    "# create regions list and sort it\n",
    "regions_list2010 = list(set(income_transferts_2010['index0']))\n",
    "regions_list2010.sort()"
   ]
  },
  {
   "cell_type": "markdown",
   "id": "de58e5e5-10ee-4c63-acb0-d26b6d65d67f",
   "metadata": {},
   "source": [
    "##### Create Multiindex"
   ]
  },
  {
   "cell_type": "code",
   "execution_count": 30,
   "id": "4a309b3e-d949-42e9-8244-3211d739755e",
   "metadata": {},
   "outputs": [],
   "source": [
    "# columns to multiindex\n",
    "income_transferts_2010 = transform_make_index_from_columns(\n",
    "    income_transferts_2010, ['index0', 'index1'])"
   ]
  },
  {
   "cell_type": "code",
   "execution_count": 31,
   "id": "abb04fe7-c96e-4c99-88da-973d1cdf7798",
   "metadata": {},
   "outputs": [],
   "source": [
    "# drop columns, that became multiindexes\n",
    "income_transferts_2010 = income_transferts_2010.drop(['index0', 'index1'], axis=1)"
   ]
  },
  {
   "cell_type": "markdown",
   "id": "ea116533-d436-4725-a7a6-7f93d01bc665",
   "metadata": {},
   "source": [
    "##### Round (one symbol)"
   ]
  },
  {
   "cell_type": "code",
   "execution_count": 32,
   "id": "611dd1dc-2467-47f0-8cb0-782905da53a2",
   "metadata": {},
   "outputs": [],
   "source": [
    "# round\n",
    "for column in income_transferts_2010.columns:\n",
    "    try:\n",
    "        income_transferts_2010[column] = \\\n",
    "            income_transferts_2010[column].astype(float).round(1)\n",
    "    except ValueError:\n",
    "        pass"
   ]
  },
  {
   "cell_type": "markdown",
   "id": "b4a52a28-4cb5-4ea6-99d9-161b924fa0ca",
   "metadata": {},
   "source": [
    "##### <font color='#2A5899'>2010 Check for Discrepancy</font>"
   ]
  },
  {
   "cell_type": "code",
   "execution_count": 33,
   "id": "9532c984-f7f9-44e0-905c-0a1bd81ac3ad",
   "metadata": {},
   "outputs": [
    {
     "data": {
      "text/plain": [
       "False"
      ]
     },
     "execution_count": 33,
     "metadata": {},
     "output_type": "execute_result"
    }
   ],
   "source": [
    "# OKTMO check for NaN\n",
    "income_transferts_2010[income_transferts_2010['ОКТМО'].isna()].any().any()"
   ]
  },
  {
   "cell_type": "code",
   "execution_count": 34,
   "id": "a59789ca-1a04-45f6-843d-b05067ab9a03",
   "metadata": {},
   "outputs": [
    {
     "data": {
      "text/plain": [
       "False"
      ]
     },
     "execution_count": 34,
     "metadata": {},
     "output_type": "execute_result"
    }
   ],
   "source": [
    "# all data check for NaN\n",
    "income_transferts_2010[income_transferts_2010.isna().any(axis=1)].any().any()"
   ]
  },
  {
   "cell_type": "code",
   "execution_count": 35,
   "id": "51269ab4-1a8b-4e4d-b482-90f0ef57073d",
   "metadata": {},
   "outputs": [
    {
     "data": {
      "text/html": [
       "<div>\n",
       "<style scoped>\n",
       "    .dataframe tbody tr th:only-of-type {\n",
       "        vertical-align: middle;\n",
       "    }\n",
       "\n",
       "    .dataframe tbody tr th {\n",
       "        vertical-align: top;\n",
       "    }\n",
       "\n",
       "    .dataframe thead th {\n",
       "        text-align: right;\n",
       "    }\n",
       "</style>\n",
       "<table border=\"1\" class=\"dataframe\">\n",
       "  <thead>\n",
       "    <tr style=\"text-align: right;\">\n",
       "      <th></th>\n",
       "      <th></th>\n",
       "      <th>ОКТМО</th>\n",
       "      <th>Суммарные выплаты</th>\n",
       "      <th>Доходы</th>\n",
       "      <th>Социальные выплаты</th>\n",
       "    </tr>\n",
       "  </thead>\n",
       "  <tbody>\n",
       "    <tr>\n",
       "      <th rowspan=\"3\" valign=\"top\">Приморский край</th>\n",
       "      <th>Дальнереченскийрайон</th>\n",
       "      <td>05 610 000</td>\n",
       "      <td>0.0</td>\n",
       "      <td>0.0</td>\n",
       "      <td>0.0</td>\n",
       "    </tr>\n",
       "    <tr>\n",
       "      <th>Спасскийрайон</th>\n",
       "      <td>05 637 000</td>\n",
       "      <td>0.0</td>\n",
       "      <td>0.0</td>\n",
       "      <td>0.0</td>\n",
       "    </tr>\n",
       "    <tr>\n",
       "      <th>Шкотовски йрайон</th>\n",
       "      <td>05 657 000</td>\n",
       "      <td>0.0</td>\n",
       "      <td>0.0</td>\n",
       "      <td>0.0</td>\n",
       "    </tr>\n",
       "    <tr>\n",
       "      <th>Иркутская область</th>\n",
       "      <th>г.Свирск</th>\n",
       "      <td>25 746 000</td>\n",
       "      <td>542373.2</td>\n",
       "      <td>0.0</td>\n",
       "      <td>542373.2</td>\n",
       "    </tr>\n",
       "  </tbody>\n",
       "</table>\n",
       "</div>"
      ],
      "text/plain": [
       "                                             ОКТМО  Суммарные выплаты  Доходы  \\\n",
       "Приморский край   Дальнереченскийрайон  05 610 000                0.0     0.0   \n",
       "                  Спасскийрайон         05 637 000                0.0     0.0   \n",
       "                  Шкотовски йрайон      05 657 000                0.0     0.0   \n",
       "Иркутская область г.Свирск              25 746 000           542373.2     0.0   \n",
       "\n",
       "                                        Социальные выплаты  \n",
       "Приморский край   Дальнереченскийрайон                 0.0  \n",
       "                  Спасскийрайон                        0.0  \n",
       "                  Шкотовски йрайон                     0.0  \n",
       "Иркутская область г.Свирск                        542373.2  "
      ]
     },
     "execution_count": 35,
     "metadata": {},
     "output_type": "execute_result"
    }
   ],
   "source": [
    "income_transferts_2010[income_transferts_2010['Доходы'] == 0]"
   ]
  },
  {
   "cell_type": "code",
   "execution_count": 36,
   "id": "f176d768-d3a7-4291-ad1a-d853a2cfc369",
   "metadata": {},
   "outputs": [
    {
     "data": {
      "text/html": [
       "<div>\n",
       "<style scoped>\n",
       "    .dataframe tbody tr th:only-of-type {\n",
       "        vertical-align: middle;\n",
       "    }\n",
       "\n",
       "    .dataframe tbody tr th {\n",
       "        vertical-align: top;\n",
       "    }\n",
       "\n",
       "    .dataframe thead th {\n",
       "        text-align: right;\n",
       "    }\n",
       "</style>\n",
       "<table border=\"1\" class=\"dataframe\">\n",
       "  <thead>\n",
       "    <tr style=\"text-align: right;\">\n",
       "      <th></th>\n",
       "      <th></th>\n",
       "      <th>ОКТМО</th>\n",
       "      <th>Суммарные выплаты</th>\n",
       "      <th>Доходы</th>\n",
       "      <th>Социальные выплаты</th>\n",
       "    </tr>\n",
       "  </thead>\n",
       "  <tbody>\n",
       "    <tr>\n",
       "      <th rowspan=\"3\" valign=\"top\">Приморский край</th>\n",
       "      <th>Дальнереченскийрайон</th>\n",
       "      <td>05 610 000</td>\n",
       "      <td>0.0</td>\n",
       "      <td>0.0</td>\n",
       "      <td>0.0</td>\n",
       "    </tr>\n",
       "    <tr>\n",
       "      <th>Спасскийрайон</th>\n",
       "      <td>05 637 000</td>\n",
       "      <td>0.0</td>\n",
       "      <td>0.0</td>\n",
       "      <td>0.0</td>\n",
       "    </tr>\n",
       "    <tr>\n",
       "      <th>Шкотовски йрайон</th>\n",
       "      <td>05 657 000</td>\n",
       "      <td>0.0</td>\n",
       "      <td>0.0</td>\n",
       "      <td>0.0</td>\n",
       "    </tr>\n",
       "    <tr>\n",
       "      <th>Архангельская область</th>\n",
       "      <th>НоваяЗемля</th>\n",
       "      <td>11 712 000</td>\n",
       "      <td>1247155.0</td>\n",
       "      <td>1247155.0</td>\n",
       "      <td>0.0</td>\n",
       "    </tr>\n",
       "    <tr>\n",
       "      <th>Пензенская область</th>\n",
       "      <th>Кондольский</th>\n",
       "      <td>56 636 000</td>\n",
       "      <td>268876.7</td>\n",
       "      <td>268876.7</td>\n",
       "      <td>0.0</td>\n",
       "    </tr>\n",
       "    <tr>\n",
       "      <th>Республика Саха (Якутия)</th>\n",
       "      <th>Жатай</th>\n",
       "      <td>98 702 000</td>\n",
       "      <td>731782.1</td>\n",
       "      <td>731782.1</td>\n",
       "      <td>0.0</td>\n",
       "    </tr>\n",
       "  </tbody>\n",
       "</table>\n",
       "</div>"
      ],
      "text/plain": [
       "                                                    ОКТМО  Суммарные выплаты  \\\n",
       "Приморский край          Дальнереченскийрайон  05 610 000                0.0   \n",
       "                         Спасскийрайон         05 637 000                0.0   \n",
       "                         Шкотовски йрайон      05 657 000                0.0   \n",
       "Архангельская область    НоваяЗемля            11 712 000          1247155.0   \n",
       "Пензенская область       Кондольский           56 636 000           268876.7   \n",
       "Республика Саха (Якутия) Жатай                 98 702 000           731782.1   \n",
       "\n",
       "                                                  Доходы  Социальные выплаты  \n",
       "Приморский край          Дальнереченскийрайон        0.0                 0.0  \n",
       "                         Спасскийрайон               0.0                 0.0  \n",
       "                         Шкотовски йрайон            0.0                 0.0  \n",
       "Архангельская область    НоваяЗемля            1247155.0                 0.0  \n",
       "Пензенская область       Кондольский            268876.7                 0.0  \n",
       "Республика Саха (Якутия) Жатай                  731782.1                 0.0  "
      ]
     },
     "execution_count": 36,
     "metadata": {},
     "output_type": "execute_result"
    }
   ],
   "source": [
    "income_transferts_2010[income_transferts_2010['Социальные выплаты'] == 0]"
   ]
  },
  {
   "cell_type": "code",
   "execution_count": 37,
   "id": "f9d0f20a-b0e4-447d-855e-91fbc80bbc92",
   "metadata": {},
   "outputs": [
    {
     "data": {
      "text/html": [
       "<div>\n",
       "<style scoped>\n",
       "    .dataframe tbody tr th:only-of-type {\n",
       "        vertical-align: middle;\n",
       "    }\n",
       "\n",
       "    .dataframe tbody tr th {\n",
       "        vertical-align: top;\n",
       "    }\n",
       "\n",
       "    .dataframe thead th {\n",
       "        text-align: right;\n",
       "    }\n",
       "</style>\n",
       "<table border=\"1\" class=\"dataframe\">\n",
       "  <thead>\n",
       "    <tr style=\"text-align: right;\">\n",
       "      <th></th>\n",
       "      <th></th>\n",
       "      <th>ОКТМО</th>\n",
       "      <th>Суммарные выплаты</th>\n",
       "      <th>Доходы</th>\n",
       "      <th>Социальные выплаты</th>\n",
       "    </tr>\n",
       "  </thead>\n",
       "  <tbody>\n",
       "    <tr>\n",
       "      <th rowspan=\"3\" valign=\"top\">Приморский край</th>\n",
       "      <th>Дальнереченскийрайон</th>\n",
       "      <td>05 610 000</td>\n",
       "      <td>0.0</td>\n",
       "      <td>0.0</td>\n",
       "      <td>0.0</td>\n",
       "    </tr>\n",
       "    <tr>\n",
       "      <th>Спасскийрайон</th>\n",
       "      <td>05 637 000</td>\n",
       "      <td>0.0</td>\n",
       "      <td>0.0</td>\n",
       "      <td>0.0</td>\n",
       "    </tr>\n",
       "    <tr>\n",
       "      <th>Шкотовски йрайон</th>\n",
       "      <td>05 657 000</td>\n",
       "      <td>0.0</td>\n",
       "      <td>0.0</td>\n",
       "      <td>0.0</td>\n",
       "    </tr>\n",
       "  </tbody>\n",
       "</table>\n",
       "</div>"
      ],
      "text/plain": [
       "                                           ОКТМО  Суммарные выплаты  Доходы  \\\n",
       "Приморский край Дальнереченскийрайон  05 610 000                0.0     0.0   \n",
       "                Спасскийрайон         05 637 000                0.0     0.0   \n",
       "                Шкотовски йрайон      05 657 000                0.0     0.0   \n",
       "\n",
       "                                      Социальные выплаты  \n",
       "Приморский край Дальнереченскийрайон                 0.0  \n",
       "                Спасскийрайон                        0.0  \n",
       "                Шкотовски йрайон                     0.0  "
      ]
     },
     "execution_count": 37,
     "metadata": {},
     "output_type": "execute_result"
    }
   ],
   "source": [
    "income_transferts_2010[income_transferts_2010['Суммарные выплаты'] == 0]"
   ]
  },
  {
   "cell_type": "code",
   "execution_count": 38,
   "id": "9009c523-7c3a-46b0-9dd9-7597103484f5",
   "metadata": {},
   "outputs": [
    {
     "data": {
      "text/html": [
       "<div>\n",
       "<style scoped>\n",
       "    .dataframe tbody tr th:only-of-type {\n",
       "        vertical-align: middle;\n",
       "    }\n",
       "\n",
       "    .dataframe tbody tr th {\n",
       "        vertical-align: top;\n",
       "    }\n",
       "\n",
       "    .dataframe thead th {\n",
       "        text-align: right;\n",
       "    }\n",
       "</style>\n",
       "<table border=\"1\" class=\"dataframe\">\n",
       "  <thead>\n",
       "    <tr style=\"text-align: right;\">\n",
       "      <th></th>\n",
       "      <th></th>\n",
       "      <th>ОКТМО</th>\n",
       "      <th>Суммарные выплаты</th>\n",
       "      <th>Доходы</th>\n",
       "      <th>Социальные выплаты</th>\n",
       "    </tr>\n",
       "  </thead>\n",
       "  <tbody>\n",
       "  </tbody>\n",
       "</table>\n",
       "</div>"
      ],
      "text/plain": [
       "Empty DataFrame\n",
       "Columns: [ОКТМО, Суммарные выплаты, Доходы, Социальные выплаты]\n",
       "Index: []"
      ]
     },
     "execution_count": 38,
     "metadata": {},
     "output_type": "execute_result"
    }
   ],
   "source": [
    "income_transferts_2010[income_transferts_2010['ОКТМО'] == '71']"
   ]
  },
  {
   "cell_type": "code",
   "execution_count": 39,
   "id": "4e380210-e54a-4572-aba2-b7cd4a635c4e",
   "metadata": {},
   "outputs": [
    {
     "data": {
      "text/html": [
       "<div>\n",
       "<style scoped>\n",
       "    .dataframe tbody tr th:only-of-type {\n",
       "        vertical-align: middle;\n",
       "    }\n",
       "\n",
       "    .dataframe tbody tr th {\n",
       "        vertical-align: top;\n",
       "    }\n",
       "\n",
       "    .dataframe thead th {\n",
       "        text-align: right;\n",
       "    }\n",
       "</style>\n",
       "<table border=\"1\" class=\"dataframe\">\n",
       "  <thead>\n",
       "    <tr style=\"text-align: right;\">\n",
       "      <th></th>\n",
       "      <th></th>\n",
       "      <th>ОКТМО</th>\n",
       "      <th>Суммарные выплаты</th>\n",
       "      <th>Доходы</th>\n",
       "      <th>Социальные выплаты</th>\n",
       "    </tr>\n",
       "  </thead>\n",
       "  <tbody>\n",
       "    <tr>\n",
       "      <th>Архангельская область</th>\n",
       "      <th>Всего</th>\n",
       "      <td>11</td>\n",
       "      <td>209808384.0</td>\n",
       "      <td>160151998.0</td>\n",
       "      <td>49656386.0</td>\n",
       "    </tr>\n",
       "    <tr>\n",
       "      <th>Ненецкий автономный округ (Архангельская область)</th>\n",
       "      <th>Всего</th>\n",
       "      <td>11</td>\n",
       "      <td>21400174.0</td>\n",
       "      <td>18694688.0</td>\n",
       "      <td>2705486.0</td>\n",
       "    </tr>\n",
       "  </tbody>\n",
       "</table>\n",
       "</div>"
      ],
      "text/plain": [
       "                                                        ОКТМО  \\\n",
       "Архангельская область                             Всего    11   \n",
       "Ненецкий автономный округ (Архангельская область) Всего    11   \n",
       "\n",
       "                                                         Суммарные выплаты  \\\n",
       "Архангельская область                             Всего        209808384.0   \n",
       "Ненецкий автономный округ (Архангельская область) Всего         21400174.0   \n",
       "\n",
       "                                                              Доходы  \\\n",
       "Архангельская область                             Всего  160151998.0   \n",
       "Ненецкий автономный округ (Архангельская область) Всего   18694688.0   \n",
       "\n",
       "                                                         Социальные выплаты  \n",
       "Архангельская область                             Всего          49656386.0  \n",
       "Ненецкий автономный округ (Архангельская область) Всего           2705486.0  "
      ]
     },
     "execution_count": 39,
     "metadata": {},
     "output_type": "execute_result"
    }
   ],
   "source": [
    "income_transferts_2010[income_transferts_2010['ОКТМО'] == '11']"
   ]
  },
  {
   "cell_type": "code",
   "execution_count": 40,
   "id": "77118356-5e6f-4282-a4f4-dd3c928fed92",
   "metadata": {},
   "outputs": [
    {
     "data": {
      "text/plain": [
       "[]"
      ]
     },
     "execution_count": 40,
     "metadata": {},
     "output_type": "execute_result"
    }
   ],
   "source": [
    "# check if there are duplications in municipal, town and others OKTMO\n",
    "check_oktmo_2010_dupl_list = check_oktmo_duplication(\n",
    "    data=income_transferts_2010, \n",
    "    column_check='ОКТМО',\n",
    "    normalize_oktmo_list=municipal_town_dict)\n",
    "\n",
    "check_oktmo_2010_dupl_list"
   ]
  },
  {
   "cell_type": "code",
   "execution_count": 41,
   "id": "1dbcc24b-ce92-4e0b-88f2-96fe908fef3d",
   "metadata": {},
   "outputs": [
    {
     "data": {
      "text/html": [
       "<div>\n",
       "<style scoped>\n",
       "    .dataframe tbody tr th:only-of-type {\n",
       "        vertical-align: middle;\n",
       "    }\n",
       "\n",
       "    .dataframe tbody tr th {\n",
       "        vertical-align: top;\n",
       "    }\n",
       "\n",
       "    .dataframe thead th {\n",
       "        text-align: right;\n",
       "    }\n",
       "</style>\n",
       "<table border=\"1\" class=\"dataframe\">\n",
       "  <thead>\n",
       "    <tr style=\"text-align: right;\">\n",
       "      <th></th>\n",
       "      <th></th>\n",
       "      <th>ОКТМО</th>\n",
       "      <th>Суммарные выплаты</th>\n",
       "      <th>Доходы</th>\n",
       "      <th>Социальные выплаты</th>\n",
       "    </tr>\n",
       "  </thead>\n",
       "  <tbody>\n",
       "    <tr>\n",
       "      <th rowspan=\"2\" valign=\"top\">Московская область</th>\n",
       "      <th>Муниципальные районы</th>\n",
       "      <td>46 600 000</td>\n",
       "      <td>707497716.5</td>\n",
       "      <td>528539493.0</td>\n",
       "      <td>178958223.5</td>\n",
       "    </tr>\n",
       "    <tr>\n",
       "      <th>Городские округа</th>\n",
       "      <td>46 700 000</td>\n",
       "      <td>430931266.0</td>\n",
       "      <td>378263156.0</td>\n",
       "      <td>52668110.0</td>\n",
       "    </tr>\n",
       "  </tbody>\n",
       "</table>\n",
       "</div>"
      ],
      "text/plain": [
       "                                              ОКТМО  Суммарные выплаты  \\\n",
       "Московская область Муниципальные районы  46 600 000        707497716.5   \n",
       "                   Городские округа      46 700 000        430931266.0   \n",
       "\n",
       "                                              Доходы  Социальные выплаты  \n",
       "Московская область Муниципальные районы  528539493.0         178958223.5  \n",
       "                   Городские округа      378263156.0          52668110.0  "
      ]
     },
     "execution_count": 41,
     "metadata": {},
     "output_type": "execute_result"
    }
   ],
   "source": [
    "income_transferts_2010.loc[income_transferts_2010['ОКТМО'].isin(municipal_town_dict['Московская область'])]"
   ]
  },
  {
   "cell_type": "markdown",
   "id": "e61c6dd7-5e94-4b08-9052-01654c69c9fb",
   "metadata": {},
   "source": [
    "##### <font color='#2A5899'>2010 Final Result</font>"
   ]
  },
  {
   "cell_type": "code",
   "execution_count": 42,
   "id": "4b97caec-2b74-4a63-b91a-da4bb5a76d15",
   "metadata": {},
   "outputs": [
    {
     "data": {
      "text/html": [
       "<div>\n",
       "<style scoped>\n",
       "    .dataframe tbody tr th:only-of-type {\n",
       "        vertical-align: middle;\n",
       "    }\n",
       "\n",
       "    .dataframe tbody tr th {\n",
       "        vertical-align: top;\n",
       "    }\n",
       "\n",
       "    .dataframe thead th {\n",
       "        text-align: right;\n",
       "    }\n",
       "</style>\n",
       "<table border=\"1\" class=\"dataframe\">\n",
       "  <thead>\n",
       "    <tr style=\"text-align: right;\">\n",
       "      <th></th>\n",
       "      <th></th>\n",
       "      <th>ОКТМО</th>\n",
       "      <th>Суммарные выплаты</th>\n",
       "      <th>Доходы</th>\n",
       "      <th>Социальные выплаты</th>\n",
       "    </tr>\n",
       "  </thead>\n",
       "  <tbody>\n",
       "    <tr>\n",
       "      <th rowspan=\"5\" valign=\"top\">Краснодарский край</th>\n",
       "      <th>Всего</th>\n",
       "      <td>03</td>\n",
       "      <td>705518362.0</td>\n",
       "      <td>556773010.0</td>\n",
       "      <td>148745352.0</td>\n",
       "    </tr>\n",
       "    <tr>\n",
       "      <th>Муниципальные районы</th>\n",
       "      <td>03 600 000</td>\n",
       "      <td>289603286.0</td>\n",
       "      <td>198137507.0</td>\n",
       "      <td>91465779.0</td>\n",
       "    </tr>\n",
       "    <tr>\n",
       "      <th>Абинский</th>\n",
       "      <td>03 601 000</td>\n",
       "      <td>8291272.0</td>\n",
       "      <td>5429724.0</td>\n",
       "      <td>2861548.0</td>\n",
       "    </tr>\n",
       "    <tr>\n",
       "      <th>Апшеронский</th>\n",
       "      <td>03 605 000</td>\n",
       "      <td>6661006.0</td>\n",
       "      <td>3784066.0</td>\n",
       "      <td>2876940.0</td>\n",
       "    </tr>\n",
       "    <tr>\n",
       "      <th>Белоглинский</th>\n",
       "      <td>03 607 000</td>\n",
       "      <td>2875836.0</td>\n",
       "      <td>1807010.0</td>\n",
       "      <td>1068826.0</td>\n",
       "    </tr>\n",
       "  </tbody>\n",
       "</table>\n",
       "</div>"
      ],
      "text/plain": [
       "                                              ОКТМО  Суммарные выплаты  \\\n",
       "Краснодарский край Всего                         03        705518362.0   \n",
       "                   Муниципальные районы  03 600 000        289603286.0   \n",
       "                   Абинский              03 601 000          8291272.0   \n",
       "                   Апшеронский           03 605 000          6661006.0   \n",
       "                   Белоглинский          03 607 000          2875836.0   \n",
       "\n",
       "                                              Доходы  Социальные выплаты  \n",
       "Краснодарский край Всего                 556773010.0         148745352.0  \n",
       "                   Муниципальные районы  198137507.0          91465779.0  \n",
       "                   Абинский                5429724.0           2861548.0  \n",
       "                   Апшеронский             3784066.0           2876940.0  \n",
       "                   Белоглинский            1807010.0           1068826.0  "
      ]
     },
     "execution_count": 42,
     "metadata": {},
     "output_type": "execute_result"
    }
   ],
   "source": [
    "income_transferts_2010.head()"
   ]
  },
  {
   "cell_type": "code",
   "execution_count": 43,
   "id": "884e2d5c-f8c1-4bed-8e14-712491fdd07d",
   "metadata": {},
   "outputs": [
    {
     "data": {
      "text/html": [
       "<div>\n",
       "<style scoped>\n",
       "    .dataframe tbody tr th:only-of-type {\n",
       "        vertical-align: middle;\n",
       "    }\n",
       "\n",
       "    .dataframe tbody tr th {\n",
       "        vertical-align: top;\n",
       "    }\n",
       "\n",
       "    .dataframe thead th {\n",
       "        text-align: right;\n",
       "    }\n",
       "</style>\n",
       "<table border=\"1\" class=\"dataframe\">\n",
       "  <thead>\n",
       "    <tr style=\"text-align: right;\">\n",
       "      <th></th>\n",
       "      <th></th>\n",
       "      <th>ОКТМО</th>\n",
       "      <th>Суммарные выплаты</th>\n",
       "      <th>Доходы</th>\n",
       "      <th>Социальные выплаты</th>\n",
       "    </tr>\n",
       "  </thead>\n",
       "  <tbody>\n",
       "    <tr>\n",
       "      <th rowspan=\"3\" valign=\"top\">Самарская область</th>\n",
       "      <th>Всего</th>\n",
       "      <td>36</td>\n",
       "      <td>580136403.0</td>\n",
       "      <td>476485307.0</td>\n",
       "      <td>103651096.0</td>\n",
       "    </tr>\n",
       "    <tr>\n",
       "      <th>Муниципальные районы</th>\n",
       "      <td>36 600 000</td>\n",
       "      <td>63504655.0</td>\n",
       "      <td>41440288.0</td>\n",
       "      <td>22064367.0</td>\n",
       "    </tr>\n",
       "    <tr>\n",
       "      <th>Городские округа</th>\n",
       "      <td>36 700 000</td>\n",
       "      <td>516631748.0</td>\n",
       "      <td>435045019.0</td>\n",
       "      <td>81586729.0</td>\n",
       "    </tr>\n",
       "    <tr>\n",
       "      <th rowspan=\"3\" valign=\"top\">Московская область</th>\n",
       "      <th>Всего</th>\n",
       "      <td>46</td>\n",
       "      <td>1138428982.4</td>\n",
       "      <td>906802649.0</td>\n",
       "      <td>231626333.4</td>\n",
       "    </tr>\n",
       "    <tr>\n",
       "      <th>Муниципальные районы</th>\n",
       "      <td>46 600 000</td>\n",
       "      <td>707497716.5</td>\n",
       "      <td>528539493.0</td>\n",
       "      <td>178958223.5</td>\n",
       "    </tr>\n",
       "    <tr>\n",
       "      <th>Городские округа</th>\n",
       "      <td>46 700 000</td>\n",
       "      <td>430931266.0</td>\n",
       "      <td>378263156.0</td>\n",
       "      <td>52668110.0</td>\n",
       "    </tr>\n",
       "  </tbody>\n",
       "</table>\n",
       "</div>"
      ],
      "text/plain": [
       "                                              ОКТМО Суммарные выплаты  \\\n",
       "Самарская область  Всего                         36       580136403.0   \n",
       "                   Муниципальные районы  36 600 000        63504655.0   \n",
       "                   Городские округа      36 700 000       516631748.0   \n",
       "Московская область Всего                         46      1138428982.4   \n",
       "                   Муниципальные районы  46 600 000       707497716.5   \n",
       "                   Городские округа      46 700 000       430931266.0   \n",
       "\n",
       "                                              Доходы Социальные выплаты  \n",
       "Самарская область  Всего                 476485307.0        103651096.0  \n",
       "                   Муниципальные районы   41440288.0         22064367.0  \n",
       "                   Городские округа      435045019.0         81586729.0  \n",
       "Московская область Всего                 906802649.0        231626333.4  \n",
       "                   Муниципальные районы  528539493.0        178958223.5  \n",
       "                   Городские округа      378263156.0         52668110.0  "
      ]
     },
     "execution_count": 43,
     "metadata": {},
     "output_type": "execute_result"
    }
   ],
   "source": [
    "get_data_two_level(\n",
    "    data=income_transferts_2010,\n",
    "    level0=['Самарская область', 'Московская область'],\n",
    "    level1=['Всего', 'Муниципальные районы', 'Городские округа'],\n",
    "    kind='index')"
   ]
  },
  {
   "cell_type": "code",
   "execution_count": 44,
   "id": "35c842ee-7416-4cb1-acfd-b78601a8f64c",
   "metadata": {},
   "outputs": [],
   "source": [
    "datasets_list.append(income_transferts_2010)"
   ]
  },
  {
   "cell_type": "markdown",
   "id": "8756446c-2b15-45ed-a6d0-a2c8a959247b",
   "metadata": {},
   "source": [
    "#### <font color='#AF4035'>2011 год</font>"
   ]
  },
  {
   "cell_type": "markdown",
   "id": "514c8503-2fb9-4137-9a52-45330ae6fcba",
   "metadata": {},
   "source": [
    "##### Regions OKTMO codes"
   ]
  },
  {
   "cell_type": "code",
   "execution_count": 45,
   "id": "27028663-c11e-417a-bcca-1d55447c42f2",
   "metadata": {},
   "outputs": [],
   "source": [
    "path_2011 = \\\n",
    "    ('/Users/a.chasovsky/Library/CloudStorage/GoogleDrive-alexanderchasovsky@gmail.com/'\n",
    "     'Мой диск/Data Science Projects/pers_economics_rus/data/00-Region-codes/')\n",
    "os.chdir(path_2011)\n",
    "%run 2011.ipynb\n",
    "os.chdir(current_path)"
   ]
  },
  {
   "cell_type": "markdown",
   "id": "3060b5f6-336c-4fae-b1cb-adb3d207ef5f",
   "metadata": {},
   "source": [
    "##### Data"
   ]
  },
  {
   "cell_type": "code",
   "execution_count": 46,
   "id": "c5baf095-cb9a-43b2-9436-fd3583ed27c0",
   "metadata": {},
   "outputs": [],
   "source": [
    "income_transferts_2011_link = \\\n",
    "    ('data/02-Population/02-Standard-of-living/01-Income/'\n",
    "     'urov-14a2011.xls')"
   ]
  },
  {
   "cell_type": "code",
   "execution_count": 47,
   "id": "2ed4e7a9-459f-4ac9-80ef-64f51f6fd441",
   "metadata": {},
   "outputs": [],
   "source": [
    "income_transferts_2011_raw = pd.read_excel(income_transferts_2011_link)"
   ]
  },
  {
   "cell_type": "code",
   "execution_count": 48,
   "id": "890df8f9-1ef6-4c21-8a49-27355d50e801",
   "metadata": {},
   "outputs": [
    {
     "data": {
      "text/html": [
       "<div>\n",
       "<style scoped>\n",
       "    .dataframe tbody tr th:only-of-type {\n",
       "        vertical-align: middle;\n",
       "    }\n",
       "\n",
       "    .dataframe tbody tr th {\n",
       "        vertical-align: top;\n",
       "    }\n",
       "\n",
       "    .dataframe thead th {\n",
       "        text-align: right;\n",
       "    }\n",
       "</style>\n",
       "<table border=\"1\" class=\"dataframe\">\n",
       "  <thead>\n",
       "    <tr style=\"text-align: right;\">\n",
       "      <th></th>\n",
       "      <th>Обновлено - 16.04.2014</th>\n",
       "      <th>Unnamed: 1</th>\n",
       "      <th>Unnamed: 2</th>\n",
       "      <th>Unnamed: 3</th>\n",
       "      <th>Unnamed: 4</th>\n",
       "      <th>Unnamed: 5</th>\n",
       "    </tr>\n",
       "  </thead>\n",
       "  <tbody>\n",
       "    <tr>\n",
       "      <th>0</th>\n",
       "      <td>Объем социальных выплат населению и налогообла...</td>\n",
       "      <td>NaN</td>\n",
       "      <td>NaN</td>\n",
       "      <td>NaN</td>\n",
       "      <td>NaN</td>\n",
       "      <td>NaN</td>\n",
       "    </tr>\n",
       "    <tr>\n",
       "      <th>1</th>\n",
       "      <td>NaN</td>\n",
       "      <td>NaN</td>\n",
       "      <td>NaN</td>\n",
       "      <td>NaN</td>\n",
       "      <td>NaN</td>\n",
       "      <td>тыс.рублей</td>\n",
       "    </tr>\n",
       "    <tr>\n",
       "      <th>2</th>\n",
       "      <td>NaN</td>\n",
       "      <td>NaN</td>\n",
       "      <td>Код ОКТМО</td>\n",
       "      <td>Объем социальных выплат населению и налогообла...</td>\n",
       "      <td>в том числе</td>\n",
       "      <td>NaN</td>\n",
       "    </tr>\n",
       "    <tr>\n",
       "      <th>3</th>\n",
       "      <td>NaN</td>\n",
       "      <td>NaN</td>\n",
       "      <td>NaN</td>\n",
       "      <td>NaN</td>\n",
       "      <td>Налогооблагаемые денежные доходы физических ли...</td>\n",
       "      <td>Социальные и другие выплаты</td>\n",
       "    </tr>\n",
       "    <tr>\n",
       "      <th>4</th>\n",
       "      <td>NaN</td>\n",
       "      <td>NaN</td>\n",
       "      <td>NaN</td>\n",
       "      <td>NaN</td>\n",
       "      <td>NaN</td>\n",
       "      <td>NaN</td>\n",
       "    </tr>\n",
       "    <tr>\n",
       "      <th>5</th>\n",
       "      <td>NaN</td>\n",
       "      <td>Алтайский край - всего</td>\n",
       "      <td>01</td>\n",
       "      <td>342913198.515</td>\n",
       "      <td>241197639</td>\n",
       "      <td>101715559.515</td>\n",
       "    </tr>\n",
       "    <tr>\n",
       "      <th>6</th>\n",
       "      <td>NaN</td>\n",
       "      <td>Муниципальные районы</td>\n",
       "      <td>01 600 000</td>\n",
       "      <td>92924547.789662</td>\n",
       "      <td>46340970.745412</td>\n",
       "      <td>46583577.04425</td>\n",
       "    </tr>\n",
       "    <tr>\n",
       "      <th>7</th>\n",
       "      <td>1</td>\n",
       "      <td>Алейский</td>\n",
       "      <td>01 601 000</td>\n",
       "      <td>1232892.10796</td>\n",
       "      <td>606775.771967</td>\n",
       "      <td>626116.335993</td>\n",
       "    </tr>\n",
       "    <tr>\n",
       "      <th>8</th>\n",
       "      <td>2</td>\n",
       "      <td>Алтайский</td>\n",
       "      <td>01 602 000</td>\n",
       "      <td>2142662.396908</td>\n",
       "      <td>1091124.067779</td>\n",
       "      <td>1051538.329129</td>\n",
       "    </tr>\n",
       "    <tr>\n",
       "      <th>9</th>\n",
       "      <td>3</td>\n",
       "      <td>Баевский</td>\n",
       "      <td>01 603 000</td>\n",
       "      <td>894644.56671</td>\n",
       "      <td>418110.521243</td>\n",
       "      <td>476534.045467</td>\n",
       "    </tr>\n",
       "  </tbody>\n",
       "</table>\n",
       "</div>"
      ],
      "text/plain": [
       "                              Обновлено - 16.04.2014              Unnamed: 1  \\\n",
       "0  Объем социальных выплат населению и налогообла...                     NaN   \n",
       "1                                                NaN                     NaN   \n",
       "2                                                NaN                     NaN   \n",
       "3                                                NaN                     NaN   \n",
       "4                                                NaN                     NaN   \n",
       "5                                                NaN  Алтайский край - всего   \n",
       "6                                                NaN   Муниципальные районы    \n",
       "7                                                  1                Алейский   \n",
       "8                                                  2               Алтайский   \n",
       "9                                                  3                Баевский   \n",
       "\n",
       "   Unnamed: 2                                         Unnamed: 3  \\\n",
       "0         NaN                                                NaN   \n",
       "1         NaN                                                NaN   \n",
       "2   Код ОКТМО  Объем социальных выплат населению и налогообла...   \n",
       "3         NaN                                                NaN   \n",
       "4         NaN                                                NaN   \n",
       "5          01                                      342913198.515   \n",
       "6  01 600 000                                    92924547.789662   \n",
       "7  01 601 000                                      1232892.10796   \n",
       "8  01 602 000                                     2142662.396908   \n",
       "9  01 603 000                                       894644.56671   \n",
       "\n",
       "                                          Unnamed: 4  \\\n",
       "0                                                NaN   \n",
       "1                                                NaN   \n",
       "2                                        в том числе   \n",
       "3  Налогооблагаемые денежные доходы физических ли...   \n",
       "4                                                NaN   \n",
       "5                                          241197639   \n",
       "6                                    46340970.745412   \n",
       "7                                      606775.771967   \n",
       "8                                     1091124.067779   \n",
       "9                                      418110.521243   \n",
       "\n",
       "                    Unnamed: 5  \n",
       "0                          NaN  \n",
       "1                   тыс.рублей  \n",
       "2                          NaN  \n",
       "3  Социальные и другие выплаты  \n",
       "4                          NaN  \n",
       "5                101715559.515  \n",
       "6               46583577.04425  \n",
       "7                626116.335993  \n",
       "8               1051538.329129  \n",
       "9                476534.045467  "
      ]
     },
     "execution_count": 48,
     "metadata": {},
     "output_type": "execute_result"
    }
   ],
   "source": [
    "income_transferts_2011_raw.head(10)"
   ]
  },
  {
   "cell_type": "code",
   "execution_count": 49,
   "id": "914e3f54-569f-4158-af83-72ef21ddfad2",
   "metadata": {},
   "outputs": [
    {
     "data": {
      "text/html": [
       "<div>\n",
       "<style scoped>\n",
       "    .dataframe tbody tr th:only-of-type {\n",
       "        vertical-align: middle;\n",
       "    }\n",
       "\n",
       "    .dataframe tbody tr th {\n",
       "        vertical-align: top;\n",
       "    }\n",
       "\n",
       "    .dataframe thead th {\n",
       "        text-align: right;\n",
       "    }\n",
       "</style>\n",
       "<table border=\"1\" class=\"dataframe\">\n",
       "  <thead>\n",
       "    <tr style=\"text-align: right;\">\n",
       "      <th></th>\n",
       "      <th>Обновлено - 16.04.2014</th>\n",
       "      <th>Unnamed: 1</th>\n",
       "      <th>Unnamed: 2</th>\n",
       "      <th>Unnamed: 3</th>\n",
       "      <th>Unnamed: 4</th>\n",
       "      <th>Unnamed: 5</th>\n",
       "    </tr>\n",
       "  </thead>\n",
       "  <tbody>\n",
       "    <tr>\n",
       "      <th>2479</th>\n",
       "      <td>2</td>\n",
       "      <td>Ленинский</td>\n",
       "      <td>99610000</td>\n",
       "      <td>1555226.54166</td>\n",
       "      <td>928803.664559</td>\n",
       "      <td>626422.877101</td>\n",
       "    </tr>\n",
       "    <tr>\n",
       "      <th>2480</th>\n",
       "      <td>3</td>\n",
       "      <td>Облученский</td>\n",
       "      <td>99620000</td>\n",
       "      <td>4606157.245012</td>\n",
       "      <td>3423579.864457</td>\n",
       "      <td>1182577.380555</td>\n",
       "    </tr>\n",
       "    <tr>\n",
       "      <th>2481</th>\n",
       "      <td>4</td>\n",
       "      <td>Октябрьский</td>\n",
       "      <td>99625000</td>\n",
       "      <td>1017057.174004</td>\n",
       "      <td>606330.803903</td>\n",
       "      <td>410726.3701</td>\n",
       "    </tr>\n",
       "    <tr>\n",
       "      <th>2482</th>\n",
       "      <td>5</td>\n",
       "      <td>Смидовичский</td>\n",
       "      <td>99630000</td>\n",
       "      <td>2931305.078043</td>\n",
       "      <td>1927935.28749</td>\n",
       "      <td>1003369.790553</td>\n",
       "    </tr>\n",
       "    <tr>\n",
       "      <th>2483</th>\n",
       "      <td>NaN</td>\n",
       "      <td>Городские округа</td>\n",
       "      <td>99700000</td>\n",
       "      <td>15819311.474399</td>\n",
       "      <td>12320798.696102</td>\n",
       "      <td>3498512.778297</td>\n",
       "    </tr>\n",
       "    <tr>\n",
       "      <th>2484</th>\n",
       "      <td>1</td>\n",
       "      <td>город Биробиджан</td>\n",
       "      <td>99701000</td>\n",
       "      <td>15819311.474399</td>\n",
       "      <td>12320798.696102</td>\n",
       "      <td>3498512.778297</td>\n",
       "    </tr>\n",
       "    <tr>\n",
       "      <th>2485</th>\n",
       "      <td>NaN</td>\n",
       "      <td>NaN</td>\n",
       "      <td>NaN</td>\n",
       "      <td>NaN</td>\n",
       "      <td>NaN</td>\n",
       "      <td>NaN</td>\n",
       "    </tr>\n",
       "    <tr>\n",
       "      <th>2486</th>\n",
       "      <td>Примечание:</td>\n",
       "      <td>NaN</td>\n",
       "      <td>NaN</td>\n",
       "      <td>NaN</td>\n",
       "      <td>NaN</td>\n",
       "      <td>NaN</td>\n",
       "    </tr>\n",
       "    <tr>\n",
       "      <th>2487</th>\n",
       "      <td>NaN</td>\n",
       "      <td>NaN</td>\n",
       "      <td>NaN</td>\n",
       "      <td>NaN</td>\n",
       "      <td>NaN</td>\n",
       "      <td>NaN</td>\n",
       "    </tr>\n",
       "    <tr>\n",
       "      <th>2488</th>\n",
       "      <td>Отсутствие информации по другим субъектам Росс...</td>\n",
       "      <td>NaN</td>\n",
       "      <td>NaN</td>\n",
       "      <td>NaN</td>\n",
       "      <td>NaN</td>\n",
       "      <td>NaN</td>\n",
       "    </tr>\n",
       "  </tbody>\n",
       "</table>\n",
       "</div>"
      ],
      "text/plain": [
       "                                 Обновлено - 16.04.2014         Unnamed: 1  \\\n",
       "2479                                                  2         Ленинский    \n",
       "2480                                                  3       Облученский    \n",
       "2481                                                  4       Октябрьский    \n",
       "2482                                                  5      Смидовичский    \n",
       "2483                                                NaN  Городские округа    \n",
       "2484                                                  1   город Биробиджан   \n",
       "2485                                                NaN                NaN   \n",
       "2486                                       Примечание:                 NaN   \n",
       "2487                                                NaN                NaN   \n",
       "2488  Отсутствие информации по другим субъектам Росс...                NaN   \n",
       "\n",
       "     Unnamed: 2       Unnamed: 3       Unnamed: 4      Unnamed: 5  \n",
       "2479   99610000    1555226.54166    928803.664559   626422.877101  \n",
       "2480   99620000   4606157.245012   3423579.864457  1182577.380555  \n",
       "2481   99625000   1017057.174004    606330.803903     410726.3701  \n",
       "2482   99630000   2931305.078043    1927935.28749  1003369.790553  \n",
       "2483   99700000  15819311.474399  12320798.696102  3498512.778297  \n",
       "2484   99701000  15819311.474399  12320798.696102  3498512.778297  \n",
       "2485        NaN              NaN              NaN             NaN  \n",
       "2486        NaN              NaN              NaN             NaN  \n",
       "2487        NaN              NaN              NaN             NaN  \n",
       "2488        NaN              NaN              NaN             NaN  "
      ]
     },
     "execution_count": 49,
     "metadata": {},
     "output_type": "execute_result"
    }
   ],
   "source": [
    "income_transferts_2011_raw.tail(10)"
   ]
  },
  {
   "cell_type": "code",
   "execution_count": 50,
   "id": "dcdef68c-83a3-4154-a85f-b39d785b51c9",
   "metadata": {},
   "outputs": [],
   "source": [
    "income_transferts_2011 = income_transferts_2011_raw.copy()"
   ]
  },
  {
   "cell_type": "markdown",
   "id": "5c3683b3-a973-48dd-8312-c2ee0b5ee844",
   "metadata": {},
   "source": [
    "##### Rename columns and drop useless"
   ]
  },
  {
   "cell_type": "code",
   "execution_count": 51,
   "id": "f8098505-8b56-498b-9ef3-9ac6a4239250",
   "metadata": {},
   "outputs": [],
   "source": [
    "income_transferts_2011_columns = [\n",
    "    '-', 'index1', 'ОКТМО', 'Суммарные выплаты', 'Доходы', 'Социальные выплаты'\n",
    "]"
   ]
  },
  {
   "cell_type": "code",
   "execution_count": 52,
   "id": "045a65b1-3dfd-482d-a54d-5e93b9868437",
   "metadata": {},
   "outputs": [],
   "source": [
    "income_transferts_2011.columns = income_transferts_2011_columns"
   ]
  },
  {
   "cell_type": "code",
   "execution_count": 53,
   "id": "182a0844-6ec9-4399-b132-ce69f62952ec",
   "metadata": {},
   "outputs": [],
   "source": [
    "# drop useless columns with name '-'\n",
    "income_transferts_2011 = income_transferts_2011.drop('-', axis=1)"
   ]
  },
  {
   "cell_type": "markdown",
   "id": "97b57ba8-4990-4e56-8e81-20493332388a",
   "metadata": {},
   "source": [
    "##### Cut rows and drop NaNs"
   ]
  },
  {
   "cell_type": "code",
   "execution_count": 54,
   "id": "a4536bff-2855-4439-81c9-a1acf16ce44a",
   "metadata": {},
   "outputs": [],
   "source": [
    "# cut rows\n",
    "income_transferts_2011 = transform_cut_rows(income_transferts_2011, 5, 4)"
   ]
  },
  {
   "cell_type": "code",
   "execution_count": 55,
   "id": "8f6b2672-fe87-448b-bdfb-53993857b5a6",
   "metadata": {},
   "outputs": [],
   "source": [
    "# drop rows with NaNs in 'index0' column\n",
    "income_transferts_2011 = \\\n",
    "    income_transferts_2011[income_transferts_2011['index1'].notna()]"
   ]
  },
  {
   "cell_type": "markdown",
   "id": "1e1fc1e8-ab1c-41be-8d1a-b1f1649bc07f",
   "metadata": {},
   "source": [
    "##### Normalize OKTMO"
   ]
  },
  {
   "cell_type": "code",
   "execution_count": 56,
   "id": "dae67e32-590a-45db-918d-27c8d0eab627",
   "metadata": {},
   "outputs": [],
   "source": [
    "# make OKTMO column values str\n",
    "income_transferts_2011['ОКТМО'] = income_transferts_2011['ОКТМО'].astype(str)"
   ]
  },
  {
   "cell_type": "code",
   "execution_count": 57,
   "id": "328d873d-7241-4a63-a269-298bd99c4457",
   "metadata": {},
   "outputs": [],
   "source": [
    "# normalize oktmo - remove spaces and other dirt\n",
    "income_transferts_2011['ОКТМО'] = \\\n",
    "    income_transferts_2011['ОКТМО'].apply(lambda x: normalize_oktmo(x))"
   ]
  },
  {
   "cell_type": "markdown",
   "id": "67daf1ac-012e-41c2-84a3-3b7c291af3f3",
   "metadata": {},
   "source": [
    "##### Level0 for Multiindex"
   ]
  },
  {
   "cell_type": "code",
   "execution_count": 58,
   "id": "800b8b6f-92b0-4124-8c00-0e858abbddff",
   "metadata": {},
   "outputs": [],
   "source": [
    "# create index level0 column\n",
    "income_transferts_2011['index0'] = np.nan"
   ]
  },
  {
   "cell_type": "code",
   "execution_count": 59,
   "id": "0e06a276-5182-4552-99ce-dd83b92f36a8",
   "metadata": {},
   "outputs": [],
   "source": [
    "# fill in by region with OKTMO in OKTMO column\n",
    "income_transferts_2011 = (income_transferts_2011\n",
    "                          .assign(index0=income_transferts_2011['ОКТМО']\n",
    "                                  .map(region_oktmo_norm_dict_sorted)\n",
    "                                  .fillna(income_transferts_2011['index0'])))"
   ]
  },
  {
   "cell_type": "code",
   "execution_count": 60,
   "id": "0861f8e8-efb4-4698-843b-4e3458913ba6",
   "metadata": {},
   "outputs": [],
   "source": [
    "# 1) 'Архангельская область' and \n",
    "# 'Ненецкий автономный округ (Архангельская область)' have the same OKTMO == 11\n",
    "# 2) 'Ненецкий автономный округ (Архангельская область)' index allways greater than index of \n",
    "# 'Архангельская область'\n",
    "# knowing this, we replace duplicate 'Архангельская область' by 'Ненецкий автономный округ (Архангельская область)'\n",
    "income_transferts_2011 = normalize_nenec(income_transferts_2011, 'index0')"
   ]
  },
  {
   "cell_type": "code",
   "execution_count": 61,
   "id": "e8596616-9d41-4a2b-8bb5-49446efbe2fb",
   "metadata": {},
   "outputs": [],
   "source": [
    "# the same correction for 'Тюменская область'\n",
    "income_transferts_2011 = normalize_khantymanci(income_transferts_2011, 'index0')"
   ]
  },
  {
   "cell_type": "code",
   "execution_count": 62,
   "id": "2e3c5297-e4f5-483b-b83a-2222cfb76671",
   "metadata": {},
   "outputs": [],
   "source": [
    "# fill '-' values in index0 column\n",
    "income_transferts_2011 = transform_fill_values_by_previous(\n",
    "    income_transferts_2011, kind='column', column_name='index0')"
   ]
  },
  {
   "cell_type": "markdown",
   "id": "010e14bb-21ad-4b8f-8ef8-313f746ef08f",
   "metadata": {},
   "source": [
    "##### Level1 for Multiindex"
   ]
  },
  {
   "cell_type": "code",
   "execution_count": 63,
   "id": "923afada-be67-4407-8300-c8174c7e02e1",
   "metadata": {},
   "outputs": [],
   "source": [
    "# change region name in 'index1' column to 'Всего'\n",
    "income_transferts_2011['index1'] = income_transferts_2011.apply(\n",
    "    lambda x: transferts_various(x['ОКТМО'], x['index1']), axis=1)"
   ]
  },
  {
   "cell_type": "code",
   "execution_count": 64,
   "id": "888f7928-e7ad-4632-8991-6687e436ddeb",
   "metadata": {},
   "outputs": [],
   "source": [
    "# normalize 'Муниципальные районы' and 'Гордские округа' - remove spaces and other dirt\n",
    "income_transferts_2011['index1'] = \\\n",
    "    income_transferts_2011['index1'].apply(lambda x: normalize_municipal_town(x))"
   ]
  },
  {
   "cell_type": "markdown",
   "id": "dcb49007-c124-4f91-8ef1-ff13a4929b69",
   "metadata": {},
   "source": [
    "##### Count Regions"
   ]
  },
  {
   "cell_type": "code",
   "execution_count": 65,
   "id": "4b0dc32e-8032-4b56-98ef-6e4bed0e5684",
   "metadata": {},
   "outputs": [
    {
     "data": {
      "text/plain": [
       "74"
      ]
     },
     "execution_count": 65,
     "metadata": {},
     "output_type": "execute_result"
    }
   ],
   "source": [
    "# count regions\n",
    "regions_count2011 = len(set(income_transferts_2011['index0'].values))\n",
    "regions_count2011"
   ]
  },
  {
   "cell_type": "code",
   "execution_count": 66,
   "id": "a04d7102-654a-442d-bfac-6714bb7c7d2b",
   "metadata": {},
   "outputs": [],
   "source": [
    "# create regions list and sort it\n",
    "regions_list2011 = list(set(income_transferts_2011['index0']))\n",
    "regions_list2011.sort()"
   ]
  },
  {
   "cell_type": "markdown",
   "id": "f6a35c40-998b-4561-9afd-bee420c3cbc8",
   "metadata": {},
   "source": [
    "##### Create Multiindex"
   ]
  },
  {
   "cell_type": "code",
   "execution_count": 67,
   "id": "d2eb68e7-53f4-4276-9b56-54139f4b0f84",
   "metadata": {},
   "outputs": [],
   "source": [
    "# columns to multiindex\n",
    "income_transferts_2011 = transform_make_index_from_columns(\n",
    "    income_transferts_2011, ['index0', 'index1'])"
   ]
  },
  {
   "cell_type": "code",
   "execution_count": 68,
   "id": "34cf9af0-74d3-4e69-b6ca-337a93174e31",
   "metadata": {},
   "outputs": [],
   "source": [
    "# drop columns, that became multiindexes\n",
    "income_transferts_2011 = income_transferts_2011.drop(['index0', 'index1'], axis=1)"
   ]
  },
  {
   "cell_type": "markdown",
   "id": "4a140865-5cb9-4f96-ad7e-cb3afc2f22ac",
   "metadata": {},
   "source": [
    "##### Round (one symbol)"
   ]
  },
  {
   "cell_type": "code",
   "execution_count": 69,
   "id": "530bbb33-226c-47c6-b5d6-8a46a45a4431",
   "metadata": {},
   "outputs": [],
   "source": [
    "# round\n",
    "for column in income_transferts_2011.columns:\n",
    "    try:\n",
    "        income_transferts_2011[column] = \\\n",
    "            income_transferts_2011[column].astype(float).round(1)\n",
    "    except ValueError:\n",
    "        pass"
   ]
  },
  {
   "cell_type": "markdown",
   "id": "6daab1b1-3b89-4554-a71b-3e8d4b0129e5",
   "metadata": {},
   "source": [
    "##### <font color='#2A5899'>2011 Check for Discrepancy</font>"
   ]
  },
  {
   "cell_type": "code",
   "execution_count": 70,
   "id": "8f236fcc-8972-461d-9a1d-28a8e41f9f49",
   "metadata": {},
   "outputs": [
    {
     "data": {
      "text/plain": [
       "False"
      ]
     },
     "execution_count": 70,
     "metadata": {},
     "output_type": "execute_result"
    }
   ],
   "source": [
    "# OKTMO check for NaN\n",
    "income_transferts_2011[income_transferts_2011['ОКТМО'].isna()].any().any()"
   ]
  },
  {
   "cell_type": "code",
   "execution_count": 71,
   "id": "a8e651d5-483f-4943-9f9b-eab3ad992355",
   "metadata": {},
   "outputs": [
    {
     "data": {
      "text/plain": [
       "False"
      ]
     },
     "execution_count": 71,
     "metadata": {},
     "output_type": "execute_result"
    }
   ],
   "source": [
    "# all data check for NaN\n",
    "income_transferts_2011[income_transferts_2011.isna().any(axis=1)].any().any()"
   ]
  },
  {
   "cell_type": "code",
   "execution_count": 72,
   "id": "f4b8e1aa-2039-4c80-b583-4f7f9f17a498",
   "metadata": {},
   "outputs": [
    {
     "data": {
      "text/html": [
       "<div>\n",
       "<style scoped>\n",
       "    .dataframe tbody tr th:only-of-type {\n",
       "        vertical-align: middle;\n",
       "    }\n",
       "\n",
       "    .dataframe tbody tr th {\n",
       "        vertical-align: top;\n",
       "    }\n",
       "\n",
       "    .dataframe thead th {\n",
       "        text-align: right;\n",
       "    }\n",
       "</style>\n",
       "<table border=\"1\" class=\"dataframe\">\n",
       "  <thead>\n",
       "    <tr style=\"text-align: right;\">\n",
       "      <th></th>\n",
       "      <th></th>\n",
       "      <th>ОКТМО</th>\n",
       "      <th>Суммарные выплаты</th>\n",
       "      <th>Доходы</th>\n",
       "      <th>Социальные выплаты</th>\n",
       "    </tr>\n",
       "  </thead>\n",
       "  <tbody>\n",
       "    <tr>\n",
       "      <th>Иркутская область</th>\n",
       "      <th>г.Свирск</th>\n",
       "      <td>25 746 000</td>\n",
       "      <td>720748.1</td>\n",
       "      <td>0.0</td>\n",
       "      <td>720748.1</td>\n",
       "    </tr>\n",
       "  </tbody>\n",
       "</table>\n",
       "</div>"
      ],
      "text/plain": [
       "                                 ОКТМО  Суммарные выплаты  Доходы  \\\n",
       "Иркутская область г.Свирск  25 746 000           720748.1     0.0   \n",
       "\n",
       "                            Социальные выплаты  \n",
       "Иркутская область г.Свирск            720748.1  "
      ]
     },
     "execution_count": 72,
     "metadata": {},
     "output_type": "execute_result"
    }
   ],
   "source": [
    "income_transferts_2011[income_transferts_2011['Доходы'] == 0]"
   ]
  },
  {
   "cell_type": "code",
   "execution_count": 73,
   "id": "84e86a80-b16b-4dc5-9e45-3c9019fcd5e4",
   "metadata": {},
   "outputs": [
    {
     "data": {
      "text/html": [
       "<div>\n",
       "<style scoped>\n",
       "    .dataframe tbody tr th:only-of-type {\n",
       "        vertical-align: middle;\n",
       "    }\n",
       "\n",
       "    .dataframe tbody tr th {\n",
       "        vertical-align: top;\n",
       "    }\n",
       "\n",
       "    .dataframe thead th {\n",
       "        text-align: right;\n",
       "    }\n",
       "</style>\n",
       "<table border=\"1\" class=\"dataframe\">\n",
       "  <thead>\n",
       "    <tr style=\"text-align: right;\">\n",
       "      <th></th>\n",
       "      <th></th>\n",
       "      <th>ОКТМО</th>\n",
       "      <th>Суммарные выплаты</th>\n",
       "      <th>Доходы</th>\n",
       "      <th>Социальные выплаты</th>\n",
       "    </tr>\n",
       "  </thead>\n",
       "  <tbody>\n",
       "  </tbody>\n",
       "</table>\n",
       "</div>"
      ],
      "text/plain": [
       "Empty DataFrame\n",
       "Columns: [ОКТМО, Суммарные выплаты, Доходы, Социальные выплаты]\n",
       "Index: []"
      ]
     },
     "execution_count": 73,
     "metadata": {},
     "output_type": "execute_result"
    }
   ],
   "source": [
    "income_transferts_2011[income_transferts_2011['Социальные выплаты'] == 0]"
   ]
  },
  {
   "cell_type": "code",
   "execution_count": 74,
   "id": "718ff806-cef9-4fe4-9e78-95dd2de567e2",
   "metadata": {},
   "outputs": [
    {
     "data": {
      "text/html": [
       "<div>\n",
       "<style scoped>\n",
       "    .dataframe tbody tr th:only-of-type {\n",
       "        vertical-align: middle;\n",
       "    }\n",
       "\n",
       "    .dataframe tbody tr th {\n",
       "        vertical-align: top;\n",
       "    }\n",
       "\n",
       "    .dataframe thead th {\n",
       "        text-align: right;\n",
       "    }\n",
       "</style>\n",
       "<table border=\"1\" class=\"dataframe\">\n",
       "  <thead>\n",
       "    <tr style=\"text-align: right;\">\n",
       "      <th></th>\n",
       "      <th></th>\n",
       "      <th>ОКТМО</th>\n",
       "      <th>Суммарные выплаты</th>\n",
       "      <th>Доходы</th>\n",
       "      <th>Социальные выплаты</th>\n",
       "    </tr>\n",
       "  </thead>\n",
       "  <tbody>\n",
       "  </tbody>\n",
       "</table>\n",
       "</div>"
      ],
      "text/plain": [
       "Empty DataFrame\n",
       "Columns: [ОКТМО, Суммарные выплаты, Доходы, Социальные выплаты]\n",
       "Index: []"
      ]
     },
     "execution_count": 74,
     "metadata": {},
     "output_type": "execute_result"
    }
   ],
   "source": [
    "income_transferts_2011[income_transferts_2011['Суммарные выплаты'] == 0]"
   ]
  },
  {
   "cell_type": "code",
   "execution_count": 75,
   "id": "5f7cf663-963b-4b62-9b66-d85d37c75ff7",
   "metadata": {},
   "outputs": [
    {
     "data": {
      "text/html": [
       "<div>\n",
       "<style scoped>\n",
       "    .dataframe tbody tr th:only-of-type {\n",
       "        vertical-align: middle;\n",
       "    }\n",
       "\n",
       "    .dataframe tbody tr th {\n",
       "        vertical-align: top;\n",
       "    }\n",
       "\n",
       "    .dataframe thead th {\n",
       "        text-align: right;\n",
       "    }\n",
       "</style>\n",
       "<table border=\"1\" class=\"dataframe\">\n",
       "  <thead>\n",
       "    <tr style=\"text-align: right;\">\n",
       "      <th></th>\n",
       "      <th></th>\n",
       "      <th>ОКТМО</th>\n",
       "      <th>Суммарные выплаты</th>\n",
       "      <th>Доходы</th>\n",
       "      <th>Социальные выплаты</th>\n",
       "    </tr>\n",
       "  </thead>\n",
       "  <tbody>\n",
       "  </tbody>\n",
       "</table>\n",
       "</div>"
      ],
      "text/plain": [
       "Empty DataFrame\n",
       "Columns: [ОКТМО, Суммарные выплаты, Доходы, Социальные выплаты]\n",
       "Index: []"
      ]
     },
     "execution_count": 75,
     "metadata": {},
     "output_type": "execute_result"
    }
   ],
   "source": [
    "income_transferts_2011[income_transferts_2011['ОКТМО'] == '71']"
   ]
  },
  {
   "cell_type": "code",
   "execution_count": 76,
   "id": "a21aebef-3f1b-4761-9ffc-34222753e8d5",
   "metadata": {},
   "outputs": [
    {
     "data": {
      "text/html": [
       "<div>\n",
       "<style scoped>\n",
       "    .dataframe tbody tr th:only-of-type {\n",
       "        vertical-align: middle;\n",
       "    }\n",
       "\n",
       "    .dataframe tbody tr th {\n",
       "        vertical-align: top;\n",
       "    }\n",
       "\n",
       "    .dataframe thead th {\n",
       "        text-align: right;\n",
       "    }\n",
       "</style>\n",
       "<table border=\"1\" class=\"dataframe\">\n",
       "  <thead>\n",
       "    <tr style=\"text-align: right;\">\n",
       "      <th></th>\n",
       "      <th></th>\n",
       "      <th>ОКТМО</th>\n",
       "      <th>Суммарные выплаты</th>\n",
       "      <th>Доходы</th>\n",
       "      <th>Социальные выплаты</th>\n",
       "    </tr>\n",
       "  </thead>\n",
       "  <tbody>\n",
       "    <tr>\n",
       "      <th>Архангельская область</th>\n",
       "      <th>Всего</th>\n",
       "      <td>11</td>\n",
       "      <td>240575885.6</td>\n",
       "      <td>166989694.0</td>\n",
       "      <td>73586191.6</td>\n",
       "    </tr>\n",
       "  </tbody>\n",
       "</table>\n",
       "</div>"
      ],
      "text/plain": [
       "                            ОКТМО  Суммарные выплаты       Доходы  \\\n",
       "Архангельская область Всего    11        240575885.6  166989694.0   \n",
       "\n",
       "                             Социальные выплаты  \n",
       "Архангельская область Всего          73586191.6  "
      ]
     },
     "execution_count": 76,
     "metadata": {},
     "output_type": "execute_result"
    }
   ],
   "source": [
    "income_transferts_2011[income_transferts_2011['ОКТМО'] == '11']"
   ]
  },
  {
   "cell_type": "code",
   "execution_count": 77,
   "id": "7699f167-a8f0-4f1d-93cb-e09168d69632",
   "metadata": {},
   "outputs": [
    {
     "data": {
      "text/plain": [
       "[]"
      ]
     },
     "execution_count": 77,
     "metadata": {},
     "output_type": "execute_result"
    }
   ],
   "source": [
    "# check if there are duplications in municipal, town and others OKTMO\n",
    "check_oktmo_2011_dupl_list = check_oktmo_duplication(\n",
    "    data=income_transferts_2011, \n",
    "    column_check='ОКТМО',\n",
    "    normalize_oktmo_list=municipal_town_dict)\n",
    "\n",
    "check_oktmo_2011_dupl_list"
   ]
  },
  {
   "cell_type": "code",
   "execution_count": 78,
   "id": "d1b06661-150d-49d2-8f24-62ecda0763e1",
   "metadata": {},
   "outputs": [
    {
     "data": {
      "text/html": [
       "<div>\n",
       "<style scoped>\n",
       "    .dataframe tbody tr th:only-of-type {\n",
       "        vertical-align: middle;\n",
       "    }\n",
       "\n",
       "    .dataframe tbody tr th {\n",
       "        vertical-align: top;\n",
       "    }\n",
       "\n",
       "    .dataframe thead th {\n",
       "        text-align: right;\n",
       "    }\n",
       "</style>\n",
       "<table border=\"1\" class=\"dataframe\">\n",
       "  <thead>\n",
       "    <tr style=\"text-align: right;\">\n",
       "      <th></th>\n",
       "      <th></th>\n",
       "      <th>ОКТМО</th>\n",
       "      <th>Суммарные выплаты</th>\n",
       "      <th>Доходы</th>\n",
       "      <th>Социальные выплаты</th>\n",
       "    </tr>\n",
       "  </thead>\n",
       "  <tbody>\n",
       "    <tr>\n",
       "      <th rowspan=\"2\" valign=\"top\">Алтайский край</th>\n",
       "      <th>Муниципальные районы</th>\n",
       "      <td>01 600 000</td>\n",
       "      <td>92924547.8</td>\n",
       "      <td>46340970.7</td>\n",
       "      <td>46583577.0</td>\n",
       "    </tr>\n",
       "    <tr>\n",
       "      <th>Городские округа</th>\n",
       "      <td>01 700 000</td>\n",
       "      <td>249988650.7</td>\n",
       "      <td>194856668.3</td>\n",
       "      <td>55131982.5</td>\n",
       "    </tr>\n",
       "  </tbody>\n",
       "</table>\n",
       "</div>"
      ],
      "text/plain": [
       "                                          ОКТМО  Суммарные выплаты  \\\n",
       "Алтайский край Муниципальные районы  01 600 000         92924547.8   \n",
       "               Городские округа      01 700 000        249988650.7   \n",
       "\n",
       "                                          Доходы  Социальные выплаты  \n",
       "Алтайский край Муниципальные районы   46340970.7          46583577.0  \n",
       "               Городские округа      194856668.3          55131982.5  "
      ]
     },
     "execution_count": 78,
     "metadata": {},
     "output_type": "execute_result"
    }
   ],
   "source": [
    "(income_transferts_2011\n",
    " .loc[income_transferts_2011['ОКТМО']\n",
    " .isin(municipal_town_dict['Алтайский край'])])"
   ]
  },
  {
   "cell_type": "markdown",
   "id": "a5e53e61-6578-4025-a9f4-dd4214fee6af",
   "metadata": {},
   "source": [
    "##### <font color='#2A5899'>2011 Final Result</font>"
   ]
  },
  {
   "cell_type": "code",
   "execution_count": 79,
   "id": "896f94c2-d3a3-4695-b18a-bd97b3c0c84d",
   "metadata": {},
   "outputs": [
    {
     "data": {
      "text/html": [
       "<div>\n",
       "<style scoped>\n",
       "    .dataframe tbody tr th:only-of-type {\n",
       "        vertical-align: middle;\n",
       "    }\n",
       "\n",
       "    .dataframe tbody tr th {\n",
       "        vertical-align: top;\n",
       "    }\n",
       "\n",
       "    .dataframe thead th {\n",
       "        text-align: right;\n",
       "    }\n",
       "</style>\n",
       "<table border=\"1\" class=\"dataframe\">\n",
       "  <thead>\n",
       "    <tr style=\"text-align: right;\">\n",
       "      <th></th>\n",
       "      <th></th>\n",
       "      <th>ОКТМО</th>\n",
       "      <th>Суммарные выплаты</th>\n",
       "      <th>Доходы</th>\n",
       "      <th>Социальные выплаты</th>\n",
       "    </tr>\n",
       "  </thead>\n",
       "  <tbody>\n",
       "    <tr>\n",
       "      <th rowspan=\"5\" valign=\"top\">Алтайский край</th>\n",
       "      <th>Всего</th>\n",
       "      <td>01</td>\n",
       "      <td>342913198.5</td>\n",
       "      <td>241197639.0</td>\n",
       "      <td>101715559.5</td>\n",
       "    </tr>\n",
       "    <tr>\n",
       "      <th>Муниципальные районы</th>\n",
       "      <td>01 600 000</td>\n",
       "      <td>92924547.8</td>\n",
       "      <td>46340970.7</td>\n",
       "      <td>46583577.0</td>\n",
       "    </tr>\n",
       "    <tr>\n",
       "      <th>Алейский</th>\n",
       "      <td>01 601 000</td>\n",
       "      <td>1232892.1</td>\n",
       "      <td>606775.8</td>\n",
       "      <td>626116.3</td>\n",
       "    </tr>\n",
       "    <tr>\n",
       "      <th>Алтайский</th>\n",
       "      <td>01 602 000</td>\n",
       "      <td>2142662.4</td>\n",
       "      <td>1091124.1</td>\n",
       "      <td>1051538.3</td>\n",
       "    </tr>\n",
       "    <tr>\n",
       "      <th>Баевский</th>\n",
       "      <td>01 603 000</td>\n",
       "      <td>894644.6</td>\n",
       "      <td>418110.5</td>\n",
       "      <td>476534.0</td>\n",
       "    </tr>\n",
       "  </tbody>\n",
       "</table>\n",
       "</div>"
      ],
      "text/plain": [
       "                                          ОКТМО  Суммарные выплаты  \\\n",
       "Алтайский край Всего                         01        342913198.5   \n",
       "               Муниципальные районы  01 600 000         92924547.8   \n",
       "               Алейский              01 601 000          1232892.1   \n",
       "               Алтайский             01 602 000          2142662.4   \n",
       "               Баевский              01 603 000           894644.6   \n",
       "\n",
       "                                          Доходы  Социальные выплаты  \n",
       "Алтайский край Всего                 241197639.0         101715559.5  \n",
       "               Муниципальные районы   46340970.7          46583577.0  \n",
       "               Алейский                 606775.8            626116.3  \n",
       "               Алтайский               1091124.1           1051538.3  \n",
       "               Баевский                 418110.5            476534.0  "
      ]
     },
     "execution_count": 79,
     "metadata": {},
     "output_type": "execute_result"
    }
   ],
   "source": [
    "income_transferts_2011.head()"
   ]
  },
  {
   "cell_type": "code",
   "execution_count": 80,
   "id": "0cb70a77-aa1a-4d83-b489-a3935314fdd7",
   "metadata": {},
   "outputs": [
    {
     "data": {
      "text/html": [
       "<div>\n",
       "<style scoped>\n",
       "    .dataframe tbody tr th:only-of-type {\n",
       "        vertical-align: middle;\n",
       "    }\n",
       "\n",
       "    .dataframe tbody tr th {\n",
       "        vertical-align: top;\n",
       "    }\n",
       "\n",
       "    .dataframe thead th {\n",
       "        text-align: right;\n",
       "    }\n",
       "</style>\n",
       "<table border=\"1\" class=\"dataframe\">\n",
       "  <thead>\n",
       "    <tr style=\"text-align: right;\">\n",
       "      <th></th>\n",
       "      <th></th>\n",
       "      <th>ОКТМО</th>\n",
       "      <th>Суммарные выплаты</th>\n",
       "      <th>Доходы</th>\n",
       "      <th>Социальные выплаты</th>\n",
       "    </tr>\n",
       "  </thead>\n",
       "  <tbody>\n",
       "    <tr>\n",
       "      <th rowspan=\"3\" valign=\"top\">Алтайский край</th>\n",
       "      <th>Всего</th>\n",
       "      <td>01</td>\n",
       "      <td>342913198.5</td>\n",
       "      <td>241197639.0</td>\n",
       "      <td>101715559.5</td>\n",
       "    </tr>\n",
       "    <tr>\n",
       "      <th>Муниципальные районы</th>\n",
       "      <td>01 600 000</td>\n",
       "      <td>92924547.8</td>\n",
       "      <td>46340970.7</td>\n",
       "      <td>46583577.0</td>\n",
       "    </tr>\n",
       "    <tr>\n",
       "      <th>Городские округа</th>\n",
       "      <td>01 700 000</td>\n",
       "      <td>249988650.7</td>\n",
       "      <td>194856668.3</td>\n",
       "      <td>55131982.5</td>\n",
       "    </tr>\n",
       "    <tr>\n",
       "      <th rowspan=\"3\" valign=\"top\">Московская область</th>\n",
       "      <th>Всего</th>\n",
       "      <td>46</td>\n",
       "      <td>1412884618.6</td>\n",
       "      <td>1104331594.0</td>\n",
       "      <td>308553024.6</td>\n",
       "    </tr>\n",
       "    <tr>\n",
       "      <th>Муниципальные районы</th>\n",
       "      <td>46 600 000</td>\n",
       "      <td>850362146.3</td>\n",
       "      <td>661139782.0</td>\n",
       "      <td>189222364.3</td>\n",
       "    </tr>\n",
       "    <tr>\n",
       "      <th>Городские округа</th>\n",
       "      <td>46 700 000</td>\n",
       "      <td>562522472.3</td>\n",
       "      <td>443191812.0</td>\n",
       "      <td>119330660.3</td>\n",
       "    </tr>\n",
       "  </tbody>\n",
       "</table>\n",
       "</div>"
      ],
      "text/plain": [
       "                                              ОКТМО Суммарные выплаты  \\\n",
       "Алтайский край     Всего                         01       342913198.5   \n",
       "                   Муниципальные районы  01 600 000        92924547.8   \n",
       "                   Городские округа      01 700 000       249988650.7   \n",
       "Московская область Всего                         46      1412884618.6   \n",
       "                   Муниципальные районы  46 600 000       850362146.3   \n",
       "                   Городские округа      46 700 000       562522472.3   \n",
       "\n",
       "                                               Доходы Социальные выплаты  \n",
       "Алтайский край     Всего                  241197639.0        101715559.5  \n",
       "                   Муниципальные районы    46340970.7         46583577.0  \n",
       "                   Городские округа       194856668.3         55131982.5  \n",
       "Московская область Всего                 1104331594.0        308553024.6  \n",
       "                   Муниципальные районы   661139782.0        189222364.3  \n",
       "                   Городские округа       443191812.0        119330660.3  "
      ]
     },
     "execution_count": 80,
     "metadata": {},
     "output_type": "execute_result"
    }
   ],
   "source": [
    "get_data_two_level(\n",
    "    data=income_transferts_2011,\n",
    "    level0=['Алтайский край', 'Московская область'],\n",
    "    level1=['Всего', 'Муниципальные районы', 'Городские округа'],\n",
    "    kind='index')"
   ]
  },
  {
   "cell_type": "code",
   "execution_count": 81,
   "id": "61158479-4c38-4b8e-9704-8688e8b0ed4f",
   "metadata": {},
   "outputs": [],
   "source": [
    "datasets_list.append(income_transferts_2011)"
   ]
  },
  {
   "cell_type": "markdown",
   "id": "466ff035-a176-4174-9443-bffcd379c58c",
   "metadata": {},
   "source": [
    "#### <font color='#AF4035'>2012 год</font>"
   ]
  },
  {
   "cell_type": "markdown",
   "id": "dd249fcc-5c19-4afa-8b74-b0fdf5fef09e",
   "metadata": {},
   "source": [
    "##### Regions OKTMO codes"
   ]
  },
  {
   "cell_type": "code",
   "execution_count": 82,
   "id": "1dc7c012-1858-4b20-88cf-a4cf26902c2b",
   "metadata": {},
   "outputs": [],
   "source": [
    "path_2012 = \\\n",
    "    ('/Users/a.chasovsky/Library/CloudStorage/GoogleDrive-alexanderchasovsky@gmail.com/'\n",
    "     'Мой диск/Data Science Projects/pers_economics_rus/data/00-Region-codes/')\n",
    "os.chdir(path_2012)\n",
    "%run 2012.ipynb\n",
    "os.chdir(current_path)"
   ]
  },
  {
   "cell_type": "markdown",
   "id": "68b99b9e-b43f-4029-ad0f-c46775bab40e",
   "metadata": {},
   "source": [
    "##### Data"
   ]
  },
  {
   "cell_type": "code",
   "execution_count": 83,
   "id": "c9db4e46-e54c-45cf-9781-1076790a87db",
   "metadata": {},
   "outputs": [],
   "source": [
    "income_transferts_2012_link = \\\n",
    "    ('data/02-Population/02-Standard-of-living/01-Income/'\n",
    "     'urov-14a2012.xls')"
   ]
  },
  {
   "cell_type": "code",
   "execution_count": 84,
   "id": "9ec0b6ea-694a-4d49-b1fe-0b6c2d5b14ee",
   "metadata": {},
   "outputs": [],
   "source": [
    "income_transferts_2012_raw = pd.read_excel(income_transferts_2012_link)"
   ]
  },
  {
   "cell_type": "code",
   "execution_count": 85,
   "id": "d8e5d700-770a-42ca-8dc1-38983e284328",
   "metadata": {},
   "outputs": [
    {
     "data": {
      "text/html": [
       "<div>\n",
       "<style scoped>\n",
       "    .dataframe tbody tr th:only-of-type {\n",
       "        vertical-align: middle;\n",
       "    }\n",
       "\n",
       "    .dataframe tbody tr th {\n",
       "        vertical-align: top;\n",
       "    }\n",
       "\n",
       "    .dataframe thead th {\n",
       "        text-align: right;\n",
       "    }\n",
       "</style>\n",
       "<table border=\"1\" class=\"dataframe\">\n",
       "  <thead>\n",
       "    <tr style=\"text-align: right;\">\n",
       "      <th></th>\n",
       "      <th>Unnamed: 0</th>\n",
       "      <th>Unnamed: 1</th>\n",
       "      <th>Unnamed: 2</th>\n",
       "      <th>Unnamed: 3</th>\n",
       "      <th>Unnamed: 4</th>\n",
       "      <th>Unnamed: 5</th>\n",
       "      <th>Unnamed: 6</th>\n",
       "    </tr>\n",
       "  </thead>\n",
       "  <tbody>\n",
       "    <tr>\n",
       "      <th>0</th>\n",
       "      <td>\"Объем социальных выплат населению и налогооб...</td>\n",
       "      <td>NaN</td>\n",
       "      <td>NaN</td>\n",
       "      <td>NaN</td>\n",
       "      <td>NaN</td>\n",
       "      <td>NaN</td>\n",
       "      <td>NaN</td>\n",
       "    </tr>\n",
       "    <tr>\n",
       "      <th>1</th>\n",
       "      <td>NaN</td>\n",
       "      <td>NaN</td>\n",
       "      <td>NaN</td>\n",
       "      <td>NaN</td>\n",
       "      <td>NaN</td>\n",
       "      <td>NaN</td>\n",
       "      <td>NaN</td>\n",
       "    </tr>\n",
       "    <tr>\n",
       "      <th>2</th>\n",
       "      <td>NaN</td>\n",
       "      <td>NaN</td>\n",
       "      <td>Код ОКТМО</td>\n",
       "      <td>Налогооблагаемые денежные доходы физических ли...</td>\n",
       "      <td>Социальные и другие выплаты, тыс.рублей</td>\n",
       "      <td>Объем социальных выплат населению и налогообла...</td>\n",
       "      <td>Объем социальных выплат и налогооблагаемых ден...</td>\n",
       "    </tr>\n",
       "    <tr>\n",
       "      <th>3</th>\n",
       "      <td>NaN</td>\n",
       "      <td>NaN</td>\n",
       "      <td>1</td>\n",
       "      <td>2</td>\n",
       "      <td>3</td>\n",
       "      <td>4</td>\n",
       "      <td>5</td>\n",
       "    </tr>\n",
       "    <tr>\n",
       "      <th>4</th>\n",
       "      <td>NaN</td>\n",
       "      <td>Алтайский край</td>\n",
       "      <td>01</td>\n",
       "      <td>NaN</td>\n",
       "      <td>NaN</td>\n",
       "      <td>NaN</td>\n",
       "      <td>NaN</td>\n",
       "    </tr>\n",
       "    <tr>\n",
       "      <th>5</th>\n",
       "      <td>NaN</td>\n",
       "      <td>Муниципальные районы</td>\n",
       "      <td>01 600 000</td>\n",
       "      <td>50624588.047421</td>\n",
       "      <td>50214690.56262</td>\n",
       "      <td>100839278.610041</td>\n",
       "      <td>93639.957739</td>\n",
       "    </tr>\n",
       "    <tr>\n",
       "      <th>6</th>\n",
       "      <td>1</td>\n",
       "      <td>Алейский</td>\n",
       "      <td>01 601 000</td>\n",
       "      <td>656390.280557</td>\n",
       "      <td>665344.849647</td>\n",
       "      <td>1321735.130204</td>\n",
       "      <td>84688.609611</td>\n",
       "    </tr>\n",
       "    <tr>\n",
       "      <th>7</th>\n",
       "      <td>2</td>\n",
       "      <td>Алтайский</td>\n",
       "      <td>01 602 000</td>\n",
       "      <td>1576860.348383</td>\n",
       "      <td>1150522.195613</td>\n",
       "      <td>2727382.543995</td>\n",
       "      <td>105630.617506</td>\n",
       "    </tr>\n",
       "    <tr>\n",
       "      <th>8</th>\n",
       "      <td>3</td>\n",
       "      <td>Баевский</td>\n",
       "      <td>01 603 000</td>\n",
       "      <td>506281.097062</td>\n",
       "      <td>521166.373618</td>\n",
       "      <td>1027447.47068</td>\n",
       "      <td>99050.175521</td>\n",
       "    </tr>\n",
       "    <tr>\n",
       "      <th>9</th>\n",
       "      <td>4</td>\n",
       "      <td>Бийский</td>\n",
       "      <td>01 604 000</td>\n",
       "      <td>1148975.868953</td>\n",
       "      <td>1545738.537512</td>\n",
       "      <td>2694714.406465</td>\n",
       "      <td>80367.265329</td>\n",
       "    </tr>\n",
       "  </tbody>\n",
       "</table>\n",
       "</div>"
      ],
      "text/plain": [
       "                                          Unnamed: 0             Unnamed: 1  \\\n",
       "0   \"Объем социальных выплат населению и налогооб...                    NaN   \n",
       "1                                                NaN                    NaN   \n",
       "2                                                NaN                    NaN   \n",
       "3                                                NaN                    NaN   \n",
       "4                                                NaN         Алтайский край   \n",
       "5                                                NaN  Муниципальные районы    \n",
       "6                                                  1               Алейский   \n",
       "7                                                  2              Алтайский   \n",
       "8                                                  3               Баевский   \n",
       "9                                                  4                Бийский   \n",
       "\n",
       "   Unnamed: 2                                         Unnamed: 3  \\\n",
       "0         NaN                                                NaN   \n",
       "1         NaN                                                NaN   \n",
       "2   Код ОКТМО  Налогооблагаемые денежные доходы физических ли...   \n",
       "3           1                                                  2   \n",
       "4          01                                                NaN   \n",
       "5  01 600 000                                    50624588.047421   \n",
       "6  01 601 000                                      656390.280557   \n",
       "7  01 602 000                                     1576860.348383   \n",
       "8  01 603 000                                      506281.097062   \n",
       "9  01 604 000                                     1148975.868953   \n",
       "\n",
       "                                Unnamed: 4  \\\n",
       "0                                      NaN   \n",
       "1                                      NaN   \n",
       "2  Социальные и другие выплаты, тыс.рублей   \n",
       "3                                        3   \n",
       "4                                      NaN   \n",
       "5                           50214690.56262   \n",
       "6                            665344.849647   \n",
       "7                           1150522.195613   \n",
       "8                            521166.373618   \n",
       "9                           1545738.537512   \n",
       "\n",
       "                                          Unnamed: 5  \\\n",
       "0                                                NaN   \n",
       "1                                                NaN   \n",
       "2  Объем социальных выплат населению и налогообла...   \n",
       "3                                                  4   \n",
       "4                                                NaN   \n",
       "5                                   100839278.610041   \n",
       "6                                     1321735.130204   \n",
       "7                                     2727382.543995   \n",
       "8                                      1027447.47068   \n",
       "9                                     2694714.406465   \n",
       "\n",
       "                                          Unnamed: 6  \n",
       "0                                                NaN  \n",
       "1                                                NaN  \n",
       "2  Объем социальных выплат и налогооблагаемых ден...  \n",
       "3                                                  5  \n",
       "4                                                NaN  \n",
       "5                                       93639.957739  \n",
       "6                                       84688.609611  \n",
       "7                                      105630.617506  \n",
       "8                                       99050.175521  \n",
       "9                                       80367.265329  "
      ]
     },
     "execution_count": 85,
     "metadata": {},
     "output_type": "execute_result"
    }
   ],
   "source": [
    "income_transferts_2012_raw.head(10)"
   ]
  },
  {
   "cell_type": "code",
   "execution_count": 86,
   "id": "b3464066-5ec7-4547-89b0-cf59e1e55eca",
   "metadata": {},
   "outputs": [
    {
     "data": {
      "text/html": [
       "<div>\n",
       "<style scoped>\n",
       "    .dataframe tbody tr th:only-of-type {\n",
       "        vertical-align: middle;\n",
       "    }\n",
       "\n",
       "    .dataframe tbody tr th {\n",
       "        vertical-align: top;\n",
       "    }\n",
       "\n",
       "    .dataframe thead th {\n",
       "        text-align: right;\n",
       "    }\n",
       "</style>\n",
       "<table border=\"1\" class=\"dataframe\">\n",
       "  <thead>\n",
       "    <tr style=\"text-align: right;\">\n",
       "      <th></th>\n",
       "      <th>Unnamed: 0</th>\n",
       "      <th>Unnamed: 1</th>\n",
       "      <th>Unnamed: 2</th>\n",
       "      <th>Unnamed: 3</th>\n",
       "      <th>Unnamed: 4</th>\n",
       "      <th>Unnamed: 5</th>\n",
       "      <th>Unnamed: 6</th>\n",
       "    </tr>\n",
       "  </thead>\n",
       "  <tbody>\n",
       "    <tr>\n",
       "      <th>2634</th>\n",
       "      <td>NaN</td>\n",
       "      <td>NaN</td>\n",
       "      <td>NaN</td>\n",
       "      <td>NaN</td>\n",
       "      <td>NaN</td>\n",
       "      <td>NaN</td>\n",
       "      <td>NaN</td>\n",
       "    </tr>\n",
       "    <tr>\n",
       "      <th>2635</th>\n",
       "      <td>NaN</td>\n",
       "      <td>Еврейская автономная область</td>\n",
       "      <td>99</td>\n",
       "      <td>NaN</td>\n",
       "      <td>NaN</td>\n",
       "      <td>NaN</td>\n",
       "      <td>NaN</td>\n",
       "    </tr>\n",
       "    <tr>\n",
       "      <th>2636</th>\n",
       "      <td>NaN</td>\n",
       "      <td>Муниципальные районы</td>\n",
       "      <td>99600000</td>\n",
       "      <td>9832107.841731</td>\n",
       "      <td>4156179.546254</td>\n",
       "      <td>13988287.387985</td>\n",
       "      <td>143221.363872</td>\n",
       "    </tr>\n",
       "    <tr>\n",
       "      <th>2637</th>\n",
       "      <td>1</td>\n",
       "      <td>Биробиджанский</td>\n",
       "      <td>99605000</td>\n",
       "      <td>1219048.141402</td>\n",
       "      <td>519834.052221</td>\n",
       "      <td>1738882.193624</td>\n",
       "      <td>145330.730767</td>\n",
       "    </tr>\n",
       "    <tr>\n",
       "      <th>2638</th>\n",
       "      <td>2</td>\n",
       "      <td>Ленинский</td>\n",
       "      <td>99610000</td>\n",
       "      <td>1315161.697156</td>\n",
       "      <td>697282.492625</td>\n",
       "      <td>2012444.189782</td>\n",
       "      <td>100541.776068</td>\n",
       "    </tr>\n",
       "    <tr>\n",
       "      <th>2639</th>\n",
       "      <td>3</td>\n",
       "      <td>Облученский</td>\n",
       "      <td>99620000</td>\n",
       "      <td>4850010.001627</td>\n",
       "      <td>1301999.321632</td>\n",
       "      <td>6152009.323259</td>\n",
       "      <td>221678.05287</td>\n",
       "    </tr>\n",
       "    <tr>\n",
       "      <th>2640</th>\n",
       "      <td>4</td>\n",
       "      <td>Октябрьский</td>\n",
       "      <td>99625000</td>\n",
       "      <td>660611.905604</td>\n",
       "      <td>481984.245302</td>\n",
       "      <td>1142596.150906</td>\n",
       "      <td>105913.621701</td>\n",
       "    </tr>\n",
       "    <tr>\n",
       "      <th>2641</th>\n",
       "      <td>5</td>\n",
       "      <td>Смидовичский</td>\n",
       "      <td>99630000</td>\n",
       "      <td>1787276.095941</td>\n",
       "      <td>1155079.434474</td>\n",
       "      <td>2942355.530414</td>\n",
       "      <td>108382.036629</td>\n",
       "    </tr>\n",
       "    <tr>\n",
       "      <th>2642</th>\n",
       "      <td>NaN</td>\n",
       "      <td>Городские округа</td>\n",
       "      <td>99700000</td>\n",
       "      <td>15234962.658269</td>\n",
       "      <td>3786680.582426</td>\n",
       "      <td>19021643.240695</td>\n",
       "      <td>250703.718592</td>\n",
       "    </tr>\n",
       "    <tr>\n",
       "      <th>2643</th>\n",
       "      <td>1</td>\n",
       "      <td>г. Биробиджан</td>\n",
       "      <td>99701000</td>\n",
       "      <td>15234962.658269</td>\n",
       "      <td>3786680.582426</td>\n",
       "      <td>19021643.240695</td>\n",
       "      <td>250703.718592</td>\n",
       "    </tr>\n",
       "  </tbody>\n",
       "</table>\n",
       "</div>"
      ],
      "text/plain": [
       "     Unnamed: 0                     Unnamed: 1 Unnamed: 2       Unnamed: 3  \\\n",
       "2634        NaN                            NaN        NaN              NaN   \n",
       "2635        NaN  Еврейская автономная область          99              NaN   \n",
       "2636        NaN          Муниципальные районы    99600000   9832107.841731   \n",
       "2637          1                Биробиджанский    99605000   1219048.141402   \n",
       "2638          2                     Ленинский    99610000   1315161.697156   \n",
       "2639          3                   Облученский    99620000   4850010.001627   \n",
       "2640          4                    Октябрьский   99625000    660611.905604   \n",
       "2641          5                  Смидовичский    99630000   1787276.095941   \n",
       "2642        NaN              Городские округа    99700000  15234962.658269   \n",
       "2643          1                  г. Биробиджан   99701000  15234962.658269   \n",
       "\n",
       "          Unnamed: 4       Unnamed: 5     Unnamed: 6  \n",
       "2634             NaN              NaN            NaN  \n",
       "2635             NaN              NaN            NaN  \n",
       "2636  4156179.546254  13988287.387985  143221.363872  \n",
       "2637   519834.052221   1738882.193624  145330.730767  \n",
       "2638   697282.492625   2012444.189782  100541.776068  \n",
       "2639  1301999.321632   6152009.323259   221678.05287  \n",
       "2640   481984.245302   1142596.150906  105913.621701  \n",
       "2641  1155079.434474   2942355.530414  108382.036629  \n",
       "2642  3786680.582426  19021643.240695  250703.718592  \n",
       "2643  3786680.582426  19021643.240695  250703.718592  "
      ]
     },
     "execution_count": 86,
     "metadata": {},
     "output_type": "execute_result"
    }
   ],
   "source": [
    "income_transferts_2012_raw.tail(10)"
   ]
  },
  {
   "cell_type": "code",
   "execution_count": 87,
   "id": "512f36ac-f9f4-4f64-ac75-3c8dbf3d8790",
   "metadata": {},
   "outputs": [],
   "source": [
    "income_transferts_2012 = income_transferts_2012_raw.copy()"
   ]
  },
  {
   "cell_type": "markdown",
   "id": "589d7381-44e6-4fdd-b22f-db09c6a0a203",
   "metadata": {},
   "source": [
    "##### Rename columns and drop useless"
   ]
  },
  {
   "cell_type": "code",
   "execution_count": 88,
   "id": "37f7fbd1-f4a9-4541-b1fc-a1ea0b8310f1",
   "metadata": {},
   "outputs": [],
   "source": [
    "income_transferts_2012_columns = [\n",
    "    '-', 'index1', 'ОКТМО', 'Доходы', 'Социальные выплаты',\n",
    "    'Суммарные выплаты', 'Выплаты на 1 чел.'\n",
    "]"
   ]
  },
  {
   "cell_type": "code",
   "execution_count": 89,
   "id": "fa5536f8-23ca-4795-a14b-fcd1f0a0d78e",
   "metadata": {},
   "outputs": [],
   "source": [
    "income_transferts_2012.columns = income_transferts_2012_columns"
   ]
  },
  {
   "cell_type": "code",
   "execution_count": 90,
   "id": "7e75dad7-5174-4d8a-8689-4e5aa225fcee",
   "metadata": {},
   "outputs": [],
   "source": [
    "# drop useless columns with name '-'\n",
    "income_transferts_2012 = income_transferts_2012.drop('-', axis=1)"
   ]
  },
  {
   "cell_type": "markdown",
   "id": "38f21075-4f00-43fa-ab75-69d69769b632",
   "metadata": {},
   "source": [
    "##### Cut rows and drop NaNs"
   ]
  },
  {
   "cell_type": "code",
   "execution_count": 91,
   "id": "45b58f32-ed1f-4fce-9eae-1d0b3fdc66f3",
   "metadata": {},
   "outputs": [],
   "source": [
    "# cut rows\n",
    "income_transferts_2012 = transform_cut_rows(income_transferts_2012, 4, 0)"
   ]
  },
  {
   "cell_type": "code",
   "execution_count": 92,
   "id": "cf3ec999-9c45-4f85-85a1-f98d191e06d0",
   "metadata": {},
   "outputs": [],
   "source": [
    "# drop rows with NaNs in 'index0' column\n",
    "income_transferts_2012 = \\\n",
    "    income_transferts_2012[income_transferts_2012['index1'].notna()]"
   ]
  },
  {
   "cell_type": "markdown",
   "id": "f9624bcc-11e6-4943-abd8-3dfd0517f1d2",
   "metadata": {},
   "source": [
    "##### Normalize OKTMO"
   ]
  },
  {
   "cell_type": "code",
   "execution_count": 93,
   "id": "8d68a2c7-0c01-4b6e-8058-359ecbc4fdad",
   "metadata": {},
   "outputs": [],
   "source": [
    "# make OKTMO column values str\n",
    "income_transferts_2012['ОКТМО'] = income_transferts_2012['ОКТМО'].astype(str)"
   ]
  },
  {
   "cell_type": "code",
   "execution_count": 94,
   "id": "c5d40367-8c39-4125-a455-996902a80bc0",
   "metadata": {},
   "outputs": [],
   "source": [
    "# normalize oktmo - remove spaces and other dirt\n",
    "income_transferts_2012['ОКТМО'] = \\\n",
    "    income_transferts_2012['ОКТМО'].apply(lambda x: normalize_oktmo(x))"
   ]
  },
  {
   "cell_type": "markdown",
   "id": "ab7adb1a-c2d6-4b47-b973-eaa6fc45f2e2",
   "metadata": {},
   "source": [
    "##### Level0 for Multiindex"
   ]
  },
  {
   "cell_type": "code",
   "execution_count": 95,
   "id": "b4fdff7b-9949-4328-8924-db57015d9377",
   "metadata": {},
   "outputs": [],
   "source": [
    "# create index level0 column\n",
    "income_transferts_2012['index0'] = np.NaN"
   ]
  },
  {
   "cell_type": "code",
   "execution_count": 96,
   "id": "d003665f-da89-4adf-a054-992738946b7f",
   "metadata": {},
   "outputs": [],
   "source": [
    "# fill in by region with OKTMO in OKTMO column\n",
    "income_transferts_2012 = (income_transferts_2012\n",
    "                          .assign(index0=income_transferts_2012['ОКТМО']\n",
    "                                  .map(region_oktmo_norm_dict_sorted)\n",
    "                                  .fillna(income_transferts_2012['index0'])))"
   ]
  },
  {
   "cell_type": "code",
   "execution_count": 97,
   "id": "92172693-2a93-4571-8173-c2c1f267b82e",
   "metadata": {},
   "outputs": [],
   "source": [
    "# 1) 'Архангельская область' and \n",
    "# 'Ненецкий автономный округ (Архангельская область)' have the same OKTMO == 11\n",
    "# 2) 'Ненецкий автономный округ (Архангельская область)' index allways greater than index of \n",
    "# 'Архангельская область'\n",
    "# knowing this, we replace duplicate 'Архангельская область' by 'Ненецкий автономный округ (Архангельская область)'\n",
    "income_transferts_2012 = normalize_nenec(income_transferts_2012, 'index0')"
   ]
  },
  {
   "cell_type": "code",
   "execution_count": 98,
   "id": "52c99ff4-1710-42b9-90aa-3e7733e4aa00",
   "metadata": {},
   "outputs": [],
   "source": [
    "# the same correction for 'Тюменская область'\n",
    "income_transferts_2012 = normalize_khantymanci(income_transferts_2012, 'index0')"
   ]
  },
  {
   "cell_type": "code",
   "execution_count": 99,
   "id": "91749c51-98dc-49a0-b23a-4e479341e670",
   "metadata": {},
   "outputs": [],
   "source": [
    "# fill '-' values in index0 column\n",
    "income_transferts_2012 = transform_fill_values_by_previous(\n",
    "    income_transferts_2012, kind='column', column_name='index0')"
   ]
  },
  {
   "cell_type": "markdown",
   "id": "dfdc634b-fcf2-4f5c-a707-44ecb9b583a9",
   "metadata": {},
   "source": [
    "##### Level1 for Multiindex"
   ]
  },
  {
   "cell_type": "code",
   "execution_count": 100,
   "id": "d79bcf17-740f-4d5b-818f-37d1ad861730",
   "metadata": {},
   "outputs": [],
   "source": [
    "# change region name in 'index1' column to 'Всего'\n",
    "income_transferts_2012['index1'] = income_transferts_2012.apply(\n",
    "    lambda x: transferts_various(x['ОКТМО'], x['index1']), axis=1)"
   ]
  },
  {
   "cell_type": "code",
   "execution_count": 101,
   "id": "eeda14f8-2222-4ed4-ad8e-3536cbbb2db0",
   "metadata": {},
   "outputs": [],
   "source": [
    "# normalize 'Муниципальные районы' and 'Гордские округа' - remove spaces and other dirt\n",
    "income_transferts_2012['index1'] = \\\n",
    "    income_transferts_2012['index1'].apply(lambda x: normalize_municipal_town(x))"
   ]
  },
  {
   "cell_type": "markdown",
   "id": "592947f5-577c-4001-bf91-b813225bfb16",
   "metadata": {},
   "source": [
    "##### Fill rows with sum ('Всего')"
   ]
  },
  {
   "cell_type": "code",
   "execution_count": 102,
   "id": "da4cf17a-d41b-457f-9312-27d8d71340dd",
   "metadata": {},
   "outputs": [],
   "source": [
    "# columns for sum of 'Муниципальные районы' and 'Городские округа'\n",
    "columns_summary2012 = [\n",
    "    'Доходы', 'Социальные выплаты', 'Суммарные выплаты', 'Выплаты на 1 чел.']"
   ]
  },
  {
   "cell_type": "code",
   "execution_count": 103,
   "id": "c4174d88-afd1-4721-b82a-0aeb8de1a88b",
   "metadata": {},
   "outputs": [],
   "source": [
    "# create regions list\n",
    "regions_list2012 = list(set(income_transferts_2012['index0']))\n",
    "regions_list2012.sort()"
   ]
  },
  {
   "cell_type": "code",
   "execution_count": 104,
   "id": "0ae5db5d-8fce-4827-af21-06650591ce0c",
   "metadata": {},
   "outputs": [
    {
     "name": "stdout",
     "output_type": "stream",
     "text": [
      "Region Санкт-Петербург not in \"Minucipal-Town Dictionary\"\n"
     ]
    }
   ],
   "source": [
    "# count sum of 'Муниципальные районы' and 'Городские округа'\n",
    "income_transferts_2012 = calculate_sum_transferts(\n",
    "    data=income_transferts_2012,\n",
    "    columns=columns_summary2012,\n",
    "    regions=regions_list2012,\n",
    "    mapping_dict=municipal_town_dict)"
   ]
  },
  {
   "cell_type": "markdown",
   "id": "6ea55e7c-3e0b-4cbd-9eea-48475a5d625e",
   "metadata": {},
   "source": [
    "##### Count Regions"
   ]
  },
  {
   "cell_type": "code",
   "execution_count": 105,
   "id": "b5ffc0d0-87c8-4f6b-911b-4311a7f4f364",
   "metadata": {},
   "outputs": [
    {
     "data": {
      "text/plain": [
       "82"
      ]
     },
     "execution_count": 105,
     "metadata": {},
     "output_type": "execute_result"
    }
   ],
   "source": [
    "# count regions\n",
    "regions_count2012 = len(set(income_transferts_2012['index0'].values))\n",
    "regions_count2012"
   ]
  },
  {
   "cell_type": "markdown",
   "id": "b0b1f342-a46d-46ed-863a-754f7d6800fc",
   "metadata": {},
   "source": [
    "##### Create Multiindex"
   ]
  },
  {
   "cell_type": "code",
   "execution_count": 106,
   "id": "267c43c1-f281-4787-8d87-9d120027a363",
   "metadata": {},
   "outputs": [],
   "source": [
    "# columns to multiindex\n",
    "income_transferts_2012 = transform_make_index_from_columns(\n",
    "    income_transferts_2012, ['index0', 'index1'])"
   ]
  },
  {
   "cell_type": "code",
   "execution_count": 107,
   "id": "65484c2c-708b-4eca-a0cc-77e954c49248",
   "metadata": {},
   "outputs": [],
   "source": [
    "# drop columns, that became multiindexes\n",
    "income_transferts_2012 = income_transferts_2012.drop(['index0', 'index1'], axis=1)"
   ]
  },
  {
   "cell_type": "markdown",
   "id": "c3942a79-e79d-414b-9634-78d2719a04a9",
   "metadata": {},
   "source": [
    "##### Round (one symbol)"
   ]
  },
  {
   "cell_type": "code",
   "execution_count": 108,
   "id": "79d541c9-3366-47e6-8ef2-05e6b4a6e011",
   "metadata": {},
   "outputs": [],
   "source": [
    "# round\n",
    "for column in income_transferts_2012.columns:\n",
    "    try:\n",
    "        income_transferts_2012[column] = \\\n",
    "            income_transferts_2012[column].astype(float).round(1)\n",
    "    except ValueError:\n",
    "        pass"
   ]
  },
  {
   "cell_type": "markdown",
   "id": "177b64c7-ce9a-446d-ae83-3aa2b852ac6d",
   "metadata": {},
   "source": [
    "##### <font color='#2A5899'>2012 Check for Discrepancy</font>"
   ]
  },
  {
   "cell_type": "code",
   "execution_count": 109,
   "id": "dd34e201-bf5a-4823-801c-6a4998396cc9",
   "metadata": {},
   "outputs": [
    {
     "data": {
      "text/plain": [
       "False"
      ]
     },
     "execution_count": 109,
     "metadata": {},
     "output_type": "execute_result"
    }
   ],
   "source": [
    "# OKTMO check for NaN\n",
    "income_transferts_2012[income_transferts_2012['ОКТМО'].isna()].any().any()"
   ]
  },
  {
   "cell_type": "code",
   "execution_count": 110,
   "id": "0aeac2a1-8a76-4b6a-9f35-b21f524777c7",
   "metadata": {},
   "outputs": [
    {
     "data": {
      "text/plain": [
       "True"
      ]
     },
     "execution_count": 110,
     "metadata": {},
     "output_type": "execute_result"
    }
   ],
   "source": [
    "# all data check for NaN\n",
    "income_transferts_2012[income_transferts_2012.isna().any(axis=1)].any().any()"
   ]
  },
  {
   "cell_type": "code",
   "execution_count": 111,
   "id": "d9d23bc9-5a78-49c5-b616-f3f71b93e707",
   "metadata": {},
   "outputs": [
    {
     "data": {
      "text/html": [
       "<div>\n",
       "<style scoped>\n",
       "    .dataframe tbody tr th:only-of-type {\n",
       "        vertical-align: middle;\n",
       "    }\n",
       "\n",
       "    .dataframe tbody tr th {\n",
       "        vertical-align: top;\n",
       "    }\n",
       "\n",
       "    .dataframe thead th {\n",
       "        text-align: right;\n",
       "    }\n",
       "</style>\n",
       "<table border=\"1\" class=\"dataframe\">\n",
       "  <thead>\n",
       "    <tr style=\"text-align: right;\">\n",
       "      <th></th>\n",
       "      <th></th>\n",
       "      <th>ОКТМО</th>\n",
       "      <th>Доходы</th>\n",
       "      <th>Социальные выплаты</th>\n",
       "      <th>Суммарные выплаты</th>\n",
       "      <th>Выплаты на 1 чел.</th>\n",
       "    </tr>\n",
       "  </thead>\n",
       "  <tbody>\n",
       "    <tr>\n",
       "      <th>Иркутская область</th>\n",
       "      <th>г.Свирск</th>\n",
       "      <td>25 746 000</td>\n",
       "      <td>0.0</td>\n",
       "      <td>199437.7</td>\n",
       "      <td>199437.7</td>\n",
       "      <td>15078.1</td>\n",
       "    </tr>\n",
       "  </tbody>\n",
       "</table>\n",
       "</div>"
      ],
      "text/plain": [
       "                                 ОКТМО  Доходы  Социальные выплаты  \\\n",
       "Иркутская область г.Свирск  25 746 000     0.0            199437.7   \n",
       "\n",
       "                            Суммарные выплаты  Выплаты на 1 чел.  \n",
       "Иркутская область г.Свирск           199437.7            15078.1  "
      ]
     },
     "execution_count": 111,
     "metadata": {},
     "output_type": "execute_result"
    }
   ],
   "source": [
    "income_transferts_2012[income_transferts_2012['Доходы'] == 0]"
   ]
  },
  {
   "cell_type": "code",
   "execution_count": 112,
   "id": "f79269cc-a64b-43cf-81b3-cf6625983eca",
   "metadata": {},
   "outputs": [
    {
     "data": {
      "text/html": [
       "<div>\n",
       "<style scoped>\n",
       "    .dataframe tbody tr th:only-of-type {\n",
       "        vertical-align: middle;\n",
       "    }\n",
       "\n",
       "    .dataframe tbody tr th {\n",
       "        vertical-align: top;\n",
       "    }\n",
       "\n",
       "    .dataframe thead th {\n",
       "        text-align: right;\n",
       "    }\n",
       "</style>\n",
       "<table border=\"1\" class=\"dataframe\">\n",
       "  <thead>\n",
       "    <tr style=\"text-align: right;\">\n",
       "      <th></th>\n",
       "      <th></th>\n",
       "      <th>ОКТМО</th>\n",
       "      <th>Доходы</th>\n",
       "      <th>Социальные выплаты</th>\n",
       "      <th>Суммарные выплаты</th>\n",
       "      <th>Выплаты на 1 чел.</th>\n",
       "    </tr>\n",
       "  </thead>\n",
       "  <tbody>\n",
       "  </tbody>\n",
       "</table>\n",
       "</div>"
      ],
      "text/plain": [
       "Empty DataFrame\n",
       "Columns: [ОКТМО, Доходы, Социальные выплаты, Суммарные выплаты, Выплаты на 1 чел.]\n",
       "Index: []"
      ]
     },
     "execution_count": 112,
     "metadata": {},
     "output_type": "execute_result"
    }
   ],
   "source": [
    "income_transferts_2012[income_transferts_2012['Социальные выплаты'] == 0]"
   ]
  },
  {
   "cell_type": "code",
   "execution_count": 113,
   "id": "c9451898-6d5a-4f0f-b569-6ffb300a9eb6",
   "metadata": {},
   "outputs": [
    {
     "data": {
      "text/html": [
       "<div>\n",
       "<style scoped>\n",
       "    .dataframe tbody tr th:only-of-type {\n",
       "        vertical-align: middle;\n",
       "    }\n",
       "\n",
       "    .dataframe tbody tr th {\n",
       "        vertical-align: top;\n",
       "    }\n",
       "\n",
       "    .dataframe thead th {\n",
       "        text-align: right;\n",
       "    }\n",
       "</style>\n",
       "<table border=\"1\" class=\"dataframe\">\n",
       "  <thead>\n",
       "    <tr style=\"text-align: right;\">\n",
       "      <th></th>\n",
       "      <th></th>\n",
       "      <th>ОКТМО</th>\n",
       "      <th>Доходы</th>\n",
       "      <th>Социальные выплаты</th>\n",
       "      <th>Суммарные выплаты</th>\n",
       "      <th>Выплаты на 1 чел.</th>\n",
       "    </tr>\n",
       "  </thead>\n",
       "  <tbody>\n",
       "  </tbody>\n",
       "</table>\n",
       "</div>"
      ],
      "text/plain": [
       "Empty DataFrame\n",
       "Columns: [ОКТМО, Доходы, Социальные выплаты, Суммарные выплаты, Выплаты на 1 чел.]\n",
       "Index: []"
      ]
     },
     "execution_count": 113,
     "metadata": {},
     "output_type": "execute_result"
    }
   ],
   "source": [
    "income_transferts_2012[income_transferts_2012['Суммарные выплаты'] == 0]"
   ]
  },
  {
   "cell_type": "code",
   "execution_count": 114,
   "id": "76da82bd-43cf-46d2-8bfc-96a969b80fb2",
   "metadata": {},
   "outputs": [
    {
     "data": {
      "text/html": [
       "<div>\n",
       "<style scoped>\n",
       "    .dataframe tbody tr th:only-of-type {\n",
       "        vertical-align: middle;\n",
       "    }\n",
       "\n",
       "    .dataframe tbody tr th {\n",
       "        vertical-align: top;\n",
       "    }\n",
       "\n",
       "    .dataframe thead th {\n",
       "        text-align: right;\n",
       "    }\n",
       "</style>\n",
       "<table border=\"1\" class=\"dataframe\">\n",
       "  <thead>\n",
       "    <tr style=\"text-align: right;\">\n",
       "      <th></th>\n",
       "      <th></th>\n",
       "      <th>ОКТМО</th>\n",
       "      <th>Доходы</th>\n",
       "      <th>Социальные выплаты</th>\n",
       "      <th>Суммарные выплаты</th>\n",
       "      <th>Выплаты на 1 чел.</th>\n",
       "    </tr>\n",
       "  </thead>\n",
       "  <tbody>\n",
       "  </tbody>\n",
       "</table>\n",
       "</div>"
      ],
      "text/plain": [
       "Empty DataFrame\n",
       "Columns: [ОКТМО, Доходы, Социальные выплаты, Суммарные выплаты, Выплаты на 1 чел.]\n",
       "Index: []"
      ]
     },
     "execution_count": 114,
     "metadata": {},
     "output_type": "execute_result"
    }
   ],
   "source": [
    "income_transferts_2012[income_transferts_2012['Выплаты на 1 чел.'] == 0]"
   ]
  },
  {
   "cell_type": "code",
   "execution_count": 115,
   "id": "10709708-925f-4454-8418-7157b449545c",
   "metadata": {},
   "outputs": [
    {
     "data": {
      "text/html": [
       "<div>\n",
       "<style scoped>\n",
       "    .dataframe tbody tr th:only-of-type {\n",
       "        vertical-align: middle;\n",
       "    }\n",
       "\n",
       "    .dataframe tbody tr th {\n",
       "        vertical-align: top;\n",
       "    }\n",
       "\n",
       "    .dataframe thead th {\n",
       "        text-align: right;\n",
       "    }\n",
       "</style>\n",
       "<table border=\"1\" class=\"dataframe\">\n",
       "  <thead>\n",
       "    <tr style=\"text-align: right;\">\n",
       "      <th></th>\n",
       "      <th></th>\n",
       "      <th>ОКТМО</th>\n",
       "      <th>Доходы</th>\n",
       "      <th>Социальные выплаты</th>\n",
       "      <th>Суммарные выплаты</th>\n",
       "      <th>Выплаты на 1 чел.</th>\n",
       "    </tr>\n",
       "  </thead>\n",
       "  <tbody>\n",
       "    <tr>\n",
       "      <th>Тюменская область</th>\n",
       "      <th>Всего</th>\n",
       "      <td>71</td>\n",
       "      <td>253938964.1</td>\n",
       "      <td>65538442.9</td>\n",
       "      <td>319477407.0</td>\n",
       "      <td>413988.2</td>\n",
       "    </tr>\n",
       "    <tr>\n",
       "      <th>Ханты-Мансийский автономный округ - Югра (Тюменская область)</th>\n",
       "      <th>Всего</th>\n",
       "      <td>71</td>\n",
       "      <td>731329664.0</td>\n",
       "      <td>95417787.8</td>\n",
       "      <td>826747451.8</td>\n",
       "      <td>1040050.6</td>\n",
       "    </tr>\n",
       "    <tr>\n",
       "      <th>Ямало-Ненецкий автономный округ (Тюменская область)</th>\n",
       "      <th>Всего</th>\n",
       "      <td>71</td>\n",
       "      <td>303687048.2</td>\n",
       "      <td>34685584.9</td>\n",
       "      <td>338372633.2</td>\n",
       "      <td>1364070.9</td>\n",
       "    </tr>\n",
       "  </tbody>\n",
       "</table>\n",
       "</div>"
      ],
      "text/plain": [
       "                                                         ОКТМО       Доходы  \\\n",
       "Тюменская область                                  Всего    71  253938964.1   \n",
       "Ханты-Мансийский автономный округ - Югра (Тюмен... Всего    71  731329664.0   \n",
       "Ямало-Ненецкий автономный округ (Тюменская обла... Всего    71  303687048.2   \n",
       "\n",
       "                                                          Социальные выплаты  \\\n",
       "Тюменская область                                  Всего          65538442.9   \n",
       "Ханты-Мансийский автономный округ - Югра (Тюмен... Всего          95417787.8   \n",
       "Ямало-Ненецкий автономный округ (Тюменская обла... Всего          34685584.9   \n",
       "\n",
       "                                                          Суммарные выплаты  \\\n",
       "Тюменская область                                  Всего        319477407.0   \n",
       "Ханты-Мансийский автономный округ - Югра (Тюмен... Всего        826747451.8   \n",
       "Ямало-Ненецкий автономный округ (Тюменская обла... Всего        338372633.2   \n",
       "\n",
       "                                                          Выплаты на 1 чел.  \n",
       "Тюменская область                                  Всего           413988.2  \n",
       "Ханты-Мансийский автономный округ - Югра (Тюмен... Всего          1040050.6  \n",
       "Ямало-Ненецкий автономный округ (Тюменская обла... Всего          1364070.9  "
      ]
     },
     "execution_count": 115,
     "metadata": {},
     "output_type": "execute_result"
    }
   ],
   "source": [
    "income_transferts_2012[income_transferts_2012['ОКТМО'] == '71']"
   ]
  },
  {
   "cell_type": "code",
   "execution_count": 116,
   "id": "34407b4f-ff83-4c95-b203-3c11f128543d",
   "metadata": {},
   "outputs": [
    {
     "data": {
      "text/html": [
       "<div>\n",
       "<style scoped>\n",
       "    .dataframe tbody tr th:only-of-type {\n",
       "        vertical-align: middle;\n",
       "    }\n",
       "\n",
       "    .dataframe tbody tr th {\n",
       "        vertical-align: top;\n",
       "    }\n",
       "\n",
       "    .dataframe thead th {\n",
       "        text-align: right;\n",
       "    }\n",
       "</style>\n",
       "<table border=\"1\" class=\"dataframe\">\n",
       "  <thead>\n",
       "    <tr style=\"text-align: right;\">\n",
       "      <th></th>\n",
       "      <th></th>\n",
       "      <th>ОКТМО</th>\n",
       "      <th>Доходы</th>\n",
       "      <th>Социальные выплаты</th>\n",
       "      <th>Суммарные выплаты</th>\n",
       "      <th>Выплаты на 1 чел.</th>\n",
       "    </tr>\n",
       "  </thead>\n",
       "  <tbody>\n",
       "    <tr>\n",
       "      <th>Архангельская область</th>\n",
       "      <th>Всего</th>\n",
       "      <td>11</td>\n",
       "      <td>184116980.0</td>\n",
       "      <td>82476202.3</td>\n",
       "      <td>266593182.3</td>\n",
       "      <td>433861.5</td>\n",
       "    </tr>\n",
       "    <tr>\n",
       "      <th>Ненецкий автономный округ (Архангельская область)</th>\n",
       "      <th>Всего</th>\n",
       "      <td>11</td>\n",
       "      <td>46435432.0</td>\n",
       "      <td>7865292.3</td>\n",
       "      <td>54300724.3</td>\n",
       "      <td>2538953.5</td>\n",
       "    </tr>\n",
       "  </tbody>\n",
       "</table>\n",
       "</div>"
      ],
      "text/plain": [
       "                                                        ОКТМО       Доходы  \\\n",
       "Архангельская область                             Всего    11  184116980.0   \n",
       "Ненецкий автономный округ (Архангельская область) Всего    11   46435432.0   \n",
       "\n",
       "                                                         Социальные выплаты  \\\n",
       "Архангельская область                             Всего          82476202.3   \n",
       "Ненецкий автономный округ (Архангельская область) Всего           7865292.3   \n",
       "\n",
       "                                                         Суммарные выплаты  \\\n",
       "Архангельская область                             Всего        266593182.3   \n",
       "Ненецкий автономный округ (Архангельская область) Всего         54300724.3   \n",
       "\n",
       "                                                         Выплаты на 1 чел.  \n",
       "Архангельская область                             Всего           433861.5  \n",
       "Ненецкий автономный округ (Архангельская область) Всего          2538953.5  "
      ]
     },
     "execution_count": 116,
     "metadata": {},
     "output_type": "execute_result"
    }
   ],
   "source": [
    "income_transferts_2012[income_transferts_2012['ОКТМО'] == '11']"
   ]
  },
  {
   "cell_type": "code",
   "execution_count": 117,
   "id": "d07abc83-147d-4c6e-a668-cd875dfec143",
   "metadata": {},
   "outputs": [
    {
     "data": {
      "text/plain": [
       "['Ненецкий автономный округ (Архангельская область)']"
      ]
     },
     "execution_count": 117,
     "metadata": {},
     "output_type": "execute_result"
    }
   ],
   "source": [
    "# check if there are duplications in municipal, town and others OKTMO\n",
    "check_oktmo_2012_dupl_list = check_oktmo_duplication(\n",
    "    data=income_transferts_2012, \n",
    "    column_check='ОКТМО',\n",
    "    normalize_oktmo_list=municipal_town_dict)\n",
    "\n",
    "check_oktmo_2012_dupl_list"
   ]
  },
  {
   "cell_type": "code",
   "execution_count": 118,
   "id": "7925e950-5b81-4b23-bbdb-784022028dd4",
   "metadata": {},
   "outputs": [
    {
     "data": {
      "text/html": [
       "<div>\n",
       "<style scoped>\n",
       "    .dataframe tbody tr th:only-of-type {\n",
       "        vertical-align: middle;\n",
       "    }\n",
       "\n",
       "    .dataframe tbody tr th {\n",
       "        vertical-align: top;\n",
       "    }\n",
       "\n",
       "    .dataframe thead th {\n",
       "        text-align: right;\n",
       "    }\n",
       "</style>\n",
       "<table border=\"1\" class=\"dataframe\">\n",
       "  <thead>\n",
       "    <tr style=\"text-align: right;\">\n",
       "      <th></th>\n",
       "      <th></th>\n",
       "      <th>ОКТМО</th>\n",
       "      <th>Доходы</th>\n",
       "      <th>Социальные выплаты</th>\n",
       "      <th>Суммарные выплаты</th>\n",
       "      <th>Выплаты на 1 чел.</th>\n",
       "    </tr>\n",
       "  </thead>\n",
       "  <tbody>\n",
       "    <tr>\n",
       "      <th rowspan=\"2\" valign=\"top\">Алтайский край</th>\n",
       "      <th>Муниципальные районы</th>\n",
       "      <td>01 600 000</td>\n",
       "      <td>50624588.0</td>\n",
       "      <td>50214690.6</td>\n",
       "      <td>100839278.6</td>\n",
       "      <td>93640.0</td>\n",
       "    </tr>\n",
       "    <tr>\n",
       "      <th>Городские округа</th>\n",
       "      <td>01 700 000</td>\n",
       "      <td>142422952.0</td>\n",
       "      <td>58505288.4</td>\n",
       "      <td>200928240.4</td>\n",
       "      <td>151517.4</td>\n",
       "    </tr>\n",
       "  </tbody>\n",
       "</table>\n",
       "</div>"
      ],
      "text/plain": [
       "                                          ОКТМО       Доходы  \\\n",
       "Алтайский край Муниципальные районы  01 600 000   50624588.0   \n",
       "               Городские округа      01 700 000  142422952.0   \n",
       "\n",
       "                                     Социальные выплаты  Суммарные выплаты  \\\n",
       "Алтайский край Муниципальные районы          50214690.6        100839278.6   \n",
       "               Городские округа              58505288.4        200928240.4   \n",
       "\n",
       "                                     Выплаты на 1 чел.  \n",
       "Алтайский край Муниципальные районы            93640.0  \n",
       "               Городские округа               151517.4  "
      ]
     },
     "execution_count": 118,
     "metadata": {},
     "output_type": "execute_result"
    }
   ],
   "source": [
    "(income_transferts_2012\n",
    " .loc[income_transferts_2012['ОКТМО']\n",
    " .isin(municipal_town_dict['Алтайский край'])])"
   ]
  },
  {
   "cell_type": "markdown",
   "id": "e7640a18-09f2-40b0-a0b7-cb74357d3f02",
   "metadata": {},
   "source": [
    "##### <font color='#2A5899'>2012 Final Result</font>"
   ]
  },
  {
   "cell_type": "code",
   "execution_count": 119,
   "id": "f36739f4-128d-4068-88cc-fcd02881431f",
   "metadata": {},
   "outputs": [
    {
     "data": {
      "text/html": [
       "<div>\n",
       "<style scoped>\n",
       "    .dataframe tbody tr th:only-of-type {\n",
       "        vertical-align: middle;\n",
       "    }\n",
       "\n",
       "    .dataframe tbody tr th {\n",
       "        vertical-align: top;\n",
       "    }\n",
       "\n",
       "    .dataframe thead th {\n",
       "        text-align: right;\n",
       "    }\n",
       "</style>\n",
       "<table border=\"1\" class=\"dataframe\">\n",
       "  <thead>\n",
       "    <tr style=\"text-align: right;\">\n",
       "      <th></th>\n",
       "      <th></th>\n",
       "      <th>ОКТМО</th>\n",
       "      <th>Доходы</th>\n",
       "      <th>Социальные выплаты</th>\n",
       "      <th>Суммарные выплаты</th>\n",
       "      <th>Выплаты на 1 чел.</th>\n",
       "    </tr>\n",
       "  </thead>\n",
       "  <tbody>\n",
       "    <tr>\n",
       "      <th rowspan=\"5\" valign=\"top\">Алтайский край</th>\n",
       "      <th>Всего</th>\n",
       "      <td>01</td>\n",
       "      <td>193047540.0</td>\n",
       "      <td>108719979.0</td>\n",
       "      <td>301767519.0</td>\n",
       "      <td>245157.3</td>\n",
       "    </tr>\n",
       "    <tr>\n",
       "      <th>Муниципальные районы</th>\n",
       "      <td>01 600 000</td>\n",
       "      <td>50624588.0</td>\n",
       "      <td>50214690.6</td>\n",
       "      <td>100839278.6</td>\n",
       "      <td>93640.0</td>\n",
       "    </tr>\n",
       "    <tr>\n",
       "      <th>Алейский</th>\n",
       "      <td>01 601 000</td>\n",
       "      <td>656390.3</td>\n",
       "      <td>665344.8</td>\n",
       "      <td>1321735.1</td>\n",
       "      <td>84688.6</td>\n",
       "    </tr>\n",
       "    <tr>\n",
       "      <th>Алтайский</th>\n",
       "      <td>01 602 000</td>\n",
       "      <td>1576860.3</td>\n",
       "      <td>1150522.2</td>\n",
       "      <td>2727382.5</td>\n",
       "      <td>105630.6</td>\n",
       "    </tr>\n",
       "    <tr>\n",
       "      <th>Баевский</th>\n",
       "      <td>01 603 000</td>\n",
       "      <td>506281.1</td>\n",
       "      <td>521166.4</td>\n",
       "      <td>1027447.5</td>\n",
       "      <td>99050.2</td>\n",
       "    </tr>\n",
       "  </tbody>\n",
       "</table>\n",
       "</div>"
      ],
      "text/plain": [
       "                                          ОКТМО       Доходы  \\\n",
       "Алтайский край Всего                         01  193047540.0   \n",
       "               Муниципальные районы  01 600 000   50624588.0   \n",
       "               Алейский              01 601 000     656390.3   \n",
       "               Алтайский             01 602 000    1576860.3   \n",
       "               Баевский              01 603 000     506281.1   \n",
       "\n",
       "                                     Социальные выплаты  Суммарные выплаты  \\\n",
       "Алтайский край Всего                        108719979.0        301767519.0   \n",
       "               Муниципальные районы          50214690.6        100839278.6   \n",
       "               Алейский                        665344.8          1321735.1   \n",
       "               Алтайский                      1150522.2          2727382.5   \n",
       "               Баевский                        521166.4          1027447.5   \n",
       "\n",
       "                                     Выплаты на 1 чел.  \n",
       "Алтайский край Всего                          245157.3  \n",
       "               Муниципальные районы            93640.0  \n",
       "               Алейский                        84688.6  \n",
       "               Алтайский                      105630.6  \n",
       "               Баевский                        99050.2  "
      ]
     },
     "execution_count": 119,
     "metadata": {},
     "output_type": "execute_result"
    }
   ],
   "source": [
    "income_transferts_2012.head()"
   ]
  },
  {
   "cell_type": "code",
   "execution_count": 120,
   "id": "27f686df-40aa-4156-860f-03e29833e534",
   "metadata": {},
   "outputs": [
    {
     "data": {
      "text/html": [
       "<div>\n",
       "<style scoped>\n",
       "    .dataframe tbody tr th:only-of-type {\n",
       "        vertical-align: middle;\n",
       "    }\n",
       "\n",
       "    .dataframe tbody tr th {\n",
       "        vertical-align: top;\n",
       "    }\n",
       "\n",
       "    .dataframe thead th {\n",
       "        text-align: right;\n",
       "    }\n",
       "</style>\n",
       "<table border=\"1\" class=\"dataframe\">\n",
       "  <thead>\n",
       "    <tr style=\"text-align: right;\">\n",
       "      <th></th>\n",
       "      <th>ОКТМО</th>\n",
       "      <th>Доходы</th>\n",
       "      <th>Социальные выплаты</th>\n",
       "      <th>Суммарные выплаты</th>\n",
       "      <th>Выплаты на 1 чел.</th>\n",
       "    </tr>\n",
       "  </thead>\n",
       "  <tbody>\n",
       "    <tr>\n",
       "      <th>Всего</th>\n",
       "      <td>46</td>\n",
       "      <td>1178230608.0</td>\n",
       "      <td>352392692.8</td>\n",
       "      <td>1530623300.8</td>\n",
       "      <td>441876.5</td>\n",
       "    </tr>\n",
       "  </tbody>\n",
       "</table>\n",
       "</div>"
      ],
      "text/plain": [
       "      ОКТМО        Доходы Социальные выплаты Суммарные выплаты  \\\n",
       "Всего    46  1178230608.0        352392692.8      1530623300.8   \n",
       "\n",
       "      Выплаты на 1 чел.  \n",
       "Всего          441876.5  "
      ]
     },
     "execution_count": 120,
     "metadata": {},
     "output_type": "execute_result"
    }
   ],
   "source": [
    "get_data_two_level(\n",
    "    data=income_transferts_2012,\n",
    "    level0='Московская область',\n",
    "    level1='Всего',\n",
    "    kind='index')"
   ]
  },
  {
   "cell_type": "code",
   "execution_count": 121,
   "id": "e2492a28-7da1-4981-8a18-adbc5e14ac91",
   "metadata": {},
   "outputs": [],
   "source": [
    "datasets_list.append(income_transferts_2012)"
   ]
  },
  {
   "cell_type": "markdown",
   "id": "2732a8fa-1147-4545-aebc-6c86e7525ac8",
   "metadata": {},
   "source": [
    "#### <font color='#AF4035'>2013 год</font>"
   ]
  },
  {
   "cell_type": "markdown",
   "id": "5662646d-61d8-48e7-a1ae-ff50fcae1594",
   "metadata": {},
   "source": [
    "##### Regions OKTMO codes"
   ]
  },
  {
   "cell_type": "code",
   "execution_count": 122,
   "id": "80e44ace-7544-42c3-9166-cd3e4ae4aed2",
   "metadata": {},
   "outputs": [],
   "source": [
    "path_2013 = \\\n",
    "    ('/Users/a.chasovsky/Library/CloudStorage/GoogleDrive-alexanderchasovsky@gmail.com/'\n",
    "     'Мой диск/Data Science Projects/pers_economics_rus/data/00-Region-codes/')\n",
    "os.chdir(path_2013)\n",
    "%run 2013.ipynb\n",
    "os.chdir(current_path)"
   ]
  },
  {
   "cell_type": "markdown",
   "id": "b3c6cbe0-4d3d-4edb-87ae-382caa048274",
   "metadata": {},
   "source": [
    "##### Data"
   ]
  },
  {
   "cell_type": "code",
   "execution_count": 123,
   "id": "7e87d2d2-5c94-4b58-ab6c-776793ef2f01",
   "metadata": {},
   "outputs": [],
   "source": [
    "income_transferts_2013_link = \\\n",
    "    ('data/02-Population/02-Standard-of-living/01-Income/'\n",
    "     'urov-14a2013.xls')"
   ]
  },
  {
   "cell_type": "code",
   "execution_count": 124,
   "id": "50248c58-5306-47d4-babb-bbf70dfd8056",
   "metadata": {},
   "outputs": [],
   "source": [
    "income_transferts_2013_raw = pd.read_excel(income_transferts_2013_link)"
   ]
  },
  {
   "cell_type": "code",
   "execution_count": 125,
   "id": "f31d6071-ba71-4cb7-b447-df85014b599b",
   "metadata": {},
   "outputs": [
    {
     "data": {
      "text/html": [
       "<div>\n",
       "<style scoped>\n",
       "    .dataframe tbody tr th:only-of-type {\n",
       "        vertical-align: middle;\n",
       "    }\n",
       "\n",
       "    .dataframe tbody tr th {\n",
       "        vertical-align: top;\n",
       "    }\n",
       "\n",
       "    .dataframe thead th {\n",
       "        text-align: right;\n",
       "    }\n",
       "</style>\n",
       "<table border=\"1\" class=\"dataframe\">\n",
       "  <thead>\n",
       "    <tr style=\"text-align: right;\">\n",
       "      <th></th>\n",
       "      <th>Unnamed: 0</th>\n",
       "      <th>Unnamed: 1</th>\n",
       "      <th>Unnamed: 2</th>\n",
       "      <th>Unnamed: 3</th>\n",
       "      <th>Unnamed: 4</th>\n",
       "      <th>Unnamed: 5</th>\n",
       "      <th>Unnamed: 6</th>\n",
       "    </tr>\n",
       "  </thead>\n",
       "  <tbody>\n",
       "    <tr>\n",
       "      <th>0</th>\n",
       "      <td>\"Объем социальных выплат населению и налогооб...</td>\n",
       "      <td>NaN</td>\n",
       "      <td>NaN</td>\n",
       "      <td>NaN</td>\n",
       "      <td>NaN</td>\n",
       "      <td>NaN</td>\n",
       "      <td>NaN</td>\n",
       "    </tr>\n",
       "    <tr>\n",
       "      <th>1</th>\n",
       "      <td>NaN</td>\n",
       "      <td>NaN</td>\n",
       "      <td>NaN</td>\n",
       "      <td>NaN</td>\n",
       "      <td>NaN</td>\n",
       "      <td>NaN</td>\n",
       "      <td>NaN</td>\n",
       "    </tr>\n",
       "    <tr>\n",
       "      <th>2</th>\n",
       "      <td>NaN</td>\n",
       "      <td>NaN</td>\n",
       "      <td>Код ОКТМО</td>\n",
       "      <td>Налогооблагаемые денежные доходы физических ли...</td>\n",
       "      <td>Социальные и другие выплаты, тыс.рублей</td>\n",
       "      <td>Объем социальных выплат населению и налогообла...</td>\n",
       "      <td>Объем социальных выплат и налогооблагаемых ден...</td>\n",
       "    </tr>\n",
       "    <tr>\n",
       "      <th>3</th>\n",
       "      <td>NaN</td>\n",
       "      <td>NaN</td>\n",
       "      <td>1</td>\n",
       "      <td>2</td>\n",
       "      <td>3</td>\n",
       "      <td>4</td>\n",
       "      <td>5</td>\n",
       "    </tr>\n",
       "    <tr>\n",
       "      <th>4</th>\n",
       "      <td>NaN</td>\n",
       "      <td>Алтайский край</td>\n",
       "      <td>01</td>\n",
       "      <td>NaN</td>\n",
       "      <td>NaN</td>\n",
       "      <td>NaN</td>\n",
       "      <td>NaN</td>\n",
       "    </tr>\n",
       "    <tr>\n",
       "      <th>5</th>\n",
       "      <td>NaN</td>\n",
       "      <td>Муниципальные районы</td>\n",
       "      <td>01 600 000</td>\n",
       "      <td>54597561.905445</td>\n",
       "      <td>57995716.76011</td>\n",
       "      <td>112593278.665555</td>\n",
       "      <td>105816.474208</td>\n",
       "    </tr>\n",
       "    <tr>\n",
       "      <th>6</th>\n",
       "      <td>1</td>\n",
       "      <td>Алейский</td>\n",
       "      <td>01 601 000</td>\n",
       "      <td>746209.968536</td>\n",
       "      <td>770101.451626</td>\n",
       "      <td>1516311.420163</td>\n",
       "      <td>99456.34397</td>\n",
       "    </tr>\n",
       "    <tr>\n",
       "      <th>7</th>\n",
       "      <td>2</td>\n",
       "      <td>Алтайский</td>\n",
       "      <td>01 602 000</td>\n",
       "      <td>1561849.131594</td>\n",
       "      <td>1309969.785414</td>\n",
       "      <td>2871818.917008</td>\n",
       "      <td>110833.966926</td>\n",
       "    </tr>\n",
       "    <tr>\n",
       "      <th>8</th>\n",
       "      <td>3</td>\n",
       "      <td>Баевский</td>\n",
       "      <td>01 603 000</td>\n",
       "      <td>476578.519131</td>\n",
       "      <td>598545.885224</td>\n",
       "      <td>1075124.404355</td>\n",
       "      <td>106680.333832</td>\n",
       "    </tr>\n",
       "    <tr>\n",
       "      <th>9</th>\n",
       "      <td>4</td>\n",
       "      <td>Бийский</td>\n",
       "      <td>01 604 000</td>\n",
       "      <td>1314510.906119</td>\n",
       "      <td>1859907.002281</td>\n",
       "      <td>3174417.9084</td>\n",
       "      <td>95993.767831</td>\n",
       "    </tr>\n",
       "  </tbody>\n",
       "</table>\n",
       "</div>"
      ],
      "text/plain": [
       "                                          Unnamed: 0             Unnamed: 1  \\\n",
       "0   \"Объем социальных выплат населению и налогооб...                    NaN   \n",
       "1                                                NaN                    NaN   \n",
       "2                                                NaN                    NaN   \n",
       "3                                                NaN                    NaN   \n",
       "4                                                NaN        Алтайский край    \n",
       "5                                                NaN  Муниципальные районы    \n",
       "6                                                  1               Алейский   \n",
       "7                                                  2              Алтайский   \n",
       "8                                                  3               Баевский   \n",
       "9                                                  4                Бийский   \n",
       "\n",
       "   Unnamed: 2                                         Unnamed: 3  \\\n",
       "0         NaN                                                NaN   \n",
       "1         NaN                                                NaN   \n",
       "2   Код ОКТМО  Налогооблагаемые денежные доходы физических ли...   \n",
       "3           1                                                  2   \n",
       "4          01                                                NaN   \n",
       "5  01 600 000                                    54597561.905445   \n",
       "6  01 601 000                                      746209.968536   \n",
       "7  01 602 000                                     1561849.131594   \n",
       "8  01 603 000                                      476578.519131   \n",
       "9  01 604 000                                     1314510.906119   \n",
       "\n",
       "                                Unnamed: 4  \\\n",
       "0                                      NaN   \n",
       "1                                      NaN   \n",
       "2  Социальные и другие выплаты, тыс.рублей   \n",
       "3                                        3   \n",
       "4                                      NaN   \n",
       "5                           57995716.76011   \n",
       "6                            770101.451626   \n",
       "7                           1309969.785414   \n",
       "8                            598545.885224   \n",
       "9                           1859907.002281   \n",
       "\n",
       "                                          Unnamed: 5  \\\n",
       "0                                                NaN   \n",
       "1                                                NaN   \n",
       "2  Объем социальных выплат населению и налогообла...   \n",
       "3                                                  4   \n",
       "4                                                NaN   \n",
       "5                                   112593278.665555   \n",
       "6                                     1516311.420163   \n",
       "7                                     2871818.917008   \n",
       "8                                     1075124.404355   \n",
       "9                                       3174417.9084   \n",
       "\n",
       "                                          Unnamed: 6  \n",
       "0                                                NaN  \n",
       "1                                                NaN  \n",
       "2  Объем социальных выплат и налогооблагаемых ден...  \n",
       "3                                                  5  \n",
       "4                                                NaN  \n",
       "5                                      105816.474208  \n",
       "6                                        99456.34397  \n",
       "7                                      110833.966926  \n",
       "8                                      106680.333832  \n",
       "9                                       95993.767831  "
      ]
     },
     "execution_count": 125,
     "metadata": {},
     "output_type": "execute_result"
    }
   ],
   "source": [
    "income_transferts_2013_raw.head(10)"
   ]
  },
  {
   "cell_type": "code",
   "execution_count": 126,
   "id": "83d9e3c1-12d7-4b4d-a083-253e66e995e0",
   "metadata": {},
   "outputs": [
    {
     "data": {
      "text/html": [
       "<div>\n",
       "<style scoped>\n",
       "    .dataframe tbody tr th:only-of-type {\n",
       "        vertical-align: middle;\n",
       "    }\n",
       "\n",
       "    .dataframe tbody tr th {\n",
       "        vertical-align: top;\n",
       "    }\n",
       "\n",
       "    .dataframe thead th {\n",
       "        text-align: right;\n",
       "    }\n",
       "</style>\n",
       "<table border=\"1\" class=\"dataframe\">\n",
       "  <thead>\n",
       "    <tr style=\"text-align: right;\">\n",
       "      <th></th>\n",
       "      <th>Unnamed: 0</th>\n",
       "      <th>Unnamed: 1</th>\n",
       "      <th>Unnamed: 2</th>\n",
       "      <th>Unnamed: 3</th>\n",
       "      <th>Unnamed: 4</th>\n",
       "      <th>Unnamed: 5</th>\n",
       "      <th>Unnamed: 6</th>\n",
       "    </tr>\n",
       "  </thead>\n",
       "  <tbody>\n",
       "    <tr>\n",
       "      <th>2626</th>\n",
       "      <td>NaN</td>\n",
       "      <td>NaN</td>\n",
       "      <td>NaN</td>\n",
       "      <td>NaN</td>\n",
       "      <td>NaN</td>\n",
       "      <td>NaN</td>\n",
       "      <td>NaN</td>\n",
       "    </tr>\n",
       "    <tr>\n",
       "      <th>2627</th>\n",
       "      <td>NaN</td>\n",
       "      <td>Еврейская автономная область</td>\n",
       "      <td>99</td>\n",
       "      <td>NaN</td>\n",
       "      <td>NaN</td>\n",
       "      <td>NaN</td>\n",
       "      <td>NaN</td>\n",
       "    </tr>\n",
       "    <tr>\n",
       "      <th>2628</th>\n",
       "      <td>NaN</td>\n",
       "      <td>Муниципальные районы</td>\n",
       "      <td>99600000</td>\n",
       "      <td>11263093.139224</td>\n",
       "      <td>4832458.511891</td>\n",
       "      <td>16095551.651116</td>\n",
       "      <td>167039.079797</td>\n",
       "    </tr>\n",
       "    <tr>\n",
       "      <th>2629</th>\n",
       "      <td>1</td>\n",
       "      <td>Биробиджанский</td>\n",
       "      <td>99605000</td>\n",
       "      <td>1697873.413127</td>\n",
       "      <td>621598.539945</td>\n",
       "      <td>2319471.953072</td>\n",
       "      <td>192104.683872</td>\n",
       "    </tr>\n",
       "    <tr>\n",
       "      <th>2630</th>\n",
       "      <td>2</td>\n",
       "      <td>Ленинский</td>\n",
       "      <td>99610000</td>\n",
       "      <td>1918050.167754</td>\n",
       "      <td>819001.792116</td>\n",
       "      <td>2737051.959869</td>\n",
       "      <td>138830.938872</td>\n",
       "    </tr>\n",
       "    <tr>\n",
       "      <th>2631</th>\n",
       "      <td>3</td>\n",
       "      <td>Облученский</td>\n",
       "      <td>99620000</td>\n",
       "      <td>4799494.181507</td>\n",
       "      <td>1528100.942312</td>\n",
       "      <td>6327595.123819</td>\n",
       "      <td>232307.626251</td>\n",
       "    </tr>\n",
       "    <tr>\n",
       "      <th>2632</th>\n",
       "      <td>4</td>\n",
       "      <td>Октябрьский</td>\n",
       "      <td>99625000</td>\n",
       "      <td>938660.08494</td>\n",
       "      <td>542722.789388</td>\n",
       "      <td>1481382.874328</td>\n",
       "      <td>139214.629671</td>\n",
       "    </tr>\n",
       "    <tr>\n",
       "      <th>2633</th>\n",
       "      <td>5</td>\n",
       "      <td>Смидовичский</td>\n",
       "      <td>99630000</td>\n",
       "      <td>1909015.291898</td>\n",
       "      <td>1321034.448131</td>\n",
       "      <td>3230049.740028</td>\n",
       "      <td>121020.971901</td>\n",
       "    </tr>\n",
       "    <tr>\n",
       "      <th>2634</th>\n",
       "      <td>NaN</td>\n",
       "      <td>Городские округа</td>\n",
       "      <td>99700000</td>\n",
       "      <td>15162345.160776</td>\n",
       "      <td>4423486.759219</td>\n",
       "      <td>19585831.919994</td>\n",
       "      <td>260567.702419</td>\n",
       "    </tr>\n",
       "    <tr>\n",
       "      <th>2635</th>\n",
       "      <td>1</td>\n",
       "      <td>г.Биробиджан</td>\n",
       "      <td>99701000</td>\n",
       "      <td>15162345.160776</td>\n",
       "      <td>4423486.759219</td>\n",
       "      <td>19585831.919994</td>\n",
       "      <td>260567.702419</td>\n",
       "    </tr>\n",
       "  </tbody>\n",
       "</table>\n",
       "</div>"
      ],
      "text/plain": [
       "     Unnamed: 0                     Unnamed: 1 Unnamed: 2       Unnamed: 3  \\\n",
       "2626        NaN                            NaN        NaN              NaN   \n",
       "2627        NaN  Еврейская автономная область          99              NaN   \n",
       "2628        NaN          Муниципальные районы    99600000  11263093.139224   \n",
       "2629          1                Биробиджанский    99605000   1697873.413127   \n",
       "2630          2                     Ленинский    99610000   1918050.167754   \n",
       "2631          3                   Облученский    99620000   4799494.181507   \n",
       "2632          4                   Октябрьский    99625000     938660.08494   \n",
       "2633          5                  Смидовичский    99630000   1909015.291898   \n",
       "2634        NaN              Городские округа    99700000  15162345.160776   \n",
       "2635          1                   г.Биробиджан   99701000  15162345.160776   \n",
       "\n",
       "          Unnamed: 4       Unnamed: 5     Unnamed: 6  \n",
       "2626             NaN              NaN            NaN  \n",
       "2627             NaN              NaN            NaN  \n",
       "2628  4832458.511891  16095551.651116  167039.079797  \n",
       "2629   621598.539945   2319471.953072  192104.683872  \n",
       "2630   819001.792116   2737051.959869  138830.938872  \n",
       "2631  1528100.942312   6327595.123819  232307.626251  \n",
       "2632   542722.789388   1481382.874328  139214.629671  \n",
       "2633  1321034.448131   3230049.740028  121020.971901  \n",
       "2634  4423486.759219  19585831.919994  260567.702419  \n",
       "2635  4423486.759219  19585831.919994  260567.702419  "
      ]
     },
     "execution_count": 126,
     "metadata": {},
     "output_type": "execute_result"
    }
   ],
   "source": [
    "income_transferts_2013_raw.tail(10)"
   ]
  },
  {
   "cell_type": "code",
   "execution_count": 127,
   "id": "21324b63-377f-4a3a-b687-4f38ded78dcd",
   "metadata": {},
   "outputs": [],
   "source": [
    "income_transferts_2013 = income_transferts_2013_raw.copy()"
   ]
  },
  {
   "cell_type": "markdown",
   "id": "5e971895-8722-42c7-b695-3141a3d24303",
   "metadata": {},
   "source": [
    "##### Rename columns and drop useless"
   ]
  },
  {
   "cell_type": "code",
   "execution_count": 128,
   "id": "14bd413d-ca0e-4ec2-a090-34296adc1e22",
   "metadata": {},
   "outputs": [],
   "source": [
    "income_transferts_2013_columns = [\n",
    "    '-', 'index1', 'ОКТМО', 'Доходы', 'Социальные выплаты',\n",
    "    'Суммарные выплаты', 'Выплаты на 1 чел.'\n",
    "]"
   ]
  },
  {
   "cell_type": "code",
   "execution_count": 129,
   "id": "437c4cf9-acb2-4c22-9334-13c6c6a061fd",
   "metadata": {},
   "outputs": [],
   "source": [
    "income_transferts_2013.columns = income_transferts_2013_columns"
   ]
  },
  {
   "cell_type": "code",
   "execution_count": 130,
   "id": "fad5013b-bb7b-48ac-b735-b21bb387f387",
   "metadata": {},
   "outputs": [],
   "source": [
    "# drop useless columns with name '-'\n",
    "income_transferts_2013 = income_transferts_2013.drop('-', axis=1)"
   ]
  },
  {
   "cell_type": "markdown",
   "id": "d8d8a6c4-06dd-4e98-b9da-6ce581692ee3",
   "metadata": {},
   "source": [
    "##### Cut rows and drop NaNs"
   ]
  },
  {
   "cell_type": "code",
   "execution_count": 131,
   "id": "3429b25e-44ac-427b-b5c8-e758dc48ae08",
   "metadata": {},
   "outputs": [],
   "source": [
    "# cut rows\n",
    "income_transferts_2013 = transform_cut_rows(income_transferts_2013, 4, 0)"
   ]
  },
  {
   "cell_type": "code",
   "execution_count": 132,
   "id": "a1c5c5bb-c7cb-416d-9b52-7cc592853a62",
   "metadata": {},
   "outputs": [],
   "source": [
    "# drop rows with NaNs in 'index0' column\n",
    "income_transferts_2013 = \\\n",
    "    income_transferts_2013[income_transferts_2013['index1'].notna()]"
   ]
  },
  {
   "cell_type": "markdown",
   "id": "b5aa3849-1d9a-481b-800e-4b415e514209",
   "metadata": {},
   "source": [
    "##### Normalize OKTMO"
   ]
  },
  {
   "cell_type": "code",
   "execution_count": 133,
   "id": "f6c0e13c-dc06-4760-b254-0e35aaaca01a",
   "metadata": {},
   "outputs": [],
   "source": [
    "# make OKTMO column values str\n",
    "income_transferts_2013['ОКТМО'] = income_transferts_2013['ОКТМО'].astype(str)"
   ]
  },
  {
   "cell_type": "code",
   "execution_count": 134,
   "id": "c9751885-7c59-4a86-b7fd-20b900bf3c17",
   "metadata": {},
   "outputs": [],
   "source": [
    "# normalize oktmo - remove spaces and other dirt\n",
    "income_transferts_2013['ОКТМО'] = \\\n",
    "    income_transferts_2013['ОКТМО'].apply(lambda x: normalize_oktmo(x))"
   ]
  },
  {
   "cell_type": "markdown",
   "id": "c75847fa-6247-4416-b235-35adcce0b6e2",
   "metadata": {},
   "source": [
    "##### Level0 for Multiindex"
   ]
  },
  {
   "cell_type": "code",
   "execution_count": 135,
   "id": "8949709e-8ac1-4e49-8232-843f9b616af1",
   "metadata": {},
   "outputs": [],
   "source": [
    "# create index level0 column\n",
    "income_transferts_2013['index0'] = np.NaN"
   ]
  },
  {
   "cell_type": "code",
   "execution_count": 136,
   "id": "81d6e099-df7d-49af-b27e-16c0829cb504",
   "metadata": {},
   "outputs": [],
   "source": [
    "# fill in by region with OKTMO in OKTMO column\n",
    "income_transferts_2013 = (income_transferts_2013\n",
    "                          .assign(index0=income_transferts_2013['ОКТМО']\n",
    "                                  .map(region_oktmo_norm_dict_sorted)\n",
    "                                  .fillna(income_transferts_2013['index0'])))"
   ]
  },
  {
   "cell_type": "code",
   "execution_count": 137,
   "id": "7f39feb9-ee83-40e7-9f98-f1cfa50e51aa",
   "metadata": {},
   "outputs": [],
   "source": [
    "# 1) 'Архангельская область' and \n",
    "# 'Ненецкий автономный округ (Архангельская область)' have the same OKTMO == 11\n",
    "# 2) 'Ненецкий автономный округ (Архангельская область)' index allways greater than index of \n",
    "# 'Архангельская область'\n",
    "# knowing this, we replace duplicate 'Архангельская область' by 'Ненецкий автономный округ (Архангельская область)'\n",
    "income_transferts_2013 = normalize_nenec(income_transferts_2013, 'index0')"
   ]
  },
  {
   "cell_type": "code",
   "execution_count": 138,
   "id": "62e3be40-9600-48c1-b225-a31db29a4b16",
   "metadata": {},
   "outputs": [],
   "source": [
    "# the same correction for 'Тюменская область'\n",
    "income_transferts_2013 = normalize_khantymanci(income_transferts_2013, 'index0')"
   ]
  },
  {
   "cell_type": "code",
   "execution_count": 139,
   "id": "3a6f2e2c-96a5-4bae-9d68-1372497326c8",
   "metadata": {},
   "outputs": [],
   "source": [
    "# fill '-' values in index0 column\n",
    "income_transferts_2013 = transform_fill_values_by_previous(\n",
    "    income_transferts_2013, kind='column', column_name='index0')"
   ]
  },
  {
   "cell_type": "markdown",
   "id": "8c0754d7-9fab-48ab-8d82-a21b7cafd844",
   "metadata": {},
   "source": [
    "##### Level1 for Multiindex"
   ]
  },
  {
   "cell_type": "code",
   "execution_count": 140,
   "id": "95fc1d92-7189-46f1-83cc-382912b75d9a",
   "metadata": {},
   "outputs": [],
   "source": [
    "# change region name in 'index1' column to 'Всего'\n",
    "income_transferts_2013['index1'] = income_transferts_2013.apply(\n",
    "    lambda x: transferts_various(x['ОКТМО'], x['index1']), axis=1)"
   ]
  },
  {
   "cell_type": "code",
   "execution_count": 141,
   "id": "0b687503-d8c4-499a-bd6d-0eafb55abaad",
   "metadata": {},
   "outputs": [],
   "source": [
    "# normalize 'Муниципальные районы' and 'Гордские округа' - remove spaces and other dirt\n",
    "income_transferts_2013['index1'] = \\\n",
    "    income_transferts_2013['index1'].apply(lambda x: normalize_municipal_town(x))"
   ]
  },
  {
   "cell_type": "markdown",
   "id": "f26eaf5f-06dc-44e9-9c49-bd9b1e9af8cb",
   "metadata": {},
   "source": [
    "##### Fill rows with sum ('Всего')"
   ]
  },
  {
   "cell_type": "code",
   "execution_count": 142,
   "id": "e8f496ca-e306-42ff-9a66-333af82a9bee",
   "metadata": {},
   "outputs": [],
   "source": [
    "# columns for sum of 'Муниципальные районы' and 'Городские округа'\n",
    "columns_summary2012 = [\n",
    "    'Доходы', 'Социальные выплаты', 'Суммарные выплаты', 'Выплаты на 1 чел.']"
   ]
  },
  {
   "cell_type": "code",
   "execution_count": 143,
   "id": "3be799e7-385d-4f3c-83fb-b13ad5f2379d",
   "metadata": {},
   "outputs": [],
   "source": [
    "# create regions list\n",
    "regions_list2012 = list(set(income_transferts_2013['index0']))\n",
    "regions_list2012.sort()"
   ]
  },
  {
   "cell_type": "code",
   "execution_count": 144,
   "id": "d22876d0-6088-41d7-985d-04ec84812003",
   "metadata": {},
   "outputs": [
    {
     "name": "stdout",
     "output_type": "stream",
     "text": [
      "Region Санкт-Петербург not in \"Minucipal-Town Dictionary\"\n"
     ]
    }
   ],
   "source": [
    "# count sum of 'Муниципальные районы' and 'Городские округа'\n",
    "income_transferts_2013 = calculate_sum_transferts(\n",
    "    data=income_transferts_2013,\n",
    "    columns=columns_summary2012,\n",
    "    regions=regions_list2012,\n",
    "    mapping_dict=municipal_town_dict)"
   ]
  },
  {
   "cell_type": "markdown",
   "id": "4058f54f-9279-46fa-b884-0420fe2edc82",
   "metadata": {},
   "source": [
    "##### Count Regions"
   ]
  },
  {
   "cell_type": "code",
   "execution_count": 145,
   "id": "e4625e25-a63d-430f-b6c9-d3077d9bf0f1",
   "metadata": {},
   "outputs": [
    {
     "data": {
      "text/plain": [
       "82"
      ]
     },
     "execution_count": 145,
     "metadata": {},
     "output_type": "execute_result"
    }
   ],
   "source": [
    "# count regions\n",
    "regions_count2012 = len(set(income_transferts_2013['index0'].values))\n",
    "regions_count2012"
   ]
  },
  {
   "cell_type": "markdown",
   "id": "094b82e4-7f0d-48d3-acd4-e7d7a70e05ed",
   "metadata": {},
   "source": [
    "##### Create Multiindex"
   ]
  },
  {
   "cell_type": "code",
   "execution_count": 146,
   "id": "426788ea-8f98-495c-9cb9-b9b1bfbd6080",
   "metadata": {},
   "outputs": [],
   "source": [
    "# columns to multiindex\n",
    "income_transferts_2013 = transform_make_index_from_columns(\n",
    "    income_transferts_2013, ['index0', 'index1'])"
   ]
  },
  {
   "cell_type": "code",
   "execution_count": 147,
   "id": "5d871782-fb57-45a4-abc9-815469e68afe",
   "metadata": {},
   "outputs": [],
   "source": [
    "# drop columns, that became multiindexes\n",
    "income_transferts_2013 = income_transferts_2013.drop(['index0', 'index1'], axis=1)"
   ]
  },
  {
   "cell_type": "markdown",
   "id": "c26e4a5f-d09a-4d4b-a27f-dbc3b0828db8",
   "metadata": {},
   "source": [
    "##### Round (one symbol)"
   ]
  },
  {
   "cell_type": "code",
   "execution_count": 148,
   "id": "734176ad-283d-4756-9100-e4f29539de6e",
   "metadata": {},
   "outputs": [],
   "source": [
    "# round\n",
    "for column in income_transferts_2013.columns:\n",
    "    try:\n",
    "        income_transferts_2013[column] = \\\n",
    "            income_transferts_2013[column].astype(float).round(1)\n",
    "    except ValueError:\n",
    "        pass"
   ]
  },
  {
   "cell_type": "markdown",
   "id": "36f2d2e8-1c80-4061-a21c-d2a55b02d30e",
   "metadata": {},
   "source": [
    "##### <font color='#2A5899'>2013 Check for Discrepancy</font>"
   ]
  },
  {
   "cell_type": "code",
   "execution_count": 149,
   "id": "e5021c4f-9f31-4306-9a9a-96aa3843fab0",
   "metadata": {},
   "outputs": [
    {
     "data": {
      "text/plain": [
       "False"
      ]
     },
     "execution_count": 149,
     "metadata": {},
     "output_type": "execute_result"
    }
   ],
   "source": [
    "# OKTMO check for NaN\n",
    "income_transferts_2013[income_transferts_2013['ОКТМО'].isna()].any().any()"
   ]
  },
  {
   "cell_type": "code",
   "execution_count": 150,
   "id": "bda61150-aaa2-48d9-801b-81d81bfdd9ac",
   "metadata": {},
   "outputs": [
    {
     "data": {
      "text/plain": [
       "True"
      ]
     },
     "execution_count": 150,
     "metadata": {},
     "output_type": "execute_result"
    }
   ],
   "source": [
    "# all data check for NaN\n",
    "income_transferts_2013[income_transferts_2013.isna().any(axis=1)].any().any()"
   ]
  },
  {
   "cell_type": "code",
   "execution_count": 151,
   "id": "eb039fab-bcc5-4e4c-8d1a-1d174ce104a3",
   "metadata": {},
   "outputs": [
    {
     "data": {
      "text/html": [
       "<div>\n",
       "<style scoped>\n",
       "    .dataframe tbody tr th:only-of-type {\n",
       "        vertical-align: middle;\n",
       "    }\n",
       "\n",
       "    .dataframe tbody tr th {\n",
       "        vertical-align: top;\n",
       "    }\n",
       "\n",
       "    .dataframe thead th {\n",
       "        text-align: right;\n",
       "    }\n",
       "</style>\n",
       "<table border=\"1\" class=\"dataframe\">\n",
       "  <thead>\n",
       "    <tr style=\"text-align: right;\">\n",
       "      <th></th>\n",
       "      <th></th>\n",
       "      <th>ОКТМО</th>\n",
       "      <th>Доходы</th>\n",
       "      <th>Социальные выплаты</th>\n",
       "      <th>Суммарные выплаты</th>\n",
       "      <th>Выплаты на 1 чел.</th>\n",
       "    </tr>\n",
       "  </thead>\n",
       "  <tbody>\n",
       "  </tbody>\n",
       "</table>\n",
       "</div>"
      ],
      "text/plain": [
       "Empty DataFrame\n",
       "Columns: [ОКТМО, Доходы, Социальные выплаты, Суммарные выплаты, Выплаты на 1 чел.]\n",
       "Index: []"
      ]
     },
     "execution_count": 151,
     "metadata": {},
     "output_type": "execute_result"
    }
   ],
   "source": [
    "income_transferts_2013[income_transferts_2013['Доходы'] == 0]"
   ]
  },
  {
   "cell_type": "code",
   "execution_count": 152,
   "id": "fcfe6a04-da47-40a1-8f80-99a2e01219d9",
   "metadata": {},
   "outputs": [
    {
     "data": {
      "text/html": [
       "<div>\n",
       "<style scoped>\n",
       "    .dataframe tbody tr th:only-of-type {\n",
       "        vertical-align: middle;\n",
       "    }\n",
       "\n",
       "    .dataframe tbody tr th {\n",
       "        vertical-align: top;\n",
       "    }\n",
       "\n",
       "    .dataframe thead th {\n",
       "        text-align: right;\n",
       "    }\n",
       "</style>\n",
       "<table border=\"1\" class=\"dataframe\">\n",
       "  <thead>\n",
       "    <tr style=\"text-align: right;\">\n",
       "      <th></th>\n",
       "      <th></th>\n",
       "      <th>ОКТМО</th>\n",
       "      <th>Доходы</th>\n",
       "      <th>Социальные выплаты</th>\n",
       "      <th>Суммарные выплаты</th>\n",
       "      <th>Выплаты на 1 чел.</th>\n",
       "    </tr>\n",
       "  </thead>\n",
       "  <tbody>\n",
       "  </tbody>\n",
       "</table>\n",
       "</div>"
      ],
      "text/plain": [
       "Empty DataFrame\n",
       "Columns: [ОКТМО, Доходы, Социальные выплаты, Суммарные выплаты, Выплаты на 1 чел.]\n",
       "Index: []"
      ]
     },
     "execution_count": 152,
     "metadata": {},
     "output_type": "execute_result"
    }
   ],
   "source": [
    "income_transferts_2013[income_transferts_2013['Социальные выплаты'] == 0]"
   ]
  },
  {
   "cell_type": "code",
   "execution_count": 153,
   "id": "8ccf713d-9889-4528-bca8-40f4fca7a9c1",
   "metadata": {},
   "outputs": [
    {
     "data": {
      "text/html": [
       "<div>\n",
       "<style scoped>\n",
       "    .dataframe tbody tr th:only-of-type {\n",
       "        vertical-align: middle;\n",
       "    }\n",
       "\n",
       "    .dataframe tbody tr th {\n",
       "        vertical-align: top;\n",
       "    }\n",
       "\n",
       "    .dataframe thead th {\n",
       "        text-align: right;\n",
       "    }\n",
       "</style>\n",
       "<table border=\"1\" class=\"dataframe\">\n",
       "  <thead>\n",
       "    <tr style=\"text-align: right;\">\n",
       "      <th></th>\n",
       "      <th></th>\n",
       "      <th>ОКТМО</th>\n",
       "      <th>Доходы</th>\n",
       "      <th>Социальные выплаты</th>\n",
       "      <th>Суммарные выплаты</th>\n",
       "      <th>Выплаты на 1 чел.</th>\n",
       "    </tr>\n",
       "  </thead>\n",
       "  <tbody>\n",
       "  </tbody>\n",
       "</table>\n",
       "</div>"
      ],
      "text/plain": [
       "Empty DataFrame\n",
       "Columns: [ОКТМО, Доходы, Социальные выплаты, Суммарные выплаты, Выплаты на 1 чел.]\n",
       "Index: []"
      ]
     },
     "execution_count": 153,
     "metadata": {},
     "output_type": "execute_result"
    }
   ],
   "source": [
    "income_transferts_2013[income_transferts_2013['Суммарные выплаты'] == 0]"
   ]
  },
  {
   "cell_type": "code",
   "execution_count": 154,
   "id": "2a0fc75a-3738-4ac0-9ef2-e088742204e4",
   "metadata": {},
   "outputs": [
    {
     "data": {
      "text/html": [
       "<div>\n",
       "<style scoped>\n",
       "    .dataframe tbody tr th:only-of-type {\n",
       "        vertical-align: middle;\n",
       "    }\n",
       "\n",
       "    .dataframe tbody tr th {\n",
       "        vertical-align: top;\n",
       "    }\n",
       "\n",
       "    .dataframe thead th {\n",
       "        text-align: right;\n",
       "    }\n",
       "</style>\n",
       "<table border=\"1\" class=\"dataframe\">\n",
       "  <thead>\n",
       "    <tr style=\"text-align: right;\">\n",
       "      <th></th>\n",
       "      <th></th>\n",
       "      <th>ОКТМО</th>\n",
       "      <th>Доходы</th>\n",
       "      <th>Социальные выплаты</th>\n",
       "      <th>Суммарные выплаты</th>\n",
       "      <th>Выплаты на 1 чел.</th>\n",
       "    </tr>\n",
       "  </thead>\n",
       "  <tbody>\n",
       "  </tbody>\n",
       "</table>\n",
       "</div>"
      ],
      "text/plain": [
       "Empty DataFrame\n",
       "Columns: [ОКТМО, Доходы, Социальные выплаты, Суммарные выплаты, Выплаты на 1 чел.]\n",
       "Index: []"
      ]
     },
     "execution_count": 154,
     "metadata": {},
     "output_type": "execute_result"
    }
   ],
   "source": [
    "income_transferts_2013[income_transferts_2013['Выплаты на 1 чел.'] == 0]"
   ]
  },
  {
   "cell_type": "code",
   "execution_count": 155,
   "id": "912d9992-2256-4aa5-a13a-5f45c911906e",
   "metadata": {},
   "outputs": [
    {
     "data": {
      "text/html": [
       "<div>\n",
       "<style scoped>\n",
       "    .dataframe tbody tr th:only-of-type {\n",
       "        vertical-align: middle;\n",
       "    }\n",
       "\n",
       "    .dataframe tbody tr th {\n",
       "        vertical-align: top;\n",
       "    }\n",
       "\n",
       "    .dataframe thead th {\n",
       "        text-align: right;\n",
       "    }\n",
       "</style>\n",
       "<table border=\"1\" class=\"dataframe\">\n",
       "  <thead>\n",
       "    <tr style=\"text-align: right;\">\n",
       "      <th></th>\n",
       "      <th></th>\n",
       "      <th>ОКТМО</th>\n",
       "      <th>Доходы</th>\n",
       "      <th>Социальные выплаты</th>\n",
       "      <th>Суммарные выплаты</th>\n",
       "      <th>Выплаты на 1 чел.</th>\n",
       "    </tr>\n",
       "  </thead>\n",
       "  <tbody>\n",
       "    <tr>\n",
       "      <th>Тюменская область</th>\n",
       "      <th>Всего</th>\n",
       "      <td>71</td>\n",
       "      <td>275021927.7</td>\n",
       "      <td>73305712.8</td>\n",
       "      <td>348327640.5</td>\n",
       "      <td>441621.6</td>\n",
       "    </tr>\n",
       "    <tr>\n",
       "      <th>Ханты-Мансийский автономный округ - Югра (Тюменская область)</th>\n",
       "      <th>Всего</th>\n",
       "      <td>71</td>\n",
       "      <td>732913677.0</td>\n",
       "      <td>110784034.4</td>\n",
       "      <td>843697711.4</td>\n",
       "      <td>1069051.6</td>\n",
       "    </tr>\n",
       "    <tr>\n",
       "      <th>Ямало-Ненецкий автономный округ (Тюменская область)</th>\n",
       "      <th>Всего</th>\n",
       "      <td>71</td>\n",
       "      <td>349768170.1</td>\n",
       "      <td>41329294.3</td>\n",
       "      <td>391097464.4</td>\n",
       "      <td>1564536.8</td>\n",
       "    </tr>\n",
       "  </tbody>\n",
       "</table>\n",
       "</div>"
      ],
      "text/plain": [
       "                                                         ОКТМО       Доходы  \\\n",
       "Тюменская область                                  Всего    71  275021927.7   \n",
       "Ханты-Мансийский автономный округ - Югра (Тюмен... Всего    71  732913677.0   \n",
       "Ямало-Ненецкий автономный округ (Тюменская обла... Всего    71  349768170.1   \n",
       "\n",
       "                                                          Социальные выплаты  \\\n",
       "Тюменская область                                  Всего          73305712.8   \n",
       "Ханты-Мансийский автономный округ - Югра (Тюмен... Всего         110784034.4   \n",
       "Ямало-Ненецкий автономный округ (Тюменская обла... Всего          41329294.3   \n",
       "\n",
       "                                                          Суммарные выплаты  \\\n",
       "Тюменская область                                  Всего        348327640.5   \n",
       "Ханты-Мансийский автономный округ - Югра (Тюмен... Всего        843697711.4   \n",
       "Ямало-Ненецкий автономный округ (Тюменская обла... Всего        391097464.4   \n",
       "\n",
       "                                                          Выплаты на 1 чел.  \n",
       "Тюменская область                                  Всего           441621.6  \n",
       "Ханты-Мансийский автономный округ - Югра (Тюмен... Всего          1069051.6  \n",
       "Ямало-Ненецкий автономный округ (Тюменская обла... Всего          1564536.8  "
      ]
     },
     "execution_count": 155,
     "metadata": {},
     "output_type": "execute_result"
    }
   ],
   "source": [
    "income_transferts_2013[income_transferts_2013['ОКТМО'] == '71']"
   ]
  },
  {
   "cell_type": "code",
   "execution_count": 156,
   "id": "2cfbb330-f22b-4c5d-96d6-2f32058c4815",
   "metadata": {},
   "outputs": [
    {
     "data": {
      "text/html": [
       "<div>\n",
       "<style scoped>\n",
       "    .dataframe tbody tr th:only-of-type {\n",
       "        vertical-align: middle;\n",
       "    }\n",
       "\n",
       "    .dataframe tbody tr th {\n",
       "        vertical-align: top;\n",
       "    }\n",
       "\n",
       "    .dataframe thead th {\n",
       "        text-align: right;\n",
       "    }\n",
       "</style>\n",
       "<table border=\"1\" class=\"dataframe\">\n",
       "  <thead>\n",
       "    <tr style=\"text-align: right;\">\n",
       "      <th></th>\n",
       "      <th></th>\n",
       "      <th>ОКТМО</th>\n",
       "      <th>Доходы</th>\n",
       "      <th>Социальные выплаты</th>\n",
       "      <th>Суммарные выплаты</th>\n",
       "      <th>Выплаты на 1 чел.</th>\n",
       "    </tr>\n",
       "  </thead>\n",
       "  <tbody>\n",
       "    <tr>\n",
       "      <th>Архангельская область</th>\n",
       "      <th>Всего</th>\n",
       "      <td>11</td>\n",
       "      <td>205356512.0</td>\n",
       "      <td>92571963.1</td>\n",
       "      <td>297928475.1</td>\n",
       "      <td>493355.3</td>\n",
       "    </tr>\n",
       "    <tr>\n",
       "      <th>Ненецкий автономный округ (Архангельская область)</th>\n",
       "      <th>Всего</th>\n",
       "      <td>11</td>\n",
       "      <td>55326046.0</td>\n",
       "      <td>8649153.0</td>\n",
       "      <td>63975199.0</td>\n",
       "      <td>2912213.0</td>\n",
       "    </tr>\n",
       "  </tbody>\n",
       "</table>\n",
       "</div>"
      ],
      "text/plain": [
       "                                                        ОКТМО       Доходы  \\\n",
       "Архангельская область                             Всего    11  205356512.0   \n",
       "Ненецкий автономный округ (Архангельская область) Всего    11   55326046.0   \n",
       "\n",
       "                                                         Социальные выплаты  \\\n",
       "Архангельская область                             Всего          92571963.1   \n",
       "Ненецкий автономный округ (Архангельская область) Всего           8649153.0   \n",
       "\n",
       "                                                         Суммарные выплаты  \\\n",
       "Архангельская область                             Всего        297928475.1   \n",
       "Ненецкий автономный округ (Архангельская область) Всего         63975199.0   \n",
       "\n",
       "                                                         Выплаты на 1 чел.  \n",
       "Архангельская область                             Всего           493355.3  \n",
       "Ненецкий автономный округ (Архангельская область) Всего          2912213.0  "
      ]
     },
     "execution_count": 156,
     "metadata": {},
     "output_type": "execute_result"
    }
   ],
   "source": [
    "income_transferts_2013[income_transferts_2013['ОКТМО'] == '11']"
   ]
  },
  {
   "cell_type": "code",
   "execution_count": 157,
   "id": "1497c470-04c4-48f8-b9e8-8e0de7e41ba6",
   "metadata": {},
   "outputs": [
    {
     "data": {
      "text/plain": [
       "['Ненецкий автономный округ (Архангельская область)']"
      ]
     },
     "execution_count": 157,
     "metadata": {},
     "output_type": "execute_result"
    }
   ],
   "source": [
    "# check if there are duplications in municipal, town and others OKTMO\n",
    "check_oktmo_2013_dupl_list = check_oktmo_duplication(\n",
    "    data=income_transferts_2013, \n",
    "    column_check='ОКТМО',\n",
    "    normalize_oktmo_list=municipal_town_dict)\n",
    "\n",
    "check_oktmo_2013_dupl_list"
   ]
  },
  {
   "cell_type": "code",
   "execution_count": 158,
   "id": "47f22797-689c-4025-890a-8c3f1a184653",
   "metadata": {},
   "outputs": [
    {
     "data": {
      "text/html": [
       "<div>\n",
       "<style scoped>\n",
       "    .dataframe tbody tr th:only-of-type {\n",
       "        vertical-align: middle;\n",
       "    }\n",
       "\n",
       "    .dataframe tbody tr th {\n",
       "        vertical-align: top;\n",
       "    }\n",
       "\n",
       "    .dataframe thead th {\n",
       "        text-align: right;\n",
       "    }\n",
       "</style>\n",
       "<table border=\"1\" class=\"dataframe\">\n",
       "  <thead>\n",
       "    <tr style=\"text-align: right;\">\n",
       "      <th></th>\n",
       "      <th></th>\n",
       "      <th>ОКТМО</th>\n",
       "      <th>Доходы</th>\n",
       "      <th>Социальные выплаты</th>\n",
       "      <th>Суммарные выплаты</th>\n",
       "      <th>Выплаты на 1 чел.</th>\n",
       "    </tr>\n",
       "  </thead>\n",
       "  <tbody>\n",
       "    <tr>\n",
       "      <th rowspan=\"2\" valign=\"top\">Алтайский край</th>\n",
       "      <th>Муниципальные районы</th>\n",
       "      <td>01 600 000</td>\n",
       "      <td>54597561.9</td>\n",
       "      <td>57995716.8</td>\n",
       "      <td>112593278.7</td>\n",
       "      <td>105816.5</td>\n",
       "    </tr>\n",
       "    <tr>\n",
       "      <th>Городские округа</th>\n",
       "      <td>01 700 000</td>\n",
       "      <td>167307437.5</td>\n",
       "      <td>69059039.7</td>\n",
       "      <td>236366477.2</td>\n",
       "      <td>177632.2</td>\n",
       "    </tr>\n",
       "  </tbody>\n",
       "</table>\n",
       "</div>"
      ],
      "text/plain": [
       "                                          ОКТМО       Доходы  \\\n",
       "Алтайский край Муниципальные районы  01 600 000   54597561.9   \n",
       "               Городские округа      01 700 000  167307437.5   \n",
       "\n",
       "                                     Социальные выплаты  Суммарные выплаты  \\\n",
       "Алтайский край Муниципальные районы          57995716.8        112593278.7   \n",
       "               Городские округа              69059039.7        236366477.2   \n",
       "\n",
       "                                     Выплаты на 1 чел.  \n",
       "Алтайский край Муниципальные районы           105816.5  \n",
       "               Городские округа               177632.2  "
      ]
     },
     "execution_count": 158,
     "metadata": {},
     "output_type": "execute_result"
    }
   ],
   "source": [
    "(income_transferts_2013\n",
    " .loc[income_transferts_2013['ОКТМО']\n",
    " .isin(municipal_town_dict['Алтайский край'])])"
   ]
  },
  {
   "cell_type": "markdown",
   "id": "423645e0-42dd-420a-8c28-1b74c8a44a8e",
   "metadata": {},
   "source": [
    "##### <font color='#2A5899'>2013 Final Result</font>"
   ]
  },
  {
   "cell_type": "code",
   "execution_count": 159,
   "id": "b497d6e0-a365-41a3-ae7f-3c8e5e170cf2",
   "metadata": {},
   "outputs": [
    {
     "data": {
      "text/html": [
       "<div>\n",
       "<style scoped>\n",
       "    .dataframe tbody tr th:only-of-type {\n",
       "        vertical-align: middle;\n",
       "    }\n",
       "\n",
       "    .dataframe tbody tr th {\n",
       "        vertical-align: top;\n",
       "    }\n",
       "\n",
       "    .dataframe thead th {\n",
       "        text-align: right;\n",
       "    }\n",
       "</style>\n",
       "<table border=\"1\" class=\"dataframe\">\n",
       "  <thead>\n",
       "    <tr style=\"text-align: right;\">\n",
       "      <th></th>\n",
       "      <th></th>\n",
       "      <th>ОКТМО</th>\n",
       "      <th>Доходы</th>\n",
       "      <th>Социальные выплаты</th>\n",
       "      <th>Суммарные выплаты</th>\n",
       "      <th>Выплаты на 1 чел.</th>\n",
       "    </tr>\n",
       "  </thead>\n",
       "  <tbody>\n",
       "    <tr>\n",
       "      <th rowspan=\"5\" valign=\"top\">Алтайский край</th>\n",
       "      <th>Всего</th>\n",
       "      <td>01</td>\n",
       "      <td>221904999.4</td>\n",
       "      <td>127054756.5</td>\n",
       "      <td>348959755.9</td>\n",
       "      <td>283448.7</td>\n",
       "    </tr>\n",
       "    <tr>\n",
       "      <th>Муниципальные районы</th>\n",
       "      <td>01 600 000</td>\n",
       "      <td>54597561.9</td>\n",
       "      <td>57995716.8</td>\n",
       "      <td>112593278.7</td>\n",
       "      <td>105816.5</td>\n",
       "    </tr>\n",
       "    <tr>\n",
       "      <th>Алейский</th>\n",
       "      <td>01 601 000</td>\n",
       "      <td>746210.0</td>\n",
       "      <td>770101.5</td>\n",
       "      <td>1516311.4</td>\n",
       "      <td>99456.3</td>\n",
       "    </tr>\n",
       "    <tr>\n",
       "      <th>Алтайский</th>\n",
       "      <td>01 602 000</td>\n",
       "      <td>1561849.1</td>\n",
       "      <td>1309969.8</td>\n",
       "      <td>2871818.9</td>\n",
       "      <td>110834.0</td>\n",
       "    </tr>\n",
       "    <tr>\n",
       "      <th>Баевский</th>\n",
       "      <td>01 603 000</td>\n",
       "      <td>476578.5</td>\n",
       "      <td>598545.9</td>\n",
       "      <td>1075124.4</td>\n",
       "      <td>106680.3</td>\n",
       "    </tr>\n",
       "  </tbody>\n",
       "</table>\n",
       "</div>"
      ],
      "text/plain": [
       "                                          ОКТМО       Доходы  \\\n",
       "Алтайский край Всего                         01  221904999.4   \n",
       "               Муниципальные районы  01 600 000   54597561.9   \n",
       "               Алейский              01 601 000     746210.0   \n",
       "               Алтайский             01 602 000    1561849.1   \n",
       "               Баевский              01 603 000     476578.5   \n",
       "\n",
       "                                     Социальные выплаты  Суммарные выплаты  \\\n",
       "Алтайский край Всего                        127054756.5        348959755.9   \n",
       "               Муниципальные районы          57995716.8        112593278.7   \n",
       "               Алейский                        770101.5          1516311.4   \n",
       "               Алтайский                      1309969.8          2871818.9   \n",
       "               Баевский                        598545.9          1075124.4   \n",
       "\n",
       "                                     Выплаты на 1 чел.  \n",
       "Алтайский край Всего                          283448.7  \n",
       "               Муниципальные районы           105816.5  \n",
       "               Алейский                        99456.3  \n",
       "               Алтайский                      110834.0  \n",
       "               Баевский                       106680.3  "
      ]
     },
     "execution_count": 159,
     "metadata": {},
     "output_type": "execute_result"
    }
   ],
   "source": [
    "income_transferts_2013.head()"
   ]
  },
  {
   "cell_type": "code",
   "execution_count": 160,
   "id": "964fc733-3d77-48c9-acc0-7ea59bc196b6",
   "metadata": {},
   "outputs": [
    {
     "data": {
      "text/html": [
       "<div>\n",
       "<style scoped>\n",
       "    .dataframe tbody tr th:only-of-type {\n",
       "        vertical-align: middle;\n",
       "    }\n",
       "\n",
       "    .dataframe tbody tr th {\n",
       "        vertical-align: top;\n",
       "    }\n",
       "\n",
       "    .dataframe thead th {\n",
       "        text-align: right;\n",
       "    }\n",
       "</style>\n",
       "<table border=\"1\" class=\"dataframe\">\n",
       "  <thead>\n",
       "    <tr style=\"text-align: right;\">\n",
       "      <th></th>\n",
       "      <th>ОКТМО</th>\n",
       "      <th>Доходы</th>\n",
       "      <th>Социальные выплаты</th>\n",
       "      <th>Суммарные выплаты</th>\n",
       "      <th>Выплаты на 1 чел.</th>\n",
       "    </tr>\n",
       "  </thead>\n",
       "  <tbody>\n",
       "    <tr>\n",
       "      <th>Всего</th>\n",
       "      <td>46</td>\n",
       "      <td>1361849160.9</td>\n",
       "      <td>408993192.1</td>\n",
       "      <td>1770842353.0</td>\n",
       "      <td>503093.9</td>\n",
       "    </tr>\n",
       "  </tbody>\n",
       "</table>\n",
       "</div>"
      ],
      "text/plain": [
       "      ОКТМО        Доходы Социальные выплаты Суммарные выплаты  \\\n",
       "Всего    46  1361849160.9        408993192.1      1770842353.0   \n",
       "\n",
       "      Выплаты на 1 чел.  \n",
       "Всего          503093.9  "
      ]
     },
     "execution_count": 160,
     "metadata": {},
     "output_type": "execute_result"
    }
   ],
   "source": [
    "get_data_two_level(\n",
    "    data=income_transferts_2013,\n",
    "    level0='Московская область',\n",
    "    level1='Всего',\n",
    "    kind='index')"
   ]
  },
  {
   "cell_type": "code",
   "execution_count": 161,
   "id": "02370ea1-1ac1-417f-8598-3fe50d72fdb9",
   "metadata": {},
   "outputs": [],
   "source": [
    "datasets_list.append(income_transferts_2013)"
   ]
  },
  {
   "cell_type": "markdown",
   "id": "e02ce398-9a37-4b94-81f7-606591000a96",
   "metadata": {},
   "source": [
    "#### <font color='#AF4035'>2014 год</font>"
   ]
  },
  {
   "cell_type": "markdown",
   "id": "e354638a-b33c-4124-8957-79cafad3b836",
   "metadata": {},
   "source": [
    "##### Regions OKTMO codes"
   ]
  },
  {
   "cell_type": "code",
   "execution_count": 162,
   "id": "56554ddd-487d-45c6-8a24-8e6bf62aecd5",
   "metadata": {},
   "outputs": [],
   "source": [
    "path_2014 = \\\n",
    "    ('/Users/a.chasovsky/Library/CloudStorage/GoogleDrive-alexanderchasovsky@gmail.com/'\n",
    "     'Мой диск/Data Science Projects/pers_economics_rus/data/00-Region-codes/')\n",
    "os.chdir(path_2014)\n",
    "%run 2014.ipynb\n",
    "os.chdir(current_path)"
   ]
  },
  {
   "cell_type": "markdown",
   "id": "2b518263-d26c-441d-83de-bdc16b1fc0bc",
   "metadata": {},
   "source": [
    "##### Data"
   ]
  },
  {
   "cell_type": "code",
   "execution_count": 163,
   "id": "666208f8-4b99-4065-8021-352cec8eb27b",
   "metadata": {},
   "outputs": [],
   "source": [
    "income_transferts_2014_link = \\\n",
    "    ('data/02-Population/02-Standard-of-living/01-Income/'\n",
    "     'urov-14a2014.xls')"
   ]
  },
  {
   "cell_type": "code",
   "execution_count": 164,
   "id": "6f19d567-6d0a-4ca2-b993-a50f1635a7a5",
   "metadata": {},
   "outputs": [],
   "source": [
    "income_transferts_2014_raw = pd.read_excel(income_transferts_2014_link)"
   ]
  },
  {
   "cell_type": "code",
   "execution_count": 165,
   "id": "1b5bc40b-6b3f-4b02-8220-1075f14e6f54",
   "metadata": {},
   "outputs": [
    {
     "data": {
      "text/html": [
       "<div>\n",
       "<style scoped>\n",
       "    .dataframe tbody tr th:only-of-type {\n",
       "        vertical-align: middle;\n",
       "    }\n",
       "\n",
       "    .dataframe tbody tr th {\n",
       "        vertical-align: top;\n",
       "    }\n",
       "\n",
       "    .dataframe thead th {\n",
       "        text-align: right;\n",
       "    }\n",
       "</style>\n",
       "<table border=\"1\" class=\"dataframe\">\n",
       "  <thead>\n",
       "    <tr style=\"text-align: right;\">\n",
       "      <th></th>\n",
       "      <th>Unnamed: 0</th>\n",
       "      <th>Unnamed: 1</th>\n",
       "      <th>Unnamed: 2</th>\n",
       "      <th>Unnamed: 3</th>\n",
       "      <th>Unnamed: 4</th>\n",
       "      <th>Unnamed: 5</th>\n",
       "      <th>Unnamed: 6</th>\n",
       "    </tr>\n",
       "  </thead>\n",
       "  <tbody>\n",
       "    <tr>\n",
       "      <th>0</th>\n",
       "      <td>\"Объем социальных выплат населению и налогооб...</td>\n",
       "      <td>NaN</td>\n",
       "      <td>NaN</td>\n",
       "      <td>NaN</td>\n",
       "      <td>NaN</td>\n",
       "      <td>NaN</td>\n",
       "      <td>NaN</td>\n",
       "    </tr>\n",
       "    <tr>\n",
       "      <th>1</th>\n",
       "      <td>NaN</td>\n",
       "      <td>NaN</td>\n",
       "      <td>NaN</td>\n",
       "      <td>NaN</td>\n",
       "      <td>NaN</td>\n",
       "      <td>NaN</td>\n",
       "      <td>NaN</td>\n",
       "    </tr>\n",
       "    <tr>\n",
       "      <th>2</th>\n",
       "      <td>NaN</td>\n",
       "      <td>NaN</td>\n",
       "      <td>Код ОКТМО</td>\n",
       "      <td>Налогооблагаемые денежные доходы физических ли...</td>\n",
       "      <td>Социальные и другие выплаты, тыс.рублей</td>\n",
       "      <td>Объем социальных выплат населению и налогообла...</td>\n",
       "      <td>Объем социальных выплат и налогооблагаемых ден...</td>\n",
       "    </tr>\n",
       "    <tr>\n",
       "      <th>3</th>\n",
       "      <td>NaN</td>\n",
       "      <td>NaN</td>\n",
       "      <td>1</td>\n",
       "      <td>2</td>\n",
       "      <td>3</td>\n",
       "      <td>4</td>\n",
       "      <td>5</td>\n",
       "    </tr>\n",
       "    <tr>\n",
       "      <th>4</th>\n",
       "      <td>NaN</td>\n",
       "      <td>Алтайский край</td>\n",
       "      <td>01</td>\n",
       "      <td>NaN</td>\n",
       "      <td>NaN</td>\n",
       "      <td>NaN</td>\n",
       "      <td>NaN</td>\n",
       "    </tr>\n",
       "    <tr>\n",
       "      <th>5</th>\n",
       "      <td>NaN</td>\n",
       "      <td>Муниципальные районы</td>\n",
       "      <td>01 600 000</td>\n",
       "      <td>56152781</td>\n",
       "      <td>61319439.770861</td>\n",
       "      <td>117472220.770861</td>\n",
       "      <td>111533.613519</td>\n",
       "    </tr>\n",
       "    <tr>\n",
       "      <th>6</th>\n",
       "      <td>1</td>\n",
       "      <td>Алейский</td>\n",
       "      <td>01 601 000</td>\n",
       "      <td>751737</td>\n",
       "      <td>807012.558656</td>\n",
       "      <td>1558749.558656</td>\n",
       "      <td>103647.154642</td>\n",
       "    </tr>\n",
       "    <tr>\n",
       "      <th>7</th>\n",
       "      <td>2</td>\n",
       "      <td>Алтайский</td>\n",
       "      <td>01 602 000</td>\n",
       "      <td>2249835</td>\n",
       "      <td>1398079.147707</td>\n",
       "      <td>3647914.147707</td>\n",
       "      <td>139981.356397</td>\n",
       "    </tr>\n",
       "    <tr>\n",
       "      <th>8</th>\n",
       "      <td>3</td>\n",
       "      <td>Баевский</td>\n",
       "      <td>01 603 000</td>\n",
       "      <td>459865</td>\n",
       "      <td>618096.024901</td>\n",
       "      <td>1077961.024901</td>\n",
       "      <td>109749.646192</td>\n",
       "    </tr>\n",
       "    <tr>\n",
       "      <th>9</th>\n",
       "      <td>4</td>\n",
       "      <td>Бийский</td>\n",
       "      <td>01 604 000</td>\n",
       "      <td>1370409</td>\n",
       "      <td>1993439.810531</td>\n",
       "      <td>3363848.810531</td>\n",
       "      <td>102628.331163</td>\n",
       "    </tr>\n",
       "  </tbody>\n",
       "</table>\n",
       "</div>"
      ],
      "text/plain": [
       "                                          Unnamed: 0             Unnamed: 1  \\\n",
       "0   \"Объем социальных выплат населению и налогооб...                    NaN   \n",
       "1                                                NaN                    NaN   \n",
       "2                                                NaN                    NaN   \n",
       "3                                                NaN                    NaN   \n",
       "4                                                NaN        Алтайский край    \n",
       "5                                                NaN  Муниципальные районы    \n",
       "6                                                  1               Алейский   \n",
       "7                                                  2              Алтайский   \n",
       "8                                                  3               Баевский   \n",
       "9                                                  4                Бийский   \n",
       "\n",
       "   Unnamed: 2                                         Unnamed: 3  \\\n",
       "0         NaN                                                NaN   \n",
       "1         NaN                                                NaN   \n",
       "2   Код ОКТМО  Налогооблагаемые денежные доходы физических ли...   \n",
       "3           1                                                  2   \n",
       "4          01                                                NaN   \n",
       "5  01 600 000                                           56152781   \n",
       "6  01 601 000                                             751737   \n",
       "7  01 602 000                                            2249835   \n",
       "8  01 603 000                                             459865   \n",
       "9  01 604 000                                            1370409   \n",
       "\n",
       "                                Unnamed: 4  \\\n",
       "0                                      NaN   \n",
       "1                                      NaN   \n",
       "2  Социальные и другие выплаты, тыс.рублей   \n",
       "3                                        3   \n",
       "4                                      NaN   \n",
       "5                          61319439.770861   \n",
       "6                            807012.558656   \n",
       "7                           1398079.147707   \n",
       "8                            618096.024901   \n",
       "9                           1993439.810531   \n",
       "\n",
       "                                          Unnamed: 5  \\\n",
       "0                                                NaN   \n",
       "1                                                NaN   \n",
       "2  Объем социальных выплат населению и налогообла...   \n",
       "3                                                  4   \n",
       "4                                                NaN   \n",
       "5                                   117472220.770861   \n",
       "6                                     1558749.558656   \n",
       "7                                     3647914.147707   \n",
       "8                                     1077961.024901   \n",
       "9                                     3363848.810531   \n",
       "\n",
       "                                          Unnamed: 6  \n",
       "0                                                NaN  \n",
       "1                                                NaN  \n",
       "2  Объем социальных выплат и налогооблагаемых ден...  \n",
       "3                                                  5  \n",
       "4                                                NaN  \n",
       "5                                      111533.613519  \n",
       "6                                      103647.154642  \n",
       "7                                      139981.356397  \n",
       "8                                      109749.646192  \n",
       "9                                      102628.331163  "
      ]
     },
     "execution_count": 165,
     "metadata": {},
     "output_type": "execute_result"
    }
   ],
   "source": [
    "income_transferts_2014_raw.head(10)"
   ]
  },
  {
   "cell_type": "code",
   "execution_count": 166,
   "id": "7785e265-5ea4-47b9-89d8-ce9b87bf0242",
   "metadata": {},
   "outputs": [
    {
     "data": {
      "text/html": [
       "<div>\n",
       "<style scoped>\n",
       "    .dataframe tbody tr th:only-of-type {\n",
       "        vertical-align: middle;\n",
       "    }\n",
       "\n",
       "    .dataframe tbody tr th {\n",
       "        vertical-align: top;\n",
       "    }\n",
       "\n",
       "    .dataframe thead th {\n",
       "        text-align: right;\n",
       "    }\n",
       "</style>\n",
       "<table border=\"1\" class=\"dataframe\">\n",
       "  <thead>\n",
       "    <tr style=\"text-align: right;\">\n",
       "      <th></th>\n",
       "      <th>Unnamed: 0</th>\n",
       "      <th>Unnamed: 1</th>\n",
       "      <th>Unnamed: 2</th>\n",
       "      <th>Unnamed: 3</th>\n",
       "      <th>Unnamed: 4</th>\n",
       "      <th>Unnamed: 5</th>\n",
       "      <th>Unnamed: 6</th>\n",
       "    </tr>\n",
       "  </thead>\n",
       "  <tbody>\n",
       "    <tr>\n",
       "      <th>2627</th>\n",
       "      <td>NaN</td>\n",
       "      <td>NaN</td>\n",
       "      <td>NaN</td>\n",
       "      <td>NaN</td>\n",
       "      <td>NaN</td>\n",
       "      <td>NaN</td>\n",
       "      <td>NaN</td>\n",
       "    </tr>\n",
       "    <tr>\n",
       "      <th>2628</th>\n",
       "      <td>NaN</td>\n",
       "      <td>Еврейская автономная область</td>\n",
       "      <td>99</td>\n",
       "      <td>NaN</td>\n",
       "      <td>NaN</td>\n",
       "      <td>NaN</td>\n",
       "      <td>NaN</td>\n",
       "    </tr>\n",
       "    <tr>\n",
       "      <th>2629</th>\n",
       "      <td>NaN</td>\n",
       "      <td>Муниципальные районы</td>\n",
       "      <td>99600000</td>\n",
       "      <td>10694149.5</td>\n",
       "      <td>4995713.631691</td>\n",
       "      <td>15689863.131691</td>\n",
       "      <td>165874.077659</td>\n",
       "    </tr>\n",
       "    <tr>\n",
       "      <th>2630</th>\n",
       "      <td>1</td>\n",
       "      <td>Биробиджанский</td>\n",
       "      <td>99605000</td>\n",
       "      <td>1439763</td>\n",
       "      <td>622877.616913</td>\n",
       "      <td>2062640.616913</td>\n",
       "      <td>172375.114233</td>\n",
       "    </tr>\n",
       "    <tr>\n",
       "      <th>2631</th>\n",
       "      <td>2</td>\n",
       "      <td>Ленинский</td>\n",
       "      <td>99610000</td>\n",
       "      <td>1736981.6</td>\n",
       "      <td>830660.809395</td>\n",
       "      <td>2567642.409395</td>\n",
       "      <td>133307.845356</td>\n",
       "    </tr>\n",
       "    <tr>\n",
       "      <th>2632</th>\n",
       "      <td>3</td>\n",
       "      <td>Облученский</td>\n",
       "      <td>99620000</td>\n",
       "      <td>4923678.3</td>\n",
       "      <td>1626804.733701</td>\n",
       "      <td>6550483.033701</td>\n",
       "      <td>244585.282417</td>\n",
       "    </tr>\n",
       "    <tr>\n",
       "      <th>2633</th>\n",
       "      <td>4</td>\n",
       "      <td>Октябрьский</td>\n",
       "      <td>99625000</td>\n",
       "      <td>772833.8</td>\n",
       "      <td>550173.029273</td>\n",
       "      <td>1323006.829273</td>\n",
       "      <td>126980.212043</td>\n",
       "    </tr>\n",
       "    <tr>\n",
       "      <th>2634</th>\n",
       "      <td>5</td>\n",
       "      <td>Смидовичский</td>\n",
       "      <td>99630000</td>\n",
       "      <td>1820892.8</td>\n",
       "      <td>1365197.442409</td>\n",
       "      <td>3186090.242409</td>\n",
       "      <td>121787.784963</td>\n",
       "    </tr>\n",
       "    <tr>\n",
       "      <th>2635</th>\n",
       "      <td>NaN</td>\n",
       "      <td>Городские округа</td>\n",
       "      <td>99700000</td>\n",
       "      <td>15125481</td>\n",
       "      <td>4735712.922719</td>\n",
       "      <td>19861193.922719</td>\n",
       "      <td>265580.79165</td>\n",
       "    </tr>\n",
       "    <tr>\n",
       "      <th>2636</th>\n",
       "      <td>1</td>\n",
       "      <td>г.Биробиджан</td>\n",
       "      <td>99701000</td>\n",
       "      <td>15125481</td>\n",
       "      <td>4735712.922719</td>\n",
       "      <td>19861193.922719</td>\n",
       "      <td>265580.79165</td>\n",
       "    </tr>\n",
       "  </tbody>\n",
       "</table>\n",
       "</div>"
      ],
      "text/plain": [
       "     Unnamed: 0                     Unnamed: 1 Unnamed: 2  Unnamed: 3  \\\n",
       "2627        NaN                            NaN        NaN         NaN   \n",
       "2628        NaN  Еврейская автономная область          99         NaN   \n",
       "2629        NaN          Муниципальные районы    99600000  10694149.5   \n",
       "2630          1                Биробиджанский    99605000     1439763   \n",
       "2631          2                     Ленинский    99610000   1736981.6   \n",
       "2632          3                   Облученский    99620000   4923678.3   \n",
       "2633          4                   Октябрьский    99625000    772833.8   \n",
       "2634          5                  Смидовичский    99630000   1820892.8   \n",
       "2635        NaN              Городские округа    99700000    15125481   \n",
       "2636          1                   г.Биробиджан   99701000    15125481   \n",
       "\n",
       "          Unnamed: 4       Unnamed: 5     Unnamed: 6  \n",
       "2627             NaN              NaN            NaN  \n",
       "2628             NaN              NaN            NaN  \n",
       "2629  4995713.631691  15689863.131691  165874.077659  \n",
       "2630   622877.616913   2062640.616913  172375.114233  \n",
       "2631   830660.809395   2567642.409395  133307.845356  \n",
       "2632  1626804.733701   6550483.033701  244585.282417  \n",
       "2633   550173.029273   1323006.829273  126980.212043  \n",
       "2634  1365197.442409   3186090.242409  121787.784963  \n",
       "2635  4735712.922719  19861193.922719   265580.79165  \n",
       "2636  4735712.922719  19861193.922719   265580.79165  "
      ]
     },
     "execution_count": 166,
     "metadata": {},
     "output_type": "execute_result"
    }
   ],
   "source": [
    "income_transferts_2014_raw.tail(10)"
   ]
  },
  {
   "cell_type": "code",
   "execution_count": 167,
   "id": "f9a555b2-46c8-4150-9af9-41dd5f68c220",
   "metadata": {},
   "outputs": [],
   "source": [
    "income_transferts_2014 = income_transferts_2014_raw.copy()"
   ]
  },
  {
   "cell_type": "markdown",
   "id": "acc0a1a4-163a-418e-9098-d389400d2015",
   "metadata": {},
   "source": [
    "##### Rename columns and drop useless"
   ]
  },
  {
   "cell_type": "code",
   "execution_count": 168,
   "id": "f27ff627-44e4-4d8a-80d7-ebe2d36363d8",
   "metadata": {},
   "outputs": [],
   "source": [
    "income_transferts_2014_columns = [\n",
    "    '-', 'index1', 'ОКТМО', 'Доходы', 'Социальные выплаты',\n",
    "    'Суммарные выплаты', 'Выплаты на 1 чел.'\n",
    "]"
   ]
  },
  {
   "cell_type": "code",
   "execution_count": 169,
   "id": "9232ecaa-fb93-4916-b13c-b2f647bb9884",
   "metadata": {},
   "outputs": [],
   "source": [
    "income_transferts_2014.columns = income_transferts_2014_columns"
   ]
  },
  {
   "cell_type": "code",
   "execution_count": 170,
   "id": "b880c3ce-3f5e-4fbc-946a-8cb047efa829",
   "metadata": {},
   "outputs": [],
   "source": [
    "# drop useless columns with name '-'\n",
    "income_transferts_2014 = income_transferts_2014.drop('-', axis=1)"
   ]
  },
  {
   "cell_type": "markdown",
   "id": "971b0934-63fb-40fb-8668-8b5afa70e33f",
   "metadata": {},
   "source": [
    "##### Cut rows and drop NaNs"
   ]
  },
  {
   "cell_type": "code",
   "execution_count": 171,
   "id": "ed60911f-3605-4683-9773-349f0fddf068",
   "metadata": {},
   "outputs": [],
   "source": [
    "# cut rows\n",
    "income_transferts_2014 = transform_cut_rows(income_transferts_2014, 4, 0)"
   ]
  },
  {
   "cell_type": "code",
   "execution_count": 172,
   "id": "0a576173-fa43-42c2-affd-a3707afb3f41",
   "metadata": {},
   "outputs": [],
   "source": [
    "# drop rows with NaNs in 'index0' column\n",
    "income_transferts_2014 = \\\n",
    "    income_transferts_2014[income_transferts_2014['index1'].notna()]"
   ]
  },
  {
   "cell_type": "markdown",
   "id": "f7baf527-2754-4168-96f3-9fda5257e7d4",
   "metadata": {},
   "source": [
    "##### Normalize OKTMO"
   ]
  },
  {
   "cell_type": "code",
   "execution_count": 173,
   "id": "a0e914b9-dc34-41ed-a01e-f12c3e1c7c8e",
   "metadata": {},
   "outputs": [],
   "source": [
    "# make OKTMO column values str\n",
    "income_transferts_2014['ОКТМО'] = income_transferts_2014['ОКТМО'].astype(str)"
   ]
  },
  {
   "cell_type": "code",
   "execution_count": 174,
   "id": "28280f90-eadf-4951-84c9-1f06b58f6338",
   "metadata": {},
   "outputs": [],
   "source": [
    "# normalize oktmo - remove spaces and other dirt\n",
    "income_transferts_2014['ОКТМО'] = \\\n",
    "    income_transferts_2014['ОКТМО'].apply(lambda x: normalize_oktmo(x))"
   ]
  },
  {
   "cell_type": "markdown",
   "id": "9d4cd4c4-9237-49de-96cc-f2693595f3d8",
   "metadata": {},
   "source": [
    "##### Level0 for Multiindex"
   ]
  },
  {
   "cell_type": "code",
   "execution_count": 175,
   "id": "1c8b0ade-ad89-4a4c-81a5-d1fc1c459e0a",
   "metadata": {},
   "outputs": [],
   "source": [
    "# create index level0 column\n",
    "income_transferts_2014['index0'] = np.NaN"
   ]
  },
  {
   "cell_type": "code",
   "execution_count": 176,
   "id": "abc13fe9-881e-4834-bdd8-3ef0989b1099",
   "metadata": {},
   "outputs": [],
   "source": [
    "# fill in by region with OKTMO in OKTMO column\n",
    "income_transferts_2014 = (income_transferts_2014\n",
    "                          .assign(index0=income_transferts_2014['ОКТМО']\n",
    "                                  .map(region_oktmo_norm_dict_sorted)\n",
    "                                  .fillna(income_transferts_2014['index0'])))"
   ]
  },
  {
   "cell_type": "code",
   "execution_count": 177,
   "id": "eca563ca-542c-4486-b501-cf18d94f44c3",
   "metadata": {},
   "outputs": [],
   "source": [
    "# 1) 'Архангельская область' and \n",
    "# 'Ненецкий автономный округ (Архангельская область)' have the same OKTMO == 11\n",
    "# 2) 'Ненецкий автономный округ (Архангельская область)' index allways greater than index of \n",
    "# 'Архангельская область'\n",
    "# knowing this, we replace duplicate 'Архангельская область' by 'Ненецкий автономный округ (Архангельская область)'\n",
    "income_transferts_2014 = normalize_nenec(income_transferts_2014, 'index0')"
   ]
  },
  {
   "cell_type": "code",
   "execution_count": 178,
   "id": "9ec37650-8f2a-4e6d-9202-6a06bb11f984",
   "metadata": {},
   "outputs": [],
   "source": [
    "# the same correction for 'Тюменская область'\n",
    "income_transferts_2014 = normalize_khantymanci(income_transferts_2014, 'index0')"
   ]
  },
  {
   "cell_type": "code",
   "execution_count": 179,
   "id": "d2e90937-7926-4c63-823e-0d949cf209c6",
   "metadata": {},
   "outputs": [],
   "source": [
    "# fill '-' values in index0 column\n",
    "income_transferts_2014 = transform_fill_values_by_previous(\n",
    "    income_transferts_2014, kind='column', column_name='index0')"
   ]
  },
  {
   "cell_type": "markdown",
   "id": "634f64e4-1617-4eb0-bff1-41893f91299d",
   "metadata": {},
   "source": [
    "##### Level1 for Multiindex"
   ]
  },
  {
   "cell_type": "code",
   "execution_count": 180,
   "id": "3857a5b2-44bf-4fe0-846a-bb525a9eb0a2",
   "metadata": {},
   "outputs": [],
   "source": [
    "# change region name in 'index1' column to 'Всего'\n",
    "income_transferts_2014['index1'] = income_transferts_2014.apply(\n",
    "    lambda x: transferts_various(x['ОКТМО'], x['index1']), axis=1)"
   ]
  },
  {
   "cell_type": "code",
   "execution_count": 181,
   "id": "577861a1-9d8a-4f66-82c7-f3f0b3c1a249",
   "metadata": {},
   "outputs": [],
   "source": [
    "# normalize 'Муниципальные районы' and 'Гордские округа' - remove spaces and other dirt\n",
    "income_transferts_2014['index1'] = \\\n",
    "    income_transferts_2014['index1'].apply(lambda x: normalize_municipal_town(x))"
   ]
  },
  {
   "cell_type": "markdown",
   "id": "fdc03581-ad77-44c8-85f8-8a106a34eaee",
   "metadata": {},
   "source": [
    "##### Fill rows with sum ('Всего')"
   ]
  },
  {
   "cell_type": "code",
   "execution_count": 182,
   "id": "d03142de-cfca-4883-99f3-f394c1402853",
   "metadata": {},
   "outputs": [],
   "source": [
    "# columns for sum of 'Муниципальные районы' and 'Городские округа'\n",
    "columns_summary2012 = [\n",
    "    'Доходы', 'Социальные выплаты', 'Суммарные выплаты', 'Выплаты на 1 чел.']"
   ]
  },
  {
   "cell_type": "code",
   "execution_count": 183,
   "id": "78f8d528-cf15-41e7-9d6c-1dbcca31fc1f",
   "metadata": {},
   "outputs": [],
   "source": [
    "# create regions list\n",
    "regions_list2012 = list(set(income_transferts_2014['index0']))\n",
    "regions_list2012.sort()"
   ]
  },
  {
   "cell_type": "code",
   "execution_count": 184,
   "id": "2c8bd009-5196-4154-a235-af90e487fa3e",
   "metadata": {},
   "outputs": [
    {
     "name": "stdout",
     "output_type": "stream",
     "text": [
      "Region Санкт-Петербург not in \"Minucipal-Town Dictionary\"\n"
     ]
    }
   ],
   "source": [
    "# count sum of 'Муниципальные районы' and 'Городские округа'\n",
    "income_transferts_2014 = calculate_sum_transferts(\n",
    "    data=income_transferts_2014,\n",
    "    columns=columns_summary2012,\n",
    "    regions=regions_list2012,\n",
    "    mapping_dict=municipal_town_dict)"
   ]
  },
  {
   "cell_type": "markdown",
   "id": "39641a73-b04c-47d5-b960-f238821af0ce",
   "metadata": {},
   "source": [
    "##### Count Regions"
   ]
  },
  {
   "cell_type": "code",
   "execution_count": 185,
   "id": "6c0b0e04-b43f-40b8-9e76-7312fed941b1",
   "metadata": {},
   "outputs": [
    {
     "data": {
      "text/plain": [
       "82"
      ]
     },
     "execution_count": 185,
     "metadata": {},
     "output_type": "execute_result"
    }
   ],
   "source": [
    "# count regions\n",
    "regions_count2012 = len(set(income_transferts_2014['index0'].values))\n",
    "regions_count2012"
   ]
  },
  {
   "cell_type": "markdown",
   "id": "9c865c84-7476-46b5-93bd-fdabb55d984a",
   "metadata": {},
   "source": [
    "##### Create Multiindex"
   ]
  },
  {
   "cell_type": "code",
   "execution_count": 186,
   "id": "6e8b1130-7f1d-45d5-8fcd-a3d4dcca72d0",
   "metadata": {},
   "outputs": [],
   "source": [
    "# columns to multiindex\n",
    "income_transferts_2014 = transform_make_index_from_columns(\n",
    "    income_transferts_2014, ['index0', 'index1'])"
   ]
  },
  {
   "cell_type": "code",
   "execution_count": 187,
   "id": "a0bc88cf-3bb3-4c45-a523-96bfd2909253",
   "metadata": {},
   "outputs": [],
   "source": [
    "# drop columns, that became multiindexes\n",
    "income_transferts_2014 = income_transferts_2014.drop(['index0', 'index1'], axis=1)"
   ]
  },
  {
   "cell_type": "markdown",
   "id": "877c1816-e486-4191-a7c0-aad7a2ddf770",
   "metadata": {},
   "source": [
    "##### Round (one symbol)"
   ]
  },
  {
   "cell_type": "code",
   "execution_count": 188,
   "id": "838616f1-2317-43e0-aba9-6fb1485019f4",
   "metadata": {},
   "outputs": [],
   "source": [
    "# round\n",
    "for column in income_transferts_2014.columns:\n",
    "    try:\n",
    "        income_transferts_2014[column] = \\\n",
    "            income_transferts_2014[column].astype(float).round(1)\n",
    "    except ValueError:\n",
    "        pass"
   ]
  },
  {
   "cell_type": "markdown",
   "id": "d64d360d-a1d5-403c-920b-8b126917502b",
   "metadata": {},
   "source": [
    "##### <font color='#2A5899'>2014 Check for Discrepancy</font>"
   ]
  },
  {
   "cell_type": "code",
   "execution_count": 189,
   "id": "009e7cd3-deab-4229-8577-e90ab0adeaa0",
   "metadata": {},
   "outputs": [
    {
     "data": {
      "text/plain": [
       "False"
      ]
     },
     "execution_count": 189,
     "metadata": {},
     "output_type": "execute_result"
    }
   ],
   "source": [
    "# OKTMO check for NaN\n",
    "income_transferts_2014[income_transferts_2014['ОКТМО'].isna()].any().any()"
   ]
  },
  {
   "cell_type": "code",
   "execution_count": 190,
   "id": "4b999ec6-e9cf-40d1-baab-2adb4bc10e70",
   "metadata": {},
   "outputs": [
    {
     "data": {
      "text/plain": [
       "True"
      ]
     },
     "execution_count": 190,
     "metadata": {},
     "output_type": "execute_result"
    }
   ],
   "source": [
    "# all data check for NaN\n",
    "income_transferts_2014[income_transferts_2014.isna().any(axis=1)].any().any()"
   ]
  },
  {
   "cell_type": "code",
   "execution_count": 191,
   "id": "8183a5b7-81b1-4619-8ca1-3263c0df5f08",
   "metadata": {},
   "outputs": [
    {
     "data": {
      "text/html": [
       "<div>\n",
       "<style scoped>\n",
       "    .dataframe tbody tr th:only-of-type {\n",
       "        vertical-align: middle;\n",
       "    }\n",
       "\n",
       "    .dataframe tbody tr th {\n",
       "        vertical-align: top;\n",
       "    }\n",
       "\n",
       "    .dataframe thead th {\n",
       "        text-align: right;\n",
       "    }\n",
       "</style>\n",
       "<table border=\"1\" class=\"dataframe\">\n",
       "  <thead>\n",
       "    <tr style=\"text-align: right;\">\n",
       "      <th></th>\n",
       "      <th></th>\n",
       "      <th>ОКТМО</th>\n",
       "      <th>Доходы</th>\n",
       "      <th>Социальные выплаты</th>\n",
       "      <th>Суммарные выплаты</th>\n",
       "      <th>Выплаты на 1 чел.</th>\n",
       "    </tr>\n",
       "  </thead>\n",
       "  <tbody>\n",
       "  </tbody>\n",
       "</table>\n",
       "</div>"
      ],
      "text/plain": [
       "Empty DataFrame\n",
       "Columns: [ОКТМО, Доходы, Социальные выплаты, Суммарные выплаты, Выплаты на 1 чел.]\n",
       "Index: []"
      ]
     },
     "execution_count": 191,
     "metadata": {},
     "output_type": "execute_result"
    }
   ],
   "source": [
    "income_transferts_2014[income_transferts_2014['Доходы'] == 0]"
   ]
  },
  {
   "cell_type": "code",
   "execution_count": 192,
   "id": "cb30bcb3-4ade-4494-b607-d8c72175c844",
   "metadata": {},
   "outputs": [
    {
     "data": {
      "text/html": [
       "<div>\n",
       "<style scoped>\n",
       "    .dataframe tbody tr th:only-of-type {\n",
       "        vertical-align: middle;\n",
       "    }\n",
       "\n",
       "    .dataframe tbody tr th {\n",
       "        vertical-align: top;\n",
       "    }\n",
       "\n",
       "    .dataframe thead th {\n",
       "        text-align: right;\n",
       "    }\n",
       "</style>\n",
       "<table border=\"1\" class=\"dataframe\">\n",
       "  <thead>\n",
       "    <tr style=\"text-align: right;\">\n",
       "      <th></th>\n",
       "      <th></th>\n",
       "      <th>ОКТМО</th>\n",
       "      <th>Доходы</th>\n",
       "      <th>Социальные выплаты</th>\n",
       "      <th>Суммарные выплаты</th>\n",
       "      <th>Выплаты на 1 чел.</th>\n",
       "    </tr>\n",
       "  </thead>\n",
       "  <tbody>\n",
       "  </tbody>\n",
       "</table>\n",
       "</div>"
      ],
      "text/plain": [
       "Empty DataFrame\n",
       "Columns: [ОКТМО, Доходы, Социальные выплаты, Суммарные выплаты, Выплаты на 1 чел.]\n",
       "Index: []"
      ]
     },
     "execution_count": 192,
     "metadata": {},
     "output_type": "execute_result"
    }
   ],
   "source": [
    "income_transferts_2014[income_transferts_2014['Социальные выплаты'] == 0]"
   ]
  },
  {
   "cell_type": "code",
   "execution_count": 193,
   "id": "6ee742e9-521b-4146-ae41-f7f3d021815f",
   "metadata": {},
   "outputs": [
    {
     "data": {
      "text/html": [
       "<div>\n",
       "<style scoped>\n",
       "    .dataframe tbody tr th:only-of-type {\n",
       "        vertical-align: middle;\n",
       "    }\n",
       "\n",
       "    .dataframe tbody tr th {\n",
       "        vertical-align: top;\n",
       "    }\n",
       "\n",
       "    .dataframe thead th {\n",
       "        text-align: right;\n",
       "    }\n",
       "</style>\n",
       "<table border=\"1\" class=\"dataframe\">\n",
       "  <thead>\n",
       "    <tr style=\"text-align: right;\">\n",
       "      <th></th>\n",
       "      <th></th>\n",
       "      <th>ОКТМО</th>\n",
       "      <th>Доходы</th>\n",
       "      <th>Социальные выплаты</th>\n",
       "      <th>Суммарные выплаты</th>\n",
       "      <th>Выплаты на 1 чел.</th>\n",
       "    </tr>\n",
       "  </thead>\n",
       "  <tbody>\n",
       "  </tbody>\n",
       "</table>\n",
       "</div>"
      ],
      "text/plain": [
       "Empty DataFrame\n",
       "Columns: [ОКТМО, Доходы, Социальные выплаты, Суммарные выплаты, Выплаты на 1 чел.]\n",
       "Index: []"
      ]
     },
     "execution_count": 193,
     "metadata": {},
     "output_type": "execute_result"
    }
   ],
   "source": [
    "income_transferts_2014[income_transferts_2014['Суммарные выплаты'] == 0]"
   ]
  },
  {
   "cell_type": "code",
   "execution_count": 194,
   "id": "3dd4a70d-799e-4ccb-b97f-38a715d4107e",
   "metadata": {},
   "outputs": [
    {
     "data": {
      "text/html": [
       "<div>\n",
       "<style scoped>\n",
       "    .dataframe tbody tr th:only-of-type {\n",
       "        vertical-align: middle;\n",
       "    }\n",
       "\n",
       "    .dataframe tbody tr th {\n",
       "        vertical-align: top;\n",
       "    }\n",
       "\n",
       "    .dataframe thead th {\n",
       "        text-align: right;\n",
       "    }\n",
       "</style>\n",
       "<table border=\"1\" class=\"dataframe\">\n",
       "  <thead>\n",
       "    <tr style=\"text-align: right;\">\n",
       "      <th></th>\n",
       "      <th></th>\n",
       "      <th>ОКТМО</th>\n",
       "      <th>Доходы</th>\n",
       "      <th>Социальные выплаты</th>\n",
       "      <th>Суммарные выплаты</th>\n",
       "      <th>Выплаты на 1 чел.</th>\n",
       "    </tr>\n",
       "  </thead>\n",
       "  <tbody>\n",
       "  </tbody>\n",
       "</table>\n",
       "</div>"
      ],
      "text/plain": [
       "Empty DataFrame\n",
       "Columns: [ОКТМО, Доходы, Социальные выплаты, Суммарные выплаты, Выплаты на 1 чел.]\n",
       "Index: []"
      ]
     },
     "execution_count": 194,
     "metadata": {},
     "output_type": "execute_result"
    }
   ],
   "source": [
    "income_transferts_2014[income_transferts_2014['Выплаты на 1 чел.'] == 0]"
   ]
  },
  {
   "cell_type": "code",
   "execution_count": 195,
   "id": "292d277d-7ded-48a1-a70e-c4edae6da5c3",
   "metadata": {},
   "outputs": [
    {
     "data": {
      "text/html": [
       "<div>\n",
       "<style scoped>\n",
       "    .dataframe tbody tr th:only-of-type {\n",
       "        vertical-align: middle;\n",
       "    }\n",
       "\n",
       "    .dataframe tbody tr th {\n",
       "        vertical-align: top;\n",
       "    }\n",
       "\n",
       "    .dataframe thead th {\n",
       "        text-align: right;\n",
       "    }\n",
       "</style>\n",
       "<table border=\"1\" class=\"dataframe\">\n",
       "  <thead>\n",
       "    <tr style=\"text-align: right;\">\n",
       "      <th></th>\n",
       "      <th></th>\n",
       "      <th>ОКТМО</th>\n",
       "      <th>Доходы</th>\n",
       "      <th>Социальные выплаты</th>\n",
       "      <th>Суммарные выплаты</th>\n",
       "      <th>Выплаты на 1 чел.</th>\n",
       "    </tr>\n",
       "  </thead>\n",
       "  <tbody>\n",
       "    <tr>\n",
       "      <th>Тюменская область</th>\n",
       "      <th>Всего</th>\n",
       "      <td>71</td>\n",
       "      <td>273241349.0</td>\n",
       "      <td>87404144.8</td>\n",
       "      <td>360645493.8</td>\n",
       "      <td>456135.6</td>\n",
       "    </tr>\n",
       "    <tr>\n",
       "      <th>Ханты-Мансийский автономный округ - Югра (Тюменская область)</th>\n",
       "      <th>Всего</th>\n",
       "      <td>71</td>\n",
       "      <td>646014842.4</td>\n",
       "      <td>125084303.1</td>\n",
       "      <td>771099145.5</td>\n",
       "      <td>1033500.4</td>\n",
       "    </tr>\n",
       "    <tr>\n",
       "      <th>Ямало-Ненецкий автономный округ (Тюменская область)</th>\n",
       "      <th>Всего</th>\n",
       "      <td>71</td>\n",
       "      <td>352327224.1</td>\n",
       "      <td>45884045.8</td>\n",
       "      <td>398211269.9</td>\n",
       "      <td>1617387.6</td>\n",
       "    </tr>\n",
       "  </tbody>\n",
       "</table>\n",
       "</div>"
      ],
      "text/plain": [
       "                                                         ОКТМО       Доходы  \\\n",
       "Тюменская область                                  Всего    71  273241349.0   \n",
       "Ханты-Мансийский автономный округ - Югра (Тюмен... Всего    71  646014842.4   \n",
       "Ямало-Ненецкий автономный округ (Тюменская обла... Всего    71  352327224.1   \n",
       "\n",
       "                                                          Социальные выплаты  \\\n",
       "Тюменская область                                  Всего          87404144.8   \n",
       "Ханты-Мансийский автономный округ - Югра (Тюмен... Всего         125084303.1   \n",
       "Ямало-Ненецкий автономный округ (Тюменская обла... Всего          45884045.8   \n",
       "\n",
       "                                                          Суммарные выплаты  \\\n",
       "Тюменская область                                  Всего        360645493.8   \n",
       "Ханты-Мансийский автономный округ - Югра (Тюмен... Всего        771099145.5   \n",
       "Ямало-Ненецкий автономный округ (Тюменская обла... Всего        398211269.9   \n",
       "\n",
       "                                                          Выплаты на 1 чел.  \n",
       "Тюменская область                                  Всего           456135.6  \n",
       "Ханты-Мансийский автономный округ - Югра (Тюмен... Всего          1033500.4  \n",
       "Ямало-Ненецкий автономный округ (Тюменская обла... Всего          1617387.6  "
      ]
     },
     "execution_count": 195,
     "metadata": {},
     "output_type": "execute_result"
    }
   ],
   "source": [
    "income_transferts_2014[income_transferts_2014['ОКТМО'] == '71']"
   ]
  },
  {
   "cell_type": "code",
   "execution_count": 196,
   "id": "9a870ac1-177f-4e1b-b3a4-5ad1f622f8f8",
   "metadata": {},
   "outputs": [
    {
     "data": {
      "text/html": [
       "<div>\n",
       "<style scoped>\n",
       "    .dataframe tbody tr th:only-of-type {\n",
       "        vertical-align: middle;\n",
       "    }\n",
       "\n",
       "    .dataframe tbody tr th {\n",
       "        vertical-align: top;\n",
       "    }\n",
       "\n",
       "    .dataframe thead th {\n",
       "        text-align: right;\n",
       "    }\n",
       "</style>\n",
       "<table border=\"1\" class=\"dataframe\">\n",
       "  <thead>\n",
       "    <tr style=\"text-align: right;\">\n",
       "      <th></th>\n",
       "      <th></th>\n",
       "      <th>ОКТМО</th>\n",
       "      <th>Доходы</th>\n",
       "      <th>Социальные выплаты</th>\n",
       "      <th>Суммарные выплаты</th>\n",
       "      <th>Выплаты на 1 чел.</th>\n",
       "    </tr>\n",
       "  </thead>\n",
       "  <tbody>\n",
       "    <tr>\n",
       "      <th>Архангельская область</th>\n",
       "      <th>Всего</th>\n",
       "      <td>11</td>\n",
       "      <td>230911090.0</td>\n",
       "      <td>96654055.8</td>\n",
       "      <td>327565145.8</td>\n",
       "      <td>545281.8</td>\n",
       "    </tr>\n",
       "    <tr>\n",
       "      <th>Ненецкий автономный округ (Архангельская область)</th>\n",
       "      <th>Всего</th>\n",
       "      <td>11</td>\n",
       "      <td>62794340.0</td>\n",
       "      <td>8519788.9</td>\n",
       "      <td>71314128.9</td>\n",
       "      <td>3203344.6</td>\n",
       "    </tr>\n",
       "  </tbody>\n",
       "</table>\n",
       "</div>"
      ],
      "text/plain": [
       "                                                        ОКТМО       Доходы  \\\n",
       "Архангельская область                             Всего    11  230911090.0   \n",
       "Ненецкий автономный округ (Архангельская область) Всего    11   62794340.0   \n",
       "\n",
       "                                                         Социальные выплаты  \\\n",
       "Архангельская область                             Всего          96654055.8   \n",
       "Ненецкий автономный округ (Архангельская область) Всего           8519788.9   \n",
       "\n",
       "                                                         Суммарные выплаты  \\\n",
       "Архангельская область                             Всего        327565145.8   \n",
       "Ненецкий автономный округ (Архангельская область) Всего         71314128.9   \n",
       "\n",
       "                                                         Выплаты на 1 чел.  \n",
       "Архангельская область                             Всего           545281.8  \n",
       "Ненецкий автономный округ (Архангельская область) Всего          3203344.6  "
      ]
     },
     "execution_count": 196,
     "metadata": {},
     "output_type": "execute_result"
    }
   ],
   "source": [
    "income_transferts_2014[income_transferts_2014['ОКТМО'] == '11']"
   ]
  },
  {
   "cell_type": "code",
   "execution_count": 197,
   "id": "f461bae3-e16a-4d2f-843c-3b7746e59123",
   "metadata": {},
   "outputs": [
    {
     "data": {
      "text/plain": [
       "['Ненецкий автономный округ (Архангельская область)']"
      ]
     },
     "execution_count": 197,
     "metadata": {},
     "output_type": "execute_result"
    }
   ],
   "source": [
    "# check if there are duplications in municipal, town and others OKTMO\n",
    "check_oktmo_2014_dupl_list = check_oktmo_duplication(\n",
    "    data=income_transferts_2014, \n",
    "    column_check='ОКТМО',\n",
    "    normalize_oktmo_list=municipal_town_dict)\n",
    "\n",
    "check_oktmo_2014_dupl_list"
   ]
  },
  {
   "cell_type": "code",
   "execution_count": 198,
   "id": "8804d6b5-46bb-40dc-80ae-d27d5c7149fc",
   "metadata": {},
   "outputs": [
    {
     "data": {
      "text/html": [
       "<div>\n",
       "<style scoped>\n",
       "    .dataframe tbody tr th:only-of-type {\n",
       "        vertical-align: middle;\n",
       "    }\n",
       "\n",
       "    .dataframe tbody tr th {\n",
       "        vertical-align: top;\n",
       "    }\n",
       "\n",
       "    .dataframe thead th {\n",
       "        text-align: right;\n",
       "    }\n",
       "</style>\n",
       "<table border=\"1\" class=\"dataframe\">\n",
       "  <thead>\n",
       "    <tr style=\"text-align: right;\">\n",
       "      <th></th>\n",
       "      <th></th>\n",
       "      <th>ОКТМО</th>\n",
       "      <th>Доходы</th>\n",
       "      <th>Социальные выплаты</th>\n",
       "      <th>Суммарные выплаты</th>\n",
       "      <th>Выплаты на 1 чел.</th>\n",
       "    </tr>\n",
       "  </thead>\n",
       "  <tbody>\n",
       "    <tr>\n",
       "      <th rowspan=\"2\" valign=\"top\">Алтайский край</th>\n",
       "      <th>Муниципальные районы</th>\n",
       "      <td>01 600 000</td>\n",
       "      <td>56152781.0</td>\n",
       "      <td>61319439.8</td>\n",
       "      <td>117472220.8</td>\n",
       "      <td>111533.6</td>\n",
       "    </tr>\n",
       "    <tr>\n",
       "      <th>Городские округа</th>\n",
       "      <td>01 700 000</td>\n",
       "      <td>168854960.0</td>\n",
       "      <td>73217670.2</td>\n",
       "      <td>242072630.2</td>\n",
       "      <td>181398.5</td>\n",
       "    </tr>\n",
       "  </tbody>\n",
       "</table>\n",
       "</div>"
      ],
      "text/plain": [
       "                                          ОКТМО       Доходы  \\\n",
       "Алтайский край Муниципальные районы  01 600 000   56152781.0   \n",
       "               Городские округа      01 700 000  168854960.0   \n",
       "\n",
       "                                     Социальные выплаты  Суммарные выплаты  \\\n",
       "Алтайский край Муниципальные районы          61319439.8        117472220.8   \n",
       "               Городские округа              73217670.2        242072630.2   \n",
       "\n",
       "                                     Выплаты на 1 чел.  \n",
       "Алтайский край Муниципальные районы           111533.6  \n",
       "               Городские округа               181398.5  "
      ]
     },
     "execution_count": 198,
     "metadata": {},
     "output_type": "execute_result"
    }
   ],
   "source": [
    "(income_transferts_2014\n",
    " .loc[income_transferts_2014['ОКТМО']\n",
    " .isin(municipal_town_dict['Алтайский край'])])"
   ]
  },
  {
   "cell_type": "markdown",
   "id": "cac8946f-d90c-43b9-bfed-09f62148caf1",
   "metadata": {},
   "source": [
    "##### <font color='#2A5899'>2014 Final Result</font>"
   ]
  },
  {
   "cell_type": "code",
   "execution_count": 199,
   "id": "74fa3513-4a4a-4a18-8b98-6151c7e97cdf",
   "metadata": {},
   "outputs": [
    {
     "data": {
      "text/html": [
       "<div>\n",
       "<style scoped>\n",
       "    .dataframe tbody tr th:only-of-type {\n",
       "        vertical-align: middle;\n",
       "    }\n",
       "\n",
       "    .dataframe tbody tr th {\n",
       "        vertical-align: top;\n",
       "    }\n",
       "\n",
       "    .dataframe thead th {\n",
       "        text-align: right;\n",
       "    }\n",
       "</style>\n",
       "<table border=\"1\" class=\"dataframe\">\n",
       "  <thead>\n",
       "    <tr style=\"text-align: right;\">\n",
       "      <th></th>\n",
       "      <th></th>\n",
       "      <th>ОКТМО</th>\n",
       "      <th>Доходы</th>\n",
       "      <th>Социальные выплаты</th>\n",
       "      <th>Суммарные выплаты</th>\n",
       "      <th>Выплаты на 1 чел.</th>\n",
       "    </tr>\n",
       "  </thead>\n",
       "  <tbody>\n",
       "    <tr>\n",
       "      <th rowspan=\"5\" valign=\"top\">Алтайский край</th>\n",
       "      <th>Всего</th>\n",
       "      <td>01</td>\n",
       "      <td>225007741.0</td>\n",
       "      <td>134537110.0</td>\n",
       "      <td>359544851.0</td>\n",
       "      <td>292932.1</td>\n",
       "    </tr>\n",
       "    <tr>\n",
       "      <th>Муниципальные районы</th>\n",
       "      <td>01 600 000</td>\n",
       "      <td>56152781.0</td>\n",
       "      <td>61319439.8</td>\n",
       "      <td>117472220.8</td>\n",
       "      <td>111533.6</td>\n",
       "    </tr>\n",
       "    <tr>\n",
       "      <th>Алейский</th>\n",
       "      <td>01 601 000</td>\n",
       "      <td>751737.0</td>\n",
       "      <td>807012.6</td>\n",
       "      <td>1558749.6</td>\n",
       "      <td>103647.2</td>\n",
       "    </tr>\n",
       "    <tr>\n",
       "      <th>Алтайский</th>\n",
       "      <td>01 602 000</td>\n",
       "      <td>2249835.0</td>\n",
       "      <td>1398079.1</td>\n",
       "      <td>3647914.1</td>\n",
       "      <td>139981.4</td>\n",
       "    </tr>\n",
       "    <tr>\n",
       "      <th>Баевский</th>\n",
       "      <td>01 603 000</td>\n",
       "      <td>459865.0</td>\n",
       "      <td>618096.0</td>\n",
       "      <td>1077961.0</td>\n",
       "      <td>109749.6</td>\n",
       "    </tr>\n",
       "  </tbody>\n",
       "</table>\n",
       "</div>"
      ],
      "text/plain": [
       "                                          ОКТМО       Доходы  \\\n",
       "Алтайский край Всего                         01  225007741.0   \n",
       "               Муниципальные районы  01 600 000   56152781.0   \n",
       "               Алейский              01 601 000     751737.0   \n",
       "               Алтайский             01 602 000    2249835.0   \n",
       "               Баевский              01 603 000     459865.0   \n",
       "\n",
       "                                     Социальные выплаты  Суммарные выплаты  \\\n",
       "Алтайский край Всего                        134537110.0        359544851.0   \n",
       "               Муниципальные районы          61319439.8        117472220.8   \n",
       "               Алейский                        807012.6          1558749.6   \n",
       "               Алтайский                      1398079.1          3647914.1   \n",
       "               Баевский                        618096.0          1077961.0   \n",
       "\n",
       "                                     Выплаты на 1 чел.  \n",
       "Алтайский край Всего                          292932.1  \n",
       "               Муниципальные районы           111533.6  \n",
       "               Алейский                       103647.2  \n",
       "               Алтайский                      139981.4  \n",
       "               Баевский                       109749.6  "
      ]
     },
     "execution_count": 199,
     "metadata": {},
     "output_type": "execute_result"
    }
   ],
   "source": [
    "income_transferts_2014.head()"
   ]
  },
  {
   "cell_type": "code",
   "execution_count": 200,
   "id": "d4e9b219-2b29-4d0d-8788-0b3bb6524dd5",
   "metadata": {},
   "outputs": [
    {
     "data": {
      "text/html": [
       "<div>\n",
       "<style scoped>\n",
       "    .dataframe tbody tr th:only-of-type {\n",
       "        vertical-align: middle;\n",
       "    }\n",
       "\n",
       "    .dataframe tbody tr th {\n",
       "        vertical-align: top;\n",
       "    }\n",
       "\n",
       "    .dataframe thead th {\n",
       "        text-align: right;\n",
       "    }\n",
       "</style>\n",
       "<table border=\"1\" class=\"dataframe\">\n",
       "  <thead>\n",
       "    <tr style=\"text-align: right;\">\n",
       "      <th></th>\n",
       "      <th>ОКТМО</th>\n",
       "      <th>Доходы</th>\n",
       "      <th>Социальные выплаты</th>\n",
       "      <th>Суммарные выплаты</th>\n",
       "      <th>Выплаты на 1 чел.</th>\n",
       "    </tr>\n",
       "  </thead>\n",
       "  <tbody>\n",
       "    <tr>\n",
       "      <th>Всего</th>\n",
       "      <td>46</td>\n",
       "      <td>1483266710.7</td>\n",
       "      <td>451593916.2</td>\n",
       "      <td>1934860626.9</td>\n",
       "      <td>541140.0</td>\n",
       "    </tr>\n",
       "  </tbody>\n",
       "</table>\n",
       "</div>"
      ],
      "text/plain": [
       "      ОКТМО        Доходы Социальные выплаты Суммарные выплаты  \\\n",
       "Всего    46  1483266710.7        451593916.2      1934860626.9   \n",
       "\n",
       "      Выплаты на 1 чел.  \n",
       "Всего          541140.0  "
      ]
     },
     "execution_count": 200,
     "metadata": {},
     "output_type": "execute_result"
    }
   ],
   "source": [
    "get_data_two_level(\n",
    "    data=income_transferts_2014,\n",
    "    level0='Московская область',\n",
    "    level1='Всего',\n",
    "    kind='index')"
   ]
  },
  {
   "cell_type": "code",
   "execution_count": 201,
   "id": "3db1cb47-468a-4dff-895b-7074e6a58b52",
   "metadata": {},
   "outputs": [],
   "source": [
    "datasets_list.append(income_transferts_2014)"
   ]
  },
  {
   "cell_type": "markdown",
   "id": "8f15527f-7913-4888-9ce2-bb8e7e8ab8ec",
   "metadata": {},
   "source": [
    "#### <font color='#AF4035'>2015 год</font>"
   ]
  },
  {
   "cell_type": "markdown",
   "id": "70038f6e-311b-4910-9ee9-354e0f4fe6cd",
   "metadata": {},
   "source": [
    "##### Regions OKTMO codes"
   ]
  },
  {
   "cell_type": "code",
   "execution_count": 202,
   "id": "da1c7aaf-031d-4552-966f-e84396da53b9",
   "metadata": {},
   "outputs": [],
   "source": [
    "path_2015 = \\\n",
    "    ('/Users/a.chasovsky/Library/CloudStorage/GoogleDrive-alexanderchasovsky@gmail.com/'\n",
    "     'Мой диск/Data Science Projects/pers_economics_rus/data/00-Region-codes/')\n",
    "os.chdir(path_2015)\n",
    "%run 2015.ipynb\n",
    "os.chdir(current_path)"
   ]
  },
  {
   "cell_type": "markdown",
   "id": "7a40fcb7-50d1-4ab5-9207-555115bbf230",
   "metadata": {},
   "source": [
    "##### Data"
   ]
  },
  {
   "cell_type": "code",
   "execution_count": 203,
   "id": "23c2a70f-fddc-45b4-b86b-922d38a94ec4",
   "metadata": {},
   "outputs": [],
   "source": [
    "income_transferts_2015_link = \\\n",
    "    ('data/02-Population/02-Standard-of-living/01-Income/'\n",
    "     'urov-14a2015.xls')"
   ]
  },
  {
   "cell_type": "code",
   "execution_count": 204,
   "id": "d902ecf1-ca52-47ed-82c7-1108681634b7",
   "metadata": {},
   "outputs": [],
   "source": [
    "income_transferts_2015_raw = pd.read_excel(income_transferts_2015_link)"
   ]
  },
  {
   "cell_type": "code",
   "execution_count": 205,
   "id": "0c52e602-5a96-4e20-86aa-3489d69059fb",
   "metadata": {},
   "outputs": [
    {
     "data": {
      "text/html": [
       "<div>\n",
       "<style scoped>\n",
       "    .dataframe tbody tr th:only-of-type {\n",
       "        vertical-align: middle;\n",
       "    }\n",
       "\n",
       "    .dataframe tbody tr th {\n",
       "        vertical-align: top;\n",
       "    }\n",
       "\n",
       "    .dataframe thead th {\n",
       "        text-align: right;\n",
       "    }\n",
       "</style>\n",
       "<table border=\"1\" class=\"dataframe\">\n",
       "  <thead>\n",
       "    <tr style=\"text-align: right;\">\n",
       "      <th></th>\n",
       "      <th>Unnamed: 0</th>\n",
       "      <th>Unnamed: 1</th>\n",
       "      <th>Unnamed: 2</th>\n",
       "      <th>Unnamed: 3</th>\n",
       "      <th>Unnamed: 4</th>\n",
       "      <th>Unnamed: 5</th>\n",
       "      <th>Unnamed: 6</th>\n",
       "    </tr>\n",
       "  </thead>\n",
       "  <tbody>\n",
       "    <tr>\n",
       "      <th>0</th>\n",
       "      <td>\"Объем социальных выплат населению и налогооб...</td>\n",
       "      <td>NaN</td>\n",
       "      <td>NaN</td>\n",
       "      <td>NaN</td>\n",
       "      <td>NaN</td>\n",
       "      <td>NaN</td>\n",
       "      <td>NaN</td>\n",
       "    </tr>\n",
       "    <tr>\n",
       "      <th>1</th>\n",
       "      <td>NaN</td>\n",
       "      <td>NaN</td>\n",
       "      <td>NaN</td>\n",
       "      <td>NaN</td>\n",
       "      <td>NaN</td>\n",
       "      <td>NaN</td>\n",
       "      <td>NaN</td>\n",
       "    </tr>\n",
       "    <tr>\n",
       "      <th>2</th>\n",
       "      <td>NaN</td>\n",
       "      <td>NaN</td>\n",
       "      <td>Код ОКТМО</td>\n",
       "      <td>Налогооблагаемые денежные доходы физических ли...</td>\n",
       "      <td>Социальные и другие выплаты, тыс.рублей</td>\n",
       "      <td>Объем социальных выплат населению и налогообла...</td>\n",
       "      <td>Объем социальных выплат и налогооблагаемых ден...</td>\n",
       "    </tr>\n",
       "    <tr>\n",
       "      <th>3</th>\n",
       "      <td>NaN</td>\n",
       "      <td>NaN</td>\n",
       "      <td>1</td>\n",
       "      <td>2</td>\n",
       "      <td>3</td>\n",
       "      <td>4</td>\n",
       "      <td>5</td>\n",
       "    </tr>\n",
       "    <tr>\n",
       "      <th>4</th>\n",
       "      <td>NaN</td>\n",
       "      <td>Алтайский край</td>\n",
       "      <td>01</td>\n",
       "      <td>NaN</td>\n",
       "      <td>NaN</td>\n",
       "      <td>NaN</td>\n",
       "      <td>NaN</td>\n",
       "    </tr>\n",
       "    <tr>\n",
       "      <th>5</th>\n",
       "      <td>NaN</td>\n",
       "      <td>Муниципальные районы</td>\n",
       "      <td>01 600 000</td>\n",
       "      <td>65678390.200549</td>\n",
       "      <td>70320487.235812</td>\n",
       "      <td>135998877.436361</td>\n",
       "      <td>125150.805606</td>\n",
       "    </tr>\n",
       "    <tr>\n",
       "      <th>6</th>\n",
       "      <td>1</td>\n",
       "      <td>Алейский</td>\n",
       "      <td>01 601 000</td>\n",
       "      <td>934172.675937</td>\n",
       "      <td>871714.118465</td>\n",
       "      <td>1805886.794402</td>\n",
       "      <td>121731.499454</td>\n",
       "    </tr>\n",
       "    <tr>\n",
       "      <th>7</th>\n",
       "      <td>2</td>\n",
       "      <td>Алтайский</td>\n",
       "      <td>01 602 000</td>\n",
       "      <td>1197788.022308</td>\n",
       "      <td>1556525.711051</td>\n",
       "      <td>2754313.733359</td>\n",
       "      <td>105408.103075</td>\n",
       "    </tr>\n",
       "    <tr>\n",
       "      <th>8</th>\n",
       "      <td>3</td>\n",
       "      <td>Баевский</td>\n",
       "      <td>01 603 000</td>\n",
       "      <td>621466.733172</td>\n",
       "      <td>683757.069359</td>\n",
       "      <td>1305223.802531</td>\n",
       "      <td>135890.036703</td>\n",
       "    </tr>\n",
       "    <tr>\n",
       "      <th>9</th>\n",
       "      <td>4</td>\n",
       "      <td>Бийский</td>\n",
       "      <td>01 604 000</td>\n",
       "      <td>1538278.541479</td>\n",
       "      <td>2112479.545443</td>\n",
       "      <td>3650758.086922</td>\n",
       "      <td>111767.024459</td>\n",
       "    </tr>\n",
       "  </tbody>\n",
       "</table>\n",
       "</div>"
      ],
      "text/plain": [
       "                                          Unnamed: 0             Unnamed: 1  \\\n",
       "0   \"Объем социальных выплат населению и налогооб...                    NaN   \n",
       "1                                                NaN                    NaN   \n",
       "2                                                NaN                    NaN   \n",
       "3                                                NaN                    NaN   \n",
       "4                                                NaN        Алтайский край    \n",
       "5                                                NaN  Муниципальные районы    \n",
       "6                                                  1               Алейский   \n",
       "7                                                  2              Алтайский   \n",
       "8                                                  3               Баевский   \n",
       "9                                                  4                Бийский   \n",
       "\n",
       "   Unnamed: 2                                         Unnamed: 3  \\\n",
       "0         NaN                                                NaN   \n",
       "1         NaN                                                NaN   \n",
       "2   Код ОКТМО  Налогооблагаемые денежные доходы физических ли...   \n",
       "3           1                                                  2   \n",
       "4          01                                                NaN   \n",
       "5  01 600 000                                    65678390.200549   \n",
       "6  01 601 000                                      934172.675937   \n",
       "7  01 602 000                                     1197788.022308   \n",
       "8  01 603 000                                      621466.733172   \n",
       "9  01 604 000                                     1538278.541479   \n",
       "\n",
       "                                Unnamed: 4  \\\n",
       "0                                      NaN   \n",
       "1                                      NaN   \n",
       "2  Социальные и другие выплаты, тыс.рублей   \n",
       "3                                        3   \n",
       "4                                      NaN   \n",
       "5                          70320487.235812   \n",
       "6                            871714.118465   \n",
       "7                           1556525.711051   \n",
       "8                            683757.069359   \n",
       "9                           2112479.545443   \n",
       "\n",
       "                                          Unnamed: 5  \\\n",
       "0                                                NaN   \n",
       "1                                                NaN   \n",
       "2  Объем социальных выплат населению и налогообла...   \n",
       "3                                                  4   \n",
       "4                                                NaN   \n",
       "5                                   135998877.436361   \n",
       "6                                     1805886.794402   \n",
       "7                                     2754313.733359   \n",
       "8                                     1305223.802531   \n",
       "9                                     3650758.086922   \n",
       "\n",
       "                                          Unnamed: 6  \n",
       "0                                                NaN  \n",
       "1                                                NaN  \n",
       "2  Объем социальных выплат и налогооблагаемых ден...  \n",
       "3                                                  5  \n",
       "4                                                NaN  \n",
       "5                                      125150.805606  \n",
       "6                                      121731.499454  \n",
       "7                                      105408.103075  \n",
       "8                                      135890.036703  \n",
       "9                                      111767.024459  "
      ]
     },
     "execution_count": 205,
     "metadata": {},
     "output_type": "execute_result"
    }
   ],
   "source": [
    "income_transferts_2015_raw.head(10)"
   ]
  },
  {
   "cell_type": "code",
   "execution_count": 206,
   "id": "a788d580-bd41-49da-aca2-bd4dc47e24b3",
   "metadata": {},
   "outputs": [
    {
     "data": {
      "text/html": [
       "<div>\n",
       "<style scoped>\n",
       "    .dataframe tbody tr th:only-of-type {\n",
       "        vertical-align: middle;\n",
       "    }\n",
       "\n",
       "    .dataframe tbody tr th {\n",
       "        vertical-align: top;\n",
       "    }\n",
       "\n",
       "    .dataframe thead th {\n",
       "        text-align: right;\n",
       "    }\n",
       "</style>\n",
       "<table border=\"1\" class=\"dataframe\">\n",
       "  <thead>\n",
       "    <tr style=\"text-align: right;\">\n",
       "      <th></th>\n",
       "      <th>Unnamed: 0</th>\n",
       "      <th>Unnamed: 1</th>\n",
       "      <th>Unnamed: 2</th>\n",
       "      <th>Unnamed: 3</th>\n",
       "      <th>Unnamed: 4</th>\n",
       "      <th>Unnamed: 5</th>\n",
       "      <th>Unnamed: 6</th>\n",
       "    </tr>\n",
       "  </thead>\n",
       "  <tbody>\n",
       "    <tr>\n",
       "      <th>2652</th>\n",
       "      <td>NaN</td>\n",
       "      <td>NaN</td>\n",
       "      <td>NaN</td>\n",
       "      <td>NaN</td>\n",
       "      <td>NaN</td>\n",
       "      <td>NaN</td>\n",
       "      <td>NaN</td>\n",
       "    </tr>\n",
       "    <tr>\n",
       "      <th>2653</th>\n",
       "      <td>NaN</td>\n",
       "      <td>Еврейская автономная область</td>\n",
       "      <td>99</td>\n",
       "      <td>NaN</td>\n",
       "      <td>NaN</td>\n",
       "      <td>NaN</td>\n",
       "      <td>NaN</td>\n",
       "    </tr>\n",
       "    <tr>\n",
       "      <th>2654</th>\n",
       "      <td>NaN</td>\n",
       "      <td>Муниципальные районы</td>\n",
       "      <td>99600000</td>\n",
       "      <td>10679283.6</td>\n",
       "      <td>5759075.796397</td>\n",
       "      <td>16438359.396397</td>\n",
       "      <td>177566.101326</td>\n",
       "    </tr>\n",
       "    <tr>\n",
       "      <th>2655</th>\n",
       "      <td>1</td>\n",
       "      <td>Биробиджанский</td>\n",
       "      <td>99605000</td>\n",
       "      <td>1377187.1</td>\n",
       "      <td>838266.687595</td>\n",
       "      <td>2215453.787595</td>\n",
       "      <td>189031.893139</td>\n",
       "    </tr>\n",
       "    <tr>\n",
       "      <th>2656</th>\n",
       "      <td>2</td>\n",
       "      <td>Ленинский</td>\n",
       "      <td>99610000</td>\n",
       "      <td>1832316.5</td>\n",
       "      <td>924636.02968</td>\n",
       "      <td>2756952.52968</td>\n",
       "      <td>147218.055731</td>\n",
       "    </tr>\n",
       "    <tr>\n",
       "      <th>2657</th>\n",
       "      <td>3</td>\n",
       "      <td>Облученский</td>\n",
       "      <td>99620000</td>\n",
       "      <td>4530068.7</td>\n",
       "      <td>1810012.108117</td>\n",
       "      <td>6340080.808117</td>\n",
       "      <td>239909.214369</td>\n",
       "    </tr>\n",
       "    <tr>\n",
       "      <th>2658</th>\n",
       "      <td>4</td>\n",
       "      <td>Октябрьский</td>\n",
       "      <td>99625000</td>\n",
       "      <td>924954.7</td>\n",
       "      <td>620776.735547</td>\n",
       "      <td>1545731.435547</td>\n",
       "      <td>151869.860046</td>\n",
       "    </tr>\n",
       "    <tr>\n",
       "      <th>2659</th>\n",
       "      <td>5</td>\n",
       "      <td>Смидовичский</td>\n",
       "      <td>99630000</td>\n",
       "      <td>2014756.6</td>\n",
       "      <td>1565384.235459</td>\n",
       "      <td>3580140.835459</td>\n",
       "      <td>140265.665078</td>\n",
       "    </tr>\n",
       "    <tr>\n",
       "      <th>2660</th>\n",
       "      <td>NaN</td>\n",
       "      <td>Городские округа</td>\n",
       "      <td>99700000</td>\n",
       "      <td>15127271.8</td>\n",
       "      <td>5144344.049003</td>\n",
       "      <td>20271615.849003</td>\n",
       "      <td>271490.007085</td>\n",
       "    </tr>\n",
       "    <tr>\n",
       "      <th>2661</th>\n",
       "      <td>1</td>\n",
       "      <td>г. Биробиджан</td>\n",
       "      <td>99701000</td>\n",
       "      <td>15127271.8</td>\n",
       "      <td>5144344.049003</td>\n",
       "      <td>20271615.849003</td>\n",
       "      <td>271490.007085</td>\n",
       "    </tr>\n",
       "  </tbody>\n",
       "</table>\n",
       "</div>"
      ],
      "text/plain": [
       "     Unnamed: 0                     Unnamed: 1 Unnamed: 2  Unnamed: 3  \\\n",
       "2652        NaN                            NaN        NaN         NaN   \n",
       "2653        NaN  Еврейская автономная область          99         NaN   \n",
       "2654        NaN          Муниципальные районы    99600000  10679283.6   \n",
       "2655          1                Биробиджанский    99605000   1377187.1   \n",
       "2656          2                     Ленинский    99610000   1832316.5   \n",
       "2657          3                   Облученский    99620000   4530068.7   \n",
       "2658          4                   Октябрьский    99625000    924954.7   \n",
       "2659          5                  Смидовичский    99630000   2014756.6   \n",
       "2660        NaN              Городские округа    99700000  15127271.8   \n",
       "2661          1                  г. Биробиджан   99701000  15127271.8   \n",
       "\n",
       "          Unnamed: 4       Unnamed: 5     Unnamed: 6  \n",
       "2652             NaN              NaN            NaN  \n",
       "2653             NaN              NaN            NaN  \n",
       "2654  5759075.796397  16438359.396397  177566.101326  \n",
       "2655   838266.687595   2215453.787595  189031.893139  \n",
       "2656    924636.02968    2756952.52968  147218.055731  \n",
       "2657  1810012.108117   6340080.808117  239909.214369  \n",
       "2658   620776.735547   1545731.435547  151869.860046  \n",
       "2659  1565384.235459   3580140.835459  140265.665078  \n",
       "2660  5144344.049003  20271615.849003  271490.007085  \n",
       "2661  5144344.049003  20271615.849003  271490.007085  "
      ]
     },
     "execution_count": 206,
     "metadata": {},
     "output_type": "execute_result"
    }
   ],
   "source": [
    "income_transferts_2015_raw.tail(10)"
   ]
  },
  {
   "cell_type": "code",
   "execution_count": 207,
   "id": "4a9e09ae-091c-4ad4-981c-93863eb6aacc",
   "metadata": {},
   "outputs": [],
   "source": [
    "income_transferts_2015 = income_transferts_2015_raw.copy()"
   ]
  },
  {
   "cell_type": "markdown",
   "id": "4e4bf8ae-68a4-4c90-9e9d-0e7eef7d0dd7",
   "metadata": {},
   "source": [
    "##### Rename columns and drop useless"
   ]
  },
  {
   "cell_type": "code",
   "execution_count": 208,
   "id": "e19588e0-49a2-4c8f-b5a4-c76ac508de7b",
   "metadata": {},
   "outputs": [],
   "source": [
    "income_transferts_2015_columns = [\n",
    "    '-', 'index1', 'ОКТМО', 'Доходы', 'Социальные выплаты',\n",
    "    'Суммарные выплаты', 'Выплаты на 1 чел.'\n",
    "]"
   ]
  },
  {
   "cell_type": "code",
   "execution_count": 209,
   "id": "4c7c5ca7-d3d3-4141-99f9-ecfd63fd108c",
   "metadata": {},
   "outputs": [],
   "source": [
    "income_transferts_2015.columns = income_transferts_2015_columns"
   ]
  },
  {
   "cell_type": "code",
   "execution_count": 210,
   "id": "16d33977-2b9f-47a8-b25c-3087601dc015",
   "metadata": {},
   "outputs": [],
   "source": [
    "# drop useless columns with name '-'\n",
    "income_transferts_2015 = income_transferts_2015.drop('-', axis=1)"
   ]
  },
  {
   "cell_type": "markdown",
   "id": "7036bde6-8420-4d50-b8ef-da7d8fb05fe5",
   "metadata": {},
   "source": [
    "##### Cut rows and drop NaNs"
   ]
  },
  {
   "cell_type": "code",
   "execution_count": 211,
   "id": "141c00c7-cd94-4852-8c5d-2343e5e5107a",
   "metadata": {},
   "outputs": [],
   "source": [
    "# cut rows\n",
    "income_transferts_2015 = transform_cut_rows(income_transferts_2015, 4, 0)"
   ]
  },
  {
   "cell_type": "code",
   "execution_count": 212,
   "id": "a56428c9-5344-47b6-8ac8-0c4a705e10b8",
   "metadata": {},
   "outputs": [],
   "source": [
    "# drop rows with NaNs in 'index0' column\n",
    "income_transferts_2015 = \\\n",
    "    income_transferts_2015[income_transferts_2015['index1'].notna()]"
   ]
  },
  {
   "cell_type": "markdown",
   "id": "382d5cd5-bd04-41b4-9a96-e7baad636558",
   "metadata": {},
   "source": [
    "##### Normalize OKTMO"
   ]
  },
  {
   "cell_type": "code",
   "execution_count": 213,
   "id": "1918e7b2-a3aa-4e85-bf4e-1c0184484862",
   "metadata": {},
   "outputs": [],
   "source": [
    "# make OKTMO column values str\n",
    "income_transferts_2015['ОКТМО'] = income_transferts_2015['ОКТМО'].astype(str)"
   ]
  },
  {
   "cell_type": "code",
   "execution_count": 214,
   "id": "9b82e0e0-f954-4839-be51-3e2d56fd3019",
   "metadata": {},
   "outputs": [],
   "source": [
    "# normalize oktmo - remove spaces and other dirt\n",
    "income_transferts_2015['ОКТМО'] = \\\n",
    "    income_transferts_2015['ОКТМО'].apply(lambda x: normalize_oktmo(x))"
   ]
  },
  {
   "cell_type": "markdown",
   "id": "76732221-12a1-4dc6-8a9b-7c00912ddd9b",
   "metadata": {},
   "source": [
    "##### Level0 for Multiindex"
   ]
  },
  {
   "cell_type": "code",
   "execution_count": 215,
   "id": "179284f0-1ee5-4a29-90ac-f0cb77af1fba",
   "metadata": {},
   "outputs": [],
   "source": [
    "# create index level0 column\n",
    "income_transferts_2015['index0'] = np.NaN"
   ]
  },
  {
   "cell_type": "code",
   "execution_count": 216,
   "id": "f93f4329-dfd5-4e62-8c0a-88218a694de8",
   "metadata": {},
   "outputs": [],
   "source": [
    "# fill in by region with OKTMO in OKTMO column\n",
    "income_transferts_2015 = (income_transferts_2015\n",
    "                          .assign(index0=income_transferts_2015['ОКТМО']\n",
    "                                  .map(region_oktmo_norm_dict_sorted)\n",
    "                                  .fillna(income_transferts_2015['index0'])))"
   ]
  },
  {
   "cell_type": "code",
   "execution_count": 217,
   "id": "0dc0f155-b743-4c32-bf83-ecacf9e9273d",
   "metadata": {},
   "outputs": [],
   "source": [
    "# 1) 'Архангельская область' and \n",
    "# 'Ненецкий автономный округ (Архангельская область)' have the same OKTMO == 11\n",
    "# 2) 'Ненецкий автономный округ (Архангельская область)' index allways greater than index of \n",
    "# 'Архангельская область'\n",
    "# knowing this, we replace duplicate 'Архангельская область' by 'Ненецкий автономный округ (Архангельская область)'\n",
    "income_transferts_2015 = normalize_nenec(income_transferts_2015, 'index0')"
   ]
  },
  {
   "cell_type": "code",
   "execution_count": 218,
   "id": "6e8e9768-0270-46e8-afa5-94ab815523fe",
   "metadata": {},
   "outputs": [],
   "source": [
    "# the same correction for 'Тюменская область'\n",
    "income_transferts_2015 = normalize_khantymanci(income_transferts_2015, 'index0')"
   ]
  },
  {
   "cell_type": "code",
   "execution_count": 219,
   "id": "0d30c9d4-8363-4251-9d69-371af5cf7733",
   "metadata": {},
   "outputs": [],
   "source": [
    "# fill '-' values in index0 column\n",
    "income_transferts_2015 = transform_fill_values_by_previous(\n",
    "    income_transferts_2015, kind='column', column_name='index0')"
   ]
  },
  {
   "cell_type": "markdown",
   "id": "d04aede1-2a51-41af-98eb-1d31c5190ae2",
   "metadata": {},
   "source": [
    "##### Level1 for Multiindex"
   ]
  },
  {
   "cell_type": "code",
   "execution_count": 220,
   "id": "9dc100fb-d2a6-4eae-8dfa-9489214fe6ef",
   "metadata": {},
   "outputs": [],
   "source": [
    "# change region name in 'index1' column to 'Всего'\n",
    "income_transferts_2015['index1'] = income_transferts_2015.apply(\n",
    "    lambda x: transferts_various(x['ОКТМО'], x['index1']), axis=1)"
   ]
  },
  {
   "cell_type": "code",
   "execution_count": 221,
   "id": "967810e0-e89e-4a2e-bb3a-7ff80f78e64d",
   "metadata": {},
   "outputs": [],
   "source": [
    "# normalize 'Муниципальные районы' and 'Гордские округа' - remove spaces and other dirt\n",
    "income_transferts_2015['index1'] = \\\n",
    "    income_transferts_2015['index1'].apply(lambda x: normalize_municipal_town(x))"
   ]
  },
  {
   "cell_type": "markdown",
   "id": "88f16e22-a31e-4f37-8ac4-1f6b978acb76",
   "metadata": {},
   "source": [
    "##### Fill rows with sum ('Всего')"
   ]
  },
  {
   "cell_type": "code",
   "execution_count": 222,
   "id": "eedd663c-97ab-4b35-aee7-59447b6d657c",
   "metadata": {},
   "outputs": [],
   "source": [
    "# columns for sum of 'Муниципальные районы' and 'Городские округа'\n",
    "columns_summary2012 = [\n",
    "    'Доходы', 'Социальные выплаты', 'Суммарные выплаты', 'Выплаты на 1 чел.']"
   ]
  },
  {
   "cell_type": "code",
   "execution_count": 223,
   "id": "ed872110-7fe5-42e9-b42e-2d3ad3969eea",
   "metadata": {},
   "outputs": [],
   "source": [
    "# create regions list\n",
    "regions_list2012 = list(set(income_transferts_2015['index0']))\n",
    "regions_list2012.sort()"
   ]
  },
  {
   "cell_type": "code",
   "execution_count": 224,
   "id": "9b994d26-d2af-4dbb-a86e-d294d7a3d976",
   "metadata": {},
   "outputs": [
    {
     "name": "stdout",
     "output_type": "stream",
     "text": [
      "Region Санкт-Петербург not in \"Minucipal-Town Dictionary\"\n"
     ]
    }
   ],
   "source": [
    "# count sum of 'Муниципальные районы' and 'Городские округа'\n",
    "income_transferts_2015 = calculate_sum_transferts(\n",
    "    data=income_transferts_2015,\n",
    "    columns=columns_summary2012,\n",
    "    regions=regions_list2012,\n",
    "    mapping_dict=municipal_town_dict)"
   ]
  },
  {
   "cell_type": "markdown",
   "id": "13dbddfa-ad53-4e52-a928-a89e40fe245a",
   "metadata": {},
   "source": [
    "##### Count Regions"
   ]
  },
  {
   "cell_type": "code",
   "execution_count": 225,
   "id": "3925fc91-f786-4414-a285-e05118249f9b",
   "metadata": {},
   "outputs": [
    {
     "data": {
      "text/plain": [
       "83"
      ]
     },
     "execution_count": 225,
     "metadata": {},
     "output_type": "execute_result"
    }
   ],
   "source": [
    "# count regions\n",
    "regions_count2012 = len(set(income_transferts_2015['index0'].values))\n",
    "regions_count2012"
   ]
  },
  {
   "cell_type": "markdown",
   "id": "24889c89-f06d-4726-8931-b3070749997f",
   "metadata": {},
   "source": [
    "##### Create Multiindex"
   ]
  },
  {
   "cell_type": "code",
   "execution_count": 226,
   "id": "00bfcb03-4c91-418c-ab37-6cf2121d129c",
   "metadata": {},
   "outputs": [],
   "source": [
    "# columns to multiindex\n",
    "income_transferts_2015 = transform_make_index_from_columns(\n",
    "    income_transferts_2015, ['index0', 'index1'])"
   ]
  },
  {
   "cell_type": "code",
   "execution_count": 227,
   "id": "d3b4e5e3-460e-48ad-9897-07ab4c811b3f",
   "metadata": {},
   "outputs": [],
   "source": [
    "# drop columns, that became multiindexes\n",
    "income_transferts_2015 = income_transferts_2015.drop(['index0', 'index1'], axis=1)"
   ]
  },
  {
   "cell_type": "markdown",
   "id": "078e7692-d95c-4660-bf8f-06a8472b08d0",
   "metadata": {},
   "source": [
    "##### Round (one symbol)"
   ]
  },
  {
   "cell_type": "code",
   "execution_count": 228,
   "id": "83e32e71-13ef-47b7-aa6a-3b376f89ea95",
   "metadata": {},
   "outputs": [],
   "source": [
    "# round\n",
    "for column in income_transferts_2015.columns:\n",
    "    try:\n",
    "        income_transferts_2015[column] = \\\n",
    "            income_transferts_2015[column].astype(float).round(1)\n",
    "    except ValueError:\n",
    "        pass"
   ]
  },
  {
   "cell_type": "markdown",
   "id": "46d0de9c-e186-4acc-a890-47a15bf558f1",
   "metadata": {},
   "source": [
    "##### <font color='#2A5899'>2015 Check for Discrepancy</font>"
   ]
  },
  {
   "cell_type": "code",
   "execution_count": 229,
   "id": "7c5aa75a-8a7c-4926-8c6a-1fc085eab398",
   "metadata": {},
   "outputs": [
    {
     "data": {
      "text/plain": [
       "False"
      ]
     },
     "execution_count": 229,
     "metadata": {},
     "output_type": "execute_result"
    }
   ],
   "source": [
    "# OKTMO check for NaN\n",
    "income_transferts_2015[income_transferts_2015['ОКТМО'].isna()].any().any()"
   ]
  },
  {
   "cell_type": "code",
   "execution_count": 230,
   "id": "a72fbac0-b8d4-4fa4-8390-beab590098b4",
   "metadata": {},
   "outputs": [
    {
     "data": {
      "text/plain": [
       "True"
      ]
     },
     "execution_count": 230,
     "metadata": {},
     "output_type": "execute_result"
    }
   ],
   "source": [
    "# all data check for NaN\n",
    "income_transferts_2015[income_transferts_2015.isna().any(axis=1)].any().any()"
   ]
  },
  {
   "cell_type": "code",
   "execution_count": 231,
   "id": "45e3f3ce-1ec3-447a-a551-98d63ac2c0e5",
   "metadata": {},
   "outputs": [
    {
     "data": {
      "text/html": [
       "<div>\n",
       "<style scoped>\n",
       "    .dataframe tbody tr th:only-of-type {\n",
       "        vertical-align: middle;\n",
       "    }\n",
       "\n",
       "    .dataframe tbody tr th {\n",
       "        vertical-align: top;\n",
       "    }\n",
       "\n",
       "    .dataframe thead th {\n",
       "        text-align: right;\n",
       "    }\n",
       "</style>\n",
       "<table border=\"1\" class=\"dataframe\">\n",
       "  <thead>\n",
       "    <tr style=\"text-align: right;\">\n",
       "      <th></th>\n",
       "      <th></th>\n",
       "      <th>ОКТМО</th>\n",
       "      <th>Доходы</th>\n",
       "      <th>Социальные выплаты</th>\n",
       "      <th>Суммарные выплаты</th>\n",
       "      <th>Выплаты на 1 чел.</th>\n",
       "    </tr>\n",
       "  </thead>\n",
       "  <tbody>\n",
       "  </tbody>\n",
       "</table>\n",
       "</div>"
      ],
      "text/plain": [
       "Empty DataFrame\n",
       "Columns: [ОКТМО, Доходы, Социальные выплаты, Суммарные выплаты, Выплаты на 1 чел.]\n",
       "Index: []"
      ]
     },
     "execution_count": 231,
     "metadata": {},
     "output_type": "execute_result"
    }
   ],
   "source": [
    "income_transferts_2015[income_transferts_2015['Доходы'] == 0]"
   ]
  },
  {
   "cell_type": "code",
   "execution_count": 232,
   "id": "c36e222d-d517-41c1-974e-8be755793b63",
   "metadata": {},
   "outputs": [
    {
     "data": {
      "text/html": [
       "<div>\n",
       "<style scoped>\n",
       "    .dataframe tbody tr th:only-of-type {\n",
       "        vertical-align: middle;\n",
       "    }\n",
       "\n",
       "    .dataframe tbody tr th {\n",
       "        vertical-align: top;\n",
       "    }\n",
       "\n",
       "    .dataframe thead th {\n",
       "        text-align: right;\n",
       "    }\n",
       "</style>\n",
       "<table border=\"1\" class=\"dataframe\">\n",
       "  <thead>\n",
       "    <tr style=\"text-align: right;\">\n",
       "      <th></th>\n",
       "      <th></th>\n",
       "      <th>ОКТМО</th>\n",
       "      <th>Доходы</th>\n",
       "      <th>Социальные выплаты</th>\n",
       "      <th>Суммарные выплаты</th>\n",
       "      <th>Выплаты на 1 чел.</th>\n",
       "    </tr>\n",
       "  </thead>\n",
       "  <tbody>\n",
       "  </tbody>\n",
       "</table>\n",
       "</div>"
      ],
      "text/plain": [
       "Empty DataFrame\n",
       "Columns: [ОКТМО, Доходы, Социальные выплаты, Суммарные выплаты, Выплаты на 1 чел.]\n",
       "Index: []"
      ]
     },
     "execution_count": 232,
     "metadata": {},
     "output_type": "execute_result"
    }
   ],
   "source": [
    "income_transferts_2015[income_transferts_2015['Социальные выплаты'] == 0]"
   ]
  },
  {
   "cell_type": "code",
   "execution_count": 233,
   "id": "490bb2f9-f819-4a0f-af93-18d27013709b",
   "metadata": {},
   "outputs": [
    {
     "data": {
      "text/html": [
       "<div>\n",
       "<style scoped>\n",
       "    .dataframe tbody tr th:only-of-type {\n",
       "        vertical-align: middle;\n",
       "    }\n",
       "\n",
       "    .dataframe tbody tr th {\n",
       "        vertical-align: top;\n",
       "    }\n",
       "\n",
       "    .dataframe thead th {\n",
       "        text-align: right;\n",
       "    }\n",
       "</style>\n",
       "<table border=\"1\" class=\"dataframe\">\n",
       "  <thead>\n",
       "    <tr style=\"text-align: right;\">\n",
       "      <th></th>\n",
       "      <th></th>\n",
       "      <th>ОКТМО</th>\n",
       "      <th>Доходы</th>\n",
       "      <th>Социальные выплаты</th>\n",
       "      <th>Суммарные выплаты</th>\n",
       "      <th>Выплаты на 1 чел.</th>\n",
       "    </tr>\n",
       "  </thead>\n",
       "  <tbody>\n",
       "  </tbody>\n",
       "</table>\n",
       "</div>"
      ],
      "text/plain": [
       "Empty DataFrame\n",
       "Columns: [ОКТМО, Доходы, Социальные выплаты, Суммарные выплаты, Выплаты на 1 чел.]\n",
       "Index: []"
      ]
     },
     "execution_count": 233,
     "metadata": {},
     "output_type": "execute_result"
    }
   ],
   "source": [
    "income_transferts_2015[income_transferts_2015['Суммарные выплаты'] == 0]"
   ]
  },
  {
   "cell_type": "code",
   "execution_count": 234,
   "id": "c92f42d6-5555-4898-9f21-2b86a8626181",
   "metadata": {},
   "outputs": [
    {
     "data": {
      "text/html": [
       "<div>\n",
       "<style scoped>\n",
       "    .dataframe tbody tr th:only-of-type {\n",
       "        vertical-align: middle;\n",
       "    }\n",
       "\n",
       "    .dataframe tbody tr th {\n",
       "        vertical-align: top;\n",
       "    }\n",
       "\n",
       "    .dataframe thead th {\n",
       "        text-align: right;\n",
       "    }\n",
       "</style>\n",
       "<table border=\"1\" class=\"dataframe\">\n",
       "  <thead>\n",
       "    <tr style=\"text-align: right;\">\n",
       "      <th></th>\n",
       "      <th></th>\n",
       "      <th>ОКТМО</th>\n",
       "      <th>Доходы</th>\n",
       "      <th>Социальные выплаты</th>\n",
       "      <th>Суммарные выплаты</th>\n",
       "      <th>Выплаты на 1 чел.</th>\n",
       "    </tr>\n",
       "  </thead>\n",
       "  <tbody>\n",
       "  </tbody>\n",
       "</table>\n",
       "</div>"
      ],
      "text/plain": [
       "Empty DataFrame\n",
       "Columns: [ОКТМО, Доходы, Социальные выплаты, Суммарные выплаты, Выплаты на 1 чел.]\n",
       "Index: []"
      ]
     },
     "execution_count": 234,
     "metadata": {},
     "output_type": "execute_result"
    }
   ],
   "source": [
    "income_transferts_2015[income_transferts_2015['Выплаты на 1 чел.'] == 0]"
   ]
  },
  {
   "cell_type": "code",
   "execution_count": 235,
   "id": "aa74f448-8ae9-471d-991b-edeaa0152c78",
   "metadata": {},
   "outputs": [
    {
     "data": {
      "text/html": [
       "<div>\n",
       "<style scoped>\n",
       "    .dataframe tbody tr th:only-of-type {\n",
       "        vertical-align: middle;\n",
       "    }\n",
       "\n",
       "    .dataframe tbody tr th {\n",
       "        vertical-align: top;\n",
       "    }\n",
       "\n",
       "    .dataframe thead th {\n",
       "        text-align: right;\n",
       "    }\n",
       "</style>\n",
       "<table border=\"1\" class=\"dataframe\">\n",
       "  <thead>\n",
       "    <tr style=\"text-align: right;\">\n",
       "      <th></th>\n",
       "      <th></th>\n",
       "      <th>ОКТМО</th>\n",
       "      <th>Доходы</th>\n",
       "      <th>Социальные выплаты</th>\n",
       "      <th>Суммарные выплаты</th>\n",
       "      <th>Выплаты на 1 чел.</th>\n",
       "    </tr>\n",
       "  </thead>\n",
       "  <tbody>\n",
       "    <tr>\n",
       "      <th>Тюменская область</th>\n",
       "      <th>Всего</th>\n",
       "      <td>71</td>\n",
       "      <td>274668222.4</td>\n",
       "      <td>99837484.9</td>\n",
       "      <td>374505707.3</td>\n",
       "      <td>469860.5</td>\n",
       "    </tr>\n",
       "    <tr>\n",
       "      <th>Ханты-Мансийский автономный округ - Югра (Тюменская область)</th>\n",
       "      <th>Всего</th>\n",
       "      <td>71</td>\n",
       "      <td>668197077.6</td>\n",
       "      <td>153447030.9</td>\n",
       "      <td>821644108.5</td>\n",
       "      <td>1118045.1</td>\n",
       "    </tr>\n",
       "    <tr>\n",
       "      <th>Ямало-Ненецкий автономный округ (Тюменская область)</th>\n",
       "      <th>Всего</th>\n",
       "      <td>71</td>\n",
       "      <td>369587579.6</td>\n",
       "      <td>55319778.6</td>\n",
       "      <td>424907358.2</td>\n",
       "      <td>1753025.6</td>\n",
       "    </tr>\n",
       "  </tbody>\n",
       "</table>\n",
       "</div>"
      ],
      "text/plain": [
       "                                                         ОКТМО       Доходы  \\\n",
       "Тюменская область                                  Всего    71  274668222.4   \n",
       "Ханты-Мансийский автономный округ - Югра (Тюмен... Всего    71  668197077.6   \n",
       "Ямало-Ненецкий автономный округ (Тюменская обла... Всего    71  369587579.6   \n",
       "\n",
       "                                                          Социальные выплаты  \\\n",
       "Тюменская область                                  Всего          99837484.9   \n",
       "Ханты-Мансийский автономный округ - Югра (Тюмен... Всего         153447030.9   \n",
       "Ямало-Ненецкий автономный округ (Тюменская обла... Всего          55319778.6   \n",
       "\n",
       "                                                          Суммарные выплаты  \\\n",
       "Тюменская область                                  Всего        374505707.3   \n",
       "Ханты-Мансийский автономный округ - Югра (Тюмен... Всего        821644108.5   \n",
       "Ямало-Ненецкий автономный округ (Тюменская обла... Всего        424907358.2   \n",
       "\n",
       "                                                          Выплаты на 1 чел.  \n",
       "Тюменская область                                  Всего           469860.5  \n",
       "Ханты-Мансийский автономный округ - Югра (Тюмен... Всего          1118045.1  \n",
       "Ямало-Ненецкий автономный округ (Тюменская обла... Всего          1753025.6  "
      ]
     },
     "execution_count": 235,
     "metadata": {},
     "output_type": "execute_result"
    }
   ],
   "source": [
    "income_transferts_2015[income_transferts_2015['ОКТМО'] == '71']"
   ]
  },
  {
   "cell_type": "code",
   "execution_count": 236,
   "id": "53c24932-c8fa-477f-b0c6-153cf8557901",
   "metadata": {},
   "outputs": [
    {
     "data": {
      "text/html": [
       "<div>\n",
       "<style scoped>\n",
       "    .dataframe tbody tr th:only-of-type {\n",
       "        vertical-align: middle;\n",
       "    }\n",
       "\n",
       "    .dataframe tbody tr th {\n",
       "        vertical-align: top;\n",
       "    }\n",
       "\n",
       "    .dataframe thead th {\n",
       "        text-align: right;\n",
       "    }\n",
       "</style>\n",
       "<table border=\"1\" class=\"dataframe\">\n",
       "  <thead>\n",
       "    <tr style=\"text-align: right;\">\n",
       "      <th></th>\n",
       "      <th></th>\n",
       "      <th>ОКТМО</th>\n",
       "      <th>Доходы</th>\n",
       "      <th>Социальные выплаты</th>\n",
       "      <th>Суммарные выплаты</th>\n",
       "      <th>Выплаты на 1 чел.</th>\n",
       "    </tr>\n",
       "  </thead>\n",
       "  <tbody>\n",
       "    <tr>\n",
       "      <th>Архангельская область</th>\n",
       "      <th>Всего</th>\n",
       "      <td>11</td>\n",
       "      <td>247978617.0</td>\n",
       "      <td>110044136.8</td>\n",
       "      <td>358022753.8</td>\n",
       "      <td>598399.3</td>\n",
       "    </tr>\n",
       "    <tr>\n",
       "      <th>Ненецкий автономный округ (Архангельская область)</th>\n",
       "      <th>Всего</th>\n",
       "      <td>11</td>\n",
       "      <td>63835520.0</td>\n",
       "      <td>12223102.4</td>\n",
       "      <td>76058622.4</td>\n",
       "      <td>4393722.2</td>\n",
       "    </tr>\n",
       "  </tbody>\n",
       "</table>\n",
       "</div>"
      ],
      "text/plain": [
       "                                                        ОКТМО       Доходы  \\\n",
       "Архангельская область                             Всего    11  247978617.0   \n",
       "Ненецкий автономный округ (Архангельская область) Всего    11   63835520.0   \n",
       "\n",
       "                                                         Социальные выплаты  \\\n",
       "Архангельская область                             Всего         110044136.8   \n",
       "Ненецкий автономный округ (Архангельская область) Всего          12223102.4   \n",
       "\n",
       "                                                         Суммарные выплаты  \\\n",
       "Архангельская область                             Всего        358022753.8   \n",
       "Ненецкий автономный округ (Архангельская область) Всего         76058622.4   \n",
       "\n",
       "                                                         Выплаты на 1 чел.  \n",
       "Архангельская область                             Всего           598399.3  \n",
       "Ненецкий автономный округ (Архангельская область) Всего          4393722.2  "
      ]
     },
     "execution_count": 236,
     "metadata": {},
     "output_type": "execute_result"
    }
   ],
   "source": [
    "income_transferts_2015[income_transferts_2015['ОКТМО'] == '11']"
   ]
  },
  {
   "cell_type": "code",
   "execution_count": 237,
   "id": "0e2a820d-6ed1-4f21-a4e2-0e8953374e3c",
   "metadata": {},
   "outputs": [
    {
     "data": {
      "text/plain": [
       "['Ненецкий автономный округ (Архангельская область)']"
      ]
     },
     "execution_count": 237,
     "metadata": {},
     "output_type": "execute_result"
    }
   ],
   "source": [
    "# check if there are duplications in municipal, town and others OKTMO\n",
    "check_oktmo_2015_dupl_list = check_oktmo_duplication(\n",
    "    data=income_transferts_2015, \n",
    "    column_check='ОКТМО',\n",
    "    normalize_oktmo_list=municipal_town_dict)\n",
    "\n",
    "check_oktmo_2015_dupl_list"
   ]
  },
  {
   "cell_type": "code",
   "execution_count": 238,
   "id": "2f4b3ae0-d35a-47b9-9af4-3d100b8d9cce",
   "metadata": {},
   "outputs": [
    {
     "data": {
      "text/html": [
       "<div>\n",
       "<style scoped>\n",
       "    .dataframe tbody tr th:only-of-type {\n",
       "        vertical-align: middle;\n",
       "    }\n",
       "\n",
       "    .dataframe tbody tr th {\n",
       "        vertical-align: top;\n",
       "    }\n",
       "\n",
       "    .dataframe thead th {\n",
       "        text-align: right;\n",
       "    }\n",
       "</style>\n",
       "<table border=\"1\" class=\"dataframe\">\n",
       "  <thead>\n",
       "    <tr style=\"text-align: right;\">\n",
       "      <th></th>\n",
       "      <th></th>\n",
       "      <th>ОКТМО</th>\n",
       "      <th>Доходы</th>\n",
       "      <th>Социальные выплаты</th>\n",
       "      <th>Суммарные выплаты</th>\n",
       "      <th>Выплаты на 1 чел.</th>\n",
       "    </tr>\n",
       "  </thead>\n",
       "  <tbody>\n",
       "    <tr>\n",
       "      <th rowspan=\"2\" valign=\"top\">Алтайский край</th>\n",
       "      <th>Муниципальные районы</th>\n",
       "      <td>01 600 000</td>\n",
       "      <td>65678390.2</td>\n",
       "      <td>70320487.2</td>\n",
       "      <td>135998877.4</td>\n",
       "      <td>125150.8</td>\n",
       "    </tr>\n",
       "    <tr>\n",
       "      <th>Городские округа</th>\n",
       "      <td>01 700 000</td>\n",
       "      <td>169286143.8</td>\n",
       "      <td>83426554.0</td>\n",
       "      <td>252712697.8</td>\n",
       "      <td>195278.7</td>\n",
       "    </tr>\n",
       "  </tbody>\n",
       "</table>\n",
       "</div>"
      ],
      "text/plain": [
       "                                          ОКТМО       Доходы  \\\n",
       "Алтайский край Муниципальные районы  01 600 000   65678390.2   \n",
       "               Городские округа      01 700 000  169286143.8   \n",
       "\n",
       "                                     Социальные выплаты  Суммарные выплаты  \\\n",
       "Алтайский край Муниципальные районы          70320487.2        135998877.4   \n",
       "               Городские округа              83426554.0        252712697.8   \n",
       "\n",
       "                                     Выплаты на 1 чел.  \n",
       "Алтайский край Муниципальные районы           125150.8  \n",
       "               Городские округа               195278.7  "
      ]
     },
     "execution_count": 238,
     "metadata": {},
     "output_type": "execute_result"
    }
   ],
   "source": [
    "(income_transferts_2015\n",
    " .loc[income_transferts_2015['ОКТМО']\n",
    " .isin(municipal_town_dict['Алтайский край'])])"
   ]
  },
  {
   "cell_type": "markdown",
   "id": "cc8b16b4-b758-461d-8c40-2e1b09ceeb06",
   "metadata": {},
   "source": [
    "##### <font color='#2A5899'>2015 Final Result</font>"
   ]
  },
  {
   "cell_type": "code",
   "execution_count": 239,
   "id": "17c9f288-9acf-4eff-bead-1f091746c926",
   "metadata": {},
   "outputs": [
    {
     "data": {
      "text/html": [
       "<div>\n",
       "<style scoped>\n",
       "    .dataframe tbody tr th:only-of-type {\n",
       "        vertical-align: middle;\n",
       "    }\n",
       "\n",
       "    .dataframe tbody tr th {\n",
       "        vertical-align: top;\n",
       "    }\n",
       "\n",
       "    .dataframe thead th {\n",
       "        text-align: right;\n",
       "    }\n",
       "</style>\n",
       "<table border=\"1\" class=\"dataframe\">\n",
       "  <thead>\n",
       "    <tr style=\"text-align: right;\">\n",
       "      <th></th>\n",
       "      <th></th>\n",
       "      <th>ОКТМО</th>\n",
       "      <th>Доходы</th>\n",
       "      <th>Социальные выплаты</th>\n",
       "      <th>Суммарные выплаты</th>\n",
       "      <th>Выплаты на 1 чел.</th>\n",
       "    </tr>\n",
       "  </thead>\n",
       "  <tbody>\n",
       "    <tr>\n",
       "      <th rowspan=\"5\" valign=\"top\">Алтайский край</th>\n",
       "      <th>Всего</th>\n",
       "      <td>01</td>\n",
       "      <td>234964534.0</td>\n",
       "      <td>153747041.2</td>\n",
       "      <td>388711575.2</td>\n",
       "      <td>320429.5</td>\n",
       "    </tr>\n",
       "    <tr>\n",
       "      <th>Муниципальные районы</th>\n",
       "      <td>01 600 000</td>\n",
       "      <td>65678390.2</td>\n",
       "      <td>70320487.2</td>\n",
       "      <td>135998877.4</td>\n",
       "      <td>125150.8</td>\n",
       "    </tr>\n",
       "    <tr>\n",
       "      <th>Алейский</th>\n",
       "      <td>01 601 000</td>\n",
       "      <td>934172.7</td>\n",
       "      <td>871714.1</td>\n",
       "      <td>1805886.8</td>\n",
       "      <td>121731.5</td>\n",
       "    </tr>\n",
       "    <tr>\n",
       "      <th>Алтайский</th>\n",
       "      <td>01 602 000</td>\n",
       "      <td>1197788.0</td>\n",
       "      <td>1556525.7</td>\n",
       "      <td>2754313.7</td>\n",
       "      <td>105408.1</td>\n",
       "    </tr>\n",
       "    <tr>\n",
       "      <th>Баевский</th>\n",
       "      <td>01 603 000</td>\n",
       "      <td>621466.7</td>\n",
       "      <td>683757.1</td>\n",
       "      <td>1305223.8</td>\n",
       "      <td>135890.0</td>\n",
       "    </tr>\n",
       "  </tbody>\n",
       "</table>\n",
       "</div>"
      ],
      "text/plain": [
       "                                          ОКТМО       Доходы  \\\n",
       "Алтайский край Всего                         01  234964534.0   \n",
       "               Муниципальные районы  01 600 000   65678390.2   \n",
       "               Алейский              01 601 000     934172.7   \n",
       "               Алтайский             01 602 000    1197788.0   \n",
       "               Баевский              01 603 000     621466.7   \n",
       "\n",
       "                                     Социальные выплаты  Суммарные выплаты  \\\n",
       "Алтайский край Всего                        153747041.2        388711575.2   \n",
       "               Муниципальные районы          70320487.2        135998877.4   \n",
       "               Алейский                        871714.1          1805886.8   \n",
       "               Алтайский                      1556525.7          2754313.7   \n",
       "               Баевский                        683757.1          1305223.8   \n",
       "\n",
       "                                     Выплаты на 1 чел.  \n",
       "Алтайский край Всего                          320429.5  \n",
       "               Муниципальные районы           125150.8  \n",
       "               Алейский                       121731.5  \n",
       "               Алтайский                      105408.1  \n",
       "               Баевский                       135890.0  "
      ]
     },
     "execution_count": 239,
     "metadata": {},
     "output_type": "execute_result"
    }
   ],
   "source": [
    "income_transferts_2015.head()"
   ]
  },
  {
   "cell_type": "code",
   "execution_count": 240,
   "id": "64b49c04-5400-4bb0-b816-3551d2cc1c20",
   "metadata": {},
   "outputs": [
    {
     "data": {
      "text/html": [
       "<div>\n",
       "<style scoped>\n",
       "    .dataframe tbody tr th:only-of-type {\n",
       "        vertical-align: middle;\n",
       "    }\n",
       "\n",
       "    .dataframe tbody tr th {\n",
       "        vertical-align: top;\n",
       "    }\n",
       "\n",
       "    .dataframe thead th {\n",
       "        text-align: right;\n",
       "    }\n",
       "</style>\n",
       "<table border=\"1\" class=\"dataframe\">\n",
       "  <thead>\n",
       "    <tr style=\"text-align: right;\">\n",
       "      <th></th>\n",
       "      <th>ОКТМО</th>\n",
       "      <th>Доходы</th>\n",
       "      <th>Социальные выплаты</th>\n",
       "      <th>Суммарные выплаты</th>\n",
       "      <th>Выплаты на 1 чел.</th>\n",
       "    </tr>\n",
       "  </thead>\n",
       "  <tbody>\n",
       "    <tr>\n",
       "      <th>Всего</th>\n",
       "      <td>46</td>\n",
       "      <td>1573541583.1</td>\n",
       "      <td>569337289.6</td>\n",
       "      <td>2142878872.6</td>\n",
       "      <td>590808.6</td>\n",
       "    </tr>\n",
       "  </tbody>\n",
       "</table>\n",
       "</div>"
      ],
      "text/plain": [
       "      ОКТМО        Доходы Социальные выплаты Суммарные выплаты  \\\n",
       "Всего    46  1573541583.1        569337289.6      2142878872.6   \n",
       "\n",
       "      Выплаты на 1 чел.  \n",
       "Всего          590808.6  "
      ]
     },
     "execution_count": 240,
     "metadata": {},
     "output_type": "execute_result"
    }
   ],
   "source": [
    "get_data_two_level(\n",
    "    data=income_transferts_2015,\n",
    "    level0='Московская область',\n",
    "    level1='Всего',\n",
    "    kind='index')"
   ]
  },
  {
   "cell_type": "code",
   "execution_count": 241,
   "id": "8999a697-7e8b-43c7-967a-3616e91f64dc",
   "metadata": {},
   "outputs": [],
   "source": [
    "datasets_list.append(income_transferts_2015)"
   ]
  },
  {
   "cell_type": "markdown",
   "id": "0e7751a1-9037-4088-8fb7-3f86bff860d8",
   "metadata": {},
   "source": [
    "#### <font color='#AF4035'>2016 год</font>"
   ]
  },
  {
   "cell_type": "markdown",
   "id": "af517d87-83b9-4423-b7d2-25c3fc479dbd",
   "metadata": {},
   "source": [
    "##### Regions OKTMO codes"
   ]
  },
  {
   "cell_type": "code",
   "execution_count": 242,
   "id": "a2756a83-245c-4670-95bb-b0b2d73d7ef3",
   "metadata": {},
   "outputs": [],
   "source": [
    "path_2016 = \\\n",
    "    ('/Users/a.chasovsky/Library/CloudStorage/GoogleDrive-alexanderchasovsky@gmail.com/'\n",
    "     'Мой диск/Data Science Projects/pers_economics_rus/data/00-Region-codes/')\n",
    "os.chdir(path_2016)\n",
    "%run 2016.ipynb\n",
    "os.chdir(current_path)"
   ]
  },
  {
   "attachments": {},
   "cell_type": "markdown",
   "id": "df10ff78-5866-4b66-91bd-311739497bea",
   "metadata": {},
   "source": [
    "##### Исправления:\n",
    "- Осетия-Алания: Городские округа: '90 701 000' -> '90 700 000'\n",
    "- Магаданская область: '44 000 000' -> '44'"
   ]
  },
  {
   "cell_type": "markdown",
   "id": "e50e02b0-c1d1-40a5-a61b-ce3b3e9fad4d",
   "metadata": {},
   "source": [
    "##### Data"
   ]
  },
  {
   "cell_type": "code",
   "execution_count": 243,
   "id": "abed1d97-c974-460d-b47e-0a2689a32437",
   "metadata": {},
   "outputs": [],
   "source": [
    "income_transferts_2016_link = \\\n",
    "    ('data/02-Population/02-Standard-of-living/01-Income/'\n",
    "     'urov-14a2016.xls')"
   ]
  },
  {
   "cell_type": "code",
   "execution_count": 244,
   "id": "801b019c-86ec-4ac0-bc64-a663f14bcc1a",
   "metadata": {},
   "outputs": [],
   "source": [
    "income_transferts_2016_raw = pd.read_excel(income_transferts_2016_link)"
   ]
  },
  {
   "cell_type": "code",
   "execution_count": 245,
   "id": "41ebaf4e-e906-454b-97d2-332a0ab35635",
   "metadata": {},
   "outputs": [
    {
     "data": {
      "text/html": [
       "<div>\n",
       "<style scoped>\n",
       "    .dataframe tbody tr th:only-of-type {\n",
       "        vertical-align: middle;\n",
       "    }\n",
       "\n",
       "    .dataframe tbody tr th {\n",
       "        vertical-align: top;\n",
       "    }\n",
       "\n",
       "    .dataframe thead th {\n",
       "        text-align: right;\n",
       "    }\n",
       "</style>\n",
       "<table border=\"1\" class=\"dataframe\">\n",
       "  <thead>\n",
       "    <tr style=\"text-align: right;\">\n",
       "      <th></th>\n",
       "      <th>Unnamed: 0</th>\n",
       "      <th>Unnamed: 1</th>\n",
       "      <th>Unnamed: 2</th>\n",
       "      <th>Unnamed: 3</th>\n",
       "      <th>Unnamed: 4</th>\n",
       "      <th>Unnamed: 5</th>\n",
       "      <th>Unnamed: 6</th>\n",
       "    </tr>\n",
       "  </thead>\n",
       "  <tbody>\n",
       "    <tr>\n",
       "      <th>0</th>\n",
       "      <td>\"Объем социальных выплат населению и налогооб...</td>\n",
       "      <td>NaN</td>\n",
       "      <td>NaN</td>\n",
       "      <td>NaN</td>\n",
       "      <td>NaN</td>\n",
       "      <td>NaN</td>\n",
       "      <td>NaN</td>\n",
       "    </tr>\n",
       "    <tr>\n",
       "      <th>1</th>\n",
       "      <td>NaN</td>\n",
       "      <td>NaN</td>\n",
       "      <td>NaN</td>\n",
       "      <td>NaN</td>\n",
       "      <td>NaN</td>\n",
       "      <td>NaN</td>\n",
       "      <td>NaN</td>\n",
       "    </tr>\n",
       "    <tr>\n",
       "      <th>2</th>\n",
       "      <td>NaN</td>\n",
       "      <td>NaN</td>\n",
       "      <td>Код ОКТМО</td>\n",
       "      <td>Налогооблагаемые денежные доходы физических ли...</td>\n",
       "      <td>Социальные и другие выплаты, тыс.рублей</td>\n",
       "      <td>Объем социальных выплат населению и налогообла...</td>\n",
       "      <td>Объем социальных выплат и налогооблагаемых ден...</td>\n",
       "    </tr>\n",
       "    <tr>\n",
       "      <th>3</th>\n",
       "      <td>NaN</td>\n",
       "      <td>NaN</td>\n",
       "      <td>1</td>\n",
       "      <td>2</td>\n",
       "      <td>3</td>\n",
       "      <td>4</td>\n",
       "      <td>5</td>\n",
       "    </tr>\n",
       "    <tr>\n",
       "      <th>4</th>\n",
       "      <td>NaN</td>\n",
       "      <td>Алтайский край</td>\n",
       "      <td>01</td>\n",
       "      <td>NaN</td>\n",
       "      <td>NaN</td>\n",
       "      <td>NaN</td>\n",
       "      <td>NaN</td>\n",
       "    </tr>\n",
       "    <tr>\n",
       "      <th>5</th>\n",
       "      <td>NaN</td>\n",
       "      <td>Муниципальные районы</td>\n",
       "      <td>01 600 000</td>\n",
       "      <td>73099701.749086</td>\n",
       "      <td>76278727.009065</td>\n",
       "      <td>149378428.758151</td>\n",
       "      <td>138526.279984</td>\n",
       "    </tr>\n",
       "    <tr>\n",
       "      <th>6</th>\n",
       "      <td>1</td>\n",
       "      <td>Алейский</td>\n",
       "      <td>01 601 000</td>\n",
       "      <td>1190669.884214</td>\n",
       "      <td>933376.281442</td>\n",
       "      <td>2124046.165656</td>\n",
       "      <td>145373.086418</td>\n",
       "    </tr>\n",
       "    <tr>\n",
       "      <th>7</th>\n",
       "      <td>2</td>\n",
       "      <td>Алтайский</td>\n",
       "      <td>01 602 000</td>\n",
       "      <td>1758606.298665</td>\n",
       "      <td>1690557.705343</td>\n",
       "      <td>3449164.004008</td>\n",
       "      <td>132375.038533</td>\n",
       "    </tr>\n",
       "    <tr>\n",
       "      <th>8</th>\n",
       "      <td>3</td>\n",
       "      <td>Баевский</td>\n",
       "      <td>01 603 000</td>\n",
       "      <td>626780.512525</td>\n",
       "      <td>754054.859022</td>\n",
       "      <td>1380835.371548</td>\n",
       "      <td>146336.940605</td>\n",
       "    </tr>\n",
       "    <tr>\n",
       "      <th>9</th>\n",
       "      <td>4</td>\n",
       "      <td>Бийский</td>\n",
       "      <td>01 604 000</td>\n",
       "      <td>1686703.310148</td>\n",
       "      <td>2242627.126207</td>\n",
       "      <td>3929330.436356</td>\n",
       "      <td>120995.548464</td>\n",
       "    </tr>\n",
       "  </tbody>\n",
       "</table>\n",
       "</div>"
      ],
      "text/plain": [
       "                                          Unnamed: 0             Unnamed: 1  \\\n",
       "0   \"Объем социальных выплат населению и налогооб...                    NaN   \n",
       "1                                                NaN                    NaN   \n",
       "2                                                NaN                    NaN   \n",
       "3                                                NaN                    NaN   \n",
       "4                                                NaN         Алтайский край   \n",
       "5                                                NaN  Муниципальные районы    \n",
       "6                                                  1               Алейский   \n",
       "7                                                  2              Алтайский   \n",
       "8                                                  3               Баевский   \n",
       "9                                                  4                Бийский   \n",
       "\n",
       "   Unnamed: 2                                         Unnamed: 3  \\\n",
       "0         NaN                                                NaN   \n",
       "1         NaN                                                NaN   \n",
       "2   Код ОКТМО  Налогооблагаемые денежные доходы физических ли...   \n",
       "3           1                                                  2   \n",
       "4          01                                                NaN   \n",
       "5  01 600 000                                    73099701.749086   \n",
       "6  01 601 000                                     1190669.884214   \n",
       "7  01 602 000                                     1758606.298665   \n",
       "8  01 603 000                                      626780.512525   \n",
       "9  01 604 000                                     1686703.310148   \n",
       "\n",
       "                                Unnamed: 4  \\\n",
       "0                                      NaN   \n",
       "1                                      NaN   \n",
       "2  Социальные и другие выплаты, тыс.рублей   \n",
       "3                                        3   \n",
       "4                                      NaN   \n",
       "5                          76278727.009065   \n",
       "6                            933376.281442   \n",
       "7                           1690557.705343   \n",
       "8                            754054.859022   \n",
       "9                           2242627.126207   \n",
       "\n",
       "                                          Unnamed: 5  \\\n",
       "0                                                NaN   \n",
       "1                                                NaN   \n",
       "2  Объем социальных выплат населению и налогообла...   \n",
       "3                                                  4   \n",
       "4                                                NaN   \n",
       "5                                   149378428.758151   \n",
       "6                                     2124046.165656   \n",
       "7                                     3449164.004008   \n",
       "8                                     1380835.371548   \n",
       "9                                     3929330.436356   \n",
       "\n",
       "                                          Unnamed: 6  \n",
       "0                                                NaN  \n",
       "1                                                NaN  \n",
       "2  Объем социальных выплат и налогооблагаемых ден...  \n",
       "3                                                  5  \n",
       "4                                                NaN  \n",
       "5                                      138526.279984  \n",
       "6                                      145373.086418  \n",
       "7                                      132375.038533  \n",
       "8                                      146336.940605  \n",
       "9                                      120995.548464  "
      ]
     },
     "execution_count": 245,
     "metadata": {},
     "output_type": "execute_result"
    }
   ],
   "source": [
    "income_transferts_2016_raw.head(10)"
   ]
  },
  {
   "cell_type": "code",
   "execution_count": 246,
   "id": "b47a68e8-bdca-4f1b-b124-4c897e78a7a3",
   "metadata": {},
   "outputs": [
    {
     "data": {
      "text/html": [
       "<div>\n",
       "<style scoped>\n",
       "    .dataframe tbody tr th:only-of-type {\n",
       "        vertical-align: middle;\n",
       "    }\n",
       "\n",
       "    .dataframe tbody tr th {\n",
       "        vertical-align: top;\n",
       "    }\n",
       "\n",
       "    .dataframe thead th {\n",
       "        text-align: right;\n",
       "    }\n",
       "</style>\n",
       "<table border=\"1\" class=\"dataframe\">\n",
       "  <thead>\n",
       "    <tr style=\"text-align: right;\">\n",
       "      <th></th>\n",
       "      <th>Unnamed: 0</th>\n",
       "      <th>Unnamed: 1</th>\n",
       "      <th>Unnamed: 2</th>\n",
       "      <th>Unnamed: 3</th>\n",
       "      <th>Unnamed: 4</th>\n",
       "      <th>Unnamed: 5</th>\n",
       "      <th>Unnamed: 6</th>\n",
       "    </tr>\n",
       "  </thead>\n",
       "  <tbody>\n",
       "    <tr>\n",
       "      <th>2653</th>\n",
       "      <td>NaN</td>\n",
       "      <td>NaN</td>\n",
       "      <td>NaN</td>\n",
       "      <td>NaN</td>\n",
       "      <td>NaN</td>\n",
       "      <td>NaN</td>\n",
       "      <td>NaN</td>\n",
       "    </tr>\n",
       "    <tr>\n",
       "      <th>2654</th>\n",
       "      <td>NaN</td>\n",
       "      <td>Еврейская автономная область</td>\n",
       "      <td>99</td>\n",
       "      <td>NaN</td>\n",
       "      <td>NaN</td>\n",
       "      <td>NaN</td>\n",
       "      <td>NaN</td>\n",
       "    </tr>\n",
       "    <tr>\n",
       "      <th>2655</th>\n",
       "      <td>NaN</td>\n",
       "      <td>Муниципальные районы</td>\n",
       "      <td>99600000</td>\n",
       "      <td>11346326.57</td>\n",
       "      <td>6106105.787262</td>\n",
       "      <td>17452432.357262</td>\n",
       "      <td>192118.539412</td>\n",
       "    </tr>\n",
       "    <tr>\n",
       "      <th>2656</th>\n",
       "      <td>1</td>\n",
       "      <td>Биробиджанский</td>\n",
       "      <td>99605000</td>\n",
       "      <td>1405277.07</td>\n",
       "      <td>819129.682514</td>\n",
       "      <td>2224406.752514</td>\n",
       "      <td>193645.577828</td>\n",
       "    </tr>\n",
       "    <tr>\n",
       "      <th>2657</th>\n",
       "      <td>2</td>\n",
       "      <td>Ленинский</td>\n",
       "      <td>99610000</td>\n",
       "      <td>2227391.51</td>\n",
       "      <td>1012860.08579</td>\n",
       "      <td>3240251.59579</td>\n",
       "      <td>177373.089325</td>\n",
       "    </tr>\n",
       "    <tr>\n",
       "      <th>2658</th>\n",
       "      <td>3</td>\n",
       "      <td>Облученский</td>\n",
       "      <td>99620000</td>\n",
       "      <td>4390040.5</td>\n",
       "      <td>1932859.497599</td>\n",
       "      <td>6322899.997599</td>\n",
       "      <td>241885.998378</td>\n",
       "    </tr>\n",
       "    <tr>\n",
       "      <th>2659</th>\n",
       "      <td>4</td>\n",
       "      <td>Октябрьский</td>\n",
       "      <td>99625000</td>\n",
       "      <td>1092235.73</td>\n",
       "      <td>682886.24521</td>\n",
       "      <td>1775121.97521</td>\n",
       "      <td>177388.025903</td>\n",
       "    </tr>\n",
       "    <tr>\n",
       "      <th>2660</th>\n",
       "      <td>5</td>\n",
       "      <td>Смидовичский</td>\n",
       "      <td>99630000</td>\n",
       "      <td>2231381.76</td>\n",
       "      <td>1658370.276149</td>\n",
       "      <td>3889752.036149</td>\n",
       "      <td>155964.395996</td>\n",
       "    </tr>\n",
       "    <tr>\n",
       "      <th>2661</th>\n",
       "      <td>NaN</td>\n",
       "      <td>Городские округа</td>\n",
       "      <td>99700000</td>\n",
       "      <td>14767906.72</td>\n",
       "      <td>5876774.392738</td>\n",
       "      <td>20644681.112738</td>\n",
       "      <td>277754.801253</td>\n",
       "    </tr>\n",
       "    <tr>\n",
       "      <th>2662</th>\n",
       "      <td>1</td>\n",
       "      <td>г. Биробиджан</td>\n",
       "      <td>99701000</td>\n",
       "      <td>14767906.72</td>\n",
       "      <td>5876774.392738</td>\n",
       "      <td>20644681.112738</td>\n",
       "      <td>277754.801253</td>\n",
       "    </tr>\n",
       "  </tbody>\n",
       "</table>\n",
       "</div>"
      ],
      "text/plain": [
       "     Unnamed: 0                     Unnamed: 1 Unnamed: 2   Unnamed: 3  \\\n",
       "2653        NaN                            NaN        NaN          NaN   \n",
       "2654        NaN  Еврейская автономная область          99          NaN   \n",
       "2655        NaN          Муниципальные районы    99600000  11346326.57   \n",
       "2656          1                Биробиджанский    99605000   1405277.07   \n",
       "2657          2                     Ленинский    99610000   2227391.51   \n",
       "2658          3                   Облученский    99620000    4390040.5   \n",
       "2659          4                   Октябрьский    99625000   1092235.73   \n",
       "2660          5                  Смидовичский    99630000   2231381.76   \n",
       "2661        NaN              Городские округа    99700000  14767906.72   \n",
       "2662          1                  г. Биробиджан   99701000  14767906.72   \n",
       "\n",
       "          Unnamed: 4       Unnamed: 5     Unnamed: 6  \n",
       "2653             NaN              NaN            NaN  \n",
       "2654             NaN              NaN            NaN  \n",
       "2655  6106105.787262  17452432.357262  192118.539412  \n",
       "2656   819129.682514   2224406.752514  193645.577828  \n",
       "2657   1012860.08579    3240251.59579  177373.089325  \n",
       "2658  1932859.497599   6322899.997599  241885.998378  \n",
       "2659    682886.24521    1775121.97521  177388.025903  \n",
       "2660  1658370.276149   3889752.036149  155964.395996  \n",
       "2661  5876774.392738  20644681.112738  277754.801253  \n",
       "2662  5876774.392738  20644681.112738  277754.801253  "
      ]
     },
     "execution_count": 246,
     "metadata": {},
     "output_type": "execute_result"
    }
   ],
   "source": [
    "income_transferts_2016_raw.tail(10)"
   ]
  },
  {
   "cell_type": "code",
   "execution_count": 247,
   "id": "9b79b85f-56cf-4c55-b948-6584d20fb90c",
   "metadata": {},
   "outputs": [],
   "source": [
    "income_transferts_2016 = income_transferts_2016_raw.copy()"
   ]
  },
  {
   "cell_type": "markdown",
   "id": "85099a3f-3318-4684-94e3-01c2c7b8b27c",
   "metadata": {},
   "source": [
    "##### Rename columns and drop useless"
   ]
  },
  {
   "cell_type": "code",
   "execution_count": 248,
   "id": "37e0fe89-635f-4752-ac43-467693678881",
   "metadata": {},
   "outputs": [],
   "source": [
    "income_transferts_2016_columns = [\n",
    "    '-', 'index1', 'ОКТМО', 'Доходы', 'Социальные выплаты',\n",
    "    'Суммарные выплаты', 'Выплаты на 1 чел.'\n",
    "]"
   ]
  },
  {
   "cell_type": "code",
   "execution_count": 249,
   "id": "a30fcf95-2661-4169-b0b3-feccccaf3ee0",
   "metadata": {},
   "outputs": [],
   "source": [
    "income_transferts_2016.columns = income_transferts_2016_columns"
   ]
  },
  {
   "cell_type": "code",
   "execution_count": 250,
   "id": "621eeba2-54c3-4587-9416-bd56cbb4fcf4",
   "metadata": {},
   "outputs": [],
   "source": [
    "# drop useless columns with name '-'\n",
    "income_transferts_2016 = income_transferts_2016.drop('-', axis=1)"
   ]
  },
  {
   "cell_type": "markdown",
   "id": "8aae6a95-e8d1-480b-9d93-4b57496c3c8b",
   "metadata": {},
   "source": [
    "##### Cut rows and drop NaNs"
   ]
  },
  {
   "cell_type": "code",
   "execution_count": 251,
   "id": "ae027fe2-9fed-4721-aed2-b9138b06709d",
   "metadata": {},
   "outputs": [],
   "source": [
    "# cut rows\n",
    "income_transferts_2016 = transform_cut_rows(income_transferts_2016, 4, 0)"
   ]
  },
  {
   "cell_type": "code",
   "execution_count": 252,
   "id": "4f52868e-3fae-4dcc-ba46-1348fb6acf0c",
   "metadata": {},
   "outputs": [],
   "source": [
    "# drop rows with NaNs in 'index0' column\n",
    "income_transferts_2016 = \\\n",
    "    income_transferts_2016[income_transferts_2016['index1'].notna()]"
   ]
  },
  {
   "cell_type": "markdown",
   "id": "41a1d140-2dc5-45d1-b80f-6875f8f36e77",
   "metadata": {},
   "source": [
    "##### Normalize OKTMO"
   ]
  },
  {
   "cell_type": "code",
   "execution_count": 253,
   "id": "c7ff73f4-ba81-42d3-b920-ba4e446a5298",
   "metadata": {},
   "outputs": [],
   "source": [
    "# make OKTMO column values str\n",
    "income_transferts_2016['ОКТМО'] = income_transferts_2016['ОКТМО'].astype(str)"
   ]
  },
  {
   "cell_type": "code",
   "execution_count": 254,
   "id": "1490e849-41dc-4d4c-b7ec-9d16a20579fd",
   "metadata": {},
   "outputs": [],
   "source": [
    "# normalize oktmo - remove spaces and other dirt\n",
    "income_transferts_2016['ОКТМО'] = \\\n",
    "    income_transferts_2016['ОКТМО'].apply(lambda x: normalize_oktmo(x))"
   ]
  },
  {
   "cell_type": "markdown",
   "id": "6032372d-8d61-4225-9ba2-13f02319cec2",
   "metadata": {},
   "source": [
    "##### Level0 for Multiindex"
   ]
  },
  {
   "cell_type": "code",
   "execution_count": 255,
   "id": "5b4b10e1-024a-4d00-9c67-50dfadd913b2",
   "metadata": {},
   "outputs": [],
   "source": [
    "# create index level0 column\n",
    "income_transferts_2016['index0'] = np.NaN"
   ]
  },
  {
   "cell_type": "code",
   "execution_count": 256,
   "id": "a8e95783-2770-457a-9d08-9bac810c18e4",
   "metadata": {},
   "outputs": [],
   "source": [
    "# fill in by region with OKTMO in OKTMO column\n",
    "income_transferts_2016 = (income_transferts_2016\n",
    "                          .assign(index0=income_transferts_2016['ОКТМО']\n",
    "                                  .map(region_oktmo_norm_dict_sorted)\n",
    "                                  .fillna(income_transferts_2016['index0'])))"
   ]
  },
  {
   "cell_type": "code",
   "execution_count": 257,
   "id": "a74a9785-404b-465e-8889-afc0a0d21953",
   "metadata": {},
   "outputs": [],
   "source": [
    "# 1) 'Архангельская область' and \n",
    "# 'Ненецкий автономный округ (Архангельская область)' have the same OKTMO == 11\n",
    "# 2) 'Ненецкий автономный округ (Архангельская область)' index allways greater than index of \n",
    "# 'Архангельская область'\n",
    "# knowing this, we replace duplicate 'Архангельская область' by 'Ненецкий автономный округ (Архангельская область)'\n",
    "income_transferts_2016 = normalize_nenec(income_transferts_2016, 'index0')"
   ]
  },
  {
   "cell_type": "code",
   "execution_count": 258,
   "id": "25821db5-55d4-4a04-8e5e-67ecaef391f7",
   "metadata": {},
   "outputs": [],
   "source": [
    "# the same correction for 'Тюменская область'\n",
    "income_transferts_2016 = normalize_khantymanci(income_transferts_2016, 'index0')"
   ]
  },
  {
   "cell_type": "code",
   "execution_count": 259,
   "id": "9c10b314-950c-47c8-b891-2fc8436aa7eb",
   "metadata": {},
   "outputs": [],
   "source": [
    "# fill '-' values in index0 column\n",
    "income_transferts_2016 = transform_fill_values_by_previous(\n",
    "    income_transferts_2016, kind='column', column_name='index0')"
   ]
  },
  {
   "cell_type": "markdown",
   "id": "470f13b9-9860-482c-a84b-6c09d0600dac",
   "metadata": {},
   "source": [
    "##### Level1 for Multiindex"
   ]
  },
  {
   "cell_type": "code",
   "execution_count": 260,
   "id": "5cfea77d-b949-47d4-b41c-46bca805fcaa",
   "metadata": {},
   "outputs": [],
   "source": [
    "# change region name in 'index1' column to 'Всего'\n",
    "income_transferts_2016['index1'] = income_transferts_2016.apply(\n",
    "    lambda x: transferts_various(x['ОКТМО'], x['index1']), axis=1)"
   ]
  },
  {
   "cell_type": "code",
   "execution_count": 261,
   "id": "be245d86-04f4-43d7-a2e9-f622162b15c6",
   "metadata": {},
   "outputs": [],
   "source": [
    "# normalize 'Муниципальные районы' and 'Гордские округа' - remove spaces and other dirt\n",
    "income_transferts_2016['index1'] = \\\n",
    "    income_transferts_2016['index1'].apply(lambda x: normalize_municipal_town(x))"
   ]
  },
  {
   "cell_type": "markdown",
   "id": "da891927-79b6-4218-b668-3cc9c6727c98",
   "metadata": {},
   "source": [
    "##### Fill rows with sum ('Всего')"
   ]
  },
  {
   "cell_type": "code",
   "execution_count": 262,
   "id": "ac5a0d01-383b-4a63-816c-e792c96a2d61",
   "metadata": {},
   "outputs": [],
   "source": [
    "# columns for sum of 'Муниципальные районы' and 'Городские округа'\n",
    "columns_summary2012 = [\n",
    "    'Доходы', 'Социальные выплаты', 'Суммарные выплаты', 'Выплаты на 1 чел.']"
   ]
  },
  {
   "cell_type": "code",
   "execution_count": 263,
   "id": "5d5024eb-2122-4212-812a-549fc41be5b5",
   "metadata": {},
   "outputs": [],
   "source": [
    "# create regions list\n",
    "regions_list2012 = list(set(income_transferts_2016['index0']))\n",
    "regions_list2012.sort()"
   ]
  },
  {
   "cell_type": "code",
   "execution_count": 264,
   "id": "9881f066-bcd5-43f4-a4db-5390d85fbdc1",
   "metadata": {},
   "outputs": [
    {
     "name": "stdout",
     "output_type": "stream",
     "text": [
      "Region Санкт-Петербург not in \"Minucipal-Town Dictionary\"\n"
     ]
    }
   ],
   "source": [
    "# count sum of 'Муниципальные районы' and 'Городские округа'\n",
    "income_transferts_2016 = calculate_sum_transferts(\n",
    "    data=income_transferts_2016,\n",
    "    columns=columns_summary2012,\n",
    "    regions=regions_list2012,\n",
    "    mapping_dict=municipal_town_dict)"
   ]
  },
  {
   "cell_type": "markdown",
   "id": "d07d185b-79b2-4eb0-a680-907c99f79f48",
   "metadata": {},
   "source": [
    "##### Count Regions"
   ]
  },
  {
   "cell_type": "code",
   "execution_count": 265,
   "id": "f4745057-f2c4-4eeb-8c31-f9289786359f",
   "metadata": {},
   "outputs": [
    {
     "data": {
      "text/plain": [
       "83"
      ]
     },
     "execution_count": 265,
     "metadata": {},
     "output_type": "execute_result"
    }
   ],
   "source": [
    "# count regions\n",
    "regions_count2012 = len(set(income_transferts_2016['index0'].values))\n",
    "regions_count2012"
   ]
  },
  {
   "cell_type": "markdown",
   "id": "6fb9daba-42df-45ef-bfc0-ab909ed87b1f",
   "metadata": {},
   "source": [
    "##### Create Multiindex"
   ]
  },
  {
   "cell_type": "code",
   "execution_count": 266,
   "id": "cfc932d5-d994-40bc-a219-d56e5cca6a1d",
   "metadata": {},
   "outputs": [],
   "source": [
    "# columns to multiindex\n",
    "income_transferts_2016 = transform_make_index_from_columns(\n",
    "    income_transferts_2016, ['index0', 'index1'])"
   ]
  },
  {
   "cell_type": "code",
   "execution_count": 267,
   "id": "2b146606-e2ad-4f22-8909-abe659d9eb3a",
   "metadata": {},
   "outputs": [],
   "source": [
    "# drop columns, that became multiindexes\n",
    "income_transferts_2016 = income_transferts_2016.drop(['index0', 'index1'], axis=1)"
   ]
  },
  {
   "cell_type": "markdown",
   "id": "535fdbe3-1ff5-4490-9a04-32df724b3c77",
   "metadata": {},
   "source": [
    "##### Round (one symbol)"
   ]
  },
  {
   "cell_type": "code",
   "execution_count": 268,
   "id": "15dd3170-dc90-44ed-b5e1-3ef19971d6a1",
   "metadata": {},
   "outputs": [],
   "source": [
    "# round\n",
    "for column in income_transferts_2016.columns:\n",
    "    try:\n",
    "        income_transferts_2016[column] = \\\n",
    "            income_transferts_2016[column].astype(float).round(1)\n",
    "    except ValueError:\n",
    "        pass"
   ]
  },
  {
   "cell_type": "markdown",
   "id": "ec4cb5d0-62c0-4d63-a6b3-436bc945a2fb",
   "metadata": {},
   "source": [
    "##### <font color='#2A5899'>2016 Check for Discrepancy</font>"
   ]
  },
  {
   "cell_type": "code",
   "execution_count": 269,
   "id": "e838ac24-b7e5-4a77-9f87-5bc2e619a89c",
   "metadata": {},
   "outputs": [
    {
     "data": {
      "text/plain": [
       "False"
      ]
     },
     "execution_count": 269,
     "metadata": {},
     "output_type": "execute_result"
    }
   ],
   "source": [
    "# OKTMO check for NaN\n",
    "income_transferts_2016[income_transferts_2016['ОКТМО'].isna()].any().any()"
   ]
  },
  {
   "cell_type": "code",
   "execution_count": 270,
   "id": "6431e86e-591c-4569-b1a6-264de3484568",
   "metadata": {},
   "outputs": [
    {
     "data": {
      "text/plain": [
       "True"
      ]
     },
     "execution_count": 270,
     "metadata": {},
     "output_type": "execute_result"
    }
   ],
   "source": [
    "# all data check for NaN\n",
    "income_transferts_2016[income_transferts_2016.isna().any(axis=1)].any().any()"
   ]
  },
  {
   "cell_type": "code",
   "execution_count": 271,
   "id": "2965cd25-5daf-4d4a-8b86-8507226dc986",
   "metadata": {},
   "outputs": [
    {
     "data": {
      "text/html": [
       "<div>\n",
       "<style scoped>\n",
       "    .dataframe tbody tr th:only-of-type {\n",
       "        vertical-align: middle;\n",
       "    }\n",
       "\n",
       "    .dataframe tbody tr th {\n",
       "        vertical-align: top;\n",
       "    }\n",
       "\n",
       "    .dataframe thead th {\n",
       "        text-align: right;\n",
       "    }\n",
       "</style>\n",
       "<table border=\"1\" class=\"dataframe\">\n",
       "  <thead>\n",
       "    <tr style=\"text-align: right;\">\n",
       "      <th></th>\n",
       "      <th></th>\n",
       "      <th>ОКТМО</th>\n",
       "      <th>Доходы</th>\n",
       "      <th>Социальные выплаты</th>\n",
       "      <th>Суммарные выплаты</th>\n",
       "      <th>Выплаты на 1 чел.</th>\n",
       "    </tr>\n",
       "  </thead>\n",
       "  <tbody>\n",
       "  </tbody>\n",
       "</table>\n",
       "</div>"
      ],
      "text/plain": [
       "Empty DataFrame\n",
       "Columns: [ОКТМО, Доходы, Социальные выплаты, Суммарные выплаты, Выплаты на 1 чел.]\n",
       "Index: []"
      ]
     },
     "execution_count": 271,
     "metadata": {},
     "output_type": "execute_result"
    }
   ],
   "source": [
    "income_transferts_2016[income_transferts_2016['Доходы'] == 0]"
   ]
  },
  {
   "cell_type": "code",
   "execution_count": 272,
   "id": "f7134777-a2c6-4774-ae29-63445a58ea26",
   "metadata": {},
   "outputs": [
    {
     "data": {
      "text/html": [
       "<div>\n",
       "<style scoped>\n",
       "    .dataframe tbody tr th:only-of-type {\n",
       "        vertical-align: middle;\n",
       "    }\n",
       "\n",
       "    .dataframe tbody tr th {\n",
       "        vertical-align: top;\n",
       "    }\n",
       "\n",
       "    .dataframe thead th {\n",
       "        text-align: right;\n",
       "    }\n",
       "</style>\n",
       "<table border=\"1\" class=\"dataframe\">\n",
       "  <thead>\n",
       "    <tr style=\"text-align: right;\">\n",
       "      <th></th>\n",
       "      <th></th>\n",
       "      <th>ОКТМО</th>\n",
       "      <th>Доходы</th>\n",
       "      <th>Социальные выплаты</th>\n",
       "      <th>Суммарные выплаты</th>\n",
       "      <th>Выплаты на 1 чел.</th>\n",
       "    </tr>\n",
       "  </thead>\n",
       "  <tbody>\n",
       "  </tbody>\n",
       "</table>\n",
       "</div>"
      ],
      "text/plain": [
       "Empty DataFrame\n",
       "Columns: [ОКТМО, Доходы, Социальные выплаты, Суммарные выплаты, Выплаты на 1 чел.]\n",
       "Index: []"
      ]
     },
     "execution_count": 272,
     "metadata": {},
     "output_type": "execute_result"
    }
   ],
   "source": [
    "income_transferts_2016[income_transferts_2016['Социальные выплаты'] == 0]"
   ]
  },
  {
   "cell_type": "code",
   "execution_count": 273,
   "id": "8bffab5f-127b-4296-ac39-acab25b97d94",
   "metadata": {},
   "outputs": [
    {
     "data": {
      "text/html": [
       "<div>\n",
       "<style scoped>\n",
       "    .dataframe tbody tr th:only-of-type {\n",
       "        vertical-align: middle;\n",
       "    }\n",
       "\n",
       "    .dataframe tbody tr th {\n",
       "        vertical-align: top;\n",
       "    }\n",
       "\n",
       "    .dataframe thead th {\n",
       "        text-align: right;\n",
       "    }\n",
       "</style>\n",
       "<table border=\"1\" class=\"dataframe\">\n",
       "  <thead>\n",
       "    <tr style=\"text-align: right;\">\n",
       "      <th></th>\n",
       "      <th></th>\n",
       "      <th>ОКТМО</th>\n",
       "      <th>Доходы</th>\n",
       "      <th>Социальные выплаты</th>\n",
       "      <th>Суммарные выплаты</th>\n",
       "      <th>Выплаты на 1 чел.</th>\n",
       "    </tr>\n",
       "  </thead>\n",
       "  <tbody>\n",
       "  </tbody>\n",
       "</table>\n",
       "</div>"
      ],
      "text/plain": [
       "Empty DataFrame\n",
       "Columns: [ОКТМО, Доходы, Социальные выплаты, Суммарные выплаты, Выплаты на 1 чел.]\n",
       "Index: []"
      ]
     },
     "execution_count": 273,
     "metadata": {},
     "output_type": "execute_result"
    }
   ],
   "source": [
    "income_transferts_2016[income_transferts_2016['Суммарные выплаты'] == 0]"
   ]
  },
  {
   "cell_type": "code",
   "execution_count": 274,
   "id": "402dcc78-a28b-405d-9d12-cf7b67c155d2",
   "metadata": {},
   "outputs": [
    {
     "data": {
      "text/html": [
       "<div>\n",
       "<style scoped>\n",
       "    .dataframe tbody tr th:only-of-type {\n",
       "        vertical-align: middle;\n",
       "    }\n",
       "\n",
       "    .dataframe tbody tr th {\n",
       "        vertical-align: top;\n",
       "    }\n",
       "\n",
       "    .dataframe thead th {\n",
       "        text-align: right;\n",
       "    }\n",
       "</style>\n",
       "<table border=\"1\" class=\"dataframe\">\n",
       "  <thead>\n",
       "    <tr style=\"text-align: right;\">\n",
       "      <th></th>\n",
       "      <th></th>\n",
       "      <th>ОКТМО</th>\n",
       "      <th>Доходы</th>\n",
       "      <th>Социальные выплаты</th>\n",
       "      <th>Суммарные выплаты</th>\n",
       "      <th>Выплаты на 1 чел.</th>\n",
       "    </tr>\n",
       "  </thead>\n",
       "  <tbody>\n",
       "  </tbody>\n",
       "</table>\n",
       "</div>"
      ],
      "text/plain": [
       "Empty DataFrame\n",
       "Columns: [ОКТМО, Доходы, Социальные выплаты, Суммарные выплаты, Выплаты на 1 чел.]\n",
       "Index: []"
      ]
     },
     "execution_count": 274,
     "metadata": {},
     "output_type": "execute_result"
    }
   ],
   "source": [
    "income_transferts_2016[income_transferts_2016['Выплаты на 1 чел.'] == 0]"
   ]
  },
  {
   "cell_type": "code",
   "execution_count": 275,
   "id": "534ce8a1-eb65-4a0d-b685-092696d2e9dc",
   "metadata": {},
   "outputs": [
    {
     "data": {
      "text/html": [
       "<div>\n",
       "<style scoped>\n",
       "    .dataframe tbody tr th:only-of-type {\n",
       "        vertical-align: middle;\n",
       "    }\n",
       "\n",
       "    .dataframe tbody tr th {\n",
       "        vertical-align: top;\n",
       "    }\n",
       "\n",
       "    .dataframe thead th {\n",
       "        text-align: right;\n",
       "    }\n",
       "</style>\n",
       "<table border=\"1\" class=\"dataframe\">\n",
       "  <thead>\n",
       "    <tr style=\"text-align: right;\">\n",
       "      <th></th>\n",
       "      <th></th>\n",
       "      <th>ОКТМО</th>\n",
       "      <th>Доходы</th>\n",
       "      <th>Социальные выплаты</th>\n",
       "      <th>Суммарные выплаты</th>\n",
       "      <th>Выплаты на 1 чел.</th>\n",
       "    </tr>\n",
       "  </thead>\n",
       "  <tbody>\n",
       "    <tr>\n",
       "      <th>Тюменская область</th>\n",
       "      <th>Всего</th>\n",
       "      <td>71</td>\n",
       "      <td>294774745.0</td>\n",
       "      <td>103552744.5</td>\n",
       "      <td>398327489.6</td>\n",
       "      <td>493370.8</td>\n",
       "    </tr>\n",
       "    <tr>\n",
       "      <th>Ханты-Мансийский автономный округ - Югра (Тюменская область)</th>\n",
       "      <th>Всего</th>\n",
       "      <td>71</td>\n",
       "      <td>716732014.2</td>\n",
       "      <td>150878663.8</td>\n",
       "      <td>867610678.0</td>\n",
       "      <td>1151022.1</td>\n",
       "    </tr>\n",
       "    <tr>\n",
       "      <th>Ямало-Ненецкий автономный округ (Тюменская область)</th>\n",
       "      <th>Всего</th>\n",
       "      <td>71</td>\n",
       "      <td>401211839.0</td>\n",
       "      <td>51898186.0</td>\n",
       "      <td>453110024.9</td>\n",
       "      <td>1890530.5</td>\n",
       "    </tr>\n",
       "  </tbody>\n",
       "</table>\n",
       "</div>"
      ],
      "text/plain": [
       "                                                         ОКТМО       Доходы  \\\n",
       "Тюменская область                                  Всего    71  294774745.0   \n",
       "Ханты-Мансийский автономный округ - Югра (Тюмен... Всего    71  716732014.2   \n",
       "Ямало-Ненецкий автономный округ (Тюменская обла... Всего    71  401211839.0   \n",
       "\n",
       "                                                          Социальные выплаты  \\\n",
       "Тюменская область                                  Всего         103552744.5   \n",
       "Ханты-Мансийский автономный округ - Югра (Тюмен... Всего         150878663.8   \n",
       "Ямало-Ненецкий автономный округ (Тюменская обла... Всего          51898186.0   \n",
       "\n",
       "                                                          Суммарные выплаты  \\\n",
       "Тюменская область                                  Всего        398327489.6   \n",
       "Ханты-Мансийский автономный округ - Югра (Тюмен... Всего        867610678.0   \n",
       "Ямало-Ненецкий автономный округ (Тюменская обла... Всего        453110024.9   \n",
       "\n",
       "                                                          Выплаты на 1 чел.  \n",
       "Тюменская область                                  Всего           493370.8  \n",
       "Ханты-Мансийский автономный округ - Югра (Тюмен... Всего          1151022.1  \n",
       "Ямало-Ненецкий автономный округ (Тюменская обла... Всего          1890530.5  "
      ]
     },
     "execution_count": 275,
     "metadata": {},
     "output_type": "execute_result"
    }
   ],
   "source": [
    "income_transferts_2016[income_transferts_2016['ОКТМО'] == '71']"
   ]
  },
  {
   "cell_type": "code",
   "execution_count": 276,
   "id": "bf1398b7-0706-49ad-8916-ccd55c317cb3",
   "metadata": {},
   "outputs": [
    {
     "data": {
      "text/html": [
       "<div>\n",
       "<style scoped>\n",
       "    .dataframe tbody tr th:only-of-type {\n",
       "        vertical-align: middle;\n",
       "    }\n",
       "\n",
       "    .dataframe tbody tr th {\n",
       "        vertical-align: top;\n",
       "    }\n",
       "\n",
       "    .dataframe thead th {\n",
       "        text-align: right;\n",
       "    }\n",
       "</style>\n",
       "<table border=\"1\" class=\"dataframe\">\n",
       "  <thead>\n",
       "    <tr style=\"text-align: right;\">\n",
       "      <th></th>\n",
       "      <th></th>\n",
       "      <th>ОКТМО</th>\n",
       "      <th>Доходы</th>\n",
       "      <th>Социальные выплаты</th>\n",
       "      <th>Суммарные выплаты</th>\n",
       "      <th>Выплаты на 1 чел.</th>\n",
       "    </tr>\n",
       "  </thead>\n",
       "  <tbody>\n",
       "    <tr>\n",
       "      <th>Архангельская область</th>\n",
       "      <th>Всего</th>\n",
       "      <td>11</td>\n",
       "      <td>250969951.4</td>\n",
       "      <td>111891133.0</td>\n",
       "      <td>362861084.3</td>\n",
       "      <td>617488.2</td>\n",
       "    </tr>\n",
       "    <tr>\n",
       "      <th>Ненецкий автономный округ (Архангельская область)</th>\n",
       "      <th>Всего</th>\n",
       "      <td>11</td>\n",
       "      <td>61562798.0</td>\n",
       "      <td>11794261.5</td>\n",
       "      <td>73357059.6</td>\n",
       "      <td>3409809.3</td>\n",
       "    </tr>\n",
       "  </tbody>\n",
       "</table>\n",
       "</div>"
      ],
      "text/plain": [
       "                                                        ОКТМО       Доходы  \\\n",
       "Архангельская область                             Всего    11  250969951.4   \n",
       "Ненецкий автономный округ (Архангельская область) Всего    11   61562798.0   \n",
       "\n",
       "                                                         Социальные выплаты  \\\n",
       "Архангельская область                             Всего         111891133.0   \n",
       "Ненецкий автономный округ (Архангельская область) Всего          11794261.5   \n",
       "\n",
       "                                                         Суммарные выплаты  \\\n",
       "Архангельская область                             Всего        362861084.3   \n",
       "Ненецкий автономный округ (Архангельская область) Всего         73357059.6   \n",
       "\n",
       "                                                         Выплаты на 1 чел.  \n",
       "Архангельская область                             Всего           617488.2  \n",
       "Ненецкий автономный округ (Архангельская область) Всего          3409809.3  "
      ]
     },
     "execution_count": 276,
     "metadata": {},
     "output_type": "execute_result"
    }
   ],
   "source": [
    "income_transferts_2016[income_transferts_2016['ОКТМО'] == '11']"
   ]
  },
  {
   "cell_type": "code",
   "execution_count": 277,
   "id": "d0978fb5-7dc9-4e6d-8be1-7a68dc8f17f2",
   "metadata": {},
   "outputs": [
    {
     "data": {
      "text/plain": [
       "['Ненецкий автономный округ (Архангельская область)']"
      ]
     },
     "execution_count": 277,
     "metadata": {},
     "output_type": "execute_result"
    }
   ],
   "source": [
    "# check if there are duplications in municipal, town and others OKTMO\n",
    "check_oktmo_2016_dupl_list = check_oktmo_duplication(\n",
    "    data=income_transferts_2016, \n",
    "    column_check='ОКТМО',\n",
    "    normalize_oktmo_list=municipal_town_dict)\n",
    "\n",
    "check_oktmo_2016_dupl_list"
   ]
  },
  {
   "cell_type": "code",
   "execution_count": 278,
   "id": "a8f53f91-98c3-46a4-a7b3-cb5b55fb48a0",
   "metadata": {},
   "outputs": [
    {
     "data": {
      "text/html": [
       "<div>\n",
       "<style scoped>\n",
       "    .dataframe tbody tr th:only-of-type {\n",
       "        vertical-align: middle;\n",
       "    }\n",
       "\n",
       "    .dataframe tbody tr th {\n",
       "        vertical-align: top;\n",
       "    }\n",
       "\n",
       "    .dataframe thead th {\n",
       "        text-align: right;\n",
       "    }\n",
       "</style>\n",
       "<table border=\"1\" class=\"dataframe\">\n",
       "  <thead>\n",
       "    <tr style=\"text-align: right;\">\n",
       "      <th></th>\n",
       "      <th></th>\n",
       "      <th>ОКТМО</th>\n",
       "      <th>Доходы</th>\n",
       "      <th>Социальные выплаты</th>\n",
       "      <th>Суммарные выплаты</th>\n",
       "      <th>Выплаты на 1 чел.</th>\n",
       "    </tr>\n",
       "  </thead>\n",
       "  <tbody>\n",
       "    <tr>\n",
       "      <th rowspan=\"2\" valign=\"top\">Алтайский край</th>\n",
       "      <th>Муниципальные районы</th>\n",
       "      <td>01 600 000</td>\n",
       "      <td>73099701.7</td>\n",
       "      <td>76278727.0</td>\n",
       "      <td>149378428.8</td>\n",
       "      <td>138526.3</td>\n",
       "    </tr>\n",
       "    <tr>\n",
       "      <th>Городские округа</th>\n",
       "      <td>01 700 000</td>\n",
       "      <td>178095155.8</td>\n",
       "      <td>88801735.6</td>\n",
       "      <td>266896891.5</td>\n",
       "      <td>206434.8</td>\n",
       "    </tr>\n",
       "  </tbody>\n",
       "</table>\n",
       "</div>"
      ],
      "text/plain": [
       "                                          ОКТМО       Доходы  \\\n",
       "Алтайский край Муниципальные районы  01 600 000   73099701.7   \n",
       "               Городские округа      01 700 000  178095155.8   \n",
       "\n",
       "                                     Социальные выплаты  Суммарные выплаты  \\\n",
       "Алтайский край Муниципальные районы          76278727.0        149378428.8   \n",
       "               Городские округа              88801735.6        266896891.5   \n",
       "\n",
       "                                     Выплаты на 1 чел.  \n",
       "Алтайский край Муниципальные районы           138526.3  \n",
       "               Городские округа               206434.8  "
      ]
     },
     "execution_count": 278,
     "metadata": {},
     "output_type": "execute_result"
    }
   ],
   "source": [
    "income_transferts_2016.loc[income_transferts_2016['ОКТМО'].isin(municipal_town_dict['Алтайский край'])]"
   ]
  },
  {
   "cell_type": "markdown",
   "id": "5c963fd1-b570-4932-80f3-085ffd3d464f",
   "metadata": {},
   "source": [
    "##### <font color='#2A5899'>2016 Final Result</font>"
   ]
  },
  {
   "cell_type": "code",
   "execution_count": 279,
   "id": "4810e510-4fb6-4202-878b-abfd1515fe09",
   "metadata": {},
   "outputs": [
    {
     "data": {
      "text/html": [
       "<div>\n",
       "<style scoped>\n",
       "    .dataframe tbody tr th:only-of-type {\n",
       "        vertical-align: middle;\n",
       "    }\n",
       "\n",
       "    .dataframe tbody tr th {\n",
       "        vertical-align: top;\n",
       "    }\n",
       "\n",
       "    .dataframe thead th {\n",
       "        text-align: right;\n",
       "    }\n",
       "</style>\n",
       "<table border=\"1\" class=\"dataframe\">\n",
       "  <thead>\n",
       "    <tr style=\"text-align: right;\">\n",
       "      <th></th>\n",
       "      <th></th>\n",
       "      <th>ОКТМО</th>\n",
       "      <th>Доходы</th>\n",
       "      <th>Социальные выплаты</th>\n",
       "      <th>Суммарные выплаты</th>\n",
       "      <th>Выплаты на 1 чел.</th>\n",
       "    </tr>\n",
       "  </thead>\n",
       "  <tbody>\n",
       "    <tr>\n",
       "      <th rowspan=\"5\" valign=\"top\">Алтайский край</th>\n",
       "      <th>Всего</th>\n",
       "      <td>01</td>\n",
       "      <td>251194857.6</td>\n",
       "      <td>165080462.6</td>\n",
       "      <td>416275320.2</td>\n",
       "      <td>344961.1</td>\n",
       "    </tr>\n",
       "    <tr>\n",
       "      <th>Муниципальные районы</th>\n",
       "      <td>01 600 000</td>\n",
       "      <td>73099701.7</td>\n",
       "      <td>76278727.0</td>\n",
       "      <td>149378428.8</td>\n",
       "      <td>138526.3</td>\n",
       "    </tr>\n",
       "    <tr>\n",
       "      <th>Алейский</th>\n",
       "      <td>01 601 000</td>\n",
       "      <td>1190669.9</td>\n",
       "      <td>933376.3</td>\n",
       "      <td>2124046.2</td>\n",
       "      <td>145373.1</td>\n",
       "    </tr>\n",
       "    <tr>\n",
       "      <th>Алтайский</th>\n",
       "      <td>01 602 000</td>\n",
       "      <td>1758606.3</td>\n",
       "      <td>1690557.7</td>\n",
       "      <td>3449164.0</td>\n",
       "      <td>132375.0</td>\n",
       "    </tr>\n",
       "    <tr>\n",
       "      <th>Баевский</th>\n",
       "      <td>01 603 000</td>\n",
       "      <td>626780.5</td>\n",
       "      <td>754054.9</td>\n",
       "      <td>1380835.4</td>\n",
       "      <td>146336.9</td>\n",
       "    </tr>\n",
       "  </tbody>\n",
       "</table>\n",
       "</div>"
      ],
      "text/plain": [
       "                                          ОКТМО       Доходы  \\\n",
       "Алтайский край Всего                         01  251194857.6   \n",
       "               Муниципальные районы  01 600 000   73099701.7   \n",
       "               Алейский              01 601 000    1190669.9   \n",
       "               Алтайский             01 602 000    1758606.3   \n",
       "               Баевский              01 603 000     626780.5   \n",
       "\n",
       "                                     Социальные выплаты  Суммарные выплаты  \\\n",
       "Алтайский край Всего                        165080462.6        416275320.2   \n",
       "               Муниципальные районы          76278727.0        149378428.8   \n",
       "               Алейский                        933376.3          2124046.2   \n",
       "               Алтайский                      1690557.7          3449164.0   \n",
       "               Баевский                        754054.9          1380835.4   \n",
       "\n",
       "                                     Выплаты на 1 чел.  \n",
       "Алтайский край Всего                          344961.1  \n",
       "               Муниципальные районы           138526.3  \n",
       "               Алейский                       145373.1  \n",
       "               Алтайский                      132375.0  \n",
       "               Баевский                       146336.9  "
      ]
     },
     "execution_count": 279,
     "metadata": {},
     "output_type": "execute_result"
    }
   ],
   "source": [
    "income_transferts_2016.head()"
   ]
  },
  {
   "cell_type": "code",
   "execution_count": 280,
   "id": "ee8b387f-066a-468c-80e1-4bc5d4d81770",
   "metadata": {},
   "outputs": [
    {
     "data": {
      "text/html": [
       "<div>\n",
       "<style scoped>\n",
       "    .dataframe tbody tr th:only-of-type {\n",
       "        vertical-align: middle;\n",
       "    }\n",
       "\n",
       "    .dataframe tbody tr th {\n",
       "        vertical-align: top;\n",
       "    }\n",
       "\n",
       "    .dataframe thead th {\n",
       "        text-align: right;\n",
       "    }\n",
       "</style>\n",
       "<table border=\"1\" class=\"dataframe\">\n",
       "  <thead>\n",
       "    <tr style=\"text-align: right;\">\n",
       "      <th></th>\n",
       "      <th>ОКТМО</th>\n",
       "      <th>Доходы</th>\n",
       "      <th>Социальные выплаты</th>\n",
       "      <th>Суммарные выплаты</th>\n",
       "      <th>Выплаты на 1 чел.</th>\n",
       "    </tr>\n",
       "  </thead>\n",
       "  <tbody>\n",
       "    <tr>\n",
       "      <th>Всего</th>\n",
       "      <td>46</td>\n",
       "      <td>1713242333.5</td>\n",
       "      <td>600921192.2</td>\n",
       "      <td>2314163526.2</td>\n",
       "      <td>628822.0</td>\n",
       "    </tr>\n",
       "  </tbody>\n",
       "</table>\n",
       "</div>"
      ],
      "text/plain": [
       "      ОКТМО        Доходы Социальные выплаты Суммарные выплаты  \\\n",
       "Всего    46  1713242333.5        600921192.2      2314163526.2   \n",
       "\n",
       "      Выплаты на 1 чел.  \n",
       "Всего          628822.0  "
      ]
     },
     "execution_count": 280,
     "metadata": {},
     "output_type": "execute_result"
    }
   ],
   "source": [
    "get_data_two_level(\n",
    "    data=income_transferts_2016,\n",
    "    level0='Московская область',\n",
    "    level1='Всего',\n",
    "    kind='index')"
   ]
  },
  {
   "cell_type": "code",
   "execution_count": 281,
   "id": "b153bbef-f3d3-47fd-b57a-cfeb6efe9527",
   "metadata": {},
   "outputs": [
    {
     "data": {
      "text/html": [
       "<div>\n",
       "<style scoped>\n",
       "    .dataframe tbody tr th:only-of-type {\n",
       "        vertical-align: middle;\n",
       "    }\n",
       "\n",
       "    .dataframe tbody tr th {\n",
       "        vertical-align: top;\n",
       "    }\n",
       "\n",
       "    .dataframe thead th {\n",
       "        text-align: right;\n",
       "    }\n",
       "</style>\n",
       "<table border=\"1\" class=\"dataframe\">\n",
       "  <thead>\n",
       "    <tr style=\"text-align: right;\">\n",
       "      <th></th>\n",
       "      <th>ОКТМО</th>\n",
       "      <th>Доходы</th>\n",
       "      <th>Социальные выплаты</th>\n",
       "      <th>Суммарные выплаты</th>\n",
       "      <th>Выплаты на 1 чел.</th>\n",
       "    </tr>\n",
       "  </thead>\n",
       "  <tbody>\n",
       "    <tr>\n",
       "      <th>Всего</th>\n",
       "      <td>11</td>\n",
       "      <td>61562798.0</td>\n",
       "      <td>11794261.5</td>\n",
       "      <td>73357059.6</td>\n",
       "      <td>3409809.3</td>\n",
       "    </tr>\n",
       "    <tr>\n",
       "      <th>Муниципальные районы</th>\n",
       "      <td>11 810 000</td>\n",
       "      <td>17134716.0</td>\n",
       "      <td>1982165.3</td>\n",
       "      <td>19116881.3</td>\n",
       "      <td>990871.4</td>\n",
       "    </tr>\n",
       "    <tr>\n",
       "      <th>Заполярны йрайон</th>\n",
       "      <td>11 810 000</td>\n",
       "      <td>17134716.0</td>\n",
       "      <td>1982165.3</td>\n",
       "      <td>19116881.3</td>\n",
       "      <td>990871.4</td>\n",
       "    </tr>\n",
       "    <tr>\n",
       "      <th>Городские округа</th>\n",
       "      <td>11 850 000</td>\n",
       "      <td>13646683.0</td>\n",
       "      <td>3914965.4</td>\n",
       "      <td>17561648.4</td>\n",
       "      <td>714033.3</td>\n",
       "    </tr>\n",
       "    <tr>\n",
       "      <th>г.Нарьян-Мар</th>\n",
       "      <td>11 850 000</td>\n",
       "      <td>13646683.0</td>\n",
       "      <td>3914965.4</td>\n",
       "      <td>17561648.4</td>\n",
       "      <td>714033.3</td>\n",
       "    </tr>\n",
       "  </tbody>\n",
       "</table>\n",
       "</div>"
      ],
      "text/plain": [
       "                           ОКТМО      Доходы  Социальные выплаты  \\\n",
       "Всего                         11  61562798.0          11794261.5   \n",
       "Муниципальные районы  11 810 000  17134716.0           1982165.3   \n",
       "Заполярны йрайон      11 810 000  17134716.0           1982165.3   \n",
       "Городские округа      11 850 000  13646683.0           3914965.4   \n",
       "г.Нарьян-Мар          11 850 000  13646683.0           3914965.4   \n",
       "\n",
       "                      Суммарные выплаты  Выплаты на 1 чел.  \n",
       "Всего                        73357059.6          3409809.3  \n",
       "Муниципальные районы         19116881.3           990871.4  \n",
       "Заполярны йрайон             19116881.3           990871.4  \n",
       "Городские округа             17561648.4           714033.3  \n",
       "г.Нарьян-Мар                 17561648.4           714033.3  "
      ]
     },
     "execution_count": 281,
     "metadata": {},
     "output_type": "execute_result"
    }
   ],
   "source": [
    "income_transferts_2016.loc['Ненецкий автономный округ (Архангельская область)']"
   ]
  },
  {
   "cell_type": "code",
   "execution_count": 282,
   "id": "9e2595ea-4677-4908-8776-2de1c621c608",
   "metadata": {},
   "outputs": [],
   "source": [
    "datasets_list.append(income_transferts_2016)"
   ]
  },
  {
   "cell_type": "markdown",
   "id": "cf7aee83-5852-4579-81b9-999593d9dc54",
   "metadata": {},
   "source": [
    "#### <font color='#AF4035'>2017 год</font>"
   ]
  },
  {
   "cell_type": "markdown",
   "id": "07f5eb33-5446-4575-b2e7-68682c65f359",
   "metadata": {},
   "source": [
    "##### Regions OKTMO codes"
   ]
  },
  {
   "cell_type": "code",
   "execution_count": 283,
   "id": "b8b689bd-28e3-43fd-b557-cd19a37e74ac",
   "metadata": {},
   "outputs": [],
   "source": [
    "path_2017 = \\\n",
    "    ('/Users/a.chasovsky/Library/CloudStorage/GoogleDrive-alexanderchasovsky@gmail.com/'\n",
    "     'Мой диск/Data Science Projects/pers_economics_rus/data/00-Region-codes/')\n",
    "os.chdir(path_2017)\n",
    "%run 2017.ipynb\n",
    "os.chdir(current_path)"
   ]
  },
  {
   "attachments": {},
   "cell_type": "markdown",
   "id": "605e912e-43c7-4093-8641-dc73b1fa20b2",
   "metadata": {},
   "source": [
    "##### Исправления:\n",
    "- Осетия-Алания: Городские округа: '90 701 000' -> '90 700 000'\n",
    "- г. Магадан: '44 700 000' -> '44 701 000'"
   ]
  },
  {
   "cell_type": "markdown",
   "id": "b7ba80fe-dca0-4561-b6f6-2f795785454a",
   "metadata": {},
   "source": [
    "##### Data"
   ]
  },
  {
   "cell_type": "code",
   "execution_count": 284,
   "id": "6e11c45f-b9f9-4eee-8db0-a1980163ed30",
   "metadata": {},
   "outputs": [],
   "source": [
    "income_transferts_2017_link = \\\n",
    "    ('data/02-Population/02-Standard-of-living/01-Income/'\n",
    "     'urov-14a2017.xls')"
   ]
  },
  {
   "cell_type": "code",
   "execution_count": 285,
   "id": "d08bda88-a36c-4fbc-8ab3-ab9a28eeb062",
   "metadata": {},
   "outputs": [],
   "source": [
    "income_transferts_2017_raw = pd.read_excel(income_transferts_2017_link)"
   ]
  },
  {
   "cell_type": "code",
   "execution_count": 286,
   "id": "ef1d55b1-3722-4979-bb6c-d5fcf552f40f",
   "metadata": {},
   "outputs": [
    {
     "data": {
      "text/html": [
       "<div>\n",
       "<style scoped>\n",
       "    .dataframe tbody tr th:only-of-type {\n",
       "        vertical-align: middle;\n",
       "    }\n",
       "\n",
       "    .dataframe tbody tr th {\n",
       "        vertical-align: top;\n",
       "    }\n",
       "\n",
       "    .dataframe thead th {\n",
       "        text-align: right;\n",
       "    }\n",
       "</style>\n",
       "<table border=\"1\" class=\"dataframe\">\n",
       "  <thead>\n",
       "    <tr style=\"text-align: right;\">\n",
       "      <th></th>\n",
       "      <th>Unnamed: 0</th>\n",
       "      <th>Unnamed: 1</th>\n",
       "      <th>Unnamed: 2</th>\n",
       "      <th>Unnamed: 3</th>\n",
       "      <th>Unnamed: 4</th>\n",
       "      <th>Unnamed: 5</th>\n",
       "      <th>Unnamed: 6</th>\n",
       "    </tr>\n",
       "  </thead>\n",
       "  <tbody>\n",
       "    <tr>\n",
       "      <th>0</th>\n",
       "      <td>\"Объем социальных выплат населению и налогооб...</td>\n",
       "      <td>NaN</td>\n",
       "      <td>NaN</td>\n",
       "      <td>NaN</td>\n",
       "      <td>NaN</td>\n",
       "      <td>NaN</td>\n",
       "      <td>NaN</td>\n",
       "    </tr>\n",
       "    <tr>\n",
       "      <th>1</th>\n",
       "      <td>NaN</td>\n",
       "      <td>NaN</td>\n",
       "      <td>NaN</td>\n",
       "      <td>NaN</td>\n",
       "      <td>NaN</td>\n",
       "      <td>NaN</td>\n",
       "      <td>NaN</td>\n",
       "    </tr>\n",
       "    <tr>\n",
       "      <th>2</th>\n",
       "      <td>NaN</td>\n",
       "      <td>NaN</td>\n",
       "      <td>Код ОКТМО</td>\n",
       "      <td>Налогооблагаемые денежные доходы физических ли...</td>\n",
       "      <td>Социальные и другие выплаты, тыс.рублей</td>\n",
       "      <td>Объем социальных выплат населению и налогообла...</td>\n",
       "      <td>Объем социальных выплат и налогооблагаемых ден...</td>\n",
       "    </tr>\n",
       "    <tr>\n",
       "      <th>3</th>\n",
       "      <td>NaN</td>\n",
       "      <td>NaN</td>\n",
       "      <td>1</td>\n",
       "      <td>2</td>\n",
       "      <td>3</td>\n",
       "      <td>4</td>\n",
       "      <td>5</td>\n",
       "    </tr>\n",
       "    <tr>\n",
       "      <th>4</th>\n",
       "      <td>NaN</td>\n",
       "      <td>Алтайский край</td>\n",
       "      <td>01</td>\n",
       "      <td>NaN</td>\n",
       "      <td>NaN</td>\n",
       "      <td>NaN</td>\n",
       "      <td>NaN</td>\n",
       "    </tr>\n",
       "    <tr>\n",
       "      <th>5</th>\n",
       "      <td>NaN</td>\n",
       "      <td>Муниципальные районы</td>\n",
       "      <td>01 600 000</td>\n",
       "      <td>72304088.765149</td>\n",
       "      <td>76060472.993595</td>\n",
       "      <td>148364561.758745</td>\n",
       "      <td>138784.282722</td>\n",
       "    </tr>\n",
       "    <tr>\n",
       "      <th>6</th>\n",
       "      <td>1</td>\n",
       "      <td>Алейский</td>\n",
       "      <td>01 601 000</td>\n",
       "      <td>1225368.205378</td>\n",
       "      <td>912457.927912</td>\n",
       "      <td>2137826.13329</td>\n",
       "      <td>147844.130933</td>\n",
       "    </tr>\n",
       "    <tr>\n",
       "      <th>7</th>\n",
       "      <td>2</td>\n",
       "      <td>Алтайский</td>\n",
       "      <td>01 602 000</td>\n",
       "      <td>2248113.45868</td>\n",
       "      <td>1666497.296198</td>\n",
       "      <td>3914610.754878</td>\n",
       "      <td>150828.80307</td>\n",
       "    </tr>\n",
       "    <tr>\n",
       "      <th>8</th>\n",
       "      <td>3</td>\n",
       "      <td>Баевский</td>\n",
       "      <td>01 603 000</td>\n",
       "      <td>570225.684025</td>\n",
       "      <td>749286.655353</td>\n",
       "      <td>1319512.339378</td>\n",
       "      <td>141883.047245</td>\n",
       "    </tr>\n",
       "    <tr>\n",
       "      <th>9</th>\n",
       "      <td>4</td>\n",
       "      <td>Бийский</td>\n",
       "      <td>01 604 000</td>\n",
       "      <td>1737433.319328</td>\n",
       "      <td>2423657.937774</td>\n",
       "      <td>4161091.257102</td>\n",
       "      <td>129713.870666</td>\n",
       "    </tr>\n",
       "  </tbody>\n",
       "</table>\n",
       "</div>"
      ],
      "text/plain": [
       "                                          Unnamed: 0             Unnamed: 1  \\\n",
       "0   \"Объем социальных выплат населению и налогооб...                    NaN   \n",
       "1                                                NaN                    NaN   \n",
       "2                                                NaN                    NaN   \n",
       "3                                                NaN                    NaN   \n",
       "4                                                NaN         Алтайский край   \n",
       "5                                                NaN  Муниципальные районы    \n",
       "6                                                  1               Алейский   \n",
       "7                                                  2              Алтайский   \n",
       "8                                                  3               Баевский   \n",
       "9                                                  4                Бийский   \n",
       "\n",
       "   Unnamed: 2                                         Unnamed: 3  \\\n",
       "0         NaN                                                NaN   \n",
       "1         NaN                                                NaN   \n",
       "2   Код ОКТМО  Налогооблагаемые денежные доходы физических ли...   \n",
       "3           1                                                  2   \n",
       "4          01                                                NaN   \n",
       "5  01 600 000                                    72304088.765149   \n",
       "6  01 601 000                                     1225368.205378   \n",
       "7  01 602 000                                      2248113.45868   \n",
       "8  01 603 000                                      570225.684025   \n",
       "9  01 604 000                                     1737433.319328   \n",
       "\n",
       "                                Unnamed: 4  \\\n",
       "0                                      NaN   \n",
       "1                                      NaN   \n",
       "2  Социальные и другие выплаты, тыс.рублей   \n",
       "3                                        3   \n",
       "4                                      NaN   \n",
       "5                          76060472.993595   \n",
       "6                            912457.927912   \n",
       "7                           1666497.296198   \n",
       "8                            749286.655353   \n",
       "9                           2423657.937774   \n",
       "\n",
       "                                          Unnamed: 5  \\\n",
       "0                                                NaN   \n",
       "1                                                NaN   \n",
       "2  Объем социальных выплат населению и налогообла...   \n",
       "3                                                  4   \n",
       "4                                                NaN   \n",
       "5                                   148364561.758745   \n",
       "6                                      2137826.13329   \n",
       "7                                     3914610.754878   \n",
       "8                                     1319512.339378   \n",
       "9                                     4161091.257102   \n",
       "\n",
       "                                          Unnamed: 6  \n",
       "0                                                NaN  \n",
       "1                                                NaN  \n",
       "2  Объем социальных выплат и налогооблагаемых ден...  \n",
       "3                                                  5  \n",
       "4                                                NaN  \n",
       "5                                      138784.282722  \n",
       "6                                      147844.130933  \n",
       "7                                       150828.80307  \n",
       "8                                      141883.047245  \n",
       "9                                      129713.870666  "
      ]
     },
     "execution_count": 286,
     "metadata": {},
     "output_type": "execute_result"
    }
   ],
   "source": [
    "income_transferts_2017_raw.head(10)"
   ]
  },
  {
   "cell_type": "code",
   "execution_count": 287,
   "id": "cb86df14-b44c-434c-bef3-5e5776e2aa2c",
   "metadata": {},
   "outputs": [
    {
     "data": {
      "text/html": [
       "<div>\n",
       "<style scoped>\n",
       "    .dataframe tbody tr th:only-of-type {\n",
       "        vertical-align: middle;\n",
       "    }\n",
       "\n",
       "    .dataframe tbody tr th {\n",
       "        vertical-align: top;\n",
       "    }\n",
       "\n",
       "    .dataframe thead th {\n",
       "        text-align: right;\n",
       "    }\n",
       "</style>\n",
       "<table border=\"1\" class=\"dataframe\">\n",
       "  <thead>\n",
       "    <tr style=\"text-align: right;\">\n",
       "      <th></th>\n",
       "      <th>Unnamed: 0</th>\n",
       "      <th>Unnamed: 1</th>\n",
       "      <th>Unnamed: 2</th>\n",
       "      <th>Unnamed: 3</th>\n",
       "      <th>Unnamed: 4</th>\n",
       "      <th>Unnamed: 5</th>\n",
       "      <th>Unnamed: 6</th>\n",
       "    </tr>\n",
       "  </thead>\n",
       "  <tbody>\n",
       "    <tr>\n",
       "      <th>2653</th>\n",
       "      <td>NaN</td>\n",
       "      <td>NaN</td>\n",
       "      <td>NaN</td>\n",
       "      <td>NaN</td>\n",
       "      <td>NaN</td>\n",
       "      <td>NaN</td>\n",
       "      <td>NaN</td>\n",
       "    </tr>\n",
       "    <tr>\n",
       "      <th>2654</th>\n",
       "      <td>NaN</td>\n",
       "      <td>Еврейская автономная область</td>\n",
       "      <td>99</td>\n",
       "      <td>NaN</td>\n",
       "      <td>NaN</td>\n",
       "      <td>NaN</td>\n",
       "      <td>NaN</td>\n",
       "    </tr>\n",
       "    <tr>\n",
       "      <th>2655</th>\n",
       "      <td>NaN</td>\n",
       "      <td>Муниципальные районы</td>\n",
       "      <td>99600000</td>\n",
       "      <td>11393785</td>\n",
       "      <td>6076410.02461</td>\n",
       "      <td>17470195.02461</td>\n",
       "      <td>195729.130764</td>\n",
       "    </tr>\n",
       "    <tr>\n",
       "      <th>2656</th>\n",
       "      <td>1</td>\n",
       "      <td>Биробиджанский</td>\n",
       "      <td>99605000</td>\n",
       "      <td>1143200</td>\n",
       "      <td>806014.149622</td>\n",
       "      <td>1949214.149622</td>\n",
       "      <td>172466.302391</td>\n",
       "    </tr>\n",
       "    <tr>\n",
       "      <th>2657</th>\n",
       "      <td>2</td>\n",
       "      <td>Ленинский</td>\n",
       "      <td>99610000</td>\n",
       "      <td>1605069</td>\n",
       "      <td>971295.571494</td>\n",
       "      <td>2576364.571494</td>\n",
       "      <td>143626.077126</td>\n",
       "    </tr>\n",
       "    <tr>\n",
       "      <th>2658</th>\n",
       "      <td>3</td>\n",
       "      <td>Облученский</td>\n",
       "      <td>99620000</td>\n",
       "      <td>5188191</td>\n",
       "      <td>1973850.729384</td>\n",
       "      <td>7162041.729384</td>\n",
       "      <td>278040.363732</td>\n",
       "    </tr>\n",
       "    <tr>\n",
       "      <th>2659</th>\n",
       "      <td>4</td>\n",
       "      <td>Октябрьский</td>\n",
       "      <td>99625000</td>\n",
       "      <td>1174452</td>\n",
       "      <td>654799.313254</td>\n",
       "      <td>1829251.313254</td>\n",
       "      <td>186145.447568</td>\n",
       "    </tr>\n",
       "    <tr>\n",
       "      <th>2660</th>\n",
       "      <td>5</td>\n",
       "      <td>Смидовичский</td>\n",
       "      <td>99630000</td>\n",
       "      <td>2282873</td>\n",
       "      <td>1670450.260855</td>\n",
       "      <td>3953323.260855</td>\n",
       "      <td>161815.859394</td>\n",
       "    </tr>\n",
       "    <tr>\n",
       "      <th>2661</th>\n",
       "      <td>NaN</td>\n",
       "      <td>Городские округа</td>\n",
       "      <td>99700000</td>\n",
       "      <td>15130946</td>\n",
       "      <td>5865429.683424</td>\n",
       "      <td>20996375.683424</td>\n",
       "      <td>284276.468452</td>\n",
       "    </tr>\n",
       "    <tr>\n",
       "      <th>2662</th>\n",
       "      <td>1</td>\n",
       "      <td>г. Биробиджан</td>\n",
       "      <td>99701000</td>\n",
       "      <td>15130946</td>\n",
       "      <td>5865429.683424</td>\n",
       "      <td>20996375.683424</td>\n",
       "      <td>284276.468452</td>\n",
       "    </tr>\n",
       "  </tbody>\n",
       "</table>\n",
       "</div>"
      ],
      "text/plain": [
       "     Unnamed: 0                     Unnamed: 1 Unnamed: 2 Unnamed: 3  \\\n",
       "2653        NaN                            NaN        NaN        NaN   \n",
       "2654        NaN  Еврейская автономная область          99        NaN   \n",
       "2655        NaN          Муниципальные районы    99600000   11393785   \n",
       "2656          1                Биробиджанский    99605000    1143200   \n",
       "2657          2                     Ленинский    99610000    1605069   \n",
       "2658          3                   Облученский    99620000    5188191   \n",
       "2659          4                   Октябрьский    99625000    1174452   \n",
       "2660          5                  Смидовичский    99630000    2282873   \n",
       "2661        NaN              Городские округа    99700000   15130946   \n",
       "2662          1                  г. Биробиджан   99701000   15130946   \n",
       "\n",
       "          Unnamed: 4       Unnamed: 5     Unnamed: 6  \n",
       "2653             NaN              NaN            NaN  \n",
       "2654             NaN              NaN            NaN  \n",
       "2655   6076410.02461   17470195.02461  195729.130764  \n",
       "2656   806014.149622   1949214.149622  172466.302391  \n",
       "2657   971295.571494   2576364.571494  143626.077126  \n",
       "2658  1973850.729384   7162041.729384  278040.363732  \n",
       "2659   654799.313254   1829251.313254  186145.447568  \n",
       "2660  1670450.260855   3953323.260855  161815.859394  \n",
       "2661  5865429.683424  20996375.683424  284276.468452  \n",
       "2662  5865429.683424  20996375.683424  284276.468452  "
      ]
     },
     "execution_count": 287,
     "metadata": {},
     "output_type": "execute_result"
    }
   ],
   "source": [
    "income_transferts_2017_raw.tail(10)"
   ]
  },
  {
   "cell_type": "code",
   "execution_count": 288,
   "id": "c3a5f523-8f4d-4d71-8b97-807b493d144f",
   "metadata": {},
   "outputs": [],
   "source": [
    "income_transferts_2017 = income_transferts_2017_raw.copy()"
   ]
  },
  {
   "cell_type": "markdown",
   "id": "1e277c62-a354-4e19-9943-546e543ce838",
   "metadata": {},
   "source": [
    "##### Rename columns and drop useless"
   ]
  },
  {
   "cell_type": "code",
   "execution_count": 289,
   "id": "7cfe6f97-b0fd-4e21-8300-ee758fbdc16a",
   "metadata": {},
   "outputs": [],
   "source": [
    "income_transferts_2017_columns = [\n",
    "    '-', 'index1', 'ОКТМО', 'Доходы', 'Социальные выплаты',\n",
    "    'Суммарные выплаты', 'Выплаты на 1 чел.'\n",
    "]"
   ]
  },
  {
   "cell_type": "code",
   "execution_count": 290,
   "id": "42e40587-81ba-40df-a4b1-763e36d58d5a",
   "metadata": {},
   "outputs": [],
   "source": [
    "income_transferts_2017.columns = income_transferts_2017_columns"
   ]
  },
  {
   "cell_type": "code",
   "execution_count": 291,
   "id": "8cfdda57-ce8c-4999-8f60-3163332129af",
   "metadata": {},
   "outputs": [],
   "source": [
    "# drop useless columns with name '-'\n",
    "income_transferts_2017 = income_transferts_2017.drop('-', axis=1)"
   ]
  },
  {
   "cell_type": "markdown",
   "id": "f2844528-402e-4e84-b245-ddba6cc190e2",
   "metadata": {},
   "source": [
    "##### Cut rows and drop NaNs"
   ]
  },
  {
   "cell_type": "code",
   "execution_count": 292,
   "id": "22ea052f-1356-4b5b-a905-8aed65ad7d3d",
   "metadata": {},
   "outputs": [],
   "source": [
    "# cut rows\n",
    "income_transferts_2017 = transform_cut_rows(income_transferts_2017, 4, 0)"
   ]
  },
  {
   "cell_type": "code",
   "execution_count": 293,
   "id": "b4ea8252-c8ed-42a3-bed6-af9addae0e8d",
   "metadata": {},
   "outputs": [],
   "source": [
    "# drop rows with NaNs in 'index0' column\n",
    "income_transferts_2017 = \\\n",
    "    income_transferts_2017[income_transferts_2017['index1'].notna()]"
   ]
  },
  {
   "cell_type": "markdown",
   "id": "23879f36-504f-4368-b4c7-ef658c50808c",
   "metadata": {},
   "source": [
    "##### Normalize OKTMO"
   ]
  },
  {
   "cell_type": "code",
   "execution_count": 294,
   "id": "5e326d3e-db35-4a56-9cf6-d68072b144db",
   "metadata": {},
   "outputs": [],
   "source": [
    "# make OKTMO column values str\n",
    "income_transferts_2017['ОКТМО'] = income_transferts_2017['ОКТМО'].astype(str)"
   ]
  },
  {
   "cell_type": "code",
   "execution_count": 295,
   "id": "d4d8d61d-5081-4ce6-91dc-ebf232e2be42",
   "metadata": {},
   "outputs": [],
   "source": [
    "# normalize oktmo - remove spaces and other dirt\n",
    "income_transferts_2017['ОКТМО'] = \\\n",
    "    income_transferts_2017['ОКТМО'].apply(lambda x: normalize_oktmo(x))"
   ]
  },
  {
   "cell_type": "markdown",
   "id": "b8c8ade8-09f0-4438-a079-6a59bb6aa569",
   "metadata": {},
   "source": [
    "##### Level0 for Multiindex"
   ]
  },
  {
   "cell_type": "code",
   "execution_count": 296,
   "id": "198e61d2-556c-4321-88ff-f5c42f435918",
   "metadata": {},
   "outputs": [],
   "source": [
    "# create index level0 column\n",
    "income_transferts_2017['index0'] = np.NaN"
   ]
  },
  {
   "cell_type": "code",
   "execution_count": 297,
   "id": "a8e957fc-988a-41b0-aef8-16f2ab6a2101",
   "metadata": {},
   "outputs": [],
   "source": [
    "# fill in by region with OKTMO in OKTMO column\n",
    "income_transferts_2017 = (income_transferts_2017\n",
    "                          .assign(index0=income_transferts_2017['ОКТМО']\n",
    "                                  .map(region_oktmo_norm_dict_sorted)\n",
    "                                  .fillna(income_transferts_2017['index0'])))"
   ]
  },
  {
   "cell_type": "code",
   "execution_count": 298,
   "id": "df850a57-3fad-4d56-bbb6-97c43d08d68d",
   "metadata": {},
   "outputs": [],
   "source": [
    "# 1) 'Архангельская область' and \n",
    "# 'Ненецкий автономный округ (Архангельская область)' have the same OKTMO == 11\n",
    "# 2) 'Ненецкий автономный округ (Архангельская область)' index allways greater than index of \n",
    "# 'Архангельская область'\n",
    "# knowing this, we replace duplicate 'Архангельская область' by 'Ненецкий автономный округ (Архангельская область)'\n",
    "income_transferts_2017 = normalize_nenec(income_transferts_2017, 'index0')"
   ]
  },
  {
   "cell_type": "code",
   "execution_count": 299,
   "id": "2e5321b2-083a-42ab-a349-28fe0ec95258",
   "metadata": {},
   "outputs": [],
   "source": [
    "# the same correction for 'Тюменская область'\n",
    "income_transferts_2017 = normalize_khantymanci(income_transferts_2017, 'index0')"
   ]
  },
  {
   "cell_type": "code",
   "execution_count": 300,
   "id": "13e93157-447a-4250-8208-bdcc59458e68",
   "metadata": {},
   "outputs": [],
   "source": [
    "# fill '-' values in index0 column\n",
    "income_transferts_2017 = transform_fill_values_by_previous(\n",
    "    income_transferts_2017, kind='column', column_name='index0')"
   ]
  },
  {
   "cell_type": "markdown",
   "id": "2f3b1b42-65d0-42b8-a73b-2dec909472bc",
   "metadata": {},
   "source": [
    "##### Level1 for Multiindex"
   ]
  },
  {
   "cell_type": "code",
   "execution_count": 301,
   "id": "bdabe387-b771-49aa-beb8-428949643f78",
   "metadata": {},
   "outputs": [],
   "source": [
    "# change region name in 'index1' column to 'Всего'\n",
    "income_transferts_2017['index1'] = income_transferts_2017.apply(\n",
    "    lambda x: transferts_various(x['ОКТМО'], x['index1']), axis=1)"
   ]
  },
  {
   "cell_type": "code",
   "execution_count": 302,
   "id": "e8496118-b8a1-4de8-a6eb-72cb04dcdcd1",
   "metadata": {},
   "outputs": [],
   "source": [
    "# normalize 'Муниципальные районы' and 'Гордские округа' - remove spaces and other dirt\n",
    "income_transferts_2017['index1'] = \\\n",
    "    income_transferts_2017['index1'].apply(lambda x: normalize_municipal_town(x))"
   ]
  },
  {
   "cell_type": "markdown",
   "id": "4715f642-6bab-4955-ae2d-b432611a780c",
   "metadata": {},
   "source": [
    "##### Fill rows with sum ('Всего')"
   ]
  },
  {
   "cell_type": "code",
   "execution_count": 303,
   "id": "234d9ef0-9279-4d67-ba54-4c751795ae0c",
   "metadata": {},
   "outputs": [],
   "source": [
    "# columns for sum of 'Муниципальные районы' and 'Городские округа'\n",
    "columns_summary2012 = [\n",
    "    'Доходы', 'Социальные выплаты', 'Суммарные выплаты', 'Выплаты на 1 чел.']"
   ]
  },
  {
   "cell_type": "code",
   "execution_count": 304,
   "id": "192db293-10f5-4df7-bc45-95e2e477964e",
   "metadata": {},
   "outputs": [],
   "source": [
    "# create regions list\n",
    "regions_list2012 = list(set(income_transferts_2017['index0']))\n",
    "regions_list2012.sort()"
   ]
  },
  {
   "cell_type": "code",
   "execution_count": 305,
   "id": "7232a71a-e195-4a95-9c2d-624050d5d21a",
   "metadata": {},
   "outputs": [
    {
     "name": "stdout",
     "output_type": "stream",
     "text": [
      "Region Санкт-Петербург not in \"Minucipal-Town Dictionary\"\n"
     ]
    }
   ],
   "source": [
    "# count sum of 'Муниципальные районы' and 'Городские округа'\n",
    "income_transferts_2017 = calculate_sum_transferts(\n",
    "    data=income_transferts_2017,\n",
    "    columns=columns_summary2012,\n",
    "    regions=regions_list2012,\n",
    "    mapping_dict=municipal_town_dict)"
   ]
  },
  {
   "cell_type": "markdown",
   "id": "27e24aac-4888-42e2-af2c-8e9d4c980cfc",
   "metadata": {},
   "source": [
    "##### Count Regions"
   ]
  },
  {
   "cell_type": "code",
   "execution_count": 306,
   "id": "06b3578a-0a45-4a4b-a852-34040ec8e309",
   "metadata": {},
   "outputs": [
    {
     "data": {
      "text/plain": [
       "83"
      ]
     },
     "execution_count": 306,
     "metadata": {},
     "output_type": "execute_result"
    }
   ],
   "source": [
    "# count regions\n",
    "regions_count2012 = len(set(income_transferts_2017['index0'].values))\n",
    "regions_count2012"
   ]
  },
  {
   "cell_type": "markdown",
   "id": "90d8b187-34e3-4a34-9575-8d003580352f",
   "metadata": {},
   "source": [
    "##### Create Multiindex"
   ]
  },
  {
   "cell_type": "code",
   "execution_count": 307,
   "id": "18f8bf95-a591-45db-806d-b4a4123cceaa",
   "metadata": {},
   "outputs": [],
   "source": [
    "# columns to multiindex\n",
    "income_transferts_2017 = transform_make_index_from_columns(\n",
    "    income_transferts_2017, ['index0', 'index1'])"
   ]
  },
  {
   "cell_type": "code",
   "execution_count": 308,
   "id": "fafb0239-f99f-4d13-b66f-47716c2b2a2c",
   "metadata": {},
   "outputs": [],
   "source": [
    "# drop columns, that became multiindexes\n",
    "income_transferts_2017 = income_transferts_2017.drop(['index0', 'index1'], axis=1)"
   ]
  },
  {
   "cell_type": "markdown",
   "id": "e1f01061-dbfe-46e6-921b-8ac569d909a6",
   "metadata": {},
   "source": [
    "##### Round (one symbol)"
   ]
  },
  {
   "cell_type": "code",
   "execution_count": 309,
   "id": "db482252-2f3c-4565-be10-6f21001903fe",
   "metadata": {},
   "outputs": [],
   "source": [
    "# round\n",
    "for column in income_transferts_2017.columns:\n",
    "    try:\n",
    "        income_transferts_2017[column] = \\\n",
    "            income_transferts_2017[column].astype(float).round(1)\n",
    "    except ValueError:\n",
    "        pass"
   ]
  },
  {
   "cell_type": "markdown",
   "id": "f83b88e6-c9c6-445a-b5dc-fec44bc3e179",
   "metadata": {},
   "source": [
    "##### <font color='#2A5899'>2016 Check for Discrepancy</font>"
   ]
  },
  {
   "cell_type": "code",
   "execution_count": 310,
   "id": "4664bc62-94b1-4abd-b145-62c9f4663be2",
   "metadata": {},
   "outputs": [
    {
     "data": {
      "text/plain": [
       "False"
      ]
     },
     "execution_count": 310,
     "metadata": {},
     "output_type": "execute_result"
    }
   ],
   "source": [
    "# OKTMO check for NaN\n",
    "income_transferts_2017[income_transferts_2017['ОКТМО'].isna()].any().any()"
   ]
  },
  {
   "cell_type": "code",
   "execution_count": 311,
   "id": "3b227770-6f7b-4095-84d6-639d90054915",
   "metadata": {},
   "outputs": [
    {
     "data": {
      "text/plain": [
       "True"
      ]
     },
     "execution_count": 311,
     "metadata": {},
     "output_type": "execute_result"
    }
   ],
   "source": [
    "# all data check for NaN\n",
    "income_transferts_2017[income_transferts_2017.isna().any(axis=1)].any().any()"
   ]
  },
  {
   "cell_type": "code",
   "execution_count": 312,
   "id": "0462deb6-c96e-4ee7-9c8b-d14a35d49589",
   "metadata": {},
   "outputs": [
    {
     "data": {
      "text/html": [
       "<div>\n",
       "<style scoped>\n",
       "    .dataframe tbody tr th:only-of-type {\n",
       "        vertical-align: middle;\n",
       "    }\n",
       "\n",
       "    .dataframe tbody tr th {\n",
       "        vertical-align: top;\n",
       "    }\n",
       "\n",
       "    .dataframe thead th {\n",
       "        text-align: right;\n",
       "    }\n",
       "</style>\n",
       "<table border=\"1\" class=\"dataframe\">\n",
       "  <thead>\n",
       "    <tr style=\"text-align: right;\">\n",
       "      <th></th>\n",
       "      <th></th>\n",
       "      <th>ОКТМО</th>\n",
       "      <th>Доходы</th>\n",
       "      <th>Социальные выплаты</th>\n",
       "      <th>Суммарные выплаты</th>\n",
       "      <th>Выплаты на 1 чел.</th>\n",
       "    </tr>\n",
       "  </thead>\n",
       "  <tbody>\n",
       "  </tbody>\n",
       "</table>\n",
       "</div>"
      ],
      "text/plain": [
       "Empty DataFrame\n",
       "Columns: [ОКТМО, Доходы, Социальные выплаты, Суммарные выплаты, Выплаты на 1 чел.]\n",
       "Index: []"
      ]
     },
     "execution_count": 312,
     "metadata": {},
     "output_type": "execute_result"
    }
   ],
   "source": [
    "income_transferts_2017[income_transferts_2017['Доходы'] == 0]"
   ]
  },
  {
   "cell_type": "code",
   "execution_count": 313,
   "id": "5289a1e6-a39c-4868-90d5-b1cd7d1cbe8f",
   "metadata": {},
   "outputs": [
    {
     "data": {
      "text/html": [
       "<div>\n",
       "<style scoped>\n",
       "    .dataframe tbody tr th:only-of-type {\n",
       "        vertical-align: middle;\n",
       "    }\n",
       "\n",
       "    .dataframe tbody tr th {\n",
       "        vertical-align: top;\n",
       "    }\n",
       "\n",
       "    .dataframe thead th {\n",
       "        text-align: right;\n",
       "    }\n",
       "</style>\n",
       "<table border=\"1\" class=\"dataframe\">\n",
       "  <thead>\n",
       "    <tr style=\"text-align: right;\">\n",
       "      <th></th>\n",
       "      <th></th>\n",
       "      <th>ОКТМО</th>\n",
       "      <th>Доходы</th>\n",
       "      <th>Социальные выплаты</th>\n",
       "      <th>Суммарные выплаты</th>\n",
       "      <th>Выплаты на 1 чел.</th>\n",
       "    </tr>\n",
       "  </thead>\n",
       "  <tbody>\n",
       "  </tbody>\n",
       "</table>\n",
       "</div>"
      ],
      "text/plain": [
       "Empty DataFrame\n",
       "Columns: [ОКТМО, Доходы, Социальные выплаты, Суммарные выплаты, Выплаты на 1 чел.]\n",
       "Index: []"
      ]
     },
     "execution_count": 313,
     "metadata": {},
     "output_type": "execute_result"
    }
   ],
   "source": [
    "income_transferts_2017[income_transferts_2017['Социальные выплаты'] == 0]"
   ]
  },
  {
   "cell_type": "code",
   "execution_count": 314,
   "id": "80703343-5ed2-4bff-9326-e89b298a31ff",
   "metadata": {},
   "outputs": [
    {
     "data": {
      "text/html": [
       "<div>\n",
       "<style scoped>\n",
       "    .dataframe tbody tr th:only-of-type {\n",
       "        vertical-align: middle;\n",
       "    }\n",
       "\n",
       "    .dataframe tbody tr th {\n",
       "        vertical-align: top;\n",
       "    }\n",
       "\n",
       "    .dataframe thead th {\n",
       "        text-align: right;\n",
       "    }\n",
       "</style>\n",
       "<table border=\"1\" class=\"dataframe\">\n",
       "  <thead>\n",
       "    <tr style=\"text-align: right;\">\n",
       "      <th></th>\n",
       "      <th></th>\n",
       "      <th>ОКТМО</th>\n",
       "      <th>Доходы</th>\n",
       "      <th>Социальные выплаты</th>\n",
       "      <th>Суммарные выплаты</th>\n",
       "      <th>Выплаты на 1 чел.</th>\n",
       "    </tr>\n",
       "  </thead>\n",
       "  <tbody>\n",
       "  </tbody>\n",
       "</table>\n",
       "</div>"
      ],
      "text/plain": [
       "Empty DataFrame\n",
       "Columns: [ОКТМО, Доходы, Социальные выплаты, Суммарные выплаты, Выплаты на 1 чел.]\n",
       "Index: []"
      ]
     },
     "execution_count": 314,
     "metadata": {},
     "output_type": "execute_result"
    }
   ],
   "source": [
    "income_transferts_2017[income_transferts_2017['Суммарные выплаты'] == 0]"
   ]
  },
  {
   "cell_type": "code",
   "execution_count": 315,
   "id": "229d2271-9a92-4e7d-9764-fdb6bf2fac7b",
   "metadata": {},
   "outputs": [
    {
     "data": {
      "text/html": [
       "<div>\n",
       "<style scoped>\n",
       "    .dataframe tbody tr th:only-of-type {\n",
       "        vertical-align: middle;\n",
       "    }\n",
       "\n",
       "    .dataframe tbody tr th {\n",
       "        vertical-align: top;\n",
       "    }\n",
       "\n",
       "    .dataframe thead th {\n",
       "        text-align: right;\n",
       "    }\n",
       "</style>\n",
       "<table border=\"1\" class=\"dataframe\">\n",
       "  <thead>\n",
       "    <tr style=\"text-align: right;\">\n",
       "      <th></th>\n",
       "      <th></th>\n",
       "      <th>ОКТМО</th>\n",
       "      <th>Доходы</th>\n",
       "      <th>Социальные выплаты</th>\n",
       "      <th>Суммарные выплаты</th>\n",
       "      <th>Выплаты на 1 чел.</th>\n",
       "    </tr>\n",
       "  </thead>\n",
       "  <tbody>\n",
       "  </tbody>\n",
       "</table>\n",
       "</div>"
      ],
      "text/plain": [
       "Empty DataFrame\n",
       "Columns: [ОКТМО, Доходы, Социальные выплаты, Суммарные выплаты, Выплаты на 1 чел.]\n",
       "Index: []"
      ]
     },
     "execution_count": 315,
     "metadata": {},
     "output_type": "execute_result"
    }
   ],
   "source": [
    "income_transferts_2017[income_transferts_2017['Выплаты на 1 чел.'] == 0]"
   ]
  },
  {
   "cell_type": "code",
   "execution_count": 316,
   "id": "506af11a-df06-4c19-aeba-84d935d3ed87",
   "metadata": {},
   "outputs": [
    {
     "data": {
      "text/html": [
       "<div>\n",
       "<style scoped>\n",
       "    .dataframe tbody tr th:only-of-type {\n",
       "        vertical-align: middle;\n",
       "    }\n",
       "\n",
       "    .dataframe tbody tr th {\n",
       "        vertical-align: top;\n",
       "    }\n",
       "\n",
       "    .dataframe thead th {\n",
       "        text-align: right;\n",
       "    }\n",
       "</style>\n",
       "<table border=\"1\" class=\"dataframe\">\n",
       "  <thead>\n",
       "    <tr style=\"text-align: right;\">\n",
       "      <th></th>\n",
       "      <th></th>\n",
       "      <th>ОКТМО</th>\n",
       "      <th>Доходы</th>\n",
       "      <th>Социальные выплаты</th>\n",
       "      <th>Суммарные выплаты</th>\n",
       "      <th>Выплаты на 1 чел.</th>\n",
       "    </tr>\n",
       "  </thead>\n",
       "  <tbody>\n",
       "    <tr>\n",
       "      <th>Тюменская область</th>\n",
       "      <th>Всего</th>\n",
       "      <td>71</td>\n",
       "      <td>348148209.0</td>\n",
       "      <td>102876100.4</td>\n",
       "      <td>451024309.4</td>\n",
       "      <td>540182.7</td>\n",
       "    </tr>\n",
       "    <tr>\n",
       "      <th>Ханты-Мансийский автономный округ - Югра (Тюменская область)</th>\n",
       "      <th>Всего</th>\n",
       "      <td>71</td>\n",
       "      <td>744842711.5</td>\n",
       "      <td>159809528.6</td>\n",
       "      <td>904652240.1</td>\n",
       "      <td>1195748.7</td>\n",
       "    </tr>\n",
       "    <tr>\n",
       "      <th>Ямало-Ненецкий автономный округ (Тюменская область)</th>\n",
       "      <th>Всего</th>\n",
       "      <td>71</td>\n",
       "      <td>434032932.5</td>\n",
       "      <td>58250172.4</td>\n",
       "      <td>492283104.9</td>\n",
       "      <td>2065803.5</td>\n",
       "    </tr>\n",
       "  </tbody>\n",
       "</table>\n",
       "</div>"
      ],
      "text/plain": [
       "                                                         ОКТМО       Доходы  \\\n",
       "Тюменская область                                  Всего    71  348148209.0   \n",
       "Ханты-Мансийский автономный округ - Югра (Тюмен... Всего    71  744842711.5   \n",
       "Ямало-Ненецкий автономный округ (Тюменская обла... Всего    71  434032932.5   \n",
       "\n",
       "                                                          Социальные выплаты  \\\n",
       "Тюменская область                                  Всего         102876100.4   \n",
       "Ханты-Мансийский автономный округ - Югра (Тюмен... Всего         159809528.6   \n",
       "Ямало-Ненецкий автономный округ (Тюменская обла... Всего          58250172.4   \n",
       "\n",
       "                                                          Суммарные выплаты  \\\n",
       "Тюменская область                                  Всего        451024309.4   \n",
       "Ханты-Мансийский автономный округ - Югра (Тюмен... Всего        904652240.1   \n",
       "Ямало-Ненецкий автономный округ (Тюменская обла... Всего        492283104.9   \n",
       "\n",
       "                                                          Выплаты на 1 чел.  \n",
       "Тюменская область                                  Всего           540182.7  \n",
       "Ханты-Мансийский автономный округ - Югра (Тюмен... Всего          1195748.7  \n",
       "Ямало-Ненецкий автономный округ (Тюменская обла... Всего          2065803.5  "
      ]
     },
     "execution_count": 316,
     "metadata": {},
     "output_type": "execute_result"
    }
   ],
   "source": [
    "income_transferts_2017[income_transferts_2017['ОКТМО'] == '71']"
   ]
  },
  {
   "cell_type": "code",
   "execution_count": 317,
   "id": "75d39dc9-fcb1-4f00-99f2-b25af3aa66e1",
   "metadata": {},
   "outputs": [
    {
     "data": {
      "text/html": [
       "<div>\n",
       "<style scoped>\n",
       "    .dataframe tbody tr th:only-of-type {\n",
       "        vertical-align: middle;\n",
       "    }\n",
       "\n",
       "    .dataframe tbody tr th {\n",
       "        vertical-align: top;\n",
       "    }\n",
       "\n",
       "    .dataframe thead th {\n",
       "        text-align: right;\n",
       "    }\n",
       "</style>\n",
       "<table border=\"1\" class=\"dataframe\">\n",
       "  <thead>\n",
       "    <tr style=\"text-align: right;\">\n",
       "      <th></th>\n",
       "      <th></th>\n",
       "      <th>ОКТМО</th>\n",
       "      <th>Доходы</th>\n",
       "      <th>Социальные выплаты</th>\n",
       "      <th>Суммарные выплаты</th>\n",
       "      <th>Выплаты на 1 чел.</th>\n",
       "    </tr>\n",
       "  </thead>\n",
       "  <tbody>\n",
       "    <tr>\n",
       "      <th>Архангельская область</th>\n",
       "      <th>Всего</th>\n",
       "      <td>11</td>\n",
       "      <td>256421310.1</td>\n",
       "      <td>119016584.2</td>\n",
       "      <td>375437894.2</td>\n",
       "      <td>646180.6</td>\n",
       "    </tr>\n",
       "    <tr>\n",
       "      <th>Ненецкий автономный округ (Архангельская область)</th>\n",
       "      <th>Всего</th>\n",
       "      <td>11</td>\n",
       "      <td>29711549.6</td>\n",
       "      <td>7234095.4</td>\n",
       "      <td>36945645.0</td>\n",
       "      <td>1712736.6</td>\n",
       "    </tr>\n",
       "  </tbody>\n",
       "</table>\n",
       "</div>"
      ],
      "text/plain": [
       "                                                        ОКТМО       Доходы  \\\n",
       "Архангельская область                             Всего    11  256421310.1   \n",
       "Ненецкий автономный округ (Архангельская область) Всего    11   29711549.6   \n",
       "\n",
       "                                                         Социальные выплаты  \\\n",
       "Архангельская область                             Всего         119016584.2   \n",
       "Ненецкий автономный округ (Архангельская область) Всего           7234095.4   \n",
       "\n",
       "                                                         Суммарные выплаты  \\\n",
       "Архангельская область                             Всего        375437894.2   \n",
       "Ненецкий автономный округ (Архангельская область) Всего         36945645.0   \n",
       "\n",
       "                                                         Выплаты на 1 чел.  \n",
       "Архангельская область                             Всего           646180.6  \n",
       "Ненецкий автономный округ (Архангельская область) Всего          1712736.6  "
      ]
     },
     "execution_count": 317,
     "metadata": {},
     "output_type": "execute_result"
    }
   ],
   "source": [
    "income_transferts_2017[income_transferts_2017['ОКТМО'] == '11']"
   ]
  },
  {
   "cell_type": "code",
   "execution_count": 318,
   "id": "7cafaa10-6c14-4845-a683-3789168a3b3e",
   "metadata": {},
   "outputs": [
    {
     "data": {
      "text/plain": [
       "['Ростовская область']"
      ]
     },
     "execution_count": 318,
     "metadata": {},
     "output_type": "execute_result"
    }
   ],
   "source": [
    "# check if there are duplications in municipal, town and others OKTMO\n",
    "check_oktmo_2016_dupl_list = check_oktmo_duplication(\n",
    "    data=income_transferts_2017, \n",
    "    column_check='ОКТМО',\n",
    "    normalize_oktmo_list=municipal_town_dict)\n",
    "\n",
    "check_oktmo_2016_dupl_list"
   ]
  },
  {
   "cell_type": "code",
   "execution_count": 319,
   "id": "3baa5e1d-df2e-4ca4-9840-5f8dea96fac8",
   "metadata": {},
   "outputs": [
    {
     "data": {
      "text/html": [
       "<div>\n",
       "<style scoped>\n",
       "    .dataframe tbody tr th:only-of-type {\n",
       "        vertical-align: middle;\n",
       "    }\n",
       "\n",
       "    .dataframe tbody tr th {\n",
       "        vertical-align: top;\n",
       "    }\n",
       "\n",
       "    .dataframe thead th {\n",
       "        text-align: right;\n",
       "    }\n",
       "</style>\n",
       "<table border=\"1\" class=\"dataframe\">\n",
       "  <thead>\n",
       "    <tr style=\"text-align: right;\">\n",
       "      <th></th>\n",
       "      <th></th>\n",
       "      <th>ОКТМО</th>\n",
       "      <th>Доходы</th>\n",
       "      <th>Социальные выплаты</th>\n",
       "      <th>Суммарные выплаты</th>\n",
       "      <th>Выплаты на 1 чел.</th>\n",
       "    </tr>\n",
       "  </thead>\n",
       "  <tbody>\n",
       "    <tr>\n",
       "      <th rowspan=\"2\" valign=\"top\">Алтайский край</th>\n",
       "      <th>Муниципальные районы</th>\n",
       "      <td>01 600 000</td>\n",
       "      <td>72304088.8</td>\n",
       "      <td>76060473.0</td>\n",
       "      <td>148364561.8</td>\n",
       "      <td>138784.3</td>\n",
       "    </tr>\n",
       "    <tr>\n",
       "      <th>Городские округа</th>\n",
       "      <td>01 700 000</td>\n",
       "      <td>179762250.2</td>\n",
       "      <td>90611540.4</td>\n",
       "      <td>270373790.6</td>\n",
       "      <td>209779.1</td>\n",
       "    </tr>\n",
       "  </tbody>\n",
       "</table>\n",
       "</div>"
      ],
      "text/plain": [
       "                                          ОКТМО       Доходы  \\\n",
       "Алтайский край Муниципальные районы  01 600 000   72304088.8   \n",
       "               Городские округа      01 700 000  179762250.2   \n",
       "\n",
       "                                     Социальные выплаты  Суммарные выплаты  \\\n",
       "Алтайский край Муниципальные районы          76060473.0        148364561.8   \n",
       "               Городские округа              90611540.4        270373790.6   \n",
       "\n",
       "                                     Выплаты на 1 чел.  \n",
       "Алтайский край Муниципальные районы           138784.3  \n",
       "               Городские округа               209779.1  "
      ]
     },
     "execution_count": 319,
     "metadata": {},
     "output_type": "execute_result"
    }
   ],
   "source": [
    "(income_transferts_2017\n",
    " .loc[income_transferts_2017['ОКТМО']\n",
    " .isin(municipal_town_dict['Алтайский край'])])"
   ]
  },
  {
   "cell_type": "markdown",
   "id": "edf207aa-d045-48ea-89e1-8a697d13bf3d",
   "metadata": {},
   "source": [
    "##### <font color='#2A5899'>2016 Final Result</font>"
   ]
  },
  {
   "cell_type": "code",
   "execution_count": 320,
   "id": "c44a71e1-739c-4e36-9979-c82744cbc009",
   "metadata": {},
   "outputs": [
    {
     "data": {
      "text/html": [
       "<div>\n",
       "<style scoped>\n",
       "    .dataframe tbody tr th:only-of-type {\n",
       "        vertical-align: middle;\n",
       "    }\n",
       "\n",
       "    .dataframe tbody tr th {\n",
       "        vertical-align: top;\n",
       "    }\n",
       "\n",
       "    .dataframe thead th {\n",
       "        text-align: right;\n",
       "    }\n",
       "</style>\n",
       "<table border=\"1\" class=\"dataframe\">\n",
       "  <thead>\n",
       "    <tr style=\"text-align: right;\">\n",
       "      <th></th>\n",
       "      <th></th>\n",
       "      <th>ОКТМО</th>\n",
       "      <th>Доходы</th>\n",
       "      <th>Социальные выплаты</th>\n",
       "      <th>Суммарные выплаты</th>\n",
       "      <th>Выплаты на 1 чел.</th>\n",
       "    </tr>\n",
       "  </thead>\n",
       "  <tbody>\n",
       "    <tr>\n",
       "      <th rowspan=\"5\" valign=\"top\">Алтайский край</th>\n",
       "      <th>Всего</th>\n",
       "      <td>01</td>\n",
       "      <td>252066339.0</td>\n",
       "      <td>166672013.4</td>\n",
       "      <td>418738352.4</td>\n",
       "      <td>348563.4</td>\n",
       "    </tr>\n",
       "    <tr>\n",
       "      <th>Муниципальные районы</th>\n",
       "      <td>01 600 000</td>\n",
       "      <td>72304088.8</td>\n",
       "      <td>76060473.0</td>\n",
       "      <td>148364561.8</td>\n",
       "      <td>138784.3</td>\n",
       "    </tr>\n",
       "    <tr>\n",
       "      <th>Алейский</th>\n",
       "      <td>01 601 000</td>\n",
       "      <td>1225368.2</td>\n",
       "      <td>912457.9</td>\n",
       "      <td>2137826.1</td>\n",
       "      <td>147844.1</td>\n",
       "    </tr>\n",
       "    <tr>\n",
       "      <th>Алтайский</th>\n",
       "      <td>01 602 000</td>\n",
       "      <td>2248113.5</td>\n",
       "      <td>1666497.3</td>\n",
       "      <td>3914610.8</td>\n",
       "      <td>150828.8</td>\n",
       "    </tr>\n",
       "    <tr>\n",
       "      <th>Баевский</th>\n",
       "      <td>01 603 000</td>\n",
       "      <td>570225.7</td>\n",
       "      <td>749286.7</td>\n",
       "      <td>1319512.3</td>\n",
       "      <td>141883.0</td>\n",
       "    </tr>\n",
       "  </tbody>\n",
       "</table>\n",
       "</div>"
      ],
      "text/plain": [
       "                                          ОКТМО       Доходы  \\\n",
       "Алтайский край Всего                         01  252066339.0   \n",
       "               Муниципальные районы  01 600 000   72304088.8   \n",
       "               Алейский              01 601 000    1225368.2   \n",
       "               Алтайский             01 602 000    2248113.5   \n",
       "               Баевский              01 603 000     570225.7   \n",
       "\n",
       "                                     Социальные выплаты  Суммарные выплаты  \\\n",
       "Алтайский край Всего                        166672013.4        418738352.4   \n",
       "               Муниципальные районы          76060473.0        148364561.8   \n",
       "               Алейский                        912457.9          2137826.1   \n",
       "               Алтайский                      1666497.3          3914610.8   \n",
       "               Баевский                        749286.7          1319512.3   \n",
       "\n",
       "                                     Выплаты на 1 чел.  \n",
       "Алтайский край Всего                          348563.4  \n",
       "               Муниципальные районы           138784.3  \n",
       "               Алейский                       147844.1  \n",
       "               Алтайский                      150828.8  \n",
       "               Баевский                       141883.0  "
      ]
     },
     "execution_count": 320,
     "metadata": {},
     "output_type": "execute_result"
    }
   ],
   "source": [
    "income_transferts_2017.head()"
   ]
  },
  {
   "cell_type": "code",
   "execution_count": 321,
   "id": "6f5846d5-ac4c-4579-a6d6-0d121fc87a4d",
   "metadata": {},
   "outputs": [
    {
     "data": {
      "text/html": [
       "<div>\n",
       "<style scoped>\n",
       "    .dataframe tbody tr th:only-of-type {\n",
       "        vertical-align: middle;\n",
       "    }\n",
       "\n",
       "    .dataframe tbody tr th {\n",
       "        vertical-align: top;\n",
       "    }\n",
       "\n",
       "    .dataframe thead th {\n",
       "        text-align: right;\n",
       "    }\n",
       "</style>\n",
       "<table border=\"1\" class=\"dataframe\">\n",
       "  <thead>\n",
       "    <tr style=\"text-align: right;\">\n",
       "      <th></th>\n",
       "      <th>ОКТМО</th>\n",
       "      <th>Доходы</th>\n",
       "      <th>Социальные выплаты</th>\n",
       "      <th>Суммарные выплаты</th>\n",
       "      <th>Выплаты на 1 чел.</th>\n",
       "    </tr>\n",
       "  </thead>\n",
       "  <tbody>\n",
       "    <tr>\n",
       "      <th>Всего</th>\n",
       "      <td>46</td>\n",
       "      <td>1604609424.2</td>\n",
       "      <td>589393407.0</td>\n",
       "      <td>2194002831.2</td>\n",
       "      <td>600261.9</td>\n",
       "    </tr>\n",
       "  </tbody>\n",
       "</table>\n",
       "</div>"
      ],
      "text/plain": [
       "      ОКТМО        Доходы Социальные выплаты Суммарные выплаты  \\\n",
       "Всего    46  1604609424.2        589393407.0      2194002831.2   \n",
       "\n",
       "      Выплаты на 1 чел.  \n",
       "Всего          600261.9  "
      ]
     },
     "execution_count": 321,
     "metadata": {},
     "output_type": "execute_result"
    }
   ],
   "source": [
    "get_data_two_level(\n",
    "    data=income_transferts_2017,\n",
    "    level0='Московская область',\n",
    "    level1='Всего',\n",
    "    kind='index')"
   ]
  },
  {
   "cell_type": "code",
   "execution_count": 322,
   "id": "57129d1a-84f7-4159-9e46-85e2f17fa834",
   "metadata": {},
   "outputs": [
    {
     "data": {
      "text/html": [
       "<div>\n",
       "<style scoped>\n",
       "    .dataframe tbody tr th:only-of-type {\n",
       "        vertical-align: middle;\n",
       "    }\n",
       "\n",
       "    .dataframe tbody tr th {\n",
       "        vertical-align: top;\n",
       "    }\n",
       "\n",
       "    .dataframe thead th {\n",
       "        text-align: right;\n",
       "    }\n",
       "</style>\n",
       "<table border=\"1\" class=\"dataframe\">\n",
       "  <thead>\n",
       "    <tr style=\"text-align: right;\">\n",
       "      <th></th>\n",
       "      <th>ОКТМО</th>\n",
       "      <th>Доходы</th>\n",
       "      <th>Социальные выплаты</th>\n",
       "      <th>Суммарные выплаты</th>\n",
       "      <th>Выплаты на 1 чел.</th>\n",
       "    </tr>\n",
       "  </thead>\n",
       "  <tbody>\n",
       "    <tr>\n",
       "      <th>Всего</th>\n",
       "      <td>11</td>\n",
       "      <td>29711549.6</td>\n",
       "      <td>7234095.4</td>\n",
       "      <td>36945645.0</td>\n",
       "      <td>1712736.6</td>\n",
       "    </tr>\n",
       "    <tr>\n",
       "      <th>Муниципальные районы</th>\n",
       "      <td>11 800 000</td>\n",
       "      <td>16243530.6</td>\n",
       "      <td>2732327.7</td>\n",
       "      <td>18975858.3</td>\n",
       "      <td>985656.5</td>\n",
       "    </tr>\n",
       "    <tr>\n",
       "      <th>Заполярны йрайон</th>\n",
       "      <td>11 810 000</td>\n",
       "      <td>16243530.6</td>\n",
       "      <td>2732327.7</td>\n",
       "      <td>18975858.3</td>\n",
       "      <td>985656.5</td>\n",
       "    </tr>\n",
       "    <tr>\n",
       "      <th>Городские округа</th>\n",
       "      <td>11 900 000</td>\n",
       "      <td>13468019.0</td>\n",
       "      <td>4501767.7</td>\n",
       "      <td>17969786.7</td>\n",
       "      <td>727080.2</td>\n",
       "    </tr>\n",
       "    <tr>\n",
       "      <th>г.Нарьян-Мар</th>\n",
       "      <td>11 850 000</td>\n",
       "      <td>13468019.0</td>\n",
       "      <td>4501767.7</td>\n",
       "      <td>17969786.7</td>\n",
       "      <td>727080.2</td>\n",
       "    </tr>\n",
       "  </tbody>\n",
       "</table>\n",
       "</div>"
      ],
      "text/plain": [
       "                           ОКТМО      Доходы  Социальные выплаты  \\\n",
       "Всего                         11  29711549.6           7234095.4   \n",
       "Муниципальные районы  11 800 000  16243530.6           2732327.7   \n",
       "Заполярны йрайон      11 810 000  16243530.6           2732327.7   \n",
       "Городские округа      11 900 000  13468019.0           4501767.7   \n",
       "г.Нарьян-Мар          11 850 000  13468019.0           4501767.7   \n",
       "\n",
       "                      Суммарные выплаты  Выплаты на 1 чел.  \n",
       "Всего                        36945645.0          1712736.6  \n",
       "Муниципальные районы         18975858.3           985656.5  \n",
       "Заполярны йрайон             18975858.3           985656.5  \n",
       "Городские округа             17969786.7           727080.2  \n",
       "г.Нарьян-Мар                 17969786.7           727080.2  "
      ]
     },
     "execution_count": 322,
     "metadata": {},
     "output_type": "execute_result"
    }
   ],
   "source": [
    "income_transferts_2017.loc['Ненецкий автономный округ (Архангельская область)']"
   ]
  },
  {
   "cell_type": "code",
   "execution_count": 323,
   "id": "7deb6a13-2d72-4335-a1e1-1b6ea86ace2c",
   "metadata": {},
   "outputs": [],
   "source": [
    "datasets_list.append(income_transferts_2017)"
   ]
  },
  {
   "cell_type": "markdown",
   "id": "3c6c832f-00b5-425a-84b1-fc368b4d80f3",
   "metadata": {},
   "source": [
    "#### <font color='#AF4035'>2018 год</font>"
   ]
  },
  {
   "cell_type": "markdown",
   "id": "2afbb1a7-6cf7-424f-b9c7-c38259650ec0",
   "metadata": {},
   "source": [
    "##### Regions OKTMO codes"
   ]
  },
  {
   "cell_type": "code",
   "execution_count": 324,
   "id": "c34914bb-a6bd-4de2-bf34-f9aff64bfdbf",
   "metadata": {},
   "outputs": [],
   "source": [
    "path_2018 = \\\n",
    "    ('/Users/a.chasovsky/Library/CloudStorage/GoogleDrive-alexanderchasovsky@gmail.com/'\n",
    "     'Мой диск/Data Science Projects/pers_economics_rus/data/00-Region-codes/')\n",
    "os.chdir(path_2018)\n",
    "%run 2018.ipynb\n",
    "os.chdir(current_path)"
   ]
  },
  {
   "attachments": {},
   "cell_type": "markdown",
   "id": "e3f209de-8419-42cf-8246-45794f9bee75",
   "metadata": {},
   "source": [
    "##### Исправления:\n",
    "- Магаданская область: '44 000 000' -> '44'"
   ]
  },
  {
   "cell_type": "markdown",
   "id": "9e70c0df-add6-4cd4-b08f-78dbbe5fc79b",
   "metadata": {},
   "source": [
    "##### Data"
   ]
  },
  {
   "cell_type": "code",
   "execution_count": 325,
   "id": "c044ec21-7755-4d22-bacb-7db1df64b7c3",
   "metadata": {},
   "outputs": [],
   "source": [
    "income_transferts_2018_link = \\\n",
    "    ('data/02-Population/02-Standard-of-living/01-Income/'\n",
    "     'urov-14a2018.xls')"
   ]
  },
  {
   "cell_type": "code",
   "execution_count": 326,
   "id": "24cc3377-6c37-4e67-8262-9628bc259a17",
   "metadata": {},
   "outputs": [],
   "source": [
    "income_transferts_2018_raw = pd.read_excel(income_transferts_2018_link)"
   ]
  },
  {
   "cell_type": "code",
   "execution_count": 327,
   "id": "1be822d3-3d90-42d7-be68-5abc93f641a8",
   "metadata": {},
   "outputs": [
    {
     "data": {
      "text/html": [
       "<div>\n",
       "<style scoped>\n",
       "    .dataframe tbody tr th:only-of-type {\n",
       "        vertical-align: middle;\n",
       "    }\n",
       "\n",
       "    .dataframe tbody tr th {\n",
       "        vertical-align: top;\n",
       "    }\n",
       "\n",
       "    .dataframe thead th {\n",
       "        text-align: right;\n",
       "    }\n",
       "</style>\n",
       "<table border=\"1\" class=\"dataframe\">\n",
       "  <thead>\n",
       "    <tr style=\"text-align: right;\">\n",
       "      <th></th>\n",
       "      <th>Unnamed: 0</th>\n",
       "      <th>Unnamed: 1</th>\n",
       "      <th>Unnamed: 2</th>\n",
       "      <th>Unnamed: 3</th>\n",
       "      <th>Unnamed: 4</th>\n",
       "      <th>Unnamed: 5</th>\n",
       "      <th>Unnamed: 6</th>\n",
       "    </tr>\n",
       "  </thead>\n",
       "  <tbody>\n",
       "    <tr>\n",
       "      <th>0</th>\n",
       "      <td>\"Объем социальных выплат населению и налогооб...</td>\n",
       "      <td>NaN</td>\n",
       "      <td>NaN</td>\n",
       "      <td>NaN</td>\n",
       "      <td>NaN</td>\n",
       "      <td>NaN</td>\n",
       "      <td>NaN</td>\n",
       "    </tr>\n",
       "    <tr>\n",
       "      <th>1</th>\n",
       "      <td>NaN</td>\n",
       "      <td>NaN</td>\n",
       "      <td>NaN</td>\n",
       "      <td>NaN</td>\n",
       "      <td>NaN</td>\n",
       "      <td>NaN</td>\n",
       "      <td>NaN</td>\n",
       "    </tr>\n",
       "    <tr>\n",
       "      <th>2</th>\n",
       "      <td>NaN</td>\n",
       "      <td>NaN</td>\n",
       "      <td>Код ОКТМО</td>\n",
       "      <td>Налогооблагаемые денежные доходы физических ли...</td>\n",
       "      <td>Социальные и другие выплаты, тыс.рублей</td>\n",
       "      <td>Объем социальных выплат населению и налогообла...</td>\n",
       "      <td>Объем социальных выплат и налогооблагаемых ден...</td>\n",
       "    </tr>\n",
       "    <tr>\n",
       "      <th>3</th>\n",
       "      <td>NaN</td>\n",
       "      <td>NaN</td>\n",
       "      <td>1</td>\n",
       "      <td>2</td>\n",
       "      <td>3</td>\n",
       "      <td>4</td>\n",
       "      <td>5</td>\n",
       "    </tr>\n",
       "    <tr>\n",
       "      <th>4</th>\n",
       "      <td>NaN</td>\n",
       "      <td>Алтайский край</td>\n",
       "      <td>01</td>\n",
       "      <td>NaN</td>\n",
       "      <td>NaN</td>\n",
       "      <td>NaN</td>\n",
       "      <td>NaN</td>\n",
       "    </tr>\n",
       "    <tr>\n",
       "      <th>5</th>\n",
       "      <td>NaN</td>\n",
       "      <td>Муниципальные районы</td>\n",
       "      <td>01 600 000</td>\n",
       "      <td>79730737.796009</td>\n",
       "      <td>77754431.413884</td>\n",
       "      <td>157485169.209893</td>\n",
       "      <td>149068.606612</td>\n",
       "    </tr>\n",
       "    <tr>\n",
       "      <th>6</th>\n",
       "      <td>1</td>\n",
       "      <td>Алейский</td>\n",
       "      <td>01 601 000</td>\n",
       "      <td>1140899.02366</td>\n",
       "      <td>930983.623306</td>\n",
       "      <td>2071882.646966</td>\n",
       "      <td>145548.4824</td>\n",
       "    </tr>\n",
       "    <tr>\n",
       "      <th>7</th>\n",
       "      <td>2</td>\n",
       "      <td>Алтайский</td>\n",
       "      <td>01 602 000</td>\n",
       "      <td>1549957.652244</td>\n",
       "      <td>1925262.073505</td>\n",
       "      <td>3475219.725749</td>\n",
       "      <td>134318.390822</td>\n",
       "    </tr>\n",
       "    <tr>\n",
       "      <th>8</th>\n",
       "      <td>3</td>\n",
       "      <td>Баевский</td>\n",
       "      <td>01 603 000</td>\n",
       "      <td>711078.914745</td>\n",
       "      <td>774420.925473</td>\n",
       "      <td>1485499.840218</td>\n",
       "      <td>162740.999147</td>\n",
       "    </tr>\n",
       "    <tr>\n",
       "      <th>9</th>\n",
       "      <td>4</td>\n",
       "      <td>Бийский</td>\n",
       "      <td>01 604 000</td>\n",
       "      <td>1807290.303886</td>\n",
       "      <td>2468633.376222</td>\n",
       "      <td>4275923.680108</td>\n",
       "      <td>135562.858414</td>\n",
       "    </tr>\n",
       "  </tbody>\n",
       "</table>\n",
       "</div>"
      ],
      "text/plain": [
       "                                          Unnamed: 0             Unnamed: 1  \\\n",
       "0   \"Объем социальных выплат населению и налогооб...                    NaN   \n",
       "1                                                NaN                    NaN   \n",
       "2                                                NaN                    NaN   \n",
       "3                                                NaN                    NaN   \n",
       "4                                                NaN         Алтайский край   \n",
       "5                                                NaN  Муниципальные районы    \n",
       "6                                                  1               Алейский   \n",
       "7                                                  2              Алтайский   \n",
       "8                                                  3               Баевский   \n",
       "9                                                  4                Бийский   \n",
       "\n",
       "   Unnamed: 2                                         Unnamed: 3  \\\n",
       "0         NaN                                                NaN   \n",
       "1         NaN                                                NaN   \n",
       "2   Код ОКТМО  Налогооблагаемые денежные доходы физических ли...   \n",
       "3           1                                                  2   \n",
       "4          01                                                NaN   \n",
       "5  01 600 000                                    79730737.796009   \n",
       "6  01 601 000                                      1140899.02366   \n",
       "7  01 602 000                                     1549957.652244   \n",
       "8  01 603 000                                      711078.914745   \n",
       "9  01 604 000                                     1807290.303886   \n",
       "\n",
       "                                Unnamed: 4  \\\n",
       "0                                      NaN   \n",
       "1                                      NaN   \n",
       "2  Социальные и другие выплаты, тыс.рублей   \n",
       "3                                        3   \n",
       "4                                      NaN   \n",
       "5                          77754431.413884   \n",
       "6                            930983.623306   \n",
       "7                           1925262.073505   \n",
       "8                            774420.925473   \n",
       "9                           2468633.376222   \n",
       "\n",
       "                                          Unnamed: 5  \\\n",
       "0                                                NaN   \n",
       "1                                                NaN   \n",
       "2  Объем социальных выплат населению и налогообла...   \n",
       "3                                                  4   \n",
       "4                                                NaN   \n",
       "5                                   157485169.209893   \n",
       "6                                     2071882.646966   \n",
       "7                                     3475219.725749   \n",
       "8                                     1485499.840218   \n",
       "9                                     4275923.680108   \n",
       "\n",
       "                                          Unnamed: 6  \n",
       "0                                                NaN  \n",
       "1                                                NaN  \n",
       "2  Объем социальных выплат и налогооблагаемых ден...  \n",
       "3                                                  5  \n",
       "4                                                NaN  \n",
       "5                                      149068.606612  \n",
       "6                                        145548.4824  \n",
       "7                                      134318.390822  \n",
       "8                                      162740.999147  \n",
       "9                                      135562.858414  "
      ]
     },
     "execution_count": 327,
     "metadata": {},
     "output_type": "execute_result"
    }
   ],
   "source": [
    "income_transferts_2018_raw.head(10)"
   ]
  },
  {
   "cell_type": "code",
   "execution_count": 328,
   "id": "f1a6cf0c-9b11-4569-ab38-ef58ed6cfdc8",
   "metadata": {},
   "outputs": [
    {
     "data": {
      "text/html": [
       "<div>\n",
       "<style scoped>\n",
       "    .dataframe tbody tr th:only-of-type {\n",
       "        vertical-align: middle;\n",
       "    }\n",
       "\n",
       "    .dataframe tbody tr th {\n",
       "        vertical-align: top;\n",
       "    }\n",
       "\n",
       "    .dataframe thead th {\n",
       "        text-align: right;\n",
       "    }\n",
       "</style>\n",
       "<table border=\"1\" class=\"dataframe\">\n",
       "  <thead>\n",
       "    <tr style=\"text-align: right;\">\n",
       "      <th></th>\n",
       "      <th>Unnamed: 0</th>\n",
       "      <th>Unnamed: 1</th>\n",
       "      <th>Unnamed: 2</th>\n",
       "      <th>Unnamed: 3</th>\n",
       "      <th>Unnamed: 4</th>\n",
       "      <th>Unnamed: 5</th>\n",
       "      <th>Unnamed: 6</th>\n",
       "    </tr>\n",
       "  </thead>\n",
       "  <tbody>\n",
       "    <tr>\n",
       "      <th>2657</th>\n",
       "      <td>NaN</td>\n",
       "      <td>NaN</td>\n",
       "      <td>NaN</td>\n",
       "      <td>NaN</td>\n",
       "      <td>NaN</td>\n",
       "      <td>NaN</td>\n",
       "      <td>NaN</td>\n",
       "    </tr>\n",
       "    <tr>\n",
       "      <th>2658</th>\n",
       "      <td>NaN</td>\n",
       "      <td>Еврейская автономная область</td>\n",
       "      <td>99</td>\n",
       "      <td>NaN</td>\n",
       "      <td>NaN</td>\n",
       "      <td>NaN</td>\n",
       "      <td>NaN</td>\n",
       "    </tr>\n",
       "    <tr>\n",
       "      <th>2659</th>\n",
       "      <td>NaN</td>\n",
       "      <td>Муниципальные районы</td>\n",
       "      <td>99600000</td>\n",
       "      <td>12568118.212837</td>\n",
       "      <td>6114883.226784</td>\n",
       "      <td>18683001.439621</td>\n",
       "      <td>213305.492072</td>\n",
       "    </tr>\n",
       "    <tr>\n",
       "      <th>2660</th>\n",
       "      <td>1</td>\n",
       "      <td>Биробиджанский</td>\n",
       "      <td>99605000</td>\n",
       "      <td>1091896.525415</td>\n",
       "      <td>784342.556083</td>\n",
       "      <td>1876239.081499</td>\n",
       "      <td>167851.05399</td>\n",
       "    </tr>\n",
       "    <tr>\n",
       "      <th>2661</th>\n",
       "      <td>2</td>\n",
       "      <td>Ленинский</td>\n",
       "      <td>99610000</td>\n",
       "      <td>1980212.587744</td>\n",
       "      <td>983554.236092</td>\n",
       "      <td>2963766.823836</td>\n",
       "      <td>168261.997493</td>\n",
       "    </tr>\n",
       "    <tr>\n",
       "      <th>2662</th>\n",
       "      <td>3</td>\n",
       "      <td>Облученский</td>\n",
       "      <td>99620000</td>\n",
       "      <td>5597990.402031</td>\n",
       "      <td>1977347.47262</td>\n",
       "      <td>7575337.874651</td>\n",
       "      <td>300275.006923</td>\n",
       "    </tr>\n",
       "    <tr>\n",
       "      <th>2663</th>\n",
       "      <td>4</td>\n",
       "      <td>Октябрьский</td>\n",
       "      <td>99625000</td>\n",
       "      <td>1376482.000563</td>\n",
       "      <td>631494.824726</td>\n",
       "      <td>2007976.82529</td>\n",
       "      <td>208512.650601</td>\n",
       "    </tr>\n",
       "    <tr>\n",
       "      <th>2664</th>\n",
       "      <td>5</td>\n",
       "      <td>Смидовичский</td>\n",
       "      <td>99630000</td>\n",
       "      <td>2521536.697083</td>\n",
       "      <td>1738144.137262</td>\n",
       "      <td>4259680.834345</td>\n",
       "      <td>177946.396288</td>\n",
       "    </tr>\n",
       "    <tr>\n",
       "      <th>2665</th>\n",
       "      <td>NaN</td>\n",
       "      <td>Городские округа</td>\n",
       "      <td>99700000</td>\n",
       "      <td>16820048.787163</td>\n",
       "      <td>6161316.270227</td>\n",
       "      <td>22981365.05739</td>\n",
       "      <td>313200.025313</td>\n",
       "    </tr>\n",
       "    <tr>\n",
       "      <th>2666</th>\n",
       "      <td>1</td>\n",
       "      <td>г. Биробиджан</td>\n",
       "      <td>99701000</td>\n",
       "      <td>16820048.787163</td>\n",
       "      <td>6161316.270227</td>\n",
       "      <td>22981365.05739</td>\n",
       "      <td>313200.025313</td>\n",
       "    </tr>\n",
       "  </tbody>\n",
       "</table>\n",
       "</div>"
      ],
      "text/plain": [
       "     Unnamed: 0                     Unnamed: 1 Unnamed: 2       Unnamed: 3  \\\n",
       "2657        NaN                            NaN        NaN              NaN   \n",
       "2658        NaN  Еврейская автономная область          99              NaN   \n",
       "2659        NaN          Муниципальные районы    99600000  12568118.212837   \n",
       "2660          1                Биробиджанский    99605000   1091896.525415   \n",
       "2661          2                     Ленинский    99610000   1980212.587744   \n",
       "2662          3                   Облученский    99620000   5597990.402031   \n",
       "2663          4                   Октябрьский    99625000   1376482.000563   \n",
       "2664          5                  Смидовичский    99630000   2521536.697083   \n",
       "2665        NaN              Городские округа    99700000  16820048.787163   \n",
       "2666          1                  г. Биробиджан   99701000  16820048.787163   \n",
       "\n",
       "          Unnamed: 4       Unnamed: 5     Unnamed: 6  \n",
       "2657             NaN              NaN            NaN  \n",
       "2658             NaN              NaN            NaN  \n",
       "2659  6114883.226784  18683001.439621  213305.492072  \n",
       "2660   784342.556083   1876239.081499   167851.05399  \n",
       "2661   983554.236092   2963766.823836  168261.997493  \n",
       "2662   1977347.47262   7575337.874651  300275.006923  \n",
       "2663   631494.824726    2007976.82529  208512.650601  \n",
       "2664  1738144.137262   4259680.834345  177946.396288  \n",
       "2665  6161316.270227   22981365.05739  313200.025313  \n",
       "2666  6161316.270227   22981365.05739  313200.025313  "
      ]
     },
     "execution_count": 328,
     "metadata": {},
     "output_type": "execute_result"
    }
   ],
   "source": [
    "income_transferts_2018_raw.tail(10)"
   ]
  },
  {
   "cell_type": "code",
   "execution_count": 329,
   "id": "e0b60eb8-0814-45b9-9b61-7f22dcc4e902",
   "metadata": {},
   "outputs": [],
   "source": [
    "income_transferts_2018 = income_transferts_2018_raw.copy()"
   ]
  },
  {
   "cell_type": "markdown",
   "id": "b2073eb9-d8b4-4677-9d1d-7542c6eaad0c",
   "metadata": {},
   "source": [
    "##### Rename columns and drop useless"
   ]
  },
  {
   "cell_type": "code",
   "execution_count": 330,
   "id": "aa4bd450-d050-48b3-99f1-ba9dba41b579",
   "metadata": {},
   "outputs": [],
   "source": [
    "income_transferts_2018_columns = [\n",
    "    '-', 'index1', 'ОКТМО', 'Доходы', 'Социальные выплаты',\n",
    "    'Суммарные выплаты', 'Выплаты на 1 чел.'\n",
    "]"
   ]
  },
  {
   "cell_type": "code",
   "execution_count": 331,
   "id": "b8f85180-f0d5-4993-9f11-184fd75f06b9",
   "metadata": {},
   "outputs": [],
   "source": [
    "income_transferts_2018.columns = income_transferts_2018_columns"
   ]
  },
  {
   "cell_type": "code",
   "execution_count": 332,
   "id": "d701f9a4-c179-46b4-a945-f86a7e3e9bce",
   "metadata": {},
   "outputs": [],
   "source": [
    "# drop useless columns with name '-'\n",
    "income_transferts_2018 = income_transferts_2018.drop('-', axis=1)"
   ]
  },
  {
   "cell_type": "markdown",
   "id": "94109700-fe8c-4030-8365-bbb8491d0736",
   "metadata": {},
   "source": [
    "##### Cut rows and drop NaNs"
   ]
  },
  {
   "cell_type": "code",
   "execution_count": 333,
   "id": "335d7f7b-dc4c-49ce-9461-43f2eadf9072",
   "metadata": {},
   "outputs": [],
   "source": [
    "# cut rows\n",
    "income_transferts_2018 = transform_cut_rows(income_transferts_2018, 4, 0)"
   ]
  },
  {
   "cell_type": "code",
   "execution_count": 334,
   "id": "12f77c51-3fae-47e8-aff5-dc6e472eef93",
   "metadata": {},
   "outputs": [],
   "source": [
    "# drop rows with NaNs in 'index0' column\n",
    "income_transferts_2018 = \\\n",
    "    income_transferts_2018[income_transferts_2018['index1'].notna()]"
   ]
  },
  {
   "cell_type": "markdown",
   "id": "9c26312b-391d-4e0b-a809-daa90ce556fb",
   "metadata": {},
   "source": [
    "##### Normalize OKTMO"
   ]
  },
  {
   "cell_type": "code",
   "execution_count": 335,
   "id": "0877bb6d-3314-43a9-922b-092600cb32e0",
   "metadata": {},
   "outputs": [],
   "source": [
    "# make OKTMO column values str\n",
    "income_transferts_2018['ОКТМО'] = income_transferts_2018['ОКТМО'].astype(str)"
   ]
  },
  {
   "cell_type": "code",
   "execution_count": 336,
   "id": "006a5006-639f-4ee1-8d9d-fb6cee32c98c",
   "metadata": {},
   "outputs": [],
   "source": [
    "# normalize oktmo - remove spaces and other dirt\n",
    "income_transferts_2018['ОКТМО'] = \\\n",
    "    income_transferts_2018['ОКТМО'].apply(lambda x: normalize_oktmo(x))"
   ]
  },
  {
   "cell_type": "markdown",
   "id": "da6378bb-383a-46aa-aa66-8f9e91ab0eaf",
   "metadata": {},
   "source": [
    "##### Level0 for Multiindex"
   ]
  },
  {
   "cell_type": "code",
   "execution_count": 337,
   "id": "98c3a2d0-2852-436f-9c9c-96131994c769",
   "metadata": {},
   "outputs": [],
   "source": [
    "# create index level0 column\n",
    "income_transferts_2018['index0'] = np.NaN"
   ]
  },
  {
   "cell_type": "code",
   "execution_count": 338,
   "id": "6affcd9d-4f69-46a1-a197-fc90d8024236",
   "metadata": {},
   "outputs": [],
   "source": [
    "# fill in by region with OKTMO in OKTMO column\n",
    "income_transferts_2018 = (income_transferts_2018\n",
    "                          .assign(index0=income_transferts_2018['ОКТМО']\n",
    "                                  .map(region_oktmo_norm_dict_sorted)\n",
    "                                  .fillna(income_transferts_2018['index0'])))"
   ]
  },
  {
   "cell_type": "code",
   "execution_count": 339,
   "id": "bbb8ce5d-cdda-4fdd-808c-74c83f974d92",
   "metadata": {},
   "outputs": [],
   "source": [
    "# 1) 'Архангельская область' and \n",
    "# 'Ненецкий автономный округ (Архангельская область)' have the same OKTMO == 11\n",
    "# 2) 'Ненецкий автономный округ (Архангельская область)' index allways greater than index of \n",
    "# 'Архангельская область'\n",
    "# knowing this, we replace duplicate 'Архангельская область' by 'Ненецкий автономный округ (Архангельская область)'\n",
    "income_transferts_2018 = normalize_nenec(income_transferts_2018, 'index0')"
   ]
  },
  {
   "cell_type": "code",
   "execution_count": 340,
   "id": "5a2f5c92-2314-45dd-8454-5ec6baf8cfcd",
   "metadata": {},
   "outputs": [],
   "source": [
    "# the same correction for 'Тюменская область'\n",
    "income_transferts_2018 = normalize_khantymanci(income_transferts_2018, 'index0')"
   ]
  },
  {
   "cell_type": "code",
   "execution_count": 341,
   "id": "da1a8bab-f13a-4c51-a537-d60dcafa8f70",
   "metadata": {},
   "outputs": [],
   "source": [
    "# fill '-' values in index0 column\n",
    "income_transferts_2018 = transform_fill_values_by_previous(\n",
    "    income_transferts_2018, kind='column', column_name='index0')"
   ]
  },
  {
   "cell_type": "markdown",
   "id": "99e6acf5-e8a4-4a9f-944a-0e90bbdb2ba5",
   "metadata": {},
   "source": [
    "##### Level1 for Multiindex"
   ]
  },
  {
   "cell_type": "code",
   "execution_count": 342,
   "id": "f9aefde2-d6a7-4480-9f5b-f54d5482f988",
   "metadata": {},
   "outputs": [],
   "source": [
    "# change region name in 'index1' column to 'Всего'\n",
    "income_transferts_2018['index1'] = income_transferts_2018.apply(\n",
    "    lambda x: transferts_various(x['ОКТМО'], x['index1']), axis=1)"
   ]
  },
  {
   "cell_type": "code",
   "execution_count": 343,
   "id": "25a3c131-7273-4e73-a5b1-890e9cac1aec",
   "metadata": {},
   "outputs": [],
   "source": [
    "# normalize 'Муниципальные районы' and 'Гордские округа' - remove spaces and other dirt\n",
    "income_transferts_2018['index1'] = \\\n",
    "    income_transferts_2018['index1'].apply(lambda x: normalize_municipal_town(x))"
   ]
  },
  {
   "cell_type": "markdown",
   "id": "76075886-127a-4c99-a3dc-06708b3776fb",
   "metadata": {},
   "source": [
    "##### Fill rows with sum ('Всего')"
   ]
  },
  {
   "cell_type": "code",
   "execution_count": 344,
   "id": "1486aeab-1e80-4938-9c6e-037c576bf929",
   "metadata": {},
   "outputs": [],
   "source": [
    "# columns for sum of 'Муниципальные районы' and 'Городские округа'\n",
    "columns_summary2012 = [\n",
    "    'Доходы', 'Социальные выплаты', 'Суммарные выплаты', 'Выплаты на 1 чел.']"
   ]
  },
  {
   "cell_type": "code",
   "execution_count": 345,
   "id": "60d50fb0-c576-4d55-bc34-7409f1796f4f",
   "metadata": {},
   "outputs": [],
   "source": [
    "# create regions list\n",
    "regions_list2012 = list(set(income_transferts_2018['index0']))\n",
    "regions_list2012.sort()"
   ]
  },
  {
   "cell_type": "code",
   "execution_count": 346,
   "id": "27b034c8-8cb8-4721-a1d9-cbac39417488",
   "metadata": {},
   "outputs": [
    {
     "name": "stdout",
     "output_type": "stream",
     "text": [
      "Region Санкт-Петербург not in \"Minucipal-Town Dictionary\"\n"
     ]
    }
   ],
   "source": [
    "# count sum of 'Муниципальные районы' and 'Городские округа'\n",
    "income_transferts_2018 = calculate_sum_transferts(\n",
    "    data=income_transferts_2018,\n",
    "    columns=columns_summary2012,\n",
    "    regions=regions_list2012,\n",
    "    mapping_dict=municipal_town_dict)"
   ]
  },
  {
   "cell_type": "markdown",
   "id": "018a2f60-c69d-43ba-be51-4f7b96fc8f38",
   "metadata": {},
   "source": [
    "##### Count Regions"
   ]
  },
  {
   "cell_type": "code",
   "execution_count": 347,
   "id": "e686568c-87f0-4e2d-b8d1-58517b50b72a",
   "metadata": {},
   "outputs": [
    {
     "data": {
      "text/plain": [
       "83"
      ]
     },
     "execution_count": 347,
     "metadata": {},
     "output_type": "execute_result"
    }
   ],
   "source": [
    "# count regions\n",
    "regions_count2012 = len(set(income_transferts_2018['index0'].values))\n",
    "regions_count2012"
   ]
  },
  {
   "cell_type": "markdown",
   "id": "5e9b8436-73ef-4de5-bd97-3f781848c946",
   "metadata": {},
   "source": [
    "##### Create Multiindex"
   ]
  },
  {
   "cell_type": "code",
   "execution_count": 348,
   "id": "8d3a7734-97a5-46c1-b0a9-0001559619a7",
   "metadata": {},
   "outputs": [],
   "source": [
    "# columns to multiindex\n",
    "income_transferts_2018 = transform_make_index_from_columns(\n",
    "    income_transferts_2018, ['index0', 'index1'])"
   ]
  },
  {
   "cell_type": "code",
   "execution_count": 349,
   "id": "43247309-9100-4cc5-ab87-bd2daa029906",
   "metadata": {},
   "outputs": [],
   "source": [
    "# drop columns, that became multiindexes\n",
    "income_transferts_2018 = income_transferts_2018.drop(['index0', 'index1'], axis=1)"
   ]
  },
  {
   "cell_type": "markdown",
   "id": "157e7fef-09f3-47a2-b4d7-a6a593a759f6",
   "metadata": {},
   "source": [
    "##### Round (one symbol)"
   ]
  },
  {
   "cell_type": "code",
   "execution_count": 350,
   "id": "c7153e9c-f4f7-4a40-882e-6d97b794c0fb",
   "metadata": {},
   "outputs": [],
   "source": [
    "# round\n",
    "for column in income_transferts_2018.columns:\n",
    "    try:\n",
    "        income_transferts_2018[column] = \\\n",
    "            income_transferts_2018[column].astype(float).round(1)\n",
    "    except ValueError:\n",
    "        pass"
   ]
  },
  {
   "cell_type": "markdown",
   "id": "26c0ad25-f7dd-46f0-ac05-b22fea8acee0",
   "metadata": {},
   "source": [
    "##### <font color='#2A5899'>2016 Check for Discrepancy</font>"
   ]
  },
  {
   "cell_type": "code",
   "execution_count": 351,
   "id": "ac9d5388-089b-490e-baa8-d06a1c963984",
   "metadata": {},
   "outputs": [
    {
     "data": {
      "text/plain": [
       "False"
      ]
     },
     "execution_count": 351,
     "metadata": {},
     "output_type": "execute_result"
    }
   ],
   "source": [
    "# OKTMO check for NaN\n",
    "income_transferts_2018[income_transferts_2018['ОКТМО'].isna()].any().any()"
   ]
  },
  {
   "cell_type": "code",
   "execution_count": 352,
   "id": "339fb870-e84b-4db5-a5ec-65e57aedb123",
   "metadata": {},
   "outputs": [
    {
     "data": {
      "text/plain": [
       "True"
      ]
     },
     "execution_count": 352,
     "metadata": {},
     "output_type": "execute_result"
    }
   ],
   "source": [
    "# all data check for NaN\n",
    "income_transferts_2018[income_transferts_2018.isna().any(axis=1)].any().any()"
   ]
  },
  {
   "cell_type": "code",
   "execution_count": 353,
   "id": "146bcbd6-03d6-4f74-a5dd-e3ecf6f047d7",
   "metadata": {},
   "outputs": [
    {
     "data": {
      "text/html": [
       "<div>\n",
       "<style scoped>\n",
       "    .dataframe tbody tr th:only-of-type {\n",
       "        vertical-align: middle;\n",
       "    }\n",
       "\n",
       "    .dataframe tbody tr th {\n",
       "        vertical-align: top;\n",
       "    }\n",
       "\n",
       "    .dataframe thead th {\n",
       "        text-align: right;\n",
       "    }\n",
       "</style>\n",
       "<table border=\"1\" class=\"dataframe\">\n",
       "  <thead>\n",
       "    <tr style=\"text-align: right;\">\n",
       "      <th></th>\n",
       "      <th></th>\n",
       "      <th>ОКТМО</th>\n",
       "      <th>Доходы</th>\n",
       "      <th>Социальные выплаты</th>\n",
       "      <th>Суммарные выплаты</th>\n",
       "      <th>Выплаты на 1 чел.</th>\n",
       "    </tr>\n",
       "  </thead>\n",
       "  <tbody>\n",
       "  </tbody>\n",
       "</table>\n",
       "</div>"
      ],
      "text/plain": [
       "Empty DataFrame\n",
       "Columns: [ОКТМО, Доходы, Социальные выплаты, Суммарные выплаты, Выплаты на 1 чел.]\n",
       "Index: []"
      ]
     },
     "execution_count": 353,
     "metadata": {},
     "output_type": "execute_result"
    }
   ],
   "source": [
    "income_transferts_2018[income_transferts_2018['Доходы'] == 0]"
   ]
  },
  {
   "cell_type": "code",
   "execution_count": 354,
   "id": "8d255cc2-4b13-4299-9a74-65f8c08de1c8",
   "metadata": {},
   "outputs": [
    {
     "data": {
      "text/html": [
       "<div>\n",
       "<style scoped>\n",
       "    .dataframe tbody tr th:only-of-type {\n",
       "        vertical-align: middle;\n",
       "    }\n",
       "\n",
       "    .dataframe tbody tr th {\n",
       "        vertical-align: top;\n",
       "    }\n",
       "\n",
       "    .dataframe thead th {\n",
       "        text-align: right;\n",
       "    }\n",
       "</style>\n",
       "<table border=\"1\" class=\"dataframe\">\n",
       "  <thead>\n",
       "    <tr style=\"text-align: right;\">\n",
       "      <th></th>\n",
       "      <th></th>\n",
       "      <th>ОКТМО</th>\n",
       "      <th>Доходы</th>\n",
       "      <th>Социальные выплаты</th>\n",
       "      <th>Суммарные выплаты</th>\n",
       "      <th>Выплаты на 1 чел.</th>\n",
       "    </tr>\n",
       "  </thead>\n",
       "  <tbody>\n",
       "  </tbody>\n",
       "</table>\n",
       "</div>"
      ],
      "text/plain": [
       "Empty DataFrame\n",
       "Columns: [ОКТМО, Доходы, Социальные выплаты, Суммарные выплаты, Выплаты на 1 чел.]\n",
       "Index: []"
      ]
     },
     "execution_count": 354,
     "metadata": {},
     "output_type": "execute_result"
    }
   ],
   "source": [
    "income_transferts_2018[income_transferts_2018['Социальные выплаты'] == 0]"
   ]
  },
  {
   "cell_type": "code",
   "execution_count": 355,
   "id": "f07b01f2-3d74-49ba-9224-6e63203e46b0",
   "metadata": {},
   "outputs": [
    {
     "data": {
      "text/html": [
       "<div>\n",
       "<style scoped>\n",
       "    .dataframe tbody tr th:only-of-type {\n",
       "        vertical-align: middle;\n",
       "    }\n",
       "\n",
       "    .dataframe tbody tr th {\n",
       "        vertical-align: top;\n",
       "    }\n",
       "\n",
       "    .dataframe thead th {\n",
       "        text-align: right;\n",
       "    }\n",
       "</style>\n",
       "<table border=\"1\" class=\"dataframe\">\n",
       "  <thead>\n",
       "    <tr style=\"text-align: right;\">\n",
       "      <th></th>\n",
       "      <th></th>\n",
       "      <th>ОКТМО</th>\n",
       "      <th>Доходы</th>\n",
       "      <th>Социальные выплаты</th>\n",
       "      <th>Суммарные выплаты</th>\n",
       "      <th>Выплаты на 1 чел.</th>\n",
       "    </tr>\n",
       "  </thead>\n",
       "  <tbody>\n",
       "  </tbody>\n",
       "</table>\n",
       "</div>"
      ],
      "text/plain": [
       "Empty DataFrame\n",
       "Columns: [ОКТМО, Доходы, Социальные выплаты, Суммарные выплаты, Выплаты на 1 чел.]\n",
       "Index: []"
      ]
     },
     "execution_count": 355,
     "metadata": {},
     "output_type": "execute_result"
    }
   ],
   "source": [
    "income_transferts_2018[income_transferts_2018['Суммарные выплаты'] == 0]"
   ]
  },
  {
   "cell_type": "code",
   "execution_count": 356,
   "id": "acd4f1da-91c7-4d1d-aa55-ee6db863fead",
   "metadata": {},
   "outputs": [
    {
     "data": {
      "text/html": [
       "<div>\n",
       "<style scoped>\n",
       "    .dataframe tbody tr th:only-of-type {\n",
       "        vertical-align: middle;\n",
       "    }\n",
       "\n",
       "    .dataframe tbody tr th {\n",
       "        vertical-align: top;\n",
       "    }\n",
       "\n",
       "    .dataframe thead th {\n",
       "        text-align: right;\n",
       "    }\n",
       "</style>\n",
       "<table border=\"1\" class=\"dataframe\">\n",
       "  <thead>\n",
       "    <tr style=\"text-align: right;\">\n",
       "      <th></th>\n",
       "      <th></th>\n",
       "      <th>ОКТМО</th>\n",
       "      <th>Доходы</th>\n",
       "      <th>Социальные выплаты</th>\n",
       "      <th>Суммарные выплаты</th>\n",
       "      <th>Выплаты на 1 чел.</th>\n",
       "    </tr>\n",
       "  </thead>\n",
       "  <tbody>\n",
       "  </tbody>\n",
       "</table>\n",
       "</div>"
      ],
      "text/plain": [
       "Empty DataFrame\n",
       "Columns: [ОКТМО, Доходы, Социальные выплаты, Суммарные выплаты, Выплаты на 1 чел.]\n",
       "Index: []"
      ]
     },
     "execution_count": 356,
     "metadata": {},
     "output_type": "execute_result"
    }
   ],
   "source": [
    "income_transferts_2018[income_transferts_2018['Выплаты на 1 чел.'] == 0]"
   ]
  },
  {
   "cell_type": "code",
   "execution_count": 357,
   "id": "9f8073ac-2153-45c4-be76-85f00da46449",
   "metadata": {},
   "outputs": [
    {
     "data": {
      "text/html": [
       "<div>\n",
       "<style scoped>\n",
       "    .dataframe tbody tr th:only-of-type {\n",
       "        vertical-align: middle;\n",
       "    }\n",
       "\n",
       "    .dataframe tbody tr th {\n",
       "        vertical-align: top;\n",
       "    }\n",
       "\n",
       "    .dataframe thead th {\n",
       "        text-align: right;\n",
       "    }\n",
       "</style>\n",
       "<table border=\"1\" class=\"dataframe\">\n",
       "  <thead>\n",
       "    <tr style=\"text-align: right;\">\n",
       "      <th></th>\n",
       "      <th></th>\n",
       "      <th>ОКТМО</th>\n",
       "      <th>Доходы</th>\n",
       "      <th>Социальные выплаты</th>\n",
       "      <th>Суммарные выплаты</th>\n",
       "      <th>Выплаты на 1 чел.</th>\n",
       "    </tr>\n",
       "  </thead>\n",
       "  <tbody>\n",
       "    <tr>\n",
       "      <th>Тюменская область</th>\n",
       "      <th>Всего</th>\n",
       "      <td>71</td>\n",
       "      <td>362880697.0</td>\n",
       "      <td>106125982.9</td>\n",
       "      <td>469006679.9</td>\n",
       "      <td>557018.6</td>\n",
       "    </tr>\n",
       "    <tr>\n",
       "      <th>Ханты-Мансийский автономный округ - Югра (Тюменская область)</th>\n",
       "      <th>Всего</th>\n",
       "      <td>71</td>\n",
       "      <td>795579169.3</td>\n",
       "      <td>170849001.9</td>\n",
       "      <td>966428171.2</td>\n",
       "      <td>1309106.1</td>\n",
       "    </tr>\n",
       "    <tr>\n",
       "      <th>Ямало-Ненецкий автономный округ (Тюменская область)</th>\n",
       "      <th>Всего</th>\n",
       "      <td>71</td>\n",
       "      <td>459337412.7</td>\n",
       "      <td>59484873.1</td>\n",
       "      <td>518822285.8</td>\n",
       "      <td>2172085.7</td>\n",
       "    </tr>\n",
       "  </tbody>\n",
       "</table>\n",
       "</div>"
      ],
      "text/plain": [
       "                                                         ОКТМО       Доходы  \\\n",
       "Тюменская область                                  Всего    71  362880697.0   \n",
       "Ханты-Мансийский автономный округ - Югра (Тюмен... Всего    71  795579169.3   \n",
       "Ямало-Ненецкий автономный округ (Тюменская обла... Всего    71  459337412.7   \n",
       "\n",
       "                                                          Социальные выплаты  \\\n",
       "Тюменская область                                  Всего         106125982.9   \n",
       "Ханты-Мансийский автономный округ - Югра (Тюмен... Всего         170849001.9   \n",
       "Ямало-Ненецкий автономный округ (Тюменская обла... Всего          59484873.1   \n",
       "\n",
       "                                                          Суммарные выплаты  \\\n",
       "Тюменская область                                  Всего        469006679.9   \n",
       "Ханты-Мансийский автономный округ - Югра (Тюмен... Всего        966428171.2   \n",
       "Ямало-Ненецкий автономный округ (Тюменская обла... Всего        518822285.8   \n",
       "\n",
       "                                                          Выплаты на 1 чел.  \n",
       "Тюменская область                                  Всего           557018.6  \n",
       "Ханты-Мансийский автономный округ - Югра (Тюмен... Всего          1309106.1  \n",
       "Ямало-Ненецкий автономный округ (Тюменская обла... Всего          2172085.7  "
      ]
     },
     "execution_count": 357,
     "metadata": {},
     "output_type": "execute_result"
    }
   ],
   "source": [
    "income_transferts_2018[income_transferts_2018['ОКТМО'] == '71']"
   ]
  },
  {
   "cell_type": "code",
   "execution_count": 358,
   "id": "deec16dc-abb8-41f3-8842-bdc499716f1a",
   "metadata": {},
   "outputs": [
    {
     "data": {
      "text/html": [
       "<div>\n",
       "<style scoped>\n",
       "    .dataframe tbody tr th:only-of-type {\n",
       "        vertical-align: middle;\n",
       "    }\n",
       "\n",
       "    .dataframe tbody tr th {\n",
       "        vertical-align: top;\n",
       "    }\n",
       "\n",
       "    .dataframe thead th {\n",
       "        text-align: right;\n",
       "    }\n",
       "</style>\n",
       "<table border=\"1\" class=\"dataframe\">\n",
       "  <thead>\n",
       "    <tr style=\"text-align: right;\">\n",
       "      <th></th>\n",
       "      <th></th>\n",
       "      <th>ОКТМО</th>\n",
       "      <th>Доходы</th>\n",
       "      <th>Социальные выплаты</th>\n",
       "      <th>Суммарные выплаты</th>\n",
       "      <th>Выплаты на 1 чел.</th>\n",
       "    </tr>\n",
       "  </thead>\n",
       "  <tbody>\n",
       "    <tr>\n",
       "      <th>Архангельская область</th>\n",
       "      <th>Всего</th>\n",
       "      <td>11</td>\n",
       "      <td>273905569.0</td>\n",
       "      <td>117547544.3</td>\n",
       "      <td>391453113.3</td>\n",
       "      <td>693277.8</td>\n",
       "    </tr>\n",
       "    <tr>\n",
       "      <th>Ненецкий автономный округ (Архангельская область)</th>\n",
       "      <th>Всего</th>\n",
       "      <td>11</td>\n",
       "      <td>34295455.4</td>\n",
       "      <td>7074370.1</td>\n",
       "      <td>41369825.4</td>\n",
       "      <td>1939209.3</td>\n",
       "    </tr>\n",
       "  </tbody>\n",
       "</table>\n",
       "</div>"
      ],
      "text/plain": [
       "                                                        ОКТМО       Доходы  \\\n",
       "Архангельская область                             Всего    11  273905569.0   \n",
       "Ненецкий автономный округ (Архангельская область) Всего    11   34295455.4   \n",
       "\n",
       "                                                         Социальные выплаты  \\\n",
       "Архангельская область                             Всего         117547544.3   \n",
       "Ненецкий автономный округ (Архангельская область) Всего           7074370.1   \n",
       "\n",
       "                                                         Суммарные выплаты  \\\n",
       "Архангельская область                             Всего        391453113.3   \n",
       "Ненецкий автономный округ (Архангельская область) Всего         41369825.4   \n",
       "\n",
       "                                                         Выплаты на 1 чел.  \n",
       "Архангельская область                             Всего           693277.8  \n",
       "Ненецкий автономный округ (Архангельская область) Всего          1939209.3  "
      ]
     },
     "execution_count": 358,
     "metadata": {},
     "output_type": "execute_result"
    }
   ],
   "source": [
    "income_transferts_2018[income_transferts_2018['ОКТМО'] == '11']"
   ]
  },
  {
   "cell_type": "code",
   "execution_count": 359,
   "id": "9f052e99-913d-40e2-86b1-db9c1f00f8b3",
   "metadata": {},
   "outputs": [
    {
     "data": {
      "text/plain": [
       "['Ростовская область']"
      ]
     },
     "execution_count": 359,
     "metadata": {},
     "output_type": "execute_result"
    }
   ],
   "source": [
    "# check if there are duplications in municipal, town and others OKTMO\n",
    "check_oktmo_2016_dupl_list = check_oktmo_duplication(\n",
    "    data=income_transferts_2018, \n",
    "    column_check='ОКТМО',\n",
    "    normalize_oktmo_list=municipal_town_dict)\n",
    "\n",
    "check_oktmo_2016_dupl_list"
   ]
  },
  {
   "cell_type": "code",
   "execution_count": 360,
   "id": "a8bf3c50-c4d4-49c7-83d8-d7c42afde14f",
   "metadata": {},
   "outputs": [
    {
     "data": {
      "text/html": [
       "<div>\n",
       "<style scoped>\n",
       "    .dataframe tbody tr th:only-of-type {\n",
       "        vertical-align: middle;\n",
       "    }\n",
       "\n",
       "    .dataframe tbody tr th {\n",
       "        vertical-align: top;\n",
       "    }\n",
       "\n",
       "    .dataframe thead th {\n",
       "        text-align: right;\n",
       "    }\n",
       "</style>\n",
       "<table border=\"1\" class=\"dataframe\">\n",
       "  <thead>\n",
       "    <tr style=\"text-align: right;\">\n",
       "      <th></th>\n",
       "      <th></th>\n",
       "      <th>ОКТМО</th>\n",
       "      <th>Доходы</th>\n",
       "      <th>Социальные выплаты</th>\n",
       "      <th>Суммарные выплаты</th>\n",
       "      <th>Выплаты на 1 чел.</th>\n",
       "    </tr>\n",
       "  </thead>\n",
       "  <tbody>\n",
       "    <tr>\n",
       "      <th rowspan=\"2\" valign=\"top\">Алтайский край</th>\n",
       "      <th>Муниципальные районы</th>\n",
       "      <td>01 600 000</td>\n",
       "      <td>79730737.8</td>\n",
       "      <td>77754431.4</td>\n",
       "      <td>157485169.2</td>\n",
       "      <td>149068.6</td>\n",
       "    </tr>\n",
       "    <tr>\n",
       "      <th>Городские округа</th>\n",
       "      <td>01 700 000</td>\n",
       "      <td>217344940.5</td>\n",
       "      <td>91732606.3</td>\n",
       "      <td>309077546.8</td>\n",
       "      <td>240529.9</td>\n",
       "    </tr>\n",
       "  </tbody>\n",
       "</table>\n",
       "</div>"
      ],
      "text/plain": [
       "                                          ОКТМО       Доходы  \\\n",
       "Алтайский край Муниципальные районы  01 600 000   79730737.8   \n",
       "               Городские округа      01 700 000  217344940.5   \n",
       "\n",
       "                                     Социальные выплаты  Суммарные выплаты  \\\n",
       "Алтайский край Муниципальные районы          77754431.4        157485169.2   \n",
       "               Городские округа              91732606.3        309077546.8   \n",
       "\n",
       "                                     Выплаты на 1 чел.  \n",
       "Алтайский край Муниципальные районы           149068.6  \n",
       "               Городские округа               240529.9  "
      ]
     },
     "execution_count": 360,
     "metadata": {},
     "output_type": "execute_result"
    }
   ],
   "source": [
    "(income_transferts_2018\n",
    " .loc[income_transferts_2018['ОКТМО']\n",
    " .isin(municipal_town_dict['Алтайский край'])])"
   ]
  },
  {
   "cell_type": "markdown",
   "id": "e10ae500-afb5-40fb-8b99-e273f8f913df",
   "metadata": {},
   "source": [
    "##### <font color='#2A5899'>2016 Final Result</font>"
   ]
  },
  {
   "cell_type": "code",
   "execution_count": 361,
   "id": "2cbed5fe-8da1-4596-b4f4-0f50250cfb91",
   "metadata": {},
   "outputs": [
    {
     "data": {
      "text/html": [
       "<div>\n",
       "<style scoped>\n",
       "    .dataframe tbody tr th:only-of-type {\n",
       "        vertical-align: middle;\n",
       "    }\n",
       "\n",
       "    .dataframe tbody tr th {\n",
       "        vertical-align: top;\n",
       "    }\n",
       "\n",
       "    .dataframe thead th {\n",
       "        text-align: right;\n",
       "    }\n",
       "</style>\n",
       "<table border=\"1\" class=\"dataframe\">\n",
       "  <thead>\n",
       "    <tr style=\"text-align: right;\">\n",
       "      <th></th>\n",
       "      <th></th>\n",
       "      <th>ОКТМО</th>\n",
       "      <th>Доходы</th>\n",
       "      <th>Социальные выплаты</th>\n",
       "      <th>Суммарные выплаты</th>\n",
       "      <th>Выплаты на 1 чел.</th>\n",
       "    </tr>\n",
       "  </thead>\n",
       "  <tbody>\n",
       "    <tr>\n",
       "      <th rowspan=\"5\" valign=\"top\">Алтайский край</th>\n",
       "      <th>Всего</th>\n",
       "      <td>01</td>\n",
       "      <td>297075678.3</td>\n",
       "      <td>169487037.7</td>\n",
       "      <td>466562716.0</td>\n",
       "      <td>389598.5</td>\n",
       "    </tr>\n",
       "    <tr>\n",
       "      <th>Муниципальные районы</th>\n",
       "      <td>01 600 000</td>\n",
       "      <td>79730737.8</td>\n",
       "      <td>77754431.4</td>\n",
       "      <td>157485169.2</td>\n",
       "      <td>149068.6</td>\n",
       "    </tr>\n",
       "    <tr>\n",
       "      <th>Алейский</th>\n",
       "      <td>01 601 000</td>\n",
       "      <td>1140899.0</td>\n",
       "      <td>930983.6</td>\n",
       "      <td>2071882.6</td>\n",
       "      <td>145548.5</td>\n",
       "    </tr>\n",
       "    <tr>\n",
       "      <th>Алтайский</th>\n",
       "      <td>01 602 000</td>\n",
       "      <td>1549957.7</td>\n",
       "      <td>1925262.1</td>\n",
       "      <td>3475219.7</td>\n",
       "      <td>134318.4</td>\n",
       "    </tr>\n",
       "    <tr>\n",
       "      <th>Баевский</th>\n",
       "      <td>01 603 000</td>\n",
       "      <td>711078.9</td>\n",
       "      <td>774420.9</td>\n",
       "      <td>1485499.8</td>\n",
       "      <td>162741.0</td>\n",
       "    </tr>\n",
       "  </tbody>\n",
       "</table>\n",
       "</div>"
      ],
      "text/plain": [
       "                                          ОКТМО       Доходы  \\\n",
       "Алтайский край Всего                         01  297075678.3   \n",
       "               Муниципальные районы  01 600 000   79730737.8   \n",
       "               Алейский              01 601 000    1140899.0   \n",
       "               Алтайский             01 602 000    1549957.7   \n",
       "               Баевский              01 603 000     711078.9   \n",
       "\n",
       "                                     Социальные выплаты  Суммарные выплаты  \\\n",
       "Алтайский край Всего                        169487037.7        466562716.0   \n",
       "               Муниципальные районы          77754431.4        157485169.2   \n",
       "               Алейский                        930983.6          2071882.6   \n",
       "               Алтайский                      1925262.1          3475219.7   \n",
       "               Баевский                        774420.9          1485499.8   \n",
       "\n",
       "                                     Выплаты на 1 чел.  \n",
       "Алтайский край Всего                          389598.5  \n",
       "               Муниципальные районы           149068.6  \n",
       "               Алейский                       145548.5  \n",
       "               Алтайский                      134318.4  \n",
       "               Баевский                       162741.0  "
      ]
     },
     "execution_count": 361,
     "metadata": {},
     "output_type": "execute_result"
    }
   ],
   "source": [
    "income_transferts_2018.head()"
   ]
  },
  {
   "cell_type": "code",
   "execution_count": 362,
   "id": "a5f44a91-bfca-4b7e-8f7f-068b387f513e",
   "metadata": {},
   "outputs": [
    {
     "data": {
      "text/html": [
       "<div>\n",
       "<style scoped>\n",
       "    .dataframe tbody tr th:only-of-type {\n",
       "        vertical-align: middle;\n",
       "    }\n",
       "\n",
       "    .dataframe tbody tr th {\n",
       "        vertical-align: top;\n",
       "    }\n",
       "\n",
       "    .dataframe thead th {\n",
       "        text-align: right;\n",
       "    }\n",
       "</style>\n",
       "<table border=\"1\" class=\"dataframe\">\n",
       "  <thead>\n",
       "    <tr style=\"text-align: right;\">\n",
       "      <th></th>\n",
       "      <th>ОКТМО</th>\n",
       "      <th>Доходы</th>\n",
       "      <th>Социальные выплаты</th>\n",
       "      <th>Суммарные выплаты</th>\n",
       "      <th>Выплаты на 1 чел.</th>\n",
       "    </tr>\n",
       "  </thead>\n",
       "  <tbody>\n",
       "    <tr>\n",
       "      <th>Всего</th>\n",
       "      <td>46</td>\n",
       "      <td>2062209378.2</td>\n",
       "      <td>628545704.8</td>\n",
       "      <td>2690755083.0</td>\n",
       "      <td>681857.2</td>\n",
       "    </tr>\n",
       "  </tbody>\n",
       "</table>\n",
       "</div>"
      ],
      "text/plain": [
       "      ОКТМО        Доходы Социальные выплаты Суммарные выплаты  \\\n",
       "Всего    46  2062209378.2        628545704.8      2690755083.0   \n",
       "\n",
       "      Выплаты на 1 чел.  \n",
       "Всего          681857.2  "
      ]
     },
     "execution_count": 362,
     "metadata": {},
     "output_type": "execute_result"
    }
   ],
   "source": [
    "get_data_two_level(\n",
    "    data=income_transferts_2018,\n",
    "    level0='Московская область',\n",
    "    level1='Всего',\n",
    "    kind='index')"
   ]
  },
  {
   "cell_type": "code",
   "execution_count": 363,
   "id": "037bb684-4568-44d0-ac32-8da4be73d702",
   "metadata": {},
   "outputs": [
    {
     "data": {
      "text/html": [
       "<div>\n",
       "<style scoped>\n",
       "    .dataframe tbody tr th:only-of-type {\n",
       "        vertical-align: middle;\n",
       "    }\n",
       "\n",
       "    .dataframe tbody tr th {\n",
       "        vertical-align: top;\n",
       "    }\n",
       "\n",
       "    .dataframe thead th {\n",
       "        text-align: right;\n",
       "    }\n",
       "</style>\n",
       "<table border=\"1\" class=\"dataframe\">\n",
       "  <thead>\n",
       "    <tr style=\"text-align: right;\">\n",
       "      <th></th>\n",
       "      <th>ОКТМО</th>\n",
       "      <th>Доходы</th>\n",
       "      <th>Социальные выплаты</th>\n",
       "      <th>Суммарные выплаты</th>\n",
       "      <th>Выплаты на 1 чел.</th>\n",
       "    </tr>\n",
       "  </thead>\n",
       "  <tbody>\n",
       "    <tr>\n",
       "      <th>Всего</th>\n",
       "      <td>11</td>\n",
       "      <td>34295455.4</td>\n",
       "      <td>7074370.1</td>\n",
       "      <td>41369825.4</td>\n",
       "      <td>1939209.3</td>\n",
       "    </tr>\n",
       "    <tr>\n",
       "      <th>Муниципальные районы</th>\n",
       "      <td>11 800 000</td>\n",
       "      <td>20023658.4</td>\n",
       "      <td>2567080.7</td>\n",
       "      <td>22590739.0</td>\n",
       "      <td>1182018.6</td>\n",
       "    </tr>\n",
       "    <tr>\n",
       "      <th>Заполярны йрайон</th>\n",
       "      <td>11 810 000</td>\n",
       "      <td>20023658.4</td>\n",
       "      <td>2567080.7</td>\n",
       "      <td>22590739.0</td>\n",
       "      <td>1182018.6</td>\n",
       "    </tr>\n",
       "    <tr>\n",
       "      <th>Городские округа</th>\n",
       "      <td>11 900 000</td>\n",
       "      <td>14271797.0</td>\n",
       "      <td>4507289.4</td>\n",
       "      <td>18779086.4</td>\n",
       "      <td>757190.7</td>\n",
       "    </tr>\n",
       "    <tr>\n",
       "      <th>г.Нарьян-Мар</th>\n",
       "      <td>11 850 000</td>\n",
       "      <td>14271797.0</td>\n",
       "      <td>4507289.4</td>\n",
       "      <td>18779086.4</td>\n",
       "      <td>757190.7</td>\n",
       "    </tr>\n",
       "  </tbody>\n",
       "</table>\n",
       "</div>"
      ],
      "text/plain": [
       "                           ОКТМО      Доходы  Социальные выплаты  \\\n",
       "Всего                         11  34295455.4           7074370.1   \n",
       "Муниципальные районы  11 800 000  20023658.4           2567080.7   \n",
       "Заполярны йрайон      11 810 000  20023658.4           2567080.7   \n",
       "Городские округа      11 900 000  14271797.0           4507289.4   \n",
       "г.Нарьян-Мар          11 850 000  14271797.0           4507289.4   \n",
       "\n",
       "                      Суммарные выплаты  Выплаты на 1 чел.  \n",
       "Всего                        41369825.4          1939209.3  \n",
       "Муниципальные районы         22590739.0          1182018.6  \n",
       "Заполярны йрайон             22590739.0          1182018.6  \n",
       "Городские округа             18779086.4           757190.7  \n",
       "г.Нарьян-Мар                 18779086.4           757190.7  "
      ]
     },
     "execution_count": 363,
     "metadata": {},
     "output_type": "execute_result"
    }
   ],
   "source": [
    "income_transferts_2018.loc['Ненецкий автономный округ (Архангельская область)']"
   ]
  },
  {
   "cell_type": "code",
   "execution_count": 364,
   "id": "9fba3465-c1e3-4243-8fa3-0551163038fd",
   "metadata": {},
   "outputs": [],
   "source": [
    "datasets_list.append(income_transferts_2018)"
   ]
  },
  {
   "cell_type": "markdown",
   "id": "9f4de405-1743-488c-bbff-f872ba6665f8",
   "metadata": {},
   "source": [
    "#### <font color='#AF4035'>2019 год</font>"
   ]
  },
  {
   "cell_type": "markdown",
   "id": "2ab4ab0f-1f71-4288-b375-c390a546a9e5",
   "metadata": {},
   "source": [
    "##### Regions OKTMO codes"
   ]
  },
  {
   "cell_type": "code",
   "execution_count": 365,
   "id": "21b56073-a049-45c5-88f7-4e0cb616f892",
   "metadata": {},
   "outputs": [],
   "source": [
    "path_2019 = \\\n",
    "    ('/Users/a.chasovsky/Library/CloudStorage/GoogleDrive-alexanderchasovsky@gmail.com/'\n",
    "     'Мой диск/Data Science Projects/pers_economics_rus/data/00-Region-codes/')\n",
    "os.chdir(path_2019)\n",
    "%run 2019.ipynb\n",
    "os.chdir(current_path)"
   ]
  },
  {
   "attachments": {},
   "cell_type": "markdown",
   "id": "cf46c063-3fff-4601-9971-94a3d33c1140",
   "metadata": {},
   "source": [
    "##### Исправления:\n",
    "- Магаданская область: '44 000 000' -> '44'"
   ]
  },
  {
   "cell_type": "markdown",
   "id": "9b349125-8d6a-4e98-beb9-df38277fb236",
   "metadata": {},
   "source": [
    "##### Data"
   ]
  },
  {
   "cell_type": "code",
   "execution_count": 366,
   "id": "3964a261-ebd9-4d95-9924-d78199e390ad",
   "metadata": {},
   "outputs": [],
   "source": [
    "income_transferts_2019_link = \\\n",
    "    ('data/02-Population/02-Standard-of-living/01-Income/'\n",
    "     'urov-14a2019.xls')"
   ]
  },
  {
   "cell_type": "code",
   "execution_count": 367,
   "id": "12fd5097-c004-4b3b-9444-e631ee6b7bba",
   "metadata": {},
   "outputs": [],
   "source": [
    "income_transferts_2019_raw = pd.read_excel(income_transferts_2019_link)"
   ]
  },
  {
   "cell_type": "code",
   "execution_count": 368,
   "id": "3fd14a53-7b10-4e67-aab4-6e6adedcf943",
   "metadata": {},
   "outputs": [
    {
     "data": {
      "text/html": [
       "<div>\n",
       "<style scoped>\n",
       "    .dataframe tbody tr th:only-of-type {\n",
       "        vertical-align: middle;\n",
       "    }\n",
       "\n",
       "    .dataframe tbody tr th {\n",
       "        vertical-align: top;\n",
       "    }\n",
       "\n",
       "    .dataframe thead th {\n",
       "        text-align: right;\n",
       "    }\n",
       "</style>\n",
       "<table border=\"1\" class=\"dataframe\">\n",
       "  <thead>\n",
       "    <tr style=\"text-align: right;\">\n",
       "      <th></th>\n",
       "      <th>Unnamed: 0</th>\n",
       "      <th>Unnamed: 1</th>\n",
       "      <th>Unnamed: 2</th>\n",
       "      <th>Unnamed: 3</th>\n",
       "      <th>Unnamed: 4</th>\n",
       "      <th>Unnamed: 5</th>\n",
       "      <th>Unnamed: 6</th>\n",
       "    </tr>\n",
       "  </thead>\n",
       "  <tbody>\n",
       "    <tr>\n",
       "      <th>0</th>\n",
       "      <td>\"Объем социальных выплат населению и налогооб...</td>\n",
       "      <td>NaN</td>\n",
       "      <td>NaN</td>\n",
       "      <td>NaN</td>\n",
       "      <td>NaN</td>\n",
       "      <td>NaN</td>\n",
       "      <td>NaN</td>\n",
       "    </tr>\n",
       "    <tr>\n",
       "      <th>1</th>\n",
       "      <td>NaN</td>\n",
       "      <td>NaN</td>\n",
       "      <td>NaN</td>\n",
       "      <td>NaN</td>\n",
       "      <td>NaN</td>\n",
       "      <td>NaN</td>\n",
       "      <td>NaN</td>\n",
       "    </tr>\n",
       "    <tr>\n",
       "      <th>2</th>\n",
       "      <td>NaN</td>\n",
       "      <td>NaN</td>\n",
       "      <td>Код ОКТМО</td>\n",
       "      <td>Налогооблагаемые денежные доходы физических ли...</td>\n",
       "      <td>Социальные и другие выплаты, тыс.рублей</td>\n",
       "      <td>Объем социальных выплат населению и налогообла...</td>\n",
       "      <td>Объем социальных выплат и налогооблагаемых ден...</td>\n",
       "    </tr>\n",
       "    <tr>\n",
       "      <th>3</th>\n",
       "      <td>NaN</td>\n",
       "      <td>NaN</td>\n",
       "      <td>1</td>\n",
       "      <td>2</td>\n",
       "      <td>3</td>\n",
       "      <td>4</td>\n",
       "      <td>5</td>\n",
       "    </tr>\n",
       "    <tr>\n",
       "      <th>4</th>\n",
       "      <td>NaN</td>\n",
       "      <td>Алтайский край</td>\n",
       "      <td>01</td>\n",
       "      <td>NaN</td>\n",
       "      <td>NaN</td>\n",
       "      <td>NaN</td>\n",
       "      <td>NaN</td>\n",
       "    </tr>\n",
       "    <tr>\n",
       "      <th>5</th>\n",
       "      <td>NaN</td>\n",
       "      <td>Муниципальные районы</td>\n",
       "      <td>01 600 000</td>\n",
       "      <td>87555253.578974</td>\n",
       "      <td>81599427.089409</td>\n",
       "      <td>169154680.668383</td>\n",
       "      <td>162270.983286</td>\n",
       "    </tr>\n",
       "    <tr>\n",
       "      <th>6</th>\n",
       "      <td>1</td>\n",
       "      <td>Алейский</td>\n",
       "      <td>1601000</td>\n",
       "      <td>1456673.759432</td>\n",
       "      <td>991512.965766</td>\n",
       "      <td>2448186.725198</td>\n",
       "      <td>176496.772057</td>\n",
       "    </tr>\n",
       "    <tr>\n",
       "      <th>7</th>\n",
       "      <td>2</td>\n",
       "      <td>Алтайский</td>\n",
       "      <td>1602000</td>\n",
       "      <td>1596343.617729</td>\n",
       "      <td>1819335.140655</td>\n",
       "      <td>3415678.758384</td>\n",
       "      <td>131884.580809</td>\n",
       "    </tr>\n",
       "    <tr>\n",
       "      <th>8</th>\n",
       "      <td>3</td>\n",
       "      <td>Баевский</td>\n",
       "      <td>1603000</td>\n",
       "      <td>848164.137064</td>\n",
       "      <td>828642.90007</td>\n",
       "      <td>1676807.037133</td>\n",
       "      <td>187814.408281</td>\n",
       "    </tr>\n",
       "    <tr>\n",
       "      <th>9</th>\n",
       "      <td>4</td>\n",
       "      <td>Бийский</td>\n",
       "      <td>1604000</td>\n",
       "      <td>2194324.400856</td>\n",
       "      <td>2381892.414764</td>\n",
       "      <td>4576216.81562</td>\n",
       "      <td>147273.092898</td>\n",
       "    </tr>\n",
       "  </tbody>\n",
       "</table>\n",
       "</div>"
      ],
      "text/plain": [
       "                                          Unnamed: 0             Unnamed: 1  \\\n",
       "0   \"Объем социальных выплат населению и налогооб...                    NaN   \n",
       "1                                                NaN                    NaN   \n",
       "2                                                NaN                    NaN   \n",
       "3                                                NaN                    NaN   \n",
       "4                                                NaN         Алтайский край   \n",
       "5                                                NaN  Муниципальные районы    \n",
       "6                                                  1               Алейский   \n",
       "7                                                  2              Алтайский   \n",
       "8                                                  3               Баевский   \n",
       "9                                                  4                Бийский   \n",
       "\n",
       "   Unnamed: 2                                         Unnamed: 3  \\\n",
       "0         NaN                                                NaN   \n",
       "1         NaN                                                NaN   \n",
       "2   Код ОКТМО  Налогооблагаемые денежные доходы физических ли...   \n",
       "3           1                                                  2   \n",
       "4          01                                                NaN   \n",
       "5  01 600 000                                    87555253.578974   \n",
       "6     1601000                                     1456673.759432   \n",
       "7     1602000                                     1596343.617729   \n",
       "8     1603000                                      848164.137064   \n",
       "9     1604000                                     2194324.400856   \n",
       "\n",
       "                                Unnamed: 4  \\\n",
       "0                                      NaN   \n",
       "1                                      NaN   \n",
       "2  Социальные и другие выплаты, тыс.рублей   \n",
       "3                                        3   \n",
       "4                                      NaN   \n",
       "5                          81599427.089409   \n",
       "6                            991512.965766   \n",
       "7                           1819335.140655   \n",
       "8                             828642.90007   \n",
       "9                           2381892.414764   \n",
       "\n",
       "                                          Unnamed: 5  \\\n",
       "0                                                NaN   \n",
       "1                                                NaN   \n",
       "2  Объем социальных выплат населению и налогообла...   \n",
       "3                                                  4   \n",
       "4                                                NaN   \n",
       "5                                   169154680.668383   \n",
       "6                                     2448186.725198   \n",
       "7                                     3415678.758384   \n",
       "8                                     1676807.037133   \n",
       "9                                      4576216.81562   \n",
       "\n",
       "                                          Unnamed: 6  \n",
       "0                                                NaN  \n",
       "1                                                NaN  \n",
       "2  Объем социальных выплат и налогооблагаемых ден...  \n",
       "3                                                  5  \n",
       "4                                                NaN  \n",
       "5                                      162270.983286  \n",
       "6                                      176496.772057  \n",
       "7                                      131884.580809  \n",
       "8                                      187814.408281  \n",
       "9                                      147273.092898  "
      ]
     },
     "execution_count": 368,
     "metadata": {},
     "output_type": "execute_result"
    }
   ],
   "source": [
    "income_transferts_2019_raw.head(10)"
   ]
  },
  {
   "cell_type": "code",
   "execution_count": 369,
   "id": "f73afa17-e1f5-43ab-a26f-acf36e5b0505",
   "metadata": {},
   "outputs": [
    {
     "data": {
      "text/html": [
       "<div>\n",
       "<style scoped>\n",
       "    .dataframe tbody tr th:only-of-type {\n",
       "        vertical-align: middle;\n",
       "    }\n",
       "\n",
       "    .dataframe tbody tr th {\n",
       "        vertical-align: top;\n",
       "    }\n",
       "\n",
       "    .dataframe thead th {\n",
       "        text-align: right;\n",
       "    }\n",
       "</style>\n",
       "<table border=\"1\" class=\"dataframe\">\n",
       "  <thead>\n",
       "    <tr style=\"text-align: right;\">\n",
       "      <th></th>\n",
       "      <th>Unnamed: 0</th>\n",
       "      <th>Unnamed: 1</th>\n",
       "      <th>Unnamed: 2</th>\n",
       "      <th>Unnamed: 3</th>\n",
       "      <th>Unnamed: 4</th>\n",
       "      <th>Unnamed: 5</th>\n",
       "      <th>Unnamed: 6</th>\n",
       "    </tr>\n",
       "  </thead>\n",
       "  <tbody>\n",
       "    <tr>\n",
       "      <th>2636</th>\n",
       "      <td>NaN</td>\n",
       "      <td>NaN</td>\n",
       "      <td>NaN</td>\n",
       "      <td>NaN</td>\n",
       "      <td>NaN</td>\n",
       "      <td>NaN</td>\n",
       "      <td>NaN</td>\n",
       "    </tr>\n",
       "    <tr>\n",
       "      <th>2637</th>\n",
       "      <td>NaN</td>\n",
       "      <td>Еврейская автономная область</td>\n",
       "      <td>99</td>\n",
       "      <td>NaN</td>\n",
       "      <td>NaN</td>\n",
       "      <td>NaN</td>\n",
       "      <td>NaN</td>\n",
       "    </tr>\n",
       "    <tr>\n",
       "      <th>2638</th>\n",
       "      <td>NaN</td>\n",
       "      <td>Муниципальные районы</td>\n",
       "      <td>99600000</td>\n",
       "      <td>13521287</td>\n",
       "      <td>6526101.95676</td>\n",
       "      <td>20047388.95676</td>\n",
       "      <td>231432.632866</td>\n",
       "    </tr>\n",
       "    <tr>\n",
       "      <th>2639</th>\n",
       "      <td>1</td>\n",
       "      <td>Биробиджанский</td>\n",
       "      <td>99605000</td>\n",
       "      <td>1170077.7</td>\n",
       "      <td>892138.331706</td>\n",
       "      <td>2062216.031706</td>\n",
       "      <td>186659.669778</td>\n",
       "    </tr>\n",
       "    <tr>\n",
       "      <th>2640</th>\n",
       "      <td>2</td>\n",
       "      <td>Ленинский</td>\n",
       "      <td>99610000</td>\n",
       "      <td>1823731.4</td>\n",
       "      <td>1057618.213701</td>\n",
       "      <td>2881349.613701</td>\n",
       "      <td>164338.653608</td>\n",
       "    </tr>\n",
       "    <tr>\n",
       "      <th>2641</th>\n",
       "      <td>3</td>\n",
       "      <td>Облученский</td>\n",
       "      <td>99620000</td>\n",
       "      <td>6376265.5</td>\n",
       "      <td>2093230.836635</td>\n",
       "      <td>8469496.336635</td>\n",
       "      <td>340852.235055</td>\n",
       "    </tr>\n",
       "    <tr>\n",
       "      <th>2642</th>\n",
       "      <td>4</td>\n",
       "      <td>Октябрьский</td>\n",
       "      <td>99625000</td>\n",
       "      <td>1252798.9</td>\n",
       "      <td>701527.180169</td>\n",
       "      <td>1954326.080169</td>\n",
       "      <td>205913.610807</td>\n",
       "    </tr>\n",
       "    <tr>\n",
       "      <th>2643</th>\n",
       "      <td>5</td>\n",
       "      <td>Смидовичский</td>\n",
       "      <td>99630000</td>\n",
       "      <td>2898413.5</td>\n",
       "      <td>1781587.394549</td>\n",
       "      <td>4680000.894549</td>\n",
       "      <td>197443.39934</td>\n",
       "    </tr>\n",
       "    <tr>\n",
       "      <th>2644</th>\n",
       "      <td>NaN</td>\n",
       "      <td>Городские округа</td>\n",
       "      <td>99700000</td>\n",
       "      <td>17402772</td>\n",
       "      <td>6586773.02324</td>\n",
       "      <td>23989545.02324</td>\n",
       "      <td>330954.184577</td>\n",
       "    </tr>\n",
       "    <tr>\n",
       "      <th>2645</th>\n",
       "      <td>1</td>\n",
       "      <td>г. Биробиджан</td>\n",
       "      <td>99701000</td>\n",
       "      <td>17402772</td>\n",
       "      <td>6586773.02324</td>\n",
       "      <td>23989545.02324</td>\n",
       "      <td>330954.184577</td>\n",
       "    </tr>\n",
       "  </tbody>\n",
       "</table>\n",
       "</div>"
      ],
      "text/plain": [
       "     Unnamed: 0                     Unnamed: 1 Unnamed: 2 Unnamed: 3  \\\n",
       "2636        NaN                            NaN        NaN        NaN   \n",
       "2637        NaN  Еврейская автономная область          99        NaN   \n",
       "2638        NaN          Муниципальные районы    99600000   13521287   \n",
       "2639          1                Биробиджанский    99605000  1170077.7   \n",
       "2640          2                     Ленинский    99610000  1823731.4   \n",
       "2641          3                   Облученский    99620000  6376265.5   \n",
       "2642          4                   Октябрьский    99625000  1252798.9   \n",
       "2643          5                  Смидовичский    99630000  2898413.5   \n",
       "2644        NaN              Городские округа    99700000   17402772   \n",
       "2645          1                  г. Биробиджан   99701000   17402772   \n",
       "\n",
       "          Unnamed: 4      Unnamed: 5     Unnamed: 6  \n",
       "2636             NaN             NaN            NaN  \n",
       "2637             NaN             NaN            NaN  \n",
       "2638   6526101.95676  20047388.95676  231432.632866  \n",
       "2639   892138.331706  2062216.031706  186659.669778  \n",
       "2640  1057618.213701  2881349.613701  164338.653608  \n",
       "2641  2093230.836635  8469496.336635  340852.235055  \n",
       "2642   701527.180169  1954326.080169  205913.610807  \n",
       "2643  1781587.394549  4680000.894549   197443.39934  \n",
       "2644   6586773.02324  23989545.02324  330954.184577  \n",
       "2645   6586773.02324  23989545.02324  330954.184577  "
      ]
     },
     "execution_count": 369,
     "metadata": {},
     "output_type": "execute_result"
    }
   ],
   "source": [
    "income_transferts_2019_raw.tail(10)"
   ]
  },
  {
   "cell_type": "code",
   "execution_count": 370,
   "id": "0825788b-6b74-4e7d-a1b2-9495c7a2ace1",
   "metadata": {},
   "outputs": [],
   "source": [
    "income_transferts_2019 = income_transferts_2019_raw.copy()"
   ]
  },
  {
   "cell_type": "markdown",
   "id": "fc3b769f-1f38-450a-88bd-3ce004e7724b",
   "metadata": {},
   "source": [
    "##### Rename columns and drop useless"
   ]
  },
  {
   "cell_type": "code",
   "execution_count": 371,
   "id": "75f754b5-ff0b-4449-a376-91cdfad9aca7",
   "metadata": {},
   "outputs": [],
   "source": [
    "income_transferts_2019_columns = [\n",
    "    '-', 'index1', 'ОКТМО', 'Доходы', 'Социальные выплаты',\n",
    "    'Суммарные выплаты', 'Выплаты на 1 чел.'\n",
    "]"
   ]
  },
  {
   "cell_type": "code",
   "execution_count": 372,
   "id": "dcbd77f1-2831-4beb-a8ee-e5754ce9fbf6",
   "metadata": {},
   "outputs": [],
   "source": [
    "income_transferts_2019.columns = income_transferts_2019_columns"
   ]
  },
  {
   "cell_type": "code",
   "execution_count": 373,
   "id": "e811e11f-096a-4859-8326-896dca2682f1",
   "metadata": {},
   "outputs": [],
   "source": [
    "# drop useless columns with name '-'\n",
    "income_transferts_2019 = income_transferts_2019.drop('-', axis=1)"
   ]
  },
  {
   "cell_type": "markdown",
   "id": "0d1095ce-8adf-4a9f-b174-165cdc8a548f",
   "metadata": {},
   "source": [
    "##### Cut rows and drop NaNs"
   ]
  },
  {
   "cell_type": "code",
   "execution_count": 374,
   "id": "16163db9-663c-4d4e-b206-e2f8690672fb",
   "metadata": {},
   "outputs": [],
   "source": [
    "# cut rows\n",
    "income_transferts_2019 = transform_cut_rows(income_transferts_2019, 4, 0)"
   ]
  },
  {
   "cell_type": "code",
   "execution_count": 375,
   "id": "84b334fb-b966-4662-bf65-c738b3ff1751",
   "metadata": {},
   "outputs": [],
   "source": [
    "# drop rows with NaNs in 'index0' column\n",
    "income_transferts_2019 = \\\n",
    "    income_transferts_2019[income_transferts_2019['index1'].notna()]"
   ]
  },
  {
   "cell_type": "markdown",
   "id": "7f0e0872-784d-4800-818d-1c08d8b5bb66",
   "metadata": {},
   "source": [
    "##### Normalize OKTMO"
   ]
  },
  {
   "cell_type": "code",
   "execution_count": 376,
   "id": "c55b5aa1-e79c-4c54-bd48-235bf21a6944",
   "metadata": {},
   "outputs": [],
   "source": [
    "# make OKTMO column values str\n",
    "income_transferts_2019['ОКТМО'] = income_transferts_2019['ОКТМО'].astype(str)"
   ]
  },
  {
   "cell_type": "code",
   "execution_count": 377,
   "id": "2a453226-0803-4102-bd2f-027d20374a48",
   "metadata": {},
   "outputs": [],
   "source": [
    "# normalize oktmo - remove spaces and other dirt\n",
    "income_transferts_2019['ОКТМО'] = \\\n",
    "    income_transferts_2019['ОКТМО'].apply(lambda x: normalize_oktmo(x))"
   ]
  },
  {
   "cell_type": "markdown",
   "id": "dc5ea4ee-ff48-4436-ab54-b65047a953bf",
   "metadata": {},
   "source": [
    "##### Level0 for Multiindex"
   ]
  },
  {
   "cell_type": "code",
   "execution_count": 378,
   "id": "83762e88-768a-4e1c-a95d-2e1249333d8d",
   "metadata": {},
   "outputs": [],
   "source": [
    "# create index level0 column\n",
    "income_transferts_2019['index0'] = np.NaN"
   ]
  },
  {
   "cell_type": "code",
   "execution_count": 379,
   "id": "0a62cc06-6d82-46bc-bd3f-e2433cf32303",
   "metadata": {},
   "outputs": [],
   "source": [
    "# fill in by region with OKTMO in OKTMO column\n",
    "income_transferts_2019 = (income_transferts_2019\n",
    "                          .assign(index0=income_transferts_2019['ОКТМО']\n",
    "                                  .map(region_oktmo_norm_dict_sorted)\n",
    "                                  .fillna(income_transferts_2019['index0'])))"
   ]
  },
  {
   "cell_type": "code",
   "execution_count": 380,
   "id": "d0bcf4a0-3b77-482e-89c7-e734e658e905",
   "metadata": {},
   "outputs": [],
   "source": [
    "# 1) 'Архангельская область' and \n",
    "# 'Ненецкий автономный округ (Архангельская область)' have the same OKTMO == 11\n",
    "# 2) 'Ненецкий автономный округ (Архангельская область)' index allways greater than index of \n",
    "# 'Архангельская область'\n",
    "# knowing this, we replace duplicate 'Архангельская область' by 'Ненецкий автономный округ (Архангельская область)'\n",
    "income_transferts_2019 = normalize_nenec(income_transferts_2019, 'index0')"
   ]
  },
  {
   "cell_type": "code",
   "execution_count": 381,
   "id": "19a89631-2bd1-4858-b052-677d026696b6",
   "metadata": {},
   "outputs": [],
   "source": [
    "# the same correction for 'Тюменская область'\n",
    "income_transferts_2019 = normalize_khantymanci(income_transferts_2019, 'index0')"
   ]
  },
  {
   "cell_type": "code",
   "execution_count": 382,
   "id": "893b5df0-4d1f-43ba-a8ea-132f2cfaae7f",
   "metadata": {},
   "outputs": [],
   "source": [
    "# fill '-' values in index0 column\n",
    "income_transferts_2019 = transform_fill_values_by_previous(\n",
    "    income_transferts_2019, kind='column', column_name='index0')"
   ]
  },
  {
   "cell_type": "markdown",
   "id": "da850493-ba58-4562-b506-9aa8f398097d",
   "metadata": {},
   "source": [
    "##### Level1 for Multiindex"
   ]
  },
  {
   "cell_type": "code",
   "execution_count": 383,
   "id": "51be5a23-2400-4365-b006-757bf2a3e79a",
   "metadata": {},
   "outputs": [],
   "source": [
    "# change region name in 'index1' column to 'Всего'\n",
    "income_transferts_2019['index1'] = income_transferts_2019.apply(\n",
    "    lambda x: transferts_various(x['ОКТМО'], x['index1']), axis=1)"
   ]
  },
  {
   "cell_type": "code",
   "execution_count": 384,
   "id": "f60434ac-fc7f-4d88-978c-182aade7a05f",
   "metadata": {},
   "outputs": [],
   "source": [
    "# normalize 'Муниципальные районы' and 'Гордские округа' - remove spaces and other dirt\n",
    "income_transferts_2019['index1'] = \\\n",
    "    income_transferts_2019['index1'].apply(lambda x: normalize_municipal_town(x))"
   ]
  },
  {
   "cell_type": "markdown",
   "id": "0e89a352-e65c-40a8-a718-fe73db528490",
   "metadata": {},
   "source": [
    "##### Fill rows with sum ('Всего')"
   ]
  },
  {
   "cell_type": "code",
   "execution_count": 385,
   "id": "514740dc-6248-4bd0-88f4-c4f4b3c7aaaa",
   "metadata": {},
   "outputs": [],
   "source": [
    "# columns for sum of 'Муниципальные районы' and 'Городские округа'\n",
    "columns_summary2012 = [\n",
    "    'Доходы', 'Социальные выплаты', 'Суммарные выплаты', 'Выплаты на 1 чел.']"
   ]
  },
  {
   "cell_type": "code",
   "execution_count": 386,
   "id": "8b034956-46cb-4acf-b142-7db08ab3f158",
   "metadata": {},
   "outputs": [],
   "source": [
    "# create regions list\n",
    "regions_list2012 = list(set(income_transferts_2019['index0']))\n",
    "regions_list2012.sort()"
   ]
  },
  {
   "cell_type": "code",
   "execution_count": 387,
   "id": "f9a9cb72-8d94-492b-a82d-c144a98f8a93",
   "metadata": {},
   "outputs": [
    {
     "name": "stdout",
     "output_type": "stream",
     "text": [
      "Region Санкт-Петербург not in \"Minucipal-Town Dictionary\"\n"
     ]
    }
   ],
   "source": [
    "# count sum of 'Муниципальные районы' and 'Городские округа'\n",
    "income_transferts_2019 = calculate_sum_transferts(\n",
    "    data=income_transferts_2019,\n",
    "    columns=columns_summary2012,\n",
    "    regions=regions_list2012,\n",
    "    mapping_dict=municipal_town_dict)"
   ]
  },
  {
   "cell_type": "markdown",
   "id": "5ac2a132-24e8-4464-845b-1d8271771fb7",
   "metadata": {},
   "source": [
    "##### Count Regions"
   ]
  },
  {
   "cell_type": "code",
   "execution_count": 388,
   "id": "bae1d326-07c5-4b8e-8c14-37d76a39ce04",
   "metadata": {},
   "outputs": [
    {
     "data": {
      "text/plain": [
       "83"
      ]
     },
     "execution_count": 388,
     "metadata": {},
     "output_type": "execute_result"
    }
   ],
   "source": [
    "# count regions\n",
    "regions_count2012 = len(set(income_transferts_2019['index0'].values))\n",
    "regions_count2012"
   ]
  },
  {
   "cell_type": "markdown",
   "id": "4c985d95-6c25-4dab-ba14-f16c5e1825d0",
   "metadata": {},
   "source": [
    "##### Create Multiindex"
   ]
  },
  {
   "cell_type": "code",
   "execution_count": 389,
   "id": "ac9bcc03-e4c7-431b-ac45-e7d5996e25fe",
   "metadata": {},
   "outputs": [],
   "source": [
    "# columns to multiindex\n",
    "income_transferts_2019 = transform_make_index_from_columns(\n",
    "    income_transferts_2019, ['index0', 'index1'])"
   ]
  },
  {
   "cell_type": "code",
   "execution_count": 390,
   "id": "a11fc7d2-60f9-4049-9494-2cdfe746c10b",
   "metadata": {},
   "outputs": [],
   "source": [
    "# drop columns, that became multiindexes\n",
    "income_transferts_2019 = income_transferts_2019.drop(['index0', 'index1'], axis=1)"
   ]
  },
  {
   "cell_type": "markdown",
   "id": "422af404-2cfb-45ec-89fd-7ddf7fa42cdd",
   "metadata": {},
   "source": [
    "##### Round (one symbol)"
   ]
  },
  {
   "cell_type": "code",
   "execution_count": 391,
   "id": "7c08a279-e03e-4411-946b-1f6d19bef581",
   "metadata": {},
   "outputs": [],
   "source": [
    "# round\n",
    "for column in income_transferts_2019.columns:\n",
    "    try:\n",
    "        income_transferts_2019[column] = \\\n",
    "            income_transferts_2019[column].astype(float).round(1)\n",
    "    except ValueError:\n",
    "        pass"
   ]
  },
  {
   "cell_type": "markdown",
   "id": "5ead0bef-d232-4b92-9e83-29d70ceb0fb0",
   "metadata": {},
   "source": [
    "##### <font color='#2A5899'>2016 Check for Discrepancy</font>"
   ]
  },
  {
   "cell_type": "code",
   "execution_count": 392,
   "id": "a1c90eca-7806-4816-be5d-3b1e2d09cb65",
   "metadata": {},
   "outputs": [
    {
     "data": {
      "text/plain": [
       "False"
      ]
     },
     "execution_count": 392,
     "metadata": {},
     "output_type": "execute_result"
    }
   ],
   "source": [
    "# OKTMO check for NaN\n",
    "income_transferts_2019[income_transferts_2019['ОКТМО'].isna()].any().any()"
   ]
  },
  {
   "cell_type": "code",
   "execution_count": 393,
   "id": "861d9301-8efb-417d-bb5b-75ba5a25c7df",
   "metadata": {},
   "outputs": [
    {
     "data": {
      "text/plain": [
       "True"
      ]
     },
     "execution_count": 393,
     "metadata": {},
     "output_type": "execute_result"
    }
   ],
   "source": [
    "# all data check for NaN\n",
    "income_transferts_2019[income_transferts_2019.isna().any(axis=1)].any().any()"
   ]
  },
  {
   "cell_type": "code",
   "execution_count": 394,
   "id": "1412131e-6490-4112-9eb4-d13d4b2aa666",
   "metadata": {},
   "outputs": [
    {
     "data": {
      "text/html": [
       "<div>\n",
       "<style scoped>\n",
       "    .dataframe tbody tr th:only-of-type {\n",
       "        vertical-align: middle;\n",
       "    }\n",
       "\n",
       "    .dataframe tbody tr th {\n",
       "        vertical-align: top;\n",
       "    }\n",
       "\n",
       "    .dataframe thead th {\n",
       "        text-align: right;\n",
       "    }\n",
       "</style>\n",
       "<table border=\"1\" class=\"dataframe\">\n",
       "  <thead>\n",
       "    <tr style=\"text-align: right;\">\n",
       "      <th></th>\n",
       "      <th></th>\n",
       "      <th>ОКТМО</th>\n",
       "      <th>Доходы</th>\n",
       "      <th>Социальные выплаты</th>\n",
       "      <th>Суммарные выплаты</th>\n",
       "      <th>Выплаты на 1 чел.</th>\n",
       "    </tr>\n",
       "  </thead>\n",
       "  <tbody>\n",
       "  </tbody>\n",
       "</table>\n",
       "</div>"
      ],
      "text/plain": [
       "Empty DataFrame\n",
       "Columns: [ОКТМО, Доходы, Социальные выплаты, Суммарные выплаты, Выплаты на 1 чел.]\n",
       "Index: []"
      ]
     },
     "execution_count": 394,
     "metadata": {},
     "output_type": "execute_result"
    }
   ],
   "source": [
    "income_transferts_2019[income_transferts_2019['Доходы'] == 0]"
   ]
  },
  {
   "cell_type": "code",
   "execution_count": 395,
   "id": "121f9c2f-8498-4025-8d64-66877416798d",
   "metadata": {},
   "outputs": [
    {
     "data": {
      "text/html": [
       "<div>\n",
       "<style scoped>\n",
       "    .dataframe tbody tr th:only-of-type {\n",
       "        vertical-align: middle;\n",
       "    }\n",
       "\n",
       "    .dataframe tbody tr th {\n",
       "        vertical-align: top;\n",
       "    }\n",
       "\n",
       "    .dataframe thead th {\n",
       "        text-align: right;\n",
       "    }\n",
       "</style>\n",
       "<table border=\"1\" class=\"dataframe\">\n",
       "  <thead>\n",
       "    <tr style=\"text-align: right;\">\n",
       "      <th></th>\n",
       "      <th></th>\n",
       "      <th>ОКТМО</th>\n",
       "      <th>Доходы</th>\n",
       "      <th>Социальные выплаты</th>\n",
       "      <th>Суммарные выплаты</th>\n",
       "      <th>Выплаты на 1 чел.</th>\n",
       "    </tr>\n",
       "  </thead>\n",
       "  <tbody>\n",
       "  </tbody>\n",
       "</table>\n",
       "</div>"
      ],
      "text/plain": [
       "Empty DataFrame\n",
       "Columns: [ОКТМО, Доходы, Социальные выплаты, Суммарные выплаты, Выплаты на 1 чел.]\n",
       "Index: []"
      ]
     },
     "execution_count": 395,
     "metadata": {},
     "output_type": "execute_result"
    }
   ],
   "source": [
    "income_transferts_2019[income_transferts_2019['Социальные выплаты'] == 0]"
   ]
  },
  {
   "cell_type": "code",
   "execution_count": 396,
   "id": "d226dfb4-508c-43cf-90dd-149a1970e791",
   "metadata": {},
   "outputs": [
    {
     "data": {
      "text/html": [
       "<div>\n",
       "<style scoped>\n",
       "    .dataframe tbody tr th:only-of-type {\n",
       "        vertical-align: middle;\n",
       "    }\n",
       "\n",
       "    .dataframe tbody tr th {\n",
       "        vertical-align: top;\n",
       "    }\n",
       "\n",
       "    .dataframe thead th {\n",
       "        text-align: right;\n",
       "    }\n",
       "</style>\n",
       "<table border=\"1\" class=\"dataframe\">\n",
       "  <thead>\n",
       "    <tr style=\"text-align: right;\">\n",
       "      <th></th>\n",
       "      <th></th>\n",
       "      <th>ОКТМО</th>\n",
       "      <th>Доходы</th>\n",
       "      <th>Социальные выплаты</th>\n",
       "      <th>Суммарные выплаты</th>\n",
       "      <th>Выплаты на 1 чел.</th>\n",
       "    </tr>\n",
       "  </thead>\n",
       "  <tbody>\n",
       "  </tbody>\n",
       "</table>\n",
       "</div>"
      ],
      "text/plain": [
       "Empty DataFrame\n",
       "Columns: [ОКТМО, Доходы, Социальные выплаты, Суммарные выплаты, Выплаты на 1 чел.]\n",
       "Index: []"
      ]
     },
     "execution_count": 396,
     "metadata": {},
     "output_type": "execute_result"
    }
   ],
   "source": [
    "income_transferts_2019[income_transferts_2019['Суммарные выплаты'] == 0]"
   ]
  },
  {
   "cell_type": "code",
   "execution_count": 397,
   "id": "b702a6f3-8d0d-4ce9-b8b3-ee7539f7c0b8",
   "metadata": {},
   "outputs": [
    {
     "data": {
      "text/html": [
       "<div>\n",
       "<style scoped>\n",
       "    .dataframe tbody tr th:only-of-type {\n",
       "        vertical-align: middle;\n",
       "    }\n",
       "\n",
       "    .dataframe tbody tr th {\n",
       "        vertical-align: top;\n",
       "    }\n",
       "\n",
       "    .dataframe thead th {\n",
       "        text-align: right;\n",
       "    }\n",
       "</style>\n",
       "<table border=\"1\" class=\"dataframe\">\n",
       "  <thead>\n",
       "    <tr style=\"text-align: right;\">\n",
       "      <th></th>\n",
       "      <th></th>\n",
       "      <th>ОКТМО</th>\n",
       "      <th>Доходы</th>\n",
       "      <th>Социальные выплаты</th>\n",
       "      <th>Суммарные выплаты</th>\n",
       "      <th>Выплаты на 1 чел.</th>\n",
       "    </tr>\n",
       "  </thead>\n",
       "  <tbody>\n",
       "  </tbody>\n",
       "</table>\n",
       "</div>"
      ],
      "text/plain": [
       "Empty DataFrame\n",
       "Columns: [ОКТМО, Доходы, Социальные выплаты, Суммарные выплаты, Выплаты на 1 чел.]\n",
       "Index: []"
      ]
     },
     "execution_count": 397,
     "metadata": {},
     "output_type": "execute_result"
    }
   ],
   "source": [
    "income_transferts_2019[income_transferts_2019['Выплаты на 1 чел.'] == 0]"
   ]
  },
  {
   "cell_type": "code",
   "execution_count": 398,
   "id": "55c6ebda-3f85-43ea-980a-2ce5f70f2ef4",
   "metadata": {},
   "outputs": [
    {
     "data": {
      "text/html": [
       "<div>\n",
       "<style scoped>\n",
       "    .dataframe tbody tr th:only-of-type {\n",
       "        vertical-align: middle;\n",
       "    }\n",
       "\n",
       "    .dataframe tbody tr th {\n",
       "        vertical-align: top;\n",
       "    }\n",
       "\n",
       "    .dataframe thead th {\n",
       "        text-align: right;\n",
       "    }\n",
       "</style>\n",
       "<table border=\"1\" class=\"dataframe\">\n",
       "  <thead>\n",
       "    <tr style=\"text-align: right;\">\n",
       "      <th></th>\n",
       "      <th></th>\n",
       "      <th>ОКТМО</th>\n",
       "      <th>Доходы</th>\n",
       "      <th>Социальные выплаты</th>\n",
       "      <th>Суммарные выплаты</th>\n",
       "      <th>Выплаты на 1 чел.</th>\n",
       "    </tr>\n",
       "  </thead>\n",
       "  <tbody>\n",
       "    <tr>\n",
       "      <th>Тюменская область</th>\n",
       "      <th>Всего</th>\n",
       "      <td>71</td>\n",
       "      <td>399692830.4</td>\n",
       "      <td>115110090.3</td>\n",
       "      <td>5.148029e+08</td>\n",
       "      <td>600785.8</td>\n",
       "    </tr>\n",
       "    <tr>\n",
       "      <th>Ханты-Мансийский автономный округ - Югра (Тюменская область)</th>\n",
       "      <th>Всего</th>\n",
       "      <td>71</td>\n",
       "      <td>858195228.5</td>\n",
       "      <td>180597145.4</td>\n",
       "      <td>1.038792e+09</td>\n",
       "      <td>1400606.8</td>\n",
       "    </tr>\n",
       "    <tr>\n",
       "      <th>Ямало-Ненецкий автономный округ (Тюменская область)</th>\n",
       "      <th>Всего</th>\n",
       "      <td>71</td>\n",
       "      <td>471454094.1</td>\n",
       "      <td>65782413.5</td>\n",
       "      <td>5.372365e+08</td>\n",
       "      <td>2229393.3</td>\n",
       "    </tr>\n",
       "  </tbody>\n",
       "</table>\n",
       "</div>"
      ],
      "text/plain": [
       "                                                         ОКТМО       Доходы  \\\n",
       "Тюменская область                                  Всего    71  399692830.4   \n",
       "Ханты-Мансийский автономный округ - Югра (Тюмен... Всего    71  858195228.5   \n",
       "Ямало-Ненецкий автономный округ (Тюменская обла... Всего    71  471454094.1   \n",
       "\n",
       "                                                          Социальные выплаты  \\\n",
       "Тюменская область                                  Всего         115110090.3   \n",
       "Ханты-Мансийский автономный округ - Югра (Тюмен... Всего         180597145.4   \n",
       "Ямало-Ненецкий автономный округ (Тюменская обла... Всего          65782413.5   \n",
       "\n",
       "                                                          Суммарные выплаты  \\\n",
       "Тюменская область                                  Всего       5.148029e+08   \n",
       "Ханты-Мансийский автономный округ - Югра (Тюмен... Всего       1.038792e+09   \n",
       "Ямало-Ненецкий автономный округ (Тюменская обла... Всего       5.372365e+08   \n",
       "\n",
       "                                                          Выплаты на 1 чел.  \n",
       "Тюменская область                                  Всего           600785.8  \n",
       "Ханты-Мансийский автономный округ - Югра (Тюмен... Всего          1400606.8  \n",
       "Ямало-Ненецкий автономный округ (Тюменская обла... Всего          2229393.3  "
      ]
     },
     "execution_count": 398,
     "metadata": {},
     "output_type": "execute_result"
    }
   ],
   "source": [
    "income_transferts_2019[income_transferts_2019['ОКТМО'] == '71']"
   ]
  },
  {
   "cell_type": "code",
   "execution_count": 399,
   "id": "a34bfe19-f392-41d6-8b7f-3f832c8796e9",
   "metadata": {},
   "outputs": [
    {
     "data": {
      "text/html": [
       "<div>\n",
       "<style scoped>\n",
       "    .dataframe tbody tr th:only-of-type {\n",
       "        vertical-align: middle;\n",
       "    }\n",
       "\n",
       "    .dataframe tbody tr th {\n",
       "        vertical-align: top;\n",
       "    }\n",
       "\n",
       "    .dataframe thead th {\n",
       "        text-align: right;\n",
       "    }\n",
       "</style>\n",
       "<table border=\"1\" class=\"dataframe\">\n",
       "  <thead>\n",
       "    <tr style=\"text-align: right;\">\n",
       "      <th></th>\n",
       "      <th></th>\n",
       "      <th>ОКТМО</th>\n",
       "      <th>Доходы</th>\n",
       "      <th>Социальные выплаты</th>\n",
       "      <th>Суммарные выплаты</th>\n",
       "      <th>Выплаты на 1 чел.</th>\n",
       "    </tr>\n",
       "  </thead>\n",
       "  <tbody>\n",
       "    <tr>\n",
       "      <th>Архангельская область</th>\n",
       "      <th>Всего</th>\n",
       "      <td>11</td>\n",
       "      <td>296658826.2</td>\n",
       "      <td>123841698.2</td>\n",
       "      <td>420500524.3</td>\n",
       "      <td>730442.7</td>\n",
       "    </tr>\n",
       "    <tr>\n",
       "      <th>Ненецкий автономный округ (Архангельская область)</th>\n",
       "      <th>Всего</th>\n",
       "      <td>11</td>\n",
       "      <td>35221374.0</td>\n",
       "      <td>7497958.2</td>\n",
       "      <td>42719332.2</td>\n",
       "      <td>2008437.5</td>\n",
       "    </tr>\n",
       "  </tbody>\n",
       "</table>\n",
       "</div>"
      ],
      "text/plain": [
       "                                                        ОКТМО       Доходы  \\\n",
       "Архангельская область                             Всего    11  296658826.2   \n",
       "Ненецкий автономный округ (Архангельская область) Всего    11   35221374.0   \n",
       "\n",
       "                                                         Социальные выплаты  \\\n",
       "Архангельская область                             Всего         123841698.2   \n",
       "Ненецкий автономный округ (Архангельская область) Всего           7497958.2   \n",
       "\n",
       "                                                         Суммарные выплаты  \\\n",
       "Архангельская область                             Всего        420500524.3   \n",
       "Ненецкий автономный округ (Архангельская область) Всего         42719332.2   \n",
       "\n",
       "                                                         Выплаты на 1 чел.  \n",
       "Архангельская область                             Всего           730442.7  \n",
       "Ненецкий автономный округ (Архангельская область) Всего          2008437.5  "
      ]
     },
     "execution_count": 399,
     "metadata": {},
     "output_type": "execute_result"
    }
   ],
   "source": [
    "income_transferts_2019[income_transferts_2019['ОКТМО'] == '11']"
   ]
  },
  {
   "cell_type": "code",
   "execution_count": 400,
   "id": "1bcaba2c-2bb3-488a-8624-daf2940c8df6",
   "metadata": {},
   "outputs": [
    {
     "data": {
      "text/plain": [
       "['Ростовская область']"
      ]
     },
     "execution_count": 400,
     "metadata": {},
     "output_type": "execute_result"
    }
   ],
   "source": [
    "# check if there are duplications in municipal, town and others OKTMO\n",
    "check_oktmo_2016_dupl_list = check_oktmo_duplication(\n",
    "    data=income_transferts_2019, \n",
    "    column_check='ОКТМО',\n",
    "    normalize_oktmo_list=municipal_town_dict)\n",
    "\n",
    "check_oktmo_2016_dupl_list"
   ]
  },
  {
   "cell_type": "code",
   "execution_count": 401,
   "id": "fc4ef960-ec9c-4539-bde6-681975ad8745",
   "metadata": {},
   "outputs": [
    {
     "data": {
      "text/html": [
       "<div>\n",
       "<style scoped>\n",
       "    .dataframe tbody tr th:only-of-type {\n",
       "        vertical-align: middle;\n",
       "    }\n",
       "\n",
       "    .dataframe tbody tr th {\n",
       "        vertical-align: top;\n",
       "    }\n",
       "\n",
       "    .dataframe thead th {\n",
       "        text-align: right;\n",
       "    }\n",
       "</style>\n",
       "<table border=\"1\" class=\"dataframe\">\n",
       "  <thead>\n",
       "    <tr style=\"text-align: right;\">\n",
       "      <th></th>\n",
       "      <th></th>\n",
       "      <th>ОКТМО</th>\n",
       "      <th>Доходы</th>\n",
       "      <th>Социальные выплаты</th>\n",
       "      <th>Суммарные выплаты</th>\n",
       "      <th>Выплаты на 1 чел.</th>\n",
       "    </tr>\n",
       "  </thead>\n",
       "  <tbody>\n",
       "    <tr>\n",
       "      <th rowspan=\"2\" valign=\"top\">Алтайский край</th>\n",
       "      <th>Муниципальные районы</th>\n",
       "      <td>01 600 000</td>\n",
       "      <td>87555253.6</td>\n",
       "      <td>81599427.1</td>\n",
       "      <td>169154680.7</td>\n",
       "      <td>162271.0</td>\n",
       "    </tr>\n",
       "    <tr>\n",
       "      <th>Городские округа</th>\n",
       "      <td>01 700 000</td>\n",
       "      <td>234061837.6</td>\n",
       "      <td>95459379.0</td>\n",
       "      <td>329521216.6</td>\n",
       "      <td>256924.2</td>\n",
       "    </tr>\n",
       "  </tbody>\n",
       "</table>\n",
       "</div>"
      ],
      "text/plain": [
       "                                          ОКТМО       Доходы  \\\n",
       "Алтайский край Муниципальные районы  01 600 000   87555253.6   \n",
       "               Городские округа      01 700 000  234061837.6   \n",
       "\n",
       "                                     Социальные выплаты  Суммарные выплаты  \\\n",
       "Алтайский край Муниципальные районы          81599427.1        169154680.7   \n",
       "               Городские округа              95459379.0        329521216.6   \n",
       "\n",
       "                                     Выплаты на 1 чел.  \n",
       "Алтайский край Муниципальные районы           162271.0  \n",
       "               Городские округа               256924.2  "
      ]
     },
     "execution_count": 401,
     "metadata": {},
     "output_type": "execute_result"
    }
   ],
   "source": [
    "(income_transferts_2019\n",
    " .loc[income_transferts_2019['ОКТМО']\n",
    " .isin(municipal_town_dict['Алтайский край'])])"
   ]
  },
  {
   "cell_type": "markdown",
   "id": "8de73771-eded-48c3-98c7-0d06a50911f6",
   "metadata": {},
   "source": [
    "##### <font color='#2A5899'>2016 Final Result</font>"
   ]
  },
  {
   "cell_type": "code",
   "execution_count": 402,
   "id": "e02ddbaf-ca3e-426c-90ea-f77307e7d576",
   "metadata": {},
   "outputs": [
    {
     "data": {
      "text/html": [
       "<div>\n",
       "<style scoped>\n",
       "    .dataframe tbody tr th:only-of-type {\n",
       "        vertical-align: middle;\n",
       "    }\n",
       "\n",
       "    .dataframe tbody tr th {\n",
       "        vertical-align: top;\n",
       "    }\n",
       "\n",
       "    .dataframe thead th {\n",
       "        text-align: right;\n",
       "    }\n",
       "</style>\n",
       "<table border=\"1\" class=\"dataframe\">\n",
       "  <thead>\n",
       "    <tr style=\"text-align: right;\">\n",
       "      <th></th>\n",
       "      <th></th>\n",
       "      <th>ОКТМО</th>\n",
       "      <th>Доходы</th>\n",
       "      <th>Социальные выплаты</th>\n",
       "      <th>Суммарные выплаты</th>\n",
       "      <th>Выплаты на 1 чел.</th>\n",
       "    </tr>\n",
       "  </thead>\n",
       "  <tbody>\n",
       "    <tr>\n",
       "      <th rowspan=\"5\" valign=\"top\">Алтайский край</th>\n",
       "      <th>Всего</th>\n",
       "      <td>01</td>\n",
       "      <td>321617091.2</td>\n",
       "      <td>177058806.1</td>\n",
       "      <td>498675897.3</td>\n",
       "      <td>419195.2</td>\n",
       "    </tr>\n",
       "    <tr>\n",
       "      <th>Муниципальные районы</th>\n",
       "      <td>01 600 000</td>\n",
       "      <td>87555253.6</td>\n",
       "      <td>81599427.1</td>\n",
       "      <td>169154680.7</td>\n",
       "      <td>162271.0</td>\n",
       "    </tr>\n",
       "    <tr>\n",
       "      <th>Алейский</th>\n",
       "      <td>01 601 000</td>\n",
       "      <td>1456673.8</td>\n",
       "      <td>991513.0</td>\n",
       "      <td>2448186.7</td>\n",
       "      <td>176496.8</td>\n",
       "    </tr>\n",
       "    <tr>\n",
       "      <th>Алтайский</th>\n",
       "      <td>01 602 000</td>\n",
       "      <td>1596343.6</td>\n",
       "      <td>1819335.1</td>\n",
       "      <td>3415678.8</td>\n",
       "      <td>131884.6</td>\n",
       "    </tr>\n",
       "    <tr>\n",
       "      <th>Баевский</th>\n",
       "      <td>01 603 000</td>\n",
       "      <td>848164.1</td>\n",
       "      <td>828642.9</td>\n",
       "      <td>1676807.0</td>\n",
       "      <td>187814.4</td>\n",
       "    </tr>\n",
       "  </tbody>\n",
       "</table>\n",
       "</div>"
      ],
      "text/plain": [
       "                                          ОКТМО       Доходы  \\\n",
       "Алтайский край Всего                         01  321617091.2   \n",
       "               Муниципальные районы  01 600 000   87555253.6   \n",
       "               Алейский              01 601 000    1456673.8   \n",
       "               Алтайский             01 602 000    1596343.6   \n",
       "               Баевский              01 603 000     848164.1   \n",
       "\n",
       "                                     Социальные выплаты  Суммарные выплаты  \\\n",
       "Алтайский край Всего                        177058806.1        498675897.3   \n",
       "               Муниципальные районы          81599427.1        169154680.7   \n",
       "               Алейский                        991513.0          2448186.7   \n",
       "               Алтайский                      1819335.1          3415678.8   \n",
       "               Баевский                        828642.9          1676807.0   \n",
       "\n",
       "                                     Выплаты на 1 чел.  \n",
       "Алтайский край Всего                          419195.2  \n",
       "               Муниципальные районы           162271.0  \n",
       "               Алейский                       176496.8  \n",
       "               Алтайский                      131884.6  \n",
       "               Баевский                       187814.4  "
      ]
     },
     "execution_count": 402,
     "metadata": {},
     "output_type": "execute_result"
    }
   ],
   "source": [
    "income_transferts_2019.head()"
   ]
  },
  {
   "cell_type": "code",
   "execution_count": 403,
   "id": "841a56c3-8c73-432c-907c-d264b80edb49",
   "metadata": {},
   "outputs": [
    {
     "data": {
      "text/html": [
       "<div>\n",
       "<style scoped>\n",
       "    .dataframe tbody tr th:only-of-type {\n",
       "        vertical-align: middle;\n",
       "    }\n",
       "\n",
       "    .dataframe tbody tr th {\n",
       "        vertical-align: top;\n",
       "    }\n",
       "\n",
       "    .dataframe thead th {\n",
       "        text-align: right;\n",
       "    }\n",
       "</style>\n",
       "<table border=\"1\" class=\"dataframe\">\n",
       "  <thead>\n",
       "    <tr style=\"text-align: right;\">\n",
       "      <th></th>\n",
       "      <th>ОКТМО</th>\n",
       "      <th>Доходы</th>\n",
       "      <th>Социальные выплаты</th>\n",
       "      <th>Суммарные выплаты</th>\n",
       "      <th>Выплаты на 1 чел.</th>\n",
       "    </tr>\n",
       "  </thead>\n",
       "  <tbody>\n",
       "    <tr>\n",
       "      <th>Всего</th>\n",
       "      <td>46</td>\n",
       "      <td>2450614543.0</td>\n",
       "      <td>653789986.9</td>\n",
       "      <td>3104404529.9</td>\n",
       "      <td>829543.6</td>\n",
       "    </tr>\n",
       "  </tbody>\n",
       "</table>\n",
       "</div>"
      ],
      "text/plain": [
       "      ОКТМО        Доходы Социальные выплаты Суммарные выплаты  \\\n",
       "Всего    46  2450614543.0        653789986.9      3104404529.9   \n",
       "\n",
       "      Выплаты на 1 чел.  \n",
       "Всего          829543.6  "
      ]
     },
     "execution_count": 403,
     "metadata": {},
     "output_type": "execute_result"
    }
   ],
   "source": [
    "get_data_two_level(\n",
    "    data=income_transferts_2019,\n",
    "    level0='Московская область',\n",
    "    level1='Всего',\n",
    "    kind='index')"
   ]
  },
  {
   "cell_type": "code",
   "execution_count": 404,
   "id": "c6ceb6ef-892d-4a1e-a38a-29e350e373f8",
   "metadata": {},
   "outputs": [
    {
     "data": {
      "text/html": [
       "<div>\n",
       "<style scoped>\n",
       "    .dataframe tbody tr th:only-of-type {\n",
       "        vertical-align: middle;\n",
       "    }\n",
       "\n",
       "    .dataframe tbody tr th {\n",
       "        vertical-align: top;\n",
       "    }\n",
       "\n",
       "    .dataframe thead th {\n",
       "        text-align: right;\n",
       "    }\n",
       "</style>\n",
       "<table border=\"1\" class=\"dataframe\">\n",
       "  <thead>\n",
       "    <tr style=\"text-align: right;\">\n",
       "      <th></th>\n",
       "      <th>ОКТМО</th>\n",
       "      <th>Доходы</th>\n",
       "      <th>Социальные выплаты</th>\n",
       "      <th>Суммарные выплаты</th>\n",
       "      <th>Выплаты на 1 чел.</th>\n",
       "    </tr>\n",
       "  </thead>\n",
       "  <tbody>\n",
       "    <tr>\n",
       "      <th>Всего</th>\n",
       "      <td>11</td>\n",
       "      <td>35221374.0</td>\n",
       "      <td>7497958.2</td>\n",
       "      <td>42719332.2</td>\n",
       "      <td>2008437.5</td>\n",
       "    </tr>\n",
       "    <tr>\n",
       "      <th>Муниципальные районы</th>\n",
       "      <td>11 800 000</td>\n",
       "      <td>20891011.0</td>\n",
       "      <td>2707329.4</td>\n",
       "      <td>23598340.4</td>\n",
       "      <td>1243261.2</td>\n",
       "    </tr>\n",
       "    <tr>\n",
       "      <th>Заполярны йрайон</th>\n",
       "      <td>11 810 000</td>\n",
       "      <td>20891011.0</td>\n",
       "      <td>2707329.4</td>\n",
       "      <td>23598340.4</td>\n",
       "      <td>1243261.2</td>\n",
       "    </tr>\n",
       "    <tr>\n",
       "      <th>Городские округа</th>\n",
       "      <td>11 900 000</td>\n",
       "      <td>14330363.0</td>\n",
       "      <td>4790628.8</td>\n",
       "      <td>19120991.8</td>\n",
       "      <td>765176.3</td>\n",
       "    </tr>\n",
       "    <tr>\n",
       "      <th>г.Нарьян-Мар</th>\n",
       "      <td>11 850 000</td>\n",
       "      <td>14330363.0</td>\n",
       "      <td>4790628.8</td>\n",
       "      <td>19120991.8</td>\n",
       "      <td>765176.3</td>\n",
       "    </tr>\n",
       "  </tbody>\n",
       "</table>\n",
       "</div>"
      ],
      "text/plain": [
       "                           ОКТМО      Доходы  Социальные выплаты  \\\n",
       "Всего                         11  35221374.0           7497958.2   \n",
       "Муниципальные районы  11 800 000  20891011.0           2707329.4   \n",
       "Заполярны йрайон      11 810 000  20891011.0           2707329.4   \n",
       "Городские округа      11 900 000  14330363.0           4790628.8   \n",
       "г.Нарьян-Мар          11 850 000  14330363.0           4790628.8   \n",
       "\n",
       "                      Суммарные выплаты  Выплаты на 1 чел.  \n",
       "Всего                        42719332.2          2008437.5  \n",
       "Муниципальные районы         23598340.4          1243261.2  \n",
       "Заполярны йрайон             23598340.4          1243261.2  \n",
       "Городские округа             19120991.8           765176.3  \n",
       "г.Нарьян-Мар                 19120991.8           765176.3  "
      ]
     },
     "execution_count": 404,
     "metadata": {},
     "output_type": "execute_result"
    }
   ],
   "source": [
    "income_transferts_2019.loc['Ненецкий автономный округ (Архангельская область)']"
   ]
  },
  {
   "cell_type": "code",
   "execution_count": 405,
   "id": "36cdd90f-6e2c-4bc7-b432-9f4d437da031",
   "metadata": {},
   "outputs": [],
   "source": [
    "datasets_list.append(income_transferts_2019)"
   ]
  },
  {
   "cell_type": "markdown",
   "id": "45ff0082-f4ab-4871-a281-84ed75d7d60c",
   "metadata": {},
   "source": [
    "#### <font color='#AF4035'>2020 год</font>"
   ]
  },
  {
   "cell_type": "markdown",
   "id": "78ed7e4f-0607-4794-a9f0-45d2a35cb9a9",
   "metadata": {},
   "source": [
    "##### Regions OKTMO codes"
   ]
  },
  {
   "cell_type": "code",
   "execution_count": 406,
   "id": "824c16f8-5669-4ae3-96f5-594021cd37a9",
   "metadata": {},
   "outputs": [],
   "source": [
    "path_2020 = \\\n",
    "    ('/Users/a.chasovsky/Library/CloudStorage/GoogleDrive-alexanderchasovsky@gmail.com/'\n",
    "     'Мой диск/Data Science Projects/pers_economics_rus/data/00-Region-codes/')\n",
    "os.chdir(path_2020)\n",
    "%run 2020.ipynb\n",
    "os.chdir(current_path)"
   ]
  },
  {
   "attachments": {},
   "cell_type": "markdown",
   "id": "a4499018-6664-4025-aaed-5d6bd73db272",
   "metadata": {},
   "source": [
    "##### Исправления:\n",
    "- Магаданская область: '44 000 000' -> '44'"
   ]
  },
  {
   "cell_type": "markdown",
   "id": "1fd0caac-6391-4ca9-92a6-b99905af5841",
   "metadata": {},
   "source": [
    "##### Data"
   ]
  },
  {
   "cell_type": "code",
   "execution_count": 407,
   "id": "2c3daccf-2ad5-49d6-9565-e431b4c5e11a",
   "metadata": {},
   "outputs": [],
   "source": [
    "income_transferts_2020_link = \\\n",
    "    ('data/02-Population/02-Standard-of-living/01-Income/'\n",
    "     'urov-14a2020.xlsx')"
   ]
  },
  {
   "cell_type": "code",
   "execution_count": 408,
   "id": "bdb40fee-dc09-46a9-8181-587a2e8f5348",
   "metadata": {},
   "outputs": [],
   "source": [
    "income_transferts_2020_raw = pd.read_excel(income_transferts_2020_link)"
   ]
  },
  {
   "cell_type": "code",
   "execution_count": 409,
   "id": "3d8f3df6-f6ef-4ac0-8d89-1198b2404e6a",
   "metadata": {},
   "outputs": [
    {
     "data": {
      "text/html": [
       "<div>\n",
       "<style scoped>\n",
       "    .dataframe tbody tr th:only-of-type {\n",
       "        vertical-align: middle;\n",
       "    }\n",
       "\n",
       "    .dataframe tbody tr th {\n",
       "        vertical-align: top;\n",
       "    }\n",
       "\n",
       "    .dataframe thead th {\n",
       "        text-align: right;\n",
       "    }\n",
       "</style>\n",
       "<table border=\"1\" class=\"dataframe\">\n",
       "  <thead>\n",
       "    <tr style=\"text-align: right;\">\n",
       "      <th></th>\n",
       "      <th>Unnamed: 0</th>\n",
       "      <th>Unnamed: 1</th>\n",
       "      <th>Unnamed: 2</th>\n",
       "      <th>Unnamed: 3</th>\n",
       "      <th>Unnamed: 4</th>\n",
       "      <th>Unnamed: 5</th>\n",
       "      <th>Unnamed: 6</th>\n",
       "    </tr>\n",
       "  </thead>\n",
       "  <tbody>\n",
       "    <tr>\n",
       "      <th>0</th>\n",
       "      <td>\"Объем социальных выплат населению и налогооб...</td>\n",
       "      <td>NaN</td>\n",
       "      <td>NaN</td>\n",
       "      <td>NaN</td>\n",
       "      <td>NaN</td>\n",
       "      <td>NaN</td>\n",
       "      <td>NaN</td>\n",
       "    </tr>\n",
       "    <tr>\n",
       "      <th>1</th>\n",
       "      <td>NaN</td>\n",
       "      <td>NaN</td>\n",
       "      <td>NaN</td>\n",
       "      <td>NaN</td>\n",
       "      <td>NaN</td>\n",
       "      <td>NaN</td>\n",
       "      <td>NaN</td>\n",
       "    </tr>\n",
       "    <tr>\n",
       "      <th>2</th>\n",
       "      <td>NaN</td>\n",
       "      <td>NaN</td>\n",
       "      <td>Код ОКТМО</td>\n",
       "      <td>Налогооблагаемые денежные доходы физических ли...</td>\n",
       "      <td>Социальные и другие выплаты, тыс.рублей</td>\n",
       "      <td>Объем социальных выплат населению и налогообла...</td>\n",
       "      <td>Объем социальных выплат и налогооблагаемых ден...</td>\n",
       "    </tr>\n",
       "    <tr>\n",
       "      <th>3</th>\n",
       "      <td>NaN</td>\n",
       "      <td>NaN</td>\n",
       "      <td>1</td>\n",
       "      <td>2</td>\n",
       "      <td>3</td>\n",
       "      <td>4</td>\n",
       "      <td>5</td>\n",
       "    </tr>\n",
       "    <tr>\n",
       "      <th>4</th>\n",
       "      <td>NaN</td>\n",
       "      <td>Алтайский край</td>\n",
       "      <td>01</td>\n",
       "      <td>NaN</td>\n",
       "      <td>NaN</td>\n",
       "      <td>NaN</td>\n",
       "      <td>NaN</td>\n",
       "    </tr>\n",
       "    <tr>\n",
       "      <th>5</th>\n",
       "      <td>NaN</td>\n",
       "      <td>Муниципальные районы</td>\n",
       "      <td>01 600 000</td>\n",
       "      <td>98592778.521697</td>\n",
       "      <td>92751510.905266</td>\n",
       "      <td>191344289.426963</td>\n",
       "      <td>186104.33575</td>\n",
       "    </tr>\n",
       "    <tr>\n",
       "      <th>6</th>\n",
       "      <td>1</td>\n",
       "      <td>Алейский</td>\n",
       "      <td>1601000</td>\n",
       "      <td>1591328.890211</td>\n",
       "      <td>1135974.872515</td>\n",
       "      <td>2727303.762726</td>\n",
       "      <td>201962.660154</td>\n",
       "    </tr>\n",
       "    <tr>\n",
       "      <th>7</th>\n",
       "      <td>2</td>\n",
       "      <td>Алтайский</td>\n",
       "      <td>1602000</td>\n",
       "      <td>1769736.827467</td>\n",
       "      <td>2092842.416862</td>\n",
       "      <td>3862579.24433</td>\n",
       "      <td>148298.366134</td>\n",
       "    </tr>\n",
       "    <tr>\n",
       "      <th>8</th>\n",
       "      <td>3</td>\n",
       "      <td>Баевский</td>\n",
       "      <td>1603000</td>\n",
       "      <td>804125.320942</td>\n",
       "      <td>916818.893085</td>\n",
       "      <td>1720944.214027</td>\n",
       "      <td>197991.741144</td>\n",
       "    </tr>\n",
       "    <tr>\n",
       "      <th>9</th>\n",
       "      <td>4</td>\n",
       "      <td>Бийский</td>\n",
       "      <td>1604000</td>\n",
       "      <td>2305381.830704</td>\n",
       "      <td>2868774.9765</td>\n",
       "      <td>5174156.807204</td>\n",
       "      <td>169538.871103</td>\n",
       "    </tr>\n",
       "  </tbody>\n",
       "</table>\n",
       "</div>"
      ],
      "text/plain": [
       "                                          Unnamed: 0             Unnamed: 1  \\\n",
       "0   \"Объем социальных выплат населению и налогооб...                    NaN   \n",
       "1                                                NaN                    NaN   \n",
       "2                                                NaN                    NaN   \n",
       "3                                                NaN                    NaN   \n",
       "4                                                NaN         Алтайский край   \n",
       "5                                                NaN  Муниципальные районы    \n",
       "6                                                  1               Алейский   \n",
       "7                                                  2              Алтайский   \n",
       "8                                                  3               Баевский   \n",
       "9                                                  4                Бийский   \n",
       "\n",
       "   Unnamed: 2                                         Unnamed: 3  \\\n",
       "0         NaN                                                NaN   \n",
       "1         NaN                                                NaN   \n",
       "2   Код ОКТМО  Налогооблагаемые денежные доходы физических ли...   \n",
       "3           1                                                  2   \n",
       "4          01                                                NaN   \n",
       "5  01 600 000                                    98592778.521697   \n",
       "6     1601000                                     1591328.890211   \n",
       "7     1602000                                     1769736.827467   \n",
       "8     1603000                                      804125.320942   \n",
       "9     1604000                                     2305381.830704   \n",
       "\n",
       "                                Unnamed: 4  \\\n",
       "0                                      NaN   \n",
       "1                                      NaN   \n",
       "2  Социальные и другие выплаты, тыс.рублей   \n",
       "3                                        3   \n",
       "4                                      NaN   \n",
       "5                          92751510.905266   \n",
       "6                           1135974.872515   \n",
       "7                           2092842.416862   \n",
       "8                            916818.893085   \n",
       "9                             2868774.9765   \n",
       "\n",
       "                                          Unnamed: 5  \\\n",
       "0                                                NaN   \n",
       "1                                                NaN   \n",
       "2  Объем социальных выплат населению и налогообла...   \n",
       "3                                                  4   \n",
       "4                                                NaN   \n",
       "5                                   191344289.426963   \n",
       "6                                     2727303.762726   \n",
       "7                                      3862579.24433   \n",
       "8                                     1720944.214027   \n",
       "9                                     5174156.807204   \n",
       "\n",
       "                                          Unnamed: 6  \n",
       "0                                                NaN  \n",
       "1                                                NaN  \n",
       "2  Объем социальных выплат и налогооблагаемых ден...  \n",
       "3                                                  5  \n",
       "4                                                NaN  \n",
       "5                                       186104.33575  \n",
       "6                                      201962.660154  \n",
       "7                                      148298.366134  \n",
       "8                                      197991.741144  \n",
       "9                                      169538.871103  "
      ]
     },
     "execution_count": 409,
     "metadata": {},
     "output_type": "execute_result"
    }
   ],
   "source": [
    "income_transferts_2020_raw.head(10)"
   ]
  },
  {
   "cell_type": "code",
   "execution_count": 410,
   "id": "7620eef6-8119-4ba7-af43-dd2da1d209ca",
   "metadata": {},
   "outputs": [
    {
     "data": {
      "text/html": [
       "<div>\n",
       "<style scoped>\n",
       "    .dataframe tbody tr th:only-of-type {\n",
       "        vertical-align: middle;\n",
       "    }\n",
       "\n",
       "    .dataframe tbody tr th {\n",
       "        vertical-align: top;\n",
       "    }\n",
       "\n",
       "    .dataframe thead th {\n",
       "        text-align: right;\n",
       "    }\n",
       "</style>\n",
       "<table border=\"1\" class=\"dataframe\">\n",
       "  <thead>\n",
       "    <tr style=\"text-align: right;\">\n",
       "      <th></th>\n",
       "      <th>Unnamed: 0</th>\n",
       "      <th>Unnamed: 1</th>\n",
       "      <th>Unnamed: 2</th>\n",
       "      <th>Unnamed: 3</th>\n",
       "      <th>Unnamed: 4</th>\n",
       "      <th>Unnamed: 5</th>\n",
       "      <th>Unnamed: 6</th>\n",
       "    </tr>\n",
       "  </thead>\n",
       "  <tbody>\n",
       "    <tr>\n",
       "      <th>2634</th>\n",
       "      <td>NaN</td>\n",
       "      <td>NaN</td>\n",
       "      <td>NaN</td>\n",
       "      <td>NaN</td>\n",
       "      <td>NaN</td>\n",
       "      <td>NaN</td>\n",
       "      <td>NaN</td>\n",
       "    </tr>\n",
       "    <tr>\n",
       "      <th>2635</th>\n",
       "      <td>NaN</td>\n",
       "      <td>Еврейская автономная область</td>\n",
       "      <td>99</td>\n",
       "      <td>NaN</td>\n",
       "      <td>NaN</td>\n",
       "      <td>NaN</td>\n",
       "      <td>NaN</td>\n",
       "    </tr>\n",
       "    <tr>\n",
       "      <th>2636</th>\n",
       "      <td>NaN</td>\n",
       "      <td>Муниципальные районы</td>\n",
       "      <td>99600000</td>\n",
       "      <td>14560368.2</td>\n",
       "      <td>7717067.937107</td>\n",
       "      <td>22277436.137107</td>\n",
       "      <td>258247.196248</td>\n",
       "    </tr>\n",
       "    <tr>\n",
       "      <th>2637</th>\n",
       "      <td>1</td>\n",
       "      <td>Биробиджанский</td>\n",
       "      <td>99605000</td>\n",
       "      <td>1257015.3</td>\n",
       "      <td>1028987.943429</td>\n",
       "      <td>2286003.243429</td>\n",
       "      <td>209034.678441</td>\n",
       "    </tr>\n",
       "    <tr>\n",
       "      <th>2638</th>\n",
       "      <td>2</td>\n",
       "      <td>Ленинский</td>\n",
       "      <td>99610000</td>\n",
       "      <td>1892686.1</td>\n",
       "      <td>1332471.351879</td>\n",
       "      <td>3225157.451879</td>\n",
       "      <td>182470.011422</td>\n",
       "    </tr>\n",
       "    <tr>\n",
       "      <th>2639</th>\n",
       "      <td>3</td>\n",
       "      <td>Облученский</td>\n",
       "      <td>99620000</td>\n",
       "      <td>7018416.6</td>\n",
       "      <td>2398803.291252</td>\n",
       "      <td>9417219.891252</td>\n",
       "      <td>382378.589055</td>\n",
       "    </tr>\n",
       "    <tr>\n",
       "      <th>2640</th>\n",
       "      <td>4</td>\n",
       "      <td>Октябрьский</td>\n",
       "      <td>99625000</td>\n",
       "      <td>1325533.5</td>\n",
       "      <td>823927.997465</td>\n",
       "      <td>2149461.497465</td>\n",
       "      <td>228666.116752</td>\n",
       "    </tr>\n",
       "    <tr>\n",
       "      <th>2641</th>\n",
       "      <td>5</td>\n",
       "      <td>Смидовичский</td>\n",
       "      <td>99630000</td>\n",
       "      <td>3066716.7</td>\n",
       "      <td>2132877.353082</td>\n",
       "      <td>5199594.053082</td>\n",
       "      <td>220088.637167</td>\n",
       "    </tr>\n",
       "    <tr>\n",
       "      <th>2642</th>\n",
       "      <td>NaN</td>\n",
       "      <td>Городские округа</td>\n",
       "      <td>99700000</td>\n",
       "      <td>19651555.8</td>\n",
       "      <td>7558702.109173</td>\n",
       "      <td>27210257.909173</td>\n",
       "      <td>382499.619179</td>\n",
       "    </tr>\n",
       "    <tr>\n",
       "      <th>2643</th>\n",
       "      <td>1</td>\n",
       "      <td>г. Биробиджан</td>\n",
       "      <td>99701000</td>\n",
       "      <td>19651555.8</td>\n",
       "      <td>7558702.109173</td>\n",
       "      <td>27210257.909173</td>\n",
       "      <td>382499.619179</td>\n",
       "    </tr>\n",
       "  </tbody>\n",
       "</table>\n",
       "</div>"
      ],
      "text/plain": [
       "     Unnamed: 0                     Unnamed: 1 Unnamed: 2  Unnamed: 3  \\\n",
       "2634        NaN                            NaN        NaN         NaN   \n",
       "2635        NaN  Еврейская автономная область          99         NaN   \n",
       "2636        NaN          Муниципальные районы    99600000  14560368.2   \n",
       "2637          1                Биробиджанский    99605000   1257015.3   \n",
       "2638          2                     Ленинский    99610000   1892686.1   \n",
       "2639          3                   Облученский    99620000   7018416.6   \n",
       "2640          4                   Октябрьский    99625000   1325533.5   \n",
       "2641          5                  Смидовичский    99630000   3066716.7   \n",
       "2642        NaN              Городские округа    99700000  19651555.8   \n",
       "2643          1                  г. Биробиджан   99701000  19651555.8   \n",
       "\n",
       "          Unnamed: 4       Unnamed: 5     Unnamed: 6  \n",
       "2634             NaN              NaN            NaN  \n",
       "2635             NaN              NaN            NaN  \n",
       "2636  7717067.937107  22277436.137107  258247.196248  \n",
       "2637  1028987.943429   2286003.243429  209034.678441  \n",
       "2638  1332471.351879   3225157.451879  182470.011422  \n",
       "2639  2398803.291252   9417219.891252  382378.589055  \n",
       "2640   823927.997465   2149461.497465  228666.116752  \n",
       "2641  2132877.353082   5199594.053082  220088.637167  \n",
       "2642  7558702.109173  27210257.909173  382499.619179  \n",
       "2643  7558702.109173  27210257.909173  382499.619179  "
      ]
     },
     "execution_count": 410,
     "metadata": {},
     "output_type": "execute_result"
    }
   ],
   "source": [
    "income_transferts_2020_raw.tail(10)"
   ]
  },
  {
   "cell_type": "code",
   "execution_count": 411,
   "id": "a7910b0e-be45-4ad0-9778-5edfefb8652a",
   "metadata": {},
   "outputs": [],
   "source": [
    "income_transferts_2020 = income_transferts_2020_raw.copy()"
   ]
  },
  {
   "cell_type": "markdown",
   "id": "2cdc8798-71b2-4f33-8fd7-a9ed552b62b2",
   "metadata": {},
   "source": [
    "##### Rename columns and drop useless"
   ]
  },
  {
   "cell_type": "code",
   "execution_count": 412,
   "id": "192de429-ed6e-48a9-bda5-af4eb8d2da1c",
   "metadata": {},
   "outputs": [],
   "source": [
    "income_transferts_2020_columns = [\n",
    "    '-', 'index1', 'ОКТМО', 'Доходы', 'Социальные выплаты',\n",
    "    'Суммарные выплаты', 'Выплаты на 1 чел.'\n",
    "]"
   ]
  },
  {
   "cell_type": "code",
   "execution_count": 413,
   "id": "57470336-3091-49dd-a69b-026b2219a82c",
   "metadata": {},
   "outputs": [],
   "source": [
    "income_transferts_2020.columns = income_transferts_2020_columns"
   ]
  },
  {
   "cell_type": "code",
   "execution_count": 414,
   "id": "ad09d806-d220-4264-adda-32f033c3d2ba",
   "metadata": {},
   "outputs": [],
   "source": [
    "# drop useless columns with name '-'\n",
    "income_transferts_2020 = income_transferts_2020.drop('-', axis=1)"
   ]
  },
  {
   "cell_type": "markdown",
   "id": "f6ad9e1d-9df3-4bb0-8493-732b42fea48a",
   "metadata": {},
   "source": [
    "##### Cut rows and drop NaNs"
   ]
  },
  {
   "cell_type": "code",
   "execution_count": 415,
   "id": "e4473cf7-1037-47c7-b9fd-838023dab27b",
   "metadata": {},
   "outputs": [],
   "source": [
    "# cut rows\n",
    "income_transferts_2020 = transform_cut_rows(income_transferts_2020, 4, 0)"
   ]
  },
  {
   "cell_type": "code",
   "execution_count": 416,
   "id": "6e752d3b-e6c9-4765-926a-a940a773abd5",
   "metadata": {},
   "outputs": [],
   "source": [
    "# drop rows with NaNs in 'index0' column\n",
    "income_transferts_2020 = \\\n",
    "    income_transferts_2020[income_transferts_2020['index1'].notna()]"
   ]
  },
  {
   "cell_type": "markdown",
   "id": "e9f68796-bca3-47f1-9b45-9ec6b5381f1e",
   "metadata": {},
   "source": [
    "##### Normalize OKTMO"
   ]
  },
  {
   "cell_type": "code",
   "execution_count": 417,
   "id": "b1010f81-12b8-466e-bf09-c2dd0b8e63b8",
   "metadata": {},
   "outputs": [],
   "source": [
    "# make OKTMO column values str\n",
    "income_transferts_2020['ОКТМО'] = income_transferts_2020['ОКТМО'].astype(str)"
   ]
  },
  {
   "cell_type": "code",
   "execution_count": 418,
   "id": "bbccd306-af15-434c-96ae-ce361d8095cc",
   "metadata": {},
   "outputs": [],
   "source": [
    "# normalize oktmo - remove spaces and other dirt\n",
    "income_transferts_2020['ОКТМО'] = \\\n",
    "    income_transferts_2020['ОКТМО'].apply(lambda x: normalize_oktmo(x))"
   ]
  },
  {
   "cell_type": "markdown",
   "id": "3ee3da7c-c625-449a-b3fc-a34f948ff605",
   "metadata": {},
   "source": [
    "##### Level0 for Multiindex"
   ]
  },
  {
   "cell_type": "code",
   "execution_count": 419,
   "id": "f7b5f5ff-ae57-401d-85c3-5c38136f0863",
   "metadata": {},
   "outputs": [],
   "source": [
    "# create index level0 column\n",
    "income_transferts_2020['index0'] = np.NaN"
   ]
  },
  {
   "cell_type": "code",
   "execution_count": 420,
   "id": "5fb5f00b-afeb-4e3e-a701-357a97a3e38a",
   "metadata": {},
   "outputs": [],
   "source": [
    "# fill in by region with OKTMO in OKTMO column\n",
    "income_transferts_2020 = (income_transferts_2020\n",
    "                          .assign(index0=income_transferts_2020['ОКТМО']\n",
    "                                  .map(region_oktmo_norm_dict_sorted)\n",
    "                                  .fillna(income_transferts_2020['index0'])))"
   ]
  },
  {
   "cell_type": "code",
   "execution_count": 421,
   "id": "104361f2-38cb-46d7-8073-4f13f350886d",
   "metadata": {},
   "outputs": [],
   "source": [
    "# 1) 'Архангельская область' and \n",
    "# 'Ненецкий автономный округ (Архангельская область)' have the same OKTMO == 11\n",
    "# 2) 'Ненецкий автономный округ (Архангельская область)' index allways greater than index of \n",
    "# 'Архангельская область'\n",
    "# knowing this, we replace duplicate 'Архангельская область' by 'Ненецкий автономный округ (Архангельская область)'\n",
    "income_transferts_2020 = normalize_nenec(income_transferts_2020, 'index0')"
   ]
  },
  {
   "cell_type": "code",
   "execution_count": 422,
   "id": "1fb569f3-41ad-4380-b197-59662836e23c",
   "metadata": {},
   "outputs": [],
   "source": [
    "# the same correction for 'Тюменская область'\n",
    "income_transferts_2020 = normalize_khantymanci(income_transferts_2020, 'index0')"
   ]
  },
  {
   "cell_type": "code",
   "execution_count": 423,
   "id": "399273b2-9692-4ce2-b72d-4145a28b558e",
   "metadata": {},
   "outputs": [],
   "source": [
    "# fill '-' values in index0 column\n",
    "income_transferts_2020 = transform_fill_values_by_previous(\n",
    "    income_transferts_2020, kind='column', column_name='index0')"
   ]
  },
  {
   "cell_type": "markdown",
   "id": "3f0670a4-1962-49be-8dd3-265a02b79ca1",
   "metadata": {},
   "source": [
    "##### Level1 for Multiindex"
   ]
  },
  {
   "cell_type": "code",
   "execution_count": 424,
   "id": "d7e1c0cd-6d46-4ce1-a240-dad8357da820",
   "metadata": {},
   "outputs": [],
   "source": [
    "# change region name in 'index1' column to 'Всего'\n",
    "income_transferts_2020['index1'] = income_transferts_2020.apply(\n",
    "    lambda x: transferts_various(x['ОКТМО'], x['index1']), axis=1)"
   ]
  },
  {
   "cell_type": "code",
   "execution_count": 425,
   "id": "595432f5-a474-4429-bd1a-73b9f940cc4d",
   "metadata": {},
   "outputs": [],
   "source": [
    "# normalize 'Муниципальные районы' and 'Гордские округа' - remove spaces and other dirt\n",
    "income_transferts_2020['index1'] = \\\n",
    "    income_transferts_2020['index1'].apply(lambda x: normalize_municipal_town(x))"
   ]
  },
  {
   "cell_type": "markdown",
   "id": "1de1f8e6-5c6f-47ac-b475-8ecca49e2851",
   "metadata": {},
   "source": [
    "##### Fill rows with sum ('Всего')"
   ]
  },
  {
   "cell_type": "code",
   "execution_count": 426,
   "id": "6acbdc1c-8826-4cdb-a009-05da8c8705f9",
   "metadata": {},
   "outputs": [],
   "source": [
    "# columns for sum of 'Муниципальные районы' and 'Городские округа'\n",
    "columns_summary2012 = [\n",
    "    'Доходы', 'Социальные выплаты', 'Суммарные выплаты', 'Выплаты на 1 чел.']"
   ]
  },
  {
   "cell_type": "code",
   "execution_count": 427,
   "id": "596b6028-3bb6-4e7a-9367-7b0597980c8d",
   "metadata": {},
   "outputs": [],
   "source": [
    "# create regions list\n",
    "regions_list2012 = list(set(income_transferts_2020['index0']))\n",
    "regions_list2012.sort()"
   ]
  },
  {
   "cell_type": "code",
   "execution_count": 428,
   "id": "6917e0b5-6532-418d-9611-aa54d4200e4a",
   "metadata": {},
   "outputs": [
    {
     "name": "stdout",
     "output_type": "stream",
     "text": [
      "Region Санкт-Петербург not in \"Minucipal-Town Dictionary\"\n"
     ]
    }
   ],
   "source": [
    "# count sum of 'Муниципальные районы' and 'Городские округа'\n",
    "income_transferts_2020 = calculate_sum_transferts(\n",
    "    data=income_transferts_2020,\n",
    "    columns=columns_summary2012,\n",
    "    regions=regions_list2012,\n",
    "    mapping_dict=municipal_town_dict)"
   ]
  },
  {
   "cell_type": "markdown",
   "id": "05b078da-6691-451b-81c5-b6b58f75cada",
   "metadata": {},
   "source": [
    "##### Count Regions"
   ]
  },
  {
   "cell_type": "code",
   "execution_count": 429,
   "id": "611a2b39-777c-4d34-ba13-b3a383e60d55",
   "metadata": {},
   "outputs": [
    {
     "data": {
      "text/plain": [
       "83"
      ]
     },
     "execution_count": 429,
     "metadata": {},
     "output_type": "execute_result"
    }
   ],
   "source": [
    "# count regions\n",
    "regions_count2012 = len(set(income_transferts_2020['index0'].values))\n",
    "regions_count2012"
   ]
  },
  {
   "cell_type": "markdown",
   "id": "4fefb8e1-3cc2-4175-92d4-41ae0ddf5e6b",
   "metadata": {},
   "source": [
    "##### Create Multiindex"
   ]
  },
  {
   "cell_type": "code",
   "execution_count": 430,
   "id": "400d619d-1c7d-4cf8-b064-1e773e7da478",
   "metadata": {},
   "outputs": [],
   "source": [
    "# columns to multiindex\n",
    "income_transferts_2020 = transform_make_index_from_columns(\n",
    "    income_transferts_2020, ['index0', 'index1'])"
   ]
  },
  {
   "cell_type": "code",
   "execution_count": 431,
   "id": "51e130b7-0ef7-4905-885c-31d8d1d114e0",
   "metadata": {},
   "outputs": [],
   "source": [
    "# drop columns, that became multiindexes\n",
    "income_transferts_2020 = income_transferts_2020.drop(['index0', 'index1'], axis=1)"
   ]
  },
  {
   "cell_type": "markdown",
   "id": "b68319d0-e3cb-4b16-8f51-88b84c55c72c",
   "metadata": {},
   "source": [
    "##### Round (one symbol)"
   ]
  },
  {
   "cell_type": "code",
   "execution_count": 432,
   "id": "145fb482-250a-4421-ad95-d1702c88be5e",
   "metadata": {},
   "outputs": [],
   "source": [
    "# round\n",
    "for column in income_transferts_2020.columns:\n",
    "    try:\n",
    "        income_transferts_2020[column] = \\\n",
    "            income_transferts_2020[column].astype(float).round(1)\n",
    "    except ValueError:\n",
    "        pass"
   ]
  },
  {
   "cell_type": "markdown",
   "id": "00396514-ab0f-4750-9b9e-d81b69e0ff28",
   "metadata": {},
   "source": [
    "##### <font color='#2A5899'>2016 Check for Discrepancy</font>"
   ]
  },
  {
   "cell_type": "code",
   "execution_count": 433,
   "id": "663c922f-abe4-428b-b506-501830442f5c",
   "metadata": {},
   "outputs": [
    {
     "data": {
      "text/plain": [
       "False"
      ]
     },
     "execution_count": 433,
     "metadata": {},
     "output_type": "execute_result"
    }
   ],
   "source": [
    "# OKTMO check for NaN\n",
    "income_transferts_2020[income_transferts_2020['ОКТМО'].isna()].any().any()"
   ]
  },
  {
   "cell_type": "code",
   "execution_count": 434,
   "id": "0bd3232a-f06e-4182-9da4-c94fb7bbc7fe",
   "metadata": {},
   "outputs": [
    {
     "data": {
      "text/plain": [
       "True"
      ]
     },
     "execution_count": 434,
     "metadata": {},
     "output_type": "execute_result"
    }
   ],
   "source": [
    "# all data check for NaN\n",
    "income_transferts_2020[income_transferts_2020.isna().any(axis=1)].any().any()"
   ]
  },
  {
   "cell_type": "code",
   "execution_count": 435,
   "id": "4ab60ab3-9f0f-40f7-b899-49ac5e5d2a30",
   "metadata": {},
   "outputs": [
    {
     "data": {
      "text/html": [
       "<div>\n",
       "<style scoped>\n",
       "    .dataframe tbody tr th:only-of-type {\n",
       "        vertical-align: middle;\n",
       "    }\n",
       "\n",
       "    .dataframe tbody tr th {\n",
       "        vertical-align: top;\n",
       "    }\n",
       "\n",
       "    .dataframe thead th {\n",
       "        text-align: right;\n",
       "    }\n",
       "</style>\n",
       "<table border=\"1\" class=\"dataframe\">\n",
       "  <thead>\n",
       "    <tr style=\"text-align: right;\">\n",
       "      <th></th>\n",
       "      <th></th>\n",
       "      <th>ОКТМО</th>\n",
       "      <th>Доходы</th>\n",
       "      <th>Социальные выплаты</th>\n",
       "      <th>Суммарные выплаты</th>\n",
       "      <th>Выплаты на 1 чел.</th>\n",
       "    </tr>\n",
       "  </thead>\n",
       "  <tbody>\n",
       "  </tbody>\n",
       "</table>\n",
       "</div>"
      ],
      "text/plain": [
       "Empty DataFrame\n",
       "Columns: [ОКТМО, Доходы, Социальные выплаты, Суммарные выплаты, Выплаты на 1 чел.]\n",
       "Index: []"
      ]
     },
     "execution_count": 435,
     "metadata": {},
     "output_type": "execute_result"
    }
   ],
   "source": [
    "income_transferts_2020[income_transferts_2020['Доходы'] == 0]"
   ]
  },
  {
   "cell_type": "code",
   "execution_count": 436,
   "id": "fd3a0b2c-aa81-49e7-b1e6-30c88f048959",
   "metadata": {},
   "outputs": [
    {
     "data": {
      "text/html": [
       "<div>\n",
       "<style scoped>\n",
       "    .dataframe tbody tr th:only-of-type {\n",
       "        vertical-align: middle;\n",
       "    }\n",
       "\n",
       "    .dataframe tbody tr th {\n",
       "        vertical-align: top;\n",
       "    }\n",
       "\n",
       "    .dataframe thead th {\n",
       "        text-align: right;\n",
       "    }\n",
       "</style>\n",
       "<table border=\"1\" class=\"dataframe\">\n",
       "  <thead>\n",
       "    <tr style=\"text-align: right;\">\n",
       "      <th></th>\n",
       "      <th></th>\n",
       "      <th>ОКТМО</th>\n",
       "      <th>Доходы</th>\n",
       "      <th>Социальные выплаты</th>\n",
       "      <th>Суммарные выплаты</th>\n",
       "      <th>Выплаты на 1 чел.</th>\n",
       "    </tr>\n",
       "  </thead>\n",
       "  <tbody>\n",
       "  </tbody>\n",
       "</table>\n",
       "</div>"
      ],
      "text/plain": [
       "Empty DataFrame\n",
       "Columns: [ОКТМО, Доходы, Социальные выплаты, Суммарные выплаты, Выплаты на 1 чел.]\n",
       "Index: []"
      ]
     },
     "execution_count": 436,
     "metadata": {},
     "output_type": "execute_result"
    }
   ],
   "source": [
    "income_transferts_2020[income_transferts_2020['Социальные выплаты'] == 0]"
   ]
  },
  {
   "cell_type": "code",
   "execution_count": 437,
   "id": "66b1905c-43d0-49bf-ae29-b47c8f4dbc93",
   "metadata": {},
   "outputs": [
    {
     "data": {
      "text/html": [
       "<div>\n",
       "<style scoped>\n",
       "    .dataframe tbody tr th:only-of-type {\n",
       "        vertical-align: middle;\n",
       "    }\n",
       "\n",
       "    .dataframe tbody tr th {\n",
       "        vertical-align: top;\n",
       "    }\n",
       "\n",
       "    .dataframe thead th {\n",
       "        text-align: right;\n",
       "    }\n",
       "</style>\n",
       "<table border=\"1\" class=\"dataframe\">\n",
       "  <thead>\n",
       "    <tr style=\"text-align: right;\">\n",
       "      <th></th>\n",
       "      <th></th>\n",
       "      <th>ОКТМО</th>\n",
       "      <th>Доходы</th>\n",
       "      <th>Социальные выплаты</th>\n",
       "      <th>Суммарные выплаты</th>\n",
       "      <th>Выплаты на 1 чел.</th>\n",
       "    </tr>\n",
       "  </thead>\n",
       "  <tbody>\n",
       "  </tbody>\n",
       "</table>\n",
       "</div>"
      ],
      "text/plain": [
       "Empty DataFrame\n",
       "Columns: [ОКТМО, Доходы, Социальные выплаты, Суммарные выплаты, Выплаты на 1 чел.]\n",
       "Index: []"
      ]
     },
     "execution_count": 437,
     "metadata": {},
     "output_type": "execute_result"
    }
   ],
   "source": [
    "income_transferts_2020[income_transferts_2020['Суммарные выплаты'] == 0]"
   ]
  },
  {
   "cell_type": "code",
   "execution_count": 438,
   "id": "556f1fb4-9b87-4f70-ad91-f12aa02ebf97",
   "metadata": {},
   "outputs": [
    {
     "data": {
      "text/html": [
       "<div>\n",
       "<style scoped>\n",
       "    .dataframe tbody tr th:only-of-type {\n",
       "        vertical-align: middle;\n",
       "    }\n",
       "\n",
       "    .dataframe tbody tr th {\n",
       "        vertical-align: top;\n",
       "    }\n",
       "\n",
       "    .dataframe thead th {\n",
       "        text-align: right;\n",
       "    }\n",
       "</style>\n",
       "<table border=\"1\" class=\"dataframe\">\n",
       "  <thead>\n",
       "    <tr style=\"text-align: right;\">\n",
       "      <th></th>\n",
       "      <th></th>\n",
       "      <th>ОКТМО</th>\n",
       "      <th>Доходы</th>\n",
       "      <th>Социальные выплаты</th>\n",
       "      <th>Суммарные выплаты</th>\n",
       "      <th>Выплаты на 1 чел.</th>\n",
       "    </tr>\n",
       "  </thead>\n",
       "  <tbody>\n",
       "  </tbody>\n",
       "</table>\n",
       "</div>"
      ],
      "text/plain": [
       "Empty DataFrame\n",
       "Columns: [ОКТМО, Доходы, Социальные выплаты, Суммарные выплаты, Выплаты на 1 чел.]\n",
       "Index: []"
      ]
     },
     "execution_count": 438,
     "metadata": {},
     "output_type": "execute_result"
    }
   ],
   "source": [
    "income_transferts_2020[income_transferts_2020['Выплаты на 1 чел.'] == 0]"
   ]
  },
  {
   "cell_type": "code",
   "execution_count": 439,
   "id": "cfc615fa-1dca-4ed4-b4fb-6d4fe3da8529",
   "metadata": {},
   "outputs": [
    {
     "data": {
      "text/html": [
       "<div>\n",
       "<style scoped>\n",
       "    .dataframe tbody tr th:only-of-type {\n",
       "        vertical-align: middle;\n",
       "    }\n",
       "\n",
       "    .dataframe tbody tr th {\n",
       "        vertical-align: top;\n",
       "    }\n",
       "\n",
       "    .dataframe thead th {\n",
       "        text-align: right;\n",
       "    }\n",
       "</style>\n",
       "<table border=\"1\" class=\"dataframe\">\n",
       "  <thead>\n",
       "    <tr style=\"text-align: right;\">\n",
       "      <th></th>\n",
       "      <th></th>\n",
       "      <th>ОКТМО</th>\n",
       "      <th>Доходы</th>\n",
       "      <th>Социальные выплаты</th>\n",
       "      <th>Суммарные выплаты</th>\n",
       "      <th>Выплаты на 1 чел.</th>\n",
       "    </tr>\n",
       "  </thead>\n",
       "  <tbody>\n",
       "    <tr>\n",
       "      <th>Тюменская область</th>\n",
       "      <th>Всего</th>\n",
       "      <td>71</td>\n",
       "      <td>449865535.1</td>\n",
       "      <td>133413326.3</td>\n",
       "      <td>5.832789e+08</td>\n",
       "      <td>675188.3</td>\n",
       "    </tr>\n",
       "    <tr>\n",
       "      <th>Ханты-Мансийский автономный округ - Югра (Тюменская область)</th>\n",
       "      <th>Всего</th>\n",
       "      <td>71</td>\n",
       "      <td>920897253.0</td>\n",
       "      <td>199025707.3</td>\n",
       "      <td>1.119923e+09</td>\n",
       "      <td>1486001.4</td>\n",
       "    </tr>\n",
       "    <tr>\n",
       "      <th>Ямало-Ненецкий автономный округ (Тюменская область)</th>\n",
       "      <th>Всего</th>\n",
       "      <td>71</td>\n",
       "      <td>531177158.0</td>\n",
       "      <td>71653948.5</td>\n",
       "      <td>6.028311e+08</td>\n",
       "      <td>2492005.1</td>\n",
       "    </tr>\n",
       "  </tbody>\n",
       "</table>\n",
       "</div>"
      ],
      "text/plain": [
       "                                                         ОКТМО       Доходы  \\\n",
       "Тюменская область                                  Всего    71  449865535.1   \n",
       "Ханты-Мансийский автономный округ - Югра (Тюмен... Всего    71  920897253.0   \n",
       "Ямало-Ненецкий автономный округ (Тюменская обла... Всего    71  531177158.0   \n",
       "\n",
       "                                                          Социальные выплаты  \\\n",
       "Тюменская область                                  Всего         133413326.3   \n",
       "Ханты-Мансийский автономный округ - Югра (Тюмен... Всего         199025707.3   \n",
       "Ямало-Ненецкий автономный округ (Тюменская обла... Всего          71653948.5   \n",
       "\n",
       "                                                          Суммарные выплаты  \\\n",
       "Тюменская область                                  Всего       5.832789e+08   \n",
       "Ханты-Мансийский автономный округ - Югра (Тюмен... Всего       1.119923e+09   \n",
       "Ямало-Ненецкий автономный округ (Тюменская обла... Всего       6.028311e+08   \n",
       "\n",
       "                                                          Выплаты на 1 чел.  \n",
       "Тюменская область                                  Всего           675188.3  \n",
       "Ханты-Мансийский автономный округ - Югра (Тюмен... Всего          1486001.4  \n",
       "Ямало-Ненецкий автономный округ (Тюменская обла... Всего          2492005.1  "
      ]
     },
     "execution_count": 439,
     "metadata": {},
     "output_type": "execute_result"
    }
   ],
   "source": [
    "income_transferts_2020[income_transferts_2020['ОКТМО'] == '71']"
   ]
  },
  {
   "cell_type": "code",
   "execution_count": 440,
   "id": "655ba6b8-f9e4-4b47-a4cc-8e4b2a7fcb36",
   "metadata": {},
   "outputs": [
    {
     "data": {
      "text/html": [
       "<div>\n",
       "<style scoped>\n",
       "    .dataframe tbody tr th:only-of-type {\n",
       "        vertical-align: middle;\n",
       "    }\n",
       "\n",
       "    .dataframe tbody tr th {\n",
       "        vertical-align: top;\n",
       "    }\n",
       "\n",
       "    .dataframe thead th {\n",
       "        text-align: right;\n",
       "    }\n",
       "</style>\n",
       "<table border=\"1\" class=\"dataframe\">\n",
       "  <thead>\n",
       "    <tr style=\"text-align: right;\">\n",
       "      <th></th>\n",
       "      <th></th>\n",
       "      <th>ОКТМО</th>\n",
       "      <th>Доходы</th>\n",
       "      <th>Социальные выплаты</th>\n",
       "      <th>Суммарные выплаты</th>\n",
       "      <th>Выплаты на 1 чел.</th>\n",
       "    </tr>\n",
       "  </thead>\n",
       "  <tbody>\n",
       "    <tr>\n",
       "      <th>Архангельская область</th>\n",
       "      <th>Всего</th>\n",
       "      <td>11</td>\n",
       "      <td>296500160.0</td>\n",
       "      <td>134446202.3</td>\n",
       "      <td>430946362.3</td>\n",
       "      <td>757286.1</td>\n",
       "    </tr>\n",
       "    <tr>\n",
       "      <th>Ненецкий автономный округ (Архангельская область)</th>\n",
       "      <th>Всего</th>\n",
       "      <td>11</td>\n",
       "      <td>50826149.0</td>\n",
       "      <td>11922724.9</td>\n",
       "      <td>62748873.9</td>\n",
       "      <td>1738525.4</td>\n",
       "    </tr>\n",
       "  </tbody>\n",
       "</table>\n",
       "</div>"
      ],
      "text/plain": [
       "                                                        ОКТМО       Доходы  \\\n",
       "Архангельская область                             Всего    11  296500160.0   \n",
       "Ненецкий автономный округ (Архангельская область) Всего    11   50826149.0   \n",
       "\n",
       "                                                         Социальные выплаты  \\\n",
       "Архангельская область                             Всего         134446202.3   \n",
       "Ненецкий автономный округ (Архангельская область) Всего          11922724.9   \n",
       "\n",
       "                                                         Суммарные выплаты  \\\n",
       "Архангельская область                             Всего        430946362.3   \n",
       "Ненецкий автономный округ (Архангельская область) Всего         62748873.9   \n",
       "\n",
       "                                                         Выплаты на 1 чел.  \n",
       "Архангельская область                             Всего           757286.1  \n",
       "Ненецкий автономный округ (Архангельская область) Всего          1738525.4  "
      ]
     },
     "execution_count": 440,
     "metadata": {},
     "output_type": "execute_result"
    }
   ],
   "source": [
    "income_transferts_2020[income_transferts_2020['ОКТМО'] == '11']"
   ]
  },
  {
   "cell_type": "code",
   "execution_count": 441,
   "id": "ee727df0-9586-4287-8d5b-4ac51c75b468",
   "metadata": {},
   "outputs": [
    {
     "data": {
      "text/plain": [
       "['Тверская область', 'Кемеровская область - Кузбасс', 'Ростовская область']"
      ]
     },
     "execution_count": 441,
     "metadata": {},
     "output_type": "execute_result"
    }
   ],
   "source": [
    "# check if there are duplications in municipal, town and others OKTMO\n",
    "check_oktmo_2016_dupl_list = check_oktmo_duplication(\n",
    "    data=income_transferts_2020, \n",
    "    column_check='ОКТМО',\n",
    "    normalize_oktmo_list=municipal_town_dict)\n",
    "\n",
    "check_oktmo_2016_dupl_list"
   ]
  },
  {
   "cell_type": "code",
   "execution_count": 442,
   "id": "5be60966-2260-49b4-bb26-544905889e5f",
   "metadata": {},
   "outputs": [
    {
     "data": {
      "text/html": [
       "<div>\n",
       "<style scoped>\n",
       "    .dataframe tbody tr th:only-of-type {\n",
       "        vertical-align: middle;\n",
       "    }\n",
       "\n",
       "    .dataframe tbody tr th {\n",
       "        vertical-align: top;\n",
       "    }\n",
       "\n",
       "    .dataframe thead th {\n",
       "        text-align: right;\n",
       "    }\n",
       "</style>\n",
       "<table border=\"1\" class=\"dataframe\">\n",
       "  <thead>\n",
       "    <tr style=\"text-align: right;\">\n",
       "      <th></th>\n",
       "      <th></th>\n",
       "      <th>ОКТМО</th>\n",
       "      <th>Доходы</th>\n",
       "      <th>Социальные выплаты</th>\n",
       "      <th>Суммарные выплаты</th>\n",
       "      <th>Выплаты на 1 чел.</th>\n",
       "    </tr>\n",
       "  </thead>\n",
       "  <tbody>\n",
       "    <tr>\n",
       "      <th rowspan=\"2\" valign=\"top\">Алтайский край</th>\n",
       "      <th>Муниципальные районы</th>\n",
       "      <td>01 600 000</td>\n",
       "      <td>98592778.5</td>\n",
       "      <td>92751510.9</td>\n",
       "      <td>191344289.4</td>\n",
       "      <td>186104.3</td>\n",
       "    </tr>\n",
       "    <tr>\n",
       "      <th>Городские округа</th>\n",
       "      <td>01 700 000</td>\n",
       "      <td>268900130.5</td>\n",
       "      <td>108799078.8</td>\n",
       "      <td>377699209.3</td>\n",
       "      <td>295401.3</td>\n",
       "    </tr>\n",
       "  </tbody>\n",
       "</table>\n",
       "</div>"
      ],
      "text/plain": [
       "                                          ОКТМО       Доходы  \\\n",
       "Алтайский край Муниципальные районы  01 600 000   98592778.5   \n",
       "               Городские округа      01 700 000  268900130.5   \n",
       "\n",
       "                                     Социальные выплаты  Суммарные выплаты  \\\n",
       "Алтайский край Муниципальные районы          92751510.9        191344289.4   \n",
       "               Городские округа             108799078.8        377699209.3   \n",
       "\n",
       "                                     Выплаты на 1 чел.  \n",
       "Алтайский край Муниципальные районы           186104.3  \n",
       "               Городские округа               295401.3  "
      ]
     },
     "execution_count": 442,
     "metadata": {},
     "output_type": "execute_result"
    }
   ],
   "source": [
    "income_transferts_2020.loc[income_transferts_2020['ОКТМО'].isin(municipal_town_dict['Алтайский край'])]"
   ]
  },
  {
   "cell_type": "markdown",
   "id": "9b210b8d-e7ff-4e9a-bf8a-040d7dbe8814",
   "metadata": {},
   "source": [
    "##### <font color='#2A5899'>2016 Final Result</font>"
   ]
  },
  {
   "cell_type": "code",
   "execution_count": 443,
   "id": "f0df5e18-567b-4777-84dc-54ab31e93a53",
   "metadata": {},
   "outputs": [
    {
     "data": {
      "text/html": [
       "<div>\n",
       "<style scoped>\n",
       "    .dataframe tbody tr th:only-of-type {\n",
       "        vertical-align: middle;\n",
       "    }\n",
       "\n",
       "    .dataframe tbody tr th {\n",
       "        vertical-align: top;\n",
       "    }\n",
       "\n",
       "    .dataframe thead th {\n",
       "        text-align: right;\n",
       "    }\n",
       "</style>\n",
       "<table border=\"1\" class=\"dataframe\">\n",
       "  <thead>\n",
       "    <tr style=\"text-align: right;\">\n",
       "      <th></th>\n",
       "      <th></th>\n",
       "      <th>ОКТМО</th>\n",
       "      <th>Доходы</th>\n",
       "      <th>Социальные выплаты</th>\n",
       "      <th>Суммарные выплаты</th>\n",
       "      <th>Выплаты на 1 чел.</th>\n",
       "    </tr>\n",
       "  </thead>\n",
       "  <tbody>\n",
       "    <tr>\n",
       "      <th rowspan=\"5\" valign=\"top\">Алтайский край</th>\n",
       "      <th>Всего</th>\n",
       "      <td>01</td>\n",
       "      <td>367492909.0</td>\n",
       "      <td>201550589.7</td>\n",
       "      <td>569043498.8</td>\n",
       "      <td>481505.6</td>\n",
       "    </tr>\n",
       "    <tr>\n",
       "      <th>Муниципальные районы</th>\n",
       "      <td>01 600 000</td>\n",
       "      <td>98592778.5</td>\n",
       "      <td>92751510.9</td>\n",
       "      <td>191344289.4</td>\n",
       "      <td>186104.3</td>\n",
       "    </tr>\n",
       "    <tr>\n",
       "      <th>Алейский</th>\n",
       "      <td>01 601 000</td>\n",
       "      <td>1591328.9</td>\n",
       "      <td>1135974.9</td>\n",
       "      <td>2727303.8</td>\n",
       "      <td>201962.7</td>\n",
       "    </tr>\n",
       "    <tr>\n",
       "      <th>Алтайский</th>\n",
       "      <td>01 602 000</td>\n",
       "      <td>1769736.8</td>\n",
       "      <td>2092842.4</td>\n",
       "      <td>3862579.2</td>\n",
       "      <td>148298.4</td>\n",
       "    </tr>\n",
       "    <tr>\n",
       "      <th>Баевский</th>\n",
       "      <td>01 603 000</td>\n",
       "      <td>804125.3</td>\n",
       "      <td>916818.9</td>\n",
       "      <td>1720944.2</td>\n",
       "      <td>197991.7</td>\n",
       "    </tr>\n",
       "  </tbody>\n",
       "</table>\n",
       "</div>"
      ],
      "text/plain": [
       "                                          ОКТМО       Доходы  \\\n",
       "Алтайский край Всего                         01  367492909.0   \n",
       "               Муниципальные районы  01 600 000   98592778.5   \n",
       "               Алейский              01 601 000    1591328.9   \n",
       "               Алтайский             01 602 000    1769736.8   \n",
       "               Баевский              01 603 000     804125.3   \n",
       "\n",
       "                                     Социальные выплаты  Суммарные выплаты  \\\n",
       "Алтайский край Всего                        201550589.7        569043498.8   \n",
       "               Муниципальные районы          92751510.9        191344289.4   \n",
       "               Алейский                       1135974.9          2727303.8   \n",
       "               Алтайский                      2092842.4          3862579.2   \n",
       "               Баевский                        916818.9          1720944.2   \n",
       "\n",
       "                                     Выплаты на 1 чел.  \n",
       "Алтайский край Всего                          481505.6  \n",
       "               Муниципальные районы           186104.3  \n",
       "               Алейский                       201962.7  \n",
       "               Алтайский                      148298.4  \n",
       "               Баевский                       197991.7  "
      ]
     },
     "execution_count": 443,
     "metadata": {},
     "output_type": "execute_result"
    }
   ],
   "source": [
    "income_transferts_2020.head()"
   ]
  },
  {
   "cell_type": "code",
   "execution_count": 444,
   "id": "fce62b6e-4a35-4d6b-b51f-dfc7da39d3d1",
   "metadata": {},
   "outputs": [
    {
     "data": {
      "text/html": [
       "<div>\n",
       "<style scoped>\n",
       "    .dataframe tbody tr th:only-of-type {\n",
       "        vertical-align: middle;\n",
       "    }\n",
       "\n",
       "    .dataframe tbody tr th {\n",
       "        vertical-align: top;\n",
       "    }\n",
       "\n",
       "    .dataframe thead th {\n",
       "        text-align: right;\n",
       "    }\n",
       "</style>\n",
       "<table border=\"1\" class=\"dataframe\">\n",
       "  <thead>\n",
       "    <tr style=\"text-align: right;\">\n",
       "      <th></th>\n",
       "      <th>ОКТМО</th>\n",
       "      <th>Доходы</th>\n",
       "      <th>Социальные выплаты</th>\n",
       "      <th>Суммарные выплаты</th>\n",
       "      <th>Выплаты на 1 чел.</th>\n",
       "    </tr>\n",
       "  </thead>\n",
       "  <tbody>\n",
       "    <tr>\n",
       "      <th>Всего</th>\n",
       "      <td>46</td>\n",
       "      <td>2762633018.7</td>\n",
       "      <td>715024640.4</td>\n",
       "      <td>3477657659.1</td>\n",
       "      <td>1045756.6</td>\n",
       "    </tr>\n",
       "  </tbody>\n",
       "</table>\n",
       "</div>"
      ],
      "text/plain": [
       "      ОКТМО        Доходы Социальные выплаты Суммарные выплаты  \\\n",
       "Всего    46  2762633018.7        715024640.4      3477657659.1   \n",
       "\n",
       "      Выплаты на 1 чел.  \n",
       "Всего         1045756.6  "
      ]
     },
     "execution_count": 444,
     "metadata": {},
     "output_type": "execute_result"
    }
   ],
   "source": [
    "get_data_two_level(\n",
    "    data=income_transferts_2020,\n",
    "    level0='Московская область',\n",
    "    level1='Всего',\n",
    "    kind='index')"
   ]
  },
  {
   "cell_type": "code",
   "execution_count": 445,
   "id": "60e5c7ca-095f-40c1-8946-3b716f9a73b1",
   "metadata": {},
   "outputs": [
    {
     "data": {
      "text/html": [
       "<div>\n",
       "<style scoped>\n",
       "    .dataframe tbody tr th:only-of-type {\n",
       "        vertical-align: middle;\n",
       "    }\n",
       "\n",
       "    .dataframe tbody tr th {\n",
       "        vertical-align: top;\n",
       "    }\n",
       "\n",
       "    .dataframe thead th {\n",
       "        text-align: right;\n",
       "    }\n",
       "</style>\n",
       "<table border=\"1\" class=\"dataframe\">\n",
       "  <thead>\n",
       "    <tr style=\"text-align: right;\">\n",
       "      <th></th>\n",
       "      <th>ОКТМО</th>\n",
       "      <th>Доходы</th>\n",
       "      <th>Социальные выплаты</th>\n",
       "      <th>Суммарные выплаты</th>\n",
       "      <th>Выплаты на 1 чел.</th>\n",
       "    </tr>\n",
       "  </thead>\n",
       "  <tbody>\n",
       "    <tr>\n",
       "      <th>Всего</th>\n",
       "      <td>11</td>\n",
       "      <td>50826149.0</td>\n",
       "      <td>11922724.9</td>\n",
       "      <td>62748873.9</td>\n",
       "      <td>1738525.4</td>\n",
       "    </tr>\n",
       "    <tr>\n",
       "      <th>Муниципальные районы</th>\n",
       "      <td>11 800 000</td>\n",
       "      <td>35976672.0</td>\n",
       "      <td>7762359.1</td>\n",
       "      <td>43739031.1</td>\n",
       "      <td>988452.7</td>\n",
       "    </tr>\n",
       "    <tr>\n",
       "      <th>Заполярны йрайон</th>\n",
       "      <td>11 811 000</td>\n",
       "      <td>21127195.0</td>\n",
       "      <td>3601993.3</td>\n",
       "      <td>24729188.3</td>\n",
       "      <td>1308007.4</td>\n",
       "    </tr>\n",
       "    <tr>\n",
       "      <th>Городские округа</th>\n",
       "      <td>11 850 000</td>\n",
       "      <td>14849477.0</td>\n",
       "      <td>4160365.8</td>\n",
       "      <td>19009842.8</td>\n",
       "      <td>750072.7</td>\n",
       "    </tr>\n",
       "    <tr>\n",
       "      <th>г.Нарьян-Мар</th>\n",
       "      <td>11 851 000</td>\n",
       "      <td>14849477.0</td>\n",
       "      <td>4160365.8</td>\n",
       "      <td>19009842.8</td>\n",
       "      <td>750072.7</td>\n",
       "    </tr>\n",
       "  </tbody>\n",
       "</table>\n",
       "</div>"
      ],
      "text/plain": [
       "                           ОКТМО      Доходы  Социальные выплаты  \\\n",
       "Всего                         11  50826149.0          11922724.9   \n",
       "Муниципальные районы  11 800 000  35976672.0           7762359.1   \n",
       "Заполярны йрайон      11 811 000  21127195.0           3601993.3   \n",
       "Городские округа      11 850 000  14849477.0           4160365.8   \n",
       "г.Нарьян-Мар          11 851 000  14849477.0           4160365.8   \n",
       "\n",
       "                      Суммарные выплаты  Выплаты на 1 чел.  \n",
       "Всего                        62748873.9          1738525.4  \n",
       "Муниципальные районы         43739031.1           988452.7  \n",
       "Заполярны йрайон             24729188.3          1308007.4  \n",
       "Городские округа             19009842.8           750072.7  \n",
       "г.Нарьян-Мар                 19009842.8           750072.7  "
      ]
     },
     "execution_count": 445,
     "metadata": {},
     "output_type": "execute_result"
    }
   ],
   "source": [
    "income_transferts_2020.loc['Ненецкий автономный округ (Архангельская область)']"
   ]
  },
  {
   "cell_type": "code",
   "execution_count": 446,
   "id": "36f2c200-2413-4fdb-a42e-95d4ae59d3ea",
   "metadata": {},
   "outputs": [],
   "source": [
    "datasets_list.append(income_transferts_2020)"
   ]
  },
  {
   "cell_type": "markdown",
   "id": "6f39f45b-1680-4fa7-9993-94ac291dcbc4",
   "metadata": {},
   "source": [
    "#### <font color='#AF4035'>2021 год</font>"
   ]
  },
  {
   "cell_type": "markdown",
   "id": "34df8740-1f7c-4818-b680-6e4a676a91ed",
   "metadata": {},
   "source": [
    "##### Regions OKTMO codes"
   ]
  },
  {
   "cell_type": "code",
   "execution_count": 447,
   "id": "6313129b-609c-4a53-b6a3-ac0bd5b3c81a",
   "metadata": {},
   "outputs": [],
   "source": [
    "path_2021 = \\\n",
    "    ('/Users/a.chasovsky/Library/CloudStorage/GoogleDrive-alexanderchasovsky@gmail.com/'\n",
    "     'Мой диск/Data Science Projects/pers_economics_rus/data/00-Region-codes/')\n",
    "os.chdir(path_2021)\n",
    "%run 2021.ipynb\n",
    "os.chdir(current_path)"
   ]
  },
  {
   "attachments": {},
   "cell_type": "markdown",
   "id": "10427654-4d09-4ca5-900d-214ae743fe17",
   "metadata": {},
   "source": [
    "##### Исправления:\n",
    "- Магаданская область: '44 000 000' -> '44'"
   ]
  },
  {
   "cell_type": "markdown",
   "id": "8defc7ae-7521-4696-b013-b363fe5bd346",
   "metadata": {},
   "source": [
    "##### Data"
   ]
  },
  {
   "cell_type": "code",
   "execution_count": 448,
   "id": "70e97341-c875-436d-b171-2c63d8db9a99",
   "metadata": {},
   "outputs": [],
   "source": [
    "income_transferts_2021_link = \\\n",
    "    ('data/02-Population/02-Standard-of-living/01-Income/'\n",
    "     'urov-14a2021.xlsx')"
   ]
  },
  {
   "cell_type": "code",
   "execution_count": 449,
   "id": "f62268ba-06bf-4aee-a1d5-0b45da715bc6",
   "metadata": {},
   "outputs": [],
   "source": [
    "income_transferts_2021_raw = pd.read_excel(income_transferts_2021_link)"
   ]
  },
  {
   "cell_type": "code",
   "execution_count": 450,
   "id": "17ce0b74-50a8-406b-897a-6f3deec14a52",
   "metadata": {},
   "outputs": [
    {
     "data": {
      "text/html": [
       "<div>\n",
       "<style scoped>\n",
       "    .dataframe tbody tr th:only-of-type {\n",
       "        vertical-align: middle;\n",
       "    }\n",
       "\n",
       "    .dataframe tbody tr th {\n",
       "        vertical-align: top;\n",
       "    }\n",
       "\n",
       "    .dataframe thead th {\n",
       "        text-align: right;\n",
       "    }\n",
       "</style>\n",
       "<table border=\"1\" class=\"dataframe\">\n",
       "  <thead>\n",
       "    <tr style=\"text-align: right;\">\n",
       "      <th></th>\n",
       "      <th>Unnamed: 0</th>\n",
       "      <th>Unnamed: 1</th>\n",
       "      <th>Unnamed: 2</th>\n",
       "      <th>Unnamed: 3</th>\n",
       "      <th>Unnamed: 4</th>\n",
       "      <th>Unnamed: 5</th>\n",
       "      <th>Unnamed: 6</th>\n",
       "    </tr>\n",
       "  </thead>\n",
       "  <tbody>\n",
       "    <tr>\n",
       "      <th>0</th>\n",
       "      <td>\"Объем социальных выплат населению и налогооб...</td>\n",
       "      <td>NaN</td>\n",
       "      <td>NaN</td>\n",
       "      <td>NaN</td>\n",
       "      <td>NaN</td>\n",
       "      <td>NaN</td>\n",
       "      <td>NaN</td>\n",
       "    </tr>\n",
       "    <tr>\n",
       "      <th>1</th>\n",
       "      <td>NaN</td>\n",
       "      <td>NaN</td>\n",
       "      <td>NaN</td>\n",
       "      <td>NaN</td>\n",
       "      <td>NaN</td>\n",
       "      <td>NaN</td>\n",
       "      <td>NaN</td>\n",
       "    </tr>\n",
       "    <tr>\n",
       "      <th>2</th>\n",
       "      <td>NaN</td>\n",
       "      <td>NaN</td>\n",
       "      <td>Код ОКТМО</td>\n",
       "      <td>Налогооблагаемые денежные доходы физических ли...</td>\n",
       "      <td>Социальные и другие выплаты, тыс.рублей</td>\n",
       "      <td>Объем социальных выплат населению и налогообла...</td>\n",
       "      <td>Объем социальных выплат и налогооблагаемых ден...</td>\n",
       "    </tr>\n",
       "    <tr>\n",
       "      <th>3</th>\n",
       "      <td>NaN</td>\n",
       "      <td>NaN</td>\n",
       "      <td>1</td>\n",
       "      <td>2</td>\n",
       "      <td>3</td>\n",
       "      <td>4</td>\n",
       "      <td>5</td>\n",
       "    </tr>\n",
       "    <tr>\n",
       "      <th>4</th>\n",
       "      <td>NaN</td>\n",
       "      <td>Алтайский край</td>\n",
       "      <td>01</td>\n",
       "      <td>NaN</td>\n",
       "      <td>NaN</td>\n",
       "      <td>NaN</td>\n",
       "      <td>NaN</td>\n",
       "    </tr>\n",
       "    <tr>\n",
       "      <th>5</th>\n",
       "      <td>NaN</td>\n",
       "      <td>Муниципальные районы</td>\n",
       "      <td>01 600 000</td>\n",
       "      <td>122551388.057801</td>\n",
       "      <td>96835379.023917</td>\n",
       "      <td>219386767.081718</td>\n",
       "      <td>216932.608482</td>\n",
       "    </tr>\n",
       "    <tr>\n",
       "      <th>6</th>\n",
       "      <td>1</td>\n",
       "      <td>Алейский</td>\n",
       "      <td>1601000</td>\n",
       "      <td>2147497.52735</td>\n",
       "      <td>1180669.010353</td>\n",
       "      <td>3328166.537703</td>\n",
       "      <td>254252.600283</td>\n",
       "    </tr>\n",
       "    <tr>\n",
       "      <th>7</th>\n",
       "      <td>2</td>\n",
       "      <td>Алтайский</td>\n",
       "      <td>1602000</td>\n",
       "      <td>2143931.779109</td>\n",
       "      <td>2192810.318364</td>\n",
       "      <td>4336742.097473</td>\n",
       "      <td>165638.304846</td>\n",
       "    </tr>\n",
       "    <tr>\n",
       "      <th>8</th>\n",
       "      <td>3</td>\n",
       "      <td>Баевский</td>\n",
       "      <td>1603000</td>\n",
       "      <td>972777.317738</td>\n",
       "      <td>971883.795473</td>\n",
       "      <td>1944661.113211</td>\n",
       "      <td>230847.710495</td>\n",
       "    </tr>\n",
       "    <tr>\n",
       "      <th>9</th>\n",
       "      <td>4</td>\n",
       "      <td>Бийский</td>\n",
       "      <td>1604000</td>\n",
       "      <td>2657963.790435</td>\n",
       "      <td>3006480.308269</td>\n",
       "      <td>5664444.098705</td>\n",
       "      <td>189490.653287</td>\n",
       "    </tr>\n",
       "  </tbody>\n",
       "</table>\n",
       "</div>"
      ],
      "text/plain": [
       "                                          Unnamed: 0             Unnamed: 1  \\\n",
       "0   \"Объем социальных выплат населению и налогооб...                    NaN   \n",
       "1                                                NaN                    NaN   \n",
       "2                                                NaN                    NaN   \n",
       "3                                                NaN                    NaN   \n",
       "4                                                NaN         Алтайский край   \n",
       "5                                                NaN  Муниципальные районы    \n",
       "6                                                  1               Алейский   \n",
       "7                                                  2              Алтайский   \n",
       "8                                                  3               Баевский   \n",
       "9                                                  4                Бийский   \n",
       "\n",
       "   Unnamed: 2                                         Unnamed: 3  \\\n",
       "0         NaN                                                NaN   \n",
       "1         NaN                                                NaN   \n",
       "2   Код ОКТМО  Налогооблагаемые денежные доходы физических ли...   \n",
       "3           1                                                  2   \n",
       "4          01                                                NaN   \n",
       "5  01 600 000                                   122551388.057801   \n",
       "6     1601000                                      2147497.52735   \n",
       "7     1602000                                     2143931.779109   \n",
       "8     1603000                                      972777.317738   \n",
       "9     1604000                                     2657963.790435   \n",
       "\n",
       "                                Unnamed: 4  \\\n",
       "0                                      NaN   \n",
       "1                                      NaN   \n",
       "2  Социальные и другие выплаты, тыс.рублей   \n",
       "3                                        3   \n",
       "4                                      NaN   \n",
       "5                          96835379.023917   \n",
       "6                           1180669.010353   \n",
       "7                           2192810.318364   \n",
       "8                            971883.795473   \n",
       "9                           3006480.308269   \n",
       "\n",
       "                                          Unnamed: 5  \\\n",
       "0                                                NaN   \n",
       "1                                                NaN   \n",
       "2  Объем социальных выплат населению и налогообла...   \n",
       "3                                                  4   \n",
       "4                                                NaN   \n",
       "5                                   219386767.081718   \n",
       "6                                     3328166.537703   \n",
       "7                                     4336742.097473   \n",
       "8                                     1944661.113211   \n",
       "9                                     5664444.098705   \n",
       "\n",
       "                                          Unnamed: 6  \n",
       "0                                                NaN  \n",
       "1                                                NaN  \n",
       "2  Объем социальных выплат и налогооблагаемых ден...  \n",
       "3                                                  5  \n",
       "4                                                NaN  \n",
       "5                                      216932.608482  \n",
       "6                                      254252.600283  \n",
       "7                                      165638.304846  \n",
       "8                                      230847.710495  \n",
       "9                                      189490.653287  "
      ]
     },
     "execution_count": 450,
     "metadata": {},
     "output_type": "execute_result"
    }
   ],
   "source": [
    "income_transferts_2021_raw.head(10)"
   ]
  },
  {
   "cell_type": "code",
   "execution_count": 451,
   "id": "c6286b2a-d4b5-49e2-a0d1-35ab7c535a1f",
   "metadata": {},
   "outputs": [
    {
     "data": {
      "text/html": [
       "<div>\n",
       "<style scoped>\n",
       "    .dataframe tbody tr th:only-of-type {\n",
       "        vertical-align: middle;\n",
       "    }\n",
       "\n",
       "    .dataframe tbody tr th {\n",
       "        vertical-align: top;\n",
       "    }\n",
       "\n",
       "    .dataframe thead th {\n",
       "        text-align: right;\n",
       "    }\n",
       "</style>\n",
       "<table border=\"1\" class=\"dataframe\">\n",
       "  <thead>\n",
       "    <tr style=\"text-align: right;\">\n",
       "      <th></th>\n",
       "      <th>Unnamed: 0</th>\n",
       "      <th>Unnamed: 1</th>\n",
       "      <th>Unnamed: 2</th>\n",
       "      <th>Unnamed: 3</th>\n",
       "      <th>Unnamed: 4</th>\n",
       "      <th>Unnamed: 5</th>\n",
       "      <th>Unnamed: 6</th>\n",
       "    </tr>\n",
       "  </thead>\n",
       "  <tbody>\n",
       "    <tr>\n",
       "      <th>2659</th>\n",
       "      <td>NaN</td>\n",
       "      <td>NaN</td>\n",
       "      <td>NaN</td>\n",
       "      <td>NaN</td>\n",
       "      <td>NaN</td>\n",
       "      <td>NaN</td>\n",
       "      <td>NaN</td>\n",
       "    </tr>\n",
       "    <tr>\n",
       "      <th>2660</th>\n",
       "      <td>NaN</td>\n",
       "      <td>Еврейская автономная область</td>\n",
       "      <td>99</td>\n",
       "      <td>NaN</td>\n",
       "      <td>NaN</td>\n",
       "      <td>NaN</td>\n",
       "      <td>NaN</td>\n",
       "    </tr>\n",
       "    <tr>\n",
       "      <th>2661</th>\n",
       "      <td>NaN</td>\n",
       "      <td>Муниципальные районы</td>\n",
       "      <td>99600000</td>\n",
       "      <td>16634219</td>\n",
       "      <td>8423691.38444</td>\n",
       "      <td>25057910.38444</td>\n",
       "      <td>293109.257041</td>\n",
       "    </tr>\n",
       "    <tr>\n",
       "      <th>2662</th>\n",
       "      <td>1</td>\n",
       "      <td>Биробиджанский</td>\n",
       "      <td>99605000</td>\n",
       "      <td>1333210.666667</td>\n",
       "      <td>1135702.246647</td>\n",
       "      <td>2468912.913314</td>\n",
       "      <td>227633.497447</td>\n",
       "    </tr>\n",
       "    <tr>\n",
       "      <th>2663</th>\n",
       "      <td>2</td>\n",
       "      <td>Ленинский</td>\n",
       "      <td>99610000</td>\n",
       "      <td>2335266</td>\n",
       "      <td>1405910.44841</td>\n",
       "      <td>3741176.44841</td>\n",
       "      <td>212036.75178</td>\n",
       "    </tr>\n",
       "    <tr>\n",
       "      <th>2664</th>\n",
       "      <td>3</td>\n",
       "      <td>Облученский</td>\n",
       "      <td>99620000</td>\n",
       "      <td>7981012.333333</td>\n",
       "      <td>2684688.415341</td>\n",
       "      <td>10665700.748674</td>\n",
       "      <td>438701.083772</td>\n",
       "    </tr>\n",
       "    <tr>\n",
       "      <th>2665</th>\n",
       "      <td>4</td>\n",
       "      <td>Октябрьский</td>\n",
       "      <td>99625000</td>\n",
       "      <td>1503002.666667</td>\n",
       "      <td>903138.655219</td>\n",
       "      <td>2406141.321886</td>\n",
       "      <td>259059.143183</td>\n",
       "    </tr>\n",
       "    <tr>\n",
       "      <th>2666</th>\n",
       "      <td>5</td>\n",
       "      <td>Смидовичский</td>\n",
       "      <td>99630000</td>\n",
       "      <td>3481727.333333</td>\n",
       "      <td>2294251.618824</td>\n",
       "      <td>5775978.952157</td>\n",
       "      <td>246836.707357</td>\n",
       "    </tr>\n",
       "    <tr>\n",
       "      <th>2667</th>\n",
       "      <td>NaN</td>\n",
       "      <td>Городские округа</td>\n",
       "      <td>99700000</td>\n",
       "      <td>21231514.333333</td>\n",
       "      <td>8357370.60556</td>\n",
       "      <td>29588884.938893</td>\n",
       "      <td>424639.565713</td>\n",
       "    </tr>\n",
       "    <tr>\n",
       "      <th>2668</th>\n",
       "      <td>1</td>\n",
       "      <td>г. Биробиджан</td>\n",
       "      <td>99701000</td>\n",
       "      <td>21231514.333333</td>\n",
       "      <td>8357370.60556</td>\n",
       "      <td>29588884.938893</td>\n",
       "      <td>424639.565713</td>\n",
       "    </tr>\n",
       "  </tbody>\n",
       "</table>\n",
       "</div>"
      ],
      "text/plain": [
       "     Unnamed: 0                     Unnamed: 1 Unnamed: 2       Unnamed: 3  \\\n",
       "2659        NaN                            NaN        NaN              NaN   \n",
       "2660        NaN  Еврейская автономная область          99              NaN   \n",
       "2661        NaN          Муниципальные районы    99600000         16634219   \n",
       "2662          1                Биробиджанский    99605000   1333210.666667   \n",
       "2663          2                     Ленинский    99610000          2335266   \n",
       "2664          3                   Облученский    99620000   7981012.333333   \n",
       "2665          4                   Октябрьский    99625000   1503002.666667   \n",
       "2666          5                  Смидовичский    99630000   3481727.333333   \n",
       "2667        NaN              Городские округа    99700000  21231514.333333   \n",
       "2668          1                  г. Биробиджан   99701000  21231514.333333   \n",
       "\n",
       "          Unnamed: 4       Unnamed: 5     Unnamed: 6  \n",
       "2659             NaN              NaN            NaN  \n",
       "2660             NaN              NaN            NaN  \n",
       "2661   8423691.38444   25057910.38444  293109.257041  \n",
       "2662  1135702.246647   2468912.913314  227633.497447  \n",
       "2663   1405910.44841    3741176.44841   212036.75178  \n",
       "2664  2684688.415341  10665700.748674  438701.083772  \n",
       "2665   903138.655219   2406141.321886  259059.143183  \n",
       "2666  2294251.618824   5775978.952157  246836.707357  \n",
       "2667   8357370.60556  29588884.938893  424639.565713  \n",
       "2668   8357370.60556  29588884.938893  424639.565713  "
      ]
     },
     "execution_count": 451,
     "metadata": {},
     "output_type": "execute_result"
    }
   ],
   "source": [
    "income_transferts_2021_raw.tail(10)"
   ]
  },
  {
   "cell_type": "code",
   "execution_count": 452,
   "id": "7e6cda6d-70bf-42a1-ba4b-e3bafb6945e6",
   "metadata": {},
   "outputs": [],
   "source": [
    "income_transferts_2021 = income_transferts_2021_raw.copy()"
   ]
  },
  {
   "cell_type": "markdown",
   "id": "dcb6fb68-9094-4aa0-bab6-5b66f69b7c37",
   "metadata": {},
   "source": [
    "##### Rename columns and drop useless"
   ]
  },
  {
   "cell_type": "code",
   "execution_count": 453,
   "id": "0a787147-b946-45db-9638-4526ef22e653",
   "metadata": {},
   "outputs": [],
   "source": [
    "income_transferts_2021_columns = [\n",
    "    '-', 'index1', 'ОКТМО', 'Доходы', 'Социальные выплаты',\n",
    "    'Суммарные выплаты', 'Выплаты на 1 чел.'\n",
    "]"
   ]
  },
  {
   "cell_type": "code",
   "execution_count": 454,
   "id": "5cb583c1-08f8-4121-bc46-b55e2e9918ea",
   "metadata": {},
   "outputs": [],
   "source": [
    "income_transferts_2021.columns = income_transferts_2021_columns"
   ]
  },
  {
   "cell_type": "code",
   "execution_count": 455,
   "id": "3ddaded2-0891-44a8-ac59-27e6bc035aae",
   "metadata": {},
   "outputs": [],
   "source": [
    "# drop useless columns with name '-'\n",
    "income_transferts_2021 = income_transferts_2021.drop('-', axis=1)"
   ]
  },
  {
   "cell_type": "markdown",
   "id": "f8192def-9c89-42c1-9404-9e9031bfde56",
   "metadata": {},
   "source": [
    "##### Cut rows and drop NaNs"
   ]
  },
  {
   "cell_type": "code",
   "execution_count": 456,
   "id": "e474012d-0f1a-4a56-8ab3-b74d2a810ab6",
   "metadata": {},
   "outputs": [],
   "source": [
    "# cut rows\n",
    "income_transferts_2021 = transform_cut_rows(income_transferts_2021, 4, 0)"
   ]
  },
  {
   "cell_type": "code",
   "execution_count": 457,
   "id": "65e10e94-792c-4993-b26b-52d4883236cb",
   "metadata": {},
   "outputs": [],
   "source": [
    "# drop rows with NaNs in 'index0' column\n",
    "income_transferts_2021 = \\\n",
    "    income_transferts_2021[income_transferts_2021['index1'].notna()]"
   ]
  },
  {
   "cell_type": "markdown",
   "id": "55dd3e26-490a-492c-919c-197842ac6417",
   "metadata": {},
   "source": [
    "##### Normalize OKTMO"
   ]
  },
  {
   "cell_type": "code",
   "execution_count": 458,
   "id": "28026b23-609f-4549-9f1c-8c5ffeb444ab",
   "metadata": {},
   "outputs": [],
   "source": [
    "# make OKTMO column values str\n",
    "income_transferts_2021['ОКТМО'] = income_transferts_2021['ОКТМО'].astype(str)"
   ]
  },
  {
   "cell_type": "code",
   "execution_count": 459,
   "id": "274ea7c4-2b10-46f4-aef8-47e915bd44f2",
   "metadata": {},
   "outputs": [],
   "source": [
    "# normalize oktmo - remove spaces and other dirt\n",
    "income_transferts_2021['ОКТМО'] = \\\n",
    "    income_transferts_2021['ОКТМО'].apply(lambda x: normalize_oktmo(x))"
   ]
  },
  {
   "cell_type": "markdown",
   "id": "0e30593f-5743-44ae-a869-209d4869d923",
   "metadata": {},
   "source": [
    "##### Level0 for Multiindex"
   ]
  },
  {
   "cell_type": "code",
   "execution_count": 460,
   "id": "5070ec1d-86c7-4d96-a803-9902b639472d",
   "metadata": {},
   "outputs": [],
   "source": [
    "# create index level0 column\n",
    "income_transferts_2021['index0'] = np.NaN"
   ]
  },
  {
   "cell_type": "code",
   "execution_count": 461,
   "id": "b328e8f5-aa16-4d75-89a7-8c613e32a9b1",
   "metadata": {},
   "outputs": [],
   "source": [
    "# fill in by region with OKTMO in OKTMO column\n",
    "income_transferts_2021 = (income_transferts_2021\n",
    "                          .assign(index0=income_transferts_2021['ОКТМО']\n",
    "                                  .map(region_oktmo_norm_dict_sorted)\n",
    "                                  .fillna(income_transferts_2021['index0'])))"
   ]
  },
  {
   "cell_type": "code",
   "execution_count": 462,
   "id": "f40cbc81-a723-4b85-a092-fceaad4e056c",
   "metadata": {},
   "outputs": [],
   "source": [
    "# 1) 'Архангельская область' and \n",
    "# 'Ненецкий автономный округ (Архангельская область)' have the same OKTMO == 11\n",
    "# 2) 'Ненецкий автономный округ (Архангельская область)' index allways greater than index of \n",
    "# 'Архангельская область'\n",
    "# knowing this, we replace duplicate 'Архангельская область' by 'Ненецкий автономный округ (Архангельская область)'\n",
    "income_transferts_2021 = normalize_nenec(income_transferts_2021, 'index0')"
   ]
  },
  {
   "cell_type": "code",
   "execution_count": 463,
   "id": "1749a15c-a802-4028-8ef6-53bf5d747d99",
   "metadata": {},
   "outputs": [],
   "source": [
    "# the same correction for 'Тюменская область'\n",
    "income_transferts_2021 = normalize_khantymanci(income_transferts_2021, 'index0')"
   ]
  },
  {
   "cell_type": "code",
   "execution_count": 464,
   "id": "f9eecd52-cffa-4505-846a-91999d2965b9",
   "metadata": {},
   "outputs": [],
   "source": [
    "# fill '-' values in index0 column\n",
    "income_transferts_2021 = transform_fill_values_by_previous(\n",
    "    income_transferts_2021, kind='column', column_name='index0')"
   ]
  },
  {
   "cell_type": "markdown",
   "id": "d2eae745-019b-4a85-a008-70645c6fcd80",
   "metadata": {},
   "source": [
    "##### Level1 for Multiindex"
   ]
  },
  {
   "cell_type": "code",
   "execution_count": 465,
   "id": "a4deab23-597a-44df-af5a-a6245d65a01d",
   "metadata": {},
   "outputs": [],
   "source": [
    "# change region name in 'index1' column to 'Всего'\n",
    "income_transferts_2021['index1'] = income_transferts_2021.apply(\n",
    "    lambda x: transferts_various(x['ОКТМО'], x['index1']), axis=1)"
   ]
  },
  {
   "cell_type": "code",
   "execution_count": 466,
   "id": "635684c9-8798-4428-b811-c12fac42c01e",
   "metadata": {},
   "outputs": [],
   "source": [
    "# normalize 'Муниципальные районы' and 'Гордские округа' - remove spaces and other dirt\n",
    "income_transferts_2021['index1'] = \\\n",
    "    income_transferts_2021['index1'].apply(lambda x: normalize_municipal_town(x))"
   ]
  },
  {
   "cell_type": "markdown",
   "id": "ea439741-4bf8-4710-84c6-e3b81f8bbfe4",
   "metadata": {},
   "source": [
    "##### Fill rows with sum ('Всего')"
   ]
  },
  {
   "cell_type": "code",
   "execution_count": 467,
   "id": "3514c941-6fd6-468a-85b0-7c84e319d95b",
   "metadata": {},
   "outputs": [],
   "source": [
    "# columns for sum of 'Муниципальные районы' and 'Городские округа'\n",
    "columns_summary2012 = [\n",
    "    'Доходы', 'Социальные выплаты', 'Суммарные выплаты', 'Выплаты на 1 чел.']"
   ]
  },
  {
   "cell_type": "code",
   "execution_count": 468,
   "id": "2e881f80-9110-43cd-a750-ba75b7161855",
   "metadata": {},
   "outputs": [],
   "source": [
    "# create regions list\n",
    "regions_list2012 = list(set(income_transferts_2021['index0']))\n",
    "regions_list2012.sort()"
   ]
  },
  {
   "cell_type": "code",
   "execution_count": 469,
   "id": "92efc714-7dba-4632-bfcb-e8d28ced15d5",
   "metadata": {},
   "outputs": [
    {
     "name": "stdout",
     "output_type": "stream",
     "text": [
      "Region Санкт-Петербург not in \"Minucipal-Town Dictionary\"\n"
     ]
    }
   ],
   "source": [
    "# count sum of 'Муниципальные районы' and 'Городские округа'\n",
    "income_transferts_2021 = calculate_sum_transferts(\n",
    "    data=income_transferts_2021,\n",
    "    columns=columns_summary2012,\n",
    "    regions=regions_list2012,\n",
    "    mapping_dict=municipal_town_dict)"
   ]
  },
  {
   "cell_type": "markdown",
   "id": "cb30d7f0-4ca0-4d30-b7b2-4f728e0f2e96",
   "metadata": {},
   "source": [
    "##### Count Regions"
   ]
  },
  {
   "cell_type": "code",
   "execution_count": 470,
   "id": "890bb088-8bdd-41d2-98c4-c0d6b28d1940",
   "metadata": {},
   "outputs": [
    {
     "data": {
      "text/plain": [
       "83"
      ]
     },
     "execution_count": 470,
     "metadata": {},
     "output_type": "execute_result"
    }
   ],
   "source": [
    "# count regions\n",
    "regions_count2012 = len(set(income_transferts_2021['index0'].values))\n",
    "regions_count2012"
   ]
  },
  {
   "cell_type": "markdown",
   "id": "68b43d5d-7073-4f0a-baac-002e25699ddb",
   "metadata": {},
   "source": [
    "##### Create Multiindex"
   ]
  },
  {
   "cell_type": "code",
   "execution_count": 471,
   "id": "4efc4bd3-6113-4a45-9bfd-b1d6ad956a8e",
   "metadata": {},
   "outputs": [],
   "source": [
    "# columns to multiindex\n",
    "income_transferts_2021 = transform_make_index_from_columns(\n",
    "    income_transferts_2021, ['index0', 'index1'])"
   ]
  },
  {
   "cell_type": "code",
   "execution_count": 472,
   "id": "a0e16570-ac6c-4331-9ebf-d29a9fe3e361",
   "metadata": {},
   "outputs": [],
   "source": [
    "# drop columns, that became multiindexes\n",
    "income_transferts_2021 = income_transferts_2021.drop(['index0', 'index1'], axis=1)"
   ]
  },
  {
   "cell_type": "markdown",
   "id": "4ba6c9b1-0f20-4635-8ab6-926fa5ebac0a",
   "metadata": {},
   "source": [
    "##### Round (one symbol)"
   ]
  },
  {
   "cell_type": "code",
   "execution_count": 473,
   "id": "025495e9-db20-4c35-912c-3736b5733c5b",
   "metadata": {},
   "outputs": [],
   "source": [
    "# round\n",
    "for column in income_transferts_2021.columns:\n",
    "    try:\n",
    "        income_transferts_2021[column] = \\\n",
    "            income_transferts_2021[column].astype(float).round(1)\n",
    "    except ValueError:\n",
    "        pass"
   ]
  },
  {
   "cell_type": "markdown",
   "id": "99d93c9e-d9d2-4b3c-9f80-42cecac4666a",
   "metadata": {},
   "source": [
    "##### <font color='#2A5899'>2016 Check for Discrepancy</font>"
   ]
  },
  {
   "cell_type": "code",
   "execution_count": 474,
   "id": "b9ac9fdf-f280-459d-9c63-8a90570372bc",
   "metadata": {},
   "outputs": [
    {
     "data": {
      "text/plain": [
       "False"
      ]
     },
     "execution_count": 474,
     "metadata": {},
     "output_type": "execute_result"
    }
   ],
   "source": [
    "# OKTMO check for NaN\n",
    "income_transferts_2021[income_transferts_2021['ОКТМО'].isna()].any().any()"
   ]
  },
  {
   "cell_type": "code",
   "execution_count": 475,
   "id": "67b34b73-4294-4e29-a0df-ac2a1430fa07",
   "metadata": {},
   "outputs": [
    {
     "data": {
      "text/plain": [
       "True"
      ]
     },
     "execution_count": 475,
     "metadata": {},
     "output_type": "execute_result"
    }
   ],
   "source": [
    "# all data check for NaN\n",
    "income_transferts_2021[income_transferts_2021.isna().any(axis=1)].any().any()"
   ]
  },
  {
   "cell_type": "code",
   "execution_count": 476,
   "id": "74fbaa66-7e00-4479-a0b6-d8d74fe74825",
   "metadata": {},
   "outputs": [
    {
     "data": {
      "text/html": [
       "<div>\n",
       "<style scoped>\n",
       "    .dataframe tbody tr th:only-of-type {\n",
       "        vertical-align: middle;\n",
       "    }\n",
       "\n",
       "    .dataframe tbody tr th {\n",
       "        vertical-align: top;\n",
       "    }\n",
       "\n",
       "    .dataframe thead th {\n",
       "        text-align: right;\n",
       "    }\n",
       "</style>\n",
       "<table border=\"1\" class=\"dataframe\">\n",
       "  <thead>\n",
       "    <tr style=\"text-align: right;\">\n",
       "      <th></th>\n",
       "      <th></th>\n",
       "      <th>ОКТМО</th>\n",
       "      <th>Доходы</th>\n",
       "      <th>Социальные выплаты</th>\n",
       "      <th>Суммарные выплаты</th>\n",
       "      <th>Выплаты на 1 чел.</th>\n",
       "    </tr>\n",
       "  </thead>\n",
       "  <tbody>\n",
       "  </tbody>\n",
       "</table>\n",
       "</div>"
      ],
      "text/plain": [
       "Empty DataFrame\n",
       "Columns: [ОКТМО, Доходы, Социальные выплаты, Суммарные выплаты, Выплаты на 1 чел.]\n",
       "Index: []"
      ]
     },
     "execution_count": 476,
     "metadata": {},
     "output_type": "execute_result"
    }
   ],
   "source": [
    "income_transferts_2021[income_transferts_2021['Доходы'] == 0]"
   ]
  },
  {
   "cell_type": "code",
   "execution_count": 477,
   "id": "f52341e1-b07e-466a-9247-3dd315460550",
   "metadata": {},
   "outputs": [
    {
     "data": {
      "text/html": [
       "<div>\n",
       "<style scoped>\n",
       "    .dataframe tbody tr th:only-of-type {\n",
       "        vertical-align: middle;\n",
       "    }\n",
       "\n",
       "    .dataframe tbody tr th {\n",
       "        vertical-align: top;\n",
       "    }\n",
       "\n",
       "    .dataframe thead th {\n",
       "        text-align: right;\n",
       "    }\n",
       "</style>\n",
       "<table border=\"1\" class=\"dataframe\">\n",
       "  <thead>\n",
       "    <tr style=\"text-align: right;\">\n",
       "      <th></th>\n",
       "      <th></th>\n",
       "      <th>ОКТМО</th>\n",
       "      <th>Доходы</th>\n",
       "      <th>Социальные выплаты</th>\n",
       "      <th>Суммарные выплаты</th>\n",
       "      <th>Выплаты на 1 чел.</th>\n",
       "    </tr>\n",
       "  </thead>\n",
       "  <tbody>\n",
       "  </tbody>\n",
       "</table>\n",
       "</div>"
      ],
      "text/plain": [
       "Empty DataFrame\n",
       "Columns: [ОКТМО, Доходы, Социальные выплаты, Суммарные выплаты, Выплаты на 1 чел.]\n",
       "Index: []"
      ]
     },
     "execution_count": 477,
     "metadata": {},
     "output_type": "execute_result"
    }
   ],
   "source": [
    "income_transferts_2021[income_transferts_2021['Социальные выплаты'] == 0]"
   ]
  },
  {
   "cell_type": "code",
   "execution_count": 478,
   "id": "b6059128-7054-4c6e-bd8a-d40f5d30f2b1",
   "metadata": {},
   "outputs": [
    {
     "data": {
      "text/html": [
       "<div>\n",
       "<style scoped>\n",
       "    .dataframe tbody tr th:only-of-type {\n",
       "        vertical-align: middle;\n",
       "    }\n",
       "\n",
       "    .dataframe tbody tr th {\n",
       "        vertical-align: top;\n",
       "    }\n",
       "\n",
       "    .dataframe thead th {\n",
       "        text-align: right;\n",
       "    }\n",
       "</style>\n",
       "<table border=\"1\" class=\"dataframe\">\n",
       "  <thead>\n",
       "    <tr style=\"text-align: right;\">\n",
       "      <th></th>\n",
       "      <th></th>\n",
       "      <th>ОКТМО</th>\n",
       "      <th>Доходы</th>\n",
       "      <th>Социальные выплаты</th>\n",
       "      <th>Суммарные выплаты</th>\n",
       "      <th>Выплаты на 1 чел.</th>\n",
       "    </tr>\n",
       "  </thead>\n",
       "  <tbody>\n",
       "  </tbody>\n",
       "</table>\n",
       "</div>"
      ],
      "text/plain": [
       "Empty DataFrame\n",
       "Columns: [ОКТМО, Доходы, Социальные выплаты, Суммарные выплаты, Выплаты на 1 чел.]\n",
       "Index: []"
      ]
     },
     "execution_count": 478,
     "metadata": {},
     "output_type": "execute_result"
    }
   ],
   "source": [
    "income_transferts_2021[income_transferts_2021['Суммарные выплаты'] == 0]"
   ]
  },
  {
   "cell_type": "code",
   "execution_count": 479,
   "id": "ea5d68ba-5d4f-4f0f-9e4d-64c8230ac1e6",
   "metadata": {},
   "outputs": [
    {
     "data": {
      "text/html": [
       "<div>\n",
       "<style scoped>\n",
       "    .dataframe tbody tr th:only-of-type {\n",
       "        vertical-align: middle;\n",
       "    }\n",
       "\n",
       "    .dataframe tbody tr th {\n",
       "        vertical-align: top;\n",
       "    }\n",
       "\n",
       "    .dataframe thead th {\n",
       "        text-align: right;\n",
       "    }\n",
       "</style>\n",
       "<table border=\"1\" class=\"dataframe\">\n",
       "  <thead>\n",
       "    <tr style=\"text-align: right;\">\n",
       "      <th></th>\n",
       "      <th></th>\n",
       "      <th>ОКТМО</th>\n",
       "      <th>Доходы</th>\n",
       "      <th>Социальные выплаты</th>\n",
       "      <th>Суммарные выплаты</th>\n",
       "      <th>Выплаты на 1 чел.</th>\n",
       "    </tr>\n",
       "  </thead>\n",
       "  <tbody>\n",
       "  </tbody>\n",
       "</table>\n",
       "</div>"
      ],
      "text/plain": [
       "Empty DataFrame\n",
       "Columns: [ОКТМО, Доходы, Социальные выплаты, Суммарные выплаты, Выплаты на 1 чел.]\n",
       "Index: []"
      ]
     },
     "execution_count": 479,
     "metadata": {},
     "output_type": "execute_result"
    }
   ],
   "source": [
    "income_transferts_2021[income_transferts_2021['Выплаты на 1 чел.'] == 0]"
   ]
  },
  {
   "cell_type": "code",
   "execution_count": 480,
   "id": "8a4f28ac-075c-4f43-8c80-0e96d2940a62",
   "metadata": {},
   "outputs": [
    {
     "data": {
      "text/html": [
       "<div>\n",
       "<style scoped>\n",
       "    .dataframe tbody tr th:only-of-type {\n",
       "        vertical-align: middle;\n",
       "    }\n",
       "\n",
       "    .dataframe tbody tr th {\n",
       "        vertical-align: top;\n",
       "    }\n",
       "\n",
       "    .dataframe thead th {\n",
       "        text-align: right;\n",
       "    }\n",
       "</style>\n",
       "<table border=\"1\" class=\"dataframe\">\n",
       "  <thead>\n",
       "    <tr style=\"text-align: right;\">\n",
       "      <th></th>\n",
       "      <th></th>\n",
       "      <th>ОКТМО</th>\n",
       "      <th>Доходы</th>\n",
       "      <th>Социальные выплаты</th>\n",
       "      <th>Суммарные выплаты</th>\n",
       "      <th>Выплаты на 1 чел.</th>\n",
       "    </tr>\n",
       "  </thead>\n",
       "  <tbody>\n",
       "    <tr>\n",
       "      <th>Тюменская область</th>\n",
       "      <th>Всего</th>\n",
       "      <td>71</td>\n",
       "      <td>609145063.1</td>\n",
       "      <td>146729987.8</td>\n",
       "      <td>7.558751e+08</td>\n",
       "      <td>851202.4</td>\n",
       "    </tr>\n",
       "    <tr>\n",
       "      <th>Ханты-Мансийский автономный округ - Югра (Тюменская область)</th>\n",
       "      <th>Всего</th>\n",
       "      <td>71</td>\n",
       "      <td>979283935.3</td>\n",
       "      <td>209806704.4</td>\n",
       "      <td>1.189091e+09</td>\n",
       "      <td>1559855.8</td>\n",
       "    </tr>\n",
       "    <tr>\n",
       "      <th>Ямало-Ненецкий автономный округ (Тюменская область)</th>\n",
       "      <th>Всего</th>\n",
       "      <td>71</td>\n",
       "      <td>606352210.1</td>\n",
       "      <td>80043506.1</td>\n",
       "      <td>6.863957e+08</td>\n",
       "      <td>3601131.4</td>\n",
       "    </tr>\n",
       "  </tbody>\n",
       "</table>\n",
       "</div>"
      ],
      "text/plain": [
       "                                                         ОКТМО       Доходы  \\\n",
       "Тюменская область                                  Всего    71  609145063.1   \n",
       "Ханты-Мансийский автономный округ - Югра (Тюмен... Всего    71  979283935.3   \n",
       "Ямало-Ненецкий автономный округ (Тюменская обла... Всего    71  606352210.1   \n",
       "\n",
       "                                                          Социальные выплаты  \\\n",
       "Тюменская область                                  Всего         146729987.8   \n",
       "Ханты-Мансийский автономный округ - Югра (Тюмен... Всего         209806704.4   \n",
       "Ямало-Ненецкий автономный округ (Тюменская обла... Всего          80043506.1   \n",
       "\n",
       "                                                          Суммарные выплаты  \\\n",
       "Тюменская область                                  Всего       7.558751e+08   \n",
       "Ханты-Мансийский автономный округ - Югра (Тюмен... Всего       1.189091e+09   \n",
       "Ямало-Ненецкий автономный округ (Тюменская обла... Всего       6.863957e+08   \n",
       "\n",
       "                                                          Выплаты на 1 чел.  \n",
       "Тюменская область                                  Всего           851202.4  \n",
       "Ханты-Мансийский автономный округ - Югра (Тюмен... Всего          1559855.8  \n",
       "Ямало-Ненецкий автономный округ (Тюменская обла... Всего          3601131.4  "
      ]
     },
     "execution_count": 480,
     "metadata": {},
     "output_type": "execute_result"
    }
   ],
   "source": [
    "income_transferts_2021[income_transferts_2021['ОКТМО'] == '71']"
   ]
  },
  {
   "cell_type": "code",
   "execution_count": 481,
   "id": "bc4d87f2-53ad-463c-a225-6459ea0c7407",
   "metadata": {},
   "outputs": [
    {
     "data": {
      "text/html": [
       "<div>\n",
       "<style scoped>\n",
       "    .dataframe tbody tr th:only-of-type {\n",
       "        vertical-align: middle;\n",
       "    }\n",
       "\n",
       "    .dataframe tbody tr th {\n",
       "        vertical-align: top;\n",
       "    }\n",
       "\n",
       "    .dataframe thead th {\n",
       "        text-align: right;\n",
       "    }\n",
       "</style>\n",
       "<table border=\"1\" class=\"dataframe\">\n",
       "  <thead>\n",
       "    <tr style=\"text-align: right;\">\n",
       "      <th></th>\n",
       "      <th></th>\n",
       "      <th>ОКТМО</th>\n",
       "      <th>Доходы</th>\n",
       "      <th>Социальные выплаты</th>\n",
       "      <th>Суммарные выплаты</th>\n",
       "      <th>Выплаты на 1 чел.</th>\n",
       "    </tr>\n",
       "  </thead>\n",
       "  <tbody>\n",
       "    <tr>\n",
       "      <th>Архангельская область</th>\n",
       "      <th>Всего</th>\n",
       "      <td>11</td>\n",
       "      <td>362958129.0</td>\n",
       "      <td>145516657.5</td>\n",
       "      <td>508474786.5</td>\n",
       "      <td>1252724.5</td>\n",
       "    </tr>\n",
       "    <tr>\n",
       "      <th>Ненецкий автономный округ (Архангельская область)</th>\n",
       "      <th>Всего</th>\n",
       "      <td>11</td>\n",
       "      <td>45888319.7</td>\n",
       "      <td>9717011.0</td>\n",
       "      <td>55605330.6</td>\n",
       "      <td>2578201.1</td>\n",
       "    </tr>\n",
       "  </tbody>\n",
       "</table>\n",
       "</div>"
      ],
      "text/plain": [
       "                                                        ОКТМО       Доходы  \\\n",
       "Архангельская область                             Всего    11  362958129.0   \n",
       "Ненецкий автономный округ (Архангельская область) Всего    11   45888319.7   \n",
       "\n",
       "                                                         Социальные выплаты  \\\n",
       "Архангельская область                             Всего         145516657.5   \n",
       "Ненецкий автономный округ (Архангельская область) Всего           9717011.0   \n",
       "\n",
       "                                                         Суммарные выплаты  \\\n",
       "Архангельская область                             Всего        508474786.5   \n",
       "Ненецкий автономный округ (Архангельская область) Всего         55605330.6   \n",
       "\n",
       "                                                         Выплаты на 1 чел.  \n",
       "Архангельская область                             Всего          1252724.5  \n",
       "Ненецкий автономный округ (Архангельская область) Всего          2578201.1  "
      ]
     },
     "execution_count": 481,
     "metadata": {},
     "output_type": "execute_result"
    }
   ],
   "source": [
    "income_transferts_2021[income_transferts_2021['ОКТМО'] == '11']"
   ]
  },
  {
   "cell_type": "code",
   "execution_count": 482,
   "id": "d6156049-a551-4f90-98f0-20c3eaa4ea67",
   "metadata": {},
   "outputs": [
    {
     "data": {
      "text/plain": [
       "['Амурская область',\n",
       " 'Архангельская область',\n",
       " 'Брянская область',\n",
       " 'Нижегородская область',\n",
       " 'Тверская область',\n",
       " 'Камчатский край',\n",
       " 'Кемеровская область - Кузбасс',\n",
       " 'Костромская область',\n",
       " 'Курганская область',\n",
       " 'Мурманская область',\n",
       " 'Новгородская область',\n",
       " 'Ростовская область',\n",
       " 'Ямало-Ненецкий автономный округ (Тюменская область)',\n",
       " 'Забайкальский край']"
      ]
     },
     "execution_count": 482,
     "metadata": {},
     "output_type": "execute_result"
    }
   ],
   "source": [
    "# check if there are duplications in municipal, town and others OKTMO\n",
    "check_oktmo_2016_dupl_list = check_oktmo_duplication(\n",
    "    data=income_transferts_2021, \n",
    "    column_check='ОКТМО',\n",
    "    normalize_oktmo_list=municipal_town_dict)\n",
    "\n",
    "check_oktmo_2016_dupl_list"
   ]
  },
  {
   "cell_type": "code",
   "execution_count": 483,
   "id": "e4cc4541-d9a2-4b24-951f-2892d6591513",
   "metadata": {},
   "outputs": [
    {
     "data": {
      "text/html": [
       "<div>\n",
       "<style scoped>\n",
       "    .dataframe tbody tr th:only-of-type {\n",
       "        vertical-align: middle;\n",
       "    }\n",
       "\n",
       "    .dataframe tbody tr th {\n",
       "        vertical-align: top;\n",
       "    }\n",
       "\n",
       "    .dataframe thead th {\n",
       "        text-align: right;\n",
       "    }\n",
       "</style>\n",
       "<table border=\"1\" class=\"dataframe\">\n",
       "  <thead>\n",
       "    <tr style=\"text-align: right;\">\n",
       "      <th></th>\n",
       "      <th></th>\n",
       "      <th>ОКТМО</th>\n",
       "      <th>Доходы</th>\n",
       "      <th>Социальные выплаты</th>\n",
       "      <th>Суммарные выплаты</th>\n",
       "      <th>Выплаты на 1 чел.</th>\n",
       "    </tr>\n",
       "  </thead>\n",
       "  <tbody>\n",
       "    <tr>\n",
       "      <th rowspan=\"2\" valign=\"top\">Алтайский край</th>\n",
       "      <th>Муниципальные районы</th>\n",
       "      <td>01 600 000</td>\n",
       "      <td>122551388.1</td>\n",
       "      <td>96835379.0</td>\n",
       "      <td>219386767.1</td>\n",
       "      <td>216932.6</td>\n",
       "    </tr>\n",
       "    <tr>\n",
       "      <th>Городские округа</th>\n",
       "      <td>01 700 000</td>\n",
       "      <td>328209476.9</td>\n",
       "      <td>116515317.9</td>\n",
       "      <td>444724794.8</td>\n",
       "      <td>349914.4</td>\n",
       "    </tr>\n",
       "  </tbody>\n",
       "</table>\n",
       "</div>"
      ],
      "text/plain": [
       "                                          ОКТМО       Доходы  \\\n",
       "Алтайский край Муниципальные районы  01 600 000  122551388.1   \n",
       "               Городские округа      01 700 000  328209476.9   \n",
       "\n",
       "                                     Социальные выплаты  Суммарные выплаты  \\\n",
       "Алтайский край Муниципальные районы          96835379.0        219386767.1   \n",
       "               Городские округа             116515317.9        444724794.8   \n",
       "\n",
       "                                     Выплаты на 1 чел.  \n",
       "Алтайский край Муниципальные районы           216932.6  \n",
       "               Городские округа               349914.4  "
      ]
     },
     "execution_count": 483,
     "metadata": {},
     "output_type": "execute_result"
    }
   ],
   "source": [
    "(income_transferts_2021\n",
    " .loc[income_transferts_2021['ОКТМО']\n",
    " .isin(municipal_town_dict['Алтайский край'])])"
   ]
  },
  {
   "cell_type": "markdown",
   "id": "0ad2e67e-d5db-4b15-9c46-6661641fdb26",
   "metadata": {},
   "source": [
    "##### <font color='#2A5899'>2016 Final Result</font>"
   ]
  },
  {
   "cell_type": "code",
   "execution_count": 484,
   "id": "15e6c934-e267-4075-9f49-52047b41f3e0",
   "metadata": {},
   "outputs": [
    {
     "data": {
      "text/html": [
       "<div>\n",
       "<style scoped>\n",
       "    .dataframe tbody tr th:only-of-type {\n",
       "        vertical-align: middle;\n",
       "    }\n",
       "\n",
       "    .dataframe tbody tr th {\n",
       "        vertical-align: top;\n",
       "    }\n",
       "\n",
       "    .dataframe thead th {\n",
       "        text-align: right;\n",
       "    }\n",
       "</style>\n",
       "<table border=\"1\" class=\"dataframe\">\n",
       "  <thead>\n",
       "    <tr style=\"text-align: right;\">\n",
       "      <th></th>\n",
       "      <th></th>\n",
       "      <th>ОКТМО</th>\n",
       "      <th>Доходы</th>\n",
       "      <th>Социальные выплаты</th>\n",
       "      <th>Суммарные выплаты</th>\n",
       "      <th>Выплаты на 1 чел.</th>\n",
       "    </tr>\n",
       "  </thead>\n",
       "  <tbody>\n",
       "    <tr>\n",
       "      <th rowspan=\"5\" valign=\"top\">Алтайский край</th>\n",
       "      <th>Всего</th>\n",
       "      <td>01</td>\n",
       "      <td>450760864.9</td>\n",
       "      <td>213350696.9</td>\n",
       "      <td>664111561.9</td>\n",
       "      <td>566847.0</td>\n",
       "    </tr>\n",
       "    <tr>\n",
       "      <th>Муниципальные районы</th>\n",
       "      <td>01 600 000</td>\n",
       "      <td>122551388.1</td>\n",
       "      <td>96835379.0</td>\n",
       "      <td>219386767.1</td>\n",
       "      <td>216932.6</td>\n",
       "    </tr>\n",
       "    <tr>\n",
       "      <th>Алейский</th>\n",
       "      <td>01 601 000</td>\n",
       "      <td>2147497.5</td>\n",
       "      <td>1180669.0</td>\n",
       "      <td>3328166.5</td>\n",
       "      <td>254252.6</td>\n",
       "    </tr>\n",
       "    <tr>\n",
       "      <th>Алтайский</th>\n",
       "      <td>01 602 000</td>\n",
       "      <td>2143931.8</td>\n",
       "      <td>2192810.3</td>\n",
       "      <td>4336742.1</td>\n",
       "      <td>165638.3</td>\n",
       "    </tr>\n",
       "    <tr>\n",
       "      <th>Баевский</th>\n",
       "      <td>01 603 000</td>\n",
       "      <td>972777.3</td>\n",
       "      <td>971883.8</td>\n",
       "      <td>1944661.1</td>\n",
       "      <td>230847.7</td>\n",
       "    </tr>\n",
       "  </tbody>\n",
       "</table>\n",
       "</div>"
      ],
      "text/plain": [
       "                                          ОКТМО       Доходы  \\\n",
       "Алтайский край Всего                         01  450760864.9   \n",
       "               Муниципальные районы  01 600 000  122551388.1   \n",
       "               Алейский              01 601 000    2147497.5   \n",
       "               Алтайский             01 602 000    2143931.8   \n",
       "               Баевский              01 603 000     972777.3   \n",
       "\n",
       "                                     Социальные выплаты  Суммарные выплаты  \\\n",
       "Алтайский край Всего                        213350696.9        664111561.9   \n",
       "               Муниципальные районы          96835379.0        219386767.1   \n",
       "               Алейский                       1180669.0          3328166.5   \n",
       "               Алтайский                      2192810.3          4336742.1   \n",
       "               Баевский                        971883.8          1944661.1   \n",
       "\n",
       "                                     Выплаты на 1 чел.  \n",
       "Алтайский край Всего                          566847.0  \n",
       "               Муниципальные районы           216932.6  \n",
       "               Алейский                       254252.6  \n",
       "               Алтайский                      165638.3  \n",
       "               Баевский                       230847.7  "
      ]
     },
     "execution_count": 484,
     "metadata": {},
     "output_type": "execute_result"
    }
   ],
   "source": [
    "income_transferts_2021.head()"
   ]
  },
  {
   "cell_type": "code",
   "execution_count": 485,
   "id": "60f84c13-37da-4861-9fea-9746bef9fafe",
   "metadata": {},
   "outputs": [
    {
     "data": {
      "text/html": [
       "<div>\n",
       "<style scoped>\n",
       "    .dataframe tbody tr th:only-of-type {\n",
       "        vertical-align: middle;\n",
       "    }\n",
       "\n",
       "    .dataframe tbody tr th {\n",
       "        vertical-align: top;\n",
       "    }\n",
       "\n",
       "    .dataframe thead th {\n",
       "        text-align: right;\n",
       "    }\n",
       "</style>\n",
       "<table border=\"1\" class=\"dataframe\">\n",
       "  <thead>\n",
       "    <tr style=\"text-align: right;\">\n",
       "      <th></th>\n",
       "      <th>ОКТМО</th>\n",
       "      <th>Доходы</th>\n",
       "      <th>Социальные выплаты</th>\n",
       "      <th>Суммарные выплаты</th>\n",
       "      <th>Выплаты на 1 чел.</th>\n",
       "    </tr>\n",
       "  </thead>\n",
       "  <tbody>\n",
       "    <tr>\n",
       "      <th>Всего</th>\n",
       "      <td>46</td>\n",
       "      <td>3416106090.7</td>\n",
       "      <td>736227813.5</td>\n",
       "      <td>4152333904.2</td>\n",
       "      <td>542266.8</td>\n",
       "    </tr>\n",
       "  </tbody>\n",
       "</table>\n",
       "</div>"
      ],
      "text/plain": [
       "      ОКТМО        Доходы Социальные выплаты Суммарные выплаты  \\\n",
       "Всего    46  3416106090.7        736227813.5      4152333904.2   \n",
       "\n",
       "      Выплаты на 1 чел.  \n",
       "Всего          542266.8  "
      ]
     },
     "execution_count": 485,
     "metadata": {},
     "output_type": "execute_result"
    }
   ],
   "source": [
    "get_data_two_level(\n",
    "    data=income_transferts_2021,\n",
    "    level0='Московская область',\n",
    "    level1='Всего',\n",
    "    kind='index')"
   ]
  },
  {
   "cell_type": "code",
   "execution_count": 486,
   "id": "f9ee3ecb-af67-4853-8426-c5fe5025c782",
   "metadata": {},
   "outputs": [
    {
     "data": {
      "text/html": [
       "<div>\n",
       "<style scoped>\n",
       "    .dataframe tbody tr th:only-of-type {\n",
       "        vertical-align: middle;\n",
       "    }\n",
       "\n",
       "    .dataframe tbody tr th {\n",
       "        vertical-align: top;\n",
       "    }\n",
       "\n",
       "    .dataframe thead th {\n",
       "        text-align: right;\n",
       "    }\n",
       "</style>\n",
       "<table border=\"1\" class=\"dataframe\">\n",
       "  <thead>\n",
       "    <tr style=\"text-align: right;\">\n",
       "      <th></th>\n",
       "      <th>ОКТМО</th>\n",
       "      <th>Доходы</th>\n",
       "      <th>Социальные выплаты</th>\n",
       "      <th>Суммарные выплаты</th>\n",
       "      <th>Выплаты на 1 чел.</th>\n",
       "    </tr>\n",
       "  </thead>\n",
       "  <tbody>\n",
       "    <tr>\n",
       "      <th>Всего</th>\n",
       "      <td>15</td>\n",
       "      <td>246143014.0</td>\n",
       "      <td>122006475.6</td>\n",
       "      <td>368149489.6</td>\n",
       "      <td>885320.4</td>\n",
       "    </tr>\n",
       "    <tr>\n",
       "      <th>Муниципальные округа</th>\n",
       "      <td>15 500 000</td>\n",
       "      <td>10609807.4</td>\n",
       "      <td>6827268.8</td>\n",
       "      <td>17437076.2</td>\n",
       "      <td>254055.2</td>\n",
       "    </tr>\n",
       "    <tr>\n",
       "      <th>Стародубский</th>\n",
       "      <td>15 501 000</td>\n",
       "      <td>6801975.8</td>\n",
       "      <td>3905711.8</td>\n",
       "      <td>10707687.6</td>\n",
       "      <td>299289.7</td>\n",
       "    </tr>\n",
       "    <tr>\n",
       "      <th>Жуковский</th>\n",
       "      <td>15 502 000</td>\n",
       "      <td>3807831.6</td>\n",
       "      <td>2921557.1</td>\n",
       "      <td>6729388.7</td>\n",
       "      <td>204802.1</td>\n",
       "    </tr>\n",
       "    <tr>\n",
       "      <th>Муниципальные районы</th>\n",
       "      <td>15 600 000</td>\n",
       "      <td>80339987.1</td>\n",
       "      <td>55000948.7</td>\n",
       "      <td>135340935.8</td>\n",
       "      <td>248796.7</td>\n",
       "    </tr>\n",
       "    <tr>\n",
       "      <th>Брасовский</th>\n",
       "      <td>15 604 000</td>\n",
       "      <td>2057558.2</td>\n",
       "      <td>1881066.3</td>\n",
       "      <td>3938624.5</td>\n",
       "      <td>210497.8</td>\n",
       "    </tr>\n",
       "    <tr>\n",
       "      <th>Брянский</th>\n",
       "      <td>15 608 000</td>\n",
       "      <td>25097406.0</td>\n",
       "      <td>5215447.3</td>\n",
       "      <td>30312853.3</td>\n",
       "      <td>473890.1</td>\n",
       "    </tr>\n",
       "    <tr>\n",
       "      <th>Выгоничский</th>\n",
       "      <td>15 610 000</td>\n",
       "      <td>5446608.1</td>\n",
       "      <td>1627679.2</td>\n",
       "      <td>7074287.3</td>\n",
       "      <td>366315.6</td>\n",
       "    </tr>\n",
       "    <tr>\n",
       "      <th>Гордеевский</th>\n",
       "      <td>15 611 000</td>\n",
       "      <td>517655.9</td>\n",
       "      <td>1191994.6</td>\n",
       "      <td>1709650.5</td>\n",
       "      <td>170029.9</td>\n",
       "    </tr>\n",
       "    <tr>\n",
       "      <th>Дубровский</th>\n",
       "      <td>15 612 000</td>\n",
       "      <td>1538118.9</td>\n",
       "      <td>1531245.4</td>\n",
       "      <td>3069364.3</td>\n",
       "      <td>187843.6</td>\n",
       "    </tr>\n",
       "    <tr>\n",
       "      <th>Дятьковский</th>\n",
       "      <td>15 616 000</td>\n",
       "      <td>6152409.1</td>\n",
       "      <td>6016865.4</td>\n",
       "      <td>12169274.5</td>\n",
       "      <td>216023.9</td>\n",
       "    </tr>\n",
       "    <tr>\n",
       "      <th>Жирятинский</th>\n",
       "      <td>15 620 000</td>\n",
       "      <td>707226.4</td>\n",
       "      <td>514320.3</td>\n",
       "      <td>1221546.7</td>\n",
       "      <td>185420.0</td>\n",
       "    </tr>\n",
       "    <tr>\n",
       "      <th>Злынковский</th>\n",
       "      <td>15 623 000</td>\n",
       "      <td>844741.7</td>\n",
       "      <td>1468334.6</td>\n",
       "      <td>2313076.3</td>\n",
       "      <td>195229.3</td>\n",
       "    </tr>\n",
       "    <tr>\n",
       "      <th>Карачевский</th>\n",
       "      <td>15 624 000</td>\n",
       "      <td>4520245.7</td>\n",
       "      <td>3131361.8</td>\n",
       "      <td>7651607.5</td>\n",
       "      <td>250158.8</td>\n",
       "    </tr>\n",
       "    <tr>\n",
       "      <th>Клетнянский</th>\n",
       "      <td>15 626 000</td>\n",
       "      <td>1228880.7</td>\n",
       "      <td>1565274.7</td>\n",
       "      <td>2794155.4</td>\n",
       "      <td>160666.7</td>\n",
       "    </tr>\n",
       "    <tr>\n",
       "      <th>Климовский</th>\n",
       "      <td>15 628 000</td>\n",
       "      <td>2749776.6</td>\n",
       "      <td>3363655.8</td>\n",
       "      <td>6113432.4</td>\n",
       "      <td>246092.6</td>\n",
       "    </tr>\n",
       "    <tr>\n",
       "      <th>Клинцовский</th>\n",
       "      <td>15 630 000</td>\n",
       "      <td>2059321.2</td>\n",
       "      <td>1872936.3</td>\n",
       "      <td>3932257.5</td>\n",
       "      <td>235789.3</td>\n",
       "    </tr>\n",
       "    <tr>\n",
       "      <th>Комаричский</th>\n",
       "      <td>15 632 000</td>\n",
       "      <td>1569363.1</td>\n",
       "      <td>1543606.4</td>\n",
       "      <td>3112969.5</td>\n",
       "      <td>195993.8</td>\n",
       "    </tr>\n",
       "    <tr>\n",
       "      <th>Красногорский</th>\n",
       "      <td>15 634 000</td>\n",
       "      <td>748622.6</td>\n",
       "      <td>1603094.3</td>\n",
       "      <td>2351716.9</td>\n",
       "      <td>208208.7</td>\n",
       "    </tr>\n",
       "    <tr>\n",
       "      <th>Мглинский</th>\n",
       "      <td>15 636 000</td>\n",
       "      <td>1410108.7</td>\n",
       "      <td>1370993.9</td>\n",
       "      <td>2781102.6</td>\n",
       "      <td>173612.7</td>\n",
       "    </tr>\n",
       "    <tr>\n",
       "      <th>Навлинский</th>\n",
       "      <td>15 638 000</td>\n",
       "      <td>2550641.6</td>\n",
       "      <td>2659228.9</td>\n",
       "      <td>5209870.5</td>\n",
       "      <td>199864.6</td>\n",
       "    </tr>\n",
       "    <tr>\n",
       "      <th>Погарский</th>\n",
       "      <td>15 642 000</td>\n",
       "      <td>3167184.5</td>\n",
       "      <td>2986325.1</td>\n",
       "      <td>6153509.6</td>\n",
       "      <td>275324.8</td>\n",
       "    </tr>\n",
       "    <tr>\n",
       "      <th>Почепский</th>\n",
       "      <td>15 644 000</td>\n",
       "      <td>3715996.3</td>\n",
       "      <td>3165429.0</td>\n",
       "      <td>6881425.3</td>\n",
       "      <td>187642.8</td>\n",
       "    </tr>\n",
       "    <tr>\n",
       "      <th>Рогнединский</th>\n",
       "      <td>15 646 000</td>\n",
       "      <td>505766.3</td>\n",
       "      <td>567644.2</td>\n",
       "      <td>1073410.5</td>\n",
       "      <td>172601.8</td>\n",
       "    </tr>\n",
       "    <tr>\n",
       "      <th>Севский</th>\n",
       "      <td>15 648 000</td>\n",
       "      <td>1851677.5</td>\n",
       "      <td>1270092.5</td>\n",
       "      <td>3121770.0</td>\n",
       "      <td>218366.7</td>\n",
       "    </tr>\n",
       "    <tr>\n",
       "      <th>Суземский</th>\n",
       "      <td>15 652 000</td>\n",
       "      <td>1485759.3</td>\n",
       "      <td>1625901.2</td>\n",
       "      <td>3111660.5</td>\n",
       "      <td>209638.2</td>\n",
       "    </tr>\n",
       "    <tr>\n",
       "      <th>Суражский</th>\n",
       "      <td>15 654 000</td>\n",
       "      <td>2563252.2</td>\n",
       "      <td>1880908.8</td>\n",
       "      <td>4444161.0</td>\n",
       "      <td>207177.3</td>\n",
       "    </tr>\n",
       "    <tr>\n",
       "      <th>Трубчевский</th>\n",
       "      <td>15 656 000</td>\n",
       "      <td>3180035.6</td>\n",
       "      <td>3441367.9</td>\n",
       "      <td>6621403.5</td>\n",
       "      <td>200163.3</td>\n",
       "    </tr>\n",
       "    <tr>\n",
       "      <th>Унечский</th>\n",
       "      <td>15 658 000</td>\n",
       "      <td>4671630.9</td>\n",
       "      <td>3506174.9</td>\n",
       "      <td>8177805.8</td>\n",
       "      <td>246646.3</td>\n",
       "    </tr>\n",
       "    <tr>\n",
       "      <th>Городские округа</th>\n",
       "      <td>15 700 000</td>\n",
       "      <td>155193219.5</td>\n",
       "      <td>60178258.1</td>\n",
       "      <td>215371477.6</td>\n",
       "      <td>382468.5</td>\n",
       "    </tr>\n",
       "    <tr>\n",
       "      <th>г.Брянск</th>\n",
       "      <td>15 701 000</td>\n",
       "      <td>137790258.1</td>\n",
       "      <td>42107886.8</td>\n",
       "      <td>179898144.9</td>\n",
       "      <td>433217.0</td>\n",
       "    </tr>\n",
       "    <tr>\n",
       "      <th>г.Фокино</th>\n",
       "      <td>15 710 000</td>\n",
       "      <td>1360559.0</td>\n",
       "      <td>1404219.6</td>\n",
       "      <td>2764778.6</td>\n",
       "      <td>221341.7</td>\n",
       "    </tr>\n",
       "    <tr>\n",
       "      <th>г.Клинцы</th>\n",
       "      <td>15 715 000</td>\n",
       "      <td>8438951.2</td>\n",
       "      <td>8318714.2</td>\n",
       "      <td>16757665.4</td>\n",
       "      <td>242075.3</td>\n",
       "    </tr>\n",
       "    <tr>\n",
       "      <th>г.Новозыбков</th>\n",
       "      <td>15 720 000</td>\n",
       "      <td>5445398.6</td>\n",
       "      <td>6579220.3</td>\n",
       "      <td>12024618.9</td>\n",
       "      <td>239921.4</td>\n",
       "    </tr>\n",
       "    <tr>\n",
       "      <th>г.Сельцо</th>\n",
       "      <td>15 725 000</td>\n",
       "      <td>2158052.6</td>\n",
       "      <td>1768217.3</td>\n",
       "      <td>3926269.9</td>\n",
       "      <td>245192.6</td>\n",
       "    </tr>\n",
       "  </tbody>\n",
       "</table>\n",
       "</div>"
      ],
      "text/plain": [
       "                           ОКТМО       Доходы  Социальные выплаты  \\\n",
       "Всего                         15  246143014.0         122006475.6   \n",
       "Муниципальные округа  15 500 000   10609807.4           6827268.8   \n",
       "Стародубский          15 501 000    6801975.8           3905711.8   \n",
       "Жуковский             15 502 000    3807831.6           2921557.1   \n",
       "Муниципальные районы  15 600 000   80339987.1          55000948.7   \n",
       "Брасовский            15 604 000    2057558.2           1881066.3   \n",
       "Брянский              15 608 000   25097406.0           5215447.3   \n",
       "Выгоничский           15 610 000    5446608.1           1627679.2   \n",
       "Гордеевский           15 611 000     517655.9           1191994.6   \n",
       "Дубровский            15 612 000    1538118.9           1531245.4   \n",
       "Дятьковский           15 616 000    6152409.1           6016865.4   \n",
       "Жирятинский           15 620 000     707226.4            514320.3   \n",
       "Злынковский           15 623 000     844741.7           1468334.6   \n",
       "Карачевский           15 624 000    4520245.7           3131361.8   \n",
       "Клетнянский           15 626 000    1228880.7           1565274.7   \n",
       "Климовский            15 628 000    2749776.6           3363655.8   \n",
       "Клинцовский           15 630 000    2059321.2           1872936.3   \n",
       "Комаричский           15 632 000    1569363.1           1543606.4   \n",
       "Красногорский         15 634 000     748622.6           1603094.3   \n",
       "Мглинский             15 636 000    1410108.7           1370993.9   \n",
       "Навлинский            15 638 000    2550641.6           2659228.9   \n",
       "Погарский             15 642 000    3167184.5           2986325.1   \n",
       "Почепский             15 644 000    3715996.3           3165429.0   \n",
       "Рогнединский          15 646 000     505766.3            567644.2   \n",
       "Севский               15 648 000    1851677.5           1270092.5   \n",
       "Суземский             15 652 000    1485759.3           1625901.2   \n",
       "Суражский             15 654 000    2563252.2           1880908.8   \n",
       "Трубчевский           15 656 000    3180035.6           3441367.9   \n",
       "Унечский              15 658 000    4671630.9           3506174.9   \n",
       "Городские округа      15 700 000  155193219.5          60178258.1   \n",
       "г.Брянск              15 701 000  137790258.1          42107886.8   \n",
       "г.Фокино              15 710 000    1360559.0           1404219.6   \n",
       "г.Клинцы              15 715 000    8438951.2           8318714.2   \n",
       "г.Новозыбков          15 720 000    5445398.6           6579220.3   \n",
       "г.Сельцо              15 725 000    2158052.6           1768217.3   \n",
       "\n",
       "                      Суммарные выплаты  Выплаты на 1 чел.  \n",
       "Всего                       368149489.6           885320.4  \n",
       "Муниципальные округа         17437076.2           254055.2  \n",
       "Стародубский                 10707687.6           299289.7  \n",
       "Жуковский                     6729388.7           204802.1  \n",
       "Муниципальные районы        135340935.8           248796.7  \n",
       "Брасовский                    3938624.5           210497.8  \n",
       "Брянский                     30312853.3           473890.1  \n",
       "Выгоничский                   7074287.3           366315.6  \n",
       "Гордеевский                   1709650.5           170029.9  \n",
       "Дубровский                    3069364.3           187843.6  \n",
       "Дятьковский                  12169274.5           216023.9  \n",
       "Жирятинский                   1221546.7           185420.0  \n",
       "Злынковский                   2313076.3           195229.3  \n",
       "Карачевский                   7651607.5           250158.8  \n",
       "Клетнянский                   2794155.4           160666.7  \n",
       "Климовский                    6113432.4           246092.6  \n",
       "Клинцовский                   3932257.5           235789.3  \n",
       "Комаричский                   3112969.5           195993.8  \n",
       "Красногорский                 2351716.9           208208.7  \n",
       "Мглинский                     2781102.6           173612.7  \n",
       "Навлинский                    5209870.5           199864.6  \n",
       "Погарский                     6153509.6           275324.8  \n",
       "Почепский                     6881425.3           187642.8  \n",
       "Рогнединский                  1073410.5           172601.8  \n",
       "Севский                       3121770.0           218366.7  \n",
       "Суземский                     3111660.5           209638.2  \n",
       "Суражский                     4444161.0           207177.3  \n",
       "Трубчевский                   6621403.5           200163.3  \n",
       "Унечский                      8177805.8           246646.3  \n",
       "Городские округа            215371477.6           382468.5  \n",
       "г.Брянск                    179898144.9           433217.0  \n",
       "г.Фокино                      2764778.6           221341.7  \n",
       "г.Клинцы                     16757665.4           242075.3  \n",
       "г.Новозыбков                 12024618.9           239921.4  \n",
       "г.Сельцо                      3926269.9           245192.6  "
      ]
     },
     "execution_count": 486,
     "metadata": {},
     "output_type": "execute_result"
    }
   ],
   "source": [
    "income_transferts_2021.loc['Брянская область']"
   ]
  },
  {
   "cell_type": "code",
   "execution_count": 487,
   "id": "42dbc772-eab0-4b66-a845-fb4c5ddf37a6",
   "metadata": {},
   "outputs": [],
   "source": [
    "datasets_list.append(income_transferts_2021)"
   ]
  },
  {
   "cell_type": "markdown",
   "id": "5ca0a3ed-96ad-4361-a274-2ca99c7f0237",
   "metadata": {},
   "source": [
    "##### <font color='#AF4035'> Export Dataset to Excel"
   ]
  },
  {
   "cell_type": "code",
   "execution_count": 488,
   "id": "79ba9bcd-852a-4f05-929a-b20ff83d1651",
   "metadata": {},
   "outputs": [],
   "source": [
    "sheet_names_list = []\n",
    "for i in range(2010, 2022):\n",
    "    sheet_names_list.append(str(i))"
   ]
  },
  {
   "cell_type": "code",
   "execution_count": 489,
   "id": "27ba7ad5-78ad-414a-bcff-91c79a0dd4ce",
   "metadata": {},
   "outputs": [
    {
     "name": "stdout",
     "output_type": "stream",
     "text": [
      "['2010', '2011', '2012', '2013', '2014', '2015', '2016', '2017', '2018', '2019', '2020', '2021']\n"
     ]
    }
   ],
   "source": [
    "print(sheet_names_list)"
   ]
  },
  {
   "cell_type": "code",
   "execution_count": 490,
   "id": "d12bcafc-280d-4e3d-9f09-d02d5109ec0a",
   "metadata": {},
   "outputs": [
    {
     "name": "stdout",
     "output_type": "stream",
     "text": [
      "'2010' sheet created if file '01020103-SOL-Transferts.xlsx'\n",
      "'2011' sheet created if file '01020103-SOL-Transferts.xlsx'\n",
      "'2012' sheet created if file '01020103-SOL-Transferts.xlsx'\n",
      "'2013' sheet created if file '01020103-SOL-Transferts.xlsx'\n",
      "'2014' sheet created if file '01020103-SOL-Transferts.xlsx'\n",
      "'2015' sheet created if file '01020103-SOL-Transferts.xlsx'\n",
      "'2016' sheet created if file '01020103-SOL-Transferts.xlsx'\n",
      "'2017' sheet created if file '01020103-SOL-Transferts.xlsx'\n",
      "'2018' sheet created if file '01020103-SOL-Transferts.xlsx'\n",
      "'2019' sheet created if file '01020103-SOL-Transferts.xlsx'\n",
      "'2020' sheet created if file '01020103-SOL-Transferts.xlsx'\n",
      "'2021' sheet created if file '01020103-SOL-Transferts.xlsx'\n"
     ]
    }
   ],
   "source": [
    "for dataset, sheet in zip(datasets_list, sheet_names_list):\n",
    "    saveit_excel(\n",
    "        data=dataset,\n",
    "        filename=dir,\n",
    "        path=save_excel,\n",
    "        sheet=sheet\n",
    "    )"
   ]
  },
  {
   "cell_type": "markdown",
   "id": "d80abaa9-0281-4a34-bb61-676cc525c536",
   "metadata": {},
   "source": [
    "### Save Dataset"
   ]
  },
  {
   "cell_type": "code",
   "execution_count": 491,
   "id": "29149efa-83af-47e4-b524-652f8085a3b6",
   "metadata": {},
   "outputs": [
    {
     "name": "stdout",
     "output_type": "stream",
     "text": [
      "Dataset 3.7.1 added\n",
      "Dataset 3.7.2 added\n",
      "Dataset 3.7.3 added\n",
      "Dataset 3.7.4 added\n",
      "Dataset 3.7.5 added\n",
      "Dataset 3.7.6 added\n",
      "Dataset 3.7.7 added\n",
      "Dataset 3.7.8 added\n",
      "Dataset 3.7.9 added\n",
      "Dataset 3.8.0 added\n",
      "Dataset 3.8.1 added\n",
      "Dataset 3.8.2 added\n"
     ]
    }
   ],
   "source": [
    "for dataset, name in zip(datasets_list, np.arange(371, 371+12)):\n",
    "    name_transformed = str.join('.', list(str(name)))\n",
    "    economics_data[name_transformed] = dataset\n",
    "    print(f'Dataset {name_transformed} added')"
   ]
  },
  {
   "cell_type": "code",
   "execution_count": 492,
   "id": "032e61e1-4003-49af-be44-5ae6779940da",
   "metadata": {},
   "outputs": [
    {
     "name": "stdout",
     "output_type": "stream",
     "text": [
      "File 'economics_data' saved in directory 'data/00-Datasets/'\n"
     ]
    }
   ],
   "source": [
    "saveit(\n",
    "    file=economics_data,\n",
    "    name='economics_data',\n",
    "    dir=save_df\n",
    ")"
   ]
  },
  {
   "cell_type": "markdown",
   "id": "fe06a25e-49c4-4d60-9d78-8d3c514c475e",
   "metadata": {},
   "source": [
    "### Save Session"
   ]
  },
  {
   "cell_type": "code",
   "execution_count": 493,
   "id": "382e3748-ec01-4cd7-b25e-67f54a611892",
   "metadata": {},
   "outputs": [],
   "source": [
    "save_session(dir)"
   ]
  },
  {
   "cell_type": "markdown",
   "id": "a5b24194-5c5b-430b-a662-5ba186c175ac",
   "metadata": {},
   "source": [
    "### Execution time"
   ]
  },
  {
   "cell_type": "code",
   "execution_count": 494,
   "id": "378bd51d-1362-4350-a882-1c5fead1378c",
   "metadata": {},
   "outputs": [
    {
     "name": "stdout",
     "output_type": "stream",
     "text": [
      "Execution time: 0:07:46\n"
     ]
    }
   ],
   "source": [
    "print(f'Execution time: {stopwatch.stop(start)}')"
   ]
  }
 ],
 "metadata": {
  "kernelspec": {
   "display_name": "economy-rus",
   "language": "python",
   "name": "economy-rus"
  },
  "language_info": {
   "codemirror_mode": {
    "name": "ipython",
    "version": 3
   },
   "file_extension": ".py",
   "mimetype": "text/x-python",
   "name": "python",
   "nbconvert_exporter": "python",
   "pygments_lexer": "ipython3",
   "version": "3.12.3"
  }
 },
 "nbformat": 4,
 "nbformat_minor": 5
}
