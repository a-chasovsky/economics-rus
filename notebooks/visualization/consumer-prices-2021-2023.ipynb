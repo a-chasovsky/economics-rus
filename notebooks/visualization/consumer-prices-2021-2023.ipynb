{
 "cells": [
  {
   "cell_type": "markdown",
   "id": "0123f233-c5bc-49f0-b8cd-074a6cbe19e4",
   "metadata": {},
   "source": [
    "### Load Saved Section if exists"
   ]
  },
  {
   "cell_type": "raw",
   "id": "af5df39f-0bb7-459b-b1cc-511ec48e9401",
   "metadata": {},
   "source": [
    "if os.path.exists(f'sessions/{dir}'):\n",
    "    load_session(dir)\n",
    "else:\n",
    "    print(f\"No such session: 'sessions/{dir}'\")"
   ]
  },
  {
   "cell_type": "markdown",
   "id": "c3ac0e9c-f43c-4c28-8311-c31dccbfbc77",
   "metadata": {},
   "source": [
    "### Load libraries, functions, palette, theme"
   ]
  },
  {
   "cell_type": "code",
   "execution_count": 1,
   "id": "413b9ddd-22e5-4338-ba2f-05a0b8098ef0",
   "metadata": {},
   "outputs": [],
   "source": [
    "import os"
   ]
  },
  {
   "cell_type": "code",
   "execution_count": 168,
   "id": "05dc349a-2c59-4f73-aa9d-500382d12c1a",
   "metadata": {},
   "outputs": [],
   "source": [
    "# change directory for the one with libraries, etc.\n",
    "path = \\\n",
    "    ('/Users/a-chasovsky/Library/CloudStorage/GoogleDrive-alexanderchasovsky@gmail.com/'\n",
    "     'Мой диск/Data Science Projects/economics-rus/')\n",
    "\n",
    "os.chdir(path + 'notebooks/')\n",
    "\n",
    "# run stopwatch\n",
    "from tools import Stopwatch\n",
    "stopwatch = Stopwatch()\n",
    "start = stopwatch.start()\n",
    "\n",
    "# import libraries, etc.\n",
    "%run load.ipynb\n",
    "\n",
    "# run files with data export\n",
    "# %run 009.1-009.3_PI-Consumers-Prices.ipynb\n",
    "# %run 010.1-010.4_PI-Agriculture-Prices.ipynb\n",
    "\n",
    "# and go back to current directory ('current_path' variable is assigned in _load.ipynb)\n",
    "os.chdir(current_path)"
   ]
  },
  {
   "cell_type": "code",
   "execution_count": 3,
   "id": "3400b855-c10d-484f-8678-2c76e0e69f7f",
   "metadata": {},
   "outputs": [],
   "source": [
    "economics_data = loadit(\n",
    "    'economics_data',\n",
    "    dir= path + 'data/00-Datasets/'\n",
    ")"
   ]
  },
  {
   "cell_type": "code",
   "execution_count": 4,
   "id": "f6ac2123-05c5-4341-8c9c-5309f374b01e",
   "metadata": {},
   "outputs": [
    {
     "data": {
      "text/plain": [
       "95"
      ]
     },
     "execution_count": 4,
     "metadata": {},
     "output_type": "execute_result"
    }
   ],
   "source": [
    "len(economics_data)"
   ]
  },
  {
   "cell_type": "code",
   "execution_count": 5,
   "id": "6533cb33-cf5a-4ef7-bb27-0476aa955579",
   "metadata": {},
   "outputs": [],
   "source": [
    "save_plot_dir = path + 'docs/img'"
   ]
  },
  {
   "cell_type": "markdown",
   "id": "83aba465-ffe3-4805-b218-8d903af64fc2",
   "metadata": {},
   "source": [
    "### Средние цены производителей сельскохозяйственной продукции 2010-2022"
   ]
  },
  {
   "cell_type": "code",
   "execution_count": 6,
   "id": "2c7da528-5436-4133-b470-bc500c6b23d1",
   "metadata": {},
   "outputs": [],
   "source": [
    "prices_producers = economics_data['10.1']"
   ]
  },
  {
   "cell_type": "code",
   "execution_count": 7,
   "id": "2d726117-2751-4d01-a254-9cfb0c80652f",
   "metadata": {},
   "outputs": [
    {
     "data": {
      "text/html": [
       "<div>\n",
       "<style scoped>\n",
       "    .dataframe tbody tr th:only-of-type {\n",
       "        vertical-align: middle;\n",
       "    }\n",
       "\n",
       "    .dataframe tbody tr th {\n",
       "        vertical-align: top;\n",
       "    }\n",
       "\n",
       "    .dataframe thead th {\n",
       "        text-align: right;\n",
       "    }\n",
       "</style>\n",
       "<table border=\"1\" class=\"dataframe\">\n",
       "  <thead>\n",
       "    <tr style=\"text-align: right;\">\n",
       "      <th></th>\n",
       "      <th>пшеница</th>\n",
       "      <th>кукуруза</th>\n",
       "      <th>ячмень</th>\n",
       "      <th>рожь</th>\n",
       "      <th>овес</th>\n",
       "      <th>просо</th>\n",
       "      <th>гречиха</th>\n",
       "      <th>овощи бобовые сушеные (культуры зернобобовые)</th>\n",
       "      <th>семена подсолнечника</th>\n",
       "      <th>капуста всех сортов</th>\n",
       "      <th>...</th>\n",
       "      <th>морковь столовая</th>\n",
       "      <th>лук репчатый</th>\n",
       "      <th>свекла столовая</th>\n",
       "      <th>картофель</th>\n",
       "      <th>крупный рогатый скот</th>\n",
       "      <th>овцы и козы</th>\n",
       "      <th>свиньи</th>\n",
       "      <th>птица сельскохозяйственная живая</th>\n",
       "      <th>молоко сырое крупного рогатого скота</th>\n",
       "      <th>яйца куриные в скорлупе свежие</th>\n",
       "    </tr>\n",
       "  </thead>\n",
       "  <tbody>\n",
       "    <tr>\n",
       "      <th>2010</th>\n",
       "      <td>3867.0</td>\n",
       "      <td>4681.0</td>\n",
       "      <td>3395.0</td>\n",
       "      <td>3411.0</td>\n",
       "      <td>3596.0</td>\n",
       "      <td>3832.0</td>\n",
       "      <td>8153.0</td>\n",
       "      <td>5581.0</td>\n",
       "      <td>10605.0</td>\n",
       "      <td>11029.0</td>\n",
       "      <td>...</td>\n",
       "      <td>11309.0</td>\n",
       "      <td>9719.0</td>\n",
       "      <td>8298.0</td>\n",
       "      <td>9501.0</td>\n",
       "      <td>55951.0</td>\n",
       "      <td>45174.0</td>\n",
       "      <td>69748.0</td>\n",
       "      <td>52966.0</td>\n",
       "      <td>12370.0</td>\n",
       "      <td>2341.0</td>\n",
       "    </tr>\n",
       "    <tr>\n",
       "      <th>2011</th>\n",
       "      <td>5108.0</td>\n",
       "      <td>5917.0</td>\n",
       "      <td>4986.0</td>\n",
       "      <td>3924.0</td>\n",
       "      <td>4495.0</td>\n",
       "      <td>5158.0</td>\n",
       "      <td>15676.0</td>\n",
       "      <td>6991.0</td>\n",
       "      <td>11364.0</td>\n",
       "      <td>10842.0</td>\n",
       "      <td>...</td>\n",
       "      <td>12232.0</td>\n",
       "      <td>9101.0</td>\n",
       "      <td>11225.0</td>\n",
       "      <td>10308.0</td>\n",
       "      <td>64989.0</td>\n",
       "      <td>50902.0</td>\n",
       "      <td>76386.0</td>\n",
       "      <td>54547.0</td>\n",
       "      <td>14135.0</td>\n",
       "      <td>2537.0</td>\n",
       "    </tr>\n",
       "    <tr>\n",
       "      <th>2012</th>\n",
       "      <td>6409.0</td>\n",
       "      <td>6751.0</td>\n",
       "      <td>5903.0</td>\n",
       "      <td>4519.0</td>\n",
       "      <td>4597.0</td>\n",
       "      <td>3982.0</td>\n",
       "      <td>10537.0</td>\n",
       "      <td>8335.0</td>\n",
       "      <td>12458.0</td>\n",
       "      <td>6503.0</td>\n",
       "      <td>...</td>\n",
       "      <td>7503.0</td>\n",
       "      <td>5730.0</td>\n",
       "      <td>6614.0</td>\n",
       "      <td>7642.0</td>\n",
       "      <td>73097.0</td>\n",
       "      <td>62902.0</td>\n",
       "      <td>83243.0</td>\n",
       "      <td>55173.0</td>\n",
       "      <td>13604.0</td>\n",
       "      <td>2704.0</td>\n",
       "    </tr>\n",
       "    <tr>\n",
       "      <th>2013</th>\n",
       "      <td>6715.0</td>\n",
       "      <td>6581.0</td>\n",
       "      <td>6376.0</td>\n",
       "      <td>4912.0</td>\n",
       "      <td>5782.0</td>\n",
       "      <td>5241.0</td>\n",
       "      <td>7205.0</td>\n",
       "      <td>8395.0</td>\n",
       "      <td>12024.0</td>\n",
       "      <td>8227.0</td>\n",
       "      <td>...</td>\n",
       "      <td>9812.0</td>\n",
       "      <td>7306.0</td>\n",
       "      <td>8981.0</td>\n",
       "      <td>9447.0</td>\n",
       "      <td>72128.0</td>\n",
       "      <td>74286.0</td>\n",
       "      <td>71675.0</td>\n",
       "      <td>54358.0</td>\n",
       "      <td>15875.0</td>\n",
       "      <td>3197.0</td>\n",
       "    </tr>\n",
       "    <tr>\n",
       "      <th>2014</th>\n",
       "      <td>6849.0</td>\n",
       "      <td>5799.0</td>\n",
       "      <td>5516.0</td>\n",
       "      <td>4691.0</td>\n",
       "      <td>4965.0</td>\n",
       "      <td>5609.0</td>\n",
       "      <td>8370.0</td>\n",
       "      <td>8458.0</td>\n",
       "      <td>11534.0</td>\n",
       "      <td>10123.0</td>\n",
       "      <td>...</td>\n",
       "      <td>11481.0</td>\n",
       "      <td>10595.0</td>\n",
       "      <td>10403.0</td>\n",
       "      <td>12898.0</td>\n",
       "      <td>74405.0</td>\n",
       "      <td>70978.0</td>\n",
       "      <td>94081.0</td>\n",
       "      <td>63654.0</td>\n",
       "      <td>19614.0</td>\n",
       "      <td>3407.0</td>\n",
       "    </tr>\n",
       "  </tbody>\n",
       "</table>\n",
       "<p>5 rows × 22 columns</p>\n",
       "</div>"
      ],
      "text/plain": [
       "      пшеница  кукуруза  ячмень    рожь    овес   просо  гречиха  \\\n",
       "2010   3867.0    4681.0  3395.0  3411.0  3596.0  3832.0   8153.0   \n",
       "2011   5108.0    5917.0  4986.0  3924.0  4495.0  5158.0  15676.0   \n",
       "2012   6409.0    6751.0  5903.0  4519.0  4597.0  3982.0  10537.0   \n",
       "2013   6715.0    6581.0  6376.0  4912.0  5782.0  5241.0   7205.0   \n",
       "2014   6849.0    5799.0  5516.0  4691.0  4965.0  5609.0   8370.0   \n",
       "\n",
       "      овощи бобовые сушеные (культуры зернобобовые)  семена подсолнечника  \\\n",
       "2010                                         5581.0               10605.0   \n",
       "2011                                         6991.0               11364.0   \n",
       "2012                                         8335.0               12458.0   \n",
       "2013                                         8395.0               12024.0   \n",
       "2014                                         8458.0               11534.0   \n",
       "\n",
       "      капуста всех сортов  ...  морковь столовая  лук репчатый  \\\n",
       "2010              11029.0  ...           11309.0        9719.0   \n",
       "2011              10842.0  ...           12232.0        9101.0   \n",
       "2012               6503.0  ...            7503.0        5730.0   \n",
       "2013               8227.0  ...            9812.0        7306.0   \n",
       "2014              10123.0  ...           11481.0       10595.0   \n",
       "\n",
       "      свекла столовая  картофель  крупный рогатый скот  овцы и козы   свиньи  \\\n",
       "2010           8298.0     9501.0               55951.0      45174.0  69748.0   \n",
       "2011          11225.0    10308.0               64989.0      50902.0  76386.0   \n",
       "2012           6614.0     7642.0               73097.0      62902.0  83243.0   \n",
       "2013           8981.0     9447.0               72128.0      74286.0  71675.0   \n",
       "2014          10403.0    12898.0               74405.0      70978.0  94081.0   \n",
       "\n",
       "      птица сельскохозяйственная живая  молоко сырое крупного рогатого скота  \\\n",
       "2010                           52966.0                               12370.0   \n",
       "2011                           54547.0                               14135.0   \n",
       "2012                           55173.0                               13604.0   \n",
       "2013                           54358.0                               15875.0   \n",
       "2014                           63654.0                               19614.0   \n",
       "\n",
       "      яйца куриные в скорлупе свежие  \n",
       "2010                          2341.0  \n",
       "2011                          2537.0  \n",
       "2012                          2704.0  \n",
       "2013                          3197.0  \n",
       "2014                          3407.0  \n",
       "\n",
       "[5 rows x 22 columns]"
      ]
     },
     "execution_count": 7,
     "metadata": {},
     "output_type": "execute_result"
    }
   ],
   "source": [
    "prices_producers.head()"
   ]
  },
  {
   "cell_type": "raw",
   "id": "1af78199-baa3-4a23-a5e0-f261ca2b8b28",
   "metadata": {},
   "source": [
    "fig, ax = plt.subplots(ncols=3, nrows=8, figsize=(12, 20))\n",
    "ax = ax.ravel()\n",
    "for i in prices_producers.columns.sort_values():\n",
    "    j = prices_producers.columns.sort_values().tolist().index(i)\n",
    "    ax[j].plot(smoothed(prices_producers[i]))\n",
    "    ax[j].set_title(i.capitalize(), fontsize=9, loc='left', weight='medium')\n",
    "fig.suptitle(\n",
    "    'Средние цены производителей сельскохозяйственной продукции 2010-2022',\n",
    "    size=12, x=0.383, y=0.91)\n",
    "fig.subplots_adjust(hspace=0.5, wspace=0.2)\n",
    "# remove two unnecessary axes\n",
    "for i in [-2, -1]:\n",
    "    ax.flat[i].set_visible(False)\n",
    "plt.show()\n",
    "\n",
    "# savefig('Producers prices growth 2010-2022', dir=save_plot_dir, dpi=300)"
   ]
  },
  {
   "cell_type": "markdown",
   "id": "4b95656e-857e-479c-b8e6-cb8b4c6b04bf",
   "metadata": {},
   "source": [
    "### Сравнение цен производителей и потребительских цен на некоторые виды товаров 2021-2023"
   ]
  },
  {
   "cell_type": "code",
   "execution_count": 8,
   "id": "ab0c16ba-40b5-44d3-832e-cbb3086972ff",
   "metadata": {},
   "outputs": [],
   "source": [
    "prices_food_types = [\n",
    "    'горох сушеный', 'гречиха', 'зерновые и зернобобовые культуры',\n",
    "    'капуста всех сортов', 'картофель', 'крупный рогатый скот', 'кукуруза',\n",
    "    'культуры зерновые', 'лук репчатый', 'молоко сырое крупного рогатого скота',\n",
    "    'морковь столовая', 'овес', 'овощи', 'огурцы', 'птица сельскохозяйственная живая',\n",
    "    'пшеница', 'пшеница твердая', 'рис нешелушеный', 'рожь', 'свекла столовая',\n",
    "    'свиньи', 'семена подсолнечника', 'томаты (помидоры)', 'яйца куриные в скорлупе свежие'\n",
    "]"
   ]
  },
  {
   "cell_type": "code",
   "execution_count": 9,
   "id": "f1230bb0-df31-4558-ba9f-36e27d9364ff",
   "metadata": {},
   "outputs": [],
   "source": [
    "prices_food_2021 = economics_data['10.2'].copy()\n",
    "prices_food_2022 = economics_data['10.3'].copy()\n",
    "prices_food_2023 = economics_data['10.4'].copy()\n",
    "prices_food_2024 = economics_data['13.01'].copy()"
   ]
  },
  {
   "cell_type": "code",
   "execution_count": 10,
   "id": "b7362e94-6fba-40c7-b40a-6447538585b0",
   "metadata": {},
   "outputs": [],
   "source": [
    "prices_food_2021_consumers = economics_data['9.1'].copy()\n",
    "prices_food_2022_consumers = economics_data['9.2'].copy()\n",
    "prices_food_2023_consumers = economics_data['9.3'].copy()\n",
    "prices_food_2024_consumers = economics_data['13.02'].copy()"
   ]
  },
  {
   "cell_type": "markdown",
   "id": "1cc7474c-94ad-470e-a98b-0f50e7478796",
   "metadata": {},
   "source": [
    "#### Пшеница и хлеб"
   ]
  },
  {
   "cell_type": "code",
   "execution_count": 11,
   "id": "270ba07c-9795-45cb-ac30-27c15940334a",
   "metadata": {},
   "outputs": [],
   "source": [
    "wheat_2021 = prices_food_2021['пшеница'].copy()\n",
    "wheat_2022 = prices_food_2022['пшеница'].copy()\n",
    "wheat_2023 = prices_food_2023['пшеница'].copy()\n",
    "wheat_2024 = prices_food_2024['пшеница'].copy()"
   ]
  },
  {
   "cell_type": "code",
   "execution_count": 12,
   "id": "8296aa1f-c716-4d44-9ac3-dd6089ceb2a4",
   "metadata": {},
   "outputs": [],
   "source": [
    "wheat = pd.concat([\n",
    "    wheat_2021, wheat_2022, wheat_2023, wheat_2024], axis=0)"
   ]
  },
  {
   "cell_type": "code",
   "execution_count": 13,
   "id": "d264847c-f8eb-48de-a338-ab65888d3cf8",
   "metadata": {},
   "outputs": [],
   "source": [
    "# from tonns to kilogramms\n",
    "wheat = 0.001 * wheat"
   ]
  },
  {
   "cell_type": "code",
   "execution_count": 14,
   "id": "5382b75b-9701-4e9a-a98b-3f0ed84f53eb",
   "metadata": {},
   "outputs": [],
   "source": [
    "# transform indexes to datetime\n",
    "wheat.index = [to_date(x) for x in wheat.index]"
   ]
  },
  {
   "cell_type": "code",
   "execution_count": 15,
   "id": "d02d2934-224b-41f1-afd0-8939a7685fda",
   "metadata": {},
   "outputs": [
    {
     "data": {
      "text/plain": [
       "2023-09-01    11.0630\n",
       "2023-10-01    10.8850\n",
       "2023-11-01    10.3990\n",
       "2023-12-01    10.2950\n",
       "2024-01-01    10.3767\n",
       "Name: пшеница, dtype: float64"
      ]
     },
     "execution_count": 15,
     "metadata": {},
     "output_type": "execute_result"
    }
   ],
   "source": [
    "wheat.tail()"
   ]
  },
  {
   "cell_type": "code",
   "execution_count": 16,
   "id": "28fadd40-19ca-4aca-9226-978967e827a8",
   "metadata": {},
   "outputs": [],
   "source": [
    "wheat_durum_2021 = prices_food_2021['пшеница твердая'].copy()\n",
    "wheat_durum_2022 = prices_food_2022['пшеница твердая'].copy()\n",
    "wheat_durum_2023 = prices_food_2023['пшеница твердая'].copy()"
   ]
  },
  {
   "cell_type": "code",
   "execution_count": 17,
   "id": "a57a0428-9643-452e-a881-580bc8158a6e",
   "metadata": {},
   "outputs": [],
   "source": [
    "wheat_durum = pd.concat([\n",
    "    wheat_durum_2021, wheat_durum_2022, wheat_durum_2023], axis=0)"
   ]
  },
  {
   "cell_type": "code",
   "execution_count": 18,
   "id": "333c1df8-588b-469d-a5c0-443de0c1b093",
   "metadata": {},
   "outputs": [],
   "source": [
    "# from tonns to kilogramms\n",
    "wheat_durum = 0.001 * wheat_durum"
   ]
  },
  {
   "cell_type": "code",
   "execution_count": 19,
   "id": "6f3cc050-1ce4-481d-a295-acbfd0e88697",
   "metadata": {},
   "outputs": [],
   "source": [
    "# transform indexes to datetime\n",
    "wheat_durum.index = [to_date(x) for x in wheat_durum.index]"
   ]
  },
  {
   "cell_type": "code",
   "execution_count": 20,
   "id": "7632f248-a799-44ad-b3e2-5721a505a317",
   "metadata": {},
   "outputs": [
    {
     "data": {
      "text/plain": [
       "2023-08-01    15.217\n",
       "2023-09-01    17.786\n",
       "2023-10-01    17.366\n",
       "2023-11-01    19.267\n",
       "2023-12-01    21.866\n",
       "Name: пшеница твердая, dtype: float64"
      ]
     },
     "execution_count": 20,
     "metadata": {},
     "output_type": "execute_result"
    }
   ],
   "source": [
    "wheat_durum.tail()"
   ]
  },
  {
   "cell_type": "code",
   "execution_count": 21,
   "id": "2bc60a82-0d2b-43f3-87a1-cffebabcf997",
   "metadata": {},
   "outputs": [],
   "source": [
    "wheat_other_2021 = prices_food_2021['пшеница, кроме твердой пшеницы'].copy()\n",
    "wheat_other_2022 = prices_food_2022['пшеница, кроме твердой пшеницы'].copy()\n",
    "wheat_other_2023 = prices_food_2023['пшеница, кроме твердой пшеницы'].copy()"
   ]
  },
  {
   "cell_type": "code",
   "execution_count": 22,
   "id": "18b165de-ae94-44b8-9aee-7a48abeb127f",
   "metadata": {},
   "outputs": [],
   "source": [
    "wheat_other = pd.concat([\n",
    "    wheat_2021, wheat_2022, wheat_2023], axis=0)"
   ]
  },
  {
   "cell_type": "code",
   "execution_count": 23,
   "id": "acc7b189-57f8-4fd3-88c9-8483385a6698",
   "metadata": {},
   "outputs": [],
   "source": [
    "# from tonns to kilogramms\n",
    "wheat_other = 0.001 * wheat_other"
   ]
  },
  {
   "cell_type": "code",
   "execution_count": 24,
   "id": "29ad37b4-5ae2-4626-894c-0d91d9467fd6",
   "metadata": {},
   "outputs": [],
   "source": [
    "# transform indexes to datetime\n",
    "wheat_other.index = [to_date(x) for x in wheat_other.index]"
   ]
  },
  {
   "cell_type": "code",
   "execution_count": 25,
   "id": "0d436dbe-0b2f-4b83-9382-8c09a92f2ff3",
   "metadata": {},
   "outputs": [
    {
     "data": {
      "text/plain": [
       "2023-08-01    11.411\n",
       "2023-09-01    11.063\n",
       "2023-10-01    10.885\n",
       "2023-11-01    10.399\n",
       "2023-12-01    10.295\n",
       "Name: пшеница, dtype: float64"
      ]
     },
     "execution_count": 25,
     "metadata": {},
     "output_type": "execute_result"
    }
   ],
   "source": [
    "wheat_other.tail()"
   ]
  },
  {
   "cell_type": "markdown",
   "id": "76c667d6-065e-4dae-8d88-2e73708fc499",
   "metadata": {},
   "source": [
    "В 2022 году изменена номенклатура для хлеба.  \n",
    "\n",
    "В 2021:\n",
    "- хлеб и булочные изделия из пшеничной муки 1 и 2 сортов, кг\n",
    "- хлеб и булочные изделия из пшеничной муки высшего сорта, кг\n",
    "\n",
    "\n",
    "В 2022:\n",
    "- хлеб и булочные изделия из пшеничной муки различных сортов, кг\n",
    "\n",
    "В конечном итоге, цена для 2021 года считается как средняя от  'хлеб и булочные изделия из пшеничной муки 1 и 2 сортов, кг' \n",
    "и 'хлеб и булочные изделия из пшеничной муки высшего сорта, кг'. На графике цена за 2021 год обозначены светлым тоном."
   ]
  },
  {
   "cell_type": "code",
   "execution_count": 26,
   "id": "28a1a39b-39da-476b-b8c2-5672a003f9e5",
   "metadata": {},
   "outputs": [],
   "source": [
    "bread_2021 = pd.concat(\n",
    "    [prices_food_2021_consumers['хлеб и булочные изделия из пшеничной муки 1 и 2 сортов, кг'],\n",
    "    prices_food_2021_consumers['хлеб и булочные изделия из пшеничной муки высшего сорта, кг']],\n",
    "    axis=1\n",
    ")\n",
    "bread_2021 = bread_2021.mean(axis=1)"
   ]
  },
  {
   "cell_type": "code",
   "execution_count": 27,
   "id": "5709bfa4-ac58-4f8c-aee7-d2e1da6089fb",
   "metadata": {},
   "outputs": [
    {
     "data": {
      "text/plain": [
       "August 2021        73.14\n",
       "September 2021     73.55\n",
       "October 2021      74.695\n",
       "November 2021      76.23\n",
       "December 2021      77.24\n",
       "dtype: object"
      ]
     },
     "execution_count": 27,
     "metadata": {},
     "output_type": "execute_result"
    }
   ],
   "source": [
    "bread_2021.tail()"
   ]
  },
  {
   "cell_type": "code",
   "execution_count": 28,
   "id": "200915f3-1fe1-4576-bc9a-9ea4f4948a65",
   "metadata": {},
   "outputs": [],
   "source": [
    "bread_2022 = prices_food_2022_consumers['хлеб и булочные изделия из пшеничной муки различных сортов, кг'].copy()\n",
    "bread_2023 = prices_food_2023_consumers['хлеб и булочные изделия из пшеничной муки различных сортов, кг'].copy()\n",
    "bread_2024 = prices_food_2024_consumers['хлеб и булочные изделия из пшеничной муки различных сортов, кг'].copy()"
   ]
  },
  {
   "cell_type": "code",
   "execution_count": 29,
   "id": "21343393-9376-471f-b819-78ce0518e30e",
   "metadata": {},
   "outputs": [
    {
     "data": {
      "text/plain": [
       "August 2022       84.83\n",
       "September 2022    85.07\n",
       "October 2022      85.08\n",
       "November 2022     85.05\n",
       "December 2022     85.21\n",
       "Name: хлеб и булочные изделия из пшеничной муки различных сортов, кг, dtype: float64"
      ]
     },
     "execution_count": 29,
     "metadata": {},
     "output_type": "execute_result"
    }
   ],
   "source": [
    "bread_2022.tail()"
   ]
  },
  {
   "cell_type": "code",
   "execution_count": 30,
   "id": "e0391c92-380a-4ba3-ae5c-7956a1423bd1",
   "metadata": {},
   "outputs": [
    {
     "data": {
      "text/plain": [
       "August 2023       86.31\n",
       "September 2023    87.22\n",
       "October 2023      88.65\n",
       "November 2023     90.09\n",
       "December 2023     90.76\n",
       "Name: хлеб и булочные изделия из пшеничной муки различных сортов, кг, dtype: float64"
      ]
     },
     "execution_count": 30,
     "metadata": {},
     "output_type": "execute_result"
    }
   ],
   "source": [
    "bread_2023.tail()"
   ]
  },
  {
   "cell_type": "code",
   "execution_count": 31,
   "id": "2decd2e9-5b5d-4c13-a0c0-4ee5ac72e241",
   "metadata": {},
   "outputs": [
    {
     "data": {
      "text/plain": [
       "January 2024    92.03\n",
       "Name: хлеб и булочные изделия из пшеничной муки различных сортов, кг, dtype: float64"
      ]
     },
     "execution_count": 31,
     "metadata": {},
     "output_type": "execute_result"
    }
   ],
   "source": [
    "bread_2024.tail()"
   ]
  },
  {
   "cell_type": "code",
   "execution_count": 32,
   "id": "57c5e2c6-4058-4a6e-b254-9c51cb145336",
   "metadata": {},
   "outputs": [],
   "source": [
    "bread = pd.concat([\n",
    "    bread_2021, bread_2022, bread_2023, bread_2024], axis=0)"
   ]
  },
  {
   "cell_type": "code",
   "execution_count": 33,
   "id": "090a68b0-7850-4caf-9871-9b65870c4610",
   "metadata": {},
   "outputs": [],
   "source": [
    "# transform indexes to datetime\n",
    "bread.index = [to_date(x) for x in bread.index]"
   ]
  },
  {
   "cell_type": "code",
   "execution_count": 34,
   "id": "fdb88ed4-16fb-4e82-97d0-2e939618c281",
   "metadata": {},
   "outputs": [
    {
     "data": {
      "text/plain": [
       "2023-09-01    87.22\n",
       "2023-10-01    88.65\n",
       "2023-11-01    90.09\n",
       "2023-12-01    90.76\n",
       "2024-01-01    92.03\n",
       "dtype: object"
      ]
     },
     "execution_count": 34,
     "metadata": {},
     "output_type": "execute_result"
    }
   ],
   "source": [
    "bread.tail()"
   ]
  },
  {
   "cell_type": "markdown",
   "id": "39670678-3468-4e8f-aad9-f00fc041dec4",
   "metadata": {},
   "source": [
    "#### Plots"
   ]
  },
  {
   "cell_type": "code",
   "execution_count": 35,
   "id": "73037c01-8c2b-44c5-94b6-0f504e8ec1f3",
   "metadata": {},
   "outputs": [
    {
     "data": {
      "text/plain": [
       "<matplotlib.legend.Legend at 0x12097bda0>"
      ]
     },
     "execution_count": 35,
     "metadata": {},
     "output_type": "execute_result"
    },
    {
     "data": {
      "image/png": "[encoded data removed]",
      "text/plain": [
       "<Figure size 900x250 with 1 Axes>"
      ]
     },
     "metadata": {},
     "output_type": "display_data"
    }
   ],
   "source": [
    "plt.plot(\n",
    "    smoothed(wheat, datetime_index=True), color=palette[0],\n",
    "    label='Пшеница')\n",
    "plt.plot(\n",
    "    smoothed(bread, datetime_index=True), color=palette[2],\n",
    "    label='Хлеб и булочные изделия из пшеничной муки различных сортов')\n",
    "plt.legend(**legend_inline, ncols=2)"
   ]
  },
  {
   "cell_type": "code",
   "execution_count": 170,
   "id": "02055f29-329b-4bb8-ac12-af034fb3f2a9",
   "metadata": {},
   "outputs": [
    {
     "name": "stdout",
     "output_type": "stream",
     "text": [
      "Image 'price-bread.png' successfully saved into '/Users/a-chasovsky/Library/CloudStorage/GoogleDrive-alexanderchasovsky@gmail.com/Мой диск/Data Science Projects/economics-rus/docs/img' directory\n"
     ]
    },
    {
     "data": {
      "image/png": "[encoded data removed]",
      "text/plain": [
       "<Figure size 900x250 with 1 Axes>"
      ]
     },
     "metadata": {},
     "output_type": "display_data"
    }
   ],
   "source": [
    "fig = plt.figure()\n",
    "plt.plot(\n",
    "    smoothed(normalized_by_first(bread), datetime_index=True),\n",
    "    color=alpha_color(palette[6], 1),\n",
    "    label='Цена хлеба'\n",
    ")\n",
    "plt.plot(\n",
    "    smoothed(normalized_by_first(wheat), datetime_index=True),\n",
    "    lw=1.5, ls='--', color=palette[0], label='Цена пшеницы')\n",
    "plt.axhline(\n",
    "    1, 0.025, 0.975, lw=0.75, ls='--', color=palette[-1], alpha=1, zorder=10\n",
    ")\n",
    "plt.legend(**legend_inline, ncols=2)\n",
    "plt.xlim(plt.gca().get_xticks()[0], plt.gca().get_xticks()[-1])\n",
    "# plt.title('Нормализованная цена хлеба', **title_inline)\n",
    "\n",
    "axis_rstyle(offset_bottom=10, offset_left=10)\n",
    "axis_date_transform(\n",
    "    formatter=matplotlib.dates.DateFormatter('%b'),\n",
    "    locator=matplotlib.dates.MonthLocator([1,4,7,10]))\n",
    "axis_dates_capitalize()\n",
    "axis_add_date_xaxis(offset=25)\n",
    "axis_dates_translate_months()\n",
    "\n",
    "savefig('price-bread', dir=save_plot_dir, dpi=100)"
   ]
  },
  {
   "cell_type": "code",
   "execution_count": 37,
   "id": "ff856161-85cb-4f48-9c32-ac5fe51ca541",
   "metadata": {},
   "outputs": [],
   "source": [
    "set_location()"
   ]
  },
  {
   "cell_type": "code",
   "execution_count": 38,
   "id": "040a6b96-23ae-4ff6-acbb-0434ec35c0b7",
   "metadata": {},
   "outputs": [],
   "source": [
    "bread_structure = {\n",
    "    'сырье': 24.97,\n",
    "    'расходы на производство': 27.34,\n",
    "    'коммерческие расходы': 7.60,\n",
    "    'прибыль предприятий, осуществляющих производство': 11.88,\n",
    "    'НДС предприятий, осуществляющих производство': 7.19,\n",
    "    'другие виды налогов': 0.03,\n",
    "    'плата за доставку продукции (товара) покупателям': 0.76,\n",
    "    'надбавка розничной торговли': 13.57,\n",
    "    'НДС организациий розничной торговли': 6.66\n",
    "}"
   ]
  },
  {
   "cell_type": "code",
   "execution_count": 39,
   "id": "82064ca9-9f06-47ea-9258-fc4e4594f2cc",
   "metadata": {},
   "outputs": [
    {
     "data": {
      "text/plain": [
       "100.0"
      ]
     },
     "execution_count": 39,
     "metadata": {},
     "output_type": "execute_result"
    }
   ],
   "source": [
    "sum(list(bread_structure.values()))"
   ]
  },
  {
   "cell_type": "code",
   "execution_count": 40,
   "id": "b6fe59b8-19ca-4b88-aa4a-6eacf8e4aff8",
   "metadata": {},
   "outputs": [],
   "source": [
    "bread_structure_df = pd.DataFrame([bread_structure])"
   ]
  },
  {
   "cell_type": "code",
   "execution_count": 41,
   "id": "5de43e12-600f-4dcf-bddb-405b57dcfab9",
   "metadata": {},
   "outputs": [
    {
     "data": {
      "text/html": [
       "<div>\n",
       "<style scoped>\n",
       "    .dataframe tbody tr th:only-of-type {\n",
       "        vertical-align: middle;\n",
       "    }\n",
       "\n",
       "    .dataframe tbody tr th {\n",
       "        vertical-align: top;\n",
       "    }\n",
       "\n",
       "    .dataframe thead th {\n",
       "        text-align: right;\n",
       "    }\n",
       "</style>\n",
       "<table border=\"1\" class=\"dataframe\">\n",
       "  <thead>\n",
       "    <tr style=\"text-align: right;\">\n",
       "      <th></th>\n",
       "      <th>сырье</th>\n",
       "      <th>расходы на производство</th>\n",
       "      <th>коммерческие расходы</th>\n",
       "      <th>прибыль предприятий, осуществляющих производство</th>\n",
       "      <th>НДС предприятий, осуществляющих производство</th>\n",
       "      <th>другие виды налогов</th>\n",
       "      <th>плата за доставку продукции (товара) покупателям</th>\n",
       "      <th>надбавка розничной торговли</th>\n",
       "      <th>НДС организациий розничной торговли</th>\n",
       "    </tr>\n",
       "  </thead>\n",
       "  <tbody>\n",
       "    <tr>\n",
       "      <th>0</th>\n",
       "      <td>24.97</td>\n",
       "      <td>27.34</td>\n",
       "      <td>7.6</td>\n",
       "      <td>11.88</td>\n",
       "      <td>7.19</td>\n",
       "      <td>0.03</td>\n",
       "      <td>0.76</td>\n",
       "      <td>13.57</td>\n",
       "      <td>6.66</td>\n",
       "    </tr>\n",
       "  </tbody>\n",
       "</table>\n",
       "</div>"
      ],
      "text/plain": [
       "   сырье  расходы на производство  коммерческие расходы  \\\n",
       "0  24.97                    27.34                   7.6   \n",
       "\n",
       "   прибыль предприятий, осуществляющих производство  \\\n",
       "0                                             11.88   \n",
       "\n",
       "   НДС предприятий, осуществляющих производство  другие виды налогов  \\\n",
       "0                                          7.19                 0.03   \n",
       "\n",
       "   плата за доставку продукции (товара) покупателям  \\\n",
       "0                                              0.76   \n",
       "\n",
       "   надбавка розничной торговли  НДС организациий розничной торговли  \n",
       "0                        13.57                                 6.66  "
      ]
     },
     "execution_count": 41,
     "metadata": {},
     "output_type": "execute_result"
    }
   ],
   "source": [
    "bread_structure_df"
   ]
  },
  {
   "cell_type": "code",
   "execution_count": 42,
   "id": "105c8851-464b-407e-9ae8-dea7bb6a8132",
   "metadata": {},
   "outputs": [
    {
     "data": {
      "image/png": "[encoded data removed]",
      "text/plain": [
       "<Figure size 900x50 with 1 Axes>"
      ]
     },
     "metadata": {},
     "output_type": "display_data"
    },
    {
     "name": "stdout",
     "output_type": "stream",
     "text": [
      "Image 'price-bread-structure.png' successfully saved into '/Users/a-chasovsky/Library/CloudStorage/GoogleDrive-alexanderchasovsky@gmail.com/Мой диск/Data Science Projects/economics-rus/docs/img' directory\n"
     ]
    }
   ],
   "source": [
    "columns_list = bread_structure_df.columns.tolist()\n",
    "xticks = list(bread_structure.values())\n",
    "xticks_cum = list(np.cumsum(xticks) - xticks)\n",
    "xticks_cum.append(100)\n",
    "xticks_labels = [str(int(round(x, 0))) + ' %' for x in xticks_cum]\n",
    "xticks_labels[6:8] = ' ' * 2\n",
    "xticks_labels[0] = '0'\n",
    "\n",
    "fig = plt.figure(figsize=(9, 0.5))\n",
    "\n",
    "zip_ = (columns_list, range(len(columns_list)))\n",
    "for column, color in zip(*zip_):\n",
    "    iloc_column = columns_list.index(column)\n",
    "    previous_values_sum = bread_structure_df.iloc[:, :iloc_column].sum(axis=1)\n",
    "    current_value = bread_structure_df[column].item()\n",
    "    plt.barh(\n",
    "        y=0.5, width=current_value, left=previous_values_sum,\n",
    "        height=0.75, color=palette[color],\n",
    "        label=column)\n",
    "\n",
    "plt.xticks(xticks_cum, labels=xticks_labels, weight='medium', color=palette[-5])\n",
    "plt.legend(\n",
    "    loc='upper left', bbox_to_anchor=(0, -0.5),\n",
    "    frameon=False, ncols=2, prop={'weight': 'normal', 'style': 'italic'})\n",
    "plt.ylim(0, 1)\n",
    "plt.yticks([])\n",
    "plt.gca().xaxis.tick_top()\n",
    "plt.gca().spines[['bottom']].set_visible(False)\n",
    "plt.title('Структура цены хлеба (%)', pad=25)\n",
    "plt.show()\n",
    "\n",
    "savefig('price-bread-structure', dir=save_plot_dir, dpi=100)\n",
    "set_location()"
   ]
  },
  {
   "cell_type": "code",
   "execution_count": 43,
   "id": "f8646993-b0b1-423c-9ce4-b93e95c08f92",
   "metadata": {},
   "outputs": [
    {
     "data": {
      "image/png": "[encoded data removed]",
      "text/plain": [
       "<Figure size 900x50 with 1 Axes>"
      ]
     },
     "metadata": {},
     "output_type": "display_data"
    },
    {
     "name": "stdout",
     "output_type": "stream",
     "text": [
      "Image 'price-bread-structure-tax.png' successfully saved into '/Users/a-chasovsky/Library/CloudStorage/GoogleDrive-alexanderchasovsky@gmail.com/Мой диск/Data Science Projects/economics-rus/docs/img' directory\n"
     ]
    }
   ],
   "source": [
    "columns_list = bread_structure_df.columns.tolist()\n",
    "xticks = list(bread_structure.values())\n",
    "xticks_cum = list(np.cumsum(xticks) - xticks)\n",
    "xticks_cum.append(100)\n",
    "xticks_labels = [str(int(round(x, 0))) + ' %' for x in xticks_cum]\n",
    "xticks_labels[6:8] = ' ' * 2\n",
    "xticks_labels[0] = '0'\n",
    "\n",
    "fig = plt.figure(figsize=(9, 0.5))\n",
    "\n",
    "zip_ = (columns_list, range(len(columns_list)))\n",
    "for column, color in zip(*zip_):\n",
    "    if column in [\n",
    "        'НДС предприятий, осуществляющих производство', \n",
    "        'НДС организациий розничной торговли']:\n",
    "        color = 1\n",
    "        alpha = 1\n",
    "        label = column\n",
    "    else:\n",
    "        color = 0\n",
    "        alpha = 0.75\n",
    "        label = None\n",
    "        \n",
    "    iloc_column = columns_list.index(column)\n",
    "    previous_values_sum = bread_structure_df.iloc[:, :iloc_column].sum(axis=1)\n",
    "    current_value = bread_structure_df[column].item()\n",
    "    plt.barh(\n",
    "        y=0.5, width=current_value, left=previous_values_sum,\n",
    "        height=0.75, color=palette[color], alpha=alpha,\n",
    "        label=label)\n",
    "    \n",
    "plt.xticks(xticks_cum, labels=xticks_labels, weight='medium', color=palette[-5])\n",
    "plt.legend(\n",
    "    loc='upper left', bbox_to_anchor=(0, -0.5),\n",
    "    frameon=False, ncols=3, prop={'weight': 'normal', 'style': 'italic'})\n",
    "plt.ylim(0, 1)\n",
    "plt.yticks([])\n",
    "plt.gca().xaxis.tick_top()\n",
    "plt.gca().spines[['bottom']].set_visible(False)\n",
    "plt.title('Доля налогов в цене хлеба (%)', pad=25)\n",
    "plt.show()\n",
    "\n",
    "savefig('price-bread-structure-tax', dir=save_plot_dir, dpi=100)\n",
    "set_location()"
   ]
  },
  {
   "cell_type": "markdown",
   "id": "c81e43d2-2130-44e1-b9b0-6fb0fd81884d",
   "metadata": {},
   "source": [
    "#### Мясо"
   ]
  },
  {
   "cell_type": "markdown",
   "id": "7caae6d5-a0d4-4ed2-96bc-45bc0f83292d",
   "metadata": {},
   "source": [
    "##### Говядина"
   ]
  },
  {
   "cell_type": "code",
   "execution_count": 44,
   "id": "8ad5ebfc-2210-4003-9be1-f04fac5936a2",
   "metadata": {},
   "outputs": [],
   "source": [
    "animals_2021 = prices_food_2021['крупный рогатый скот'].copy()\n",
    "animals_2022 = prices_food_2022['крупный рогатый скот'].copy()\n",
    "animals_2023 = prices_food_2023['крупный рогатый скот'].copy()\n",
    "animals_2024 = prices_food_2024['крупный рогатый скот'].copy()"
   ]
  },
  {
   "cell_type": "code",
   "execution_count": 45,
   "id": "4d8382bf-b430-4e76-926b-3696b6e2dbf7",
   "metadata": {},
   "outputs": [],
   "source": [
    "animals =  pd.concat([\n",
    "    animals_2021, animals_2022, animals_2023, animals_2024\n",
    "], axis=0)"
   ]
  },
  {
   "cell_type": "code",
   "execution_count": 46,
   "id": "c822bb82-b354-4c57-b675-8a2237ebf289",
   "metadata": {},
   "outputs": [],
   "source": [
    "animals.index =  [to_date(x) for x in animals.index]"
   ]
  },
  {
   "cell_type": "code",
   "execution_count": 47,
   "id": "07ba8120-4c70-4ae0-9282-2b625f9090d5",
   "metadata": {},
   "outputs": [],
   "source": [
    "animals = 0.001 * animals"
   ]
  },
  {
   "cell_type": "code",
   "execution_count": 48,
   "id": "9636dafc-1a5d-458b-ad09-d1e143c4cb52",
   "metadata": {},
   "outputs": [
    {
     "data": {
      "text/plain": [
       "2023-09-01    148.5370\n",
       "2023-10-01    151.3500\n",
       "2023-11-01    151.2990\n",
       "2023-12-01    154.4170\n",
       "2024-01-01    151.6059\n",
       "Name: крупный рогатый скот, dtype: float64"
      ]
     },
     "execution_count": 48,
     "metadata": {},
     "output_type": "execute_result"
    }
   ],
   "source": [
    "animals.tail()"
   ]
  },
  {
   "cell_type": "code",
   "execution_count": 49,
   "id": "190e8415-8156-47c7-a01c-74affd4b5ef7",
   "metadata": {},
   "outputs": [],
   "source": [
    "beef_2021 = prices_food_2021_consumers['говядина (кроме бескостного мяса), кг'].copy()\n",
    "beef_2022 = prices_food_2022_consumers['говядина (кроме бескостного мяса), кг'].copy()\n",
    "beef_2023 = prices_food_2023_consumers['говядина (кроме бескостного мяса), кг'].copy()\n",
    "beef_2024 = prices_food_2024_consumers['говядина (кроме бескостного мяса), кг'].copy()"
   ]
  },
  {
   "cell_type": "code",
   "execution_count": 50,
   "id": "a3271001-03c7-4acd-bf1b-83b77ad979e7",
   "metadata": {},
   "outputs": [],
   "source": [
    "beef = pd.concat([\n",
    "    beef_2021, beef_2022, beef_2023, beef_2024\n",
    "], axis=0)"
   ]
  },
  {
   "cell_type": "code",
   "execution_count": 51,
   "id": "2944776e-a039-4b6d-b107-2779edd23694",
   "metadata": {},
   "outputs": [],
   "source": [
    "beef.index =  [to_date(x) for x in beef.index]"
   ]
  },
  {
   "cell_type": "code",
   "execution_count": 52,
   "id": "ea336bc4-d0bf-4c0f-b866-ab133dd572d6",
   "metadata": {},
   "outputs": [
    {
     "data": {
      "text/plain": [
       "2023-09-01    506.52\n",
       "2023-10-01    512.89\n",
       "2023-11-01    515.55\n",
       "2023-12-01    519.83\n",
       "2024-01-01    527.89\n",
       "Name: говядина (кроме бескостного мяса), кг, dtype: object"
      ]
     },
     "execution_count": 52,
     "metadata": {},
     "output_type": "execute_result"
    }
   ],
   "source": [
    "beef.tail()"
   ]
  },
  {
   "cell_type": "code",
   "execution_count": 53,
   "id": "798f95e6-a985-458e-af74-06ed4e5b9b33",
   "metadata": {},
   "outputs": [],
   "source": [
    "beef_clean_2021 = prices_food_2021_consumers['говядина бескостная, кг'].copy()\n",
    "beef_clean_2022 = prices_food_2022_consumers['говядина бескостная, кг'].copy()\n",
    "beef_clean_2023 = prices_food_2023_consumers['говядина бескостная, кг'].copy()\n",
    "beef_clean_2024 = prices_food_2024_consumers['говядина бескостная, кг'].copy()"
   ]
  },
  {
   "cell_type": "code",
   "execution_count": 54,
   "id": "03514edd-4046-4d8e-9b87-1108dcf80d7a",
   "metadata": {},
   "outputs": [],
   "source": [
    "beef_clean = pd.concat([\n",
    "    beef_clean_2021, beef_clean_2022, beef_clean_2023, beef_clean_2024\n",
    "], axis=0)"
   ]
  },
  {
   "cell_type": "code",
   "execution_count": 55,
   "id": "bdd9ed98-5e84-43a9-9402-d1608dd131e1",
   "metadata": {},
   "outputs": [],
   "source": [
    "beef_clean.index =  [to_date(x) for x in beef_clean.index]"
   ]
  },
  {
   "cell_type": "code",
   "execution_count": 56,
   "id": "dbc88807-2124-4197-8705-7795fd435c15",
   "metadata": {},
   "outputs": [
    {
     "data": {
      "text/plain": [
       "2023-09-01    683.69\n",
       "2023-10-01    694.97\n",
       "2023-11-01    702.89\n",
       "2023-12-01    709.79\n",
       "2024-01-01    725.34\n",
       "Name: говядина бескостная, кг, dtype: object"
      ]
     },
     "execution_count": 56,
     "metadata": {},
     "output_type": "execute_result"
    }
   ],
   "source": [
    "beef_clean.tail()"
   ]
  },
  {
   "cell_type": "code",
   "execution_count": 57,
   "id": "6fc2d7ca-eb35-4576-a155-158beac2e2de",
   "metadata": {},
   "outputs": [
    {
     "name": "stdout",
     "output_type": "stream",
     "text": [
      "Image 'price-beef.png' successfully saved into '/Users/a-chasovsky/Library/CloudStorage/GoogleDrive-alexanderchasovsky@gmail.com/Мой диск/Data Science Projects/economics-rus/docs/img' directory\n"
     ]
    },
    {
     "data": {
      "image/png": "[encoded data removed]",
      "text/plain": [
       "<Figure size 900x250 with 1 Axes>"
      ]
     },
     "metadata": {},
     "output_type": "display_data"
    }
   ],
   "source": [
    "fig = plt.figure()\n",
    "plt.plot(\n",
    "    smoothed(normalized_by_first(beef), datetime_index=True), lw=1.5,\n",
    "    color=palette[1], label='Цена говядины')\n",
    "plt.plot(\n",
    "    smoothed(normalized_by_first(animals), datetime_index=True),\n",
    "    lw=1.5, ls='--', color=palette[0], label='Цена КРС у производителей')\n",
    "ax=plt.gca()\n",
    "plt.axhline(\n",
    "    1, 0.025, 0.975, lw=0.75, ls='--', color=palette[-2], zorder=10\n",
    ")\n",
    "plt.legend(**legend_inline, ncols=2, fontsize=9)\n",
    "# plt.title('Нормализованная цена говядины', **title_inline)\n",
    "\n",
    "axis_rstyle(margin=0.01, offset_bottom=10)\n",
    "axis_date_transform(\n",
    "    formatter=matplotlib.dates.DateFormatter('%b'),\n",
    "    locator=matplotlib.dates.MonthLocator([1,4,7,10]))\n",
    "axis_dates_capitalize()\n",
    "axis_add_date_xaxis(offset=25)\n",
    "axis_dates_translate_months()\n",
    "\n",
    "savefig('price-beef', dir=save_plot_dir, dpi=100)"
   ]
  },
  {
   "cell_type": "code",
   "execution_count": 58,
   "id": "f0471335-7d4d-4136-927a-0d6163b2d7fa",
   "metadata": {},
   "outputs": [],
   "source": [
    "set_location()"
   ]
  },
  {
   "cell_type": "code",
   "execution_count": 59,
   "id": "af3435cf-fbe6-48b8-9458-3ff7c2c91e1f",
   "metadata": {},
   "outputs": [],
   "source": [
    "beef_price = normalized_by_first(beef/beef_clean).rename(columns={0: 'index'})"
   ]
  },
  {
   "cell_type": "code",
   "execution_count": 60,
   "id": "21a44fd4-e896-4b51-a584-1563aa72cd40",
   "metadata": {},
   "outputs": [
    {
     "data": {
      "text/html": [
       "<div>\n",
       "<style scoped>\n",
       "    .dataframe tbody tr th:only-of-type {\n",
       "        vertical-align: middle;\n",
       "    }\n",
       "\n",
       "    .dataframe tbody tr th {\n",
       "        vertical-align: top;\n",
       "    }\n",
       "\n",
       "    .dataframe thead th {\n",
       "        text-align: right;\n",
       "    }\n",
       "</style>\n",
       "<table border=\"1\" class=\"dataframe\">\n",
       "  <thead>\n",
       "    <tr style=\"text-align: right;\">\n",
       "      <th></th>\n",
       "      <th>index</th>\n",
       "    </tr>\n",
       "  </thead>\n",
       "  <tbody>\n",
       "    <tr>\n",
       "      <th>2023-09-01</th>\n",
       "      <td>1.046558</td>\n",
       "    </tr>\n",
       "    <tr>\n",
       "      <th>2023-10-01</th>\n",
       "      <td>1.042520</td>\n",
       "    </tr>\n",
       "    <tr>\n",
       "      <th>2023-11-01</th>\n",
       "      <td>1.036119</td>\n",
       "    </tr>\n",
       "    <tr>\n",
       "      <th>2023-12-01</th>\n",
       "      <td>1.034564</td>\n",
       "    </tr>\n",
       "    <tr>\n",
       "      <th>2024-01-01</th>\n",
       "      <td>1.028082</td>\n",
       "    </tr>\n",
       "  </tbody>\n",
       "</table>\n",
       "</div>"
      ],
      "text/plain": [
       "               index\n",
       "2023-09-01  1.046558\n",
       "2023-10-01  1.042520\n",
       "2023-11-01  1.036119\n",
       "2023-12-01  1.034564\n",
       "2024-01-01  1.028082"
      ]
     },
     "execution_count": 60,
     "metadata": {},
     "output_type": "execute_result"
    }
   ],
   "source": [
    "beef_price.tail()"
   ]
  },
  {
   "cell_type": "code",
   "execution_count": 61,
   "id": "73629036-c469-4f73-b419-1b2e8d5507c8",
   "metadata": {},
   "outputs": [
    {
     "data": {
      "image/png": "[encoded data removed]",
      "text/plain": [
       "<Figure size 1100x250 with 1 Axes>"
      ]
     },
     "metadata": {},
     "output_type": "display_data"
    }
   ],
   "source": [
    "fig = plt.figure(figsize=(11, 2.5))\n",
    "plt.scatter(x=beef_price.index, y=beef_price['index'], s=20, zorder=50)\n",
    "for idx in beef_price.index:\n",
    "    plt.plot(\n",
    "        [idx, idx], [1, beef_price.loc[idx, 'index']],\n",
    "        color=alpha_color(palette[0], 0.25), lw=0.75, zorder=1\n",
    "    )\n",
    "plt.axhline(\n",
    "    1, 0, 0.985, lw=1, ls='--', color=palette[-2], alpha=0.75, zorder=10\n",
    ")\n",
    "plt.ylim(0.98, 1.05)\n",
    "plt.title('Соотношение цены филе говядины и цены обычной говядины')\n",
    "\n",
    "axis_rstyle(margin=0.01, offset_bottom=10)\n",
    "axis_new_year(year_axis_pad=-0.16, language='rus')\n",
    "set_location()"
   ]
  },
  {
   "cell_type": "markdown",
   "id": "04a09935-202e-492c-82e1-39d0488cfdf8",
   "metadata": {},
   "source": [
    "##### Свинина"
   ]
  },
  {
   "cell_type": "code",
   "execution_count": 62,
   "id": "7b4f4f45-5016-47ac-b4ac-8dbfe30fc0d8",
   "metadata": {},
   "outputs": [],
   "source": [
    "pig_raw_2021 = prices_food_2021['свиньи'].copy()\n",
    "pig_raw_2022 = prices_food_2022['свиньи'].copy()\n",
    "pig_raw_2023 = prices_food_2023['свиньи'].copy()\n",
    "pig_raw_2024 = prices_food_2024['свиньи'].copy()"
   ]
  },
  {
   "cell_type": "code",
   "execution_count": 63,
   "id": "915a3d0d-0394-400d-9ba0-3d50439c9ac5",
   "metadata": {},
   "outputs": [],
   "source": [
    "pig_raw =  pd.concat([\n",
    "    pig_raw_2021, pig_raw_2022, pig_raw_2023, pig_raw_2024\n",
    "], axis=0)"
   ]
  },
  {
   "cell_type": "code",
   "execution_count": 64,
   "id": "0a34b873-a27e-45d6-be58-93af0a88a478",
   "metadata": {},
   "outputs": [],
   "source": [
    "pig_raw.index =  [to_date(x) for x in pig_raw.index]"
   ]
  },
  {
   "cell_type": "code",
   "execution_count": 65,
   "id": "e9b6f6cb-b9ee-47a3-a468-2c161955b74e",
   "metadata": {},
   "outputs": [],
   "source": [
    "pig_raw = 0.001 * pig_raw"
   ]
  },
  {
   "cell_type": "code",
   "execution_count": 66,
   "id": "b5da54a5-06dd-4f9c-a71b-06987486d469",
   "metadata": {},
   "outputs": [
    {
     "data": {
      "text/plain": [
       "2023-09-01    126.5870\n",
       "2023-10-01    127.9350\n",
       "2023-11-01    127.3500\n",
       "2023-12-01    121.4530\n",
       "2024-01-01    113.1215\n",
       "Name: свиньи, dtype: float64"
      ]
     },
     "execution_count": 66,
     "metadata": {},
     "output_type": "execute_result"
    }
   ],
   "source": [
    "pig_raw.tail()"
   ]
  },
  {
   "cell_type": "code",
   "execution_count": 67,
   "id": "36fb9137-f424-43f6-a00d-a2336c717992",
   "metadata": {},
   "outputs": [],
   "source": [
    "pig_clean_2021 = prices_food_2021_consumers['свинина бескостная, кг'].copy()\n",
    "pig_clean_2022 = prices_food_2022_consumers['свинина бескостная, кг'].copy()\n",
    "pig_clean_2023 = prices_food_2023_consumers['свинина бескостная, кг'].copy()\n",
    "pig_clean_2024 = prices_food_2024_consumers['свинина бескостная, кг'].copy()"
   ]
  },
  {
   "cell_type": "code",
   "execution_count": 68,
   "id": "30e55cec-ae9e-46d6-a35a-bdd91a9b61e9",
   "metadata": {},
   "outputs": [],
   "source": [
    "pig_clean = pd.concat([\n",
    "    pig_clean_2021, pig_clean_2022, pig_clean_2023, pig_clean_2024\n",
    "], axis=0)"
   ]
  },
  {
   "cell_type": "code",
   "execution_count": 69,
   "id": "1ed52ebb-9642-49b1-bd44-0486e36d86a5",
   "metadata": {},
   "outputs": [],
   "source": [
    "pig_clean.index =  [to_date(x) for x in pig_clean.index]"
   ]
  },
  {
   "cell_type": "code",
   "execution_count": 70,
   "id": "b6808fcc-6c5d-4551-85ac-89424aa9842a",
   "metadata": {},
   "outputs": [
    {
     "data": {
      "text/plain": [
       "2023-09-01    439.41\n",
       "2023-10-01    447.16\n",
       "2023-11-01    452.03\n",
       "2023-12-01    454.16\n",
       "2024-01-01    452.61\n",
       "Name: свинина бескостная, кг, dtype: object"
      ]
     },
     "execution_count": 70,
     "metadata": {},
     "output_type": "execute_result"
    }
   ],
   "source": [
    "pig_clean.tail()"
   ]
  },
  {
   "cell_type": "code",
   "execution_count": 71,
   "id": "44716ab9-6771-47e1-a452-13049253a1dd",
   "metadata": {},
   "outputs": [],
   "source": [
    "pig_2021 = prices_food_2021_consumers['свинина (кроме бескостного мяса), кг'].copy()\n",
    "pig_2022 = prices_food_2022_consumers['свинина (кроме бескостного мяса), кг'].copy()\n",
    "pig_2023 = prices_food_2023_consumers['свинина (кроме бескостного мяса), кг'].copy()\n",
    "pig_2024 = prices_food_2024_consumers['свинина (кроме бескостного мяса), кг'].copy()"
   ]
  },
  {
   "cell_type": "code",
   "execution_count": 72,
   "id": "a05d89bf-4b04-4fce-9f04-24401defafb2",
   "metadata": {},
   "outputs": [],
   "source": [
    "pig = pd.concat([\n",
    "    pig_2021, pig_2022, pig_2023, pig_2024\n",
    "], axis=0)"
   ]
  },
  {
   "cell_type": "code",
   "execution_count": 73,
   "id": "a14cf80e-1abe-4603-9a6e-3d36b194ebf2",
   "metadata": {},
   "outputs": [],
   "source": [
    "pig.index = [to_date(x) for x in pig.index]"
   ]
  },
  {
   "cell_type": "code",
   "execution_count": 74,
   "id": "8d78af3e-f760-4b71-9f06-3f0876f474e8",
   "metadata": {},
   "outputs": [
    {
     "data": {
      "text/plain": [
       "2023-09-01    335.96\n",
       "2023-10-01    342.28\n",
       "2023-11-01    344.82\n",
       "2023-12-01    344.82\n",
       "2024-01-01    342.72\n",
       "Name: свинина (кроме бескостного мяса), кг, dtype: object"
      ]
     },
     "execution_count": 74,
     "metadata": {},
     "output_type": "execute_result"
    }
   ],
   "source": [
    "pig.tail()"
   ]
  },
  {
   "cell_type": "code",
   "execution_count": 75,
   "id": "c751c88b-025a-42bb-b4d5-2c3b05d8553c",
   "metadata": {},
   "outputs": [
    {
     "name": "stdout",
     "output_type": "stream",
     "text": [
      "Image 'price-pig.png' successfully saved into '/Users/a-chasovsky/Library/CloudStorage/GoogleDrive-alexanderchasovsky@gmail.com/Мой диск/Data Science Projects/economics-rus/docs/img' directory\n"
     ]
    },
    {
     "data": {
      "image/png": "[encoded data removed]",
      "text/plain": [
       "<Figure size 900x250 with 1 Axes>"
      ]
     },
     "metadata": {},
     "output_type": "display_data"
    }
   ],
   "source": [
    "fig = plt.figure()\n",
    "plt.plot(\n",
    "    smoothed(normalized_by_first(pig), datetime_index=True), lw=1.5,\n",
    "    color=alpha_color(palette[8], 1.15), label='Цена свинины'\n",
    ")\n",
    "plt.plot(\n",
    "    smoothed(normalized_by_first(pig_raw), datetime_index=True),\n",
    "    lw=1.5, ls='--', color=palette[0], label='Цена свиней у производителей'\n",
    ")\n",
    "plt.axhline(\n",
    "    1, 0.025, 0.975, lw=0.75, ls='--', color=palette[-2], zorder=10\n",
    ")\n",
    "plt.legend(**legend_inline, ncols=2)\n",
    "# plt.title('Нормализованная цена свинины', **title_inline)\n",
    "plt.gca().xaxis.grid(visible=True)\n",
    "plt.gca().yaxis.grid(visible=False)\n",
    "\n",
    "axis_rstyle(yticks=[1, 1.31, 0.1], ylim=[0.99, 1.32], margin=0.01)\n",
    "axis_date_transform(\n",
    "    formatter=matplotlib.dates.DateFormatter('%b'),\n",
    "    locator=matplotlib.dates.MonthLocator([1,4,7,10]))\n",
    "axis_dates_capitalize()\n",
    "axis_add_date_xaxis(offset=25)\n",
    "axis_dates_translate_months()\n",
    "\n",
    "savefig('price-pig', dir=save_plot_dir, dpi=100)"
   ]
  },
  {
   "cell_type": "code",
   "execution_count": 76,
   "id": "487ec66d-fa0d-450b-8170-c40de1d16b12",
   "metadata": {},
   "outputs": [],
   "source": [
    "set_location()"
   ]
  },
  {
   "cell_type": "code",
   "execution_count": 77,
   "id": "158c2991-a7fc-4999-a1c6-b52f0b6b8d1a",
   "metadata": {},
   "outputs": [],
   "source": [
    "pig_price = normalized_by_first(pig/pig_clean).rename(columns={0: 'index'})"
   ]
  },
  {
   "cell_type": "code",
   "execution_count": 78,
   "id": "6d433d83-ea71-4cb6-9d16-dbc4d31d47e8",
   "metadata": {},
   "outputs": [
    {
     "data": {
      "text/html": [
       "<div>\n",
       "<style scoped>\n",
       "    .dataframe tbody tr th:only-of-type {\n",
       "        vertical-align: middle;\n",
       "    }\n",
       "\n",
       "    .dataframe tbody tr th {\n",
       "        vertical-align: top;\n",
       "    }\n",
       "\n",
       "    .dataframe thead th {\n",
       "        text-align: right;\n",
       "    }\n",
       "</style>\n",
       "<table border=\"1\" class=\"dataframe\">\n",
       "  <thead>\n",
       "    <tr style=\"text-align: right;\">\n",
       "      <th></th>\n",
       "      <th>index</th>\n",
       "    </tr>\n",
       "  </thead>\n",
       "  <tbody>\n",
       "    <tr>\n",
       "      <th>2023-09-01</th>\n",
       "      <td>1.009299</td>\n",
       "    </tr>\n",
       "    <tr>\n",
       "      <th>2023-10-01</th>\n",
       "      <td>1.010464</td>\n",
       "    </tr>\n",
       "    <tr>\n",
       "      <th>2023-11-01</th>\n",
       "      <td>1.006995</td>\n",
       "    </tr>\n",
       "    <tr>\n",
       "      <th>2023-12-01</th>\n",
       "      <td>1.002272</td>\n",
       "    </tr>\n",
       "    <tr>\n",
       "      <th>2024-01-01</th>\n",
       "      <td>0.999580</td>\n",
       "    </tr>\n",
       "  </tbody>\n",
       "</table>\n",
       "</div>"
      ],
      "text/plain": [
       "               index\n",
       "2023-09-01  1.009299\n",
       "2023-10-01  1.010464\n",
       "2023-11-01  1.006995\n",
       "2023-12-01  1.002272\n",
       "2024-01-01  0.999580"
      ]
     },
     "execution_count": 78,
     "metadata": {},
     "output_type": "execute_result"
    }
   ],
   "source": [
    "pig_price.tail()"
   ]
  },
  {
   "cell_type": "code",
   "execution_count": 79,
   "id": "ba36a667-2948-44a1-ae47-7c020560ede4",
   "metadata": {},
   "outputs": [
    {
     "data": {
      "image/png": "[encoded data removed]",
      "text/plain": [
       "<Figure size 1100x250 with 1 Axes>"
      ]
     },
     "metadata": {},
     "output_type": "display_data"
    }
   ],
   "source": [
    "fig = plt.figure(figsize=(11, 2.5))\n",
    "plt.scatter(x=pig_price.index, y=pig_price['index'], s=20, zorder=50)\n",
    "for idx in pig_price.index:\n",
    "    plt.plot(\n",
    "        [idx, idx], [1, pig_price.loc[idx, 'index']],\n",
    "        color=alpha_color(palette[0], 0.25), lw=0.75, zorder=1\n",
    "    )\n",
    "plt.axhline(\n",
    "    1, 0, 0.985, lw=1, ls='--', color=palette[-2], alpha=0.75, zorder=10\n",
    ")\n",
    "plt.ylim(0.98, 1.05)\n",
    "plt.title('Соотношение цены филе свинины и цены обычной свинины')\n",
    "plt.grid(False)\n",
    "\n",
    "axis_rstyle(margin=0.01, offset_bottom=10)\n",
    "axis_new_year(year_axis_pad=-0.16, language='rus')\n",
    "set_location()"
   ]
  },
  {
   "cell_type": "markdown",
   "id": "6c4454d6-4cf9-4b63-beec-529af36e4dc0",
   "metadata": {},
   "source": [
    "##### Курица"
   ]
  },
  {
   "cell_type": "code",
   "execution_count": 80,
   "id": "9a02880f-1acc-4300-8a51-010122426acb",
   "metadata": {},
   "outputs": [],
   "source": [
    "poultry_2021_raw = prices_food_2021['птица сельскохозяйственная живая'].copy()\n",
    "poultry_2022_raw = prices_food_2022['птица сельскохозяйственная живая'].copy()\n",
    "poultry_2023_raw = prices_food_2023['птица сельскохозяйственная живая'].copy()\n",
    "poultry_2024_raw = prices_food_2024['птица сельскохозяйственная живая'].copy()"
   ]
  },
  {
   "cell_type": "code",
   "execution_count": 81,
   "id": "8d6e9072-011e-458d-b284-9832e69d1b91",
   "metadata": {},
   "outputs": [],
   "source": [
    "poultry_raw =  pd.concat([\n",
    "    poultry_2021_raw, poultry_2022_raw, poultry_2023_raw, poultry_2024_raw\n",
    "], axis=0)"
   ]
  },
  {
   "cell_type": "code",
   "execution_count": 82,
   "id": "f2b5f850-2fd8-4215-a931-93249f3fee31",
   "metadata": {},
   "outputs": [],
   "source": [
    "poultry_raw.index =  [to_date(x) for x in poultry_raw.index]"
   ]
  },
  {
   "cell_type": "code",
   "execution_count": 83,
   "id": "018e2064-5cf6-4de0-8a93-50ae8b7064b2",
   "metadata": {},
   "outputs": [],
   "source": [
    "poultry_raw = 0.001 * poultry_raw"
   ]
  },
  {
   "cell_type": "code",
   "execution_count": 84,
   "id": "36702b52-4c62-446c-a32e-83d0b24830fe",
   "metadata": {},
   "outputs": [
    {
     "data": {
      "text/plain": [
       "2023-09-01    123.3830\n",
       "2023-10-01    130.6750\n",
       "2023-11-01    131.2530\n",
       "2023-12-01    130.3250\n",
       "2024-01-01    122.2456\n",
       "Name: птица сельскохозяйственная живая, dtype: float64"
      ]
     },
     "execution_count": 84,
     "metadata": {},
     "output_type": "execute_result"
    }
   ],
   "source": [
    "poultry_raw.tail()"
   ]
  },
  {
   "cell_type": "code",
   "execution_count": 85,
   "id": "3c7dc515-f24d-4a95-bc2c-58ccc62c5a57",
   "metadata": {},
   "outputs": [],
   "source": [
    "poultry_2021 = prices_food_2021_consumers['куры охлажденные и мороженые, кг'].copy()\n",
    "poultry_2022 = prices_food_2022_consumers['куры охлажденные и мороженые, кг'].copy()\n",
    "poultry_2023 = prices_food_2023_consumers['куры охлажденные и мороженые, кг'].copy()\n",
    "poultry_2024 = prices_food_2024_consumers['куры охлажденные и мороженые, кг'].copy()"
   ]
  },
  {
   "cell_type": "code",
   "execution_count": 86,
   "id": "249a8a18-a724-41c5-998c-e6e36090c490",
   "metadata": {},
   "outputs": [],
   "source": [
    "poultry =  pd.concat([\n",
    "    poultry_2021, poultry_2022, poultry_2023, poultry_2024\n",
    "], axis=0)"
   ]
  },
  {
   "cell_type": "code",
   "execution_count": 87,
   "id": "34ff5c69-dc26-44c5-959a-c0c19d770f10",
   "metadata": {},
   "outputs": [],
   "source": [
    "poultry.index = [to_date(x) for x in poultry.index]"
   ]
  },
  {
   "cell_type": "code",
   "execution_count": 88,
   "id": "68bd3abd-a82d-45c8-9b8a-c32eeaeae5ee",
   "metadata": {},
   "outputs": [
    {
     "data": {
      "text/plain": [
       "2023-09-01    221.02\n",
       "2023-10-01    229.65\n",
       "2023-11-01    231.92\n",
       "2023-12-01    227.58\n",
       "2024-01-01    221.78\n",
       "Name: куры охлажденные и мороженые, кг, dtype: object"
      ]
     },
     "execution_count": 88,
     "metadata": {},
     "output_type": "execute_result"
    }
   ],
   "source": [
    "poultry.tail()"
   ]
  },
  {
   "cell_type": "code",
   "execution_count": 89,
   "id": "76588813-a868-4030-a44f-bc43041350f1",
   "metadata": {},
   "outputs": [
    {
     "name": "stdout",
     "output_type": "stream",
     "text": [
      "Image 'price-poultry.png' successfully saved into '/Users/a-chasovsky/Library/CloudStorage/GoogleDrive-alexanderchasovsky@gmail.com/Мой диск/Data Science Projects/economics-rus/docs/img' directory\n"
     ]
    },
    {
     "data": {
      "image/png": "[encoded data removed]",
      "text/plain": [
       "<Figure size 900x250 with 1 Axes>"
      ]
     },
     "metadata": {},
     "output_type": "display_data"
    }
   ],
   "source": [
    "fig = plt.figure()\n",
    "\n",
    "plt.plot(\n",
    "    smoothed(normalized_by_first(poultry), datetime_index=True),\n",
    "    color=alpha_color(palette[7], 0.95),\n",
    "    label='Цена курицы'\n",
    ")\n",
    "plt.plot(\n",
    "    smoothed(normalized_by_first(poultry_raw), datetime_index=True), ls='--',\n",
    "    label='Цена птицы сельскохозяйственной у производителей')\n",
    "plt.axhline(1, 0.025, 0.975, lw=0.75, ls='--', color=palette[-2], zorder=10)\n",
    "plt.legend(**legend_inline, ncols=6)\n",
    "# plt.title('Нормализованные цены на курицу', **title_inline)\n",
    "plt.gca().xaxis.grid(visible=True)\n",
    "plt.gca().yaxis.grid(visible=False)\n",
    "axis_rstyle(margin=0.01, offset_bottom=10, ylim=[0.99, 1.8], yticks=[1, 1.8, 0.2])\n",
    "axis_date_transform(\n",
    "    formatter=matplotlib.dates.DateFormatter('%b'),\n",
    "    locator=matplotlib.dates.MonthLocator([1,4,7,10]))\n",
    "axis_dates_capitalize()\n",
    "axis_add_date_xaxis(offset=25)\n",
    "axis_dates_translate_months()\n",
    "\n",
    "savefig('price-poultry', dir=save_plot_dir, dpi=100)"
   ]
  },
  {
   "cell_type": "code",
   "execution_count": 90,
   "id": "cf185c01-67ef-496c-8b32-a443c7e93aec",
   "metadata": {},
   "outputs": [],
   "source": [
    "set_location()"
   ]
  },
  {
   "cell_type": "markdown",
   "id": "6661e140-02ce-4346-9a6d-81b2309b1d23",
   "metadata": {},
   "source": [
    "#### Молочные продукты"
   ]
  },
  {
   "cell_type": "markdown",
   "id": "a599b6d0-7600-4455-a6ab-5f9e89fc86aa",
   "metadata": {},
   "source": [
    "##### Молоко"
   ]
  },
  {
   "cell_type": "code",
   "execution_count": 91,
   "id": "8b99afa0-7535-4fe0-a636-de11ea2cab2a",
   "metadata": {},
   "outputs": [],
   "source": [
    "milk_2021_raw = prices_food_2021['молоко сырое крупного рогатого скота'].copy()\n",
    "milk_2022_raw = prices_food_2022['молоко сырое крупного рогатого скота'].copy()\n",
    "milk_2023_raw = prices_food_2023['молоко сырое крупного рогатого скота'].copy()\n",
    "milk_2024_raw = prices_food_2024['молоко сырое крупного рогатого скота'].copy()"
   ]
  },
  {
   "cell_type": "code",
   "execution_count": 92,
   "id": "46a738d4-069e-41b4-bafb-df7f7825df66",
   "metadata": {},
   "outputs": [],
   "source": [
    "milk_raw =  pd.concat([\n",
    "    milk_2021_raw, milk_2022_raw, milk_2023_raw, milk_2024_raw\n",
    "], axis=0)"
   ]
  },
  {
   "cell_type": "code",
   "execution_count": 93,
   "id": "37012bc8-d5eb-46d0-b3ca-5ffa77105f68",
   "metadata": {},
   "outputs": [],
   "source": [
    "milk_raw.index =  [to_date(x) for x in milk_raw.index]"
   ]
  },
  {
   "cell_type": "code",
   "execution_count": 94,
   "id": "b6b352d2-997c-4830-918d-429935307424",
   "metadata": {},
   "outputs": [],
   "source": [
    "milk_raw = 0.001 * milk_raw"
   ]
  },
  {
   "cell_type": "code",
   "execution_count": 95,
   "id": "2710c6ff-444c-4895-a91b-81b4e44cf730",
   "metadata": {},
   "outputs": [
    {
     "data": {
      "text/plain": [
       "2023-09-01    29.4400\n",
       "2023-10-01    30.5990\n",
       "2023-11-01    32.0190\n",
       "2023-12-01    32.7300\n",
       "2024-01-01    33.6681\n",
       "Name: молоко сырое крупного рогатого скота, dtype: float64"
      ]
     },
     "execution_count": 95,
     "metadata": {},
     "output_type": "execute_result"
    }
   ],
   "source": [
    "milk_raw.tail()"
   ]
  },
  {
   "cell_type": "code",
   "execution_count": 96,
   "id": "0985cb11-b002-4dfb-82a6-093cfbbfc7df",
   "metadata": {},
   "outputs": [],
   "source": [
    "milk_2021 = \\\n",
    "    prices_food_2021_consumers['молоко питьевое цельное пастеризованное 2,5-3,2% жирности, л'].copy()\n",
    "milk_2022 = \\\n",
    "    prices_food_2022_consumers['молоко питьевое цельное пастеризованное 2,5-3,2% жирности, л'].copy()\n",
    "milk_2023 = \\\n",
    "    prices_food_2023_consumers['молоко питьевое цельное пастеризованное 2,5-3,2% жирности, л'].copy()\n",
    "milk_2024 = \\\n",
    "    prices_food_2024_consumers['молоко питьевое цельное пастеризованное 2,5-3,2% жирности, л'].copy()"
   ]
  },
  {
   "cell_type": "code",
   "execution_count": 97,
   "id": "12272e12-9514-42ee-8a8b-89e14ff3e282",
   "metadata": {},
   "outputs": [],
   "source": [
    "milk = pd.concat([\n",
    "    milk_2021, milk_2022, milk_2023, milk_2024\n",
    "], axis=0)"
   ]
  },
  {
   "cell_type": "code",
   "execution_count": 98,
   "id": "92770393-841b-44a5-8a4e-d4d84e13a27c",
   "metadata": {},
   "outputs": [],
   "source": [
    "milk.index = [to_date(x) for x in milk.index]"
   ]
  },
  {
   "cell_type": "code",
   "execution_count": 99,
   "id": "63fddeb7-1926-44d7-ac04-c7a2eb626527",
   "metadata": {},
   "outputs": [
    {
     "data": {
      "text/plain": [
       "2023-09-01    73.31\n",
       "2023-10-01    73.89\n",
       "2023-11-01     74.6\n",
       "2023-12-01    75.26\n",
       "2024-01-01    76.08\n",
       "Name: молоко питьевое цельное пастеризованное 2,5-3,2% жирности, л, dtype: object"
      ]
     },
     "execution_count": 99,
     "metadata": {},
     "output_type": "execute_result"
    }
   ],
   "source": [
    "milk.tail()"
   ]
  },
  {
   "cell_type": "markdown",
   "id": "6c1ff4a1-6f00-49d8-924e-d0490e2aa488",
   "metadata": {},
   "source": [
    "##### Сыр"
   ]
  },
  {
   "cell_type": "code",
   "execution_count": 100,
   "id": "33f204c1-0cb7-4794-b213-838fc7448d54",
   "metadata": {},
   "outputs": [],
   "source": [
    "cheese_2021 = prices_food_2021_consumers['сыры сычужные твердые и мягкие, кг'].copy()\n",
    "cheese_2022 = prices_food_2022_consumers['сыры сычужные твердые и мягкие, кг'].copy()\n",
    "cheese_2023 = prices_food_2023_consumers['сыры твердые, полутвердые и мягкие, кг'].copy()\n",
    "cheese_2024 = prices_food_2024_consumers['сыры твердые, полутвердые и мягкие, кг'].copy()"
   ]
  },
  {
   "cell_type": "code",
   "execution_count": 101,
   "id": "9337562b-8050-45d8-98c6-2387150163f4",
   "metadata": {},
   "outputs": [],
   "source": [
    "cheese =  pd.concat([\n",
    "    cheese_2021, cheese_2022, cheese_2023, cheese_2024\n",
    "], axis=0)"
   ]
  },
  {
   "cell_type": "code",
   "execution_count": 102,
   "id": "7ccfecca-f3ce-4779-a996-f4d03f9a1e64",
   "metadata": {},
   "outputs": [],
   "source": [
    "cheese.index =  [to_date(x) for x in cheese.index]"
   ]
  },
  {
   "cell_type": "code",
   "execution_count": 103,
   "id": "8a854356-aa9f-4fe1-875e-58d6ba048d97",
   "metadata": {},
   "outputs": [
    {
     "data": {
      "text/plain": [
       "2023-09-01    761.83\n",
       "2023-10-01     763.7\n",
       "2023-11-01    769.96\n",
       "2023-12-01    780.06\n",
       "2024-01-01    781.47\n",
       "dtype: object"
      ]
     },
     "execution_count": 103,
     "metadata": {},
     "output_type": "execute_result"
    }
   ],
   "source": [
    "cheese.tail()"
   ]
  },
  {
   "cell_type": "markdown",
   "id": "daf8fcf0-f89f-4394-bbe6-788318861dfd",
   "metadata": {},
   "source": [
    "##### Сметана"
   ]
  },
  {
   "cell_type": "code",
   "execution_count": 104,
   "id": "72859f63-df23-4c65-b4b4-fa62d0778de0",
   "metadata": {},
   "outputs": [],
   "source": [
    "sour_cream_2021 = prices_food_2021_consumers['сметана, кг'].copy()\n",
    "sour_cream_2022 = prices_food_2022_consumers['сметана, кг'].copy()\n",
    "sour_cream_2023 = prices_food_2023_consumers['сметана, кг'].copy()\n",
    "sour_cream_2024 = prices_food_2024_consumers['сметана, кг'].copy()"
   ]
  },
  {
   "cell_type": "code",
   "execution_count": 105,
   "id": "d4d92bbf-3ca8-4295-aab0-b60f64099398",
   "metadata": {},
   "outputs": [],
   "source": [
    "sour_cream =  pd.concat([\n",
    "    sour_cream_2021, sour_cream_2022, sour_cream_2023, sour_cream_2024\n",
    "], axis=0)"
   ]
  },
  {
   "cell_type": "code",
   "execution_count": 106,
   "id": "48426a7b-4b5b-4388-8688-f9980639b800",
   "metadata": {},
   "outputs": [],
   "source": [
    "sour_cream.index = [to_date(x) for x in sour_cream.index]"
   ]
  },
  {
   "cell_type": "code",
   "execution_count": 107,
   "id": "8710c400-e027-4d45-a390-2ebc897cd04b",
   "metadata": {},
   "outputs": [
    {
     "data": {
      "text/plain": [
       "2023-09-01    276.25\n",
       "2023-10-01    277.85\n",
       "2023-11-01    279.63\n",
       "2023-12-01    282.49\n",
       "2024-01-01    285.58\n",
       "Name: сметана, кг, dtype: object"
      ]
     },
     "execution_count": 107,
     "metadata": {},
     "output_type": "execute_result"
    }
   ],
   "source": [
    "sour_cream.tail()"
   ]
  },
  {
   "cell_type": "markdown",
   "id": "64afa538-0a24-4acb-8bf3-86a18a0fbe98",
   "metadata": {},
   "source": [
    "##### Йогурт"
   ]
  },
  {
   "cell_type": "code",
   "execution_count": 108,
   "id": "21115e05-7d5f-4646-a13e-aca21a15a115",
   "metadata": {},
   "outputs": [],
   "source": [
    "jogurt_2021 = prices_food_2021_consumers['йогурт, 125 г'].copy()\n",
    "jogurt_2022 = prices_food_2022_consumers['йогурт, кг'].copy()\n",
    "jogurt_2023 = prices_food_2023_consumers['йогурт, кг'].copy()\n",
    "jogurt_2024 = prices_food_2024_consumers['йогурт, кг'].copy()"
   ]
  },
  {
   "cell_type": "code",
   "execution_count": 109,
   "id": "9b400a89-9d2a-41d7-bb55-0ac8cf970484",
   "metadata": {},
   "outputs": [],
   "source": [
    "# transform 0.125 kg of 2021 prices to 1 kg as in 2022 and 2023 price\n",
    "jogurt_2021 = jogurt_2021 / 0.125"
   ]
  },
  {
   "cell_type": "code",
   "execution_count": 110,
   "id": "fb419e15-44ea-4227-9024-19a348cc38cb",
   "metadata": {},
   "outputs": [],
   "source": [
    "jogurt =  pd.concat([\n",
    "    jogurt_2021, jogurt_2022, jogurt_2023, jogurt_2024\n",
    "], axis=0)"
   ]
  },
  {
   "cell_type": "code",
   "execution_count": 111,
   "id": "dc0414d3-bf19-4bfc-bbf1-2a3c6d0c3137",
   "metadata": {},
   "outputs": [],
   "source": [
    "jogurt.index = [to_date(x) for x in jogurt.index]"
   ]
  },
  {
   "cell_type": "code",
   "execution_count": 112,
   "id": "5ad1b451-d755-4dfb-b304-6eaed590ec81",
   "metadata": {},
   "outputs": [
    {
     "data": {
      "text/plain": [
       "2023-09-01    277.82\n",
       "2023-10-01    278.24\n",
       "2023-11-01    278.46\n",
       "2023-12-01    279.45\n",
       "2024-01-01    280.62\n",
       "dtype: object"
      ]
     },
     "execution_count": 112,
     "metadata": {},
     "output_type": "execute_result"
    }
   ],
   "source": [
    "jogurt.tail()"
   ]
  },
  {
   "cell_type": "markdown",
   "id": "e659a614-fc59-4f76-a461-bd0752108e4d",
   "metadata": {},
   "source": [
    "##### Масло сливочное"
   ]
  },
  {
   "cell_type": "code",
   "execution_count": 113,
   "id": "4b4f3709-382c-4a2d-b36d-a00e854c5f32",
   "metadata": {},
   "outputs": [],
   "source": [
    "butter_2021 = prices_food_2021_consumers['масло сливочное, кг'].copy()\n",
    "butter_2022 = prices_food_2022_consumers['масло сливочное, кг'].copy()\n",
    "butter_2023 = prices_food_2023_consumers['масло сливочное, кг'].copy()\n",
    "butter_2024 = prices_food_2024_consumers['масло сливочное, кг'].copy()"
   ]
  },
  {
   "cell_type": "code",
   "execution_count": 114,
   "id": "8642feb9-8f47-4683-b52d-192e502761e6",
   "metadata": {},
   "outputs": [],
   "source": [
    "butter =  pd.concat([\n",
    "    butter_2021, butter_2022, butter_2023, butter_2024\n",
    "], axis=0)"
   ]
  },
  {
   "cell_type": "code",
   "execution_count": 115,
   "id": "82bb6cfa-34d6-4b76-87f7-a63ffd21a4b2",
   "metadata": {},
   "outputs": [],
   "source": [
    "butter.index = [to_date(x) for x in butter.index]"
   ]
  },
  {
   "cell_type": "code",
   "execution_count": 116,
   "id": "85996394-67ef-4d59-bd32-37f20b668bcc",
   "metadata": {},
   "outputs": [
    {
     "data": {
      "text/plain": [
       "2023-09-01    824.52\n",
       "2023-10-01    835.23\n",
       "2023-11-01    848.51\n",
       "2023-12-01    862.87\n",
       "2024-01-01    876.33\n",
       "Name: масло сливочное, кг, dtype: object"
      ]
     },
     "execution_count": 116,
     "metadata": {},
     "output_type": "execute_result"
    }
   ],
   "source": [
    "butter.tail()"
   ]
  },
  {
   "cell_type": "markdown",
   "id": "610c7fd8-9cd7-439f-9728-3c05d1e53b01",
   "metadata": {},
   "source": [
    "##### Творог\n",
    "\n",
    "В 2022 году изменилась номенклатура: 'творог жирный' и 'творог нежирный' заменем одним показателем - 'творог'.  \n",
    "Данные для 2021 года считаются как среднее от 'творог жирный' и 'творог нежирный'."
   ]
  },
  {
   "cell_type": "code",
   "execution_count": 117,
   "id": "c1e681a9-c94b-46b2-acb7-66f871e1a98e",
   "metadata": {},
   "outputs": [],
   "source": [
    "# mean of pd.Series using Numpy\n",
    "cottage_cheese_2021 = pd.concat(\n",
    "    [prices_food_2021_consumers['творог нежирный, кг'],\n",
    "     prices_food_2021_consumers['творог жирный, кг']],\n",
    "    axis=1).agg(np.mean, 1)\n",
    "\n",
    "cottage_cheese_2022 = prices_food_2022_consumers['творог, кг'].copy()\n",
    "cottage_cheese_2023 = prices_food_2023_consumers['творог, кг'].copy()\n",
    "cottage_cheese_2024 = prices_food_2024_consumers['творог, кг'].copy()"
   ]
  },
  {
   "cell_type": "code",
   "execution_count": 118,
   "id": "22b6d77d-7aac-4b8c-a8a9-fb526cef1ab6",
   "metadata": {},
   "outputs": [],
   "source": [
    "cottage_cheese =  pd.concat([\n",
    "    cottage_cheese_2021, cottage_cheese_2022, cottage_cheese_2023, cottage_cheese_2024\n",
    "], axis=0)"
   ]
  },
  {
   "cell_type": "code",
   "execution_count": 119,
   "id": "bf47de72-b439-4f43-ae47-7482d339b404",
   "metadata": {},
   "outputs": [],
   "source": [
    "cottage_cheese.index = [to_date(x) for x in cottage_cheese.index]"
   ]
  },
  {
   "cell_type": "code",
   "execution_count": 120,
   "id": "3851c65c-7815-4576-921c-acdc58d4d9b1",
   "metadata": {},
   "outputs": [
    {
     "data": {
      "text/plain": [
       "2023-09-01     407.3\n",
       "2023-10-01    406.52\n",
       "2023-11-01    409.32\n",
       "2023-12-01    411.09\n",
       "2024-01-01    413.44\n",
       "dtype: object"
      ]
     },
     "execution_count": 120,
     "metadata": {},
     "output_type": "execute_result"
    }
   ],
   "source": [
    "cottage_cheese.tail()"
   ]
  },
  {
   "cell_type": "markdown",
   "id": "d3b70090-cd72-42b6-b05a-8c45b724dec6",
   "metadata": {},
   "source": [
    "##### Plots"
   ]
  },
  {
   "cell_type": "code",
   "execution_count": 121,
   "id": "afa60732-00ff-4be6-9425-0e33da64f9f4",
   "metadata": {},
   "outputs": [
    {
     "data": {
      "image/png": "[encoded data removed]",
      "text/plain": [
       "<Figure size 900x250 with 1 Axes>"
      ]
     },
     "metadata": {},
     "output_type": "display_data"
    }
   ],
   "source": [
    "plt.plot(milk_raw, label='Сырое молоко')\n",
    "plt.plot(milk, label=' Пастеризованное молоко', color=palette[2])\n",
    "# plt_date_format(language='rus', case='capital')\n",
    "plt.legend(**legend_inline, ncols=2)\n",
    "plt.title('Номинальные цены сырого и пастеризованного молока', **title_inline)\n",
    "plt.xlim(right=dt.datetime.strptime('01-01-2024', '%d-%m-%Y'))\n",
    "plt.show()"
   ]
  },
  {
   "cell_type": "code",
   "execution_count": 122,
   "id": "0dc3b5a8-f682-453d-a7ab-98905a3003fd",
   "metadata": {},
   "outputs": [
    {
     "name": "stdout",
     "output_type": "stream",
     "text": [
      "Image 'price-milk-products.png' successfully saved into '/Users/a-chasovsky/Library/CloudStorage/GoogleDrive-alexanderchasovsky@gmail.com/Мой диск/Data Science Projects/economics-rus/docs/img' directory\n"
     ]
    },
    {
     "data": {
      "image/png": "[encoded data removed]",
      "text/plain": [
       "<Figure size 900x300 with 1 Axes>"
      ]
     },
     "metadata": {},
     "output_type": "display_data"
    }
   ],
   "source": [
    "plots_lw = 1.25\n",
    "fig = plt.figure(figsize=(9, 3))\n",
    "\n",
    "plt.plot(\n",
    "    smoothed(normalized_by_first(milk_raw), datetime_index=True), lw=1.5, ls='--',\n",
    "    color=palette[0], label='Сырое молоко')\n",
    "plt.plot(\n",
    "    smoothed(normalized_by_first(milk), datetime_index=True),\n",
    "    lw=plots_lw, alpha=0.95, label='Пастеризованное молоко')\n",
    "plt.plot(\n",
    "    smoothed(normalized_by_first(butter), datetime_index=True),\n",
    "    lw=plots_lw, alpha=0.95, label='Масло сливочное')\n",
    "plt.plot(\n",
    "    smoothed(normalized_by_first(cheese), datetime_index=True),\n",
    "    lw=plots_lw, alpha=1, label='Сыр')\n",
    "plt.plot(\n",
    "    smoothed(normalized_by_first(sour_cream), datetime_index=True), \n",
    "    lw=plots_lw, label='Сметана')\n",
    "plt.plot(\n",
    "    smoothed(normalized_by_first(jogurt), datetime_index=True),\n",
    "    lw=plots_lw, alpha=0.95, label='Йогрут')\n",
    "plt.plot(\n",
    "    smoothed(normalized_by_first(cottage_cheese), datetime_index=True),\n",
    "    lw=plots_lw, label='Творог', color=palette[7])\n",
    "plt.axhline(\n",
    "    1, 0.025, 0.975, lw=0.75, ls='--', color=palette[-2], zorder=10\n",
    ")\n",
    "plt.legend(**legend_inline, ncols=5)\n",
    "# plt.title(\n",
    "    # label='Нормализованные цены на сырое молоко и молочные продукты', pad=40)\n",
    "\n",
    "axis_rstyle(yticks=[0.95, 1.45, 0.1])\n",
    "axis_date_transform(\n",
    "    formatter=matplotlib.dates.DateFormatter('%b'),\n",
    "    locator=matplotlib.dates.MonthLocator([1,4,7,10]))\n",
    "axis_dates_capitalize()\n",
    "axis_add_date_xaxis(offset=25)\n",
    "axis_dates_translate_months()\n",
    "\n",
    "savefig('price-milk-products', dir=save_plot_dir, dpi=100)"
   ]
  },
  {
   "cell_type": "code",
   "execution_count": 123,
   "id": "4ee35a0f-ca1c-4713-9744-3fe77d8277de",
   "metadata": {},
   "outputs": [],
   "source": [
    "set_location()"
   ]
  },
  {
   "cell_type": "markdown",
   "id": "cf5084b2-baca-4a7c-92c7-9fb4893bfbeb",
   "metadata": {},
   "source": [
    "#### Овощи"
   ]
  },
  {
   "cell_type": "code",
   "execution_count": 124,
   "id": "d959951c-12b4-45e3-aa74-fe0149fb4178",
   "metadata": {},
   "outputs": [],
   "source": [
    "vegetables_2021_raw = prices_food_2021['овощи'].copy()\n",
    "vegetables_2022_raw = prices_food_2022['овощи'].copy()\n",
    "vegetables_2023_raw = prices_food_2023['овощи'].copy()\n",
    "vegetables_2024_raw = prices_food_2024['овощи'].copy()"
   ]
  },
  {
   "cell_type": "code",
   "execution_count": 125,
   "id": "c265cc41-3f9d-4385-ac68-8123dcfeb2ef",
   "metadata": {},
   "outputs": [],
   "source": [
    "vegetables_raw =  pd.concat([\n",
    "    vegetables_2021_raw, vegetables_2022_raw, vegetables_2023_raw, vegetables_2024_raw\n",
    "], axis=0)"
   ]
  },
  {
   "cell_type": "code",
   "execution_count": 126,
   "id": "7a2fbd02-416b-4eee-b498-c2bed660fe2c",
   "metadata": {},
   "outputs": [],
   "source": [
    "vegetables_raw.index =  [to_date(x) for x in vegetables_raw.index]"
   ]
  },
  {
   "cell_type": "code",
   "execution_count": 127,
   "id": "0ee86c6d-b4d9-41f1-bfce-c977e963be7b",
   "metadata": {},
   "outputs": [],
   "source": [
    "vegetables_raw = 0.001 * vegetables_raw"
   ]
  },
  {
   "cell_type": "code",
   "execution_count": 128,
   "id": "15c4908a-77b3-4dd1-8aea-ae86cf86fe1d",
   "metadata": {},
   "outputs": [
    {
     "data": {
      "text/plain": [
       "2023-09-01     53.4230\n",
       "2023-10-01     50.6760\n",
       "2023-11-01     79.2880\n",
       "2023-12-01    110.1000\n",
       "2024-01-01    127.8863\n",
       "Name: овощи, dtype: float64"
      ]
     },
     "execution_count": 128,
     "metadata": {},
     "output_type": "execute_result"
    }
   ],
   "source": [
    "vegetables_raw.tail()"
   ]
  },
  {
   "cell_type": "code",
   "execution_count": 129,
   "id": "fe893436-8d48-44a6-b38d-c1e2ad784554",
   "metadata": {},
   "outputs": [],
   "source": [
    "potato_2021_raw = prices_food_2021['картофель'].copy()\n",
    "potato_2022_raw = prices_food_2022['картофель'].copy()\n",
    "potato_2023_raw = prices_food_2023['картофель'].copy()\n",
    "potato_2024_raw = prices_food_2024['картофель'].copy()"
   ]
  },
  {
   "cell_type": "code",
   "execution_count": 130,
   "id": "1c48f886-5e63-4aea-a11f-4991856da9aa",
   "metadata": {},
   "outputs": [],
   "source": [
    "potato_raw =  pd.concat([\n",
    "    potato_2021_raw, potato_2022_raw, potato_2023_raw, potato_2024_raw\n",
    "], axis=0)"
   ]
  },
  {
   "cell_type": "code",
   "execution_count": 131,
   "id": "9052fb38-9e53-4ca6-8cf3-fa0495ffcb83",
   "metadata": {},
   "outputs": [],
   "source": [
    "potato_raw.index =  [to_date(x) for x in potato_raw.index]"
   ]
  },
  {
   "cell_type": "code",
   "execution_count": 132,
   "id": "31b72981-db17-44fb-92cf-97cc7fd4e2f6",
   "metadata": {},
   "outputs": [],
   "source": [
    "potato_raw = 0.001 * potato_raw"
   ]
  },
  {
   "cell_type": "code",
   "execution_count": 133,
   "id": "156c3c6b-c2ba-4924-a890-0bd36c920dad",
   "metadata": {},
   "outputs": [
    {
     "data": {
      "text/plain": [
       "2023-09-01    12.7410\n",
       "2023-10-01    11.2850\n",
       "2023-11-01    11.8860\n",
       "2023-12-01    11.6030\n",
       "2024-01-01    13.0447\n",
       "Name: картофель, dtype: float64"
      ]
     },
     "execution_count": 133,
     "metadata": {},
     "output_type": "execute_result"
    }
   ],
   "source": [
    "potato_raw.tail()"
   ]
  },
  {
   "cell_type": "code",
   "execution_count": 134,
   "id": "400d504d-8edb-4be1-8a21-87f0edd8969f",
   "metadata": {},
   "outputs": [],
   "source": [
    "potato_2021 = prices_food_2021_consumers['картофель, кг'].copy()\n",
    "potato_2022 = prices_food_2022_consumers['картофель, кг'].copy()\n",
    "potato_2023 = prices_food_2023_consumers['картофель, кг'].copy()\n",
    "potato_2024 = prices_food_2024_consumers['картофель, кг'].copy()"
   ]
  },
  {
   "cell_type": "code",
   "execution_count": 135,
   "id": "006408f9-85a7-4505-8f5a-c0861db8236b",
   "metadata": {},
   "outputs": [],
   "source": [
    "potato =  pd.concat([\n",
    "    potato_2021, potato_2022, potato_2023, potato_2024\n",
    "], axis=0)"
   ]
  },
  {
   "cell_type": "code",
   "execution_count": 136,
   "id": "622e27c2-36b4-4a9d-993a-5c7c622ede9b",
   "metadata": {},
   "outputs": [],
   "source": [
    "potato.index =  [to_date(x) for x in potato.index]"
   ]
  },
  {
   "cell_type": "code",
   "execution_count": 137,
   "id": "f16a463e-23a7-4563-91ce-088b69668e9a",
   "metadata": {},
   "outputs": [
    {
     "data": {
      "text/plain": [
       "2023-09-01    30.53\n",
       "2023-10-01    27.82\n",
       "2023-11-01    27.61\n",
       "2023-12-01    28.04\n",
       "2024-01-01    29.93\n",
       "Name: картофель, кг, dtype: object"
      ]
     },
     "execution_count": 137,
     "metadata": {},
     "output_type": "execute_result"
    }
   ],
   "source": [
    "potato.tail()"
   ]
  },
  {
   "cell_type": "code",
   "execution_count": 138,
   "id": "53d3d74e-fb28-41f4-887d-584cfd34f3b6",
   "metadata": {},
   "outputs": [],
   "source": [
    "cucumber_2021 = prices_food_2021_consumers['огурцы свежие, кг'].copy()\n",
    "cucumber_2022 = prices_food_2022_consumers['огурцы свежие, кг'].copy()\n",
    "cucumber_2023 = prices_food_2023_consumers['огурцы свежие, кг'].copy()\n",
    "cucumber_2024 = prices_food_2024_consumers['огурцы свежие, кг'].copy()"
   ]
  },
  {
   "cell_type": "code",
   "execution_count": 139,
   "id": "73b4555a-7f21-423b-8586-35f782e00577",
   "metadata": {},
   "outputs": [],
   "source": [
    "cucumber =  pd.concat([\n",
    "    cucumber_2021, cucumber_2022, cucumber_2023, cucumber_2024\n",
    "], axis=0)"
   ]
  },
  {
   "cell_type": "code",
   "execution_count": 140,
   "id": "1d6839ff-a120-4fc3-8010-6d37a485bddc",
   "metadata": {},
   "outputs": [],
   "source": [
    "cucumber.index =  [to_date(x) for x in cucumber.index]"
   ]
  },
  {
   "cell_type": "code",
   "execution_count": 141,
   "id": "f5033dc9-244c-4ae8-9d0a-6ddaf46d657d",
   "metadata": {},
   "outputs": [
    {
     "data": {
      "text/plain": [
       "2023-09-01    110.79\n",
       "2023-10-01    108.75\n",
       "2023-11-01    147.68\n",
       "2023-12-01    209.36\n",
       "2024-01-01    253.33\n",
       "Name: огурцы свежие, кг, dtype: object"
      ]
     },
     "execution_count": 141,
     "metadata": {},
     "output_type": "execute_result"
    }
   ],
   "source": [
    "cucumber.tail()"
   ]
  },
  {
   "cell_type": "code",
   "execution_count": 142,
   "id": "d64d79a3-52b1-40db-811c-6f11c8b4f835",
   "metadata": {},
   "outputs": [],
   "source": [
    "tomato_2021 = prices_food_2021_consumers['помидоры свежие, кг'].copy()\n",
    "tomato_2022 = prices_food_2022_consumers['помидоры свежие, кг'].copy()\n",
    "tomato_2023 = prices_food_2023_consumers['помидоры свежие, кг'].copy()\n",
    "tomato_2024 = prices_food_2024_consumers['помидоры свежие, кг'].copy()"
   ]
  },
  {
   "cell_type": "code",
   "execution_count": 143,
   "id": "7200f277-834d-4c37-87db-252750d124a5",
   "metadata": {},
   "outputs": [],
   "source": [
    "tomato =  pd.concat([\n",
    "    tomato_2021, tomato_2022, tomato_2023, tomato_2024\n",
    "], axis=0)"
   ]
  },
  {
   "cell_type": "code",
   "execution_count": 144,
   "id": "c74134f3-cdbe-47cd-ba1d-8ef7e7965776",
   "metadata": {},
   "outputs": [],
   "source": [
    "tomato.index =  [to_date(x) for x in tomato.index]"
   ]
  },
  {
   "cell_type": "code",
   "execution_count": 145,
   "id": "41d1153c-be8a-4664-8996-ddd7cedcc03a",
   "metadata": {},
   "outputs": [
    {
     "data": {
      "text/plain": [
       "2023-09-01    133.03\n",
       "2023-10-01    175.64\n",
       "2023-11-01    209.81\n",
       "2023-12-01    222.09\n",
       "2024-01-01    246.99\n",
       "Name: помидоры свежие, кг, dtype: object"
      ]
     },
     "execution_count": 145,
     "metadata": {},
     "output_type": "execute_result"
    }
   ],
   "source": [
    "tomato.tail()"
   ]
  },
  {
   "cell_type": "code",
   "execution_count": 146,
   "id": "a260beff-c03b-46a2-b300-74129980ad62",
   "metadata": {},
   "outputs": [],
   "source": [
    "onion_2021 = prices_food_2021_consumers['лук репчатый, кг'].copy()\n",
    "onion_2022 = prices_food_2022_consumers['лук репчатый, кг'].copy()\n",
    "onion_2023 = prices_food_2023_consumers['лук репчатый, кг'].copy()\n",
    "onion_2024 = prices_food_2024_consumers['лук репчатый, кг'].copy()"
   ]
  },
  {
   "cell_type": "code",
   "execution_count": 147,
   "id": "682b52e6-0ad1-4ece-be4f-10bc666b842b",
   "metadata": {},
   "outputs": [],
   "source": [
    "onion =  pd.concat([\n",
    "    onion_2021, onion_2022, onion_2023, onion_2024\n",
    "], axis=0)"
   ]
  },
  {
   "cell_type": "code",
   "execution_count": 148,
   "id": "e3c06b55-d0ca-4661-bcb0-519fba9ee29f",
   "metadata": {},
   "outputs": [],
   "source": [
    "onion.index =  [to_date(x) for x in onion.index]"
   ]
  },
  {
   "cell_type": "code",
   "execution_count": 149,
   "id": "92db4111-14a0-402b-b6ec-88f2f932292f",
   "metadata": {},
   "outputs": [
    {
     "data": {
      "text/plain": [
       "2023-09-01    33.09\n",
       "2023-10-01    32.72\n",
       "2023-11-01    33.46\n",
       "2023-12-01    34.44\n",
       "2024-01-01    37.13\n",
       "Name: лук репчатый, кг, dtype: object"
      ]
     },
     "execution_count": 149,
     "metadata": {},
     "output_type": "execute_result"
    }
   ],
   "source": [
    "onion.tail()"
   ]
  },
  {
   "cell_type": "code",
   "execution_count": 150,
   "id": "4b65eaf3-1ef3-4889-92fc-0e647745410c",
   "metadata": {},
   "outputs": [],
   "source": [
    "carrot_2021 = prices_food_2021_consumers['морковь, кг'].copy()\n",
    "carrot_2022 = prices_food_2022_consumers['морковь, кг'].copy()\n",
    "carrot_2023 = prices_food_2023_consumers['морковь, кг'].copy()\n",
    "carrot_2024 = prices_food_2024_consumers['морковь, кг'].copy()"
   ]
  },
  {
   "cell_type": "code",
   "execution_count": 151,
   "id": "40731cfa-7ec4-44b5-81e4-61af21e8b703",
   "metadata": {},
   "outputs": [],
   "source": [
    "carrot =  pd.concat([\n",
    "    carrot_2021, carrot_2022, carrot_2023, carrot_2024\n",
    "], axis=0)"
   ]
  },
  {
   "cell_type": "code",
   "execution_count": 152,
   "id": "bbf75db1-d704-4009-8382-89884055f4cf",
   "metadata": {},
   "outputs": [],
   "source": [
    "carrot.index =  [to_date(x) for x in carrot.index]"
   ]
  },
  {
   "cell_type": "code",
   "execution_count": 153,
   "id": "96bac252-ce46-47b5-8dda-70a67bfab930",
   "metadata": {},
   "outputs": [
    {
     "data": {
      "text/plain": [
       "2023-09-01     44.9\n",
       "2023-10-01    41.89\n",
       "2023-11-01    41.25\n",
       "2023-12-01    42.31\n",
       "2024-01-01    46.13\n",
       "Name: морковь, кг, dtype: object"
      ]
     },
     "execution_count": 153,
     "metadata": {},
     "output_type": "execute_result"
    }
   ],
   "source": [
    "carrot.tail()"
   ]
  },
  {
   "cell_type": "code",
   "execution_count": 154,
   "id": "cda51262-91d2-4179-a96e-2c3fb95ff6e2",
   "metadata": {},
   "outputs": [
    {
     "name": "stdout",
     "output_type": "stream",
     "text": [
      "Image 'price-vegetables.png' successfully saved into '/Users/a-chasovsky/Library/CloudStorage/GoogleDrive-alexanderchasovsky@gmail.com/Мой диск/Data Science Projects/economics-rus/docs/img' directory\n"
     ]
    },
    {
     "data": {
      "image/png": "[encoded data removed]",
      "text/plain": [
       "<Figure size 900x300 with 1 Axes>"
      ]
     },
     "metadata": {},
     "output_type": "display_data"
    }
   ],
   "source": [
    "plots_lw = 1.25\n",
    "fig = plt.figure(figsize=(9, 3))\n",
    "\n",
    "plt.plot(\n",
    "    smoothed(normalized_by_first(vegetables_raw), datetime_index=True), lw=1.5, ls='--',\n",
    "    color=palette[0], label='Овощи (средняя цена у производителей)')\n",
    "plt.plot(\n",
    "    smoothed(normalized_by_first(potato), datetime_index=True),\n",
    "    lw=plots_lw, color=alpha_color(palette[5], 0.95), label='Картофель')\n",
    "plt.plot(\n",
    "    smoothed(normalized_by_first(cucumber), datetime_index=True),\n",
    "    lw=plots_lw, color=alpha_color(palette[3], 1), label='Огурцы')\n",
    "plt.plot(\n",
    "    smoothed(normalized_by_first(tomato), datetime_index=True),\n",
    "    lw=plots_lw, color=alpha_color(palette[1], 0.95), label='Помидоры')\n",
    "plt.plot(\n",
    "    smoothed(normalized_by_first(onion), datetime_index=True),\n",
    "    lw=plots_lw, color=alpha_color(palette[2], 0.95), label='Лук')\n",
    "plt.plot(\n",
    "    smoothed(normalized_by_first(carrot), datetime_index=True),\n",
    "    lw=plots_lw, color=alpha_color(palette[9], 0.95), label='Морковь')\n",
    "plt.axhline(\n",
    "    1, 0.025, 0.975, lw=0.75, ls='--', color=palette[-2], zorder=10\n",
    ")\n",
    "plt.legend(**legend_inline, ncols=4)\n",
    "# plt.title('Нормализованные цены на овощи', **title_inline)\n",
    "\n",
    "axis_rstyle(ylim=[0, 3], yticks=[0, 3])\n",
    "axis_date_transform(\n",
    "    formatter=matplotlib.dates.DateFormatter('%b'),\n",
    "    locator=matplotlib.dates.MonthLocator([1,4,7,10]))\n",
    "axis_dates_capitalize()\n",
    "axis_add_date_xaxis(offset=25)\n",
    "axis_dates_translate_months()\n",
    "\n",
    "savefig('price-vegetables', dir=save_plot_dir, dpi=100)"
   ]
  },
  {
   "cell_type": "code",
   "execution_count": 155,
   "id": "a2fe1e39-95d9-447b-af44-f365d545217e",
   "metadata": {},
   "outputs": [],
   "source": [
    "set_location()"
   ]
  },
  {
   "cell_type": "markdown",
   "id": "368116f1-cafa-435e-a35f-58eba497d040",
   "metadata": {},
   "source": [
    "#### Яйца куриные"
   ]
  },
  {
   "cell_type": "code",
   "execution_count": 156,
   "id": "5aaf3d67-13fc-4624-8df5-71963cd9d945",
   "metadata": {},
   "outputs": [],
   "source": [
    "eggs_2021_raw = prices_food_2021['яйца куриные в скорлупе свежие'].copy()\n",
    "eggs_2022_raw = prices_food_2022['яйца куриные в скорлупе свежие'].copy()\n",
    "eggs_2023_raw = prices_food_2023['яйца куриные в скорлупе свежие'].copy()\n",
    "eggs_2024_raw = prices_food_2024['яйца куриные в скорлупе свежие'].copy()"
   ]
  },
  {
   "cell_type": "code",
   "execution_count": 157,
   "id": "c0dd9f3d-7ed7-45d6-b94a-1c272b05d764",
   "metadata": {},
   "outputs": [],
   "source": [
    "eggs_raw =  pd.concat([\n",
    "    eggs_2021_raw, eggs_2022_raw, eggs_2023_raw, eggs_2024_raw\n",
    "], axis=0)"
   ]
  },
  {
   "cell_type": "code",
   "execution_count": 158,
   "id": "edc03a45-55e9-4ff7-abcf-4b4252d4a334",
   "metadata": {},
   "outputs": [],
   "source": [
    "eggs_raw.index =  [to_date(x) for x in eggs_raw.index]"
   ]
  },
  {
   "cell_type": "code",
   "execution_count": 159,
   "id": "eeb7c76a-663f-4ec3-88db-3d2167ab00d8",
   "metadata": {},
   "outputs": [],
   "source": [
    "# eggs price from 1000 eggs to 10 eggs\n",
    "eggs_raw = 0.01 * eggs_raw"
   ]
  },
  {
   "cell_type": "code",
   "execution_count": 160,
   "id": "e5f6a0b9-2f3b-4f6f-89ba-a0e7fe748f9c",
   "metadata": {},
   "outputs": [
    {
     "data": {
      "text/plain": [
       "2021-01-01    57.45\n",
       "2021-02-01    57.49\n",
       "2021-03-01    60.99\n",
       "2021-04-01    67.53\n",
       "2021-05-01    61.62\n",
       "Name: яйца куриные в скорлупе свежие, dtype: float64"
      ]
     },
     "execution_count": 160,
     "metadata": {},
     "output_type": "execute_result"
    }
   ],
   "source": [
    "eggs_raw.head()"
   ]
  },
  {
   "cell_type": "code",
   "execution_count": 161,
   "id": "f5c17732-0a29-4f88-bac0-fb2f2a2d6158",
   "metadata": {},
   "outputs": [],
   "source": [
    "eggs_2021 = prices_food_2021_consumers['яйца куриные, 10 шт.'].copy()\n",
    "eggs_2022 = prices_food_2022_consumers['яйца куриные, 10 шт.'].copy()\n",
    "eggs_2023 = prices_food_2023_consumers['яйца куриные, 10 шт.'].copy()\n",
    "eggs_2024 = prices_food_2024_consumers['яйца куриные, 10 шт.'].copy()"
   ]
  },
  {
   "cell_type": "code",
   "execution_count": 162,
   "id": "eff446de-c48a-4d47-9674-89ac70ead594",
   "metadata": {},
   "outputs": [],
   "source": [
    "eggs =  pd.concat([\n",
    "    eggs_2021, eggs_2022, eggs_2023, eggs_2024\n",
    "], axis=0)"
   ]
  },
  {
   "cell_type": "code",
   "execution_count": 163,
   "id": "43aa34fa-b27e-44a3-8bf5-5a738fb89ce3",
   "metadata": {},
   "outputs": [],
   "source": [
    "eggs.index =  [to_date(x) for x in eggs.index]"
   ]
  },
  {
   "cell_type": "code",
   "execution_count": 164,
   "id": "eafd041e-5430-4712-8f1e-c2da3f6ab238",
   "metadata": {},
   "outputs": [
    {
     "data": {
      "text/plain": [
       "2023-09-01     85.68\n",
       "2023-10-01     97.13\n",
       "2023-11-01    111.87\n",
       "2023-12-01    132.45\n",
       "2024-01-01    130.06\n",
       "Name: яйца куриные, 10 шт., dtype: object"
      ]
     },
     "execution_count": 164,
     "metadata": {},
     "output_type": "execute_result"
    }
   ],
   "source": [
    "eggs.tail()"
   ]
  },
  {
   "cell_type": "code",
   "execution_count": 165,
   "id": "13d1043d-7970-4b61-aa5a-28aba5a1225c",
   "metadata": {},
   "outputs": [
    {
     "name": "stdout",
     "output_type": "stream",
     "text": [
      "Image 'price-eggs.png' successfully saved into '/Users/a-chasovsky/Library/CloudStorage/GoogleDrive-alexanderchasovsky@gmail.com/Мой диск/Data Science Projects/economics-rus/docs/img' directory\n"
     ]
    },
    {
     "data": {
      "image/png": "[encoded data removed]",
      "text/plain": [
       "<Figure size 900x250 with 1 Axes>"
      ]
     },
     "metadata": {},
     "output_type": "display_data"
    }
   ],
   "source": [
    "fig = plt.figure()\n",
    "\n",
    "plt.plot(\n",
    "    smoothed(normalized_by_first(eggs), datetime_index=True),\n",
    "    color=palette[0],\n",
    "    label='Цены для потребителей'\n",
    ")\n",
    "plt.plot(\n",
    "    smoothed(normalized_by_first(eggs_raw), datetime_index=True), ls='--',\n",
    "    label='Цены производителей'\n",
    ")\n",
    "plt.axhline(\n",
    "    1, 0.025, 0.975, lw=0.75, ls='--', color=palette[-2], alpha=0.75, zorder=10\n",
    ")\n",
    "plt.legend(**legend_inline, ncols=6)\n",
    "# plt.title('Нормализованные цены на яйца', **title_inline)\n",
    "\n",
    "axis_rstyle(margin=0.01, offset_bottom=10)\n",
    "axis_date_transform(\n",
    "    formatter=matplotlib.dates.DateFormatter('%b'),\n",
    "    locator=matplotlib.dates.MonthLocator([1,4,7,10]))\n",
    "axis_dates_capitalize()\n",
    "axis_add_date_xaxis(offset=25)\n",
    "axis_dates_translate_months()\n",
    "\n",
    "savefig('price-eggs', dir=save_plot_dir, dpi=100)"
   ]
  },
  {
   "cell_type": "code",
   "execution_count": 166,
   "id": "d8a3ca5f-8895-49e5-ba96-ce54e36d1a04",
   "metadata": {},
   "outputs": [],
   "source": [
    "set_location()"
   ]
  },
  {
   "cell_type": "markdown",
   "id": "598b3897-aa0c-484f-8f85-03f65c3ba2ab",
   "metadata": {},
   "source": [
    "### Execution time"
   ]
  },
  {
   "cell_type": "code",
   "execution_count": 167,
   "id": "adda04ab-b68f-4c0c-9c1e-7f0ac3fc0298",
   "metadata": {},
   "outputs": [
    {
     "name": "stdout",
     "output_type": "stream",
     "text": [
      "Execution time: 0:00:26\n"
     ]
    }
   ],
   "source": [
    "print(f'Execution time: {stopwatch.stop(start)}')"
   ]
  }
 ],
 "metadata": {
  "kernelspec": {
   "display_name": "pers_economics_rus",
   "language": "python",
   "name": "pers_economics_rus"
  },
  "language_info": {
   "codemirror_mode": {
    "name": "ipython",
    "version": 3
   },
   "file_extension": ".py",
   "mimetype": "text/x-python",
   "name": "python",
   "nbconvert_exporter": "python",
   "pygments_lexer": "ipython3",
   "version": "3.12.2"
  }
 },
 "nbformat": 4,
 "nbformat_minor": 5
}
