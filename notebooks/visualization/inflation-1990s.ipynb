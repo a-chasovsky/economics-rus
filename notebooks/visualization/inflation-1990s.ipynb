{
 "cells": [
  {
   "cell_type": "markdown",
   "id": "37117e8b-f184-4740-867e-4c71c5df30f0",
   "metadata": {},
   "source": [
    "### Load Saved Section if exists"
   ]
  },
  {
   "cell_type": "raw",
   "id": "03ea846f-d0b5-477c-8efa-8ea4afbcb458",
   "metadata": {},
   "source": [
    "if os.path.exists(f'sessions/{dir}'):\n",
    "    load_session(dir)\n",
    "else:\n",
    "    print(f\"No such session: 'sessions/{dir}'\")"
   ]
  },
  {
   "cell_type": "markdown",
   "id": "265be89d-587c-4e5b-a4c5-4f8befb2cc93",
   "metadata": {},
   "source": [
    "### Load libraries, functions, palette, theme"
   ]
  },
  {
   "cell_type": "code",
   "execution_count": null,
   "id": "e4ffed9e-4c70-4937-a524-a6d0d23c0e70",
   "metadata": {},
   "outputs": [],
   "source": [
    "import os"
   ]
  },
  {
   "cell_type": "code",
   "execution_count": null,
   "id": "5abeaac6-a58e-4f46-98ee-2a95410aa4c1",
   "metadata": {},
   "outputs": [],
   "source": [
    "# read file from another directory\n",
    "path = \\\n",
    "    ('/Users/a-chasovsky/Library/CloudStorage/GoogleDrive-alexanderchasovsky@gmail.com/'\n",
    "     'Мой диск/Data Science Projects/economics-rus/')\n",
    "\n",
    "os.chdir(path + 'notebooks/')\n",
    "\n",
    "# run stopwatch\n",
    "from tools import Stopwatch\n",
    "stopwatch = Stopwatch()\n",
    "start = stopwatch.start()\n",
    "\n",
    "# import libraries, etc.\n",
    "%run load.ipynb\n",
    "\n",
    "# and go back to current directory ('current_path' variable is assigned in _load.ipynb)\n",
    "os.chdir(current_path)"
   ]
  },
  {
   "cell_type": "code",
   "execution_count": null,
   "id": "3400b855-c10d-484f-8678-2c76e0e69f7f",
   "metadata": {},
   "outputs": [],
   "source": [
    "economics_data = loadit(\n",
    "    'economics_data',\n",
    "    dir= path + 'data/00-Datasets/'\n",
    ")"
   ]
  },
  {
   "cell_type": "code",
   "execution_count": null,
   "id": "f6ac2123-05c5-4341-8c9c-5309f374b01e",
   "metadata": {},
   "outputs": [],
   "source": [
    "len(economics_data)"
   ]
  },
  {
   "cell_type": "code",
   "execution_count": null,
   "id": "36178f82-5a37-47b7-bdff-6b1f6792a427",
   "metadata": {},
   "outputs": [],
   "source": [
    "save_img = path + 'docs/img'"
   ]
  },
  {
   "cell_type": "markdown",
   "id": "1a198e45-bfcf-41b8-8ce4-ba2ea2f6e278",
   "metadata": {},
   "source": [
    "## <font color='#2A5899'> Инфляция 1990-х"
   ]
  },
  {
   "cell_type": "markdown",
   "id": "f13a4d37-f391-418c-ab87-b6e15603a5bb",
   "metadata": {},
   "source": [
    "### Preparing data"
   ]
  },
  {
   "cell_type": "code",
   "execution_count": null,
   "id": "0861611d-321d-466f-8971-3097b6583429",
   "metadata": {},
   "outputs": [],
   "source": [
    "pci = economics_data['9.5'].copy()"
   ]
  },
  {
   "cell_type": "code",
   "execution_count": null,
   "id": "0d1ed660-5856-4e38-9842-dc6098f706d4",
   "metadata": {},
   "outputs": [],
   "source": [
    "pci"
   ]
  },
  {
   "cell_type": "code",
   "execution_count": null,
   "id": "5dce3711-baf5-4880-82fb-ab68496c517a",
   "metadata": {},
   "outputs": [],
   "source": [
    "plot_data = pci[1992][1:]"
   ]
  },
  {
   "cell_type": "code",
   "execution_count": null,
   "id": "72d170d5-2c3d-4e3a-a178-1f551d8c2a70",
   "metadata": {},
   "outputs": [],
   "source": [
    "plot_data.index = plot_data.index + ' 1992'"
   ]
  },
  {
   "cell_type": "code",
   "execution_count": null,
   "id": "374c4c24-e052-435a-aa0a-fbf62eab1291",
   "metadata": {},
   "outputs": [],
   "source": [
    "for i in range(1993, 2000):\n",
    "    plot_data_ = pci[i][1:]\n",
    "    plot_data_.index = plot_data_.index + ' ' + str(i)\n",
    "    plot_data = pd.concat([plot_data, plot_data_], axis=0)"
   ]
  },
  {
   "cell_type": "code",
   "execution_count": null,
   "id": "f1384397-c60c-4877-9a18-f86707baf9d9",
   "metadata": {},
   "outputs": [],
   "source": [
    "plot_data.index = [to_date(x, kind='%B %Y') for x in plot_data.index]"
   ]
  },
  {
   "cell_type": "code",
   "execution_count": null,
   "id": "4a3c5bda-9437-4b89-890e-771564349147",
   "metadata": {},
   "outputs": [],
   "source": [
    "plot_data_smoothed = smoothed(plot_data, n=1200, datetime_index=True)"
   ]
  },
  {
   "cell_type": "code",
   "execution_count": null,
   "id": "0b1730ec-af08-46e2-ab82-1b06866a2d47",
   "metadata": {},
   "outputs": [],
   "source": [
    "plot_data_smoothed"
   ]
  },
  {
   "cell_type": "code",
   "execution_count": null,
   "id": "e5d71707-752a-4ca3-8a7a-dc1eb0a7a3d3",
   "metadata": {},
   "outputs": [],
   "source": [
    "# Geraschenko - 17 July 1992\n",
    "plot_text_ger = '''\n",
    "Назначение\n",
    "В.Геращенко на пост\n",
    "председателя ЦБ\n",
    "'''\n",
    "# monetary reform 26 July - Decembder 1993\n",
    "plot_text_reform = '''\n",
    "Начало\n",
    "денежной реформы\n",
    "'''\n",
    "# 'black tuesday' - 11 October 1994\n",
    "plot_text_tuesday = '''\n",
    "Черный вторник,\n",
    "отставка В.Геращенко\n",
    "'''\n",
    "# President elections\n",
    "plot_text_elec = '''\n",
    "Выборы президента РФ\n",
    "'''\n",
    "# PCO January 1992\n",
    "text_commentary = '''\n",
    "*ИПЦ в Январе 1992 г.\n",
    "равен 345.3%.\n",
    "'''"
   ]
  },
  {
   "cell_type": "code",
   "execution_count": null,
   "id": "90240304-10c7-4f6d-ba90-4b7a9244356f",
   "metadata": {},
   "outputs": [],
   "source": [
    "# Yeltsin - Supreme Soviet controversy active phase - March 20 1992 - 4 October 1993\n",
    "start_controversy = dt.datetime.strptime('20-03-1992', '%d-%m-%Y')\n",
    "end_controversy = dt.datetime.strptime('04-10-1993', '%d-%m-%Y')\n",
    "plot_controversy = \\\n",
    "    plot_data_smoothed.loc[start_controversy:end_controversy].copy()"
   ]
  },
  {
   "cell_type": "code",
   "execution_count": null,
   "id": "c4524cbe-aa1d-4478-a4e5-1609e2debf4b",
   "metadata": {},
   "outputs": [],
   "source": [
    "# Gaidar stabilization - 2 January 1992 - 17 July 1992\n",
    "start_stab1 = dt.datetime.strptime('02-12-1991', '%d-%m-%Y')\n",
    "end_stab1 = dt.datetime.strptime('17-07-1992', '%d-%m-%Y')\n",
    "plot_stab1 = plot_data_smoothed.loc[start_stab1:end_stab1].copy()"
   ]
  },
  {
   "cell_type": "code",
   "execution_count": null,
   "id": "87eb210a-f05f-46af-a76d-4b88bde7eb22",
   "metadata": {},
   "outputs": [],
   "source": [
    "# Gaidar-Fedorov stabilization - 1 September 1993 - 1 January 1994\n",
    "start_stab2 = dt.datetime.strptime('01-08-1993', '%d-%m-%Y')\n",
    "end_stab2 = dt.datetime.strptime('01-12-1993', '%d-%m-%Y')\n",
    "plot_stab2 = plot_data_smoothed.loc[start_stab2:end_stab2].copy()"
   ]
  },
  {
   "cell_type": "code",
   "execution_count": null,
   "id": "faf2776a-e655-4fbb-9040-9cf6f77e4f5b",
   "metadata": {},
   "outputs": [],
   "source": [
    "# Chubais stabilization - 1 January 1995 - 16 January 1996\n",
    "start_stab3 = dt.datetime.strptime('01-12-1994', '%d-%m-%Y')\n",
    "end_stab3 =  dt.datetime.strptime('16-12-1995', '%d-%m-%Y')\n",
    "plot_stab3 = plot_data_smoothed.loc[start_stab3:end_stab3].copy()"
   ]
  },
  {
   "cell_type": "markdown",
   "id": "617485f5-06e9-47a4-89f3-934af733cb0c",
   "metadata": {},
   "source": [
    "### Plots"
   ]
  },
  {
   "cell_type": "code",
   "execution_count": null,
   "id": "5ff381eb-b018-45de-9594-42e9a948edaf",
   "metadata": {},
   "outputs": [],
   "source": [
    "fig, ax = plt.subplots(nrows=2, figsize=(9, 7))\n",
    "\n",
    "# title\n",
    "# ax[0].set_title(\n",
    "#     'Ключевые события и этапы финансовой стабилизации 1990-х годов',\n",
    "#     **title_inline)\n",
    "\n",
    "# AXIS 0\n",
    "# PCI curve\n",
    "ax[0].plot(\n",
    "    plot_data_smoothed, color=palette[0],\n",
    "    label='Индекс потребительских цен*')\n",
    "# Geraschenko to CB - 17 July 1992 (17 of 31 == 0.57 of 1.00)\n",
    "plot_timemarker(\n",
    "    text=plot_text_ger, x=dt.datetime.strptime('17-07-1992', '%d-%m-%Y'), \n",
    "    weight='medium', y_text=141.6, y_line=0.85, delta=dt.timedelta(days=30),\n",
    "    color_scatter=palette[1], style='italic', ax=ax[0])\n",
    "# monetary reform 26 July - Decembder 1993 (26 of 31 == 0.87 of 1.00)\n",
    "plot_timemarker(\n",
    "    text=plot_text_reform, x=dt.datetime.strptime('26-07-1993', '%d-%m-%Y'),\n",
    "    weight='medium', y_text=132, y_line=0.7, delta=dt.timedelta(days=30),\n",
    "    color_scatter=palette[1], style='italic', ax=ax[0])\n",
    "# 'black tuesday' - 11 October 1994 (11 of 31 == 0.37 of 1.00)\n",
    "plot_timemarker(\n",
    "    text=plot_text_tuesday, x=dt.datetime.strptime('11-10-1994', '%d-%m-%Y'),\n",
    "    weight='medium', y_text=125, y_line=0.58, delta=dt.timedelta(days=30),\n",
    "    color_scatter=palette[1], style='italic', ax=ax[0])\n",
    "# President elections 03 July 1996\n",
    "plot_timemarker(\n",
    "    text=plot_text_elec, x=dt.datetime.strptime('03-07-1996', '%d-%m-%Y'),\n",
    "    weight='medium', y_text=110, y_line=0.35, delta=dt.timedelta(days=30),\n",
    "    color_scatter=palette[1], style='italic', ax=ax[0])\n",
    "# Yeltsin - Supreme Soviet controversy active phase\n",
    "ax[0].fill_between(\n",
    "    x=plot_controversy.index,\n",
    "    y1=85, y2=plot_controversy['value'],\n",
    "    color=palette[1], alpha=0.15, ec='none',\n",
    "    label='Активная фаза противостояния Б.Ельцина и Верховного совета РФ')\n",
    "# legend\n",
    "ax[0].legend(ncols=2, **legend_inline)\n",
    "# ylim\n",
    "ax[0].set_xlim(left=dt.datetime.strptime('01-12-1991', '%d-%m-%Y'))\n",
    "ax[0].set_ylim(90, 150)\n",
    "ax[0].grid(False)\n",
    "# custmize xaxis r-style\n",
    "ax[0].set_xlim(ax[0].get_xticks()[1], ax[0].get_xticks()[-1])\n",
    "axis_rstyle(\n",
    "    offset_bottom=5, offset_left=5,\n",
    "    ax=ax[0])\n",
    "ax[0].xaxis.set_major_locator(matplotlib.dates.MonthLocator([1, 4, 7, 10]))\n",
    "ax[0].xaxis.set_major_formatter(matplotlib.dates.DateFormatter('%b'))\n",
    "axis_add_date_xaxis(ax=ax[0])\n",
    "axis_dates_capitalize(ax=ax[0])\n",
    "axis_dates_translate_months(ax=ax[0])\n",
    "# commentary\n",
    "ax[0].text(\n",
    "    x=1, y=0.80, s=text_commentary, style='italic', ha='right',\n",
    "    fontsize=8, transform=ax[0].transAxes)\n",
    "ax[0].tick_params(axis='both', direction='out')\n",
    "ax[0].tick_params(\n",
    "    which='minor', direction='out',\n",
    "    color='#AAAAAA', labelcolor='#808080')\n",
    "ax[0].tick_params(\n",
    "    which='major', direction='out',\n",
    "    color='#AAAAAA', labelcolor='#808080')\n",
    "\n",
    "# AXIS 1\n",
    "# PCI curve\n",
    "ax[1].plot(\n",
    "    plot_data_smoothed, color=palette[0])\n",
    "# Gaidar stabilization\n",
    "ax[1].fill_between(\n",
    "    x=plot_stab1.index,\n",
    "    y1=85, y2=plot_stab1['value'],\n",
    "    color=palette[2], alpha=0.4, ec='none',\n",
    "    label='Стабилизация Е.Гайдара')\n",
    "# Fedorov stabilization\n",
    "ax[1].fill_between(\n",
    "    x=plot_stab2.index,\n",
    "    y1=85, y2=plot_stab2['value'],\n",
    "    color=palette[3], alpha=0.3, ec='none',\n",
    "    label='Стабилизация Е. Гайдара / Б.Федорова')\n",
    "# Chubais stabilization\n",
    "ax[1].fill_between(\n",
    "    x=plot_stab3.index,\n",
    "    y1=85, y2=plot_stab3['value'],\n",
    "    color=palette[7], alpha=0.3, ec='none',\n",
    "    label='Стабилизация А.Чубайса')\n",
    "\n",
    "# legend\n",
    "ax[1].legend(ncols=3, **legend_inline)\n",
    "# ylim\n",
    "ax[1].set_xlim(left=dt.datetime.strptime('01-12-1991', '%d-%m-%Y'))\n",
    "ax[1].set_ylim(90, 150)\n",
    "ax[1].grid(False)\n",
    "# custmize xaxis r-style\n",
    "ax[1].set_xlim(ax[1].get_xticks()[1], ax[1].get_xticks()[-1])\n",
    "axis_rstyle(\n",
    "    offset_bottom=5, offset_left=5,\n",
    "    ax=ax[1])\n",
    "ax[1].xaxis.set_major_locator(matplotlib.dates.MonthLocator([1, 4, 7, 10]))\n",
    "ax[1].xaxis.set_major_formatter(matplotlib.dates.DateFormatter('%b'))\n",
    "axis_add_date_xaxis(ax=ax[1])\n",
    "axis_dates_capitalize(ax=ax[1])\n",
    "axis_dates_translate_months(ax=ax[1])\n",
    "# date format\n",
    "ax[1].tick_params(axis='both', direction='out')\n",
    "ax[1].tick_params(\n",
    "    which='minor', direction='out',\n",
    "    color='#AAAAAA', labelcolor='#808080')\n",
    "ax[1].tick_params(\n",
    "    which='major', direction='out',\n",
    "    color='#AAAAAA', labelcolor='#808080')\n",
    "\n",
    "plt.subplots_adjust(hspace=0.35)\n",
    "plt.show()\n",
    "\n",
    "savefig('financial-stabilization-1990s', dir=save_img, dpi=100)"
   ]
  },
  {
   "cell_type": "code",
   "execution_count": null,
   "id": "5abe7f32-bc5d-4adc-8283-48589bc4ab22",
   "metadata": {},
   "outputs": [],
   "source": [
    "set_location()"
   ]
  },
  {
   "cell_type": "markdown",
   "id": "4936dab6-9150-4d20-bef8-ffc97a20e6fa",
   "metadata": {},
   "source": [
    "### Execution time"
   ]
  },
  {
   "cell_type": "code",
   "execution_count": null,
   "id": "dad577fa-ac37-4e83-b45c-69a5d3501d60",
   "metadata": {},
   "outputs": [],
   "source": [
    "print(f'Execution time: {stopwatch.stop(start)}')"
   ]
  }
 ],
 "metadata": {
  "kernelspec": {
   "display_name": "pers_economics_rus",
   "language": "python",
   "name": "pers_economics_rus"
  },
  "language_info": {
   "codemirror_mode": {
    "name": "ipython",
    "version": 3
   },
   "file_extension": ".py",
   "mimetype": "text/x-python",
   "name": "python",
   "nbconvert_exporter": "python",
   "pygments_lexer": "ipython3",
   "version": "3.12.2"
  }
 },
 "nbformat": 4,
 "nbformat_minor": 5
}
