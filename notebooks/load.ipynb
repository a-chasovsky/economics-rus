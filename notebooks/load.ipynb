{
 "cells": [
  {
   "cell_type": "code",
   "execution_count": 280,
   "id": "807f78c9-7e4f-49c4-bfb4-2bcac6ad8f2c",
   "metadata": {},
   "outputs": [],
   "source": [
    "%run _libraries.ipynb"
   ]
  },
  {
   "cell_type": "code",
   "execution_count": 281,
   "id": "8318ca2c-b6d7-44a8-bcee-2e8af3a43f99",
   "metadata": {},
   "outputs": [],
   "source": [
    "%run _functions.ipynb"
   ]
  },
  {
   "cell_type": "code",
   "execution_count": 282,
   "id": "8a65c47e-ce18-4fde-9789-6621c7db7165",
   "metadata": {},
   "outputs": [],
   "source": [
    "%run regions_data.ipynb"
   ]
  },
  {
   "cell_type": "code",
   "execution_count": 284,
   "id": "3daab4f6-b1b8-4d25-9fe3-c9a04c4559bf",
   "metadata": {},
   "outputs": [],
   "source": [
    "current_path = os.getcwd()"
   ]
  },
  {
   "cell_type": "code",
   "execution_count": 285,
   "id": "4409ff47-f76d-4a79-98a6-dde4a47154cd",
   "metadata": {},
   "outputs": [],
   "source": [
    "# ignore Pandas warnings \n",
    "simplefilter(action=\"ignore\", category=pd.errors.PerformanceWarning)"
   ]
  }
 ],
 "metadata": {
  "kernelspec": {
   "display_name": "pers_economics_rus",
   "language": "python",
   "name": "pers_economics_rus"
  },
  "language_info": {
   "codemirror_mode": {
    "name": "ipython",
    "version": 3
   },
   "file_extension": ".py",
   "mimetype": "text/x-python",
   "name": "python",
   "nbconvert_exporter": "python",
   "pygments_lexer": "ipython3",
   "version": "3.12.2"
  }
 },
 "nbformat": 4,
 "nbformat_minor": 5
}
