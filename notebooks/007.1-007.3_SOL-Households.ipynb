{
 "cells": [
  {
   "cell_type": "markdown",
   "id": "528cb3ca-b496-4023-8d91-0859d2cac2b0",
   "metadata": {},
   "source": [
    "### Load libraries, functions, palette, theme"
   ]
  },
  {
   "cell_type": "code",
   "execution_count": 1,
   "id": "b0d2da77-83d1-4b79-90ab-7f283b371403",
   "metadata": {},
   "outputs": [],
   "source": [
    "import os\n",
    "from pathlib import Path"
   ]
  },
  {
   "cell_type": "code",
   "execution_count": 2,
   "id": "2316d4ee-0659-41bd-810c-fa8bb03b4e36",
   "metadata": {},
   "outputs": [],
   "source": [
    "path_current = os.getcwd()\n",
    "path_main = str(Path(path_current).parent)"
   ]
  },
  {
   "cell_type": "code",
   "execution_count": 3,
   "id": "17fbe07e-b87c-42b8-8a63-0c5bdabf8140",
   "metadata": {},
   "outputs": [],
   "source": [
    "# change directory to main path\n",
    "os.chdir(path_main)"
   ]
  },
  {
   "cell_type": "code",
   "execution_count": 4,
   "id": "2fa59a70-d601-4cd7-aa8d-48a5c45fb2aa",
   "metadata": {},
   "outputs": [],
   "source": [
    "# load functions\n",
    "from _functions import *"
   ]
  },
  {
   "cell_type": "code",
   "execution_count": 5,
   "id": "580a96a2-5ed7-42e5-b17a-fda6012dd26a",
   "metadata": {},
   "outputs": [],
   "source": [
    "# load libraries and palette\n",
    "%run _libraries.ipynb"
   ]
  },
  {
   "cell_type": "code",
   "execution_count": 6,
   "id": "624725cb-746e-4c4d-973f-abc1f554c50b",
   "metadata": {},
   "outputs": [],
   "source": [
    "# load regions data\n",
    "path_regions_data = path_main + '/files/03-Regions-data'\n",
    "path_change(path_regions_data)\n",
    "\n",
    "%run _regions_data.ipynb"
   ]
  },
  {
   "cell_type": "code",
   "execution_count": 7,
   "id": "e5555a41-1f1d-4983-93e0-29f2c16ef880",
   "metadata": {},
   "outputs": [],
   "source": [
    "# back to current path\n",
    "os.chdir(path_current)"
   ]
  },
  {
   "cell_type": "code",
   "execution_count": 8,
   "id": "543b5662-a16a-40b3-923a-82de9030385e",
   "metadata": {},
   "outputs": [],
   "source": [
    "# start stopwatch\n",
    "start = stopwatch_start()"
   ]
  },
  {
   "cell_type": "markdown",
   "id": "5af03905-ff84-4a1b-a557-915aed268c02",
   "metadata": {},
   "source": [
    "### Variables"
   ]
  },
  {
   "cell_type": "code",
   "execution_count": 9,
   "id": "de77e1a5-dcec-4c24-ad5b-e8355b40d466",
   "metadata": {},
   "outputs": [],
   "source": [
    "dir = '007.1-007.3_SOL-Households'"
   ]
  },
  {
   "cell_type": "code",
   "execution_count": 10,
   "id": "85784e98-232d-4e77-9470-06ca92c43717",
   "metadata": {},
   "outputs": [],
   "source": [
    "dir_load_files = path_main + 'files/01-Datasets/'"
   ]
  },
  {
   "cell_type": "code",
   "execution_count": 11,
   "id": "ef22909a-17ce-46d9-9dd4-1e65589bfb3c",
   "metadata": {},
   "outputs": [],
   "source": [
    "dir_save_data = path_main + 'files/01-Datasets/'"
   ]
  },
  {
   "cell_type": "code",
   "execution_count": 12,
   "id": "977fd4b1-ee00-4c64-b926-4c4af5fe6fd9",
   "metadata": {},
   "outputs": [],
   "source": [
    "dir_save_excel = path_main + 'files/02-Excel-data/'"
   ]
  },
  {
   "cell_type": "markdown",
   "id": "f6b97d2b-7703-4449-8446-19ea3fb3a3f8",
   "metadata": {},
   "source": [
    "### Load Data"
   ]
  },
  {
   "cell_type": "code",
   "execution_count": 13,
   "id": "3400b855-c10d-484f-8678-2c76e0e69f7f",
   "metadata": {},
   "outputs": [
    {
     "name": "stdout",
     "output_type": "stream",
     "text": [
      "File 'economics_data' not found\n"
     ]
    }
   ],
   "source": [
    "economics_data = loadit('economics_data', dir=dir_load_files)"
   ]
  },
  {
   "cell_type": "markdown",
   "id": "2a49c3d7-7839-4d4e-8cfa-ade641a55644",
   "metadata": {},
   "source": [
    "# <font color='#2C8B6D'>I. Население</font>"
   ]
  },
  {
   "cell_type": "markdown",
   "id": "d9ac40c1-1de2-42b6-8f86-b6e4f96c0f10",
   "metadata": {},
   "source": [
    "# Section III. Уровень жизни"
   ]
  },
  {
   "cell_type": "markdown",
   "id": "13ccc087-516f-463f-8698-241362acce3e",
   "metadata": {},
   "source": [
    "## 7. Доходы, расходы и условия проживания домашних хозяйств"
   ]
  },
  {
   "cell_type": "markdown",
   "id": "bbdc3da7-cdca-4396-a7e6-f168601508ac",
   "metadata": {},
   "source": [
    "### 7.1. Доходы и расходы домашних хозяйств на потребление, уровень и структура располагаемых ресурсов домашних хозяйств различных социально-экономических категорий"
   ]
  },
  {
   "cell_type": "markdown",
   "id": "c88343c7-1a31-40a9-ae75-bcf89d298ca9",
   "metadata": {},
   "source": [
    "*Источник: https://rosstat.gov.ru/folder/13397*  \n",
    "*Единицы измерения: рубли*\n",
    "\n",
    "*Примечания:*  "
   ]
  },
  {
   "cell_type": "code",
   "execution_count": 14,
   "id": "09ff5708-6193-4e89-9989-97479137c00d",
   "metadata": {},
   "outputs": [],
   "source": [
    "income_link = path_main + \\\n",
    "    ('/files/04-Population/02-Standard-of-living/05-Households/'\n",
    "     'Doh07_01.xlsx')"
   ]
  },
  {
   "cell_type": "code",
   "execution_count": 15,
   "id": "87ec9957-0bd9-4077-90dd-9d4b639fa42a",
   "metadata": {},
   "outputs": [],
   "source": [
    "income_raw = pd.read_excel(income_link)"
   ]
  },
  {
   "cell_type": "code",
   "execution_count": 16,
   "id": "f6da3fb4-38d9-4114-84d0-efadf43a9ede",
   "metadata": {},
   "outputs": [],
   "source": [
    "income = income_raw[:49].copy()"
   ]
  },
  {
   "cell_type": "code",
   "execution_count": 17,
   "id": "3d73095f-c998-478c-8fb0-2f74587d11a1",
   "metadata": {},
   "outputs": [],
   "source": [
    "# remove symbols in 'year' row\n",
    "income.iloc[0] = [str(i)[:4] for i in income.iloc[0]]"
   ]
  },
  {
   "cell_type": "code",
   "execution_count": 18,
   "id": "3a6ed9dd-f461-4aaa-9ceb-0bf97090e9a4",
   "metadata": {},
   "outputs": [],
   "source": [
    "# rename column\n",
    "income.iloc[0, 0] = 'Тип'"
   ]
  },
  {
   "cell_type": "code",
   "execution_count": 19,
   "id": "e6211606-b455-48f7-9a3a-5ddfae7aa283",
   "metadata": {},
   "outputs": [],
   "source": [
    "# make header from 0 row\n",
    "income = transform_make_header_from_rows(\n",
    "    income, rows_index=0)"
   ]
  },
  {
   "cell_type": "code",
   "execution_count": 20,
   "id": "0c7d551d-1df1-4ded-b504-cf71bd0f020a",
   "metadata": {},
   "outputs": [],
   "source": [
    "# remove spaces in 0 column\n",
    "income.iloc[:, 0] = [str(i).strip() for i in income.iloc[:, 0]]"
   ]
  },
  {
   "cell_type": "code",
   "execution_count": 21,
   "id": "f401a406-3d36-43a0-a1d7-5a27fa9ad3f9",
   "metadata": {},
   "outputs": [],
   "source": [
    "# replace\n",
    "income.iloc[:, 0] = \\\n",
    "    [i.replace('Располагаемые ресурсы - всего', 'Всего') for i in income.iloc[:, 0]]"
   ]
  },
  {
   "cell_type": "code",
   "execution_count": 22,
   "id": "49aad684-5d16-46e8-bedc-b9171a5c1568",
   "metadata": {},
   "outputs": [],
   "source": [
    "for column in income.columns:\n",
    "    income[column] = income[column].apply(lambda x: to_float(x))"
   ]
  },
  {
   "cell_type": "code",
   "execution_count": 23,
   "id": "235fae22-72b4-4a47-b681-5e5b2769eb61",
   "metadata": {},
   "outputs": [],
   "source": [
    "income = to_round(income, 1)"
   ]
  },
  {
   "cell_type": "code",
   "execution_count": 24,
   "id": "53082f85-e188-48e3-97ec-a134d8031300",
   "metadata": {},
   "outputs": [],
   "source": [
    "income['index'] = income['2003'].copy()"
   ]
  },
  {
   "cell_type": "code",
   "execution_count": 25,
   "id": "f75996eb-7dea-499c-8121-6f1ddf1354e8",
   "metadata": {},
   "outputs": [],
   "source": [
    "# to NaN values if length less than 10\n",
    "income['index'] = \\\n",
    "    [i if len(str(i)) > 10 else np.NaN for i in income['index'].values.ravel()]"
   ]
  },
  {
   "cell_type": "code",
   "execution_count": 26,
   "id": "2501c9d8-bc46-4b55-803d-14e50c85bb70",
   "metadata": {},
   "outputs": [],
   "source": [
    "income = income.reset_index(drop=True)"
   ]
  },
  {
   "cell_type": "code",
   "execution_count": 27,
   "id": "bc581965-1eb8-45fa-9a26-312027e7e13b",
   "metadata": {},
   "outputs": [],
   "source": [
    "# concat strings in 'index' and drop unuseful values\n",
    "income, drop_indexes1 = transform_concat_rows_strings(income, 'index')"
   ]
  },
  {
   "cell_type": "code",
   "execution_count": 28,
   "id": "b19b39fb-dfc2-4d1c-aee1-c98dbf8d23fd",
   "metadata": {},
   "outputs": [],
   "source": [
    "# fillna by previous notna\n",
    "income = transform_fill_values_by_previous(\n",
    "    data=income, kind='column', column_name='index')"
   ]
  },
  {
   "cell_type": "code",
   "execution_count": 29,
   "id": "3955d1c0-56b6-4cce-bb5f-76503f1db92c",
   "metadata": {},
   "outputs": [],
   "source": [
    "income = income.drop(drop_indexes1, axis=0)"
   ]
  },
  {
   "cell_type": "code",
   "execution_count": 30,
   "id": "af7c4a5d-87b1-4b2c-89d8-6f4c0d10fd3f",
   "metadata": {},
   "outputs": [],
   "source": [
    "income = income.loc[income['Тип'] != 'в том числе:']"
   ]
  },
  {
   "cell_type": "code",
   "execution_count": 31,
   "id": "8dda5015-d32c-4c9b-b1a1-4872bbd138c2",
   "metadata": {},
   "outputs": [],
   "source": [
    "type_values1 = [\n",
    "    'Всего', 'Денежные расходы', 'Стоимость натуральных поступлений продуктов питания',\n",
    "    'Стоимость натуральных поступлений непродовольственных товаров и услуг',\n",
    "    'Сумма сделанных сбережений'\n",
    "]"
   ]
  },
  {
   "cell_type": "code",
   "execution_count": 32,
   "id": "54f1574b-8b4b-4e3e-bfee-4b3e043039cd",
   "metadata": {},
   "outputs": [],
   "source": [
    "j = 0\n",
    "for index in income.index:\n",
    "    if not pd.isna(income.loc[index, '2003']):\n",
    "        new_value = type_values1[j]\n",
    "        income.loc[index, 'Тип'] = new_value\n",
    "        j += 1\n",
    "        if j > 4:\n",
    "            j = 0"
   ]
  },
  {
   "cell_type": "code",
   "execution_count": 33,
   "id": "b2a51ed2-004f-42d1-9885-726f896f885b",
   "metadata": {},
   "outputs": [],
   "source": [
    "income = income.dropna()"
   ]
  },
  {
   "cell_type": "code",
   "execution_count": 34,
   "id": "91e48aa9-e165-4fa9-b371-8a9bb254467f",
   "metadata": {},
   "outputs": [],
   "source": [
    "income = income.set_index('index', drop=True)\n",
    "income.index.name = None"
   ]
  },
  {
   "cell_type": "code",
   "execution_count": 35,
   "id": "594cd52f-39f0-4ee8-91a2-5dc519a752f6",
   "metadata": {},
   "outputs": [],
   "source": [
    "# convert column names to int if possible (isdigit)\n",
    "income.columns = [int(i) if i.isdigit() else i for i in income.columns]\n",
    "income.columns.name = None"
   ]
  },
  {
   "cell_type": "code",
   "execution_count": 36,
   "id": "c23c9719-3187-4134-9cec-fea0544ae4c5",
   "metadata": {},
   "outputs": [
    {
     "data": {
      "text/html": [
       "<div>\n",
       "<style scoped>\n",
       "    .dataframe tbody tr th:only-of-type {\n",
       "        vertical-align: middle;\n",
       "    }\n",
       "\n",
       "    .dataframe tbody tr th {\n",
       "        vertical-align: top;\n",
       "    }\n",
       "\n",
       "    .dataframe thead th {\n",
       "        text-align: right;\n",
       "    }\n",
       "</style>\n",
       "<table border=\"1\" class=\"dataframe\">\n",
       "  <thead>\n",
       "    <tr style=\"text-align: right;\">\n",
       "      <th></th>\n",
       "      <th>Тип</th>\n",
       "      <th>2003</th>\n",
       "      <th>2004</th>\n",
       "      <th>2005</th>\n",
       "      <th>2006</th>\n",
       "      <th>2007</th>\n",
       "      <th>2008</th>\n",
       "      <th>2009</th>\n",
       "      <th>2010</th>\n",
       "      <th>2011</th>\n",
       "      <th>...</th>\n",
       "      <th>2013</th>\n",
       "      <th>2014</th>\n",
       "      <th>2015</th>\n",
       "      <th>2016</th>\n",
       "      <th>2017</th>\n",
       "      <th>2018</th>\n",
       "      <th>2019</th>\n",
       "      <th>2020</th>\n",
       "      <th>2021</th>\n",
       "      <th>2022</th>\n",
       "    </tr>\n",
       "  </thead>\n",
       "  <tbody>\n",
       "    <tr>\n",
       "      <th>Все домашние хозяйства</th>\n",
       "      <td>Всего</td>\n",
       "      <td>3586.6</td>\n",
       "      <td>4446.9</td>\n",
       "      <td>5745.8</td>\n",
       "      <td>7051.6</td>\n",
       "      <td>9156.9</td>\n",
       "      <td>11955.2</td>\n",
       "      <td>12419.4</td>\n",
       "      <td>14633.2</td>\n",
       "      <td>16597.1</td>\n",
       "      <td>...</td>\n",
       "      <td>21198.5</td>\n",
       "      <td>22890.1</td>\n",
       "      <td>23084.8</td>\n",
       "      <td>24209.8</td>\n",
       "      <td>24926.5</td>\n",
       "      <td>26917.7</td>\n",
       "      <td>28995.2</td>\n",
       "      <td>29204.5</td>\n",
       "      <td>31791.2</td>\n",
       "      <td>35066.1</td>\n",
       "    </tr>\n",
       "    <tr>\n",
       "      <th>Все домашние хозяйства</th>\n",
       "      <td>Денежные расходы</td>\n",
       "      <td>3148.5</td>\n",
       "      <td>3924.8</td>\n",
       "      <td>5057.9</td>\n",
       "      <td>6199.5</td>\n",
       "      <td>8062.4</td>\n",
       "      <td>10335.3</td>\n",
       "      <td>10737.4</td>\n",
       "      <td>12688.0</td>\n",
       "      <td>14432.0</td>\n",
       "      <td>...</td>\n",
       "      <td>18089.9</td>\n",
       "      <td>19447.2</td>\n",
       "      <td>19293.3</td>\n",
       "      <td>20583.5</td>\n",
       "      <td>21220.9</td>\n",
       "      <td>22926.4</td>\n",
       "      <td>24673.6</td>\n",
       "      <td>24504.8</td>\n",
       "      <td>26226.7</td>\n",
       "      <td>29185.2</td>\n",
       "    </tr>\n",
       "    <tr>\n",
       "      <th>Все домашние хозяйства</th>\n",
       "      <td>Стоимость натуральных поступлений продуктов пи...</td>\n",
       "      <td>224.2</td>\n",
       "      <td>225.6</td>\n",
       "      <td>256.0</td>\n",
       "      <td>271.5</td>\n",
       "      <td>301.0</td>\n",
       "      <td>348.3</td>\n",
       "      <td>378.9</td>\n",
       "      <td>422.3</td>\n",
       "      <td>447.1</td>\n",
       "      <td>...</td>\n",
       "      <td>468.6</td>\n",
       "      <td>490.2</td>\n",
       "      <td>585.2</td>\n",
       "      <td>598.8</td>\n",
       "      <td>585.0</td>\n",
       "      <td>569.6</td>\n",
       "      <td>605.0</td>\n",
       "      <td>628.0</td>\n",
       "      <td>656.3</td>\n",
       "      <td>712.8</td>\n",
       "    </tr>\n",
       "    <tr>\n",
       "      <th>Все домашние хозяйства</th>\n",
       "      <td>Стоимость натуральных поступлений непродовольс...</td>\n",
       "      <td>66.5</td>\n",
       "      <td>70.1</td>\n",
       "      <td>41.5</td>\n",
       "      <td>49.2</td>\n",
       "      <td>66.0</td>\n",
       "      <td>87.9</td>\n",
       "      <td>94.6</td>\n",
       "      <td>104.3</td>\n",
       "      <td>138.5</td>\n",
       "      <td>...</td>\n",
       "      <td>148.7</td>\n",
       "      <td>149.5</td>\n",
       "      <td>208.9</td>\n",
       "      <td>167.8</td>\n",
       "      <td>177.2</td>\n",
       "      <td>177.9</td>\n",
       "      <td>207.1</td>\n",
       "      <td>191.7</td>\n",
       "      <td>221.8</td>\n",
       "      <td>288.2</td>\n",
       "    </tr>\n",
       "    <tr>\n",
       "      <th>Все домашние хозяйства</th>\n",
       "      <td>Сумма сделанных сбережений</td>\n",
       "      <td>147.4</td>\n",
       "      <td>226.4</td>\n",
       "      <td>390.4</td>\n",
       "      <td>531.4</td>\n",
       "      <td>727.5</td>\n",
       "      <td>1183.7</td>\n",
       "      <td>1208.4</td>\n",
       "      <td>1418.5</td>\n",
       "      <td>1579.5</td>\n",
       "      <td>...</td>\n",
       "      <td>2491.2</td>\n",
       "      <td>2803.2</td>\n",
       "      <td>2997.4</td>\n",
       "      <td>2859.6</td>\n",
       "      <td>2943.3</td>\n",
       "      <td>3232.9</td>\n",
       "      <td>3509.5</td>\n",
       "      <td>3880.0</td>\n",
       "      <td>4686.4</td>\n",
       "      <td>4880.0</td>\n",
       "    </tr>\n",
       "  </tbody>\n",
       "</table>\n",
       "<p>5 rows × 21 columns</p>\n",
       "</div>"
      ],
      "text/plain": [
       "                                                                      Тип  \\\n",
       "Все домашние хозяйства                                              Всего   \n",
       "Все домашние хозяйства                                   Денежные расходы   \n",
       "Все домашние хозяйства  Стоимость натуральных поступлений продуктов пи...   \n",
       "Все домашние хозяйства  Стоимость натуральных поступлений непродовольс...   \n",
       "Все домашние хозяйства                         Сумма сделанных сбережений   \n",
       "\n",
       "                          2003    2004    2005    2006    2007     2008  \\\n",
       "Все домашние хозяйства  3586.6  4446.9  5745.8  7051.6  9156.9  11955.2   \n",
       "Все домашние хозяйства  3148.5  3924.8  5057.9  6199.5  8062.4  10335.3   \n",
       "Все домашние хозяйства   224.2   225.6   256.0   271.5   301.0    348.3   \n",
       "Все домашние хозяйства    66.5    70.1    41.5    49.2    66.0     87.9   \n",
       "Все домашние хозяйства   147.4   226.4   390.4   531.4   727.5   1183.7   \n",
       "\n",
       "                           2009     2010     2011  ...     2013     2014  \\\n",
       "Все домашние хозяйства  12419.4  14633.2  16597.1  ...  21198.5  22890.1   \n",
       "Все домашние хозяйства  10737.4  12688.0  14432.0  ...  18089.9  19447.2   \n",
       "Все домашние хозяйства    378.9    422.3    447.1  ...    468.6    490.2   \n",
       "Все домашние хозяйства     94.6    104.3    138.5  ...    148.7    149.5   \n",
       "Все домашние хозяйства   1208.4   1418.5   1579.5  ...   2491.2   2803.2   \n",
       "\n",
       "                           2015     2016     2017     2018     2019     2020  \\\n",
       "Все домашние хозяйства  23084.8  24209.8  24926.5  26917.7  28995.2  29204.5   \n",
       "Все домашние хозяйства  19293.3  20583.5  21220.9  22926.4  24673.6  24504.8   \n",
       "Все домашние хозяйства    585.2    598.8    585.0    569.6    605.0    628.0   \n",
       "Все домашние хозяйства    208.9    167.8    177.2    177.9    207.1    191.7   \n",
       "Все домашние хозяйства   2997.4   2859.6   2943.3   3232.9   3509.5   3880.0   \n",
       "\n",
       "                           2021     2022  \n",
       "Все домашние хозяйства  31791.2  35066.1  \n",
       "Все домашние хозяйства  26226.7  29185.2  \n",
       "Все домашние хозяйства    656.3    712.8  \n",
       "Все домашние хозяйства    221.8    288.2  \n",
       "Все домашние хозяйства   4686.4   4880.0  \n",
       "\n",
       "[5 rows x 21 columns]"
      ]
     },
     "execution_count": 36,
     "metadata": {},
     "output_type": "execute_result"
    }
   ],
   "source": [
    "income.head()"
   ]
  },
  {
   "cell_type": "code",
   "execution_count": 37,
   "id": "9f503b4a-a523-48a4-a6ef-8df8add71b0b",
   "metadata": {},
   "outputs": [
    {
     "data": {
      "text/html": [
       "<div>\n",
       "<style scoped>\n",
       "    .dataframe tbody tr th:only-of-type {\n",
       "        vertical-align: middle;\n",
       "    }\n",
       "\n",
       "    .dataframe tbody tr th {\n",
       "        vertical-align: top;\n",
       "    }\n",
       "\n",
       "    .dataframe thead th {\n",
       "        text-align: right;\n",
       "    }\n",
       "</style>\n",
       "<table border=\"1\" class=\"dataframe\">\n",
       "  <thead>\n",
       "    <tr style=\"text-align: right;\">\n",
       "      <th></th>\n",
       "      <th>Домашние хозяйства, проживающиев городской местности</th>\n",
       "      <th>Домашние хозяйства, проживающиев сельской местности</th>\n",
       "    </tr>\n",
       "  </thead>\n",
       "  <tbody>\n",
       "    <tr>\n",
       "      <th>2003</th>\n",
       "      <td>4009.0</td>\n",
       "      <td>2423.2</td>\n",
       "    </tr>\n",
       "    <tr>\n",
       "      <th>2004</th>\n",
       "      <td>5016.0</td>\n",
       "      <td>2851.3</td>\n",
       "    </tr>\n",
       "    <tr>\n",
       "      <th>2005</th>\n",
       "      <td>6529.5</td>\n",
       "      <td>3604.7</td>\n",
       "    </tr>\n",
       "    <tr>\n",
       "      <th>2006</th>\n",
       "      <td>7984.9</td>\n",
       "      <td>4495.4</td>\n",
       "    </tr>\n",
       "    <tr>\n",
       "      <th>2007</th>\n",
       "      <td>10354.6</td>\n",
       "      <td>5871.1</td>\n",
       "    </tr>\n",
       "  </tbody>\n",
       "</table>\n",
       "</div>"
      ],
      "text/plain": [
       "     Домашние хозяйства, проживающиев городской местности  \\\n",
       "2003                                             4009.0     \n",
       "2004                                             5016.0     \n",
       "2005                                             6529.5     \n",
       "2006                                             7984.9     \n",
       "2007                                            10354.6     \n",
       "\n",
       "     Домашние хозяйства, проживающиев сельской местности  \n",
       "2003                                             2423.2   \n",
       "2004                                             2851.3   \n",
       "2005                                             3604.7   \n",
       "2006                                             4495.4   \n",
       "2007                                             5871.1   "
      ]
     },
     "execution_count": 37,
     "metadata": {},
     "output_type": "execute_result"
    }
   ],
   "source": [
    "income[income['Тип'] == 'Всего'].T[1:].iloc[:, -2:].head()"
   ]
  },
  {
   "cell_type": "markdown",
   "id": "ad4c889e-5967-4194-817a-ca55a85c33d3",
   "metadata": {},
   "source": [
    "##### <font color='#AF4035'> Export Dataset to Excel"
   ]
  },
  {
   "cell_type": "code",
   "execution_count": 38,
   "id": "0562fd2c-b708-4e07-a20d-5c969f51991b",
   "metadata": {},
   "outputs": [
    {
     "ename": "NameError",
     "evalue": "name 'save_excel' is not defined",
     "output_type": "error",
     "traceback": [
      "\u001b[0;31m---------------------------------------------------------------------------\u001b[0m",
      "\u001b[0;31mNameError\u001b[0m                                 Traceback (most recent call last)",
      "Cell \u001b[0;32mIn[38], line 4\u001b[0m\n\u001b[1;32m      1\u001b[0m saveit_excel(\n\u001b[1;32m      2\u001b[0m     data\u001b[38;5;241m=\u001b[39mincome,\n\u001b[1;32m      3\u001b[0m     filename\u001b[38;5;241m=\u001b[39m\u001b[38;5;28mdir\u001b[39m,\n\u001b[0;32m----> 4\u001b[0m     path\u001b[38;5;241m=\u001b[39m\u001b[43msave_excel\u001b[49m,\n\u001b[1;32m      5\u001b[0m     sheet\u001b[38;5;241m=\u001b[39m\u001b[38;5;124m'\u001b[39m\u001b[38;5;124mСтруктура ресурсов\u001b[39m\u001b[38;5;124m'\u001b[39m\n\u001b[1;32m      6\u001b[0m )\n",
      "\u001b[0;31mNameError\u001b[0m: name 'save_excel' is not defined"
     ]
    }
   ],
   "source": [
    "saveit_excel(\n",
    "    data=income,\n",
    "    filename=dir,\n",
    "    path=save_excel,\n",
    "    sheet='Структура ресурсов'\n",
    ")"
   ]
  },
  {
   "cell_type": "markdown",
   "id": "fb74db9c-fb8e-4dd3-b3d6-09bf05877daf",
   "metadata": {},
   "source": [
    "### 7.2. Доходы и расходы домашних хозяйств на потребление, уровень и структура расходов на потребление домашних хозяйств различных социально-экономических категорий"
   ]
  },
  {
   "cell_type": "markdown",
   "id": "194d3ac5-ed30-42ca-83e7-e93dfb1b59a0",
   "metadata": {},
   "source": [
    "*Источник: https://rosstat.gov.ru/folder/13397*  \n",
    "*Единицы измерения: рубли в среднем на члена семьи в месяц*\n",
    "\n",
    "*Примечания:*  "
   ]
  },
  {
   "cell_type": "code",
   "execution_count": null,
   "id": "7ce6b438-72f9-48be-965e-8c095cd1ff97",
   "metadata": {},
   "outputs": [],
   "source": [
    "consumption_link = \\\n",
    "    ('data/02-Population/02-Standard-of-living/05-Households/'\n",
    "     'Doh07_05.xlsx')"
   ]
  },
  {
   "cell_type": "code",
   "execution_count": null,
   "id": "51a55ff6-fb1c-44c8-8804-5b9ab1975de1",
   "metadata": {},
   "outputs": [],
   "source": [
    "consumption_raw = pd.read_excel(consumption_link)"
   ]
  },
  {
   "cell_type": "code",
   "execution_count": null,
   "id": "889ea93d-e362-436a-88bd-4c3c1a832aea",
   "metadata": {},
   "outputs": [],
   "source": [
    "consumption_raw.head(10)"
   ]
  },
  {
   "cell_type": "code",
   "execution_count": null,
   "id": "5b664677-f3ab-4b47-aa79-fd9899c39cb1",
   "metadata": {},
   "outputs": [],
   "source": [
    "consumption = consumption_raw[7:55].copy()"
   ]
  },
  {
   "cell_type": "code",
   "execution_count": null,
   "id": "b1cb9c30-5f7d-4ba2-a494-afbdbe4992d9",
   "metadata": {},
   "outputs": [],
   "source": [
    "# remove symbols in 'year' row\n",
    "consumption.iloc[0] = [str(i)[:4] for i in consumption.iloc[0]]"
   ]
  },
  {
   "cell_type": "code",
   "execution_count": null,
   "id": "1759125a-22dd-4293-8d61-1e8d5fdf6549",
   "metadata": {},
   "outputs": [],
   "source": [
    "# rename column\n",
    "consumption.iloc[0, 0] = 'Тип'"
   ]
  },
  {
   "cell_type": "code",
   "execution_count": null,
   "id": "ab870385-1ba2-4e39-86ac-bcd0c718ff83",
   "metadata": {},
   "outputs": [],
   "source": [
    "# make header from 0 row\n",
    "consumption = transform_make_header_from_rows(\n",
    "    consumption, rows_index=7)"
   ]
  },
  {
   "cell_type": "code",
   "execution_count": null,
   "id": "73fb993c-dd72-4344-a6ad-0f475625d1e2",
   "metadata": {},
   "outputs": [],
   "source": [
    "consumption.iloc[:, 0] = [str(i).strip() for i in consumption.iloc[:, 0]]"
   ]
  },
  {
   "cell_type": "code",
   "execution_count": null,
   "id": "c9e1e553-6e4f-415e-85b4-101f6201f1ae",
   "metadata": {},
   "outputs": [],
   "source": [
    "consumption.iloc[:, 0] = \\\n",
    "    [i.replace('Расходы на потребление - всего', 'Всего') for i in consumption.iloc[:, 0]]"
   ]
  },
  {
   "cell_type": "code",
   "execution_count": null,
   "id": "37e8e77e-653e-409e-87b0-3869a3fa0df5",
   "metadata": {},
   "outputs": [],
   "source": [
    "for column in consumption.columns:\n",
    "    consumption[column] = consumption[column].apply(\n",
    "        lambda x: transform_to_float(x))"
   ]
  },
  {
   "cell_type": "code",
   "execution_count": null,
   "id": "d37a532f-b9b0-450c-9d8d-e9be9fa5d95d",
   "metadata": {},
   "outputs": [],
   "source": [
    "consumption = transform_round(consumption, 1)"
   ]
  },
  {
   "cell_type": "code",
   "execution_count": null,
   "id": "a6aedc69-4c31-4a4a-929b-5c6b68851143",
   "metadata": {},
   "outputs": [],
   "source": [
    "consumption['index'] = consumption['2003'].copy()"
   ]
  },
  {
   "cell_type": "code",
   "execution_count": null,
   "id": "ee00fb84-5138-4b75-8dee-78a465677979",
   "metadata": {},
   "outputs": [],
   "source": [
    "# to NaN values if length less than 10\n",
    "consumption_index_values = consumption['index'].values.ravel()\n",
    "consumption['index'] = \\\n",
    "    [i if len(str(i)) > 10 else np.NaN for i in consumption_index_values]"
   ]
  },
  {
   "cell_type": "code",
   "execution_count": null,
   "id": "efc2c553-775c-4002-9746-2246c7e89f3f",
   "metadata": {},
   "outputs": [],
   "source": [
    "consumption = consumption.reset_index(drop=True)"
   ]
  },
  {
   "cell_type": "code",
   "execution_count": null,
   "id": "dcd82db9-354e-4850-a4e1-7e1e7d6706d7",
   "metadata": {},
   "outputs": [],
   "source": [
    "# concat strings in 'index' and drop unuseful values\n",
    "consumption, drop_indexes2 = transform_concat_rows_strings(consumption, 'index')"
   ]
  },
  {
   "cell_type": "code",
   "execution_count": null,
   "id": "e5287674-d6da-4315-b780-e252196ba5e1",
   "metadata": {},
   "outputs": [],
   "source": [
    "# fillna by previous notna\n",
    "consumption = transform_fill_values_by_previous(\n",
    "    data=consumption, kind='column', column_name='index')"
   ]
  },
  {
   "cell_type": "code",
   "execution_count": null,
   "id": "e23cb52e-dd85-4302-96a6-c7416c5397c3",
   "metadata": {},
   "outputs": [],
   "source": [
    "consumption = consumption.drop(drop_indexes2, axis=0)"
   ]
  },
  {
   "cell_type": "code",
   "execution_count": null,
   "id": "c9cc5736-dbe5-4489-91b0-2c90f3b25af8",
   "metadata": {},
   "outputs": [],
   "source": [
    "consumption = consumption.loc[consumption['Тип'] != 'в том числе:']"
   ]
  },
  {
   "cell_type": "code",
   "execution_count": null,
   "id": "5c06cb3a-a7b3-4adb-bd25-848c7f068142",
   "metadata": {},
   "outputs": [],
   "source": [
    "type_values2 = [\n",
    "    'Всего',\n",
    "    'Расходы на питание',\n",
    "    'Расходы на непродовольственные товары',\n",
    "    'Расходы на алкогольные напитки',\n",
    "    'Расходы на оплату услуг',\n",
    "    'Стоимость услуг, оказанных работодателем бесплатно или по льготным ценам'\n",
    "]"
   ]
  },
  {
   "cell_type": "code",
   "execution_count": null,
   "id": "e97d188b-ff30-4196-98ee-2dee5a7e3edf",
   "metadata": {},
   "outputs": [],
   "source": [
    "j = 0\n",
    "for index in consumption.index:\n",
    "    if not pd.isna(consumption.loc[index, '2003']):\n",
    "        new_value = type_values2[j]\n",
    "        consumption.loc[index, 'Тип'] = new_value\n",
    "        j += 1\n",
    "        if j > 5:\n",
    "            j = 0"
   ]
  },
  {
   "cell_type": "code",
   "execution_count": null,
   "id": "463e1bf7-bd68-4f45-9aa2-49c37331015a",
   "metadata": {},
   "outputs": [],
   "source": [
    "consumption = consumption.dropna()"
   ]
  },
  {
   "cell_type": "code",
   "execution_count": null,
   "id": "96d99022-e91c-48a8-87ea-80989fbe6a6c",
   "metadata": {},
   "outputs": [],
   "source": [
    "consumption = consumption.set_index('index', drop=True)\n",
    "consumption.index.name = None"
   ]
  },
  {
   "cell_type": "code",
   "execution_count": null,
   "id": "b4fa9318-2ad0-4784-ab50-c09d1c483f94",
   "metadata": {},
   "outputs": [],
   "source": [
    "# convert column names to int if possible (isdigit)\n",
    "consumption.columns = [int(i) if i.isdigit() else i for i in consumption.columns]\n",
    "consumption.columns.name = None"
   ]
  },
  {
   "cell_type": "code",
   "execution_count": null,
   "id": "85eef02d-de30-4125-8f8d-4d1e2e4faf8c",
   "metadata": {},
   "outputs": [],
   "source": [
    "consumption.head()"
   ]
  },
  {
   "cell_type": "markdown",
   "id": "69b70f92-a9c8-4b76-ac0f-b0087d35e593",
   "metadata": {},
   "source": [
    "##### <font color='#AF4035'> Export Dataset to Excel"
   ]
  },
  {
   "cell_type": "code",
   "execution_count": null,
   "id": "8f02f787-dfcc-40f3-b702-0a0c7734975d",
   "metadata": {},
   "outputs": [],
   "source": [
    "saveit_excel(\n",
    "    data=consumption,\n",
    "    filename=dir,\n",
    "    path=save_excel,\n",
    "    sheet='Структура потребления'\n",
    ")"
   ]
  },
  {
   "cell_type": "markdown",
   "id": "f3eafd81-4b66-4e5b-aee2-f7ea6bf8a1d6",
   "metadata": {},
   "source": [
    "### 7.3. Располагаемые ресурсы домашних хозяйств в зависимости от места проживания по субъектам Российской Федерации"
   ]
  },
  {
   "cell_type": "markdown",
   "id": "93e4d2be-49a6-4d61-92ee-471f9934f5ad",
   "metadata": {},
   "source": [
    "*Источник: https://rosstat.gov.ru/folder/13397*  \n",
    "*Единицы измерения: рубли*\n",
    "\n",
    "*Примечания:*  "
   ]
  },
  {
   "cell_type": "code",
   "execution_count": null,
   "id": "3272421f-361a-4aa5-acec-67da1676df1e",
   "metadata": {},
   "outputs": [],
   "source": [
    "resources_link = \\\n",
    "    ('data/02-Population/02-Standard-of-living/05-Households/'\n",
    "     'indikator_1-4.xlsx')"
   ]
  },
  {
   "cell_type": "code",
   "execution_count": null,
   "id": "3c76ee7c-769b-4b16-a180-44a58f2ea3b7",
   "metadata": {},
   "outputs": [],
   "source": [
    "resources_raw = pd.read_excel(resources_link, sheet_name='2014')\n",
    "resources = transform_resources(\n",
    "    resources_raw, 2014, FD_partial_names_list, federal_districts_names_list, 2)"
   ]
  },
  {
   "cell_type": "code",
   "execution_count": null,
   "id": "7ec18d83-c8e0-45c7-aad0-d533a16b2655",
   "metadata": {},
   "outputs": [],
   "source": [
    "for i in range(2015,2023):\n",
    "    if i in [2016, 2017, 2018, 2019, 2020, 2021]:\n",
    "        sl = None\n",
    "    else:\n",
    "        sl = 2\n",
    "    df = pd.read_excel(resources_link, sheet_name=str(i))\n",
    "    df = transform_resources(\n",
    "        df, i, FD_partial_names_list, federal_districts_names_list, sl)\n",
    "    resources = pd.concat([resources, df], axis=1)"
   ]
  },
  {
   "cell_type": "code",
   "execution_count": null,
   "id": "b85c28ee-25fb-467b-8af8-4c90578d594c",
   "metadata": {},
   "outputs": [],
   "source": [
    "resources = resources.T.copy()"
   ]
  },
  {
   "cell_type": "code",
   "execution_count": null,
   "id": "f2d989e5-deb5-4af2-895f-40763135bf3b",
   "metadata": {},
   "outputs": [],
   "source": [
    "resources = resources.astype(float)"
   ]
  },
  {
   "cell_type": "code",
   "execution_count": null,
   "id": "1fd4d3eb-cca6-4a81-aefa-3c365e100a0a",
   "metadata": {},
   "outputs": [],
   "source": [
    "resources = transform_round(resources, 1)"
   ]
  },
  {
   "cell_type": "code",
   "execution_count": null,
   "id": "71e02279-68cb-4de4-b3ef-c0130cc193ab",
   "metadata": {},
   "outputs": [],
   "source": [
    "# check NaNs\n",
    "resources[resources.isna().any(axis=1)]"
   ]
  },
  {
   "cell_type": "code",
   "execution_count": null,
   "id": "78a2fcc1-8cf9-4c84-9edf-6c067c236f1c",
   "metadata": {},
   "outputs": [],
   "source": [
    "resources"
   ]
  },
  {
   "cell_type": "code",
   "execution_count": null,
   "id": "1e55aa6d-6ba7-4877-9dce-771ef2ea6f23",
   "metadata": {},
   "outputs": [],
   "source": [
    "get_data_two_level(resources, level0=['Республика Татарстан'])"
   ]
  },
  {
   "cell_type": "markdown",
   "id": "c804c432-b56c-497b-934a-cd4a962d65e7",
   "metadata": {},
   "source": [
    "##### <font color='#AF4035'> Export Dataset to Excel"
   ]
  },
  {
   "cell_type": "code",
   "execution_count": null,
   "id": "c8001e47-6b4e-4416-8d62-5be383adcb51",
   "metadata": {},
   "outputs": [],
   "source": [
    "saveit_excel(\n",
    "    data=resources,\n",
    "    filename=dir,\n",
    "    path=dir_save_excel,\n",
    "    sheet='Ресурсы по регионам'\n",
    ")"
   ]
  },
  {
   "cell_type": "markdown",
   "id": "cf2839a2-5ec3-43bb-9319-f5c8b0b9b430",
   "metadata": {},
   "source": [
    "### Save Dataset"
   ]
  },
  {
   "cell_type": "code",
   "execution_count": null,
   "id": "b9b63468-5d72-40c4-8890-0d6b88d4a640",
   "metadata": {},
   "outputs": [],
   "source": [
    "economics_data['7.1'] = income"
   ]
  },
  {
   "cell_type": "code",
   "execution_count": null,
   "id": "1eeff6c9-1909-45af-87cd-43826de57ce5",
   "metadata": {},
   "outputs": [],
   "source": [
    "economics_data['7.2'] = consumption"
   ]
  },
  {
   "cell_type": "code",
   "execution_count": null,
   "id": "3b5e8eed-aa62-455b-bf5b-0398c787512c",
   "metadata": {},
   "outputs": [],
   "source": [
    "economics_data['7.3'] = resources"
   ]
  },
  {
   "cell_type": "code",
   "execution_count": null,
   "id": "3025b3d7-394c-432c-ae84-15cdf217c1f0",
   "metadata": {},
   "outputs": [],
   "source": [
    "saveit(\n",
    "    file=economics_data,\n",
    "    name='economics_data',\n",
    "    dir=dir_save_data\n",
    ")"
   ]
  },
  {
   "cell_type": "markdown",
   "id": "ab16cc57-767f-4e8b-b3fe-7aeb74f927d0",
   "metadata": {},
   "source": [
    "### Save Session"
   ]
  },
  {
   "cell_type": "code",
   "execution_count": null,
   "id": "9e42c954-db8e-4659-a865-94c00f784516",
   "metadata": {},
   "outputs": [],
   "source": [
    "save_session(dir)"
   ]
  },
  {
   "cell_type": "markdown",
   "id": "4f576727-2c81-448c-9623-e88e98c4b6b3",
   "metadata": {},
   "source": [
    "### Execution time"
   ]
  },
  {
   "cell_type": "code",
   "execution_count": null,
   "id": "d7490d8a-1a10-4e60-b451-6755f4a7d540",
   "metadata": {},
   "outputs": [],
   "source": [
    "print(f'Execution time: {stopwatch.stop(start)}')"
   ]
  }
 ],
 "metadata": {
  "kernelspec": {
   "display_name": "economy-rus",
   "language": "python",
   "name": "economy-rus"
  },
  "language_info": {
   "codemirror_mode": {
    "name": "ipython",
    "version": 3
   },
   "file_extension": ".py",
   "mimetype": "text/x-python",
   "name": "python",
   "nbconvert_exporter": "python",
   "pygments_lexer": "ipython3",
   "version": "3.12.3"
  }
 },
 "nbformat": 4,
 "nbformat_minor": 5
}
