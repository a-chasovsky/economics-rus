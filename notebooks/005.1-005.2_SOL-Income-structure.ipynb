{
 "cells": [
  {
   "cell_type": "raw",
   "id": "847bb7b5-5264-484c-bcb4-b28fdd52d92e",
   "metadata": {},
   "source": [
    "if os.path.exists(f'sessions/{dir}'):\n",
    "    load_session(dir)\n",
    "else:\n",
    "    print(f\"No such session: 'sessions/{dir}'\")"
   ]
  },
  {
   "cell_type": "markdown",
   "id": "b94485e8-6c88-4b5c-a8f9-b38e9045a8c4",
   "metadata": {},
   "source": [
    "### Load libraries, functions, palette, theme"
   ]
  },
  {
   "cell_type": "code",
   "execution_count": 1,
   "id": "b0d2da77-83d1-4b79-90ab-7f283b371403",
   "metadata": {},
   "outputs": [],
   "source": [
    "import os\n",
    "from pathlib import Path"
   ]
  },
  {
   "cell_type": "code",
   "execution_count": 2,
   "id": "d16b751b-d77d-4ce2-814a-f81d556af08b",
   "metadata": {},
   "outputs": [],
   "source": [
    "current_path = os.getcwd()\n",
    "main_path = str(Path(current_path).parent)\n",
    "\n",
    "os.chdir(main_path)\n",
    "\n",
    "# load functions\n",
    "from functions import *\n",
    "clear_output()\n",
    "\n",
    "# load libraries and palette\n",
    "%run libraries.ipynb\n",
    "\n",
    "# load regions data\n",
    "%run regions_data.ipynb\n",
    "\n",
    "os.chdir(current_path)"
   ]
  },
  {
   "cell_type": "code",
   "execution_count": 3,
   "id": "543b5662-a16a-40b3-923a-82de9030385e",
   "metadata": {},
   "outputs": [],
   "source": [
    "# start stopwatch\n",
    "start = stopwatch_start()"
   ]
  },
  {
   "cell_type": "markdown",
   "id": "d0ea5777-a0b9-43e0-9376-de7b4997d9a6",
   "metadata": {},
   "source": [
    "### Variables"
   ]
  },
  {
   "cell_type": "code",
   "execution_count": 4,
   "id": "de77e1a5-dcec-4c24-ad5b-e8355b40d466",
   "metadata": {},
   "outputs": [],
   "source": [
    "dir = '005.1-005.2_SOL-Income-structure'"
   ]
  },
  {
   "cell_type": "code",
   "execution_count": 5,
   "id": "85784e98-232d-4e77-9470-06ca92c43717",
   "metadata": {},
   "outputs": [],
   "source": [
    "dir_load_files = main_path + '/files/01-Datasets/'"
   ]
  },
  {
   "cell_type": "code",
   "execution_count": 6,
   "id": "ef22909a-17ce-46d9-9dd4-1e65589bfb3c",
   "metadata": {},
   "outputs": [],
   "source": [
    "dir_save_data = main_path + '/files/01-Datasets/'"
   ]
  },
  {
   "cell_type": "code",
   "execution_count": 7,
   "id": "977fd4b1-ee00-4c64-b926-4c4af5fe6fd9",
   "metadata": {},
   "outputs": [],
   "source": [
    "dir_save_excel = main_path + '/files/02-Excel-data/'"
   ]
  },
  {
   "cell_type": "markdown",
   "id": "ffbb921a-f21f-446a-9422-bd2d108a5c90",
   "metadata": {},
   "source": [
    "### Load Data"
   ]
  },
  {
   "cell_type": "code",
   "execution_count": 8,
   "id": "3400b855-c10d-484f-8678-2c76e0e69f7f",
   "metadata": {},
   "outputs": [],
   "source": [
    "economics_data = loadit('economics_data', dir=dir_load_files)"
   ]
  },
  {
   "cell_type": "markdown",
   "id": "005e8a40-389a-4505-8a8e-57076e6cef0d",
   "metadata": {},
   "source": [
    "# <font color='#2C8B6D'>I. Население</font>"
   ]
  },
  {
   "cell_type": "markdown",
   "id": "d9ac40c1-1de2-42b6-8f86-b6e4f96c0f10",
   "metadata": {},
   "source": [
    "# Section III. Уровень жизни"
   ]
  },
  {
   "cell_type": "markdown",
   "id": "13ccc087-516f-463f-8698-241362acce3e",
   "metadata": {},
   "source": [
    "## 5. Распределение доходов населения"
   ]
  },
  {
   "cell_type": "markdown",
   "id": "bbdc3da7-cdca-4396-a7e6-f168601508ac",
   "metadata": {},
   "source": [
    "### 5.1. Распределение населения по интервальным группам среднедушевых денежных доходов"
   ]
  },
  {
   "cell_type": "markdown",
   "id": "c88343c7-1a31-40a9-ae75-bcf89d298ca9",
   "metadata": {},
   "source": [
    "*Источник: https://rosstat.gov.ru/folder/13397*  \n",
    "*Единицы измерения: проценты*\n",
    "\n",
    "*Примечания:*"
   ]
  },
  {
   "cell_type": "code",
   "execution_count": 7,
   "id": "5f26b286-7ba9-4636-bdf0-914d905a865d",
   "metadata": {},
   "outputs": [],
   "source": [
    "indexes = np.arange(0, 100, 12.5)"
   ]
  },
  {
   "cell_type": "markdown",
   "id": "cad13b96-24aa-4b48-83e3-7cc7f6e986f9",
   "metadata": {},
   "source": [
    "##### Data"
   ]
  },
  {
   "cell_type": "code",
   "execution_count": 8,
   "id": "dc85c0ae-db8f-4bb5-b604-2c150f71643b",
   "metadata": {},
   "outputs": [],
   "source": [
    "income_structure_link = \\\n",
    "    ('data/02-Population/02-Standard-of-living/03-Income-structure/'\n",
    "     'Urov_31.xlsx')"
   ]
  },
  {
   "cell_type": "code",
   "execution_count": 9,
   "id": "79b4b4f0-9a16-4dc2-8004-30715bed3ff3",
   "metadata": {},
   "outputs": [],
   "source": [
    "income_structure = pd.DataFrame(\n",
    "    index=indexes\n",
    ")"
   ]
  },
  {
   "cell_type": "code",
   "execution_count": 10,
   "id": "87936085-59e5-464a-9721-03ba50f4d6c4",
   "metadata": {},
   "outputs": [],
   "source": [
    "years_list = []\n",
    "for i in range(1995, 2003):\n",
    "    years_list.append(f'РФ {i}')"
   ]
  },
  {
   "cell_type": "code",
   "execution_count": 11,
   "id": "5fdd80d2-e456-47d4-8788-e0ca9b3f4882",
   "metadata": {},
   "outputs": [],
   "source": [
    "years_list.extend([\n",
    "    'РФ 2006', 'РФ 2012'\n",
    "])"
   ]
  },
  {
   "cell_type": "code",
   "execution_count": 12,
   "id": "91063de3-baaf-440d-9827-c9da016eef59",
   "metadata": {},
   "outputs": [],
   "source": [
    "for i in years_list:\n",
    "    income_structure_ = pd.read_excel(income_structure_link, sheet_name=i)\n",
    "    income_structure_ = transform_cut_rows(income_structure_, 4, 0)\n",
    "    income_structure_ = income_structure_.set_index(indexes)\n",
    "    income_structure_ = income_structure_[income_structure_.columns[1]]\n",
    "    income_structure_.name = i[-4:]\n",
    "    income_structure = pd.concat([income_structure, income_structure_], axis=1)"
   ]
  },
  {
   "cell_type": "code",
   "execution_count": 13,
   "id": "82b51753-936d-4d6c-8a87-f310266ae205",
   "metadata": {},
   "outputs": [
    {
     "data": {
      "text/html": [
       "<div>\n",
       "<style scoped>\n",
       "    .dataframe tbody tr th:only-of-type {\n",
       "        vertical-align: middle;\n",
       "    }\n",
       "\n",
       "    .dataframe tbody tr th {\n",
       "        vertical-align: top;\n",
       "    }\n",
       "\n",
       "    .dataframe thead th {\n",
       "        text-align: right;\n",
       "    }\n",
       "</style>\n",
       "<table border=\"1\" class=\"dataframe\">\n",
       "  <thead>\n",
       "    <tr style=\"text-align: right;\">\n",
       "      <th></th>\n",
       "      <th>1995</th>\n",
       "      <th>1996</th>\n",
       "      <th>1997</th>\n",
       "      <th>1998</th>\n",
       "      <th>1999</th>\n",
       "      <th>2000</th>\n",
       "      <th>2001</th>\n",
       "      <th>2002</th>\n",
       "      <th>2006</th>\n",
       "      <th>2012</th>\n",
       "    </tr>\n",
       "  </thead>\n",
       "  <tbody>\n",
       "    <tr>\n",
       "      <th>0.0</th>\n",
       "      <td>1.5</td>\n",
       "      <td>13.9</td>\n",
       "      <td>10.3</td>\n",
       "      <td>15.0</td>\n",
       "      <td>7</td>\n",
       "      <td>12.5</td>\n",
       "      <td>12.5</td>\n",
       "      <td>6.8</td>\n",
       "      <td>4.2</td>\n",
       "      <td>5.7</td>\n",
       "    </tr>\n",
       "    <tr>\n",
       "      <th>12.5</th>\n",
       "      <td>11.9</td>\n",
       "      <td>11.9</td>\n",
       "      <td>14.3</td>\n",
       "      <td>18.3</td>\n",
       "      <td>12.5</td>\n",
       "      <td>12</td>\n",
       "      <td>15</td>\n",
       "      <td>10.6</td>\n",
       "      <td>16.3</td>\n",
       "      <td>6.8</td>\n",
       "    </tr>\n",
       "    <tr>\n",
       "      <th>25.0</th>\n",
       "      <td>17.9</td>\n",
       "      <td>17.6</td>\n",
       "      <td>14.5</td>\n",
       "      <td>16.6</td>\n",
       "      <td>14.1</td>\n",
       "      <td>15.8</td>\n",
       "      <td>14.4</td>\n",
       "      <td>11.8</td>\n",
       "      <td>17.8</td>\n",
       "      <td>12</td>\n",
       "    </tr>\n",
       "    <tr>\n",
       "      <th>37.5</th>\n",
       "      <td>16.8</td>\n",
       "      <td>14.5</td>\n",
       "      <td>12.5</td>\n",
       "      <td>13.1</td>\n",
       "      <td>13</td>\n",
       "      <td>16.4</td>\n",
       "      <td>12.1</td>\n",
       "      <td>21</td>\n",
       "      <td>14.7</td>\n",
       "      <td>15.3</td>\n",
       "    </tr>\n",
       "    <tr>\n",
       "      <th>50.0</th>\n",
       "      <td>13.4</td>\n",
       "      <td>14</td>\n",
       "      <td>10.2</td>\n",
       "      <td>9.7</td>\n",
       "      <td>10.9</td>\n",
       "      <td>12.1</td>\n",
       "      <td>9.7</td>\n",
       "      <td>15.2</td>\n",
       "      <td>11.3</td>\n",
       "      <td>15.5</td>\n",
       "    </tr>\n",
       "    <tr>\n",
       "      <th>62.5</th>\n",
       "      <td>10.1</td>\n",
       "      <td>9.3</td>\n",
       "      <td>14.3</td>\n",
       "      <td>12.2</td>\n",
       "      <td>15.9</td>\n",
       "      <td>14.7</td>\n",
       "      <td>13.4</td>\n",
       "      <td>10.4</td>\n",
       "      <td>17.1</td>\n",
       "      <td>16.7</td>\n",
       "    </tr>\n",
       "    <tr>\n",
       "      <th>75.0</th>\n",
       "      <td>12.8</td>\n",
       "      <td>8.2</td>\n",
       "      <td>14</td>\n",
       "      <td>6.5</td>\n",
       "      <td>15.8</td>\n",
       "      <td>7.4</td>\n",
       "      <td>10.9</td>\n",
       "      <td>11.9</td>\n",
       "      <td>8.3</td>\n",
       "      <td>17.2</td>\n",
       "    </tr>\n",
       "    <tr>\n",
       "      <th>87.5</th>\n",
       "      <td>15.6</td>\n",
       "      <td>10.6</td>\n",
       "      <td>9.9</td>\n",
       "      <td>8.6</td>\n",
       "      <td>10.8</td>\n",
       "      <td>9.1</td>\n",
       "      <td>12</td>\n",
       "      <td>12.3</td>\n",
       "      <td>10.3</td>\n",
       "      <td>10.8</td>\n",
       "    </tr>\n",
       "  </tbody>\n",
       "</table>\n",
       "</div>"
      ],
      "text/plain": [
       "      1995  1996  1997  1998  1999  2000  2001  2002  2006  2012\n",
       "0.0    1.5  13.9  10.3  15.0     7  12.5  12.5   6.8   4.2   5.7\n",
       "12.5  11.9  11.9  14.3  18.3  12.5    12    15  10.6  16.3   6.8\n",
       "25.0  17.9  17.6  14.5  16.6  14.1  15.8  14.4  11.8  17.8    12\n",
       "37.5  16.8  14.5  12.5  13.1    13  16.4  12.1    21  14.7  15.3\n",
       "50.0  13.4    14  10.2   9.7  10.9  12.1   9.7  15.2  11.3  15.5\n",
       "62.5  10.1   9.3  14.3  12.2  15.9  14.7  13.4  10.4  17.1  16.7\n",
       "75.0  12.8   8.2    14   6.5  15.8   7.4  10.9  11.9   8.3  17.2\n",
       "87.5  15.6  10.6   9.9   8.6  10.8   9.1    12  12.3  10.3  10.8"
      ]
     },
     "execution_count": 13,
     "metadata": {},
     "output_type": "execute_result"
    }
   ],
   "source": [
    "income_structure"
   ]
  },
  {
   "cell_type": "code",
   "execution_count": 14,
   "id": "c7684b36-ae76-4fa7-9960-d05267ed205b",
   "metadata": {},
   "outputs": [],
   "source": [
    "years_list1 = [\n",
    "    'РФ 2003-2005', 'РФ 2007-2008', 'РФ 2009-2011'\n",
    "]"
   ]
  },
  {
   "cell_type": "code",
   "execution_count": 15,
   "id": "9251cb2a-5d79-421d-b646-9f7e6c4eb0df",
   "metadata": {},
   "outputs": [],
   "source": [
    "for i in years_list1:\n",
    "    income_structure_ = pd.read_excel(income_structure_link, sheet_name=i)\n",
    "    income_structure_ = transform_cut_rows(income_structure_, 4, 0)\n",
    "    income_structure_ = income_structure_.set_index(indexes)\n",
    "    income_structure_ = income_structure_[income_structure_.columns[1:-2]]\n",
    "    income_structure_.columns = range(int(i[3:7]), int(i[-4:])+1)\n",
    "    income_structure = pd.concat([income_structure, income_structure_], axis=1)"
   ]
  },
  {
   "cell_type": "code",
   "execution_count": 16,
   "id": "1db86d4c-ed1d-4ecb-bd67-09d00b4ef666",
   "metadata": {},
   "outputs": [],
   "source": [
    "years_list2 = [\n",
    "    'РФ 2013-2022'\n",
    "]"
   ]
  },
  {
   "cell_type": "code",
   "execution_count": 17,
   "id": "4bb4629b-db7c-40c5-a065-800cdac7d042",
   "metadata": {},
   "outputs": [],
   "source": [
    "for i in years_list2:\n",
    "    income_structure_ = pd.read_excel(income_structure_link, sheet_name=i)\n",
    "    income_structure_ = transform_cut_rows(income_structure_, 4, 8)\n",
    "    income_structure_ = income_structure_.set_index(indexes)\n",
    "    income_structure_ = income_structure_[income_structure_.columns[1:-2]]\n",
    "    income_structure_.columns = range(int(i[3:7]), int(i[-4:])+1)\n",
    "    income_structure = pd.concat([income_structure, income_structure_], axis=1)"
   ]
  },
  {
   "cell_type": "markdown",
   "id": "c444a4f1-7815-4e07-bfba-2614518d564b",
   "metadata": {},
   "source": [
    "##### Manage columns"
   ]
  },
  {
   "cell_type": "code",
   "execution_count": 18,
   "id": "f57aa5f1-c874-44d6-b49a-6d7f65238de1",
   "metadata": {},
   "outputs": [],
   "source": [
    "# all columns to string\n",
    "income_structure.columns = [int(i) for i in income_structure.columns]"
   ]
  },
  {
   "cell_type": "code",
   "execution_count": 19,
   "id": "ac44afbc-9baf-4c78-94f3-9a3ef0de2d58",
   "metadata": {},
   "outputs": [],
   "source": [
    "income_columns = [int(i) for i in income_structure.columns.tolist()]"
   ]
  },
  {
   "cell_type": "code",
   "execution_count": 20,
   "id": "61d83ec8-8139-4c24-bd39-95d8806d5d5a",
   "metadata": {},
   "outputs": [],
   "source": [
    "income_columns.sort()"
   ]
  },
  {
   "cell_type": "markdown",
   "id": "9346d4d8-caea-4503-874b-3d51f726e9fb",
   "metadata": {},
   "source": [
    "##### <font color='#2A5899'> Check for Discrepancy: Income Structure </font>"
   ]
  },
  {
   "cell_type": "code",
   "execution_count": 21,
   "id": "e6553455-d2de-4200-b26d-9cfc1532920c",
   "metadata": {},
   "outputs": [
    {
     "data": {
      "text/html": [
       "<div>\n",
       "<style scoped>\n",
       "    .dataframe tbody tr th:only-of-type {\n",
       "        vertical-align: middle;\n",
       "    }\n",
       "\n",
       "    .dataframe tbody tr th {\n",
       "        vertical-align: top;\n",
       "    }\n",
       "\n",
       "    .dataframe thead th {\n",
       "        text-align: right;\n",
       "    }\n",
       "</style>\n",
       "<table border=\"1\" class=\"dataframe\">\n",
       "  <thead>\n",
       "    <tr style=\"text-align: right;\">\n",
       "      <th></th>\n",
       "      <th>1995</th>\n",
       "      <th>1996</th>\n",
       "      <th>1997</th>\n",
       "      <th>1998</th>\n",
       "      <th>1999</th>\n",
       "      <th>2000</th>\n",
       "      <th>2001</th>\n",
       "      <th>2002</th>\n",
       "      <th>2006</th>\n",
       "      <th>2012</th>\n",
       "      <th>2003</th>\n",
       "      <th>2004</th>\n",
       "      <th>2005</th>\n",
       "      <th>2007</th>\n",
       "      <th>2008</th>\n",
       "    </tr>\n",
       "  </thead>\n",
       "  <tbody>\n",
       "    <tr>\n",
       "      <th>0.0</th>\n",
       "      <td>1.5</td>\n",
       "      <td>13.9</td>\n",
       "      <td>10.3</td>\n",
       "      <td>15.0</td>\n",
       "      <td>7</td>\n",
       "      <td>12.5</td>\n",
       "      <td>12.5</td>\n",
       "      <td>6.8</td>\n",
       "      <td>4.2</td>\n",
       "      <td>5.7</td>\n",
       "      <td>9.9</td>\n",
       "      <td>6.2</td>\n",
       "      <td>3.2</td>\n",
       "      <td>2.6</td>\n",
       "      <td>1.5</td>\n",
       "    </tr>\n",
       "    <tr>\n",
       "      <th>12.5</th>\n",
       "      <td>11.9</td>\n",
       "      <td>11.9</td>\n",
       "      <td>14.3</td>\n",
       "      <td>18.3</td>\n",
       "      <td>12.5</td>\n",
       "      <td>12</td>\n",
       "      <td>15</td>\n",
       "      <td>10.6</td>\n",
       "      <td>16.3</td>\n",
       "      <td>6.8</td>\n",
       "      <td>17.4</td>\n",
       "      <td>13.2</td>\n",
       "      <td>8.8</td>\n",
       "      <td>11.8</td>\n",
       "      <td>8.4</td>\n",
       "    </tr>\n",
       "    <tr>\n",
       "      <th>25.0</th>\n",
       "      <td>17.9</td>\n",
       "      <td>17.6</td>\n",
       "      <td>14.5</td>\n",
       "      <td>16.6</td>\n",
       "      <td>14.1</td>\n",
       "      <td>15.8</td>\n",
       "      <td>14.4</td>\n",
       "      <td>11.8</td>\n",
       "      <td>17.8</td>\n",
       "      <td>12</td>\n",
       "      <td>16.7</td>\n",
       "      <td>14.4</td>\n",
       "      <td>11.3</td>\n",
       "      <td>14.8</td>\n",
       "      <td>12.2</td>\n",
       "    </tr>\n",
       "    <tr>\n",
       "      <th>37.5</th>\n",
       "      <td>16.8</td>\n",
       "      <td>14.5</td>\n",
       "      <td>12.5</td>\n",
       "      <td>13.1</td>\n",
       "      <td>13</td>\n",
       "      <td>16.4</td>\n",
       "      <td>12.1</td>\n",
       "      <td>21</td>\n",
       "      <td>14.7</td>\n",
       "      <td>15.3</td>\n",
       "      <td>13.4</td>\n",
       "      <td>12.8</td>\n",
       "      <td>11.3</td>\n",
       "      <td>13.6</td>\n",
       "      <td>12.3</td>\n",
       "    </tr>\n",
       "    <tr>\n",
       "      <th>50.0</th>\n",
       "      <td>13.4</td>\n",
       "      <td>14</td>\n",
       "      <td>10.2</td>\n",
       "      <td>9.7</td>\n",
       "      <td>10.9</td>\n",
       "      <td>12.1</td>\n",
       "      <td>9.7</td>\n",
       "      <td>15.2</td>\n",
       "      <td>11.3</td>\n",
       "      <td>15.5</td>\n",
       "      <td>14.3</td>\n",
       "      <td>15.0</td>\n",
       "      <td>14.8</td>\n",
       "      <td>11.3</td>\n",
       "      <td>11</td>\n",
       "    </tr>\n",
       "    <tr>\n",
       "      <th>62.5</th>\n",
       "      <td>10.1</td>\n",
       "      <td>9.3</td>\n",
       "      <td>14.3</td>\n",
       "      <td>12.2</td>\n",
       "      <td>15.9</td>\n",
       "      <td>14.7</td>\n",
       "      <td>13.4</td>\n",
       "      <td>10.4</td>\n",
       "      <td>17.1</td>\n",
       "      <td>16.7</td>\n",
       "      <td>11.5</td>\n",
       "      <td>13.4</td>\n",
       "      <td>14.8</td>\n",
       "      <td>19.1</td>\n",
       "      <td>20.2</td>\n",
       "    </tr>\n",
       "    <tr>\n",
       "      <th>75.0</th>\n",
       "      <td>12.8</td>\n",
       "      <td>8.2</td>\n",
       "      <td>14</td>\n",
       "      <td>6.5</td>\n",
       "      <td>15.8</td>\n",
       "      <td>7.4</td>\n",
       "      <td>10.9</td>\n",
       "      <td>11.9</td>\n",
       "      <td>8.3</td>\n",
       "      <td>17.2</td>\n",
       "      <td>10.2</td>\n",
       "      <td>13.7</td>\n",
       "      <td>17.4</td>\n",
       "      <td>16.6</td>\n",
       "      <td>19.8</td>\n",
       "    </tr>\n",
       "    <tr>\n",
       "      <th>87.5</th>\n",
       "      <td>15.6</td>\n",
       "      <td>10.6</td>\n",
       "      <td>9.9</td>\n",
       "      <td>8.6</td>\n",
       "      <td>10.8</td>\n",
       "      <td>9.1</td>\n",
       "      <td>12</td>\n",
       "      <td>12.3</td>\n",
       "      <td>10.3</td>\n",
       "      <td>10.8</td>\n",
       "      <td>6.6</td>\n",
       "      <td>11.3</td>\n",
       "      <td>18.4</td>\n",
       "      <td>10.2</td>\n",
       "      <td>14.6</td>\n",
       "    </tr>\n",
       "  </tbody>\n",
       "</table>\n",
       "</div>"
      ],
      "text/plain": [
       "      1995  1996  1997  1998  1999  2000  2001  2002  2006  2012  2003  2004  \\\n",
       "0.0    1.5  13.9  10.3  15.0     7  12.5  12.5   6.8   4.2   5.7   9.9   6.2   \n",
       "12.5  11.9  11.9  14.3  18.3  12.5    12    15  10.6  16.3   6.8  17.4  13.2   \n",
       "25.0  17.9  17.6  14.5  16.6  14.1  15.8  14.4  11.8  17.8    12  16.7  14.4   \n",
       "37.5  16.8  14.5  12.5  13.1    13  16.4  12.1    21  14.7  15.3  13.4  12.8   \n",
       "50.0  13.4    14  10.2   9.7  10.9  12.1   9.7  15.2  11.3  15.5  14.3  15.0   \n",
       "62.5  10.1   9.3  14.3  12.2  15.9  14.7  13.4  10.4  17.1  16.7  11.5  13.4   \n",
       "75.0  12.8   8.2    14   6.5  15.8   7.4  10.9  11.9   8.3  17.2  10.2  13.7   \n",
       "87.5  15.6  10.6   9.9   8.6  10.8   9.1    12  12.3  10.3  10.8   6.6  11.3   \n",
       "\n",
       "      2005  2007  2008  \n",
       "0.0    3.2   2.6   1.5  \n",
       "12.5   8.8  11.8   8.4  \n",
       "25.0  11.3  14.8  12.2  \n",
       "37.5  11.3  13.6  12.3  \n",
       "50.0  14.8  11.3    11  \n",
       "62.5  14.8  19.1  20.2  \n",
       "75.0  17.4  16.6  19.8  \n",
       "87.5  18.4  10.2  14.6  "
      ]
     },
     "execution_count": 21,
     "metadata": {},
     "output_type": "execute_result"
    }
   ],
   "source": [
    "income_structure.iloc[:, :15]"
   ]
  },
  {
   "cell_type": "code",
   "execution_count": 22,
   "id": "6f34c702-9dbd-4fdf-b5ee-bd596dae6826",
   "metadata": {},
   "outputs": [
    {
     "data": {
      "text/html": [
       "<div>\n",
       "<style scoped>\n",
       "    .dataframe tbody tr th:only-of-type {\n",
       "        vertical-align: middle;\n",
       "    }\n",
       "\n",
       "    .dataframe tbody tr th {\n",
       "        vertical-align: top;\n",
       "    }\n",
       "\n",
       "    .dataframe thead th {\n",
       "        text-align: right;\n",
       "    }\n",
       "</style>\n",
       "<table border=\"1\" class=\"dataframe\">\n",
       "  <thead>\n",
       "    <tr style=\"text-align: right;\">\n",
       "      <th></th>\n",
       "      <th>2009</th>\n",
       "      <th>2010</th>\n",
       "      <th>2011</th>\n",
       "      <th>2013</th>\n",
       "      <th>2014</th>\n",
       "      <th>2015</th>\n",
       "      <th>2016</th>\n",
       "      <th>2017</th>\n",
       "      <th>2018</th>\n",
       "      <th>2019</th>\n",
       "      <th>2020</th>\n",
       "      <th>2021</th>\n",
       "      <th>2022</th>\n",
       "    </tr>\n",
       "  </thead>\n",
       "  <tbody>\n",
       "    <tr>\n",
       "      <th>0.0</th>\n",
       "      <td>5.3</td>\n",
       "      <td>3.8</td>\n",
       "      <td>2.8</td>\n",
       "      <td>9.8</td>\n",
       "      <td>8.2</td>\n",
       "      <td>6.2</td>\n",
       "      <td>5.9</td>\n",
       "      <td>5.4</td>\n",
       "      <td>5.0</td>\n",
       "      <td>4.1</td>\n",
       "      <td>3.5</td>\n",
       "      <td>2.7</td>\n",
       "      <td>1.4</td>\n",
       "    </tr>\n",
       "    <tr>\n",
       "      <th>12.5</th>\n",
       "      <td>7.0</td>\n",
       "      <td>5.6</td>\n",
       "      <td>4.5</td>\n",
       "      <td>10.5</td>\n",
       "      <td>9.5</td>\n",
       "      <td>8.0</td>\n",
       "      <td>7.8</td>\n",
       "      <td>7.3</td>\n",
       "      <td>6.8</td>\n",
       "      <td>6.0</td>\n",
       "      <td>5.6</td>\n",
       "      <td>4.5</td>\n",
       "      <td>3</td>\n",
       "    </tr>\n",
       "    <tr>\n",
       "      <th>25.0</th>\n",
       "      <td>10.9</td>\n",
       "      <td>9.4</td>\n",
       "      <td>8.1</td>\n",
       "      <td>14.3</td>\n",
       "      <td>13.5</td>\n",
       "      <td>12.3</td>\n",
       "      <td>12</td>\n",
       "      <td>11.5</td>\n",
       "      <td>11.0</td>\n",
       "      <td>10.1</td>\n",
       "      <td>9.6</td>\n",
       "      <td>8.3</td>\n",
       "      <td>6.2</td>\n",
       "    </tr>\n",
       "    <tr>\n",
       "      <th>37.5</th>\n",
       "      <td>15.9</td>\n",
       "      <td>14.6</td>\n",
       "      <td>13.4</td>\n",
       "      <td>15.3</td>\n",
       "      <td>15.1</td>\n",
       "      <td>14.5</td>\n",
       "      <td>14.3</td>\n",
       "      <td>14.1</td>\n",
       "      <td>13.6</td>\n",
       "      <td>13.0</td>\n",
       "      <td>12.8</td>\n",
       "      <td>11.5</td>\n",
       "      <td>9.7</td>\n",
       "    </tr>\n",
       "    <tr>\n",
       "      <th>50.0</th>\n",
       "      <td>20.4</td>\n",
       "      <td>20.2</td>\n",
       "      <td>19.8</td>\n",
       "      <td>17.5</td>\n",
       "      <td>17.9</td>\n",
       "      <td>18.2</td>\n",
       "      <td>18.2</td>\n",
       "      <td>18.2</td>\n",
       "      <td>18.0</td>\n",
       "      <td>17.8</td>\n",
       "      <td>17.9</td>\n",
       "      <td>17.1</td>\n",
       "      <td>16.1</td>\n",
       "    </tr>\n",
       "    <tr>\n",
       "      <th>62.5</th>\n",
       "      <td>21.9</td>\n",
       "      <td>23.5</td>\n",
       "      <td>24.8</td>\n",
       "      <td>19.3</td>\n",
       "      <td>20.6</td>\n",
       "      <td>22.4</td>\n",
       "      <td>22.8</td>\n",
       "      <td>23.3</td>\n",
       "      <td>23.7</td>\n",
       "      <td>24.6</td>\n",
       "      <td>25.3</td>\n",
       "      <td>25.9</td>\n",
       "      <td>27.4</td>\n",
       "    </tr>\n",
       "    <tr>\n",
       "      <th>75.0</th>\n",
       "      <td>9.3</td>\n",
       "      <td>10.8</td>\n",
       "      <td>12.1</td>\n",
       "      <td>6.4</td>\n",
       "      <td>7.2</td>\n",
       "      <td>8.3</td>\n",
       "      <td>8.5</td>\n",
       "      <td>8.9</td>\n",
       "      <td>9.4</td>\n",
       "      <td>10.2</td>\n",
       "      <td>10.6</td>\n",
       "      <td>11.7</td>\n",
       "      <td>13.5</td>\n",
       "    </tr>\n",
       "    <tr>\n",
       "      <th>87.5</th>\n",
       "      <td>9.3</td>\n",
       "      <td>12.1</td>\n",
       "      <td>14.5</td>\n",
       "      <td>6.9</td>\n",
       "      <td>8.0</td>\n",
       "      <td>10.1</td>\n",
       "      <td>10.5</td>\n",
       "      <td>11.3</td>\n",
       "      <td>12.5</td>\n",
       "      <td>14.2</td>\n",
       "      <td>14.7</td>\n",
       "      <td>18.3</td>\n",
       "      <td>22.7</td>\n",
       "    </tr>\n",
       "  </tbody>\n",
       "</table>\n",
       "</div>"
      ],
      "text/plain": [
       "      2009  2010  2011  2013  2014  2015  2016  2017  2018  2019  2020  2021  \\\n",
       "0.0    5.3   3.8   2.8   9.8   8.2   6.2   5.9   5.4   5.0   4.1   3.5   2.7   \n",
       "12.5   7.0   5.6   4.5  10.5   9.5   8.0   7.8   7.3   6.8   6.0   5.6   4.5   \n",
       "25.0  10.9   9.4   8.1  14.3  13.5  12.3    12  11.5  11.0  10.1   9.6   8.3   \n",
       "37.5  15.9  14.6  13.4  15.3  15.1  14.5  14.3  14.1  13.6  13.0  12.8  11.5   \n",
       "50.0  20.4  20.2  19.8  17.5  17.9  18.2  18.2  18.2  18.0  17.8  17.9  17.1   \n",
       "62.5  21.9  23.5  24.8  19.3  20.6  22.4  22.8  23.3  23.7  24.6  25.3  25.9   \n",
       "75.0   9.3  10.8  12.1   6.4   7.2   8.3   8.5   8.9   9.4  10.2  10.6  11.7   \n",
       "87.5   9.3  12.1  14.5   6.9   8.0  10.1  10.5  11.3  12.5  14.2  14.7  18.3   \n",
       "\n",
       "      2022  \n",
       "0.0    1.4  \n",
       "12.5     3  \n",
       "25.0   6.2  \n",
       "37.5   9.7  \n",
       "50.0  16.1  \n",
       "62.5  27.4  \n",
       "75.0  13.5  \n",
       "87.5  22.7  "
      ]
     },
     "execution_count": 22,
     "metadata": {},
     "output_type": "execute_result"
    }
   ],
   "source": [
    "income_structure.iloc[:, 15:]"
   ]
  },
  {
   "cell_type": "markdown",
   "id": "803ea3b5-83de-4ad1-a8fb-edeb218a20a5",
   "metadata": {},
   "source": [
    "##### <font color='#2A5899'> Final Results: Income Structure </font>"
   ]
  },
  {
   "cell_type": "code",
   "execution_count": 23,
   "id": "91242e7b-8a7d-41af-b4f0-9136e3242b64",
   "metadata": {},
   "outputs": [
    {
     "data": {
      "text/html": [
       "<div>\n",
       "<style scoped>\n",
       "    .dataframe tbody tr th:only-of-type {\n",
       "        vertical-align: middle;\n",
       "    }\n",
       "\n",
       "    .dataframe tbody tr th {\n",
       "        vertical-align: top;\n",
       "    }\n",
       "\n",
       "    .dataframe thead th {\n",
       "        text-align: right;\n",
       "    }\n",
       "</style>\n",
       "<table border=\"1\" class=\"dataframe\">\n",
       "  <thead>\n",
       "    <tr style=\"text-align: right;\">\n",
       "      <th></th>\n",
       "      <th>1995</th>\n",
       "      <th>1996</th>\n",
       "      <th>1997</th>\n",
       "      <th>1998</th>\n",
       "      <th>1999</th>\n",
       "      <th>2000</th>\n",
       "      <th>2001</th>\n",
       "      <th>2002</th>\n",
       "      <th>2006</th>\n",
       "      <th>2012</th>\n",
       "      <th>...</th>\n",
       "      <th>2013</th>\n",
       "      <th>2014</th>\n",
       "      <th>2015</th>\n",
       "      <th>2016</th>\n",
       "      <th>2017</th>\n",
       "      <th>2018</th>\n",
       "      <th>2019</th>\n",
       "      <th>2020</th>\n",
       "      <th>2021</th>\n",
       "      <th>2022</th>\n",
       "    </tr>\n",
       "  </thead>\n",
       "  <tbody>\n",
       "    <tr>\n",
       "      <th>0.0</th>\n",
       "      <td>1.5</td>\n",
       "      <td>13.9</td>\n",
       "      <td>10.3</td>\n",
       "      <td>15.0</td>\n",
       "      <td>7</td>\n",
       "      <td>12.5</td>\n",
       "      <td>12.5</td>\n",
       "      <td>6.8</td>\n",
       "      <td>4.2</td>\n",
       "      <td>5.7</td>\n",
       "      <td>...</td>\n",
       "      <td>9.8</td>\n",
       "      <td>8.2</td>\n",
       "      <td>6.2</td>\n",
       "      <td>5.9</td>\n",
       "      <td>5.4</td>\n",
       "      <td>5.0</td>\n",
       "      <td>4.1</td>\n",
       "      <td>3.5</td>\n",
       "      <td>2.7</td>\n",
       "      <td>1.4</td>\n",
       "    </tr>\n",
       "    <tr>\n",
       "      <th>12.5</th>\n",
       "      <td>11.9</td>\n",
       "      <td>11.9</td>\n",
       "      <td>14.3</td>\n",
       "      <td>18.3</td>\n",
       "      <td>12.5</td>\n",
       "      <td>12</td>\n",
       "      <td>15</td>\n",
       "      <td>10.6</td>\n",
       "      <td>16.3</td>\n",
       "      <td>6.8</td>\n",
       "      <td>...</td>\n",
       "      <td>10.5</td>\n",
       "      <td>9.5</td>\n",
       "      <td>8.0</td>\n",
       "      <td>7.8</td>\n",
       "      <td>7.3</td>\n",
       "      <td>6.8</td>\n",
       "      <td>6.0</td>\n",
       "      <td>5.6</td>\n",
       "      <td>4.5</td>\n",
       "      <td>3</td>\n",
       "    </tr>\n",
       "    <tr>\n",
       "      <th>25.0</th>\n",
       "      <td>17.9</td>\n",
       "      <td>17.6</td>\n",
       "      <td>14.5</td>\n",
       "      <td>16.6</td>\n",
       "      <td>14.1</td>\n",
       "      <td>15.8</td>\n",
       "      <td>14.4</td>\n",
       "      <td>11.8</td>\n",
       "      <td>17.8</td>\n",
       "      <td>12</td>\n",
       "      <td>...</td>\n",
       "      <td>14.3</td>\n",
       "      <td>13.5</td>\n",
       "      <td>12.3</td>\n",
       "      <td>12</td>\n",
       "      <td>11.5</td>\n",
       "      <td>11.0</td>\n",
       "      <td>10.1</td>\n",
       "      <td>9.6</td>\n",
       "      <td>8.3</td>\n",
       "      <td>6.2</td>\n",
       "    </tr>\n",
       "    <tr>\n",
       "      <th>37.5</th>\n",
       "      <td>16.8</td>\n",
       "      <td>14.5</td>\n",
       "      <td>12.5</td>\n",
       "      <td>13.1</td>\n",
       "      <td>13</td>\n",
       "      <td>16.4</td>\n",
       "      <td>12.1</td>\n",
       "      <td>21</td>\n",
       "      <td>14.7</td>\n",
       "      <td>15.3</td>\n",
       "      <td>...</td>\n",
       "      <td>15.3</td>\n",
       "      <td>15.1</td>\n",
       "      <td>14.5</td>\n",
       "      <td>14.3</td>\n",
       "      <td>14.1</td>\n",
       "      <td>13.6</td>\n",
       "      <td>13.0</td>\n",
       "      <td>12.8</td>\n",
       "      <td>11.5</td>\n",
       "      <td>9.7</td>\n",
       "    </tr>\n",
       "    <tr>\n",
       "      <th>50.0</th>\n",
       "      <td>13.4</td>\n",
       "      <td>14</td>\n",
       "      <td>10.2</td>\n",
       "      <td>9.7</td>\n",
       "      <td>10.9</td>\n",
       "      <td>12.1</td>\n",
       "      <td>9.7</td>\n",
       "      <td>15.2</td>\n",
       "      <td>11.3</td>\n",
       "      <td>15.5</td>\n",
       "      <td>...</td>\n",
       "      <td>17.5</td>\n",
       "      <td>17.9</td>\n",
       "      <td>18.2</td>\n",
       "      <td>18.2</td>\n",
       "      <td>18.2</td>\n",
       "      <td>18.0</td>\n",
       "      <td>17.8</td>\n",
       "      <td>17.9</td>\n",
       "      <td>17.1</td>\n",
       "      <td>16.1</td>\n",
       "    </tr>\n",
       "    <tr>\n",
       "      <th>62.5</th>\n",
       "      <td>10.1</td>\n",
       "      <td>9.3</td>\n",
       "      <td>14.3</td>\n",
       "      <td>12.2</td>\n",
       "      <td>15.9</td>\n",
       "      <td>14.7</td>\n",
       "      <td>13.4</td>\n",
       "      <td>10.4</td>\n",
       "      <td>17.1</td>\n",
       "      <td>16.7</td>\n",
       "      <td>...</td>\n",
       "      <td>19.3</td>\n",
       "      <td>20.6</td>\n",
       "      <td>22.4</td>\n",
       "      <td>22.8</td>\n",
       "      <td>23.3</td>\n",
       "      <td>23.7</td>\n",
       "      <td>24.6</td>\n",
       "      <td>25.3</td>\n",
       "      <td>25.9</td>\n",
       "      <td>27.4</td>\n",
       "    </tr>\n",
       "    <tr>\n",
       "      <th>75.0</th>\n",
       "      <td>12.8</td>\n",
       "      <td>8.2</td>\n",
       "      <td>14</td>\n",
       "      <td>6.5</td>\n",
       "      <td>15.8</td>\n",
       "      <td>7.4</td>\n",
       "      <td>10.9</td>\n",
       "      <td>11.9</td>\n",
       "      <td>8.3</td>\n",
       "      <td>17.2</td>\n",
       "      <td>...</td>\n",
       "      <td>6.4</td>\n",
       "      <td>7.2</td>\n",
       "      <td>8.3</td>\n",
       "      <td>8.5</td>\n",
       "      <td>8.9</td>\n",
       "      <td>9.4</td>\n",
       "      <td>10.2</td>\n",
       "      <td>10.6</td>\n",
       "      <td>11.7</td>\n",
       "      <td>13.5</td>\n",
       "    </tr>\n",
       "    <tr>\n",
       "      <th>87.5</th>\n",
       "      <td>15.6</td>\n",
       "      <td>10.6</td>\n",
       "      <td>9.9</td>\n",
       "      <td>8.6</td>\n",
       "      <td>10.8</td>\n",
       "      <td>9.1</td>\n",
       "      <td>12</td>\n",
       "      <td>12.3</td>\n",
       "      <td>10.3</td>\n",
       "      <td>10.8</td>\n",
       "      <td>...</td>\n",
       "      <td>6.9</td>\n",
       "      <td>8.0</td>\n",
       "      <td>10.1</td>\n",
       "      <td>10.5</td>\n",
       "      <td>11.3</td>\n",
       "      <td>12.5</td>\n",
       "      <td>14.2</td>\n",
       "      <td>14.7</td>\n",
       "      <td>18.3</td>\n",
       "      <td>22.7</td>\n",
       "    </tr>\n",
       "  </tbody>\n",
       "</table>\n",
       "<p>8 rows × 28 columns</p>\n",
       "</div>"
      ],
      "text/plain": [
       "      1995  1996  1997  1998  1999  2000  2001  2002  2006  2012  ...  2013  \\\n",
       "0.0    1.5  13.9  10.3  15.0     7  12.5  12.5   6.8   4.2   5.7  ...   9.8   \n",
       "12.5  11.9  11.9  14.3  18.3  12.5    12    15  10.6  16.3   6.8  ...  10.5   \n",
       "25.0  17.9  17.6  14.5  16.6  14.1  15.8  14.4  11.8  17.8    12  ...  14.3   \n",
       "37.5  16.8  14.5  12.5  13.1    13  16.4  12.1    21  14.7  15.3  ...  15.3   \n",
       "50.0  13.4    14  10.2   9.7  10.9  12.1   9.7  15.2  11.3  15.5  ...  17.5   \n",
       "62.5  10.1   9.3  14.3  12.2  15.9  14.7  13.4  10.4  17.1  16.7  ...  19.3   \n",
       "75.0  12.8   8.2    14   6.5  15.8   7.4  10.9  11.9   8.3  17.2  ...   6.4   \n",
       "87.5  15.6  10.6   9.9   8.6  10.8   9.1    12  12.3  10.3  10.8  ...   6.9   \n",
       "\n",
       "      2014  2015  2016  2017  2018  2019  2020  2021  2022  \n",
       "0.0    8.2   6.2   5.9   5.4   5.0   4.1   3.5   2.7   1.4  \n",
       "12.5   9.5   8.0   7.8   7.3   6.8   6.0   5.6   4.5     3  \n",
       "25.0  13.5  12.3    12  11.5  11.0  10.1   9.6   8.3   6.2  \n",
       "37.5  15.1  14.5  14.3  14.1  13.6  13.0  12.8  11.5   9.7  \n",
       "50.0  17.9  18.2  18.2  18.2  18.0  17.8  17.9  17.1  16.1  \n",
       "62.5  20.6  22.4  22.8  23.3  23.7  24.6  25.3  25.9  27.4  \n",
       "75.0   7.2   8.3   8.5   8.9   9.4  10.2  10.6  11.7  13.5  \n",
       "87.5   8.0  10.1  10.5  11.3  12.5  14.2  14.7  18.3  22.7  \n",
       "\n",
       "[8 rows x 28 columns]"
      ]
     },
     "execution_count": 23,
     "metadata": {},
     "output_type": "execute_result"
    }
   ],
   "source": [
    "income_structure"
   ]
  },
  {
   "cell_type": "code",
   "execution_count": 24,
   "id": "86f6dea5-d347-48b8-bda0-5d5df10e66fe",
   "metadata": {},
   "outputs": [],
   "source": [
    "dta = income_structure.iloc[-1]"
   ]
  },
  {
   "cell_type": "code",
   "execution_count": 25,
   "id": "eebf0103-dbff-4cfd-a278-7385f5693842",
   "metadata": {},
   "outputs": [
    {
     "data": {
      "text/plain": [
       "1995    15.6\n",
       "1996    10.6\n",
       "1997     9.9\n",
       "1998     8.6\n",
       "1999    10.8\n",
       "Name: 87.5, dtype: object"
      ]
     },
     "execution_count": 25,
     "metadata": {},
     "output_type": "execute_result"
    }
   ],
   "source": [
    "dta.head()"
   ]
  },
  {
   "cell_type": "code",
   "execution_count": 26,
   "id": "f90662d9-3c97-490b-8936-39caa43f676a",
   "metadata": {},
   "outputs": [
    {
     "data": {
      "text/plain": [
       "<Axes: ylabel='87.5'>"
      ]
     },
     "execution_count": 26,
     "metadata": {},
     "output_type": "execute_result"
    },
    {
     "data": {
      "image/png": "[encoded data removed]",
      "text/plain": [
       "<Figure size 1100x300 with 1 Axes>"
      ]
     },
     "metadata": {},
     "output_type": "display_data"
    }
   ],
   "source": [
    "plt.figure(figsize=(11,3))\n",
    "sns.barplot(dta)"
   ]
  },
  {
   "cell_type": "code",
   "execution_count": 27,
   "id": "83d0027d-386a-4ef1-8ce5-b7ce2a92331d",
   "metadata": {},
   "outputs": [
    {
     "data": {
      "text/plain": [
       "<Axes: ylabel='87.5'>"
      ]
     },
     "execution_count": 27,
     "metadata": {},
     "output_type": "execute_result"
    },
    {
     "data": {
      "image/png": "[encoded data removed]",
      "text/plain": [
       "<Figure size 1100x300 with 1 Axes>"
      ]
     },
     "metadata": {},
     "output_type": "display_data"
    }
   ],
   "source": [
    "plt.figure(figsize=(11, 3))\n",
    "sns.lineplot(dta)"
   ]
  },
  {
   "cell_type": "markdown",
   "id": "ed354818-1567-421a-9cf1-118f91355a11",
   "metadata": {},
   "source": [
    "##### <font color='#AF4035'> Export Dataset to Excel"
   ]
  },
  {
   "cell_type": "code",
   "execution_count": 28,
   "id": "1e75127c-bc7e-424c-b933-0580f2007aef",
   "metadata": {},
   "outputs": [
    {
     "name": "stdout",
     "output_type": "stream",
     "text": [
      "'Распределение доходов' sheet created if file '010203-SOL-Income-structure.xlsx'\n"
     ]
    }
   ],
   "source": [
    "saveit_excel(\n",
    "    data=income_structure,\n",
    "    filename=dir,\n",
    "    path=save_excel,\n",
    "    sheet='Распределение доходов'\n",
    ")"
   ]
  },
  {
   "cell_type": "markdown",
   "id": "1a7b647f-4d8f-4f70-926c-7a87681472d5",
   "metadata": {},
   "source": [
    "### 5.2. Распределение общего объема денежных доходов по 20-ти процентным группам населения"
   ]
  },
  {
   "cell_type": "markdown",
   "id": "8d7da097-b05d-47de-8708-877aaf4afedc",
   "metadata": {},
   "source": [
    "*Источник: https://rosstat.gov.ru/folder/13397*  \n",
    "*Единицы измерения: проценты*\n",
    "\n",
    "*Примечания:*"
   ]
  },
  {
   "cell_type": "markdown",
   "id": "fcad92a4-8df5-487c-ab5e-162677cfb33b",
   "metadata": {},
   "source": [
    "##### Data"
   ]
  },
  {
   "cell_type": "code",
   "execution_count": 29,
   "id": "2613fa03-0f76-4582-a15c-5475859b5acb",
   "metadata": {},
   "outputs": [],
   "source": [
    "income_structure_perc_link = \\\n",
    "    ('data/02-Population/02-Standard-of-living/03-Income-structure/'\n",
    "     'Urov_32.xlsx')"
   ]
  },
  {
   "cell_type": "code",
   "execution_count": 30,
   "id": "610f8987-7753-4bcc-969e-ed4f981b07b3",
   "metadata": {},
   "outputs": [],
   "source": [
    "income_structure_perc = pd.read_excel(income_structure_perc_link, sheet_name='РФ 1992-2022')"
   ]
  },
  {
   "cell_type": "code",
   "execution_count": 31,
   "id": "ca86d132-51d4-4912-a253-cee6e3ede33b",
   "metadata": {},
   "outputs": [],
   "source": [
    "income_structure_perc_names = [\n",
    "    'Год', '-', 'Первая', 'Вторая', 'Третья', 'Четвертая', 'Пятая', '-', '-'\n",
    "]"
   ]
  },
  {
   "cell_type": "code",
   "execution_count": 32,
   "id": "3dacaec5-ca5b-48dc-8738-07113a5cdb10",
   "metadata": {},
   "outputs": [],
   "source": [
    "income_structure_perc.columns = income_structure_perc_names"
   ]
  },
  {
   "cell_type": "code",
   "execution_count": 33,
   "id": "ffa25f4c-5418-47c4-b8b8-1e2f74077efb",
   "metadata": {},
   "outputs": [],
   "source": [
    "income_structure_perc = transform_cut_rows(income_structure_perc, 2, 6)"
   ]
  },
  {
   "cell_type": "code",
   "execution_count": 34,
   "id": "1b7d727f-e04f-44a5-b8ce-9cfaff990179",
   "metadata": {},
   "outputs": [],
   "source": [
    "income_structure_perc = income_structure_perc.drop('-', axis=1)"
   ]
  },
  {
   "cell_type": "code",
   "execution_count": 35,
   "id": "81ca3a42-dacb-4705-ae6e-3b3819a84587",
   "metadata": {},
   "outputs": [],
   "source": [
    "income_structure_perc['Год'] = \\\n",
    "    income_structure_perc['Год'].apply(lambda x: transform_replace(x, '1)', ''))"
   ]
  },
  {
   "cell_type": "code",
   "execution_count": 36,
   "id": "892dedb3-6565-4061-a7b9-92d8a10e4422",
   "metadata": {},
   "outputs": [
    {
     "data": {
      "text/html": [
       "<div>\n",
       "<style scoped>\n",
       "    .dataframe tbody tr th:only-of-type {\n",
       "        vertical-align: middle;\n",
       "    }\n",
       "\n",
       "    .dataframe tbody tr th {\n",
       "        vertical-align: top;\n",
       "    }\n",
       "\n",
       "    .dataframe thead th {\n",
       "        text-align: right;\n",
       "    }\n",
       "</style>\n",
       "<table border=\"1\" class=\"dataframe\">\n",
       "  <thead>\n",
       "    <tr style=\"text-align: right;\">\n",
       "      <th></th>\n",
       "      <th>Год</th>\n",
       "      <th>Первая</th>\n",
       "      <th>Вторая</th>\n",
       "      <th>Третья</th>\n",
       "      <th>Четвертая</th>\n",
       "      <th>Пятая</th>\n",
       "    </tr>\n",
       "  </thead>\n",
       "  <tbody>\n",
       "    <tr>\n",
       "      <th>2</th>\n",
       "      <td>1992</td>\n",
       "      <td>6</td>\n",
       "      <td>11.6</td>\n",
       "      <td>17.6</td>\n",
       "      <td>26.5</td>\n",
       "      <td>38.3</td>\n",
       "    </tr>\n",
       "    <tr>\n",
       "      <th>3</th>\n",
       "      <td>1993</td>\n",
       "      <td>5.1</td>\n",
       "      <td>9.4</td>\n",
       "      <td>14.9</td>\n",
       "      <td>23.8</td>\n",
       "      <td>46.8</td>\n",
       "    </tr>\n",
       "    <tr>\n",
       "      <th>4</th>\n",
       "      <td>1994</td>\n",
       "      <td>5.4</td>\n",
       "      <td>10.1</td>\n",
       "      <td>15.1</td>\n",
       "      <td>22.7</td>\n",
       "      <td>46.7</td>\n",
       "    </tr>\n",
       "    <tr>\n",
       "      <th>5</th>\n",
       "      <td>1995</td>\n",
       "      <td>6.1</td>\n",
       "      <td>10.8</td>\n",
       "      <td>15.2</td>\n",
       "      <td>21.6</td>\n",
       "      <td>46.3</td>\n",
       "    </tr>\n",
       "    <tr>\n",
       "      <th>6</th>\n",
       "      <td>1996</td>\n",
       "      <td>6.1</td>\n",
       "      <td>10.7</td>\n",
       "      <td>15.2</td>\n",
       "      <td>21.6</td>\n",
       "      <td>46.4</td>\n",
       "    </tr>\n",
       "  </tbody>\n",
       "</table>\n",
       "</div>"
      ],
      "text/plain": [
       "    Год Первая Вторая Третья Четвертая Пятая\n",
       "2  1992      6   11.6   17.6      26.5  38.3\n",
       "3  1993    5.1    9.4   14.9      23.8  46.8\n",
       "4  1994    5.4   10.1   15.1      22.7  46.7\n",
       "5  1995    6.1   10.8   15.2      21.6  46.3\n",
       "6  1996    6.1   10.7   15.2      21.6  46.4"
      ]
     },
     "execution_count": 36,
     "metadata": {},
     "output_type": "execute_result"
    }
   ],
   "source": [
    "income_structure_perc.head()"
   ]
  },
  {
   "cell_type": "code",
   "execution_count": 40,
   "id": "a7f6f45a-a444-480b-855d-b1a6550aab71",
   "metadata": {},
   "outputs": [
    {
     "data": {
      "image/png": "[encoded data removed]",
      "text/plain": [
       "<Figure size 1300x300 with 1 Axes>"
      ]
     },
     "metadata": {},
     "output_type": "display_data"
    },
    {
     "name": "stdout",
     "output_type": "stream",
     "text": [
      "\n",
      "File successfully saved into 'analytics/visualization/'\n"
     ]
    }
   ],
   "source": [
    "alpha = 0.35\n",
    "color = 1\n",
    "group_list = ['Первая', 'Вторая', 'Третья', 'Четвертая', 'Пятая']\n",
    "xticks = income_structure_perc['Год'].astype(int)\n",
    "fig = plt.figure(figsize=(13, 3))\n",
    "for i in range(len(group_list)-1):\n",
    "    plt.fill_between(\n",
    "        x=xticks,\n",
    "        y1=income_structure_perc[group_list[i]].astype(float),\n",
    "        y2=income_structure_perc[group_list[i+1]].astype(float),\n",
    "        lw=0,\n",
    "        color=palette[-color],\n",
    "        alpha=alpha\n",
    "    )\n",
    "    plt.xticks(xticks, xticks)\n",
    "    plt.grid(False)\n",
    "    # plt.gca().xaxis.grid(True, color=palette[-1], alpha=0.75)\n",
    "    alpha +=0.1\n",
    "    color +=1\n",
    "plt.axvline(x=1997, ymin=0, ymax=0.915, lw=1, alpha=0.35, color=palette[1])\n",
    "plt.axvline(x=1999, ymin=0, ymax=0.945, lw=1, alpha=0.35, color=palette[1])\n",
    "plt.axvline(x=2001, ymin=0, ymax=0.910, lw=1, alpha=0.35, color=palette[1])\n",
    "plt.axvline(x=2007, ymin=0, ymax=0.950, lw=1, alpha=0.35, color=palette[1])\n",
    "plt.show()\n",
    "\n",
    "savefig('Income five groups 5.1', dir=save_plot_dir, dpi=300)"
   ]
  },
  {
   "cell_type": "markdown",
   "id": "5fc3c3c0-95be-4cb6-a3e3-582e70745533",
   "metadata": {},
   "source": [
    "##### <font color='#AF4035'> Export Dataset to Excel"
   ]
  },
  {
   "cell_type": "code",
   "execution_count": 38,
   "id": "97650a62-e71f-4986-9a0f-c147352ab413",
   "metadata": {},
   "outputs": [
    {
     "name": "stdout",
     "output_type": "stream",
     "text": [
      "'Распределение доходов (20%)' sheet created if file '010203-SOL-Income-structure.xlsx'\n"
     ]
    }
   ],
   "source": [
    "saveit_excel(\n",
    "    data=income_structure_perc,\n",
    "    filename=dir,\n",
    "    path=save_excel,\n",
    "    sheet='Распределение доходов (20%)'\n",
    ")"
   ]
  },
  {
   "cell_type": "markdown",
   "id": "ab16cc57-767f-4e8b-b3fe-7aeb74f927d0",
   "metadata": {},
   "source": [
    "### Save Dataset"
   ]
  },
  {
   "cell_type": "code",
   "execution_count": 39,
   "id": "0de5b67c-0151-441d-83c6-035b17d4b8cf",
   "metadata": {},
   "outputs": [],
   "source": [
    "economics_data['5.1'] = income_structure"
   ]
  },
  {
   "cell_type": "code",
   "execution_count": 40,
   "id": "a47eb5f3-5732-4974-947f-2a6787c5a22a",
   "metadata": {},
   "outputs": [],
   "source": [
    "economics_data['5.2'] = income_structure_perc"
   ]
  },
  {
   "cell_type": "code",
   "execution_count": 41,
   "id": "881b0824-e6e9-4547-9f82-dcc065dca05c",
   "metadata": {},
   "outputs": [
    {
     "name": "stdout",
     "output_type": "stream",
     "text": [
      "File 'economics_data' saved in directory 'data/00-Datasets/'\n"
     ]
    }
   ],
   "source": [
    "saveit(\n",
    "    file=economics_data,\n",
    "    name='economics_data',\n",
    "    dir=save_df\n",
    ")"
   ]
  },
  {
   "cell_type": "markdown",
   "id": "0123bad7-7723-40a6-9261-244bb24d29b3",
   "metadata": {},
   "source": [
    "### Save Session"
   ]
  },
  {
   "cell_type": "code",
   "execution_count": 42,
   "id": "c5b4b2ab-6607-4166-82fd-1f419be07115",
   "metadata": {},
   "outputs": [],
   "source": [
    "save_session(dir)"
   ]
  },
  {
   "cell_type": "markdown",
   "id": "4f576727-2c81-448c-9623-e88e98c4b6b3",
   "metadata": {},
   "source": [
    "### Execution time"
   ]
  },
  {
   "cell_type": "code",
   "execution_count": 43,
   "id": "d7490d8a-1a10-4e60-b451-6755f4a7d540",
   "metadata": {},
   "outputs": [
    {
     "name": "stdout",
     "output_type": "stream",
     "text": [
      "Execution time: 0:00:17\n"
     ]
    }
   ],
   "source": [
    "print(f'Execution time: {stopwatch.stop(start)}')"
   ]
  }
 ],
 "metadata": {
  "kernelspec": {
   "display_name": "economy-rus",
   "language": "python",
   "name": "economy-rus"
  },
  "language_info": {
   "codemirror_mode": {
    "name": "ipython",
    "version": 3
   },
   "file_extension": ".py",
   "mimetype": "text/x-python",
   "name": "python",
   "nbconvert_exporter": "python",
   "pygments_lexer": "ipython3",
   "version": "3.12.3"
  }
 },
 "nbformat": 4,
 "nbformat_minor": 5
}
