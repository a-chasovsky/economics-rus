{
 "cells": [
  {
   "cell_type": "code",
   "execution_count": 1,
   "id": "3c560329-258e-4f9c-bedb-a21b88f12541",
   "metadata": {},
   "outputs": [],
   "source": [
    "# run stopwatch\n",
    "from _classes import Stopwatch\n",
    "stopwatch = Stopwatch()\n",
    "start = stopwatch.start()"
   ]
  },
  {
   "cell_type": "markdown",
   "id": "8f9041cd-475c-46dd-b61d-367ba2caaefd",
   "metadata": {
    "jp-MarkdownHeadingCollapsed": true
   },
   "source": [
    "### Load Saved Section if exists"
   ]
  },
  {
   "cell_type": "raw",
   "id": "847bb7b5-5264-484c-bcb4-b28fdd52d92e",
   "metadata": {},
   "source": [
    "if os.path.exists(f'sessions/{dir}'):\n",
    "    load_session(dir)\n",
    "else:\n",
    "    print(f\"No such session: 'sessions/{dir}'\")"
   ]
  },
  {
   "cell_type": "markdown",
   "id": "f642784a-0e68-4719-821a-c78067ca000b",
   "metadata": {},
   "source": [
    "### Load libraries, functions, palette, theme"
   ]
  },
  {
   "cell_type": "code",
   "execution_count": 2,
   "id": "7f1eee03-294b-46e4-814d-ed7905bf7593",
   "metadata": {},
   "outputs": [],
   "source": [
    "%run _load.ipynb"
   ]
  },
  {
   "cell_type": "code",
   "execution_count": 3,
   "id": "95a3c30e-16bd-4e41-a7cc-d7a0edda70e2",
   "metadata": {},
   "outputs": [],
   "source": [
    "economics_data = loadit(\n",
    "    'economics_data', 'data/00-Datasets/'\n",
    ")"
   ]
  },
  {
   "cell_type": "code",
   "execution_count": 4,
   "id": "b33f9d7e-3183-4b40-8b52-ec00c0526b3b",
   "metadata": {},
   "outputs": [],
   "source": [
    "dir = '007.4.1-007.4.2_SOL-Households-food'"
   ]
  },
  {
   "cell_type": "code",
   "execution_count": 5,
   "id": "ef22909a-17ce-46d9-9dd4-1e65589bfb3c",
   "metadata": {},
   "outputs": [],
   "source": [
    "save_df = 'data/00-Datasets/'"
   ]
  },
  {
   "cell_type": "code",
   "execution_count": 6,
   "id": "977fd4b1-ee00-4c64-b926-4c4af5fe6fd9",
   "metadata": {},
   "outputs": [],
   "source": [
    "save_excel = 'data/00-Excel-data/'"
   ]
  },
  {
   "cell_type": "markdown",
   "id": "2a49c3d7-7839-4d4e-8cfa-ade641a55644",
   "metadata": {},
   "source": [
    "# <font color='#2C8B6D'>I. Население</font>"
   ]
  },
  {
   "cell_type": "markdown",
   "id": "d9ac40c1-1de2-42b6-8f86-b6e4f96c0f10",
   "metadata": {},
   "source": [
    "# Section III. Уровень жизни"
   ]
  },
  {
   "cell_type": "markdown",
   "id": "13ccc087-516f-463f-8698-241362acce3e",
   "metadata": {},
   "source": [
    "## 7. Доходы, расходы и условия проживания домашних хозяйств"
   ]
  },
  {
   "cell_type": "markdown",
   "id": "09ceab1c-0147-425e-ab8f-268c38fb0e46",
   "metadata": {},
   "source": [
    "### 7.4. Потребление продуктов питания в домашних хозяйствах, пищевая и энергетическая ценность продуктов питания в домашних хозяйствах"
   ]
  },
  {
   "cell_type": "markdown",
   "id": "31189e0e-68ca-4db4-9dc0-fa9bad1a27dc",
   "metadata": {},
   "source": [
    "*Источник: https://rosstat.gov.ru/folder/13397*  \n",
    "*Единицы измерения: кг*\n",
    "\n",
    "*Примечания:*  \n",
    "- *в среднем на потребителя в год*\n",
    "- *пищевая ценность: гр в сутки*\n",
    "- *энергетическая ценность: ккал в сутки*"
   ]
  },
  {
   "cell_type": "code",
   "execution_count": 7,
   "id": "3d4172e7-41ae-4642-bd1f-30e985720c3c",
   "metadata": {},
   "outputs": [],
   "source": [
    "food_link = \\\n",
    "    ('data/02-Population/02-Standard-of-living/05-Households/'\n",
    "     'potr07_12.xlsx')"
   ]
  },
  {
   "cell_type": "code",
   "execution_count": 8,
   "id": "9380e588-8d0a-4cf7-ae93-583a9a73ebe6",
   "metadata": {},
   "outputs": [],
   "source": [
    "food_raw = pd.read_excel(food_link)"
   ]
  },
  {
   "cell_type": "code",
   "execution_count": 9,
   "id": "48db8598-8d07-4ba5-a233-2079b0fb847c",
   "metadata": {},
   "outputs": [
    {
     "data": {
      "text/html": [
       "<div>\n",
       "<style scoped>\n",
       "    .dataframe tbody tr th:only-of-type {\n",
       "        vertical-align: middle;\n",
       "    }\n",
       "\n",
       "    .dataframe tbody tr th {\n",
       "        vertical-align: top;\n",
       "    }\n",
       "\n",
       "    .dataframe thead th {\n",
       "        text-align: right;\n",
       "    }\n",
       "</style>\n",
       "<table border=\"1\" class=\"dataframe\">\n",
       "  <thead>\n",
       "    <tr style=\"text-align: right;\">\n",
       "      <th></th>\n",
       "      <th>Обновлено 08.08.2023</th>\n",
       "      <th>Unnamed: 1</th>\n",
       "      <th>Unnamed: 2</th>\n",
       "      <th>Unnamed: 3</th>\n",
       "      <th>Unnamed: 4</th>\n",
       "      <th>Unnamed: 5</th>\n",
       "      <th>Unnamed: 6</th>\n",
       "      <th>Unnamed: 7</th>\n",
       "      <th>Unnamed: 8</th>\n",
       "      <th>Unnamed: 9</th>\n",
       "      <th>...</th>\n",
       "      <th>Unnamed: 11</th>\n",
       "      <th>Unnamed: 12</th>\n",
       "      <th>Unnamed: 13</th>\n",
       "      <th>Unnamed: 14</th>\n",
       "      <th>Unnamed: 15</th>\n",
       "      <th>Unnamed: 16</th>\n",
       "      <th>Unnamed: 17</th>\n",
       "      <th>Unnamed: 18</th>\n",
       "      <th>Unnamed: 19</th>\n",
       "      <th>Unnamed: 20</th>\n",
       "    </tr>\n",
       "  </thead>\n",
       "  <tbody>\n",
       "    <tr>\n",
       "      <th>0</th>\n",
       "      <td>Потребление продуктов питания в домашних хозяй...</td>\n",
       "      <td>NaN</td>\n",
       "      <td>NaN</td>\n",
       "      <td>NaN</td>\n",
       "      <td>NaN</td>\n",
       "      <td>NaN</td>\n",
       "      <td>NaN</td>\n",
       "      <td>NaN</td>\n",
       "      <td>NaN</td>\n",
       "      <td>NaN</td>\n",
       "      <td>...</td>\n",
       "      <td>NaN</td>\n",
       "      <td>NaN</td>\n",
       "      <td>NaN</td>\n",
       "      <td>NaN</td>\n",
       "      <td>NaN</td>\n",
       "      <td>NaN</td>\n",
       "      <td>NaN</td>\n",
       "      <td>NaN</td>\n",
       "      <td>NaN</td>\n",
       "      <td>NaN</td>\n",
       "    </tr>\n",
       "    <tr>\n",
       "      <th>1</th>\n",
       "      <td>NaN</td>\n",
       "      <td>NaN</td>\n",
       "      <td>NaN</td>\n",
       "      <td>NaN</td>\n",
       "      <td>NaN</td>\n",
       "      <td>NaN</td>\n",
       "      <td>NaN</td>\n",
       "      <td>NaN</td>\n",
       "      <td>NaN</td>\n",
       "      <td>NaN</td>\n",
       "      <td>...</td>\n",
       "      <td>NaN</td>\n",
       "      <td>NaN</td>\n",
       "      <td>NaN</td>\n",
       "      <td>NaN</td>\n",
       "      <td>NaN</td>\n",
       "      <td>NaN</td>\n",
       "      <td>NaN</td>\n",
       "      <td>NaN</td>\n",
       "      <td>NaN</td>\n",
       "      <td>NaN</td>\n",
       "    </tr>\n",
       "    <tr>\n",
       "      <th>2</th>\n",
       "      <td>ПОТРЕБЛЕНИЕ, ПИЩЕВАЯ И ЭНЕРГЕТИЧЕСКАЯ ЦЕННОСТЬ...</td>\n",
       "      <td>NaN</td>\n",
       "      <td>NaN</td>\n",
       "      <td>NaN</td>\n",
       "      <td>NaN</td>\n",
       "      <td>NaN</td>\n",
       "      <td>NaN</td>\n",
       "      <td>NaN</td>\n",
       "      <td>NaN</td>\n",
       "      <td>NaN</td>\n",
       "      <td>...</td>\n",
       "      <td>NaN</td>\n",
       "      <td>NaN</td>\n",
       "      <td>NaN</td>\n",
       "      <td>NaN</td>\n",
       "      <td>NaN</td>\n",
       "      <td>NaN</td>\n",
       "      <td>NaN</td>\n",
       "      <td>NaN</td>\n",
       "      <td>NaN</td>\n",
       "      <td>NaN</td>\n",
       "    </tr>\n",
       "    <tr>\n",
       "      <th>3</th>\n",
       "      <td>ПИТАНИЯ В ДОМАШНИХ ХОЗЯЙСТВАХ</td>\n",
       "      <td>NaN</td>\n",
       "      <td>NaN</td>\n",
       "      <td>NaN</td>\n",
       "      <td>NaN</td>\n",
       "      <td>NaN</td>\n",
       "      <td>NaN</td>\n",
       "      <td>NaN</td>\n",
       "      <td>NaN</td>\n",
       "      <td>NaN</td>\n",
       "      <td>...</td>\n",
       "      <td>NaN</td>\n",
       "      <td>NaN</td>\n",
       "      <td>NaN</td>\n",
       "      <td>NaN</td>\n",
       "      <td>NaN</td>\n",
       "      <td>NaN</td>\n",
       "      <td>NaN</td>\n",
       "      <td>NaN</td>\n",
       "      <td>NaN</td>\n",
       "      <td>NaN</td>\n",
       "    </tr>\n",
       "    <tr>\n",
       "      <th>4</th>\n",
       "      <td>(в среднем на члена домашнего хозяйcтва)</td>\n",
       "      <td>NaN</td>\n",
       "      <td>NaN</td>\n",
       "      <td>NaN</td>\n",
       "      <td>NaN</td>\n",
       "      <td>NaN</td>\n",
       "      <td>NaN</td>\n",
       "      <td>NaN</td>\n",
       "      <td>NaN</td>\n",
       "      <td>NaN</td>\n",
       "      <td>...</td>\n",
       "      <td>NaN</td>\n",
       "      <td>NaN</td>\n",
       "      <td>NaN</td>\n",
       "      <td>NaN</td>\n",
       "      <td>NaN</td>\n",
       "      <td>NaN</td>\n",
       "      <td>NaN</td>\n",
       "      <td>NaN</td>\n",
       "      <td>NaN</td>\n",
       "      <td>NaN</td>\n",
       "    </tr>\n",
       "    <tr>\n",
       "      <th>5</th>\n",
       "      <td>NaN</td>\n",
       "      <td>NaN</td>\n",
       "      <td>NaN</td>\n",
       "      <td>NaN</td>\n",
       "      <td>NaN</td>\n",
       "      <td>NaN</td>\n",
       "      <td>NaN</td>\n",
       "      <td>NaN</td>\n",
       "      <td>NaN</td>\n",
       "      <td>NaN</td>\n",
       "      <td>...</td>\n",
       "      <td>NaN</td>\n",
       "      <td>NaN</td>\n",
       "      <td>NaN</td>\n",
       "      <td>NaN</td>\n",
       "      <td>NaN</td>\n",
       "      <td>NaN</td>\n",
       "      <td>NaN</td>\n",
       "      <td>NaN</td>\n",
       "      <td>NaN</td>\n",
       "      <td>NaN</td>\n",
       "    </tr>\n",
       "    <tr>\n",
       "      <th>6</th>\n",
       "      <td>NaN</td>\n",
       "      <td>2003.0</td>\n",
       "      <td>2004.0</td>\n",
       "      <td>2005.0</td>\n",
       "      <td>2006.0</td>\n",
       "      <td>2007.0</td>\n",
       "      <td>2008.0</td>\n",
       "      <td>2009.0</td>\n",
       "      <td>2010.0</td>\n",
       "      <td>2011.0</td>\n",
       "      <td>...</td>\n",
       "      <td>2013.0</td>\n",
       "      <td>2014.0</td>\n",
       "      <td>2015.0</td>\n",
       "      <td>2016.0</td>\n",
       "      <td>2017.0</td>\n",
       "      <td>2018.0</td>\n",
       "      <td>2019.0</td>\n",
       "      <td>2020.0</td>\n",
       "      <td>2021.000</td>\n",
       "      <td>2022.000</td>\n",
       "    </tr>\n",
       "    <tr>\n",
       "      <th>7</th>\n",
       "      <td>Все домашние хозяйства</td>\n",
       "      <td>NaN</td>\n",
       "      <td>NaN</td>\n",
       "      <td>NaN</td>\n",
       "      <td>NaN</td>\n",
       "      <td>NaN</td>\n",
       "      <td>NaN</td>\n",
       "      <td>NaN</td>\n",
       "      <td>NaN</td>\n",
       "      <td>NaN</td>\n",
       "      <td>...</td>\n",
       "      <td>NaN</td>\n",
       "      <td>NaN</td>\n",
       "      <td>NaN</td>\n",
       "      <td>NaN</td>\n",
       "      <td>NaN</td>\n",
       "      <td>NaN</td>\n",
       "      <td>NaN</td>\n",
       "      <td>NaN</td>\n",
       "      <td>NaN</td>\n",
       "      <td>NaN</td>\n",
       "    </tr>\n",
       "    <tr>\n",
       "      <th>8</th>\n",
       "      <td>Основные продукты питания</td>\n",
       "      <td>NaN</td>\n",
       "      <td>NaN</td>\n",
       "      <td>NaN</td>\n",
       "      <td>NaN</td>\n",
       "      <td>NaN</td>\n",
       "      <td>NaN</td>\n",
       "      <td>NaN</td>\n",
       "      <td>NaN</td>\n",
       "      <td>NaN</td>\n",
       "      <td>...</td>\n",
       "      <td>NaN</td>\n",
       "      <td>NaN</td>\n",
       "      <td>NaN</td>\n",
       "      <td>NaN</td>\n",
       "      <td>NaN</td>\n",
       "      <td>NaN</td>\n",
       "      <td>NaN</td>\n",
       "      <td>NaN</td>\n",
       "      <td>NaN</td>\n",
       "      <td>NaN</td>\n",
       "    </tr>\n",
       "    <tr>\n",
       "      <th>9</th>\n",
       "      <td>хлебные продукты</td>\n",
       "      <td>109.0</td>\n",
       "      <td>106.0</td>\n",
       "      <td>113.0</td>\n",
       "      <td>107.0</td>\n",
       "      <td>104.0</td>\n",
       "      <td>101.0</td>\n",
       "      <td>99.0</td>\n",
       "      <td>101.0</td>\n",
       "      <td>99.0</td>\n",
       "      <td>...</td>\n",
       "      <td>96.0</td>\n",
       "      <td>95.0</td>\n",
       "      <td>95.0</td>\n",
       "      <td>99.0</td>\n",
       "      <td>97.0</td>\n",
       "      <td>96.0</td>\n",
       "      <td>95.0</td>\n",
       "      <td>96.0</td>\n",
       "      <td>90.149</td>\n",
       "      <td>90.305</td>\n",
       "    </tr>\n",
       "  </tbody>\n",
       "</table>\n",
       "<p>10 rows × 21 columns</p>\n",
       "</div>"
      ],
      "text/plain": [
       "                                Обновлено 08.08.2023  Unnamed: 1  Unnamed: 2  \\\n",
       "0  Потребление продуктов питания в домашних хозяй...         NaN         NaN   \n",
       "1                                                NaN         NaN         NaN   \n",
       "2  ПОТРЕБЛЕНИЕ, ПИЩЕВАЯ И ЭНЕРГЕТИЧЕСКАЯ ЦЕННОСТЬ...         NaN         NaN   \n",
       "3                      ПИТАНИЯ В ДОМАШНИХ ХОЗЯЙСТВАХ         NaN         NaN   \n",
       "4           (в среднем на члена домашнего хозяйcтва)         NaN         NaN   \n",
       "5                                                NaN         NaN         NaN   \n",
       "6                                                NaN      2003.0      2004.0   \n",
       "7                             Все домашние хозяйства         NaN         NaN   \n",
       "8                          Основные продукты питания         NaN         NaN   \n",
       "9                                  хлебные продукты        109.0       106.0   \n",
       "\n",
       "   Unnamed: 3  Unnamed: 4  Unnamed: 5  Unnamed: 6  Unnamed: 7  Unnamed: 8  \\\n",
       "0         NaN         NaN         NaN         NaN         NaN         NaN   \n",
       "1         NaN         NaN         NaN         NaN         NaN         NaN   \n",
       "2         NaN         NaN         NaN         NaN         NaN         NaN   \n",
       "3         NaN         NaN         NaN         NaN         NaN         NaN   \n",
       "4         NaN         NaN         NaN         NaN         NaN         NaN   \n",
       "5         NaN         NaN         NaN         NaN         NaN         NaN   \n",
       "6      2005.0      2006.0      2007.0      2008.0      2009.0      2010.0   \n",
       "7         NaN         NaN         NaN         NaN         NaN         NaN   \n",
       "8         NaN         NaN         NaN         NaN         NaN         NaN   \n",
       "9       113.0       107.0       104.0       101.0        99.0       101.0   \n",
       "\n",
       "   Unnamed: 9  ...  Unnamed: 11  Unnamed: 12  Unnamed: 13  Unnamed: 14  \\\n",
       "0         NaN  ...          NaN          NaN          NaN          NaN   \n",
       "1         NaN  ...          NaN          NaN          NaN          NaN   \n",
       "2         NaN  ...          NaN          NaN          NaN          NaN   \n",
       "3         NaN  ...          NaN          NaN          NaN          NaN   \n",
       "4         NaN  ...          NaN          NaN          NaN          NaN   \n",
       "5         NaN  ...          NaN          NaN          NaN          NaN   \n",
       "6      2011.0  ...       2013.0       2014.0       2015.0       2016.0   \n",
       "7         NaN  ...          NaN          NaN          NaN          NaN   \n",
       "8         NaN  ...          NaN          NaN          NaN          NaN   \n",
       "9        99.0  ...         96.0         95.0         95.0         99.0   \n",
       "\n",
       "   Unnamed: 15  Unnamed: 16  Unnamed: 17  Unnamed: 18  Unnamed: 19  \\\n",
       "0          NaN          NaN          NaN          NaN          NaN   \n",
       "1          NaN          NaN          NaN          NaN          NaN   \n",
       "2          NaN          NaN          NaN          NaN          NaN   \n",
       "3          NaN          NaN          NaN          NaN          NaN   \n",
       "4          NaN          NaN          NaN          NaN          NaN   \n",
       "5          NaN          NaN          NaN          NaN          NaN   \n",
       "6       2017.0       2018.0       2019.0       2020.0     2021.000   \n",
       "7          NaN          NaN          NaN          NaN          NaN   \n",
       "8          NaN          NaN          NaN          NaN          NaN   \n",
       "9         97.0         96.0         95.0         96.0       90.149   \n",
       "\n",
       "   Unnamed: 20  \n",
       "0          NaN  \n",
       "1          NaN  \n",
       "2          NaN  \n",
       "3          NaN  \n",
       "4          NaN  \n",
       "5          NaN  \n",
       "6     2022.000  \n",
       "7          NaN  \n",
       "8          NaN  \n",
       "9       90.305  \n",
       "\n",
       "[10 rows x 21 columns]"
      ]
     },
     "execution_count": 9,
     "metadata": {},
     "output_type": "execute_result"
    }
   ],
   "source": [
    "food_raw.head(10)"
   ]
  },
  {
   "cell_type": "code",
   "execution_count": 10,
   "id": "687113d8-8c7c-4a86-ad96-645b6fd2cd49",
   "metadata": {},
   "outputs": [],
   "source": [
    "food = food_raw.iloc[6:, :].copy()"
   ]
  },
  {
   "cell_type": "code",
   "execution_count": 11,
   "id": "77a3d7a6-559a-49c2-bb83-653f28f36cb2",
   "metadata": {},
   "outputs": [],
   "source": [
    "food.iloc[0, 0] = 'Тип'"
   ]
  },
  {
   "cell_type": "code",
   "execution_count": 12,
   "id": "48fb1ef8-64c2-4a60-aa44-bb6319a37649",
   "metadata": {},
   "outputs": [],
   "source": [
    "# make header from two rows\n",
    "food = transform_make_header_from_rows(\n",
    "    food, rows_index=6)"
   ]
  },
  {
   "cell_type": "code",
   "execution_count": 13,
   "id": "89c04100-98e4-4b5e-8b88-d524338af8c9",
   "metadata": {},
   "outputs": [],
   "source": [
    "replace_dict = {\n",
    "    '\\xa0\\xa0\\xa0': '',\n",
    "    'белки': 'Белки',\n",
    "    'жиры': 'Жиры',\n",
    "    'углеводы': 'Углеводы',\n",
    "    ', шт.': ''\n",
    "}\n",
    "food['Тип'] = food['Тип'].replace(replace_dict, regex=True)"
   ]
  },
  {
   "cell_type": "code",
   "execution_count": 14,
   "id": "03ff705a-acca-4ac6-b42a-de84e7ae00d2",
   "metadata": {},
   "outputs": [],
   "source": [
    "food['Тип'] = [i.strip() for i in food['Тип']]"
   ]
  },
  {
   "cell_type": "code",
   "execution_count": 15,
   "id": "21d547ef-4027-427b-b106-8f7a03418698",
   "metadata": {},
   "outputs": [],
   "source": [
    "food['index'] = food['Тип'].copy()"
   ]
  },
  {
   "cell_type": "code",
   "execution_count": 16,
   "id": "87b57aeb-5b74-44ca-9400-cc8643d9ba9e",
   "metadata": {},
   "outputs": [],
   "source": [
    "stay_index_list = [\n",
    "    'Все домашние хозяйства',\n",
    "    'Домашние хозяйства в городской местности',\n",
    "    'Домашние хозяйства в сельской местности'\n",
    "]\n",
    "for index in food.index:\n",
    "    if food.loc[index, 'index'] not in stay_index_list:\n",
    "        food.loc[index, 'index'] = np.NaN"
   ]
  },
  {
   "cell_type": "code",
   "execution_count": 17,
   "id": "6d684b6f-58b3-479a-8230-54472ae3af2f",
   "metadata": {},
   "outputs": [],
   "source": [
    "food = transform_fill_values_by_previous(\n",
    "    data=food, kind='column', column_name='index')"
   ]
  },
  {
   "cell_type": "code",
   "execution_count": 18,
   "id": "f8fe4bbe-799a-41d1-86f5-5afd463dec2d",
   "metadata": {},
   "outputs": [],
   "source": [
    "food = food[~food['Тип'].isin(stay_index_list)]"
   ]
  },
  {
   "cell_type": "code",
   "execution_count": 19,
   "id": "cdc226f5-8f8d-4e74-958f-03d532db72fb",
   "metadata": {},
   "outputs": [],
   "source": [
    "calories_list = [\n",
    "    'Пищевая ценность', 'Энергетическая ценность',\n",
    "    'Белки', 'Жиры', 'Углеводы'\n",
    "]\n",
    "calories = food[food['Тип'].isin(calories_list)]"
   ]
  },
  {
   "cell_type": "code",
   "execution_count": 20,
   "id": "65102a87-821b-40ce-bc9b-fe1aaedf9a92",
   "metadata": {},
   "outputs": [],
   "source": [
    "food = food[~food['Тип'].isin(calories_list)]"
   ]
  },
  {
   "cell_type": "code",
   "execution_count": 21,
   "id": "a20c392b-8d4b-4aff-9de1-2d116b7219a4",
   "metadata": {},
   "outputs": [],
   "source": [
    "drop_list = ['Основные продукты питания']\n",
    "food = food[~food['Тип'].isin(drop_list)]"
   ]
  },
  {
   "cell_type": "code",
   "execution_count": 22,
   "id": "05114857-50b5-48b6-90db-d291cf7222a8",
   "metadata": {},
   "outputs": [],
   "source": [
    "food = food.T.copy()"
   ]
  },
  {
   "cell_type": "code",
   "execution_count": 23,
   "id": "ac9289bf-136b-4880-8288-09953b237ba4",
   "metadata": {},
   "outputs": [],
   "source": [
    "# make header from two rows\n",
    "food = transform_make_header_from_rows(\n",
    "    food, rows_index=['index', 'Тип'], names=['', ''])"
   ]
  },
  {
   "cell_type": "code",
   "execution_count": 24,
   "id": "5b2a08af-c83e-47bc-84ca-73c434e108d9",
   "metadata": {},
   "outputs": [],
   "source": [
    "food.index.name = None\n",
    "food.columns.name = None\n",
    "food.index = [int(i) if not isinstance(i, str) else i for i in food.index]"
   ]
  },
  {
   "cell_type": "code",
   "execution_count": 25,
   "id": "ea0113f4-e766-4c94-b781-1e119cf07a7b",
   "metadata": {},
   "outputs": [],
   "source": [
    "food = food.astype(float)"
   ]
  },
  {
   "cell_type": "code",
   "execution_count": 26,
   "id": "6fd2ad98-c187-49e8-a5ab-f05a7d2a441c",
   "metadata": {},
   "outputs": [],
   "source": [
    "food = transform_round(food, 1)"
   ]
  },
  {
   "cell_type": "code",
   "execution_count": 27,
   "id": "072ec09b-6bcc-407e-a575-a25b14b1ba36",
   "metadata": {},
   "outputs": [],
   "source": [
    "calories = calories.rename(columns={'Тип': 'index1'})"
   ]
  },
  {
   "cell_type": "code",
   "execution_count": 28,
   "id": "fc9b1ad1-de60-4cda-b124-0717df72ba6b",
   "metadata": {},
   "outputs": [],
   "source": [
    "calories_index_list = ['Пищевая ценность']\n",
    "calories = calories[~calories['index1'].isin(calories_index_list)]"
   ]
  },
  {
   "cell_type": "code",
   "execution_count": 29,
   "id": "b7a23172-19d6-4810-b25c-f4853e4733e3",
   "metadata": {},
   "outputs": [],
   "source": [
    "calories = calories.T.copy()"
   ]
  },
  {
   "cell_type": "code",
   "execution_count": 30,
   "id": "c453f39c-727b-48c3-b7a1-30a3bbd6354e",
   "metadata": {},
   "outputs": [],
   "source": [
    "# make header from two rows\n",
    "calories = transform_make_header_from_rows(\n",
    "    calories, rows_index=['index', 'index1'], names=[None, None])"
   ]
  },
  {
   "cell_type": "code",
   "execution_count": 31,
   "id": "dd7b11a5-1629-4188-bbaf-0fd3f6d4f714",
   "metadata": {},
   "outputs": [],
   "source": [
    "calories.index.name = None\n",
    "calories.columns.name = None\n",
    "calories.index = [int(i) if not isinstance(i, str) else i for i in calories.index]"
   ]
  },
  {
   "cell_type": "code",
   "execution_count": 32,
   "id": "26ddbdc6-ccdd-422a-a286-e58dc273152a",
   "metadata": {},
   "outputs": [],
   "source": [
    "calories = calories.astype(float)"
   ]
  },
  {
   "cell_type": "code",
   "execution_count": 33,
   "id": "e4ba23f4-3588-44ab-bc92-fe41db49d22f",
   "metadata": {},
   "outputs": [],
   "source": [
    "calories = transform_round(calories, 1)"
   ]
  },
  {
   "cell_type": "code",
   "execution_count": 34,
   "id": "24871389-7b08-41ba-a95f-7d797caee495",
   "metadata": {},
   "outputs": [
    {
     "name": "stdout",
     "output_type": "stream",
     "text": [
      "There're no NaN values in DataFrame\n"
     ]
    }
   ],
   "source": [
    "isna(food)"
   ]
  },
  {
   "cell_type": "code",
   "execution_count": 35,
   "id": "b87479f9-fd3b-40b3-a028-492601460016",
   "metadata": {},
   "outputs": [
    {
     "name": "stdout",
     "output_type": "stream",
     "text": [
      "There're no NaN values in DataFrame\n"
     ]
    }
   ],
   "source": [
    "isna(calories)"
   ]
  },
  {
   "cell_type": "code",
   "execution_count": 36,
   "id": "50332ff6-cdeb-4054-b4c1-74a831dc237b",
   "metadata": {},
   "outputs": [
    {
     "data": {
      "text/html": [
       "<div>\n",
       "<style scoped>\n",
       "    .dataframe tbody tr th:only-of-type {\n",
       "        vertical-align: middle;\n",
       "    }\n",
       "\n",
       "    .dataframe tbody tr th {\n",
       "        vertical-align: top;\n",
       "    }\n",
       "\n",
       "    .dataframe thead tr th {\n",
       "        text-align: left;\n",
       "    }\n",
       "</style>\n",
       "<table border=\"1\" class=\"dataframe\">\n",
       "  <thead>\n",
       "    <tr>\n",
       "      <th></th>\n",
       "      <th colspan=\"10\" halign=\"left\">Все домашние хозяйства</th>\n",
       "      <th>...</th>\n",
       "      <th colspan=\"10\" halign=\"left\">Домашние хозяйства в сельской местности</th>\n",
       "    </tr>\n",
       "    <tr>\n",
       "      <th></th>\n",
       "      <th>хлебные продукты</th>\n",
       "      <th>картофель</th>\n",
       "      <th>овощи и бахчевые</th>\n",
       "      <th>фрукты, ягоды</th>\n",
       "      <th>мясо и мясопродукты</th>\n",
       "      <th>молоко и молочные продукты</th>\n",
       "      <th>яйца</th>\n",
       "      <th>рыба и рыбопродукты</th>\n",
       "      <th>сахар и кондитерские изделия</th>\n",
       "      <th>масло растительное и другие Жиры</th>\n",
       "      <th>...</th>\n",
       "      <th>хлебные продукты</th>\n",
       "      <th>картофель</th>\n",
       "      <th>овощи и бахчевые</th>\n",
       "      <th>фрукты, ягоды</th>\n",
       "      <th>мясо и мясопродукты</th>\n",
       "      <th>молоко и молочные продукты</th>\n",
       "      <th>яйца</th>\n",
       "      <th>рыба и рыбопродукты</th>\n",
       "      <th>сахар и кондитерские изделия</th>\n",
       "      <th>масло растительное и другие Жиры</th>\n",
       "    </tr>\n",
       "  </thead>\n",
       "  <tbody>\n",
       "    <tr>\n",
       "      <th>2003</th>\n",
       "      <td>109.0</td>\n",
       "      <td>86.0</td>\n",
       "      <td>84.0</td>\n",
       "      <td>36.0</td>\n",
       "      <td>61.0</td>\n",
       "      <td>225.0</td>\n",
       "      <td>208.0</td>\n",
       "      <td>14.0</td>\n",
       "      <td>26.0</td>\n",
       "      <td>10.0</td>\n",
       "      <td>...</td>\n",
       "      <td>134.0</td>\n",
       "      <td>107.0</td>\n",
       "      <td>86.0</td>\n",
       "      <td>29.0</td>\n",
       "      <td>55.0</td>\n",
       "      <td>229.0</td>\n",
       "      <td>189.0</td>\n",
       "      <td>14.0</td>\n",
       "      <td>30.0</td>\n",
       "      <td>10.0</td>\n",
       "    </tr>\n",
       "    <tr>\n",
       "      <th>2004</th>\n",
       "      <td>106.0</td>\n",
       "      <td>86.0</td>\n",
       "      <td>86.0</td>\n",
       "      <td>39.0</td>\n",
       "      <td>61.0</td>\n",
       "      <td>227.0</td>\n",
       "      <td>202.0</td>\n",
       "      <td>15.0</td>\n",
       "      <td>26.0</td>\n",
       "      <td>10.0</td>\n",
       "      <td>...</td>\n",
       "      <td>133.0</td>\n",
       "      <td>103.0</td>\n",
       "      <td>88.0</td>\n",
       "      <td>30.0</td>\n",
       "      <td>55.0</td>\n",
       "      <td>223.0</td>\n",
       "      <td>182.0</td>\n",
       "      <td>15.0</td>\n",
       "      <td>30.0</td>\n",
       "      <td>10.0</td>\n",
       "    </tr>\n",
       "    <tr>\n",
       "      <th>2005</th>\n",
       "      <td>113.0</td>\n",
       "      <td>78.0</td>\n",
       "      <td>90.0</td>\n",
       "      <td>51.0</td>\n",
       "      <td>64.0</td>\n",
       "      <td>244.0</td>\n",
       "      <td>209.0</td>\n",
       "      <td>17.0</td>\n",
       "      <td>34.0</td>\n",
       "      <td>11.0</td>\n",
       "      <td>...</td>\n",
       "      <td>136.0</td>\n",
       "      <td>101.0</td>\n",
       "      <td>95.0</td>\n",
       "      <td>38.0</td>\n",
       "      <td>56.0</td>\n",
       "      <td>231.0</td>\n",
       "      <td>185.0</td>\n",
       "      <td>17.0</td>\n",
       "      <td>39.0</td>\n",
       "      <td>12.0</td>\n",
       "    </tr>\n",
       "    <tr>\n",
       "      <th>2006</th>\n",
       "      <td>107.0</td>\n",
       "      <td>73.0</td>\n",
       "      <td>88.0</td>\n",
       "      <td>53.0</td>\n",
       "      <td>67.0</td>\n",
       "      <td>244.0</td>\n",
       "      <td>206.0</td>\n",
       "      <td>17.0</td>\n",
       "      <td>32.0</td>\n",
       "      <td>11.0</td>\n",
       "      <td>...</td>\n",
       "      <td>130.0</td>\n",
       "      <td>92.0</td>\n",
       "      <td>92.0</td>\n",
       "      <td>40.0</td>\n",
       "      <td>59.0</td>\n",
       "      <td>233.0</td>\n",
       "      <td>184.0</td>\n",
       "      <td>17.0</td>\n",
       "      <td>37.0</td>\n",
       "      <td>11.0</td>\n",
       "    </tr>\n",
       "    <tr>\n",
       "      <th>2007</th>\n",
       "      <td>104.0</td>\n",
       "      <td>72.0</td>\n",
       "      <td>89.0</td>\n",
       "      <td>58.0</td>\n",
       "      <td>71.0</td>\n",
       "      <td>246.0</td>\n",
       "      <td>204.0</td>\n",
       "      <td>18.0</td>\n",
       "      <td>32.0</td>\n",
       "      <td>11.0</td>\n",
       "      <td>...</td>\n",
       "      <td>126.0</td>\n",
       "      <td>87.0</td>\n",
       "      <td>91.0</td>\n",
       "      <td>45.0</td>\n",
       "      <td>63.0</td>\n",
       "      <td>233.0</td>\n",
       "      <td>189.0</td>\n",
       "      <td>18.0</td>\n",
       "      <td>37.0</td>\n",
       "      <td>11.0</td>\n",
       "    </tr>\n",
       "  </tbody>\n",
       "</table>\n",
       "<p>5 rows × 30 columns</p>\n",
       "</div>"
      ],
      "text/plain": [
       "     Все домашние хозяйства                                           \\\n",
       "           хлебные продукты картофель овощи и бахчевые фрукты, ягоды   \n",
       "2003                  109.0      86.0             84.0          36.0   \n",
       "2004                  106.0      86.0             86.0          39.0   \n",
       "2005                  113.0      78.0             90.0          51.0   \n",
       "2006                  107.0      73.0             88.0          53.0   \n",
       "2007                  104.0      72.0             89.0          58.0   \n",
       "\n",
       "                                                            \\\n",
       "     мясо и мясопродукты молоко и молочные продукты   яйца   \n",
       "2003                61.0                      225.0  208.0   \n",
       "2004                61.0                      227.0  202.0   \n",
       "2005                64.0                      244.0  209.0   \n",
       "2006                67.0                      244.0  206.0   \n",
       "2007                71.0                      246.0  204.0   \n",
       "\n",
       "                                                       \\\n",
       "     рыба и рыбопродукты сахар и кондитерские изделия   \n",
       "2003                14.0                         26.0   \n",
       "2004                15.0                         26.0   \n",
       "2005                17.0                         34.0   \n",
       "2006                17.0                         32.0   \n",
       "2007                18.0                         32.0   \n",
       "\n",
       "                                       ...  \\\n",
       "     масло растительное и другие Жиры  ...   \n",
       "2003                             10.0  ...   \n",
       "2004                             10.0  ...   \n",
       "2005                             11.0  ...   \n",
       "2006                             11.0  ...   \n",
       "2007                             11.0  ...   \n",
       "\n",
       "     Домашние хозяйства в сельской местности                             \\\n",
       "                            хлебные продукты картофель овощи и бахчевые   \n",
       "2003                                   134.0     107.0             86.0   \n",
       "2004                                   133.0     103.0             88.0   \n",
       "2005                                   136.0     101.0             95.0   \n",
       "2006                                   130.0      92.0             92.0   \n",
       "2007                                   126.0      87.0             91.0   \n",
       "\n",
       "                                                                          \\\n",
       "     фрукты, ягоды мясо и мясопродукты молоко и молочные продукты   яйца   \n",
       "2003          29.0                55.0                      229.0  189.0   \n",
       "2004          30.0                55.0                      223.0  182.0   \n",
       "2005          38.0                56.0                      231.0  185.0   \n",
       "2006          40.0                59.0                      233.0  184.0   \n",
       "2007          45.0                63.0                      233.0  189.0   \n",
       "\n",
       "                                                       \\\n",
       "     рыба и рыбопродукты сахар и кондитерские изделия   \n",
       "2003                14.0                         30.0   \n",
       "2004                15.0                         30.0   \n",
       "2005                17.0                         39.0   \n",
       "2006                17.0                         37.0   \n",
       "2007                18.0                         37.0   \n",
       "\n",
       "                                       \n",
       "     масло растительное и другие Жиры  \n",
       "2003                             10.0  \n",
       "2004                             10.0  \n",
       "2005                             12.0  \n",
       "2006                             11.0  \n",
       "2007                             11.0  \n",
       "\n",
       "[5 rows x 30 columns]"
      ]
     },
     "execution_count": 36,
     "metadata": {},
     "output_type": "execute_result"
    }
   ],
   "source": [
    "food.head()"
   ]
  },
  {
   "cell_type": "code",
   "execution_count": 37,
   "id": "e2cfb8a5-7086-4c7f-a2d4-a6bf2cf00304",
   "metadata": {},
   "outputs": [
    {
     "data": {
      "text/html": [
       "<div>\n",
       "<style scoped>\n",
       "    .dataframe tbody tr th:only-of-type {\n",
       "        vertical-align: middle;\n",
       "    }\n",
       "\n",
       "    .dataframe tbody tr th {\n",
       "        vertical-align: top;\n",
       "    }\n",
       "\n",
       "    .dataframe thead tr th {\n",
       "        text-align: left;\n",
       "    }\n",
       "</style>\n",
       "<table border=\"1\" class=\"dataframe\">\n",
       "  <thead>\n",
       "    <tr>\n",
       "      <th></th>\n",
       "      <th colspan=\"4\" halign=\"left\">Все домашние хозяйства</th>\n",
       "      <th colspan=\"4\" halign=\"left\">Домашние хозяйства в городской местности</th>\n",
       "      <th colspan=\"4\" halign=\"left\">Домашние хозяйства в сельской местности</th>\n",
       "    </tr>\n",
       "    <tr>\n",
       "      <th></th>\n",
       "      <th>Белки</th>\n",
       "      <th>Жиры</th>\n",
       "      <th>Углеводы</th>\n",
       "      <th>Энергетическая ценность</th>\n",
       "      <th>Белки</th>\n",
       "      <th>Жиры</th>\n",
       "      <th>Углеводы</th>\n",
       "      <th>Энергетическая ценность</th>\n",
       "      <th>Белки</th>\n",
       "      <th>Жиры</th>\n",
       "      <th>Углеводы</th>\n",
       "      <th>Энергетическая ценность</th>\n",
       "    </tr>\n",
       "  </thead>\n",
       "  <tbody>\n",
       "    <tr>\n",
       "      <th>2003</th>\n",
       "      <td>67.0</td>\n",
       "      <td>89.0</td>\n",
       "      <td>353.0</td>\n",
       "      <td>2488.0</td>\n",
       "      <td>65.0</td>\n",
       "      <td>89.0</td>\n",
       "      <td>329.0</td>\n",
       "      <td>2383.0</td>\n",
       "      <td>72.0</td>\n",
       "      <td>88.0</td>\n",
       "      <td>420.0</td>\n",
       "      <td>2773.0</td>\n",
       "    </tr>\n",
       "    <tr>\n",
       "      <th>2004</th>\n",
       "      <td>67.0</td>\n",
       "      <td>89.0</td>\n",
       "      <td>346.0</td>\n",
       "      <td>2458.0</td>\n",
       "      <td>65.0</td>\n",
       "      <td>89.0</td>\n",
       "      <td>323.0</td>\n",
       "      <td>2360.0</td>\n",
       "      <td>71.0</td>\n",
       "      <td>87.0</td>\n",
       "      <td>413.0</td>\n",
       "      <td>2731.0</td>\n",
       "    </tr>\n",
       "    <tr>\n",
       "      <th>2005</th>\n",
       "      <td>71.0</td>\n",
       "      <td>96.0</td>\n",
       "      <td>368.0</td>\n",
       "      <td>2630.0</td>\n",
       "      <td>70.0</td>\n",
       "      <td>96.0</td>\n",
       "      <td>345.0</td>\n",
       "      <td>2539.0</td>\n",
       "      <td>74.0</td>\n",
       "      <td>95.0</td>\n",
       "      <td>430.0</td>\n",
       "      <td>2876.0</td>\n",
       "    </tr>\n",
       "    <tr>\n",
       "      <th>2006</th>\n",
       "      <td>71.0</td>\n",
       "      <td>95.0</td>\n",
       "      <td>351.0</td>\n",
       "      <td>2554.0</td>\n",
       "      <td>70.0</td>\n",
       "      <td>96.0</td>\n",
       "      <td>329.0</td>\n",
       "      <td>2469.0</td>\n",
       "      <td>73.0</td>\n",
       "      <td>94.0</td>\n",
       "      <td>410.0</td>\n",
       "      <td>2785.0</td>\n",
       "    </tr>\n",
       "    <tr>\n",
       "      <th>2007</th>\n",
       "      <td>72.0</td>\n",
       "      <td>97.0</td>\n",
       "      <td>347.0</td>\n",
       "      <td>2564.0</td>\n",
       "      <td>71.0</td>\n",
       "      <td>98.0</td>\n",
       "      <td>327.0</td>\n",
       "      <td>2482.0</td>\n",
       "      <td>74.0</td>\n",
       "      <td>97.0</td>\n",
       "      <td>403.0</td>\n",
       "      <td>2786.0</td>\n",
       "    </tr>\n",
       "  </tbody>\n",
       "</table>\n",
       "</div>"
      ],
      "text/plain": [
       "     Все домашние хозяйства                                         \\\n",
       "                      Белки  Жиры Углеводы Энергетическая ценность   \n",
       "2003                   67.0  89.0    353.0                  2488.0   \n",
       "2004                   67.0  89.0    346.0                  2458.0   \n",
       "2005                   71.0  96.0    368.0                  2630.0   \n",
       "2006                   71.0  95.0    351.0                  2554.0   \n",
       "2007                   72.0  97.0    347.0                  2564.0   \n",
       "\n",
       "     Домашние хозяйства в городской местности                 \\\n",
       "                                        Белки  Жиры Углеводы   \n",
       "2003                                     65.0  89.0    329.0   \n",
       "2004                                     65.0  89.0    323.0   \n",
       "2005                                     70.0  96.0    345.0   \n",
       "2006                                     70.0  96.0    329.0   \n",
       "2007                                     71.0  98.0    327.0   \n",
       "\n",
       "                             Домашние хозяйства в сельской местности        \\\n",
       "     Энергетическая ценность                                   Белки  Жиры   \n",
       "2003                  2383.0                                    72.0  88.0   \n",
       "2004                  2360.0                                    71.0  87.0   \n",
       "2005                  2539.0                                    74.0  95.0   \n",
       "2006                  2469.0                                    73.0  94.0   \n",
       "2007                  2482.0                                    74.0  97.0   \n",
       "\n",
       "                                       \n",
       "     Углеводы Энергетическая ценность  \n",
       "2003    420.0                  2773.0  \n",
       "2004    413.0                  2731.0  \n",
       "2005    430.0                  2876.0  \n",
       "2006    410.0                  2785.0  \n",
       "2007    403.0                  2786.0  "
      ]
     },
     "execution_count": 37,
     "metadata": {},
     "output_type": "execute_result"
    }
   ],
   "source": [
    "calories.head()"
   ]
  },
  {
   "cell_type": "code",
   "execution_count": 38,
   "id": "3411ee48-da87-4e36-b0e5-fdd7ba41caa2",
   "metadata": {},
   "outputs": [
    {
     "data": {
      "text/html": [
       "<div>\n",
       "<style scoped>\n",
       "    .dataframe tbody tr th:only-of-type {\n",
       "        vertical-align: middle;\n",
       "    }\n",
       "\n",
       "    .dataframe tbody tr th {\n",
       "        vertical-align: top;\n",
       "    }\n",
       "\n",
       "    .dataframe thead th {\n",
       "        text-align: right;\n",
       "    }\n",
       "</style>\n",
       "<table border=\"1\" class=\"dataframe\">\n",
       "  <thead>\n",
       "    <tr style=\"text-align: right;\">\n",
       "      <th></th>\n",
       "      <th>Все домашние хозяйства</th>\n",
       "      <th>Домашние хозяйства в городской местности</th>\n",
       "      <th>Домашние хозяйства в сельской местности</th>\n",
       "    </tr>\n",
       "  </thead>\n",
       "  <tbody>\n",
       "    <tr>\n",
       "      <th>2003</th>\n",
       "      <td>67.0</td>\n",
       "      <td>65.0</td>\n",
       "      <td>72.0</td>\n",
       "    </tr>\n",
       "    <tr>\n",
       "      <th>2004</th>\n",
       "      <td>67.0</td>\n",
       "      <td>65.0</td>\n",
       "      <td>71.0</td>\n",
       "    </tr>\n",
       "    <tr>\n",
       "      <th>2005</th>\n",
       "      <td>71.0</td>\n",
       "      <td>70.0</td>\n",
       "      <td>74.0</td>\n",
       "    </tr>\n",
       "    <tr>\n",
       "      <th>2006</th>\n",
       "      <td>71.0</td>\n",
       "      <td>70.0</td>\n",
       "      <td>73.0</td>\n",
       "    </tr>\n",
       "    <tr>\n",
       "      <th>2007</th>\n",
       "      <td>72.0</td>\n",
       "      <td>71.0</td>\n",
       "      <td>74.0</td>\n",
       "    </tr>\n",
       "  </tbody>\n",
       "</table>\n",
       "</div>"
      ],
      "text/plain": [
       "      Все домашние хозяйства  Домашние хозяйства в городской местности  \\\n",
       "2003                    67.0                                      65.0   \n",
       "2004                    67.0                                      65.0   \n",
       "2005                    71.0                                      70.0   \n",
       "2006                    71.0                                      70.0   \n",
       "2007                    72.0                                      71.0   \n",
       "\n",
       "      Домашние хозяйства в сельской местности  \n",
       "2003                                     72.0  \n",
       "2004                                     71.0  \n",
       "2005                                     74.0  \n",
       "2006                                     73.0  \n",
       "2007                                     74.0  "
      ]
     },
     "execution_count": 38,
     "metadata": {},
     "output_type": "execute_result"
    }
   ],
   "source": [
    "get_data_two_level(calories, level1='Белки').head()"
   ]
  },
  {
   "cell_type": "code",
   "execution_count": 39,
   "id": "39fd0f10-cac0-401e-82d5-a52924737760",
   "metadata": {},
   "outputs": [
    {
     "data": {
      "text/plain": [
       "<Axes: >"
      ]
     },
     "execution_count": 39,
     "metadata": {},
     "output_type": "execute_result"
    },
    {
     "data": {
      "image/png": "[encoded data removed]",
      "text/plain": [
       "<Figure size 800x250 with 1 Axes>"
      ]
     },
     "metadata": {},
     "output_type": "display_data"
    }
   ],
   "source": [
    "get_data_two_level(calories, level1='Белки').plot()"
   ]
  },
  {
   "cell_type": "code",
   "execution_count": 40,
   "id": "ff9007ee-b920-4f3c-9a64-0b9e1a5903e5",
   "metadata": {},
   "outputs": [
    {
     "data": {
      "text/html": [
       "<div>\n",
       "<style scoped>\n",
       "    .dataframe tbody tr th:only-of-type {\n",
       "        vertical-align: middle;\n",
       "    }\n",
       "\n",
       "    .dataframe tbody tr th {\n",
       "        vertical-align: top;\n",
       "    }\n",
       "\n",
       "    .dataframe thead th {\n",
       "        text-align: right;\n",
       "    }\n",
       "</style>\n",
       "<table border=\"1\" class=\"dataframe\">\n",
       "  <thead>\n",
       "    <tr style=\"text-align: right;\">\n",
       "      <th></th>\n",
       "      <th>Все домашние хозяйства</th>\n",
       "      <th>Домашние хозяйства в городской местности</th>\n",
       "      <th>Домашние хозяйства в сельской местности</th>\n",
       "    </tr>\n",
       "  </thead>\n",
       "  <tbody>\n",
       "    <tr>\n",
       "      <th>2003</th>\n",
       "      <td>109.0</td>\n",
       "      <td>100.0</td>\n",
       "      <td>134.0</td>\n",
       "    </tr>\n",
       "    <tr>\n",
       "      <th>2004</th>\n",
       "      <td>106.0</td>\n",
       "      <td>96.0</td>\n",
       "      <td>133.0</td>\n",
       "    </tr>\n",
       "    <tr>\n",
       "      <th>2005</th>\n",
       "      <td>113.0</td>\n",
       "      <td>104.0</td>\n",
       "      <td>136.0</td>\n",
       "    </tr>\n",
       "    <tr>\n",
       "      <th>2006</th>\n",
       "      <td>107.0</td>\n",
       "      <td>99.0</td>\n",
       "      <td>130.0</td>\n",
       "    </tr>\n",
       "    <tr>\n",
       "      <th>2007</th>\n",
       "      <td>104.0</td>\n",
       "      <td>95.0</td>\n",
       "      <td>126.0</td>\n",
       "    </tr>\n",
       "  </tbody>\n",
       "</table>\n",
       "</div>"
      ],
      "text/plain": [
       "      Все домашние хозяйства  Домашние хозяйства в городской местности  \\\n",
       "2003                   109.0                                     100.0   \n",
       "2004                   106.0                                      96.0   \n",
       "2005                   113.0                                     104.0   \n",
       "2006                   107.0                                      99.0   \n",
       "2007                   104.0                                      95.0   \n",
       "\n",
       "      Домашние хозяйства в сельской местности  \n",
       "2003                                    134.0  \n",
       "2004                                    133.0  \n",
       "2005                                    136.0  \n",
       "2006                                    130.0  \n",
       "2007                                    126.0  "
      ]
     },
     "execution_count": 40,
     "metadata": {},
     "output_type": "execute_result"
    }
   ],
   "source": [
    "get_data_two_level(food, level1='хлебные продукты').head()"
   ]
  },
  {
   "cell_type": "code",
   "execution_count": 41,
   "id": "1e41ef45-0d94-4859-a47b-0497dfa1068d",
   "metadata": {},
   "outputs": [
    {
     "data": {
      "text/plain": [
       "<Axes: >"
      ]
     },
     "execution_count": 41,
     "metadata": {},
     "output_type": "execute_result"
    },
    {
     "data": {
      "image/png": "[encoded data removed]",
      "text/plain": [
       "<Figure size 800x250 with 1 Axes>"
      ]
     },
     "metadata": {},
     "output_type": "display_data"
    }
   ],
   "source": [
    "get_data_two_level(food, level1='хлебные продукты').plot()"
   ]
  },
  {
   "cell_type": "code",
   "execution_count": 42,
   "id": "413866cf-ab19-4750-b518-083c4946cdd8",
   "metadata": {},
   "outputs": [
    {
     "data": {
      "text/plain": [
       "<Axes: >"
      ]
     },
     "execution_count": 42,
     "metadata": {},
     "output_type": "execute_result"
    },
    {
     "data": {
      "image/png": "[encoded data removed]",
      "text/plain": [
       "<Figure size 800x250 with 1 Axes>"
      ]
     },
     "metadata": {},
     "output_type": "display_data"
    }
   ],
   "source": [
    "get_data_two_level(food, level1='картофель').plot()"
   ]
  },
  {
   "cell_type": "code",
   "execution_count": 43,
   "id": "91931e77-2a51-43ed-a1d7-c1d568912fee",
   "metadata": {},
   "outputs": [
    {
     "data": {
      "image/png": "[encoded data removed]",
      "text/plain": [
       "<Figure size 800x250 with 1 Axes>"
      ]
     },
     "metadata": {},
     "output_type": "display_data"
    }
   ],
   "source": [
    "smoothed(get_data_two_level(food, level1='рыба и рыбопродукты'), return_type='df').plot()\n",
    "plt.xticks(ticks=get_data_two_level(food, level1='рыба и рыбопродукты').index);"
   ]
  },
  {
   "cell_type": "code",
   "execution_count": 44,
   "id": "aaedfade-b053-4e31-891c-c02515f4f909",
   "metadata": {},
   "outputs": [
    {
     "data": {
      "image/png": "[encoded data removed]",
      "text/plain": [
       "<Figure size 800x250 with 1 Axes>"
      ]
     },
     "metadata": {},
     "output_type": "display_data"
    }
   ],
   "source": [
    "smoothed(get_data_two_level(food, level1='сахар и кондитерские изделия'), return_type='df').plot()\n",
    "plt.xticks(ticks=get_data_two_level(food, level1='сахар и кондитерские изделия').index);"
   ]
  },
  {
   "cell_type": "markdown",
   "id": "2572a705-ec3c-4885-91e6-13e35ff2c13e",
   "metadata": {},
   "source": [
    "##### <font color='#AF4035'> Export Dataset to Excel"
   ]
  },
  {
   "cell_type": "code",
   "execution_count": 45,
   "id": "7796ca6d-0614-4cfa-8fa7-e5e211a080aa",
   "metadata": {},
   "outputs": [
    {
     "name": "stdout",
     "output_type": "stream",
     "text": [
      "'Структура продуктов питания' sheet created if file '01020502-SOL-Households-food.xlsx'\n"
     ]
    }
   ],
   "source": [
    "saveit_excel(\n",
    "    data=food,\n",
    "    filename=dir,\n",
    "    path=save_excel,\n",
    "    sheet='Структура продуктов питания'\n",
    ")"
   ]
  },
  {
   "cell_type": "code",
   "execution_count": 46,
   "id": "2c0986eb-a319-4da9-9032-f32523a7193d",
   "metadata": {},
   "outputs": [
    {
     "name": "stdout",
     "output_type": "stream",
     "text": [
      "'Энергетическая ценность' sheet created if file '01020502-SOL-Households-food.xlsx'\n"
     ]
    }
   ],
   "source": [
    "saveit_excel(\n",
    "    data=calories,\n",
    "    filename=dir,\n",
    "    path=save_excel,\n",
    "    sheet='Энергетическая ценность'\n",
    ")"
   ]
  },
  {
   "cell_type": "markdown",
   "id": "ab16cc57-767f-4e8b-b3fe-7aeb74f927d0",
   "metadata": {},
   "source": [
    "### Save Dataset"
   ]
  },
  {
   "cell_type": "code",
   "execution_count": 47,
   "id": "ddca840a-f197-49ef-a7c4-890561547f37",
   "metadata": {},
   "outputs": [],
   "source": [
    "economics_data['7.4.1'] = food"
   ]
  },
  {
   "cell_type": "code",
   "execution_count": 48,
   "id": "3a772083-481a-4343-a436-4b0703087554",
   "metadata": {},
   "outputs": [],
   "source": [
    "economics_data['7.4.2'] = calories"
   ]
  },
  {
   "cell_type": "code",
   "execution_count": 49,
   "id": "b60e3d62-5e6a-490b-a879-8f6c1b9872bf",
   "metadata": {},
   "outputs": [
    {
     "name": "stdout",
     "output_type": "stream",
     "text": [
      "File 'economics_data' saved in directory 'data/00-Datasets/'\n"
     ]
    }
   ],
   "source": [
    "saveit(\n",
    "    file=economics_data,\n",
    "    name='economics_data',\n",
    "    dir=save_df\n",
    ")"
   ]
  },
  {
   "cell_type": "markdown",
   "id": "805ab6f1-da4c-46fe-abd4-f5a37b37163c",
   "metadata": {},
   "source": [
    "### Save Session"
   ]
  },
  {
   "cell_type": "code",
   "execution_count": 51,
   "id": "d7ea5384-beeb-462f-8059-6354185062c5",
   "metadata": {},
   "outputs": [],
   "source": [
    "save_session(dir)"
   ]
  },
  {
   "cell_type": "markdown",
   "id": "4f576727-2c81-448c-9623-e88e98c4b6b3",
   "metadata": {},
   "source": [
    "### Execution time"
   ]
  },
  {
   "cell_type": "code",
   "execution_count": 50,
   "id": "d7490d8a-1a10-4e60-b451-6755f4a7d540",
   "metadata": {},
   "outputs": [
    {
     "name": "stdout",
     "output_type": "stream",
     "text": [
      "Execution time: 0:00:15\n"
     ]
    }
   ],
   "source": [
    "print(f'Execution time: {stopwatch.stop(start)}')"
   ]
  }
 ],
 "metadata": {
  "kernelspec": {
   "display_name": "economy-rus",
   "language": "python",
   "name": "economy-rus"
  },
  "language_info": {
   "codemirror_mode": {
    "name": "ipython",
    "version": 3
   },
   "file_extension": ".py",
   "mimetype": "text/x-python",
   "name": "python",
   "nbconvert_exporter": "python",
   "pygments_lexer": "ipython3",
   "version": "3.12.1"
  }
 },
 "nbformat": 4,
 "nbformat_minor": 5
}
