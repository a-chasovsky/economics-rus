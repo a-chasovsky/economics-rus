{
 "cells": [
  {
   "cell_type": "code",
   "execution_count": 1,
   "id": "3c560329-258e-4f9c-bedb-a21b88f12541",
   "metadata": {},
   "outputs": [],
   "source": [
    "# run stopwatch\n",
    "from _classes import Stopwatch\n",
    "stopwatch = Stopwatch()\n",
    "start = stopwatch.start()"
   ]
  },
  {
   "cell_type": "markdown",
   "id": "8f9041cd-475c-46dd-b61d-367ba2caaefd",
   "metadata": {
    "jp-MarkdownHeadingCollapsed": true
   },
   "source": [
    "### Load Saved Section if exists"
   ]
  },
  {
   "cell_type": "raw",
   "id": "847bb7b5-5264-484c-bcb4-b28fdd52d92e",
   "metadata": {},
   "source": [
    "if os.path.exists(f'sessions/{dir}'):\n",
    "    load_session(dir)\n",
    "else:\n",
    "    print(f\"No such session: 'sessions/{dir}'\")"
   ]
  },
  {
   "cell_type": "markdown",
   "id": "f642784a-0e68-4719-821a-c78067ca000b",
   "metadata": {},
   "source": [
    "### Load libraries, functions, palette, theme"
   ]
  },
  {
   "cell_type": "code",
   "execution_count": 2,
   "id": "7f1eee03-294b-46e4-814d-ed7905bf7593",
   "metadata": {},
   "outputs": [],
   "source": [
    "%run _load.ipynb"
   ]
  },
  {
   "cell_type": "code",
   "execution_count": 3,
   "id": "f78dbe8f-8464-47ec-af01-642592563e12",
   "metadata": {},
   "outputs": [],
   "source": [
    "economics_data = loadit(\n",
    "    'economics_data', 'data/00-Datasets/'\n",
    ")"
   ]
  },
  {
   "cell_type": "code",
   "execution_count": 4,
   "id": "b33f9d7e-3183-4b40-8b52-ec00c0526b3b",
   "metadata": {},
   "outputs": [],
   "source": [
    "dir = '008.1_SOL-Consumers-expectations'"
   ]
  },
  {
   "cell_type": "code",
   "execution_count": 5,
   "id": "ef22909a-17ce-46d9-9dd4-1e65589bfb3c",
   "metadata": {},
   "outputs": [],
   "source": [
    "save_df = 'data/00-Datasets/'"
   ]
  },
  {
   "cell_type": "code",
   "execution_count": 6,
   "id": "977fd4b1-ee00-4c64-b926-4c4af5fe6fd9",
   "metadata": {},
   "outputs": [],
   "source": [
    "save_excel = 'data/00-Excel-data/'"
   ]
  },
  {
   "cell_type": "markdown",
   "id": "2a49c3d7-7839-4d4e-8cfa-ade641a55644",
   "metadata": {},
   "source": [
    "# <font color='#2C8B6D'>I. Население</font>"
   ]
  },
  {
   "cell_type": "markdown",
   "id": "d9ac40c1-1de2-42b6-8f86-b6e4f96c0f10",
   "metadata": {},
   "source": [
    "# Section II. Уровень жизни"
   ]
  },
  {
   "cell_type": "markdown",
   "id": "13ccc087-516f-463f-8698-241362acce3e",
   "metadata": {},
   "source": [
    "## 8. Потребительские ожидания населения"
   ]
  },
  {
   "cell_type": "markdown",
   "id": "09ceab1c-0147-425e-ab8f-268c38fb0e46",
   "metadata": {},
   "source": [
    "### 8.1. Индекс потребительской уверенности"
   ]
  },
  {
   "cell_type": "markdown",
   "id": "31189e0e-68ca-4db4-9dc0-fa9bad1a27dc",
   "metadata": {},
   "source": [
    "*Источник: https://rosstat.gov.ru/folder/13397*  \n",
    "*Единицы измерения: *\n",
    "\n",
    "*Примечания:*  "
   ]
  },
  {
   "cell_type": "code",
   "execution_count": 7,
   "id": "3d4172e7-41ae-4642-bd1f-30e985720c3c",
   "metadata": {},
   "outputs": [],
   "source": [
    "consumer_confidence_link = \\\n",
    "    ('data/02-Population/02-Standard-of-living/05-Households/'\n",
    "     'urov_81.xls')"
   ]
  },
  {
   "cell_type": "code",
   "execution_count": 8,
   "id": "9380e588-8d0a-4cf7-ae93-583a9a73ebe6",
   "metadata": {},
   "outputs": [],
   "source": [
    "consumer_confidence_raw = pd.read_excel(consumer_confidence_link)"
   ]
  },
  {
   "cell_type": "code",
   "execution_count": 9,
   "id": "48db8598-8d07-4ba5-a233-2079b0fb847c",
   "metadata": {},
   "outputs": [
    {
     "data": {
      "text/html": [
       "<div>\n",
       "<style scoped>\n",
       "    .dataframe tbody tr th:only-of-type {\n",
       "        vertical-align: middle;\n",
       "    }\n",
       "\n",
       "    .dataframe tbody tr th {\n",
       "        vertical-align: top;\n",
       "    }\n",
       "\n",
       "    .dataframe thead th {\n",
       "        text-align: right;\n",
       "    }\n",
       "</style>\n",
       "<table border=\"1\" class=\"dataframe\">\n",
       "  <thead>\n",
       "    <tr style=\"text-align: right;\">\n",
       "      <th></th>\n",
       "      <th>Обновлено 20.09.2023 г.</th>\n",
       "      <th>Unnamed: 1</th>\n",
       "      <th>Unnamed: 2</th>\n",
       "      <th>Unnamed: 3</th>\n",
       "      <th>Unnamed: 4</th>\n",
       "      <th>Unnamed: 5</th>\n",
       "      <th>Unnamed: 6</th>\n",
       "      <th>Unnamed: 7</th>\n",
       "      <th>Unnamed: 8</th>\n",
       "    </tr>\n",
       "  </thead>\n",
       "  <tbody>\n",
       "    <tr>\n",
       "      <th>0</th>\n",
       "      <td>NaN</td>\n",
       "      <td>NaN</td>\n",
       "      <td>NaN</td>\n",
       "      <td>NaN</td>\n",
       "      <td>NaN</td>\n",
       "      <td>NaN</td>\n",
       "      <td>NaN</td>\n",
       "      <td>NaN</td>\n",
       "      <td>NaN</td>\n",
       "    </tr>\n",
       "    <tr>\n",
       "      <th>1</th>\n",
       "      <td>Индекс потребительской уверенности</td>\n",
       "      <td>NaN</td>\n",
       "      <td>NaN</td>\n",
       "      <td>NaN</td>\n",
       "      <td>NaN</td>\n",
       "      <td>NaN</td>\n",
       "      <td>NaN</td>\n",
       "      <td>NaN</td>\n",
       "      <td>NaN</td>\n",
       "    </tr>\n",
       "    <tr>\n",
       "      <th>2</th>\n",
       "      <td>NaN</td>\n",
       "      <td>NaN</td>\n",
       "      <td>NaN</td>\n",
       "      <td>NaN</td>\n",
       "      <td>NaN</td>\n",
       "      <td>NaN</td>\n",
       "      <td>NaN</td>\n",
       "      <td>NaN</td>\n",
       "      <td>NaN</td>\n",
       "    </tr>\n",
       "    <tr>\n",
       "      <th>3</th>\n",
       "      <td>баланс %</td>\n",
       "      <td>NaN</td>\n",
       "      <td>NaN</td>\n",
       "      <td>NaN</td>\n",
       "      <td>NaN</td>\n",
       "      <td>NaN</td>\n",
       "      <td>NaN</td>\n",
       "      <td>NaN</td>\n",
       "      <td>NaN</td>\n",
       "    </tr>\n",
       "    <tr>\n",
       "      <th>4</th>\n",
       "      <td>NaN</td>\n",
       "      <td>NaN</td>\n",
       "      <td>NaN</td>\n",
       "      <td>NaN</td>\n",
       "      <td>NaN</td>\n",
       "      <td>NaN</td>\n",
       "      <td>NaN</td>\n",
       "      <td>NaN</td>\n",
       "      <td>NaN</td>\n",
       "    </tr>\n",
       "    <tr>\n",
       "      <th>5</th>\n",
       "      <td>NaN</td>\n",
       "      <td>Всего</td>\n",
       "      <td>в том числе по полу</td>\n",
       "      <td>NaN</td>\n",
       "      <td>в том числе по возрасту</td>\n",
       "      <td>NaN</td>\n",
       "      <td>NaN</td>\n",
       "      <td>NaN</td>\n",
       "      <td>NaN</td>\n",
       "    </tr>\n",
       "    <tr>\n",
       "      <th>6</th>\n",
       "      <td>NaN</td>\n",
       "      <td>NaN</td>\n",
       "      <td>мужчины</td>\n",
       "      <td>женщины</td>\n",
       "      <td>до 30 лет</td>\n",
       "      <td>30-49 лет</td>\n",
       "      <td>50 лет и старше</td>\n",
       "      <td>NaN</td>\n",
       "      <td>NaN</td>\n",
       "    </tr>\n",
       "    <tr>\n",
       "      <th>7</th>\n",
       "      <td>1998 год</td>\n",
       "      <td>NaN</td>\n",
       "      <td>NaN</td>\n",
       "      <td>NaN</td>\n",
       "      <td>NaN</td>\n",
       "      <td>NaN</td>\n",
       "      <td>NaN</td>\n",
       "      <td>NaN</td>\n",
       "      <td>NaN</td>\n",
       "    </tr>\n",
       "    <tr>\n",
       "      <th>8</th>\n",
       "      <td>IV квартал</td>\n",
       "      <td>-58</td>\n",
       "      <td>-57</td>\n",
       "      <td>-59</td>\n",
       "      <td>-51</td>\n",
       "      <td>-59</td>\n",
       "      <td>-62</td>\n",
       "      <td>NaN</td>\n",
       "      <td>NaN</td>\n",
       "    </tr>\n",
       "    <tr>\n",
       "      <th>9</th>\n",
       "      <td>NaN</td>\n",
       "      <td>NaN</td>\n",
       "      <td>NaN</td>\n",
       "      <td>NaN</td>\n",
       "      <td>NaN</td>\n",
       "      <td>NaN</td>\n",
       "      <td>NaN</td>\n",
       "      <td>NaN</td>\n",
       "      <td>NaN</td>\n",
       "    </tr>\n",
       "  </tbody>\n",
       "</table>\n",
       "</div>"
      ],
      "text/plain": [
       "              Обновлено 20.09.2023 г. Unnamed: 1           Unnamed: 2  \\\n",
       "0                                 NaN        NaN                  NaN   \n",
       "1  Индекс потребительской уверенности        NaN                  NaN   \n",
       "2                                 NaN        NaN                  NaN   \n",
       "3                            баланс %        NaN                  NaN   \n",
       "4                                 NaN        NaN                  NaN   \n",
       "5                                 NaN      Всего  в том числе по полу   \n",
       "6                                 NaN        NaN              мужчины   \n",
       "7                            1998 год        NaN                  NaN   \n",
       "8                          IV квартал        -58                  -57   \n",
       "9                                 NaN        NaN                  NaN   \n",
       "\n",
       "  Unnamed: 3               Unnamed: 4 Unnamed: 5       Unnamed: 6  Unnamed: 7  \\\n",
       "0        NaN                      NaN        NaN              NaN         NaN   \n",
       "1        NaN                      NaN        NaN              NaN         NaN   \n",
       "2        NaN                      NaN        NaN              NaN         NaN   \n",
       "3        NaN                      NaN        NaN              NaN         NaN   \n",
       "4        NaN                      NaN        NaN              NaN         NaN   \n",
       "5        NaN  в том числе по возрасту        NaN              NaN         NaN   \n",
       "6    женщины                до 30 лет  30-49 лет  50 лет и старше         NaN   \n",
       "7        NaN                      NaN        NaN              NaN         NaN   \n",
       "8        -59                      -51        -59              -62         NaN   \n",
       "9        NaN                      NaN        NaN              NaN         NaN   \n",
       "\n",
       "  Unnamed: 8  \n",
       "0        NaN  \n",
       "1        NaN  \n",
       "2        NaN  \n",
       "3        NaN  \n",
       "4        NaN  \n",
       "5        NaN  \n",
       "6        NaN  \n",
       "7        NaN  \n",
       "8        NaN  \n",
       "9        NaN  "
      ]
     },
     "execution_count": 9,
     "metadata": {},
     "output_type": "execute_result"
    }
   ],
   "source": [
    "consumer_confidence_raw.head(10)"
   ]
  },
  {
   "cell_type": "code",
   "execution_count": 10,
   "id": "ea302220-1277-4074-83a5-f3a4174a196b",
   "metadata": {},
   "outputs": [],
   "source": [
    "consumer_confidence = consumer_confidence_raw.iloc[7:, :2].copy()"
   ]
  },
  {
   "cell_type": "code",
   "execution_count": 11,
   "id": "47cce059-b519-49a8-8d58-9f25d540bd5d",
   "metadata": {},
   "outputs": [],
   "source": [
    "# rename columns\n",
    "consumer_confidence.columns = ['Год', 'Значение']"
   ]
  },
  {
   "cell_type": "code",
   "execution_count": 12,
   "id": "32aff05b-dd4e-4587-8385-bda98ba94e29",
   "metadata": {},
   "outputs": [],
   "source": [
    "# remove spaces from start and end of values in 'Год'\n",
    "consumer_confidence['Год'] = [i.strip() if isinstance(i, str) else i for i in consumer_confidence['Год']]"
   ]
  },
  {
   "cell_type": "code",
   "execution_count": 13,
   "id": "45e0d474-55e5-44e1-9936-c3541a8b6a01",
   "metadata": {},
   "outputs": [],
   "source": [
    "# remove NaNs from column 'Год'\n",
    "consumer_confidence = consumer_confidence[~consumer_confidence['Год'].isna()]"
   ]
  },
  {
   "cell_type": "code",
   "execution_count": 14,
   "id": "19fc5f28-22c3-488c-b6ab-4677fecbab65",
   "metadata": {},
   "outputs": [],
   "source": [
    "# remove ' год' from year values\n",
    "consumer_confidence['Год'] = consumer_confidence['Год'].replace(' год', '', regex=True)"
   ]
  },
  {
   "cell_type": "code",
   "execution_count": 15,
   "id": "153b89a4-860c-445b-b782-8b9230a4297c",
   "metadata": {},
   "outputs": [],
   "source": [
    "# transform to int year values in 'Год'\n",
    "consumer_confidence['Год'] = [to_int(i) for i in consumer_confidence['Год']]"
   ]
  },
  {
   "cell_type": "code",
   "execution_count": 16,
   "id": "9387133a-ef71-457c-9316-f16a89a2a968",
   "metadata": {},
   "outputs": [],
   "source": [
    "# transform to float 'Значение' values if possible\n",
    "consumer_confidence['Значение'] = [to_float(i) for i in consumer_confidence['Значение']]"
   ]
  },
  {
   "cell_type": "code",
   "execution_count": 17,
   "id": "2dc44490-06ca-4438-b90a-139a370131b5",
   "metadata": {},
   "outputs": [],
   "source": [
    "# create list with years - take only ints from 'Год' column\n",
    "years_list = [i for i in consumer_confidence['Год'] if isinstance(i, int)]"
   ]
  },
  {
   "cell_type": "code",
   "execution_count": 18,
   "id": "88f84f5f-304f-4f61-b691-2252d485d89a",
   "metadata": {},
   "outputs": [],
   "source": [
    "# create 'index' column\n",
    "consumer_confidence['index'] = consumer_confidence['Год'].copy()"
   ]
  },
  {
   "cell_type": "code",
   "execution_count": 19,
   "id": "b65c4a6c-40e1-4119-9ed8-44eee359e403",
   "metadata": {},
   "outputs": [],
   "source": [
    "# calculate sum of 'квартал' rows and assign it to cell with .loc[year, 'Значение']\n",
    "\n",
    "# for every index in 'consumer_confidence'\n",
    "for index in consumer_confidence.index:\n",
    "    # if meet index == year\n",
    "    if consumer_confidence.loc[index, 'Год'] in years_list:\n",
    "        # create list with indexes to count mean\n",
    "        indexes_for_mean = []\n",
    "        # moving down by indexes after current year index\n",
    "        for index2 in consumer_confidence.loc[index+1:, :].index:\n",
    "            # until meet next year\n",
    "            if consumer_confidence.loc[index2, 'Год'] not in years_list:\n",
    "                # add index to list for count mean\n",
    "                indexes_for_mean.append(index2)\n",
    "                # now, till we meet next year index, we have list with indexes,\n",
    "                # that belong for 1,2,3,4 quartal of meeted year\n",
    "            else:\n",
    "                # then we calculate average value\n",
    "                average = consumer_confidence.loc[indexes_for_mean, 'Значение'].mean()\n",
    "                # add it to 'Значение' of current year\n",
    "                consumer_confidence.loc[index, 'Значение'] = average\n",
    "                # and break second cycle - moving through indexes, searching another year from years_list\n",
    "                break\n",
    "        # if we meet last year of years_list\n",
    "        if consumer_confidence.loc[index, 'Год'] == years_list[-1]:\n",
    "            # then just calculate average\n",
    "            average = consumer_confidence.loc[index:, 'Значение'].mean()\n",
    "            average = np.round(average, 2)\n",
    "            # and add it to current year 'Значение'\n",
    "            consumer_confidence.loc[index, 'Значение'] = average\n",
    "    # if value not in year_list, then change it in 'index' column to NaN\n",
    "    else:\n",
    "        consumer_confidence.loc[index, 'index'] = np.NaN"
   ]
  },
  {
   "cell_type": "code",
   "execution_count": 20,
   "id": "6d684b6f-58b3-479a-8230-54472ae3af2f",
   "metadata": {},
   "outputs": [],
   "source": [
    "consumer_confidence = transform_fill_values_by_previous(\n",
    "    data=consumer_confidence, kind='column', column_name='index')"
   ]
  },
  {
   "cell_type": "code",
   "execution_count": 21,
   "id": "697eae00-7f50-4bd5-9dcc-e50b575b297a",
   "metadata": {},
   "outputs": [],
   "source": [
    "consumer_confidence.loc[consumer_confidence['Год'].isin(years_list), 'Год'] = 'Всего'"
   ]
  },
  {
   "cell_type": "code",
   "execution_count": 22,
   "id": "96d99022-e91c-48a8-87ea-80989fbe6a6c",
   "metadata": {},
   "outputs": [],
   "source": [
    "consumer_confidence = consumer_confidence.set_index('index', drop=True)\n",
    "consumer_confidence.index.name = None"
   ]
  },
  {
   "cell_type": "code",
   "execution_count": 23,
   "id": "92430855-7c56-41bd-9de2-cfd7b54d5c72",
   "metadata": {},
   "outputs": [
    {
     "data": {
      "text/html": [
       "<div>\n",
       "<style scoped>\n",
       "    .dataframe tbody tr th:only-of-type {\n",
       "        vertical-align: middle;\n",
       "    }\n",
       "\n",
       "    .dataframe tbody tr th {\n",
       "        vertical-align: top;\n",
       "    }\n",
       "\n",
       "    .dataframe thead th {\n",
       "        text-align: right;\n",
       "    }\n",
       "</style>\n",
       "<table border=\"1\" class=\"dataframe\">\n",
       "  <thead>\n",
       "    <tr style=\"text-align: right;\">\n",
       "      <th></th>\n",
       "      <th>Год</th>\n",
       "      <th>Значение</th>\n",
       "    </tr>\n",
       "  </thead>\n",
       "  <tbody>\n",
       "    <tr>\n",
       "      <th>1998</th>\n",
       "      <td>Всего</td>\n",
       "      <td>-58.00</td>\n",
       "    </tr>\n",
       "    <tr>\n",
       "      <th>1998</th>\n",
       "      <td>IV квартал</td>\n",
       "      <td>-58.00</td>\n",
       "    </tr>\n",
       "    <tr>\n",
       "      <th>1999</th>\n",
       "      <td>Всего</td>\n",
       "      <td>-45.25</td>\n",
       "    </tr>\n",
       "    <tr>\n",
       "      <th>1999</th>\n",
       "      <td>I квартал</td>\n",
       "      <td>-51.00</td>\n",
       "    </tr>\n",
       "    <tr>\n",
       "      <th>1999</th>\n",
       "      <td>II квартал</td>\n",
       "      <td>-48.00</td>\n",
       "    </tr>\n",
       "    <tr>\n",
       "      <th>1999</th>\n",
       "      <td>III квартал</td>\n",
       "      <td>-47.00</td>\n",
       "    </tr>\n",
       "    <tr>\n",
       "      <th>1999</th>\n",
       "      <td>IV квартал</td>\n",
       "      <td>-35.00</td>\n",
       "    </tr>\n",
       "    <tr>\n",
       "      <th>2000</th>\n",
       "      <td>Всего</td>\n",
       "      <td>-19.25</td>\n",
       "    </tr>\n",
       "    <tr>\n",
       "      <th>2000</th>\n",
       "      <td>I квартал</td>\n",
       "      <td>-25.00</td>\n",
       "    </tr>\n",
       "    <tr>\n",
       "      <th>2000</th>\n",
       "      <td>II квартал</td>\n",
       "      <td>-17.00</td>\n",
       "    </tr>\n",
       "  </tbody>\n",
       "</table>\n",
       "</div>"
      ],
      "text/plain": [
       "              Год  Значение\n",
       "1998        Всего    -58.00\n",
       "1998   IV квартал    -58.00\n",
       "1999        Всего    -45.25\n",
       "1999    I квартал    -51.00\n",
       "1999   II квартал    -48.00\n",
       "1999  III квартал    -47.00\n",
       "1999   IV квартал    -35.00\n",
       "2000        Всего    -19.25\n",
       "2000    I квартал    -25.00\n",
       "2000   II квартал    -17.00"
      ]
     },
     "execution_count": 23,
     "metadata": {},
     "output_type": "execute_result"
    }
   ],
   "source": [
    "consumer_confidence.head(10)"
   ]
  },
  {
   "cell_type": "markdown",
   "id": "098158ba-8624-4fdf-962d-5941da39b42c",
   "metadata": {},
   "source": [
    "##### <font color='#AF4035'> Export Dataset to Excel"
   ]
  },
  {
   "cell_type": "code",
   "execution_count": 24,
   "id": "2ca83458-113a-41fd-a32a-12f1d6188900",
   "metadata": {},
   "outputs": [
    {
     "name": "stdout",
     "output_type": "stream",
     "text": [
      "File '010206-SOL-Consumers-expectations' created\n"
     ]
    }
   ],
   "source": [
    "saveit_excel(\n",
    "    data=consumer_confidence,\n",
    "    filename=dir,\n",
    "    path=save_excel,\n",
    "    sheet='Потребительская уверенность'\n",
    ")"
   ]
  },
  {
   "cell_type": "markdown",
   "id": "ab16cc57-767f-4e8b-b3fe-7aeb74f927d0",
   "metadata": {},
   "source": [
    "### Save Dataset"
   ]
  },
  {
   "cell_type": "code",
   "execution_count": 25,
   "id": "ce92dd7f-573e-4b17-8eb0-51367f3ce8b3",
   "metadata": {},
   "outputs": [],
   "source": [
    "economics_data['8.1'] = consumer_confidence"
   ]
  },
  {
   "cell_type": "code",
   "execution_count": 26,
   "id": "b60e3d62-5e6a-490b-a879-8f6c1b9872bf",
   "metadata": {},
   "outputs": [
    {
     "name": "stdout",
     "output_type": "stream",
     "text": [
      "File 'economics_data' saved in directory 'data/00-Datasets/'\n"
     ]
    }
   ],
   "source": [
    "saveit(\n",
    "    file=economics_data,\n",
    "    name='economics_data',\n",
    "    dir=save_df\n",
    ")"
   ]
  },
  {
   "cell_type": "markdown",
   "id": "299c0343-257d-4d85-b709-b3e2df51beb0",
   "metadata": {},
   "source": [
    "### Save Session"
   ]
  },
  {
   "cell_type": "code",
   "execution_count": 27,
   "id": "66b420aa-b003-470f-94b8-be05081ecdb8",
   "metadata": {},
   "outputs": [],
   "source": [
    "save_session(dir)"
   ]
  },
  {
   "cell_type": "markdown",
   "id": "4f576727-2c81-448c-9623-e88e98c4b6b3",
   "metadata": {},
   "source": [
    "### Execution time"
   ]
  },
  {
   "cell_type": "code",
   "execution_count": 28,
   "id": "d7490d8a-1a10-4e60-b451-6755f4a7d540",
   "metadata": {},
   "outputs": [
    {
     "name": "stdout",
     "output_type": "stream",
     "text": [
      "Execution time: 0:00:10\n"
     ]
    }
   ],
   "source": [
    "print(f'Execution time: {stopwatch.stop(start)}')"
   ]
  }
 ],
 "metadata": {
  "kernelspec": {
   "display_name": "venv_pers_economics_rus",
   "language": "python",
   "name": "venv_pers_economics_rus"
  },
  "language_info": {
   "codemirror_mode": {
    "name": "ipython",
    "version": 3
   },
   "file_extension": ".py",
   "mimetype": "text/x-python",
   "name": "python",
   "nbconvert_exporter": "python",
   "pygments_lexer": "ipython3",
   "version": "3.12.1"
  }
 },
 "nbformat": 4,
 "nbformat_minor": 5
}
