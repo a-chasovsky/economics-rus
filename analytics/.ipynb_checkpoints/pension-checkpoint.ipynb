{
 "cells": [
  {
   "cell_type": "markdown",
   "id": "88a8f854-4f13-4c77-9fff-42d48d5fa7e8",
   "metadata": {},
   "source": [
    "### Load Saved Section if exists"
   ]
  },
  {
   "cell_type": "raw",
   "id": "6a69f0b7-c261-4eb2-a927-08740ceb60c2",
   "metadata": {},
   "source": [
    "if os.path.exists(f'sessions/{dir}'):\n",
    "    load_session(dir)\n",
    "else:\n",
    "    print(f\"No such session: 'sessions/{dir}'\")"
   ]
  },
  {
   "cell_type": "markdown",
   "id": "72c385ee-43b0-4545-b5e4-48dae6c41a0b",
   "metadata": {},
   "source": [
    "### Load libraries, functions, palette, theme"
   ]
  },
  {
   "cell_type": "code",
   "execution_count": 1,
   "id": "78ec3eb1-32a2-40fe-8099-25b8b9b5603a",
   "metadata": {},
   "outputs": [],
   "source": [
    "import os"
   ]
  },
  {
   "cell_type": "code",
   "execution_count": 11,
   "id": "479078c5-1704-49ed-a8a4-ac4a8ec804e0",
   "metadata": {},
   "outputs": [],
   "source": [
    "# read file from another directory\n",
    "path = \\\n",
    "    ('/Users/a-chasovsky/Library/CloudStorage/GoogleDrive-alexanderchasovsky@gmail.com/'\n",
    "     'Мой диск/Data Science Projects/pers_economics_rus/')\n",
    "\n",
    "os.chdir(path)\n",
    "\n",
    "# run stopwatch\n",
    "from _classes import Stopwatch\n",
    "stopwatch = Stopwatch()\n",
    "start = stopwatch.start()\n",
    "\n",
    "# import libraries, etc.\n",
    "%run _load.ipynb\n",
    "\n",
    "# and go back to current directory ('current_path' variable is assigned in _load.ipynb)\n",
    "os.chdir(current_path)"
   ]
  },
  {
   "cell_type": "code",
   "execution_count": 3,
   "id": "d9f9c29d-bf4a-4f6b-970e-5f895ca65726",
   "metadata": {},
   "outputs": [],
   "source": [
    "dir = 'analytics/visualization/'"
   ]
  },
  {
   "cell_type": "code",
   "execution_count": 7,
   "id": "cee903a4-6d4f-4b5f-ace6-7100592e6e57",
   "metadata": {},
   "outputs": [],
   "source": [
    "economics_data = loadit('economics_data', dir='data/00-Datasets/')"
   ]
  },
  {
   "cell_type": "code",
   "execution_count": 8,
   "id": "5ed81b73-2ee3-4283-80b1-b72a8ba43edb",
   "metadata": {},
   "outputs": [],
   "source": [
    "pension = economics_data['4.2']"
   ]
  },
  {
   "cell_type": "code",
   "execution_count": 17,
   "id": "5d39aee9-3d55-4a42-8f01-ab0ae3e224e9",
   "metadata": {},
   "outputs": [
    {
     "data": {
      "image/png": "[encoded data removed]",
      "text/plain": [
       "<Figure size 600x250 with 1 Axes>"
      ]
     },
     "metadata": {},
     "output_type": "display_data"
    },
    {
     "name": "stdout",
     "output_type": "stream",
     "text": [
      "\n",
      "File successfully saved into 'analytics/visualization/'\n"
     ]
    }
   ],
   "source": [
    "f = plt.figure(figsize=(6,2.5))\n",
    "plt.bar(\n",
    "    x=range(2018, 2024),\n",
    "    height=pension.loc['Российская Федерация', range(2018, 2024)].pct_change()*100,\n",
    "    width=0.5\n",
    ")\n",
    "plt.xticks(ticks=range(2019, 2024), labels=range(2019, 2024))\n",
    "plt.title('Динамика изменения средней пенсии, %', **title)\n",
    "\n",
    "plt.show()\n",
    "\n",
    "savefig('Pension change pct', dir, dpi=100)"
   ]
  },
  {
   "cell_type": "code",
   "execution_count": null,
   "id": "b96c0942-e39a-4b22-b7e3-ba9299d92971",
   "metadata": {},
   "outputs": [],
   "source": []
  },
  {
   "cell_type": "code",
   "execution_count": null,
   "id": "e80af167-9d2d-46f5-9612-12daeb70621d",
   "metadata": {},
   "outputs": [],
   "source": []
  }
 ],
 "metadata": {
  "kernelspec": {
   "display_name": "venv_pers_economics_rus",
   "language": "python",
   "name": "venv_pers_economics_rus"
  },
  "language_info": {
   "codemirror_mode": {
    "name": "ipython",
    "version": 3
   },
   "file_extension": ".py",
   "mimetype": "text/x-python",
   "name": "python",
   "nbconvert_exporter": "python",
   "pygments_lexer": "ipython3",
   "version": "3.12.1"
  }
 },
 "nbformat": 4,
 "nbformat_minor": 5
}
