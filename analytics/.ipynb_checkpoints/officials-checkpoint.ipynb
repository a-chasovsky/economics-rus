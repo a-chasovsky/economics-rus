{
 "cells": [
  {
   "cell_type": "markdown",
   "id": "75d7efe5-7553-456a-a09c-56850d4eaf70",
   "metadata": {},
   "source": [
    "### Load Saved Section if exists"
   ]
  },
  {
   "cell_type": "raw",
   "id": "094cca9a-c96c-4b2c-8a16-accdb35106ab",
   "metadata": {},
   "source": [
    "if os.path.exists(f'sessions/{dir}'):\n",
    "    load_session(dir)\n",
    "else:\n",
    "    print(f\"No such session: 'sessions/{dir}'\")"
   ]
  },
  {
   "cell_type": "markdown",
   "id": "6fee6e27-4586-4071-91d9-94bfbe14dd78",
   "metadata": {},
   "source": [
    "### Load libraries, functions, palette, theme"
   ]
  },
  {
   "cell_type": "code",
   "execution_count": 119,
   "id": "6237705f-027a-48f2-9c3c-4aa288ab00f0",
   "metadata": {},
   "outputs": [],
   "source": [
    "import os"
   ]
  },
  {
   "cell_type": "code",
   "execution_count": 120,
   "id": "daad57db-de9f-4330-a2e3-2fb0182fcf65",
   "metadata": {},
   "outputs": [],
   "source": [
    "# read file from another directory\n",
    "path = \\\n",
    "    ('/Users/a-chasovsky/Library/CloudStorage/GoogleDrive-alexanderchasovsky@gmail.com/'\n",
    "     'Мой диск/Data Science Projects/pers_economics_rus/')\n",
    "\n",
    "os.chdir(path)\n",
    "\n",
    "# run stopwatch\n",
    "from _classes import Stopwatch\n",
    "stopwatch = Stopwatch()\n",
    "start = stopwatch.start()\n",
    "\n",
    "# import libraries, etc.\n",
    "%run _load.ipynb\n",
    "\n",
    "# and go back to current directory ('current_path' variable is assigned in _load.ipynb)\n",
    "os.chdir(current_path)"
   ]
  },
  {
   "cell_type": "code",
   "execution_count": 121,
   "id": "6e40d855-3b4d-4f4d-8686-1ed07330c3c3",
   "metadata": {},
   "outputs": [],
   "source": [
    "dir = 'analytics/visualization/'"
   ]
  },
  {
   "cell_type": "code",
   "execution_count": 122,
   "id": "7b6ca15d-1c98-4124-af12-0a90c4f3f525",
   "metadata": {},
   "outputs": [],
   "source": [
    "economics_data = loadit('economics_data', dir='data/00-Datasets/')"
   ]
  },
  {
   "cell_type": "code",
   "execution_count": 123,
   "id": "5665f8a7-6a24-4bdd-a6ef-1cce91b897a7",
   "metadata": {},
   "outputs": [
    {
     "data": {
      "text/plain": [
       "93"
      ]
     },
     "execution_count": 123,
     "metadata": {},
     "output_type": "execute_result"
    }
   ],
   "source": [
    "len(economics_data)"
   ]
  },
  {
   "cell_type": "markdown",
   "id": "c6390323-5ba1-4881-8185-2d55f06251d5",
   "metadata": {},
   "source": [
    "## <font color='#2A5899'> Чиновники"
   ]
  },
  {
   "cell_type": "markdown",
   "id": "e3b1e3a0-0682-4dfb-b118-37d0112e7aae",
   "metadata": {},
   "source": [
    "#### Численность работников государственных органов и органов местного самоуправления на 1000 человек занятых в экономике"
   ]
  },
  {
   "cell_type": "code",
   "execution_count": 124,
   "id": "19bc7f17-e85c-4e61-8370-d03251a4e8ef",
   "metadata": {},
   "outputs": [],
   "source": [
    "officials_number_1000_busy = economics_data['12.01'].copy()"
   ]
  },
  {
   "cell_type": "code",
   "execution_count": 125,
   "id": "4098f0f6-2e6b-49e2-9d78-5a2bd596c180",
   "metadata": {},
   "outputs": [
    {
     "data": {
      "text/html": [
       "<div>\n",
       "<style scoped>\n",
       "    .dataframe tbody tr th:only-of-type {\n",
       "        vertical-align: middle;\n",
       "    }\n",
       "\n",
       "    .dataframe tbody tr th {\n",
       "        vertical-align: top;\n",
       "    }\n",
       "\n",
       "    .dataframe thead th {\n",
       "        text-align: right;\n",
       "    }\n",
       "</style>\n",
       "<table border=\"1\" class=\"dataframe\">\n",
       "  <thead>\n",
       "    <tr style=\"text-align: right;\">\n",
       "      <th></th>\n",
       "      <th>2000</th>\n",
       "      <th>2001</th>\n",
       "      <th>2002</th>\n",
       "      <th>2003</th>\n",
       "      <th>2004</th>\n",
       "      <th>2005</th>\n",
       "      <th>2006</th>\n",
       "      <th>2007</th>\n",
       "      <th>2008</th>\n",
       "      <th>2009</th>\n",
       "      <th>...</th>\n",
       "      <th>2013</th>\n",
       "      <th>2014</th>\n",
       "      <th>2015</th>\n",
       "      <th>2016</th>\n",
       "      <th>2017</th>\n",
       "      <th>2018</th>\n",
       "      <th>2019</th>\n",
       "      <th>2020</th>\n",
       "      <th>2021</th>\n",
       "      <th>2022</th>\n",
       "    </tr>\n",
       "  </thead>\n",
       "  <tbody>\n",
       "    <tr>\n",
       "      <th>Российская Федерация</th>\n",
       "      <td>18.0</td>\n",
       "      <td>17.6</td>\n",
       "      <td>19.1</td>\n",
       "      <td>19.7</td>\n",
       "      <td>19.9</td>\n",
       "      <td>21.9</td>\n",
       "      <td>23.5</td>\n",
       "      <td>23.9</td>\n",
       "      <td>24.4</td>\n",
       "      <td>24.9</td>\n",
       "      <td>...</td>\n",
       "      <td>22.8</td>\n",
       "      <td>32.6</td>\n",
       "      <td>30.1</td>\n",
       "      <td>29.8</td>\n",
       "      <td>30.2</td>\n",
       "      <td>30.1</td>\n",
       "      <td>30.4</td>\n",
       "      <td>33.5</td>\n",
       "      <td>32.1</td>\n",
       "      <td>31.5</td>\n",
       "    </tr>\n",
       "    <tr>\n",
       "      <th>Центральный федеральный округ</th>\n",
       "      <td>15.1</td>\n",
       "      <td>14.7</td>\n",
       "      <td>16.2</td>\n",
       "      <td>16.8</td>\n",
       "      <td>16.9</td>\n",
       "      <td>18.9</td>\n",
       "      <td>20.1</td>\n",
       "      <td>20.5</td>\n",
       "      <td>20.7</td>\n",
       "      <td>21.1</td>\n",
       "      <td>...</td>\n",
       "      <td>18.8</td>\n",
       "      <td>27.7</td>\n",
       "      <td>23.8</td>\n",
       "      <td>23.3</td>\n",
       "      <td>23.3</td>\n",
       "      <td>23.3</td>\n",
       "      <td>23.6</td>\n",
       "      <td>25.6</td>\n",
       "      <td>24.9</td>\n",
       "      <td>24.4</td>\n",
       "    </tr>\n",
       "    <tr>\n",
       "      <th>Белгородская область</th>\n",
       "      <td>19.2</td>\n",
       "      <td>19.1</td>\n",
       "      <td>21.9</td>\n",
       "      <td>23.1</td>\n",
       "      <td>23.5</td>\n",
       "      <td>25.7</td>\n",
       "      <td>27.3</td>\n",
       "      <td>27.7</td>\n",
       "      <td>28.6</td>\n",
       "      <td>28.4</td>\n",
       "      <td>...</td>\n",
       "      <td>26.9</td>\n",
       "      <td>33.8</td>\n",
       "      <td>30.6</td>\n",
       "      <td>29.6</td>\n",
       "      <td>29.3</td>\n",
       "      <td>29.3</td>\n",
       "      <td>29.2</td>\n",
       "      <td>32.2</td>\n",
       "      <td>30.5</td>\n",
       "      <td>29.9</td>\n",
       "    </tr>\n",
       "    <tr>\n",
       "      <th>Брянская область</th>\n",
       "      <td>21.0</td>\n",
       "      <td>20.3</td>\n",
       "      <td>23.5</td>\n",
       "      <td>24.6</td>\n",
       "      <td>25.1</td>\n",
       "      <td>26.9</td>\n",
       "      <td>27.3</td>\n",
       "      <td>27.8</td>\n",
       "      <td>28.1</td>\n",
       "      <td>28.5</td>\n",
       "      <td>...</td>\n",
       "      <td>28.1</td>\n",
       "      <td>39.9</td>\n",
       "      <td>37.5</td>\n",
       "      <td>36.8</td>\n",
       "      <td>38.3</td>\n",
       "      <td>38.8</td>\n",
       "      <td>43.2</td>\n",
       "      <td>45.3</td>\n",
       "      <td>42.6</td>\n",
       "      <td>41.9</td>\n",
       "    </tr>\n",
       "    <tr>\n",
       "      <th>Владимирская область</th>\n",
       "      <td>17.5</td>\n",
       "      <td>16.4</td>\n",
       "      <td>17.7</td>\n",
       "      <td>18.1</td>\n",
       "      <td>18.6</td>\n",
       "      <td>20.4</td>\n",
       "      <td>21.5</td>\n",
       "      <td>22.1</td>\n",
       "      <td>23.3</td>\n",
       "      <td>22.1</td>\n",
       "      <td>...</td>\n",
       "      <td>17.5</td>\n",
       "      <td>26.5</td>\n",
       "      <td>26.8</td>\n",
       "      <td>27.3</td>\n",
       "      <td>27.9</td>\n",
       "      <td>28.0</td>\n",
       "      <td>27.3</td>\n",
       "      <td>32.0</td>\n",
       "      <td>31.5</td>\n",
       "      <td>29.6</td>\n",
       "    </tr>\n",
       "    <tr>\n",
       "      <th>...</th>\n",
       "      <td>...</td>\n",
       "      <td>...</td>\n",
       "      <td>...</td>\n",
       "      <td>...</td>\n",
       "      <td>...</td>\n",
       "      <td>...</td>\n",
       "      <td>...</td>\n",
       "      <td>...</td>\n",
       "      <td>...</td>\n",
       "      <td>...</td>\n",
       "      <td>...</td>\n",
       "      <td>...</td>\n",
       "      <td>...</td>\n",
       "      <td>...</td>\n",
       "      <td>...</td>\n",
       "      <td>...</td>\n",
       "      <td>...</td>\n",
       "      <td>...</td>\n",
       "      <td>...</td>\n",
       "      <td>...</td>\n",
       "      <td>...</td>\n",
       "    </tr>\n",
       "    <tr>\n",
       "      <th>Амурская область</th>\n",
       "      <td>21.4</td>\n",
       "      <td>21.8</td>\n",
       "      <td>23.7</td>\n",
       "      <td>25.5</td>\n",
       "      <td>26.4</td>\n",
       "      <td>28.6</td>\n",
       "      <td>31.4</td>\n",
       "      <td>31.3</td>\n",
       "      <td>31.8</td>\n",
       "      <td>30.2</td>\n",
       "      <td>...</td>\n",
       "      <td>29.2</td>\n",
       "      <td>40.5</td>\n",
       "      <td>42.4</td>\n",
       "      <td>42.2</td>\n",
       "      <td>43.0</td>\n",
       "      <td>45.0</td>\n",
       "      <td>42.4</td>\n",
       "      <td>45.7</td>\n",
       "      <td>45.0</td>\n",
       "      <td>42.4</td>\n",
       "    </tr>\n",
       "    <tr>\n",
       "      <th>Магаданская область</th>\n",
       "      <td>37.4</td>\n",
       "      <td>36.7</td>\n",
       "      <td>41.2</td>\n",
       "      <td>43.6</td>\n",
       "      <td>44.7</td>\n",
       "      <td>53.4</td>\n",
       "      <td>57.9</td>\n",
       "      <td>60.5</td>\n",
       "      <td>62.5</td>\n",
       "      <td>65.3</td>\n",
       "      <td>...</td>\n",
       "      <td>63.8</td>\n",
       "      <td>84.3</td>\n",
       "      <td>78.2</td>\n",
       "      <td>74.9</td>\n",
       "      <td>76.6</td>\n",
       "      <td>75.9</td>\n",
       "      <td>72.2</td>\n",
       "      <td>80.6</td>\n",
       "      <td>74.0</td>\n",
       "      <td>77.9</td>\n",
       "    </tr>\n",
       "    <tr>\n",
       "      <th>Сахалинская область</th>\n",
       "      <td>28.6</td>\n",
       "      <td>28.0</td>\n",
       "      <td>30.6</td>\n",
       "      <td>31.0</td>\n",
       "      <td>31.8</td>\n",
       "      <td>35.8</td>\n",
       "      <td>35.5</td>\n",
       "      <td>37.5</td>\n",
       "      <td>37.8</td>\n",
       "      <td>39.1</td>\n",
       "      <td>...</td>\n",
       "      <td>32.1</td>\n",
       "      <td>37.0</td>\n",
       "      <td>42.9</td>\n",
       "      <td>42.6</td>\n",
       "      <td>42.5</td>\n",
       "      <td>42.4</td>\n",
       "      <td>42.9</td>\n",
       "      <td>45.9</td>\n",
       "      <td>46.9</td>\n",
       "      <td>46.5</td>\n",
       "    </tr>\n",
       "    <tr>\n",
       "      <th>Еврейская автономная область</th>\n",
       "      <td>37.9</td>\n",
       "      <td>38.7</td>\n",
       "      <td>39.7</td>\n",
       "      <td>40.8</td>\n",
       "      <td>40.4</td>\n",
       "      <td>45.0</td>\n",
       "      <td>47.2</td>\n",
       "      <td>49.1</td>\n",
       "      <td>50.3</td>\n",
       "      <td>47.5</td>\n",
       "      <td>...</td>\n",
       "      <td>48.9</td>\n",
       "      <td>67.9</td>\n",
       "      <td>70.0</td>\n",
       "      <td>66.9</td>\n",
       "      <td>74.5</td>\n",
       "      <td>75.5</td>\n",
       "      <td>74.6</td>\n",
       "      <td>93.1</td>\n",
       "      <td>93.7</td>\n",
       "      <td>79.9</td>\n",
       "    </tr>\n",
       "    <tr>\n",
       "      <th>Чукотский автономный округ</th>\n",
       "      <td>59.4</td>\n",
       "      <td>59.3</td>\n",
       "      <td>66.9</td>\n",
       "      <td>65.3</td>\n",
       "      <td>63.8</td>\n",
       "      <td>66.3</td>\n",
       "      <td>69.8</td>\n",
       "      <td>69.9</td>\n",
       "      <td>70.5</td>\n",
       "      <td>76.9</td>\n",
       "      <td>...</td>\n",
       "      <td>78.6</td>\n",
       "      <td>100.6</td>\n",
       "      <td>91.1</td>\n",
       "      <td>93.2</td>\n",
       "      <td>92.7</td>\n",
       "      <td>91.0</td>\n",
       "      <td>82.5</td>\n",
       "      <td>86.9</td>\n",
       "      <td>84.1</td>\n",
       "      <td>88.7</td>\n",
       "    </tr>\n",
       "  </tbody>\n",
       "</table>\n",
       "<p>96 rows × 23 columns</p>\n",
       "</div>"
      ],
      "text/plain": [
       "                               2000  2001  2002  2003  2004  2005  2006  2007  \\\n",
       "Российская Федерация           18.0  17.6  19.1  19.7  19.9  21.9  23.5  23.9   \n",
       "Центральный федеральный округ  15.1  14.7  16.2  16.8  16.9  18.9  20.1  20.5   \n",
       "Белгородская область           19.2  19.1  21.9  23.1  23.5  25.7  27.3  27.7   \n",
       "Брянская область               21.0  20.3  23.5  24.6  25.1  26.9  27.3  27.8   \n",
       "Владимирская область           17.5  16.4  17.7  18.1  18.6  20.4  21.5  22.1   \n",
       "...                             ...   ...   ...   ...   ...   ...   ...   ...   \n",
       "Амурская область               21.4  21.8  23.7  25.5  26.4  28.6  31.4  31.3   \n",
       "Магаданская область            37.4  36.7  41.2  43.6  44.7  53.4  57.9  60.5   \n",
       "Сахалинская область            28.6  28.0  30.6  31.0  31.8  35.8  35.5  37.5   \n",
       "Еврейская автономная область   37.9  38.7  39.7  40.8  40.4  45.0  47.2  49.1   \n",
       "Чукотский автономный округ     59.4  59.3  66.9  65.3  63.8  66.3  69.8  69.9   \n",
       "\n",
       "                               2008  2009  ...  2013   2014  2015  2016  2017  \\\n",
       "Российская Федерация           24.4  24.9  ...  22.8   32.6  30.1  29.8  30.2   \n",
       "Центральный федеральный округ  20.7  21.1  ...  18.8   27.7  23.8  23.3  23.3   \n",
       "Белгородская область           28.6  28.4  ...  26.9   33.8  30.6  29.6  29.3   \n",
       "Брянская область               28.1  28.5  ...  28.1   39.9  37.5  36.8  38.3   \n",
       "Владимирская область           23.3  22.1  ...  17.5   26.5  26.8  27.3  27.9   \n",
       "...                             ...   ...  ...   ...    ...   ...   ...   ...   \n",
       "Амурская область               31.8  30.2  ...  29.2   40.5  42.4  42.2  43.0   \n",
       "Магаданская область            62.5  65.3  ...  63.8   84.3  78.2  74.9  76.6   \n",
       "Сахалинская область            37.8  39.1  ...  32.1   37.0  42.9  42.6  42.5   \n",
       "Еврейская автономная область   50.3  47.5  ...  48.9   67.9  70.0  66.9  74.5   \n",
       "Чукотский автономный округ     70.5  76.9  ...  78.6  100.6  91.1  93.2  92.7   \n",
       "\n",
       "                               2018  2019  2020  2021  2022  \n",
       "Российская Федерация           30.1  30.4  33.5  32.1  31.5  \n",
       "Центральный федеральный округ  23.3  23.6  25.6  24.9  24.4  \n",
       "Белгородская область           29.3  29.2  32.2  30.5  29.9  \n",
       "Брянская область               38.8  43.2  45.3  42.6  41.9  \n",
       "Владимирская область           28.0  27.3  32.0  31.5  29.6  \n",
       "...                             ...   ...   ...   ...   ...  \n",
       "Амурская область               45.0  42.4  45.7  45.0  42.4  \n",
       "Магаданская область            75.9  72.2  80.6  74.0  77.9  \n",
       "Сахалинская область            42.4  42.9  45.9  46.9  46.5  \n",
       "Еврейская автономная область   75.5  74.6  93.1  93.7  79.9  \n",
       "Чукотский автономный округ     91.0  82.5  86.9  84.1  88.7  \n",
       "\n",
       "[96 rows x 23 columns]"
      ]
     },
     "execution_count": 125,
     "metadata": {},
     "output_type": "execute_result"
    }
   ],
   "source": [
    "officials_number_1000_busy"
   ]
  },
  {
   "cell_type": "code",
   "execution_count": 126,
   "id": "a70cc1ba-62c3-46b4-add5-94e549a76cf9",
   "metadata": {},
   "outputs": [],
   "source": [
    "officials_number_1000_busy_rf = officials_number_1000_busy.iloc[0, :].copy()"
   ]
  },
  {
   "cell_type": "code",
   "execution_count": 127,
   "id": "37e36220-282b-4659-ab5d-f47e01175882",
   "metadata": {},
   "outputs": [],
   "source": [
    "officials_number_1000_busy_rf_smoothed = smoothed(\n",
    "    arange(2000, 2022, True), officials_number_1000_busy_rf, return_type='df')"
   ]
  },
  {
   "cell_type": "code",
   "execution_count": 128,
   "id": "f67d4b42-3784-419f-bca4-9510560171e0",
   "metadata": {},
   "outputs": [
    {
     "data": {
      "text/html": [
       "<div>\n",
       "<style scoped>\n",
       "    .dataframe tbody tr th:only-of-type {\n",
       "        vertical-align: middle;\n",
       "    }\n",
       "\n",
       "    .dataframe tbody tr th {\n",
       "        vertical-align: top;\n",
       "    }\n",
       "\n",
       "    .dataframe thead th {\n",
       "        text-align: right;\n",
       "    }\n",
       "</style>\n",
       "<table border=\"1\" class=\"dataframe\">\n",
       "  <thead>\n",
       "    <tr style=\"text-align: right;\">\n",
       "      <th></th>\n",
       "      <th>value</th>\n",
       "    </tr>\n",
       "  </thead>\n",
       "  <tbody>\n",
       "    <tr>\n",
       "      <th>2000.000000</th>\n",
       "      <td>18.000000</td>\n",
       "    </tr>\n",
       "    <tr>\n",
       "      <th>2000.073579</th>\n",
       "      <td>17.829790</td>\n",
       "    </tr>\n",
       "    <tr>\n",
       "      <th>2000.147157</th>\n",
       "      <td>17.687288</td>\n",
       "    </tr>\n",
       "    <tr>\n",
       "      <th>2000.220736</th>\n",
       "      <td>17.571110</td>\n",
       "    </tr>\n",
       "    <tr>\n",
       "      <th>2000.294314</th>\n",
       "      <td>17.479873</td>\n",
       "    </tr>\n",
       "  </tbody>\n",
       "</table>\n",
       "</div>"
      ],
      "text/plain": [
       "                 value\n",
       "2000.000000  18.000000\n",
       "2000.073579  17.829790\n",
       "2000.147157  17.687288\n",
       "2000.220736  17.571110\n",
       "2000.294314  17.479873"
      ]
     },
     "execution_count": 128,
     "metadata": {},
     "output_type": "execute_result"
    }
   ],
   "source": [
    "officials_number_1000_busy_rf_smoothed.head()"
   ]
  },
  {
   "cell_type": "code",
   "execution_count": null,
   "id": "4cb60a1b-c34d-4b28-a634-afcf8956fe9e",
   "metadata": {},
   "outputs": [
    {
     "data": {
      "image/png": "[encoded data removed]",
      "text/plain": [
       "<Figure size 1100x250 with 1 Axes>"
      ]
     },
     "metadata": {},
     "output_type": "display_data"
    }
   ],
   "source": [
    "fig, ax = plt.subplots(figsize=(11, 2.5))\n",
    "plt.plot(officials_number_1000_busy_rf_smoothed)\n",
    "\n",
    "plot_fill_between(\n",
    "    x=officials_number_1000_busy_rf_smoothed.loc[2000:2008].index,\n",
    "    y1=15, y2=officials_number_1000_busy_rf_smoothed.loc[2000:2008, 'value'],\n",
    "    color=palette[2], alpha=0.2, ax=ax,\n",
    "    label='Первые два срока В. Путина')\n",
    "plot_fill_between(\n",
    "    x=officials_number_1000_busy_rf_smoothed.loc[2008:2012].index,\n",
    "    y1=15, y2=officials_number_1000_busy_rf_smoothed.loc[2008:2012, 'value'],\n",
    "    color=palette[3], alpha=0.2, ax=ax,\n",
    "    label='Президентство Д. Медведева')\n",
    "plot_fill_between(\n",
    "    x=officials_number_1000_busy_rf_smoothed.loc[2012:].index,\n",
    "    y1=15, y2=officials_number_1000_busy_rf_smoothed.loc[2012:, 'value'],\n",
    "    color=palette[1], alpha=0.2, ax=ax,\n",
    "    label='Последующие сроки В. Путина')\n",
    "\n",
    "plt.legend(**legend_inline, ncols=3, fontsize=9)\n",
    "axis_rstyle(\n",
    "    x_ticks=[2000, 2022, 2],\n",
    "    y_ticks=[15, 35, 5]\n",
    ")\n",
    "plt.show()\n",
    "\n",
    "savefig('officials_1000_workers', dir=dir, dpi=100)"
   ]
  },
  {
   "cell_type": "markdown",
   "id": "1ef626a2-1e0d-452a-ae40-f71fbfc0eb04",
   "metadata": {},
   "source": [
    "# Губернаторы"
   ]
  },
  {
   "cell_type": "code",
   "execution_count": null,
   "id": "b8b0b92d-b0ca-4535-a78e-6e16a6b4e371",
   "metadata": {},
   "outputs": [],
   "source": [
    "piro = economics_data['12.02'].copy()"
   ]
  },
  {
   "cell_type": "code",
   "execution_count": null,
   "id": "f21d0dc1-e028-42aa-a13b-7ad0aabeb339",
   "metadata": {},
   "outputs": [],
   "source": [
    "piro.iloc[:, :7]"
   ]
  },
  {
   "cell_type": "code",
   "execution_count": null,
   "id": "a8e6cf52-c148-40c2-9f08-4e817633c3ab",
   "metadata": {},
   "outputs": [],
   "source": [
    "piro.iloc[:, 7:19]"
   ]
  },
  {
   "cell_type": "code",
   "execution_count": null,
   "id": "b8fd1dbd-1a97-4a69-902b-a98e2acd3ec1",
   "metadata": {},
   "outputs": [],
   "source": [
    "piro.iloc[:, 19:29]"
   ]
  },
  {
   "cell_type": "code",
   "execution_count": null,
   "id": "09c901c7-2f9f-4489-9025-e76a00b63718",
   "metadata": {},
   "outputs": [],
   "source": [
    "piro.iloc[:, 29:53]"
   ]
  },
  {
   "cell_type": "code",
   "execution_count": null,
   "id": "d7f692b3-cc91-44f9-9431-6753a94fefce",
   "metadata": {},
   "outputs": [],
   "source": [
    "print(piro.columns.tolist())"
   ]
  },
  {
   "cell_type": "markdown",
   "id": "5fd02137-0ed0-48af-998d-187e5b15d6f1",
   "metadata": {},
   "source": [
    "### Средний возраст\n",
    "\n",
    "Средний возраст назначения губернаторов для всех трех периодов не различается."
   ]
  },
  {
   "cell_type": "code",
   "execution_count": null,
   "id": "063b7fb0-54c7-449b-a09d-57235134c06a",
   "metadata": {},
   "outputs": [],
   "source": [
    "putin_12_gov = piro[piro['appP12']==1].copy()"
   ]
  },
  {
   "cell_type": "code",
   "execution_count": null,
   "id": "02d0a7f6-ab31-4134-aa04-c6cd1c0e3efe",
   "metadata": {},
   "outputs": [],
   "source": [
    "putin_12_gov.shape"
   ]
  },
  {
   "cell_type": "code",
   "execution_count": null,
   "id": "83cd53ba-5de2-4d87-890a-3b0682c43222",
   "metadata": {},
   "outputs": [],
   "source": [
    "putin_12_gov['age_entrd'].median()"
   ]
  },
  {
   "cell_type": "code",
   "execution_count": null,
   "id": "2b7748fd-318a-40b8-a62c-9878a2160709",
   "metadata": {},
   "outputs": [],
   "source": [
    "sns.barplot(putin_12_gov['age_entrd'].value_counts())"
   ]
  },
  {
   "cell_type": "code",
   "execution_count": null,
   "id": "997731c8-3f90-4e6b-bf4b-f557e304a7de",
   "metadata": {},
   "outputs": [],
   "source": [
    "medved_gov = piro[piro['appM']==1].copy()"
   ]
  },
  {
   "cell_type": "code",
   "execution_count": null,
   "id": "a3b88eba-c867-4ef8-a9ef-2a25472a744a",
   "metadata": {},
   "outputs": [],
   "source": [
    "medved_gov.shape"
   ]
  },
  {
   "cell_type": "code",
   "execution_count": null,
   "id": "2390030f-bbfb-4e3f-909e-2249fadaa704",
   "metadata": {},
   "outputs": [],
   "source": [
    "medved_gov['age_entrd'].median()"
   ]
  },
  {
   "cell_type": "code",
   "execution_count": null,
   "id": "3a07fbd3-14c3-424c-adec-155db389dc6d",
   "metadata": {},
   "outputs": [],
   "source": [
    "sns.barplot(medved_gov['age_entrd'].value_counts())"
   ]
  },
  {
   "cell_type": "code",
   "execution_count": null,
   "id": "78164428-f87e-44c2-a18c-5d943bbac367",
   "metadata": {},
   "outputs": [],
   "source": [
    "putin_34_gov = piro[piro['appP34']==1].copy()"
   ]
  },
  {
   "cell_type": "code",
   "execution_count": null,
   "id": "524247da-8c9a-497d-97c0-80f3ba9e75c5",
   "metadata": {},
   "outputs": [],
   "source": [
    "putin_34_gov.shape"
   ]
  },
  {
   "cell_type": "code",
   "execution_count": null,
   "id": "d0da1e1f-c655-4601-ab4e-5d2299ee8887",
   "metadata": {},
   "outputs": [],
   "source": [
    "putin_34_gov['age_entrd'].median()"
   ]
  },
  {
   "cell_type": "code",
   "execution_count": null,
   "id": "1f0a66e8-622e-4750-9db3-5a78f8a11f04",
   "metadata": {},
   "outputs": [],
   "source": [
    "sns.barplot(putin_34_gov['age_entrd'].value_counts())"
   ]
  },
  {
   "cell_type": "markdown",
   "id": "5cb1b965-3411-4071-b82a-baf8a7d01ba1",
   "metadata": {},
   "source": [
    "### Карьера после губернаторства\n",
    "\n",
    "Особого изменения не заметно."
   ]
  },
  {
   "cell_type": "code",
   "execution_count": null,
   "id": "7c21c27e-3d6b-4fbc-ab7c-d36040485e87",
   "metadata": {},
   "outputs": [],
   "source": [
    "columns_career = [\n",
    "    'governor_name', 'lft', 'prmtd', 'gvrnr_another_region', 'sm_lvl', \n",
    "    'hnr_pens', 'dmtd', 'left_wo_problems', 'left_w_problems', 'frd_rough', 'died',\n",
    "    'lftP12', 'lftM', 'lftP34'\n",
    "]"
   ]
  },
  {
   "cell_type": "code",
   "execution_count": null,
   "id": "d4933173-8ba1-4034-82b0-0f15cab87e6a",
   "metadata": {},
   "outputs": [],
   "source": [
    "cols_status = [\n",
    "    'prmtd', 'gvrnr_another_region', 'sm_lvl', \n",
    "    'hnr_pens', 'dmtd', 'left_wo_problems', 'left_w_problems', 'frd_rough', 'died'\n",
    "]"
   ]
  },
  {
   "cell_type": "code",
   "execution_count": null,
   "id": "a8e01626-a5f2-4450-89f0-c8520d833d32",
   "metadata": {},
   "outputs": [],
   "source": [
    "cols_loyal = [\n",
    "    'prmtd'\n",
    "]"
   ]
  },
  {
   "cell_type": "code",
   "execution_count": null,
   "id": "4a74345a-0115-4bd9-a896-aacb2bc29550",
   "metadata": {},
   "outputs": [],
   "source": [
    "cols_neural = [\n",
    "    'dmtd', 'left_wo_problems', 'hnr_pens',\n",
    "]"
   ]
  },
  {
   "cell_type": "code",
   "execution_count": null,
   "id": "12a28c1e-fb92-48ba-a0fb-a3e77cf828f9",
   "metadata": {},
   "outputs": [],
   "source": [
    "cols_sanctions = [\n",
    "    'left_w_problems', 'frd_rough',\n",
    "]"
   ]
  },
  {
   "cell_type": "code",
   "execution_count": null,
   "id": "d928be33-5152-460a-a374-6fe25708d627",
   "metadata": {},
   "outputs": [],
   "source": [
    "piro_career = piro[columns_career].copy()"
   ]
  },
  {
   "cell_type": "code",
   "execution_count": null,
   "id": "209d6ccb-9999-42cd-a959-62f90fa0d817",
   "metadata": {},
   "outputs": [],
   "source": [
    "piro_career = piro_career.applymap(to_int)"
   ]
  },
  {
   "cell_type": "code",
   "execution_count": null,
   "id": "00cc67e5-2e23-4529-9ec8-63bfada47c31",
   "metadata": {},
   "outputs": [],
   "source": [
    "is_nan(piro_career)"
   ]
  },
  {
   "cell_type": "code",
   "execution_count": null,
   "id": "34364414-e3f8-47a1-b3ad-4efa30b53f42",
   "metadata": {},
   "outputs": [],
   "source": [
    "# drop who worked less than year \n",
    "piro_career = piro_career.dropna()"
   ]
  },
  {
   "cell_type": "code",
   "execution_count": null,
   "id": "a95e3f3c-1253-4e07-bc91-38f6d5543b0e",
   "metadata": {},
   "outputs": [],
   "source": [
    "is_nan(piro_career)"
   ]
  },
  {
   "cell_type": "code",
   "execution_count": null,
   "id": "8d87d416-3544-4a39-8214-36b82b8ace10",
   "metadata": {},
   "outputs": [],
   "source": [
    "piro_career_putin_12 = piro_career[piro_career['lftP12']==1].copy()"
   ]
  },
  {
   "cell_type": "code",
   "execution_count": null,
   "id": "bf9ae2fa-235c-46d9-a553-43bda75e5217",
   "metadata": {},
   "outputs": [],
   "source": [
    "piro_career_medved = piro_career[piro_career['lftM']==1].copy()"
   ]
  },
  {
   "cell_type": "code",
   "execution_count": null,
   "id": "e704535f-bae4-4af5-be99-c83871a18092",
   "metadata": {},
   "outputs": [],
   "source": [
    "piro_career_putin_34 = piro_career[piro_career['lftP34']==1].copy()"
   ]
  },
  {
   "cell_type": "code",
   "execution_count": null,
   "id": "7f72a407-390b-4ab5-9eae-0b032218a722",
   "metadata": {},
   "outputs": [],
   "source": [
    "for df in [piro_career_putin_12, piro_career_medved, piro_career_putin_34]:\n",
    "    df['promoted'] = df[cols_loyal].sum(axis=1)\n",
    "    df['neural'] = df[cols_neural].sum(axis=1)\n",
    "    df['sanctions'] = df[cols_sanctions].sum(axis=1)"
   ]
  },
  {
   "cell_type": "code",
   "execution_count": null,
   "id": "36c5212f-5097-4ed6-9c70-4feb5c71aa77",
   "metadata": {},
   "outputs": [],
   "source": [
    "cols_agg_status = ['promoted', 'neural', 'sanctions']"
   ]
  },
  {
   "cell_type": "code",
   "execution_count": null,
   "id": "0cec0b74-ada9-40c3-87bf-106193414fbd",
   "metadata": {},
   "outputs": [],
   "source": [
    "piro_career_putin_12_agg = piro_career_putin_12[cols_agg_status].sum()"
   ]
  },
  {
   "cell_type": "code",
   "execution_count": null,
   "id": "8c92327f-b2de-4eed-aead-be32d07fa469",
   "metadata": {},
   "outputs": [],
   "source": [
    "piro_career_medved_agg = piro_career_medved[cols_agg_status].sum()"
   ]
  },
  {
   "cell_type": "code",
   "execution_count": null,
   "id": "b13f14a4-404d-4d2e-9aae-76353ba4c41b",
   "metadata": {},
   "outputs": [],
   "source": [
    "piro_career_putin_34_agg = piro_career_putin_34[cols_agg_status].sum()"
   ]
  },
  {
   "cell_type": "code",
   "execution_count": null,
   "id": "ae1ee0e4-e51a-4af7-92d3-6213ec560797",
   "metadata": {},
   "outputs": [],
   "source": [
    "piro_career_agg = pd.concat([\n",
    "    piro_career_putin_12_agg, piro_career_medved_agg, piro_career_putin_34_agg\n",
    "], axis=1, )"
   ]
  },
  {
   "cell_type": "code",
   "execution_count": null,
   "id": "d1fc258e-04f2-4b4e-b618-d6294a19ca2e",
   "metadata": {},
   "outputs": [],
   "source": [
    "piro_career_agg.columns = ['pt12', 'med', 'pt34']"
   ]
  },
  {
   "cell_type": "code",
   "execution_count": null,
   "id": "4d9ba4ec-249e-4cce-a040-e31747a04469",
   "metadata": {},
   "outputs": [],
   "source": [
    "piro_career_agg"
   ]
  },
  {
   "cell_type": "code",
   "execution_count": null,
   "id": "33740d17-7e1f-4dd0-8ee9-0ca59d3f3528",
   "metadata": {},
   "outputs": [],
   "source": [
    "piro_career_agg"
   ]
  },
  {
   "cell_type": "code",
   "execution_count": null,
   "id": "0ed3d11d-c3be-4622-abec-701ca9b3256c",
   "metadata": {},
   "outputs": [],
   "source": [
    "piro_career_agg_perc = (100.0*piro_career_agg / piro_career_agg.sum()).round(0)"
   ]
  },
  {
   "cell_type": "code",
   "execution_count": null,
   "id": "6c35604a-9b90-4e1d-beea-45f610dd93a1",
   "metadata": {},
   "outputs": [],
   "source": [
    "piro_career_agg_perc = piro_career_agg_perc.T"
   ]
  },
  {
   "cell_type": "code",
   "execution_count": null,
   "id": "6b185a52-1e25-4d05-a778-3f9f54a680c1",
   "metadata": {},
   "outputs": [],
   "source": [
    "piro_career_agg_perc"
   ]
  },
  {
   "cell_type": "code",
   "execution_count": null,
   "id": "728826cb-810b-427c-99a1-1373a0698b71",
   "metadata": {},
   "outputs": [],
   "source": [
    "sns.pointplot(piro_career_agg_perc['promoted'], lw=1.5, color=palette[3], label='Promoted')\n",
    "sns.pointplot(piro_career_agg_perc['neural'], lw=1.5, color=palette[0], label='Neural')\n",
    "sns.pointplot(piro_career_agg_perc['sanctions'], lw=1.5, color=palette[1], label='Senctions')\n",
    "plt.legend(**legend_inline, ncols=3)\n",
    "plt.ylabel('Percentages')\n",
    "plt.show()"
   ]
  },
  {
   "cell_type": "markdown",
   "id": "0bdb805d-e172-413a-8edd-32fed02ad978",
   "metadata": {},
   "source": [
    "#### 123"
   ]
  },
  {
   "cell_type": "code",
   "execution_count": null,
   "id": "efb7df13-8603-475f-997e-808a2726e8fa",
   "metadata": {},
   "outputs": [],
   "source": []
  },
  {
   "cell_type": "code",
   "execution_count": null,
   "id": "052999d4-d35c-4934-aa3d-e205959a3d9a",
   "metadata": {},
   "outputs": [],
   "source": []
  },
  {
   "cell_type": "code",
   "execution_count": null,
   "id": "3a125cb5-dfef-48ea-8613-1141ee290b2d",
   "metadata": {},
   "outputs": [],
   "source": []
  }
 ],
 "metadata": {
  "kernelspec": {
   "display_name": "venv_pers_economics_rus",
   "language": "python",
   "name": "venv_pers_economics_rus"
  },
  "language_info": {
   "codemirror_mode": {
    "name": "ipython",
    "version": 3
   },
   "file_extension": ".py",
   "mimetype": "text/x-python",
   "name": "python",
   "nbconvert_exporter": "python",
   "pygments_lexer": "ipython3",
   "version": "3.12.2"
  }
 },
 "nbformat": 4,
 "nbformat_minor": 5
}
