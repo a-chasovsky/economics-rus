{
 "cells": [
  {
   "cell_type": "markdown",
   "id": "a9e30c7e-1c65-4e3f-b921-001f6f2e9511",
   "metadata": {
    "jp-MarkdownHeadingCollapsed": true
   },
   "source": [
    "### Load Saved Section if exists"
   ]
  },
  {
   "cell_type": "raw",
   "id": "3b55f888-9b80-4459-85ba-2aa369b8b365",
   "metadata": {},
   "source": [
    "if os.path.exists(f'sessions/{dir}'):\n",
    "    load_session(dir)\n",
    "else:\n",
    "    print(f\"No such session: 'sessions/{dir}'\")"
   ]
  },
  {
   "cell_type": "markdown",
   "id": "3d152930-8f4f-4fce-a315-35fec5248f7e",
   "metadata": {},
   "source": [
    "### Load libraries, functions, palette, theme"
   ]
  },
  {
   "cell_type": "code",
   "execution_count": 1,
   "id": "c95642f5-2edc-4576-8fbc-773fc8f09188",
   "metadata": {},
   "outputs": [],
   "source": [
    "import os"
   ]
  },
  {
   "cell_type": "code",
   "execution_count": 2,
   "id": "aecc0dbd-1858-4e24-a1ab-95233ccb11e5",
   "metadata": {},
   "outputs": [],
   "source": [
    "# change directory for the one with libraries, etc.\n",
    "path = \\\n",
    "    ('/Users/a.chasovsky/Library/CloudStorage/GoogleDrive-alexanderchasovsky@gmail.com/'\n",
    "     'Мой диск/Data Science Projects/pers_economics_rus/')\n",
    "os.chdir(path)\n",
    "# run stopwatch\n",
    "from _classes import Stopwatch\n",
    "stopwatch = Stopwatch()\n",
    "start = stopwatch.start()\n",
    "# import libraries, etc.\n",
    "%run _load.ipynb\n",
    "# and go back to current directory\n",
    "os.chdir(current_path)"
   ]
  },
  {
   "cell_type": "code",
   "execution_count": 3,
   "id": "6a91ecb5-9005-4828-8ab8-91c2e3acd031",
   "metadata": {},
   "outputs": [],
   "source": [
    "dir = 'analytics/visualization/'"
   ]
  },
  {
   "cell_type": "code",
   "execution_count": 4,
   "id": "72ab5eec-783e-40e3-a355-0aea69ed6513",
   "metadata": {},
   "outputs": [],
   "source": [
    "economics_data = loadit('economics_data', dir='data/00-Datasets/')"
   ]
  },
  {
   "cell_type": "code",
   "execution_count": 5,
   "id": "52a361a5-f03e-4894-9c3a-e629990a1702",
   "metadata": {},
   "outputs": [
    {
     "data": {
      "text/plain": [
       "90"
      ]
     },
     "execution_count": 5,
     "metadata": {},
     "output_type": "execute_result"
    }
   ],
   "source": [
    "len(economics_data)"
   ]
  },
  {
   "cell_type": "markdown",
   "id": "7972c2f0-f9ee-40af-aa09-a3a9e70da9d2",
   "metadata": {},
   "source": [
    "## <font color='#2A5899'> Промышленность"
   ]
  },
  {
   "cell_type": "code",
   "execution_count": null,
   "id": "be11cca6-93ac-40df-bb13-be7f18b65a4c",
   "metadata": {},
   "outputs": [],
   "source": []
  },
  {
   "cell_type": "code",
   "execution_count": null,
   "id": "01420b81-2888-4659-9ab4-849db275ba25",
   "metadata": {},
   "outputs": [],
   "source": []
  },
  {
   "cell_type": "code",
   "execution_count": null,
   "id": "719fda58-2cc3-457c-b5a2-337e2946cd94",
   "metadata": {},
   "outputs": [],
   "source": []
  },
  {
   "cell_type": "code",
   "execution_count": null,
   "id": "39f8d9f5-7c70-4ed7-aff4-4ddea4bfc46e",
   "metadata": {},
   "outputs": [],
   "source": []
  }
 ],
 "metadata": {
  "kernelspec": {
   "display_name": "venv_pers_economics_rus",
   "language": "python",
   "name": "venv_pers_economics_rus"
  },
  "language_info": {
   "codemirror_mode": {
    "name": "ipython",
    "version": 3
   },
   "file_extension": ".py",
   "mimetype": "text/x-python",
   "name": "python",
   "nbconvert_exporter": "python",
   "pygments_lexer": "ipython3",
   "version": "3.12.1"
  }
 },
 "nbformat": 4,
 "nbformat_minor": 5
}
